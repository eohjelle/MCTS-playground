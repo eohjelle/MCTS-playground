{
 "cells": [
  {
   "cell_type": "code",
   "execution_count": 1,
   "metadata": {},
   "outputs": [
    {
     "name": "stdout",
     "output_type": "stream",
     "text": [
      "Working directory: /Users/eohjelle/Documents/2025-dots-and-boxes/dots-and-boxes\n"
     ]
    }
   ],
   "source": [
    "# Change directory to the root of the project\n",
    "import os \n",
    "os.chdir('..')\n",
    "os.chdir('..')\n",
    "os.chdir('..')\n",
    "print(f\"Working directory: {os.getcwd()}\")"
   ]
  },
  {
   "cell_type": "code",
   "execution_count": 2,
   "metadata": {},
   "outputs": [],
   "source": [
    "from applications.tic_tac_toe.models.mlp_model import MLPInitParams\n",
    "import torch\n",
    "\n",
    "# Initialize parameters\n",
    "\n",
    "## Model parameters\n",
    "model_type = 'mlp'\n",
    "model_params: MLPInitParams = {\n",
    "    'hidden_sizes': [128, 512, 512, 128]\n",
    "}\n",
    "device = torch.device('mps')\n",
    "model_name = 'tic_tac_toe_mlp'\n",
    "\n",
    "## Initialize new model\n",
    "load_model = None\n",
    "load_model_params = {}\n",
    "\n",
    "\n",
    "## Optimizer parameters\n",
    "optimizer_type = 'adam'\n",
    "optimizer_params = {\n",
    "    'lr': 1e-2,\n",
    "    'betas': (0.9, 0.999),\n",
    "    'eps': 1e-8,\n",
    "    'weight_decay': 1e-4,\n",
    "    'amsgrad': False\n",
    "}\n",
    "\n",
    "## Learning scheduler parameters\n",
    "lr_scheduler_type = 'plateau'\n",
    "lr_scheduler_params = {\n",
    "    'factor': 0.5,\n",
    "    'patience': 25,\n",
    "    'cooldown': 50,\n",
    "    'min_lr': 1e-6\n",
    "}\n",
    "\n",
    "## Training parameters\n",
    "training_method = 'supervised'\n",
    "trainer_params = {}\n",
    "training_params = {\n",
    "    'epochs': 200,\n",
    "    'batch_size': 256,\n",
    "    'eval_freq': 25,\n",
    "    'checkpoint_freq': 50,\n",
    "    'mask_illegal_moves': False,\n",
    "    'mask_value': -20.0, # Doesn't matter when mask_illegal_moves is False\n",
    "    'checkpoint_dir': 'checkpoints',\n",
    "    'start_at': 1\n",
    "}\n",
    "\n",
    "## Load replay buffer from wandb\n",
    "load_replay_buffer = 'from_wandb'\n",
    "load_replay_buffer_params = {\n",
    "    'project': 'AlphaZero-TicTacToe',\n",
    "    'artifact_name': f'tic_tac_toe_MLPTensorMapping_training_data',\n",
    "    'artifact_version': 'latest'\n",
    "}\n"
   ]
  },
  {
   "cell_type": "code",
   "execution_count": null,
   "metadata": {},
   "outputs": [
    {
     "name": "stderr",
     "output_type": "stream",
     "text": [
      "\u001b[34m\u001b[1mwandb\u001b[0m: Currently logged in as: \u001b[33meohjelle\u001b[0m (\u001b[33meigenway\u001b[0m) to \u001b[32mhttps://api.wandb.ai\u001b[0m. Use \u001b[1m`wandb login --relogin`\u001b[0m to force relogin\n",
      "\u001b[34m\u001b[1mwandb\u001b[0m: Using wandb-core as the SDK backend.  Please refer to https://wandb.me/wandb-core for more information.\n"
     ]
    },
    {
     "data": {
      "text/html": [
       "Tracking run with wandb version 0.19.6"
      ],
      "text/plain": [
       "<IPython.core.display.HTML object>"
      ]
     },
     "metadata": {},
     "output_type": "display_data"
    },
    {
     "data": {
      "text/html": [
       "Run data is saved locally in <code>/Users/eohjelle/Documents/2025-dots-and-boxes/dots-and-boxes/wandb/run-20250316_180448-ko9o9rjd</code>"
      ],
      "text/plain": [
       "<IPython.core.display.HTML object>"
      ]
     },
     "metadata": {},
     "output_type": "display_data"
    },
    {
     "data": {
      "text/html": [
       "Syncing run <strong><a href='https://wandb.ai/eigenway/AlphaZero-TicTacToe/runs/ko9o9rjd' target=\"_blank\">MLP 2</a></strong> to <a href='https://wandb.ai/eigenway/AlphaZero-TicTacToe' target=\"_blank\">Weights & Biases</a> (<a href='https://wandb.me/developer-guide' target=\"_blank\">docs</a>)<br>"
      ],
      "text/plain": [
       "<IPython.core.display.HTML object>"
      ]
     },
     "metadata": {},
     "output_type": "display_data"
    },
    {
     "data": {
      "text/html": [
       " View project at <a href='https://wandb.ai/eigenway/AlphaZero-TicTacToe' target=\"_blank\">https://wandb.ai/eigenway/AlphaZero-TicTacToe</a>"
      ],
      "text/plain": [
       "<IPython.core.display.HTML object>"
      ]
     },
     "metadata": {},
     "output_type": "display_data"
    },
    {
     "data": {
      "text/html": [
       " View run at <a href='https://wandb.ai/eigenway/AlphaZero-TicTacToe/runs/ko9o9rjd' target=\"_blank\">https://wandb.ai/eigenway/AlphaZero-TicTacToe/runs/ko9o9rjd</a>"
      ],
      "text/plain": [
       "<IPython.core.display.HTML object>"
      ]
     },
     "metadata": {},
     "output_type": "display_data"
    }
   ],
   "source": [
    "# Initialize wandb run\n",
    "import wandb\n",
    "\n",
    "run_name = 'MLP 2'\n",
    "notes = 'Squeeze output of value head, should now yield same shape as target values. Otherwise same as v1.'\n",
    "\n",
    "config = {\n",
    "    'model_type': model_type,\n",
    "    'model_params': model_params,\n",
    "    'optimizer_type': optimizer_type,\n",
    "    'optimizer_params': optimizer_params,\n",
    "    'lr_scheduler_type': lr_scheduler_type,\n",
    "    'lr_scheduler_params': lr_scheduler_params,\n",
    "    'training_method': training_method,\n",
    "    'trainer_params': trainer_params,\n",
    "    'training_params': training_params\n",
    "}\n",
    "\n",
    "run = wandb.init(\n",
    "    project='AlphaZero-TicTacToe',\n",
    "    name=run_name,\n",
    "    config=config,\n",
    "    notes=notes\n",
    ")"
   ]
  },
  {
   "cell_type": "code",
   "execution_count": 4,
   "metadata": {},
   "outputs": [
    {
     "name": "stderr",
     "output_type": "stream",
     "text": [
      "\u001b[34m\u001b[1mwandb\u001b[0m: logging graph, to disable use `wandb.watch(log_graph=False)`\n",
      "\u001b[34m\u001b[1mwandb\u001b[0m:   1 of 1 files downloaded.  \n",
      "/Users/eohjelle/Documents/2025-dots-and-boxes/dots-and-boxes/core/data_structures.py:94: FutureWarning: You are using `torch.load` with `weights_only=False` (the current default value), which uses the default pickle module implicitly. It is possible to construct malicious pickle data which will execute arbitrary code during unpickling (See https://github.com/pytorch/pytorch/blob/main/SECURITY.md#untrusted-models for more details). In a future release, the default value for `weights_only` will be flipped to `True`. This limits the functions that could be executed during unpickling. Arbitrary objects will no longer be allowed to be loaded via this mode unless they are explicitly allowlisted by the user via `torch.serialization.add_safe_globals`. We recommend you start setting `weights_only=True` for any use case where you don't have full control of the loaded file. Please open an issue on GitHub for any issues related to this experimental feature.\n",
      "  checkpoint = torch.load(path, map_location=device)\n"
     ]
    },
    {
     "name": "stdout",
     "output_type": "stream",
     "text": [
      "Epoch 1/200, Train Loss: 2.4970, Val Loss: 2.3650, Learning rate: 0.010000\n",
      "Epoch 2/200, Train Loss: 2.2653, Val Loss: 2.1497, Learning rate: 0.010000\n",
      "Epoch 3/200, Train Loss: 1.9891, Val Loss: 1.8764, Learning rate: 0.010000\n",
      "Epoch 4/200, Train Loss: 1.6724, Val Loss: 1.4674, Learning rate: 0.010000\n",
      "Epoch 5/200, Train Loss: 1.4001, Val Loss: 1.2563, Learning rate: 0.010000\n",
      "Epoch 6/200, Train Loss: 1.1917, Val Loss: 1.0988, Learning rate: 0.010000\n",
      "Epoch 7/200, Train Loss: 1.0200, Val Loss: 1.0121, Learning rate: 0.010000\n",
      "Epoch 8/200, Train Loss: 0.8747, Val Loss: 0.9052, Learning rate: 0.010000\n",
      "Epoch 9/200, Train Loss: 0.7678, Val Loss: 0.8418, Learning rate: 0.010000\n",
      "Epoch 10/200, Train Loss: 0.7102, Val Loss: 0.8230, Learning rate: 0.010000\n",
      "Epoch 11/200, Train Loss: 0.6699, Val Loss: 0.7870, Learning rate: 0.010000\n",
      "Epoch 12/200, Train Loss: 0.6344, Val Loss: 0.7301, Learning rate: 0.010000\n",
      "Epoch 13/200, Train Loss: 0.6221, Val Loss: 0.7002, Learning rate: 0.010000\n",
      "Epoch 14/200, Train Loss: 0.6023, Val Loss: 0.6834, Learning rate: 0.010000\n",
      "Epoch 15/200, Train Loss: 0.5611, Val Loss: 0.6418, Learning rate: 0.010000\n",
      "Epoch 16/200, Train Loss: 0.5364, Val Loss: 0.6334, Learning rate: 0.010000\n",
      "Epoch 17/200, Train Loss: 0.5308, Val Loss: 0.6539, Learning rate: 0.010000\n",
      "Epoch 18/200, Train Loss: 0.5328, Val Loss: 0.6380, Learning rate: 0.010000\n",
      "Epoch 19/200, Train Loss: 0.5142, Val Loss: 0.6179, Learning rate: 0.010000\n",
      "Epoch 20/200, Train Loss: 0.5015, Val Loss: 0.6177, Learning rate: 0.010000\n",
      "Epoch 21/200, Train Loss: 0.5028, Val Loss: 0.6212, Learning rate: 0.010000\n",
      "Epoch 22/200, Train Loss: 0.5061, Val Loss: 0.6015, Learning rate: 0.010000\n",
      "Epoch 23/200, Train Loss: 0.4913, Val Loss: 0.6003, Learning rate: 0.010000\n",
      "Epoch 24/200, Train Loss: 0.4902, Val Loss: 0.6018, Learning rate: 0.010000\n",
      "Epoch 25/200, Train Loss: 0.4979, Val Loss: 0.6004, Learning rate: 0.010000\n",
      "Minimax score: 0.0\n",
      "RandomAgent score: 0.93\n",
      "MCTS score: 0.13\n",
      "Epoch 26/200, Train Loss: 0.5021, Val Loss: 0.6245, Learning rate: 0.010000\n",
      "Epoch 27/200, Train Loss: 0.5502, Val Loss: 0.7164, Learning rate: 0.010000\n",
      "Epoch 28/200, Train Loss: 0.5848, Val Loss: 0.6931, Learning rate: 0.010000\n",
      "Epoch 29/200, Train Loss: 0.5981, Val Loss: 0.7263, Learning rate: 0.010000\n",
      "Epoch 30/200, Train Loss: 0.5514, Val Loss: 0.6402, Learning rate: 0.010000\n",
      "Epoch 31/200, Train Loss: 0.5097, Val Loss: 0.5939, Learning rate: 0.010000\n",
      "Epoch 32/200, Train Loss: 0.4724, Val Loss: 0.5683, Learning rate: 0.010000\n",
      "Epoch 33/200, Train Loss: 0.4584, Val Loss: 0.5646, Learning rate: 0.010000\n",
      "Epoch 34/200, Train Loss: 0.4577, Val Loss: 0.5491, Learning rate: 0.010000\n",
      "Epoch 35/200, Train Loss: 0.4508, Val Loss: 0.5450, Learning rate: 0.010000\n",
      "Epoch 36/200, Train Loss: 0.4448, Val Loss: 0.5598, Learning rate: 0.010000\n",
      "Epoch 37/200, Train Loss: 0.4415, Val Loss: 0.5422, Learning rate: 0.010000\n",
      "Epoch 38/200, Train Loss: 0.4345, Val Loss: 0.5428, Learning rate: 0.010000\n",
      "Epoch 39/200, Train Loss: 0.4354, Val Loss: 0.5486, Learning rate: 0.010000\n",
      "Epoch 40/200, Train Loss: 0.4403, Val Loss: 0.5350, Learning rate: 0.010000\n",
      "Epoch 41/200, Train Loss: 0.4450, Val Loss: 0.5471, Learning rate: 0.010000\n",
      "Epoch 42/200, Train Loss: 0.4350, Val Loss: 0.5434, Learning rate: 0.010000\n",
      "Epoch 43/200, Train Loss: 0.4368, Val Loss: 0.5384, Learning rate: 0.010000\n",
      "Epoch 44/200, Train Loss: 0.4424, Val Loss: 0.5323, Learning rate: 0.010000\n",
      "Epoch 45/200, Train Loss: 0.4375, Val Loss: 0.5338, Learning rate: 0.010000\n",
      "Epoch 46/200, Train Loss: 0.4296, Val Loss: 0.5337, Learning rate: 0.010000\n",
      "Epoch 47/200, Train Loss: 0.4315, Val Loss: 0.5394, Learning rate: 0.010000\n",
      "Epoch 48/200, Train Loss: 0.4335, Val Loss: 0.5304, Learning rate: 0.010000\n",
      "Epoch 49/200, Train Loss: 0.4377, Val Loss: 0.5335, Learning rate: 0.010000\n",
      "Epoch 50/200, Train Loss: 0.4572, Val Loss: 0.5458, Learning rate: 0.010000\n",
      "Minimax score: 0.0\n",
      "RandomAgent score: 0.86\n",
      "MCTS score: 0.15\n",
      "Epoch 51/200, Train Loss: 0.4852, Val Loss: 0.7003, Learning rate: 0.010000\n",
      "Epoch 52/200, Train Loss: 0.5690, Val Loss: 0.6674, Learning rate: 0.010000\n",
      "Epoch 53/200, Train Loss: 0.6139, Val Loss: 0.6635, Learning rate: 0.010000\n",
      "Epoch 54/200, Train Loss: 0.5401, Val Loss: 0.6433, Learning rate: 0.010000\n",
      "Epoch 55/200, Train Loss: 0.5322, Val Loss: 0.6198, Learning rate: 0.010000\n",
      "Epoch 56/200, Train Loss: 0.5242, Val Loss: 0.6214, Learning rate: 0.010000\n",
      "Epoch 57/200, Train Loss: 0.4990, Val Loss: 0.5897, Learning rate: 0.010000\n",
      "Epoch 58/200, Train Loss: 0.4695, Val Loss: 0.5606, Learning rate: 0.010000\n",
      "Epoch 59/200, Train Loss: 0.4693, Val Loss: 0.5721, Learning rate: 0.010000\n",
      "Epoch 60/200, Train Loss: 0.4628, Val Loss: 0.5396, Learning rate: 0.010000\n",
      "Epoch 61/200, Train Loss: 0.4412, Val Loss: 0.5151, Learning rate: 0.010000\n",
      "Epoch 62/200, Train Loss: 0.4451, Val Loss: 0.5596, Learning rate: 0.010000\n",
      "Epoch 63/200, Train Loss: 0.4411, Val Loss: 0.5222, Learning rate: 0.010000\n",
      "Epoch 64/200, Train Loss: 0.4318, Val Loss: 0.5149, Learning rate: 0.010000\n",
      "Epoch 65/200, Train Loss: 0.4247, Val Loss: 0.5031, Learning rate: 0.010000\n",
      "Epoch 66/200, Train Loss: 0.4248, Val Loss: 0.5109, Learning rate: 0.010000\n",
      "Epoch 67/200, Train Loss: 0.4184, Val Loss: 0.5028, Learning rate: 0.010000\n",
      "Epoch 68/200, Train Loss: 0.4280, Val Loss: 0.4959, Learning rate: 0.010000\n",
      "Epoch 69/200, Train Loss: 0.4251, Val Loss: 0.5010, Learning rate: 0.010000\n",
      "Epoch 70/200, Train Loss: 0.4227, Val Loss: 0.5032, Learning rate: 0.010000\n",
      "Epoch 71/200, Train Loss: 0.4171, Val Loss: 0.5014, Learning rate: 0.010000\n",
      "Epoch 72/200, Train Loss: 0.4223, Val Loss: 0.5014, Learning rate: 0.010000\n",
      "Epoch 73/200, Train Loss: 0.4257, Val Loss: 0.4946, Learning rate: 0.010000\n",
      "Epoch 74/200, Train Loss: 0.4227, Val Loss: 0.5066, Learning rate: 0.010000\n",
      "Epoch 75/200, Train Loss: 0.4268, Val Loss: 0.5058, Learning rate: 0.010000\n",
      "Minimax score: 0.0\n",
      "RandomAgent score: 0.89\n",
      "MCTS score: 0.24\n",
      "Epoch 76/200, Train Loss: 0.4194, Val Loss: 0.4917, Learning rate: 0.010000\n",
      "Epoch 77/200, Train Loss: 0.4171, Val Loss: 0.5056, Learning rate: 0.010000\n",
      "Epoch 78/200, Train Loss: 0.4179, Val Loss: 0.4951, Learning rate: 0.010000\n",
      "Epoch 79/200, Train Loss: 0.4188, Val Loss: 0.4939, Learning rate: 0.010000\n",
      "Epoch 80/200, Train Loss: 0.4190, Val Loss: 0.5063, Learning rate: 0.010000\n",
      "Epoch 81/200, Train Loss: 0.4204, Val Loss: 0.4994, Learning rate: 0.010000\n",
      "Epoch 82/200, Train Loss: 0.4196, Val Loss: 0.4976, Learning rate: 0.010000\n",
      "Epoch 83/200, Train Loss: 0.4211, Val Loss: 0.5044, Learning rate: 0.010000\n",
      "Epoch 84/200, Train Loss: 0.4210, Val Loss: 0.4906, Learning rate: 0.010000\n",
      "Epoch 85/200, Train Loss: 0.4146, Val Loss: 0.4956, Learning rate: 0.010000\n",
      "Epoch 86/200, Train Loss: 0.4181, Val Loss: 0.4927, Learning rate: 0.010000\n",
      "Epoch 87/200, Train Loss: 0.4227, Val Loss: 0.4980, Learning rate: 0.010000\n",
      "Epoch 88/200, Train Loss: 0.4276, Val Loss: 0.4960, Learning rate: 0.010000\n",
      "Epoch 89/200, Train Loss: 0.4199, Val Loss: 0.5178, Learning rate: 0.010000\n",
      "Epoch 90/200, Train Loss: 0.4291, Val Loss: 0.5104, Learning rate: 0.010000\n",
      "Epoch 91/200, Train Loss: 0.4279, Val Loss: 0.5360, Learning rate: 0.010000\n",
      "Epoch 92/200, Train Loss: 0.4279, Val Loss: 0.5093, Learning rate: 0.010000\n",
      "Epoch 93/200, Train Loss: 0.4237, Val Loss: 0.5333, Learning rate: 0.010000\n",
      "Epoch 94/200, Train Loss: 0.4426, Val Loss: 0.5318, Learning rate: 0.010000\n",
      "Epoch 95/200, Train Loss: 0.4684, Val Loss: 0.7921, Learning rate: 0.010000\n",
      "Epoch 96/200, Train Loss: 0.7794, Val Loss: 0.8810, Learning rate: 0.010000\n",
      "Epoch 97/200, Train Loss: 0.6928, Val Loss: 0.7451, Learning rate: 0.010000\n",
      "Epoch 98/200, Train Loss: 0.5963, Val Loss: 0.6704, Learning rate: 0.010000\n",
      "Epoch 99/200, Train Loss: 0.5305, Val Loss: 0.5938, Learning rate: 0.010000\n",
      "Epoch 100/200, Train Loss: 0.4896, Val Loss: 0.5477, Learning rate: 0.010000\n",
      "Minimax score: -0.01\n",
      "RandomAgent score: 0.91\n",
      "MCTS score: 0.29\n",
      "Epoch 101/200, Train Loss: 0.4576, Val Loss: 0.5262, Learning rate: 0.010000\n",
      "Epoch 102/200, Train Loss: 0.4532, Val Loss: 0.4961, Learning rate: 0.010000\n",
      "Epoch 103/200, Train Loss: 0.4389, Val Loss: 0.4925, Learning rate: 0.010000\n",
      "Epoch 104/200, Train Loss: 0.4362, Val Loss: 0.5083, Learning rate: 0.010000\n",
      "Epoch 105/200, Train Loss: 0.4412, Val Loss: 0.4989, Learning rate: 0.010000\n",
      "Epoch 106/200, Train Loss: 0.4326, Val Loss: 0.4898, Learning rate: 0.010000\n",
      "Epoch 107/200, Train Loss: 0.4238, Val Loss: 0.4782, Learning rate: 0.010000\n",
      "Epoch 108/200, Train Loss: 0.4187, Val Loss: 0.4765, Learning rate: 0.010000\n",
      "Epoch 109/200, Train Loss: 0.4132, Val Loss: 0.4786, Learning rate: 0.010000\n",
      "Epoch 110/200, Train Loss: 0.4132, Val Loss: 0.4792, Learning rate: 0.010000\n",
      "Epoch 111/200, Train Loss: 0.4122, Val Loss: 0.4800, Learning rate: 0.010000\n",
      "Epoch 112/200, Train Loss: 0.4164, Val Loss: 0.4795, Learning rate: 0.010000\n",
      "Epoch 113/200, Train Loss: 0.4150, Val Loss: 0.4847, Learning rate: 0.010000\n",
      "Epoch 114/200, Train Loss: 0.4140, Val Loss: 0.4844, Learning rate: 0.010000\n",
      "Epoch 115/200, Train Loss: 0.4119, Val Loss: 0.4771, Learning rate: 0.010000\n",
      "Epoch 116/200, Train Loss: 0.4136, Val Loss: 0.4806, Learning rate: 0.010000\n",
      "Epoch 117/200, Train Loss: 0.4135, Val Loss: 0.4795, Learning rate: 0.010000\n",
      "Epoch 118/200, Train Loss: 0.4112, Val Loss: 0.4892, Learning rate: 0.010000\n",
      "Epoch 119/200, Train Loss: 0.4135, Val Loss: 0.4764, Learning rate: 0.010000\n",
      "Epoch 120/200, Train Loss: 0.4064, Val Loss: 0.4853, Learning rate: 0.010000\n",
      "Epoch 121/200, Train Loss: 0.4108, Val Loss: 0.4716, Learning rate: 0.010000\n",
      "Epoch 122/200, Train Loss: 0.4154, Val Loss: 0.4831, Learning rate: 0.010000\n",
      "Epoch 123/200, Train Loss: 0.4166, Val Loss: 0.4846, Learning rate: 0.010000\n",
      "Epoch 124/200, Train Loss: 0.4134, Val Loss: 0.4878, Learning rate: 0.010000\n",
      "Epoch 125/200, Train Loss: 0.4146, Val Loss: 0.4854, Learning rate: 0.010000\n",
      "Minimax score: 0.0\n",
      "RandomAgent score: 0.86\n",
      "MCTS score: 0.21\n",
      "Epoch 126/200, Train Loss: 0.4197, Val Loss: 0.4825, Learning rate: 0.010000\n",
      "Epoch 127/200, Train Loss: 0.4136, Val Loss: 0.4832, Learning rate: 0.010000\n",
      "Epoch 128/200, Train Loss: 0.4182, Val Loss: 0.4867, Learning rate: 0.010000\n",
      "Epoch 129/200, Train Loss: 0.4188, Val Loss: 0.4926, Learning rate: 0.010000\n",
      "Epoch 130/200, Train Loss: 0.4156, Val Loss: 0.4897, Learning rate: 0.010000\n",
      "Epoch 131/200, Train Loss: 0.4174, Val Loss: 0.4856, Learning rate: 0.010000\n",
      "Epoch 132/200, Train Loss: 0.4225, Val Loss: 0.5084, Learning rate: 0.010000\n",
      "Epoch 133/200, Train Loss: 0.4379, Val Loss: 0.6381, Learning rate: 0.010000\n",
      "Epoch 134/200, Train Loss: 0.6033, Val Loss: 0.8462, Learning rate: 0.010000\n",
      "Epoch 135/200, Train Loss: 0.7729, Val Loss: 0.7414, Learning rate: 0.010000\n",
      "Epoch 136/200, Train Loss: 0.6186, Val Loss: 0.6244, Learning rate: 0.010000\n",
      "Epoch 137/200, Train Loss: 0.5271, Val Loss: 0.5809, Learning rate: 0.010000\n",
      "Epoch 138/200, Train Loss: 0.4818, Val Loss: 0.5391, Learning rate: 0.010000\n",
      "Epoch 139/200, Train Loss: 0.4647, Val Loss: 0.5330, Learning rate: 0.010000\n",
      "Epoch 140/200, Train Loss: 0.4547, Val Loss: 0.5196, Learning rate: 0.010000\n",
      "Epoch 141/200, Train Loss: 0.4450, Val Loss: 0.5131, Learning rate: 0.010000\n",
      "Epoch 142/200, Train Loss: 0.4471, Val Loss: 0.5126, Learning rate: 0.010000\n",
      "Epoch 143/200, Train Loss: 0.4440, Val Loss: 0.4977, Learning rate: 0.010000\n",
      "Epoch 144/200, Train Loss: 0.4348, Val Loss: 0.4994, Learning rate: 0.010000\n",
      "Epoch 145/200, Train Loss: 0.4263, Val Loss: 0.4847, Learning rate: 0.010000\n",
      "Epoch 146/200, Train Loss: 0.4205, Val Loss: 0.4766, Learning rate: 0.010000\n",
      "Epoch 147/200, Train Loss: 0.4122, Val Loss: 0.4824, Learning rate: 0.005000\n",
      "Epoch 148/200, Train Loss: 0.4088, Val Loss: 0.4859, Learning rate: 0.005000\n",
      "Epoch 149/200, Train Loss: 0.4053, Val Loss: 0.4841, Learning rate: 0.005000\n",
      "Epoch 150/200, Train Loss: 0.4069, Val Loss: 0.4859, Learning rate: 0.005000\n",
      "Minimax score: 0.0\n",
      "RandomAgent score: 0.94\n",
      "MCTS score: 0.26\n",
      "Epoch 151/200, Train Loss: 0.4044, Val Loss: 0.4921, Learning rate: 0.005000\n",
      "Epoch 152/200, Train Loss: 0.4119, Val Loss: 0.4894, Learning rate: 0.005000\n",
      "Epoch 153/200, Train Loss: 0.4095, Val Loss: 0.4888, Learning rate: 0.005000\n",
      "Epoch 154/200, Train Loss: 0.4072, Val Loss: 0.4870, Learning rate: 0.005000\n",
      "Epoch 155/200, Train Loss: 0.4062, Val Loss: 0.4916, Learning rate: 0.005000\n",
      "Epoch 156/200, Train Loss: 0.4071, Val Loss: 0.4931, Learning rate: 0.005000\n",
      "Epoch 157/200, Train Loss: 0.4075, Val Loss: 0.4918, Learning rate: 0.005000\n",
      "Epoch 158/200, Train Loss: 0.4101, Val Loss: 0.4852, Learning rate: 0.005000\n",
      "Epoch 159/200, Train Loss: 0.4064, Val Loss: 0.4885, Learning rate: 0.005000\n",
      "Epoch 160/200, Train Loss: 0.4063, Val Loss: 0.4898, Learning rate: 0.005000\n",
      "Epoch 161/200, Train Loss: 0.4112, Val Loss: 0.4893, Learning rate: 0.005000\n",
      "Epoch 162/200, Train Loss: 0.4107, Val Loss: 0.4864, Learning rate: 0.005000\n",
      "Epoch 163/200, Train Loss: 0.4065, Val Loss: 0.4893, Learning rate: 0.005000\n",
      "Epoch 164/200, Train Loss: 0.4097, Val Loss: 0.4876, Learning rate: 0.005000\n",
      "Epoch 165/200, Train Loss: 0.4108, Val Loss: 0.4858, Learning rate: 0.005000\n",
      "Epoch 166/200, Train Loss: 0.4063, Val Loss: 0.4878, Learning rate: 0.005000\n",
      "Epoch 167/200, Train Loss: 0.4106, Val Loss: 0.4894, Learning rate: 0.005000\n",
      "Epoch 168/200, Train Loss: 0.4061, Val Loss: 0.4905, Learning rate: 0.005000\n",
      "Epoch 169/200, Train Loss: 0.4094, Val Loss: 0.4908, Learning rate: 0.005000\n",
      "Epoch 170/200, Train Loss: 0.4103, Val Loss: 0.4874, Learning rate: 0.005000\n",
      "Epoch 171/200, Train Loss: 0.4048, Val Loss: 0.4940, Learning rate: 0.005000\n",
      "Epoch 172/200, Train Loss: 0.4065, Val Loss: 0.4910, Learning rate: 0.005000\n",
      "Epoch 173/200, Train Loss: 0.4079, Val Loss: 0.4909, Learning rate: 0.005000\n",
      "Epoch 174/200, Train Loss: 0.4026, Val Loss: 0.4917, Learning rate: 0.005000\n",
      "Epoch 175/200, Train Loss: 0.4021, Val Loss: 0.4930, Learning rate: 0.005000\n",
      "Minimax score: 0.0\n",
      "RandomAgent score: 0.87\n",
      "MCTS score: 0.18\n",
      "Epoch 176/200, Train Loss: 0.4097, Val Loss: 0.4905, Learning rate: 0.005000\n",
      "Epoch 177/200, Train Loss: 0.4062, Val Loss: 0.4948, Learning rate: 0.005000\n",
      "Epoch 178/200, Train Loss: 0.4157, Val Loss: 0.4876, Learning rate: 0.005000\n",
      "Epoch 179/200, Train Loss: 0.4104, Val Loss: 0.4881, Learning rate: 0.005000\n",
      "Epoch 180/200, Train Loss: 0.4065, Val Loss: 0.4877, Learning rate: 0.005000\n",
      "Epoch 181/200, Train Loss: 0.4068, Val Loss: 0.4954, Learning rate: 0.005000\n",
      "Epoch 182/200, Train Loss: 0.4044, Val Loss: 0.4961, Learning rate: 0.005000\n",
      "Epoch 183/200, Train Loss: 0.4058, Val Loss: 0.4887, Learning rate: 0.005000\n",
      "Epoch 184/200, Train Loss: 0.4107, Val Loss: 0.4902, Learning rate: 0.005000\n",
      "Epoch 185/200, Train Loss: 0.4092, Val Loss: 0.4858, Learning rate: 0.005000\n",
      "Epoch 186/200, Train Loss: 0.4049, Val Loss: 0.4901, Learning rate: 0.005000\n",
      "Epoch 187/200, Train Loss: 0.4065, Val Loss: 0.4933, Learning rate: 0.005000\n",
      "Epoch 188/200, Train Loss: 0.4086, Val Loss: 0.4842, Learning rate: 0.005000\n",
      "Epoch 189/200, Train Loss: 0.4039, Val Loss: 0.4965, Learning rate: 0.005000\n",
      "Epoch 190/200, Train Loss: 0.4078, Val Loss: 0.4916, Learning rate: 0.005000\n",
      "Epoch 191/200, Train Loss: 0.4117, Val Loss: 0.4883, Learning rate: 0.005000\n",
      "Epoch 192/200, Train Loss: 0.4089, Val Loss: 0.4850, Learning rate: 0.005000\n",
      "Epoch 193/200, Train Loss: 0.4079, Val Loss: 0.4823, Learning rate: 0.005000\n",
      "Epoch 194/200, Train Loss: 0.4103, Val Loss: 0.4903, Learning rate: 0.005000\n",
      "Epoch 195/200, Train Loss: 0.4087, Val Loss: 0.4840, Learning rate: 0.005000\n",
      "Epoch 196/200, Train Loss: 0.4104, Val Loss: 0.4881, Learning rate: 0.005000\n",
      "Epoch 197/200, Train Loss: 0.4069, Val Loss: 0.4857, Learning rate: 0.005000\n",
      "Epoch 198/200, Train Loss: 0.4104, Val Loss: 0.4836, Learning rate: 0.005000\n",
      "Epoch 199/200, Train Loss: 0.4100, Val Loss: 0.4859, Learning rate: 0.005000\n",
      "Epoch 200/200, Train Loss: 0.4130, Val Loss: 0.4896, Learning rate: 0.005000\n",
      "Minimax score: 0.0\n",
      "RandomAgent score: 0.84\n",
      "MCTS score: 0.24\n",
      "Training complete.\n",
      "Best val_loss: 0.4716\n",
      "Final val_loss: 0.4896\n"
     ]
    }
   ],
   "source": [
    "# Perform training\n",
    "\n",
    "from applications.tic_tac_toe.train import train\n",
    "\n",
    "model_interface = train(\n",
    "    model_type=model_type,\n",
    "    model_params=model_params,\n",
    "    device=device,\n",
    "    model_name=model_name,\n",
    "    optimizer_type=optimizer_type,\n",
    "    optimizer_params=optimizer_params,\n",
    "    lr_scheduler_type=lr_scheduler_type,\n",
    "    lr_scheduler_params=lr_scheduler_params,\n",
    "    training_method=training_method,\n",
    "    trainer_params=trainer_params,\n",
    "    training_params=training_params,\n",
    "    load_model=load_model,\n",
    "    load_model_params=load_model_params,\n",
    "    load_replay_buffer=load_replay_buffer,\n",
    "    load_replay_buffer_params=load_replay_buffer_params,\n",
    "    wandb_run=run\n",
    ")"
   ]
  },
  {
   "cell_type": "code",
   "execution_count": 5,
   "metadata": {},
   "outputs": [
    {
     "data": {
      "text/html": [],
      "text/plain": [
       "<IPython.core.display.HTML object>"
      ]
     },
     "metadata": {},
     "output_type": "display_data"
    },
    {
     "data": {
      "text/html": [
       "<br>    <style><br>        .wandb-row {<br>            display: flex;<br>            flex-direction: row;<br>            flex-wrap: wrap;<br>            justify-content: flex-start;<br>            width: 100%;<br>        }<br>        .wandb-col {<br>            display: flex;<br>            flex-direction: column;<br>            flex-basis: 100%;<br>            flex: 1;<br>            padding: 10px;<br>        }<br>    </style><br><div class=\"wandb-row\"><div class=\"wandb-col\"><h3>Run history:</h3><br/><table class=\"wandb\"><tr><td>MCTS_draw_rate</td><td>█▇▃▁▅▂▆▃</td></tr><tr><td>MCTS_loss_rate</td><td>▁▁▁▁▁▁▁▁</td></tr><tr><td>MCTS_score</td><td>▁▂▆█▅▇▃▆</td></tr><tr><td>MCTS_win_rate</td><td>▁▂▆█▅▇▃▆</td></tr><tr><td>Minimax_draw_rate</td><td>███▁████</td></tr><tr><td>Minimax_loss_rate</td><td>▁▁▁█▁▁▁▁</td></tr><tr><td>Minimax_score</td><td>███▁████</td></tr><tr><td>Minimax_win_rate</td><td>▁▁▁▁▁▁▁▁</td></tr><tr><td>RandomAgent_draw_rate</td><td>▂▇▅▃▇▁▆█</td></tr><tr><td>RandomAgent_loss_rate</td><td>▁▁▁▁▁▁▁▁</td></tr><tr><td>RandomAgent_score</td><td>▇▂▅▆▂█▃▁</td></tr><tr><td>RandomAgent_win_rate</td><td>▇▂▅▆▂█▃▁</td></tr><tr><td>epoch</td><td>▁▁▁▂▂▂▂▃▃▃▃▃▄▄▄▄▄▄▄▅▅▅▅▅▅▅▅▆▆▆▆▆▆▇▇▇▇███</td></tr><tr><td>learning_rate</td><td>████████████████████████████████▁▁▁▁▁▁▁▁</td></tr><tr><td>train_loss</td><td>█▅▄▃▂▂▂▁▁▂▁▁▁▁▁▁▂▁▁▁▁▁▃▂▂▁▁▁▁▁▁▁▁▁▁▁▁▁▁▁</td></tr><tr><td>train_policy_loss</td><td>█▇▇▄▃▁▁▁▁▁▁▁▁▁▁▁▁▁▁▁▂▂▁▁▁▁▁▁▂▁▁▁▁▁▁▁▁▁▁▁</td></tr><tr><td>train_value_loss</td><td>█▃▂▂▁▁▃▂▁▁▁▁▂▃▂▂▁▁▁▁▁▁▁▃▂▁▁▁▁▁▁▁▁▁▁▁▁▁▁▁</td></tr><tr><td>val_loss</td><td>▅▅▄▃▃▆▆▄▂▂▃▂▂▁▁▁▂▂▂▆▁▁▁▁▁█▄▃▁▁▁▁▁▁▁▁▁▁▁▁</td></tr><tr><td>val_policy_loss</td><td>█▇▅▂▂▂▁▁▁▁▁▁▂▂▁▁▁▁▁▁▁▁▁▁▁▁▁▁▁▂▁▁▁▁▁▁▁▁▁▁</td></tr><tr><td>val_value_loss</td><td>█▂▂▂▁▁▁▂▂▁▁▁▁▁▁▁▁▁▁▁▁▁▁▁▁▁▂▁▁▁▁▁▁▁▁▁▁▁▁▁</td></tr></table><br/></div><div class=\"wandb-col\"><h3>Run summary:</h3><br/><table class=\"wandb\"><tr><td>MCTS_draw_rate</td><td>0.76</td></tr><tr><td>MCTS_loss_rate</td><td>0</td></tr><tr><td>MCTS_score</td><td>0.24</td></tr><tr><td>MCTS_win_rate</td><td>0.24</td></tr><tr><td>Minimax_draw_rate</td><td>1</td></tr><tr><td>Minimax_loss_rate</td><td>0</td></tr><tr><td>Minimax_score</td><td>0</td></tr><tr><td>Minimax_win_rate</td><td>0</td></tr><tr><td>RandomAgent_draw_rate</td><td>0.16</td></tr><tr><td>RandomAgent_loss_rate</td><td>0</td></tr><tr><td>RandomAgent_score</td><td>0.84</td></tr><tr><td>RandomAgent_win_rate</td><td>0.84</td></tr><tr><td>epoch</td><td>200</td></tr><tr><td>learning_rate</td><td>0.005</td></tr><tr><td>train_loss</td><td>0.41303</td></tr><tr><td>train_policy_loss</td><td>0.41255</td></tr><tr><td>train_value_loss</td><td>0.00048</td></tr><tr><td>val_loss</td><td>0.48957</td></tr><tr><td>val_policy_loss</td><td>0.48153</td></tr><tr><td>val_value_loss</td><td>0.00804</td></tr></table><br/></div></div>"
      ],
      "text/plain": [
       "<IPython.core.display.HTML object>"
      ]
     },
     "metadata": {},
     "output_type": "display_data"
    },
    {
     "data": {
      "text/html": [
       " View run <strong style=\"color:#cdcd00\">MLP 2</strong> at: <a href='https://wandb.ai/eigenway/AlphaZero-TicTacToe/runs/ko9o9rjd' target=\"_blank\">https://wandb.ai/eigenway/AlphaZero-TicTacToe/runs/ko9o9rjd</a><br> View project at: <a href='https://wandb.ai/eigenway/AlphaZero-TicTacToe' target=\"_blank\">https://wandb.ai/eigenway/AlphaZero-TicTacToe</a><br>Synced 5 W&B file(s), 1 media file(s), 60 artifact file(s) and 0 other file(s)"
      ],
      "text/plain": [
       "<IPython.core.display.HTML object>"
      ]
     },
     "metadata": {},
     "output_type": "display_data"
    },
    {
     "data": {
      "text/html": [
       "Find logs at: <code>./wandb/run-20250316_180448-ko9o9rjd/logs</code>"
      ],
      "text/plain": [
       "<IPython.core.display.HTML object>"
      ]
     },
     "metadata": {},
     "output_type": "display_data"
    }
   ],
   "source": [
    "run.finish()"
   ]
  },
  {
   "cell_type": "code",
   "execution_count": 6,
   "metadata": {},
   "outputs": [
    {
     "name": "stdout",
     "output_type": "stream",
     "text": [
      "Total parameters: 398,090\n",
      "Trainable parameters: 398,090 (100.00%)\n",
      "Non-trainable parameters: 0 (0.00%)\n",
      "\n",
      "Parameters by layer:\n",
      "layers.0.fc1.weight: 2,304 parameters\n",
      "layers.0.fc1.bias: 128 parameters\n",
      "layers.1.fc1.weight: 65,536 parameters\n",
      "layers.1.fc1.bias: 512 parameters\n",
      "layers.2.fc1.weight: 262,144 parameters\n",
      "layers.2.fc1.bias: 512 parameters\n",
      "layers.3.fc1.weight: 65,536 parameters\n",
      "layers.3.fc1.bias: 128 parameters\n",
      "policy_head.weight: 1,152 parameters\n",
      "policy_head.bias: 9 parameters\n",
      "value_head.weight: 128 parameters\n",
      "value_head.bias: 1 parameters\n"
     ]
    }
   ],
   "source": [
    "def print_model_parameters(model):\n",
    "    \"\"\"\n",
    "    Print the total number of parameters in a PyTorch model,\n",
    "    with a breakdown of trainable vs non-trainable parameters.\n",
    "    \n",
    "    Args:\n",
    "        model: PyTorch model\n",
    "    \"\"\"\n",
    "    total_params = sum(p.numel() for p in model.parameters())\n",
    "    trainable_params = sum(p.numel() for p in model.parameters() if p.requires_grad)\n",
    "    non_trainable_params = total_params - trainable_params\n",
    "    \n",
    "    print(f\"Total parameters: {total_params:,}\")\n",
    "    print(f\"Trainable parameters: {trainable_params:,} ({trainable_params/total_params:.2%})\")\n",
    "    print(f\"Non-trainable parameters: {non_trainable_params:,} ({non_trainable_params/total_params:.2%})\")\n",
    "    \n",
    "    # Optional: Print parameters by layer\n",
    "    print(\"\\nParameters by layer:\")\n",
    "    for name, param in model.named_parameters():\n",
    "        print(f\"{name}: {param.numel():,} parameters\")\n",
    "\n",
    "# Example usage\n",
    "print_model_parameters(model_interface.model)"
   ]
  }
 ],
 "metadata": {
  "kernelspec": {
   "display_name": "dots-and-boxes",
   "language": "python",
   "name": "python3"
  },
  "language_info": {
   "codemirror_mode": {
    "name": "ipython",
    "version": 3
   },
   "file_extension": ".py",
   "mimetype": "text/x-python",
   "name": "python",
   "nbconvert_exporter": "python",
   "pygments_lexer": "ipython3",
   "version": "3.13.1"
  }
 },
 "nbformat": 4,
 "nbformat_minor": 2
}
