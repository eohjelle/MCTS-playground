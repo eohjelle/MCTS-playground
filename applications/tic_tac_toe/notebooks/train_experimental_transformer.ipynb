{
 "cells": [
  {
   "cell_type": "code",
   "execution_count": 1,
   "metadata": {},
   "outputs": [
    {
     "name": "stdout",
     "output_type": "stream",
     "text": [
      "Working directory: /Users/eohjelle/Documents/2025-dots-and-boxes/dots-and-boxes\n"
     ]
    }
   ],
   "source": [
    "# Change directory to the root of the project\n",
    "import os \n",
    "os.chdir('..')\n",
    "os.chdir('..')\n",
    "os.chdir('..')\n",
    "print(f\"Working directory: {os.getcwd()}\")"
   ]
  },
  {
   "cell_type": "code",
   "execution_count": 2,
   "metadata": {},
   "outputs": [],
   "source": [
    "from applications.tic_tac_toe.models.experimental_transformer import ExperimentalTransformerInitParams\n",
    "import torch\n",
    "\n",
    "# Initialize parameters\n",
    "\n",
    "## Model parameters\n",
    "model_type = 'experimental_transformer'\n",
    "model_params: ExperimentalTransformerInitParams = {\n",
    "    'embed_dim': 32,\n",
    "    'num_heads': 4\n",
    "}\n",
    "device = torch.device('mps')\n",
    "model_name = 'tic_tac_toe_experimental_transformer'\n",
    "\n",
    "## Initialize new model\n",
    "load_model = None\n",
    "load_model_params = {}\n",
    "\n",
    "\n",
    "## Optimizer parameters\n",
    "optimizer_type = 'adam'\n",
    "optimizer_params = {\n",
    "    'lr': 1e-2,\n",
    "    'betas': (0.9, 0.999),\n",
    "    'eps': 1e-8,\n",
    "    'weight_decay': 1e-4,\n",
    "    'amsgrad': False\n",
    "}\n",
    "\n",
    "## Learning scheduler parameters\n",
    "lr_scheduler_type = 'plateau'\n",
    "lr_scheduler_params = {\n",
    "    'factor': 0.5,\n",
    "    'patience': 25,\n",
    "    'cooldown': 50,\n",
    "    'min_lr': 1e-6\n",
    "}\n",
    "\n",
    "## Training parameters\n",
    "training_method = 'supervised'\n",
    "trainer_params = {}\n",
    "training_params = {\n",
    "    'epochs': 1000,\n",
    "    'batch_size': 256,\n",
    "    'eval_freq': 25,\n",
    "    'checkpoint_freq': 50,\n",
    "    'mask_illegal_moves': False,\n",
    "    'mask_value': -20.0, # Doesn't matter when mask_illegal_moves is False\n",
    "    'checkpoint_dir': 'checkpoints',\n",
    "    'start_at': 1\n",
    "}\n",
    "\n",
    "## Load replay buffer from wandb\n",
    "load_replay_buffer = 'from_wandb'\n",
    "load_replay_buffer_params = {\n",
    "    'project': 'AlphaZero-TicTacToe',\n",
    "    'artifact_name': f'tic_tac_toe_TokenizedTensorMapping_training_data',\n",
    "    'artifact_version': 'latest'\n",
    "}\n"
   ]
  },
  {
   "cell_type": "code",
   "execution_count": 3,
   "metadata": {},
   "outputs": [
    {
     "name": "stderr",
     "output_type": "stream",
     "text": [
      "\u001b[34m\u001b[1mwandb\u001b[0m: Currently logged in as: \u001b[33meohjelle\u001b[0m (\u001b[33meigenway\u001b[0m) to \u001b[32mhttps://api.wandb.ai\u001b[0m. Use \u001b[1m`wandb login --relogin`\u001b[0m to force relogin\n",
      "\u001b[34m\u001b[1mwandb\u001b[0m: Using wandb-core as the SDK backend.  Please refer to https://wandb.me/wandb-core for more information.\n"
     ]
    },
    {
     "data": {
      "text/html": [
       "Tracking run with wandb version 0.19.6"
      ],
      "text/plain": [
       "<IPython.core.display.HTML object>"
      ]
     },
     "metadata": {},
     "output_type": "display_data"
    },
    {
     "data": {
      "text/html": [
       "Run data is saved locally in <code>/Users/eohjelle/Documents/2025-dots-and-boxes/dots-and-boxes/wandb/run-20250316_182328-c05thnxc</code>"
      ],
      "text/plain": [
       "<IPython.core.display.HTML object>"
      ]
     },
     "metadata": {},
     "output_type": "display_data"
    },
    {
     "data": {
      "text/html": [
       "Syncing run <strong><a href='https://wandb.ai/eigenway/AlphaZero-TicTacToe/runs/c05thnxc' target=\"_blank\">Experimental Transformer 14</a></strong> to <a href='https://wandb.ai/eigenway/AlphaZero-TicTacToe' target=\"_blank\">Weights & Biases</a> (<a href='https://wandb.me/developer-guide' target=\"_blank\">docs</a>)<br>"
      ],
      "text/plain": [
       "<IPython.core.display.HTML object>"
      ]
     },
     "metadata": {},
     "output_type": "display_data"
    },
    {
     "data": {
      "text/html": [
       " View project at <a href='https://wandb.ai/eigenway/AlphaZero-TicTacToe' target=\"_blank\">https://wandb.ai/eigenway/AlphaZero-TicTacToe</a>"
      ],
      "text/plain": [
       "<IPython.core.display.HTML object>"
      ]
     },
     "metadata": {},
     "output_type": "display_data"
    },
    {
     "data": {
      "text/html": [
       " View run at <a href='https://wandb.ai/eigenway/AlphaZero-TicTacToe/runs/c05thnxc' target=\"_blank\">https://wandb.ai/eigenway/AlphaZero-TicTacToe/runs/c05thnxc</a>"
      ],
      "text/plain": [
       "<IPython.core.display.HTML object>"
      ]
     },
     "metadata": {},
     "output_type": "display_data"
    }
   ],
   "source": [
    "# Initialize wandb run\n",
    "import wandb\n",
    "\n",
    "run_name = 'Experimental Transformer 15'\n",
    "notes = 'Same as v13 expect for: no norm1 and with L2 normalization of k, v instead of L1.'\n",
    "\n",
    "config = {\n",
    "    'model_type': model_type,\n",
    "    'model_params': model_params,\n",
    "    'optimizer_type': optimizer_type,\n",
    "    'optimizer_params': optimizer_params,\n",
    "    'lr_scheduler_type': lr_scheduler_type,\n",
    "    'lr_scheduler_params': lr_scheduler_params,\n",
    "    'training_method': training_method,\n",
    "    'trainer_params': trainer_params,\n",
    "    'training_params': training_params\n",
    "}\n",
    "\n",
    "run = wandb.init(\n",
    "    project='AlphaZero-TicTacToe',\n",
    "    name=run_name,\n",
    "    config=config,\n",
    "    notes=notes\n",
    ")"
   ]
  },
  {
   "cell_type": "code",
   "execution_count": 4,
   "metadata": {},
   "outputs": [
    {
     "name": "stderr",
     "output_type": "stream",
     "text": [
      "\u001b[34m\u001b[1mwandb\u001b[0m: logging graph, to disable use `wandb.watch(log_graph=False)`\n",
      "\u001b[34m\u001b[1mwandb\u001b[0m:   1 of 1 files downloaded.  \n",
      "/Users/eohjelle/Documents/2025-dots-and-boxes/dots-and-boxes/core/data_structures.py:94: FutureWarning: You are using `torch.load` with `weights_only=False` (the current default value), which uses the default pickle module implicitly. It is possible to construct malicious pickle data which will execute arbitrary code during unpickling (See https://github.com/pytorch/pytorch/blob/main/SECURITY.md#untrusted-models for more details). In a future release, the default value for `weights_only` will be flipped to `True`. This limits the functions that could be executed during unpickling. Arbitrary objects will no longer be allowed to be loaded via this mode unless they are explicitly allowlisted by the user via `torch.serialization.add_safe_globals`. We recommend you start setting `weights_only=True` for any use case where you don't have full control of the loaded file. Please open an issue on GitHub for any issues related to this experimental feature.\n",
      "  checkpoint = torch.load(path, map_location=device)\n"
     ]
    },
    {
     "name": "stdout",
     "output_type": "stream",
     "text": [
      "Epoch 1/200, Train Loss: 1.9790, Val Loss: 1.6763, Learning rate: 0.010000\n",
      "Epoch 2/200, Train Loss: 1.6393, Val Loss: 1.6817, Learning rate: 0.010000\n",
      "Epoch 3/200, Train Loss: 1.5869, Val Loss: 1.6270, Learning rate: 0.010000\n",
      "Epoch 4/200, Train Loss: 1.6103, Val Loss: 1.5910, Learning rate: 0.010000\n",
      "Epoch 5/200, Train Loss: 1.5826, Val Loss: 1.6029, Learning rate: 0.010000\n",
      "Epoch 6/200, Train Loss: 1.5696, Val Loss: 1.6162, Learning rate: 0.010000\n",
      "Epoch 7/200, Train Loss: 1.5846, Val Loss: 1.5924, Learning rate: 0.010000\n",
      "Epoch 8/200, Train Loss: 1.5632, Val Loss: 1.5347, Learning rate: 0.010000\n",
      "Epoch 9/200, Train Loss: 1.5217, Val Loss: 1.5668, Learning rate: 0.010000\n",
      "Epoch 10/200, Train Loss: 1.5028, Val Loss: 1.4767, Learning rate: 0.010000\n",
      "Epoch 11/200, Train Loss: 1.4162, Val Loss: 1.4227, Learning rate: 0.010000\n",
      "Epoch 12/200, Train Loss: 1.3698, Val Loss: 1.4149, Learning rate: 0.010000\n",
      "Epoch 13/200, Train Loss: 1.3157, Val Loss: 1.2286, Learning rate: 0.010000\n",
      "Epoch 14/200, Train Loss: 1.2259, Val Loss: 1.1801, Learning rate: 0.010000\n",
      "Epoch 15/200, Train Loss: 1.2176, Val Loss: 1.2003, Learning rate: 0.010000\n",
      "Epoch 16/200, Train Loss: 1.1645, Val Loss: 1.1234, Learning rate: 0.010000\n",
      "Epoch 17/200, Train Loss: 1.1343, Val Loss: 1.0528, Learning rate: 0.010000\n",
      "Epoch 18/200, Train Loss: 1.1387, Val Loss: 1.0951, Learning rate: 0.010000\n",
      "Epoch 19/200, Train Loss: 1.0823, Val Loss: 1.0171, Learning rate: 0.010000\n",
      "Epoch 20/200, Train Loss: 1.0603, Val Loss: 1.0064, Learning rate: 0.010000\n",
      "Epoch 21/200, Train Loss: 1.0745, Val Loss: 1.0318, Learning rate: 0.010000\n",
      "Epoch 22/200, Train Loss: 1.0551, Val Loss: 1.0139, Learning rate: 0.010000\n",
      "Epoch 23/200, Train Loss: 1.0476, Val Loss: 0.9657, Learning rate: 0.010000\n",
      "Epoch 24/200, Train Loss: 0.9842, Val Loss: 0.9589, Learning rate: 0.010000\n",
      "Epoch 25/200, Train Loss: 0.9734, Val Loss: 0.9447, Learning rate: 0.010000\n",
      "Minimax score: -0.96\n",
      "RandomAgent score: 0.8300000000000001\n",
      "MCTS score: -0.83\n",
      "Epoch 26/200, Train Loss: 0.9836, Val Loss: 0.9255, Learning rate: 0.010000\n",
      "Epoch 27/200, Train Loss: 0.9667, Val Loss: 0.9494, Learning rate: 0.010000\n",
      "Epoch 28/200, Train Loss: 0.9276, Val Loss: 0.9096, Learning rate: 0.010000\n",
      "Epoch 29/200, Train Loss: 0.9000, Val Loss: 0.8686, Learning rate: 0.010000\n",
      "Epoch 30/200, Train Loss: 0.8779, Val Loss: 0.8579, Learning rate: 0.010000\n",
      "Epoch 31/200, Train Loss: 0.9061, Val Loss: 0.8595, Learning rate: 0.010000\n",
      "Epoch 32/200, Train Loss: 0.8625, Val Loss: 0.8680, Learning rate: 0.010000\n",
      "Epoch 33/200, Train Loss: 0.8722, Val Loss: 0.8257, Learning rate: 0.010000\n",
      "Epoch 34/200, Train Loss: 0.8427, Val Loss: 0.8211, Learning rate: 0.010000\n",
      "Epoch 35/200, Train Loss: 0.8249, Val Loss: 0.9205, Learning rate: 0.010000\n",
      "Epoch 36/200, Train Loss: 0.8473, Val Loss: 0.7906, Learning rate: 0.010000\n",
      "Epoch 37/200, Train Loss: 0.7981, Val Loss: 0.7757, Learning rate: 0.010000\n",
      "Epoch 38/200, Train Loss: 0.8087, Val Loss: 0.8082, Learning rate: 0.010000\n",
      "Epoch 39/200, Train Loss: 0.8180, Val Loss: 0.8111, Learning rate: 0.010000\n",
      "Epoch 40/200, Train Loss: 0.8102, Val Loss: 0.7731, Learning rate: 0.010000\n",
      "Epoch 41/200, Train Loss: 0.7821, Val Loss: 0.7779, Learning rate: 0.010000\n",
      "Epoch 42/200, Train Loss: 0.7800, Val Loss: 0.8772, Learning rate: 0.010000\n",
      "Epoch 43/200, Train Loss: 0.8301, Val Loss: 0.7698, Learning rate: 0.010000\n",
      "Epoch 44/200, Train Loss: 0.7720, Val Loss: 0.7522, Learning rate: 0.010000\n",
      "Epoch 45/200, Train Loss: 0.7579, Val Loss: 0.7509, Learning rate: 0.010000\n",
      "Epoch 46/200, Train Loss: 0.7559, Val Loss: 0.7359, Learning rate: 0.010000\n",
      "Epoch 47/200, Train Loss: 0.7301, Val Loss: 0.7848, Learning rate: 0.010000\n",
      "Epoch 48/200, Train Loss: 0.7588, Val Loss: 0.7378, Learning rate: 0.010000\n",
      "Epoch 49/200, Train Loss: 0.7348, Val Loss: 0.7553, Learning rate: 0.010000\n",
      "Epoch 50/200, Train Loss: 0.7473, Val Loss: 0.7295, Learning rate: 0.010000\n",
      "Minimax score: -0.12\n",
      "RandomAgent score: 0.93\n",
      "MCTS score: 0.01999999999999999\n",
      "Epoch 51/200, Train Loss: 0.7426, Val Loss: 0.7498, Learning rate: 0.010000\n",
      "Epoch 52/200, Train Loss: 0.7578, Val Loss: 0.7529, Learning rate: 0.010000\n",
      "Epoch 53/200, Train Loss: 0.7346, Val Loss: 0.7432, Learning rate: 0.010000\n",
      "Epoch 54/200, Train Loss: 0.7358, Val Loss: 0.7228, Learning rate: 0.010000\n",
      "Epoch 55/200, Train Loss: 0.7257, Val Loss: 0.7241, Learning rate: 0.010000\n",
      "Epoch 56/200, Train Loss: 0.7243, Val Loss: 0.7247, Learning rate: 0.010000\n",
      "Epoch 57/200, Train Loss: 0.7344, Val Loss: 0.7300, Learning rate: 0.010000\n",
      "Epoch 58/200, Train Loss: 0.7236, Val Loss: 0.7128, Learning rate: 0.010000\n",
      "Epoch 59/200, Train Loss: 0.7324, Val Loss: 0.7165, Learning rate: 0.010000\n",
      "Epoch 60/200, Train Loss: 0.7222, Val Loss: 0.7253, Learning rate: 0.010000\n",
      "Epoch 61/200, Train Loss: 0.7211, Val Loss: 0.7218, Learning rate: 0.010000\n",
      "Epoch 62/200, Train Loss: 0.7307, Val Loss: 0.7095, Learning rate: 0.010000\n",
      "Epoch 63/200, Train Loss: 0.7082, Val Loss: 0.7091, Learning rate: 0.010000\n",
      "Epoch 64/200, Train Loss: 0.6980, Val Loss: 0.7026, Learning rate: 0.010000\n",
      "Epoch 65/200, Train Loss: 0.7054, Val Loss: 0.7077, Learning rate: 0.010000\n",
      "Epoch 66/200, Train Loss: 0.7084, Val Loss: 0.7302, Learning rate: 0.010000\n",
      "Epoch 67/200, Train Loss: 0.7329, Val Loss: 0.7822, Learning rate: 0.010000\n",
      "Epoch 68/200, Train Loss: 0.7325, Val Loss: 0.7282, Learning rate: 0.010000\n",
      "Epoch 69/200, Train Loss: 0.7153, Val Loss: 0.7099, Learning rate: 0.010000\n",
      "Epoch 70/200, Train Loss: 0.7164, Val Loss: 0.7520, Learning rate: 0.010000\n",
      "Epoch 71/200, Train Loss: 0.7333, Val Loss: 0.7176, Learning rate: 0.010000\n",
      "Epoch 72/200, Train Loss: 0.7232, Val Loss: 0.7429, Learning rate: 0.010000\n",
      "Epoch 73/200, Train Loss: 0.7181, Val Loss: 0.7255, Learning rate: 0.010000\n",
      "Epoch 74/200, Train Loss: 0.7135, Val Loss: 0.7062, Learning rate: 0.010000\n",
      "Epoch 75/200, Train Loss: 0.6986, Val Loss: 0.7022, Learning rate: 0.010000\n",
      "Minimax score: -0.04\n",
      "RandomAgent score: 0.92\n",
      "MCTS score: 0.04\n",
      "Epoch 76/200, Train Loss: 0.6948, Val Loss: 0.6959, Learning rate: 0.010000\n",
      "Epoch 77/200, Train Loss: 0.6976, Val Loss: 0.6969, Learning rate: 0.010000\n",
      "Epoch 78/200, Train Loss: 0.6910, Val Loss: 0.7414, Learning rate: 0.010000\n",
      "Epoch 79/200, Train Loss: 0.6923, Val Loss: 0.7510, Learning rate: 0.010000\n",
      "Epoch 80/200, Train Loss: 0.6937, Val Loss: 0.7169, Learning rate: 0.010000\n",
      "Epoch 81/200, Train Loss: 0.6795, Val Loss: 0.6808, Learning rate: 0.010000\n",
      "Epoch 82/200, Train Loss: 0.6802, Val Loss: 0.7084, Learning rate: 0.010000\n",
      "Epoch 83/200, Train Loss: 0.6844, Val Loss: 0.7033, Learning rate: 0.010000\n",
      "Epoch 84/200, Train Loss: 0.6841, Val Loss: 0.6905, Learning rate: 0.010000\n",
      "Epoch 85/200, Train Loss: 0.6906, Val Loss: 0.7312, Learning rate: 0.010000\n",
      "Epoch 86/200, Train Loss: 0.6930, Val Loss: 0.7044, Learning rate: 0.010000\n",
      "Epoch 87/200, Train Loss: 0.6819, Val Loss: 0.6829, Learning rate: 0.010000\n",
      "Epoch 88/200, Train Loss: 0.6872, Val Loss: 0.6865, Learning rate: 0.010000\n",
      "Epoch 89/200, Train Loss: 0.6813, Val Loss: 0.6899, Learning rate: 0.010000\n",
      "Epoch 90/200, Train Loss: 0.7069, Val Loss: 0.7133, Learning rate: 0.010000\n",
      "Epoch 91/200, Train Loss: 0.6932, Val Loss: 0.7049, Learning rate: 0.010000\n",
      "Epoch 92/200, Train Loss: 0.6752, Val Loss: 0.6944, Learning rate: 0.010000\n",
      "Epoch 93/200, Train Loss: 0.6791, Val Loss: 0.6971, Learning rate: 0.010000\n",
      "Epoch 94/200, Train Loss: 0.6782, Val Loss: 0.6762, Learning rate: 0.010000\n",
      "Epoch 95/200, Train Loss: 0.6757, Val Loss: 0.7514, Learning rate: 0.010000\n",
      "Epoch 96/200, Train Loss: 0.6888, Val Loss: 0.6911, Learning rate: 0.010000\n",
      "Epoch 97/200, Train Loss: 0.6873, Val Loss: 0.7126, Learning rate: 0.010000\n",
      "Epoch 98/200, Train Loss: 0.7046, Val Loss: 0.6876, Learning rate: 0.010000\n",
      "Epoch 99/200, Train Loss: 0.7049, Val Loss: 0.7024, Learning rate: 0.010000\n",
      "Epoch 100/200, Train Loss: 0.6947, Val Loss: 0.7234, Learning rate: 0.010000\n",
      "Minimax score: 0.0\n",
      "RandomAgent score: 0.9\n",
      "MCTS score: 0.06\n",
      "Epoch 101/200, Train Loss: 0.6933, Val Loss: 0.7097, Learning rate: 0.010000\n",
      "Epoch 102/200, Train Loss: 0.6911, Val Loss: 0.6860, Learning rate: 0.010000\n",
      "Epoch 103/200, Train Loss: 0.6822, Val Loss: 0.6984, Learning rate: 0.010000\n",
      "Epoch 104/200, Train Loss: 0.6737, Val Loss: 0.6727, Learning rate: 0.010000\n",
      "Epoch 105/200, Train Loss: 0.6704, Val Loss: 0.6826, Learning rate: 0.010000\n",
      "Epoch 106/200, Train Loss: 0.6586, Val Loss: 0.6891, Learning rate: 0.010000\n",
      "Epoch 107/200, Train Loss: 0.6639, Val Loss: 0.6703, Learning rate: 0.010000\n",
      "Epoch 108/200, Train Loss: 0.6746, Val Loss: 0.6795, Learning rate: 0.010000\n",
      "Epoch 109/200, Train Loss: 0.6889, Val Loss: 0.6831, Learning rate: 0.010000\n",
      "Epoch 110/200, Train Loss: 0.6868, Val Loss: 0.7187, Learning rate: 0.010000\n",
      "Epoch 111/200, Train Loss: 0.6782, Val Loss: 0.7056, Learning rate: 0.010000\n",
      "Epoch 112/200, Train Loss: 0.6677, Val Loss: 0.7090, Learning rate: 0.010000\n",
      "Epoch 113/200, Train Loss: 0.6542, Val Loss: 0.6906, Learning rate: 0.010000\n",
      "Epoch 114/200, Train Loss: 0.6680, Val Loss: 0.6963, Learning rate: 0.010000\n",
      "Epoch 115/200, Train Loss: 0.6716, Val Loss: 0.6733, Learning rate: 0.010000\n",
      "Epoch 116/200, Train Loss: 0.6692, Val Loss: 0.6968, Learning rate: 0.010000\n",
      "Epoch 117/200, Train Loss: 0.6662, Val Loss: 0.6907, Learning rate: 0.010000\n",
      "Epoch 118/200, Train Loss: 0.7087, Val Loss: 0.7081, Learning rate: 0.010000\n",
      "Epoch 119/200, Train Loss: 0.6703, Val Loss: 0.6665, Learning rate: 0.010000\n",
      "Epoch 120/200, Train Loss: 0.6853, Val Loss: 0.7023, Learning rate: 0.010000\n",
      "Epoch 121/200, Train Loss: 0.6800, Val Loss: 0.6903, Learning rate: 0.010000\n",
      "Epoch 122/200, Train Loss: 0.6789, Val Loss: 0.6789, Learning rate: 0.010000\n",
      "Epoch 123/200, Train Loss: 0.6585, Val Loss: 0.6655, Learning rate: 0.010000\n",
      "Epoch 124/200, Train Loss: 0.6617, Val Loss: 0.6905, Learning rate: 0.010000\n",
      "Epoch 125/200, Train Loss: 0.6779, Val Loss: 0.6763, Learning rate: 0.010000\n",
      "Minimax score: 0.0\n",
      "RandomAgent score: 0.85\n",
      "MCTS score: -0.05\n",
      "Epoch 126/200, Train Loss: 0.6715, Val Loss: 0.6786, Learning rate: 0.010000\n",
      "Epoch 127/200, Train Loss: 0.6475, Val Loss: 0.6567, Learning rate: 0.010000\n",
      "Epoch 128/200, Train Loss: 0.6403, Val Loss: 0.6866, Learning rate: 0.010000\n",
      "Epoch 129/200, Train Loss: 0.6463, Val Loss: 0.6636, Learning rate: 0.010000\n",
      "Epoch 130/200, Train Loss: 0.6666, Val Loss: 0.6633, Learning rate: 0.010000\n",
      "Epoch 131/200, Train Loss: 0.6476, Val Loss: 0.7017, Learning rate: 0.010000\n",
      "Epoch 132/200, Train Loss: 0.6662, Val Loss: 0.6781, Learning rate: 0.010000\n",
      "Epoch 133/200, Train Loss: 0.6569, Val Loss: 0.6743, Learning rate: 0.010000\n",
      "Epoch 134/200, Train Loss: 0.6498, Val Loss: 0.6646, Learning rate: 0.010000\n",
      "Epoch 135/200, Train Loss: 0.6658, Val Loss: 0.6857, Learning rate: 0.010000\n",
      "Epoch 136/200, Train Loss: 0.6628, Val Loss: 0.6856, Learning rate: 0.010000\n",
      "Epoch 137/200, Train Loss: 0.6684, Val Loss: 0.7164, Learning rate: 0.010000\n",
      "Epoch 138/200, Train Loss: 0.6640, Val Loss: 0.6704, Learning rate: 0.010000\n",
      "Epoch 139/200, Train Loss: 0.6645, Val Loss: 0.6877, Learning rate: 0.010000\n",
      "Epoch 140/200, Train Loss: 0.6841, Val Loss: 0.7214, Learning rate: 0.010000\n",
      "Epoch 141/200, Train Loss: 0.6825, Val Loss: 0.6739, Learning rate: 0.010000\n",
      "Epoch 142/200, Train Loss: 0.6513, Val Loss: 0.6615, Learning rate: 0.010000\n",
      "Epoch 143/200, Train Loss: 0.6388, Val Loss: 0.6546, Learning rate: 0.010000\n",
      "Epoch 144/200, Train Loss: 0.6434, Val Loss: 0.6769, Learning rate: 0.010000\n",
      "Epoch 145/200, Train Loss: 0.6391, Val Loss: 0.6709, Learning rate: 0.010000\n",
      "Epoch 146/200, Train Loss: 0.6490, Val Loss: 0.6644, Learning rate: 0.010000\n",
      "Epoch 147/200, Train Loss: 0.6668, Val Loss: 0.6903, Learning rate: 0.010000\n",
      "Epoch 148/200, Train Loss: 0.6712, Val Loss: 0.7038, Learning rate: 0.010000\n",
      "Epoch 149/200, Train Loss: 0.6668, Val Loss: 0.6535, Learning rate: 0.010000\n",
      "Epoch 150/200, Train Loss: 0.6584, Val Loss: 0.6764, Learning rate: 0.010000\n",
      "Minimax score: -0.01\n",
      "RandomAgent score: 0.91\n",
      "MCTS score: 0.01\n",
      "Epoch 151/200, Train Loss: 0.6616, Val Loss: 0.7004, Learning rate: 0.010000\n",
      "Epoch 152/200, Train Loss: 0.6849, Val Loss: 0.6691, Learning rate: 0.010000\n",
      "Epoch 153/200, Train Loss: 0.6852, Val Loss: 0.6750, Learning rate: 0.010000\n",
      "Epoch 154/200, Train Loss: 0.6691, Val Loss: 0.7137, Learning rate: 0.010000\n",
      "Epoch 155/200, Train Loss: 0.6550, Val Loss: 0.6655, Learning rate: 0.010000\n",
      "Epoch 156/200, Train Loss: 0.6298, Val Loss: 0.6859, Learning rate: 0.010000\n",
      "Epoch 157/200, Train Loss: 0.6407, Val Loss: 0.6632, Learning rate: 0.010000\n",
      "Epoch 158/200, Train Loss: 0.6401, Val Loss: 0.6766, Learning rate: 0.010000\n",
      "Epoch 159/200, Train Loss: 0.6621, Val Loss: 0.6810, Learning rate: 0.010000\n",
      "Epoch 160/200, Train Loss: 0.6711, Val Loss: 0.6981, Learning rate: 0.010000\n",
      "Epoch 161/200, Train Loss: 0.6542, Val Loss: 0.6530, Learning rate: 0.010000\n",
      "Epoch 162/200, Train Loss: 0.6409, Val Loss: 0.6590, Learning rate: 0.010000\n",
      "Epoch 163/200, Train Loss: 0.6396, Val Loss: 0.6609, Learning rate: 0.010000\n",
      "Epoch 164/200, Train Loss: 0.6395, Val Loss: 0.7147, Learning rate: 0.010000\n",
      "Epoch 165/200, Train Loss: 0.6374, Val Loss: 0.6715, Learning rate: 0.010000\n",
      "Epoch 166/200, Train Loss: 0.6268, Val Loss: 0.6540, Learning rate: 0.010000\n",
      "Epoch 167/200, Train Loss: 0.6370, Val Loss: 0.6766, Learning rate: 0.010000\n",
      "Epoch 168/200, Train Loss: 0.6460, Val Loss: 0.6637, Learning rate: 0.010000\n",
      "Epoch 169/200, Train Loss: 0.6508, Val Loss: 0.6622, Learning rate: 0.010000\n",
      "Epoch 170/200, Train Loss: 0.6469, Val Loss: 0.6563, Learning rate: 0.010000\n",
      "Epoch 171/200, Train Loss: 0.6370, Val Loss: 0.6525, Learning rate: 0.010000\n",
      "Epoch 172/200, Train Loss: 0.6446, Val Loss: 0.6614, Learning rate: 0.010000\n",
      "Epoch 173/200, Train Loss: 0.6350, Val Loss: 0.7055, Learning rate: 0.010000\n",
      "Epoch 174/200, Train Loss: 0.6329, Val Loss: 0.6727, Learning rate: 0.010000\n",
      "Epoch 175/200, Train Loss: 0.6511, Val Loss: 0.6597, Learning rate: 0.010000\n",
      "Minimax score: -0.17\n",
      "RandomAgent score: 0.9099999999999999\n",
      "MCTS score: -0.009999999999999995\n",
      "Epoch 176/200, Train Loss: 0.6514, Val Loss: 0.6952, Learning rate: 0.010000\n",
      "Epoch 177/200, Train Loss: 0.6544, Val Loss: 0.6609, Learning rate: 0.010000\n",
      "Epoch 178/200, Train Loss: 0.6519, Val Loss: 0.6409, Learning rate: 0.010000\n",
      "Epoch 179/200, Train Loss: 0.6305, Val Loss: 0.6725, Learning rate: 0.010000\n",
      "Epoch 180/200, Train Loss: 0.6329, Val Loss: 0.7084, Learning rate: 0.010000\n",
      "Epoch 181/200, Train Loss: 0.6540, Val Loss: 0.7114, Learning rate: 0.010000\n",
      "Epoch 182/200, Train Loss: 0.6613, Val Loss: 0.6962, Learning rate: 0.010000\n",
      "Epoch 183/200, Train Loss: 0.6495, Val Loss: 0.7015, Learning rate: 0.010000\n",
      "Epoch 184/200, Train Loss: 0.6387, Val Loss: 0.6703, Learning rate: 0.010000\n",
      "Epoch 185/200, Train Loss: 0.6340, Val Loss: 0.6837, Learning rate: 0.010000\n",
      "Epoch 186/200, Train Loss: 0.6334, Val Loss: 0.6846, Learning rate: 0.010000\n",
      "Epoch 187/200, Train Loss: 0.6271, Val Loss: 0.6606, Learning rate: 0.010000\n",
      "Epoch 188/200, Train Loss: 0.6174, Val Loss: 0.6460, Learning rate: 0.010000\n",
      "Epoch 189/200, Train Loss: 0.6234, Val Loss: 0.6638, Learning rate: 0.010000\n",
      "Epoch 190/200, Train Loss: 0.6288, Val Loss: 0.6834, Learning rate: 0.010000\n",
      "Epoch 191/200, Train Loss: 0.6403, Val Loss: 0.6609, Learning rate: 0.010000\n",
      "Epoch 192/200, Train Loss: 0.6246, Val Loss: 0.6705, Learning rate: 0.010000\n",
      "Epoch 193/200, Train Loss: 0.6197, Val Loss: 0.6581, Learning rate: 0.010000\n",
      "Epoch 194/200, Train Loss: 0.6118, Val Loss: 0.6551, Learning rate: 0.010000\n",
      "Epoch 195/200, Train Loss: 0.6157, Val Loss: 0.6507, Learning rate: 0.010000\n",
      "Epoch 196/200, Train Loss: 0.6166, Val Loss: 0.6480, Learning rate: 0.010000\n",
      "Epoch 197/200, Train Loss: 0.6028, Val Loss: 0.6441, Learning rate: 0.010000\n",
      "Epoch 198/200, Train Loss: 0.5987, Val Loss: 0.6326, Learning rate: 0.010000\n",
      "Epoch 199/200, Train Loss: 0.5852, Val Loss: 0.6277, Learning rate: 0.010000\n",
      "Epoch 200/200, Train Loss: 0.5880, Val Loss: 0.6364, Learning rate: 0.010000\n",
      "Minimax score: 0.0\n",
      "RandomAgent score: 0.91\n",
      "MCTS score: 0.21\n",
      "Training complete.\n",
      "Best val_loss: 0.4728\n",
      "Final val_loss: 0.6364\n"
     ]
    }
   ],
   "source": [
    "# Perform training\n",
    "\n",
    "from applications.tic_tac_toe.train import train\n",
    "\n",
    "model_interface = train(\n",
    "    model_type=model_type,\n",
    "    model_params=model_params,\n",
    "    device=device,\n",
    "    model_name=model_name,\n",
    "    optimizer_type=optimizer_type,\n",
    "    optimizer_params=optimizer_params,\n",
    "    lr_scheduler_type=lr_scheduler_type,\n",
    "    lr_scheduler_params=lr_scheduler_params,\n",
    "    training_method=training_method,\n",
    "    trainer_params=trainer_params,\n",
    "    training_params=training_params,\n",
    "    load_model=load_model,\n",
    "    load_model_params=load_model_params,\n",
    "    load_replay_buffer=load_replay_buffer,\n",
    "    load_replay_buffer_params=load_replay_buffer_params,\n",
    "    wandb_run=run\n",
    ")"
   ]
  },
  {
   "cell_type": "code",
   "execution_count": 5,
   "metadata": {},
   "outputs": [
    {
     "data": {
      "text/html": [],
      "text/plain": [
       "<IPython.core.display.HTML object>"
      ]
     },
     "metadata": {},
     "output_type": "display_data"
    },
    {
     "data": {
      "text/html": [
       "<br>    <style><br>        .wandb-row {<br>            display: flex;<br>            flex-direction: row;<br>            flex-wrap: wrap;<br>            justify-content: flex-start;<br>            width: 100%;<br>        }<br>        .wandb-col {<br>            display: flex;<br>            flex-direction: column;<br>            flex-basis: 100%;<br>            flex: 1;<br>            padding: 10px;<br>        }<br>    </style><br><div class=\"wandb-row\"><div class=\"wandb-col\"><h3>Run history:</h3><br/><table class=\"wandb\"><tr><td>MCTS_draw_rate</td><td>▁▅██▇█▇▆</td></tr><tr><td>MCTS_loss_rate</td><td>█▂▁▁▂▁▂▁</td></tr><tr><td>MCTS_score</td><td>▁▇▇▇▆▇▇█</td></tr><tr><td>MCTS_win_rate</td><td>▁▇▂▃▂▁▃█</td></tr><tr><td>Minimax_draw_rate</td><td>▁▇████▇█</td></tr><tr><td>Minimax_loss_rate</td><td>█▂▁▁▁▁▂▁</td></tr><tr><td>Minimax_score</td><td>▁▇████▇█</td></tr><tr><td>Minimax_win_rate</td><td>▁▁▁▁▁▁▁▁</td></tr><tr><td>RandomAgent_draw_rate</td><td>▁▄▅▆█▅▁▅</td></tr><tr><td>RandomAgent_loss_rate</td><td>█▁▁▁▂▁▄▁</td></tr><tr><td>RandomAgent_score</td><td>▁█▇▆▂▇▇▇</td></tr><tr><td>RandomAgent_win_rate</td><td>▄▇▆▄▁▅█▅</td></tr><tr><td>epoch</td><td>▁▁▂▂▂▂▂▂▂▃▃▃▃▃▃▃▃▄▄▄▄▄▅▅▅▅▅▅▆▆▆▆▆▆▆▇▇███</td></tr><tr><td>learning_rate</td><td>▁▁▁▁▁▁▁▁▁▁▁▁▁▁▁▁▁▁▁▁▁▁▁▁▁▁▁▁▁▁▁▁▁▁▁▁▁▁▁▁</td></tr><tr><td>train_loss</td><td>███▇▆▄▄▄▃▃▂▂▂▂▂▂▂▂▂▂▁▂▂▂▂▂▁▂▂▁▁▁▁▁▁▁▁▁▁▁</td></tr><tr><td>train_policy_loss</td><td>█▆▆▅▅▃▃▃▃▃▂▂▂▂▂▂▂▂▂▂▂▂▂▂▂▂▂▂▂▂▂▂▂▂▂▂▁▂▁▁</td></tr><tr><td>train_value_loss</td><td>██▄▃▃▂▂▂▂▂▂▁▁▁▁▁▁▁▁▁▁▁▁▁▁▁▁▁▁▁▁▁▁▁▁▁▁▁▁▁</td></tr><tr><td>val_loss</td><td>██▇▄▅▄▃▃▂▂▁▂▂▁▂▁▁▁▁▁▁▁▁▁▁▁▁▁▁▁▁▁▁▁▁▁▁▁▁▁</td></tr><tr><td>val_policy_loss</td><td>█▆▆▆▆▆▄▄▃▃▂▂▂▂▂▂▂▂▂▂▂▂▂▂▁▂▁▂▂▁▁▁▂▁▁▂▂▁▂▁</td></tr><tr><td>val_value_loss</td><td>██▇▇▃▂▂▂▂▂▂▁▁▁▁▁▁▁▁▁▁▁▁▁▁▁▁▁▁▁▁▁▁▁▁▁▁▁▁▁</td></tr></table><br/></div><div class=\"wandb-col\"><h3>Run summary:</h3><br/><table class=\"wandb\"><tr><td>MCTS_draw_rate</td><td>0.79</td></tr><tr><td>MCTS_loss_rate</td><td>0</td></tr><tr><td>MCTS_score</td><td>0.21</td></tr><tr><td>MCTS_win_rate</td><td>0.21</td></tr><tr><td>Minimax_draw_rate</td><td>1</td></tr><tr><td>Minimax_loss_rate</td><td>0</td></tr><tr><td>Minimax_score</td><td>0</td></tr><tr><td>Minimax_win_rate</td><td>0</td></tr><tr><td>RandomAgent_draw_rate</td><td>0.09</td></tr><tr><td>RandomAgent_loss_rate</td><td>0</td></tr><tr><td>RandomAgent_score</td><td>0.91</td></tr><tr><td>RandomAgent_win_rate</td><td>0.91</td></tr><tr><td>epoch</td><td>200</td></tr><tr><td>learning_rate</td><td>0.01</td></tr><tr><td>train_loss</td><td>0.58797</td></tr><tr><td>train_policy_loss</td><td>0.56545</td></tr><tr><td>train_value_loss</td><td>0.02252</td></tr><tr><td>val_loss</td><td>0.63644</td></tr><tr><td>val_policy_loss</td><td>0.61136</td></tr><tr><td>val_value_loss</td><td>0.02508</td></tr></table><br/></div></div>"
      ],
      "text/plain": [
       "<IPython.core.display.HTML object>"
      ]
     },
     "metadata": {},
     "output_type": "display_data"
    },
    {
     "data": {
      "text/html": [
       " View run <strong style=\"color:#cdcd00\">Experimental Transformer 14</strong> at: <a href='https://wandb.ai/eigenway/AlphaZero-TicTacToe/runs/c05thnxc' target=\"_blank\">https://wandb.ai/eigenway/AlphaZero-TicTacToe/runs/c05thnxc</a><br> View project at: <a href='https://wandb.ai/eigenway/AlphaZero-TicTacToe' target=\"_blank\">https://wandb.ai/eigenway/AlphaZero-TicTacToe</a><br>Synced 5 W&B file(s), 0 media file(s), 8 artifact file(s) and 0 other file(s)"
      ],
      "text/plain": [
       "<IPython.core.display.HTML object>"
      ]
     },
     "metadata": {},
     "output_type": "display_data"
    },
    {
     "data": {
      "text/html": [
       "Find logs at: <code>./wandb/run-20250316_182328-c05thnxc/logs</code>"
      ],
      "text/plain": [
       "<IPython.core.display.HTML object>"
      ]
     },
     "metadata": {},
     "output_type": "display_data"
    }
   ],
   "source": [
    "run.finish()"
   ]
  },
  {
   "cell_type": "code",
   "execution_count": 6,
   "metadata": {},
   "outputs": [
    {
     "name": "stdout",
     "output_type": "stream",
     "text": [
      "Total parameters: 13,798\n",
      "Trainable parameters: 13,798 (100.00%)\n",
      "Non-trainable parameters: 0 (0.00%)\n",
      "\n",
      "Parameters by layer:\n",
      "pos_embedding: 288 parameters\n",
      "input_embedding.weight: 96 parameters\n",
      "norm1.weight: 32 parameters\n",
      "norm1.bias: 32 parameters\n",
      "attn.mask: 324 parameters\n",
      "attn.q_emb.weight: 1,024 parameters\n",
      "attn.q_emb.bias: 32 parameters\n",
      "attn.k_emb.weight: 1,024 parameters\n",
      "attn.k_emb.bias: 32 parameters\n",
      "attn.v_emb.weight: 1,024 parameters\n",
      "attn.v_emb.bias: 32 parameters\n",
      "attn.out_emb.weight: 1,024 parameters\n",
      "attn.out_emb.bias: 32 parameters\n",
      "norm2.weight: 32 parameters\n",
      "norm2.bias: 32 parameters\n",
      "mlp.0.weight: 4,096 parameters\n",
      "mlp.0.bias: 128 parameters\n",
      "mlp.2.weight: 4,096 parameters\n",
      "mlp.2.bias: 32 parameters\n",
      "norm3.weight: 32 parameters\n",
      "norm3.bias: 32 parameters\n",
      "policy_head.weight: 32 parameters\n",
      "policy_head.bias: 1 parameters\n",
      "value_head.weight: 288 parameters\n",
      "value_head.bias: 1 parameters\n"
     ]
    }
   ],
   "source": [
    "def print_model_parameters(model):\n",
    "    \"\"\"\n",
    "    Print the total number of parameters in a PyTorch model,\n",
    "    with a breakdown of trainable vs non-trainable parameters.\n",
    "    \n",
    "    Args:\n",
    "        model: PyTorch model\n",
    "    \"\"\"\n",
    "    total_params = sum(p.numel() for p in model.parameters())\n",
    "    trainable_params = sum(p.numel() for p in model.parameters() if p.requires_grad)\n",
    "    non_trainable_params = total_params - trainable_params\n",
    "    \n",
    "    print(f\"Total parameters: {total_params:,}\")\n",
    "    print(f\"Trainable parameters: {trainable_params:,} ({trainable_params/total_params:.2%})\")\n",
    "    print(f\"Non-trainable parameters: {non_trainable_params:,} ({non_trainable_params/total_params:.2%})\")\n",
    "    \n",
    "    # Optional: Print parameters by layer\n",
    "    print(\"\\nParameters by layer:\")\n",
    "    for name, param in model.named_parameters():\n",
    "        print(f\"{name}: {param.numel():,} parameters\")\n",
    "\n",
    "# Example usage\n",
    "print_model_parameters(model_interface.model)"
   ]
  }
 ],
 "metadata": {
  "kernelspec": {
   "display_name": "dots-and-boxes",
   "language": "python",
   "name": "python3"
  },
  "language_info": {
   "codemirror_mode": {
    "name": "ipython",
    "version": 3
   },
   "file_extension": ".py",
   "mimetype": "text/x-python",
   "name": "python",
   "nbconvert_exporter": "python",
   "pygments_lexer": "ipython3",
   "version": "3.13.1"
  }
 },
 "nbformat": 4,
 "nbformat_minor": 2
}
