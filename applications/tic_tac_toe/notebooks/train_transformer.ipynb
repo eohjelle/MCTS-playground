{
 "cells": [
  {
   "cell_type": "code",
   "execution_count": 1,
   "metadata": {},
   "outputs": [
    {
     "name": "stdout",
     "output_type": "stream",
     "text": [
      "Working directory: /Users/eohjelle/Documents/2025-dots-and-boxes/dots-and-boxes\n"
     ]
    }
   ],
   "source": [
    "# Change directory to the root of the project\n",
    "import os \n",
    "os.chdir('..')\n",
    "os.chdir('..')\n",
    "os.chdir('..')\n",
    "print(f\"Working directory: {os.getcwd()}\")"
   ]
  },
  {
   "cell_type": "code",
   "execution_count": 2,
   "metadata": {},
   "outputs": [],
   "source": [
    "from applications.tic_tac_toe.models.transformer_model import TransformerInitParams\n",
    "import torch\n",
    "\n",
    "# Initialize parameters\n",
    "\n",
    "## Model parameters\n",
    "model_type = 'transformer'\n",
    "model_params: TransformerInitParams = {\n",
    "    'attention_layers': 1,\n",
    "    'embed_dim': 32,\n",
    "    'num_heads': 4,\n",
    "    'feedforward_dim': 128,\n",
    "    'dropout': 0.0,\n",
    "    'norm_first': True,\n",
    "    'activation': 'relu'\n",
    "}\n",
    "device = torch.device('mps')\n",
    "model_name = 'tic_tac_toe_transformer'\n",
    "\n",
    "## Initialize new model\n",
    "load_model = None\n",
    "load_model_params = {}\n",
    "\n",
    "\n",
    "## Optimizer parameters\n",
    "optimizer_type = 'adam'\n",
    "optimizer_params = {\n",
    "    'lr': 1e-2,\n",
    "    'betas': (0.9, 0.999),\n",
    "    'eps': 1e-8,\n",
    "    'weight_decay': 1e-4,\n",
    "    'amsgrad': False\n",
    "}\n",
    "\n",
    "## Learning scheduler parameters\n",
    "lr_scheduler_type = 'plateau'\n",
    "lr_scheduler_params = {\n",
    "    'factor': 0.5,\n",
    "    'patience': 25,\n",
    "    'cooldown': 50,\n",
    "    'min_lr': 1e-6\n",
    "}\n",
    "\n",
    "## Training parameters\n",
    "training_method = 'supervised'\n",
    "trainer_params = {}\n",
    "training_params = {\n",
    "    'epochs': 200,\n",
    "    'batch_size': 256,\n",
    "    'eval_freq': 25,\n",
    "    'checkpoint_freq': 50,\n",
    "    'mask_illegal_moves': False,\n",
    "    'mask_value': -20.0, # Doesn't matter when mask_illegal_moves is False\n",
    "    'checkpoint_dir': 'checkpoints',\n",
    "    'start_at': 1\n",
    "}\n",
    "\n",
    "## Load replay buffer from wandb\n",
    "load_replay_buffer = 'from_wandb'\n",
    "load_replay_buffer_params = {\n",
    "    'project': 'AlphaZero-TicTacToe',\n",
    "    'artifact_name': f'tic_tac_toe_TokenizedTensorMapping_training_data',\n",
    "    'artifact_version': 'latest'\n",
    "}\n"
   ]
  },
  {
   "cell_type": "code",
   "execution_count": 3,
   "metadata": {},
   "outputs": [
    {
     "name": "stderr",
     "output_type": "stream",
     "text": [
      "\u001b[34m\u001b[1mwandb\u001b[0m: Currently logged in as: \u001b[33meohjelle\u001b[0m (\u001b[33meigenway\u001b[0m) to \u001b[32mhttps://api.wandb.ai\u001b[0m. Use \u001b[1m`wandb login --relogin`\u001b[0m to force relogin\n",
      "\u001b[34m\u001b[1mwandb\u001b[0m: Using wandb-core as the SDK backend.  Please refer to https://wandb.me/wandb-core for more information.\n"
     ]
    },
    {
     "data": {
      "text/html": [
       "Tracking run with wandb version 0.19.6"
      ],
      "text/plain": [
       "<IPython.core.display.HTML object>"
      ]
     },
     "metadata": {},
     "output_type": "display_data"
    },
    {
     "data": {
      "text/html": [
       "Run data is saved locally in <code>/Users/eohjelle/Documents/2025-dots-and-boxes/dots-and-boxes/wandb/run-20250316_175828-4n6x5p4z</code>"
      ],
      "text/plain": [
       "<IPython.core.display.HTML object>"
      ]
     },
     "metadata": {},
     "output_type": "display_data"
    },
    {
     "data": {
      "text/html": [
       "Syncing run <strong><a href='https://wandb.ai/eigenway/AlphaZero-TicTacToe/runs/4n6x5p4z' target=\"_blank\">Transformer 3</a></strong> to <a href='https://wandb.ai/eigenway/AlphaZero-TicTacToe' target=\"_blank\">Weights & Biases</a> (<a href='https://wandb.me/developer-guide' target=\"_blank\">docs</a>)<br>"
      ],
      "text/plain": [
       "<IPython.core.display.HTML object>"
      ]
     },
     "metadata": {},
     "output_type": "display_data"
    },
    {
     "data": {
      "text/html": [
       " View project at <a href='https://wandb.ai/eigenway/AlphaZero-TicTacToe' target=\"_blank\">https://wandb.ai/eigenway/AlphaZero-TicTacToe</a>"
      ],
      "text/plain": [
       "<IPython.core.display.HTML object>"
      ]
     },
     "metadata": {},
     "output_type": "display_data"
    },
    {
     "data": {
      "text/html": [
       " View run at <a href='https://wandb.ai/eigenway/AlphaZero-TicTacToe/runs/4n6x5p4z' target=\"_blank\">https://wandb.ai/eigenway/AlphaZero-TicTacToe/runs/4n6x5p4z</a>"
      ],
      "text/plain": [
       "<IPython.core.display.HTML object>"
      ]
     },
     "metadata": {},
     "output_type": "display_data"
    }
   ],
   "source": [
    "# Initialize wandb run\n",
    "import wandb\n",
    "\n",
    "run_name = 'Transformer 3'\n",
    "notes = 'Same as v2.'\n",
    "\n",
    "config = {\n",
    "    'model_type': model_type,\n",
    "    'model_params': model_params,\n",
    "    'optimizer_type': optimizer_type,\n",
    "    'optimizer_params': optimizer_params,\n",
    "    'lr_scheduler_type': lr_scheduler_type,\n",
    "    'lr_scheduler_params': lr_scheduler_params,\n",
    "    'training_method': training_method,\n",
    "    'trainer_params': trainer_params,\n",
    "    'training_params': training_params\n",
    "}\n",
    "\n",
    "run = wandb.init(\n",
    "    project='AlphaZero-TicTacToe',\n",
    "    name=run_name,\n",
    "    config=config,\n",
    "    notes=notes\n",
    ")"
   ]
  },
  {
   "cell_type": "code",
   "execution_count": 4,
   "metadata": {},
   "outputs": [
    {
     "name": "stderr",
     "output_type": "stream",
     "text": [
      "\u001b[34m\u001b[1mwandb\u001b[0m: logging graph, to disable use `wandb.watch(log_graph=False)`\n",
      "\u001b[34m\u001b[1mwandb\u001b[0m:   1 of 1 files downloaded.  \n",
      "/Users/eohjelle/Documents/2025-dots-and-boxes/dots-and-boxes/core/data_structures.py:94: FutureWarning: You are using `torch.load` with `weights_only=False` (the current default value), which uses the default pickle module implicitly. It is possible to construct malicious pickle data which will execute arbitrary code during unpickling (See https://github.com/pytorch/pytorch/blob/main/SECURITY.md#untrusted-models for more details). In a future release, the default value for `weights_only` will be flipped to `True`. This limits the functions that could be executed during unpickling. Arbitrary objects will no longer be allowed to be loaded via this mode unless they are explicitly allowlisted by the user via `torch.serialization.add_safe_globals`. We recommend you start setting `weights_only=True` for any use case where you don't have full control of the loaded file. Please open an issue on GitHub for any issues related to this experimental feature.\n",
      "  checkpoint = torch.load(path, map_location=device)\n"
     ]
    },
    {
     "name": "stdout",
     "output_type": "stream",
     "text": [
      "Epoch 1/200, Train Loss: 1.8799, Val Loss: 1.6094, Learning rate: 0.010000\n",
      "Epoch 2/200, Train Loss: 1.6057, Val Loss: 1.5658, Learning rate: 0.010000\n",
      "Epoch 3/200, Train Loss: 1.5963, Val Loss: 1.5464, Learning rate: 0.010000\n",
      "Epoch 4/200, Train Loss: 1.5696, Val Loss: 1.5093, Learning rate: 0.010000\n",
      "Epoch 5/200, Train Loss: 1.5646, Val Loss: 1.4948, Learning rate: 0.010000\n",
      "Epoch 6/200, Train Loss: 1.5583, Val Loss: 1.5459, Learning rate: 0.010000\n",
      "Epoch 7/200, Train Loss: 1.5449, Val Loss: 1.5371, Learning rate: 0.010000\n",
      "Epoch 8/200, Train Loss: 1.5204, Val Loss: 1.4911, Learning rate: 0.010000\n",
      "Epoch 9/200, Train Loss: 1.4841, Val Loss: 1.4220, Learning rate: 0.010000\n",
      "Epoch 10/200, Train Loss: 1.4398, Val Loss: 1.3962, Learning rate: 0.010000\n",
      "Epoch 11/200, Train Loss: 1.4147, Val Loss: 1.3376, Learning rate: 0.010000\n",
      "Epoch 12/200, Train Loss: 1.3667, Val Loss: 1.2790, Learning rate: 0.010000\n",
      "Epoch 13/200, Train Loss: 1.3490, Val Loss: 1.2270, Learning rate: 0.010000\n",
      "Epoch 14/200, Train Loss: 1.2703, Val Loss: 1.2214, Learning rate: 0.010000\n",
      "Epoch 15/200, Train Loss: 1.2381, Val Loss: 1.1857, Learning rate: 0.010000\n",
      "Epoch 16/200, Train Loss: 1.2058, Val Loss: 1.1343, Learning rate: 0.010000\n",
      "Epoch 17/200, Train Loss: 1.1684, Val Loss: 1.1492, Learning rate: 0.010000\n",
      "Epoch 18/200, Train Loss: 1.1616, Val Loss: 1.1111, Learning rate: 0.010000\n",
      "Epoch 19/200, Train Loss: 1.1449, Val Loss: 1.1234, Learning rate: 0.010000\n",
      "Epoch 20/200, Train Loss: 1.1028, Val Loss: 1.0209, Learning rate: 0.010000\n",
      "Epoch 21/200, Train Loss: 1.0618, Val Loss: 0.9913, Learning rate: 0.010000\n",
      "Epoch 22/200, Train Loss: 1.0504, Val Loss: 1.0280, Learning rate: 0.010000\n",
      "Epoch 23/200, Train Loss: 1.0311, Val Loss: 1.0210, Learning rate: 0.010000\n",
      "Epoch 24/200, Train Loss: 1.0150, Val Loss: 0.9933, Learning rate: 0.010000\n",
      "Epoch 25/200, Train Loss: 1.0179, Val Loss: 0.9689, Learning rate: 0.010000\n",
      "Minimax score: -0.3\n",
      "RandomAgent score: 0.9199999999999999\n",
      "MCTS score: -0.24000000000000002\n",
      "Epoch 26/200, Train Loss: 1.0026, Val Loss: 1.0072, Learning rate: 0.010000\n",
      "Epoch 27/200, Train Loss: 0.9810, Val Loss: 0.9744, Learning rate: 0.010000\n",
      "Epoch 28/200, Train Loss: 0.9825, Val Loss: 0.9621, Learning rate: 0.010000\n",
      "Epoch 29/200, Train Loss: 0.9720, Val Loss: 0.9406, Learning rate: 0.010000\n",
      "Epoch 30/200, Train Loss: 0.9664, Val Loss: 0.9144, Learning rate: 0.010000\n",
      "Epoch 31/200, Train Loss: 0.9365, Val Loss: 0.9172, Learning rate: 0.010000\n",
      "Epoch 32/200, Train Loss: 0.9402, Val Loss: 0.9244, Learning rate: 0.010000\n",
      "Epoch 33/200, Train Loss: 0.9262, Val Loss: 0.8940, Learning rate: 0.010000\n",
      "Epoch 34/200, Train Loss: 0.9032, Val Loss: 0.9034, Learning rate: 0.010000\n",
      "Epoch 35/200, Train Loss: 0.9215, Val Loss: 0.9101, Learning rate: 0.010000\n",
      "Epoch 36/200, Train Loss: 0.9402, Val Loss: 0.9716, Learning rate: 0.010000\n",
      "Epoch 37/200, Train Loss: 0.9500, Val Loss: 0.9434, Learning rate: 0.010000\n",
      "Epoch 38/200, Train Loss: 0.9205, Val Loss: 0.8958, Learning rate: 0.010000\n",
      "Epoch 39/200, Train Loss: 0.9078, Val Loss: 0.9153, Learning rate: 0.010000\n",
      "Epoch 40/200, Train Loss: 0.9108, Val Loss: 0.9289, Learning rate: 0.010000\n",
      "Epoch 41/200, Train Loss: 0.8836, Val Loss: 0.8821, Learning rate: 0.010000\n",
      "Epoch 42/200, Train Loss: 0.9029, Val Loss: 0.9066, Learning rate: 0.010000\n",
      "Epoch 43/200, Train Loss: 0.9087, Val Loss: 0.9108, Learning rate: 0.010000\n",
      "Epoch 44/200, Train Loss: 0.8861, Val Loss: 0.8820, Learning rate: 0.010000\n",
      "Epoch 45/200, Train Loss: 0.8704, Val Loss: 0.8917, Learning rate: 0.010000\n",
      "Epoch 46/200, Train Loss: 0.8709, Val Loss: 0.9142, Learning rate: 0.010000\n",
      "Epoch 47/200, Train Loss: 0.8704, Val Loss: 0.8807, Learning rate: 0.010000\n",
      "Epoch 48/200, Train Loss: 0.8599, Val Loss: 0.8869, Learning rate: 0.010000\n",
      "Epoch 49/200, Train Loss: 0.8653, Val Loss: 0.8897, Learning rate: 0.010000\n",
      "Epoch 50/200, Train Loss: 0.8655, Val Loss: 0.9047, Learning rate: 0.010000\n",
      "Minimax score: -0.35\n",
      "RandomAgent score: 0.81\n",
      "MCTS score: -0.09999999999999998\n",
      "Epoch 51/200, Train Loss: 0.8549, Val Loss: 0.8897, Learning rate: 0.010000\n",
      "Epoch 52/200, Train Loss: 0.8470, Val Loss: 0.8518, Learning rate: 0.010000\n",
      "Epoch 53/200, Train Loss: 0.8391, Val Loss: 0.8861, Learning rate: 0.010000\n",
      "Epoch 54/200, Train Loss: 0.8446, Val Loss: 0.8804, Learning rate: 0.010000\n",
      "Epoch 55/200, Train Loss: 0.8312, Val Loss: 0.8394, Learning rate: 0.010000\n",
      "Epoch 56/200, Train Loss: 0.8598, Val Loss: 0.8803, Learning rate: 0.010000\n",
      "Epoch 57/200, Train Loss: 0.8500, Val Loss: 0.8799, Learning rate: 0.010000\n",
      "Epoch 58/200, Train Loss: 0.8549, Val Loss: 0.9093, Learning rate: 0.010000\n",
      "Epoch 59/200, Train Loss: 0.8390, Val Loss: 0.8438, Learning rate: 0.010000\n",
      "Epoch 60/200, Train Loss: 0.8156, Val Loss: 0.8461, Learning rate: 0.010000\n",
      "Epoch 61/200, Train Loss: 0.8294, Val Loss: 0.8980, Learning rate: 0.010000\n",
      "Epoch 62/200, Train Loss: 0.8457, Val Loss: 0.8562, Learning rate: 0.010000\n",
      "Epoch 63/200, Train Loss: 0.8381, Val Loss: 0.8550, Learning rate: 0.010000\n",
      "Epoch 64/200, Train Loss: 0.8444, Val Loss: 0.8887, Learning rate: 0.010000\n",
      "Epoch 65/200, Train Loss: 0.8507, Val Loss: 0.8826, Learning rate: 0.010000\n",
      "Epoch 66/200, Train Loss: 0.8468, Val Loss: 0.8544, Learning rate: 0.010000\n",
      "Epoch 67/200, Train Loss: 0.8426, Val Loss: 0.9141, Learning rate: 0.010000\n",
      "Epoch 68/200, Train Loss: 0.8430, Val Loss: 0.8680, Learning rate: 0.010000\n",
      "Epoch 69/200, Train Loss: 0.8259, Val Loss: 0.8520, Learning rate: 0.010000\n",
      "Epoch 70/200, Train Loss: 0.8093, Val Loss: 0.8499, Learning rate: 0.010000\n",
      "Epoch 71/200, Train Loss: 0.8171, Val Loss: 0.8805, Learning rate: 0.010000\n",
      "Epoch 72/200, Train Loss: 0.7991, Val Loss: 0.8608, Learning rate: 0.010000\n",
      "Epoch 73/200, Train Loss: 0.7906, Val Loss: 0.8455, Learning rate: 0.010000\n",
      "Epoch 74/200, Train Loss: 0.7990, Val Loss: 0.8609, Learning rate: 0.010000\n",
      "Epoch 75/200, Train Loss: 0.8007, Val Loss: 0.8478, Learning rate: 0.010000\n",
      "Minimax score: -0.2\n",
      "RandomAgent score: 0.88\n",
      "MCTS score: 0.03\n",
      "Epoch 76/200, Train Loss: 0.8043, Val Loss: 0.8482, Learning rate: 0.010000\n",
      "Epoch 77/200, Train Loss: 0.7945, Val Loss: 0.8545, Learning rate: 0.010000\n",
      "Epoch 78/200, Train Loss: 0.7948, Val Loss: 0.8340, Learning rate: 0.010000\n",
      "Epoch 79/200, Train Loss: 0.7942, Val Loss: 0.8331, Learning rate: 0.010000\n",
      "Epoch 80/200, Train Loss: 0.7859, Val Loss: 0.8527, Learning rate: 0.010000\n",
      "Epoch 81/200, Train Loss: 0.7925, Val Loss: 0.8356, Learning rate: 0.010000\n",
      "Epoch 82/200, Train Loss: 0.7891, Val Loss: 0.8644, Learning rate: 0.010000\n",
      "Epoch 83/200, Train Loss: 0.7886, Val Loss: 0.8451, Learning rate: 0.010000\n",
      "Epoch 84/200, Train Loss: 0.7921, Val Loss: 0.8448, Learning rate: 0.010000\n",
      "Epoch 85/200, Train Loss: 0.7996, Val Loss: 0.8470, Learning rate: 0.010000\n",
      "Epoch 86/200, Train Loss: 0.7841, Val Loss: 0.8556, Learning rate: 0.010000\n",
      "Epoch 87/200, Train Loss: 0.7792, Val Loss: 0.8480, Learning rate: 0.010000\n",
      "Epoch 88/200, Train Loss: 0.7667, Val Loss: 0.8338, Learning rate: 0.010000\n",
      "Epoch 89/200, Train Loss: 0.7871, Val Loss: 0.8546, Learning rate: 0.010000\n",
      "Epoch 90/200, Train Loss: 0.7802, Val Loss: 0.8280, Learning rate: 0.010000\n",
      "Epoch 91/200, Train Loss: 0.7642, Val Loss: 0.8284, Learning rate: 0.010000\n",
      "Epoch 92/200, Train Loss: 0.7808, Val Loss: 0.8476, Learning rate: 0.010000\n",
      "Epoch 93/200, Train Loss: 0.7809, Val Loss: 0.8584, Learning rate: 0.010000\n",
      "Epoch 94/200, Train Loss: 0.7732, Val Loss: 0.8251, Learning rate: 0.010000\n",
      "Epoch 95/200, Train Loss: 0.7539, Val Loss: 0.8549, Learning rate: 0.010000\n",
      "Epoch 96/200, Train Loss: 0.7839, Val Loss: 0.8469, Learning rate: 0.010000\n",
      "Epoch 97/200, Train Loss: 0.7662, Val Loss: 0.8325, Learning rate: 0.010000\n",
      "Epoch 98/200, Train Loss: 0.7774, Val Loss: 0.8306, Learning rate: 0.010000\n",
      "Epoch 99/200, Train Loss: 0.7752, Val Loss: 0.8229, Learning rate: 0.010000\n",
      "Epoch 100/200, Train Loss: 0.7544, Val Loss: 0.8510, Learning rate: 0.010000\n",
      "Minimax score: -0.32\n",
      "RandomAgent score: 0.86\n",
      "MCTS score: 0.0\n",
      "Epoch 101/200, Train Loss: 0.7641, Val Loss: 0.8147, Learning rate: 0.010000\n",
      "Epoch 102/200, Train Loss: 0.7619, Val Loss: 0.8140, Learning rate: 0.010000\n",
      "Epoch 103/200, Train Loss: 0.7523, Val Loss: 0.8530, Learning rate: 0.010000\n",
      "Epoch 104/200, Train Loss: 0.7611, Val Loss: 0.8315, Learning rate: 0.010000\n",
      "Epoch 105/200, Train Loss: 0.7705, Val Loss: 0.8545, Learning rate: 0.010000\n",
      "Epoch 106/200, Train Loss: 0.7767, Val Loss: 0.8204, Learning rate: 0.010000\n",
      "Epoch 107/200, Train Loss: 0.7667, Val Loss: 0.8153, Learning rate: 0.010000\n",
      "Epoch 108/200, Train Loss: 0.7704, Val Loss: 0.8151, Learning rate: 0.010000\n",
      "Epoch 109/200, Train Loss: 0.7573, Val Loss: 0.8210, Learning rate: 0.010000\n",
      "Epoch 110/200, Train Loss: 0.7467, Val Loss: 0.8277, Learning rate: 0.010000\n",
      "Epoch 111/200, Train Loss: 0.7438, Val Loss: 0.8204, Learning rate: 0.010000\n",
      "Epoch 112/200, Train Loss: 0.7389, Val Loss: 0.8105, Learning rate: 0.010000\n",
      "Epoch 113/200, Train Loss: 0.7383, Val Loss: 0.8186, Learning rate: 0.010000\n",
      "Epoch 114/200, Train Loss: 0.7479, Val Loss: 0.8560, Learning rate: 0.010000\n",
      "Epoch 115/200, Train Loss: 0.7483, Val Loss: 0.8407, Learning rate: 0.010000\n",
      "Epoch 116/200, Train Loss: 0.7497, Val Loss: 0.8441, Learning rate: 0.010000\n",
      "Epoch 117/200, Train Loss: 0.7556, Val Loss: 0.8094, Learning rate: 0.010000\n",
      "Epoch 118/200, Train Loss: 0.7527, Val Loss: 0.8033, Learning rate: 0.010000\n",
      "Epoch 119/200, Train Loss: 0.7327, Val Loss: 0.8248, Learning rate: 0.010000\n",
      "Epoch 120/200, Train Loss: 0.7272, Val Loss: 0.8001, Learning rate: 0.010000\n",
      "Epoch 121/200, Train Loss: 0.7334, Val Loss: 0.8330, Learning rate: 0.010000\n",
      "Epoch 122/200, Train Loss: 0.7549, Val Loss: 0.8652, Learning rate: 0.010000\n",
      "Epoch 123/200, Train Loss: 0.7627, Val Loss: 0.8168, Learning rate: 0.010000\n",
      "Epoch 124/200, Train Loss: 0.7362, Val Loss: 0.7981, Learning rate: 0.010000\n",
      "Epoch 125/200, Train Loss: 0.7299, Val Loss: 0.8062, Learning rate: 0.010000\n",
      "Minimax score: -0.09\n",
      "RandomAgent score: 0.97\n",
      "MCTS score: -0.020000000000000004\n",
      "Epoch 126/200, Train Loss: 0.7240, Val Loss: 0.7924, Learning rate: 0.010000\n",
      "Epoch 127/200, Train Loss: 0.7375, Val Loss: 0.8178, Learning rate: 0.010000\n",
      "Epoch 128/200, Train Loss: 0.7396, Val Loss: 0.8246, Learning rate: 0.010000\n",
      "Epoch 129/200, Train Loss: 0.7312, Val Loss: 0.8049, Learning rate: 0.010000\n",
      "Epoch 130/200, Train Loss: 0.7442, Val Loss: 0.8079, Learning rate: 0.010000\n",
      "Epoch 131/200, Train Loss: 0.7392, Val Loss: 0.8105, Learning rate: 0.010000\n",
      "Epoch 132/200, Train Loss: 0.7312, Val Loss: 0.8388, Learning rate: 0.010000\n",
      "Epoch 133/200, Train Loss: 0.7476, Val Loss: 0.8076, Learning rate: 0.010000\n",
      "Epoch 134/200, Train Loss: 0.7223, Val Loss: 0.8232, Learning rate: 0.010000\n",
      "Epoch 135/200, Train Loss: 0.7286, Val Loss: 0.8528, Learning rate: 0.010000\n",
      "Epoch 136/200, Train Loss: 0.7603, Val Loss: 0.8303, Learning rate: 0.010000\n",
      "Epoch 137/200, Train Loss: 0.7371, Val Loss: 0.7933, Learning rate: 0.010000\n",
      "Epoch 138/200, Train Loss: 0.7323, Val Loss: 0.8211, Learning rate: 0.010000\n",
      "Epoch 139/200, Train Loss: 0.7171, Val Loss: 0.8438, Learning rate: 0.010000\n",
      "Epoch 140/200, Train Loss: 0.7180, Val Loss: 0.8420, Learning rate: 0.010000\n",
      "Epoch 141/200, Train Loss: 0.7307, Val Loss: 0.8288, Learning rate: 0.010000\n",
      "Epoch 142/200, Train Loss: 0.7219, Val Loss: 0.8347, Learning rate: 0.010000\n",
      "Epoch 143/200, Train Loss: 0.7204, Val Loss: 0.8171, Learning rate: 0.010000\n",
      "Epoch 144/200, Train Loss: 0.7128, Val Loss: 0.7963, Learning rate: 0.010000\n",
      "Epoch 145/200, Train Loss: 0.7147, Val Loss: 0.7816, Learning rate: 0.010000\n",
      "Epoch 146/200, Train Loss: 0.7042, Val Loss: 0.8533, Learning rate: 0.010000\n",
      "Epoch 147/200, Train Loss: 0.7313, Val Loss: 0.8195, Learning rate: 0.010000\n",
      "Epoch 148/200, Train Loss: 0.7124, Val Loss: 0.8110, Learning rate: 0.010000\n",
      "Epoch 149/200, Train Loss: 0.7046, Val Loss: 0.8107, Learning rate: 0.010000\n",
      "Epoch 150/200, Train Loss: 0.7021, Val Loss: 0.7788, Learning rate: 0.010000\n",
      "Minimax score: -0.15\n",
      "RandomAgent score: 0.93\n",
      "MCTS score: 0.11000000000000001\n",
      "Epoch 151/200, Train Loss: 0.7073, Val Loss: 0.8235, Learning rate: 0.010000\n",
      "Epoch 152/200, Train Loss: 0.7129, Val Loss: 0.8100, Learning rate: 0.010000\n",
      "Epoch 153/200, Train Loss: 0.7065, Val Loss: 0.8264, Learning rate: 0.010000\n",
      "Epoch 154/200, Train Loss: 0.7012, Val Loss: 0.7919, Learning rate: 0.010000\n",
      "Epoch 155/200, Train Loss: 0.7041, Val Loss: 0.8193, Learning rate: 0.010000\n",
      "Epoch 156/200, Train Loss: 0.6877, Val Loss: 0.7693, Learning rate: 0.010000\n",
      "Epoch 157/200, Train Loss: 0.6995, Val Loss: 0.8125, Learning rate: 0.010000\n",
      "Epoch 158/200, Train Loss: 0.7130, Val Loss: 0.7982, Learning rate: 0.010000\n",
      "Epoch 159/200, Train Loss: 0.7059, Val Loss: 0.8234, Learning rate: 0.010000\n",
      "Epoch 160/200, Train Loss: 0.6995, Val Loss: 0.8028, Learning rate: 0.010000\n",
      "Epoch 161/200, Train Loss: 0.6905, Val Loss: 0.8021, Learning rate: 0.010000\n",
      "Epoch 162/200, Train Loss: 0.6875, Val Loss: 0.7805, Learning rate: 0.010000\n",
      "Epoch 163/200, Train Loss: 0.6963, Val Loss: 0.7988, Learning rate: 0.010000\n",
      "Epoch 164/200, Train Loss: 0.6953, Val Loss: 0.8009, Learning rate: 0.010000\n",
      "Epoch 165/200, Train Loss: 0.7128, Val Loss: 0.7995, Learning rate: 0.010000\n",
      "Epoch 166/200, Train Loss: 0.7022, Val Loss: 0.8186, Learning rate: 0.010000\n",
      "Epoch 167/200, Train Loss: 0.6769, Val Loss: 0.7815, Learning rate: 0.010000\n",
      "Epoch 168/200, Train Loss: 0.6772, Val Loss: 0.7784, Learning rate: 0.010000\n",
      "Epoch 169/200, Train Loss: 0.6930, Val Loss: 0.8448, Learning rate: 0.010000\n",
      "Epoch 170/200, Train Loss: 0.6840, Val Loss: 0.8070, Learning rate: 0.010000\n",
      "Epoch 171/200, Train Loss: 0.6814, Val Loss: 0.8015, Learning rate: 0.010000\n",
      "Epoch 172/200, Train Loss: 0.6862, Val Loss: 0.8122, Learning rate: 0.010000\n",
      "Epoch 173/200, Train Loss: 0.6749, Val Loss: 0.7963, Learning rate: 0.010000\n",
      "Epoch 174/200, Train Loss: 0.6831, Val Loss: 0.8111, Learning rate: 0.010000\n",
      "Epoch 175/200, Train Loss: 0.6944, Val Loss: 0.8346, Learning rate: 0.010000\n",
      "Minimax score: -0.27\n",
      "RandomAgent score: 0.94\n",
      "MCTS score: 0.060000000000000026\n",
      "Epoch 176/200, Train Loss: 0.7039, Val Loss: 0.8009, Learning rate: 0.010000\n",
      "Epoch 177/200, Train Loss: 0.7004, Val Loss: 0.8675, Learning rate: 0.010000\n",
      "Epoch 178/200, Train Loss: 0.6960, Val Loss: 0.8416, Learning rate: 0.010000\n",
      "Epoch 179/200, Train Loss: 0.6919, Val Loss: 0.8125, Learning rate: 0.010000\n",
      "Epoch 180/200, Train Loss: 0.6897, Val Loss: 0.8167, Learning rate: 0.010000\n",
      "Epoch 181/200, Train Loss: 0.6844, Val Loss: 0.7966, Learning rate: 0.010000\n",
      "Epoch 182/200, Train Loss: 0.6851, Val Loss: 0.7833, Learning rate: 0.010000\n",
      "Epoch 183/200, Train Loss: 0.6750, Val Loss: 0.7933, Learning rate: 0.010000\n",
      "Epoch 184/200, Train Loss: 0.6721, Val Loss: 0.8055, Learning rate: 0.010000\n",
      "Epoch 185/200, Train Loss: 0.6668, Val Loss: 0.8072, Learning rate: 0.010000\n",
      "Epoch 186/200, Train Loss: 0.6722, Val Loss: 0.8204, Learning rate: 0.010000\n",
      "Epoch 187/200, Train Loss: 0.6898, Val Loss: 0.8428, Learning rate: 0.010000\n",
      "Epoch 188/200, Train Loss: 0.6899, Val Loss: 0.8400, Learning rate: 0.010000\n",
      "Epoch 189/200, Train Loss: 0.6855, Val Loss: 0.8049, Learning rate: 0.010000\n",
      "Epoch 190/200, Train Loss: 0.6799, Val Loss: 0.8323, Learning rate: 0.010000\n",
      "Epoch 191/200, Train Loss: 0.6849, Val Loss: 0.7909, Learning rate: 0.010000\n",
      "Epoch 192/200, Train Loss: 0.6739, Val Loss: 0.7603, Learning rate: 0.010000\n",
      "Epoch 193/200, Train Loss: 0.6782, Val Loss: 0.8031, Learning rate: 0.010000\n",
      "Epoch 194/200, Train Loss: 0.6793, Val Loss: 0.8003, Learning rate: 0.010000\n",
      "Epoch 195/200, Train Loss: 0.6722, Val Loss: 0.7920, Learning rate: 0.010000\n",
      "Epoch 196/200, Train Loss: 0.6797, Val Loss: 0.7973, Learning rate: 0.010000\n",
      "Epoch 197/200, Train Loss: 0.6600, Val Loss: 0.8046, Learning rate: 0.010000\n",
      "Epoch 198/200, Train Loss: 0.6575, Val Loss: 0.7937, Learning rate: 0.010000\n",
      "Epoch 199/200, Train Loss: 0.6569, Val Loss: 0.7733, Learning rate: 0.010000\n",
      "Epoch 200/200, Train Loss: 0.6601, Val Loss: 0.7804, Learning rate: 0.010000\n",
      "Minimax score: -0.27\n",
      "RandomAgent score: 0.87\n",
      "MCTS score: 0.05000000000000002\n",
      "Training complete.\n",
      "Best val_loss: 0.7483\n",
      "Final val_loss: 0.7804\n"
     ]
    }
   ],
   "source": [
    "# Perform training\n",
    "\n",
    "from applications.tic_tac_toe.train import train\n",
    "\n",
    "model_interface = train(\n",
    "    model_type=model_type,\n",
    "    model_params=model_params,\n",
    "    device=device,\n",
    "    model_name=model_name,\n",
    "    optimizer_type=optimizer_type,\n",
    "    optimizer_params=optimizer_params,\n",
    "    lr_scheduler_type=lr_scheduler_type,\n",
    "    lr_scheduler_params=lr_scheduler_params,\n",
    "    training_method=training_method,\n",
    "    trainer_params=trainer_params,\n",
    "    training_params=training_params,\n",
    "    load_model=load_model,\n",
    "    load_model_params=load_model_params,\n",
    "    load_replay_buffer=load_replay_buffer,\n",
    "    load_replay_buffer_params=load_replay_buffer_params,\n",
    "    wandb_run=run\n",
    ")"
   ]
  },
  {
   "cell_type": "code",
   "execution_count": 5,
   "metadata": {},
   "outputs": [
    {
     "data": {
      "text/html": [],
      "text/plain": [
       "<IPython.core.display.HTML object>"
      ]
     },
     "metadata": {},
     "output_type": "display_data"
    },
    {
     "data": {
      "text/html": [
       "<br>    <style><br>        .wandb-row {<br>            display: flex;<br>            flex-direction: row;<br>            flex-wrap: wrap;<br>            justify-content: flex-start;<br>            width: 100%;<br>        }<br>        .wandb-col {<br>            display: flex;<br>            flex-direction: column;<br>            flex-basis: 100%;<br>            flex: 1;<br>            padding: 10px;<br>        }<br>    </style><br><div class=\"wandb-row\"><div class=\"wandb-col\"><h3>Run history:</h3><br/><table class=\"wandb\"><tr><td>MCTS_draw_rate</td><td>▆▁▇▇▇█▁▄</td></tr><tr><td>MCTS_loss_rate</td><td>▇█▃▃▄▁▆▄</td></tr><tr><td>MCTS_score</td><td>▁▄▆▆▅█▇▇</td></tr><tr><td>MCTS_win_rate</td><td>▁▆▄▄▃▄█▆</td></tr><tr><td>Minimax_draw_rate</td><td>▂▁▅▂█▆▃▃</td></tr><tr><td>Minimax_loss_rate</td><td>▇█▄▇▁▃▆▆</td></tr><tr><td>Minimax_score</td><td>▂▁▅▂█▆▃▃</td></tr><tr><td>Minimax_win_rate</td><td>▁▁▁▁▁▁▁▁</td></tr><tr><td>RandomAgent_draw_rate</td><td>▃▅▄▄▂▅▁█</td></tr><tr><td>RandomAgent_loss_rate</td><td>▃█▅▆▁▁▃▂</td></tr><tr><td>RandomAgent_score</td><td>▆▁▄▃█▆▇▄</td></tr><tr><td>RandomAgent_win_rate</td><td>▆▁▄▃█▅▇▂</td></tr><tr><td>epoch</td><td>▁▁▁▁▁▂▂▂▂▂▃▃▃▃▃▃▄▄▄▄▄▄▄▅▅▅▆▆▆▆▇▇▇▇▇█████</td></tr><tr><td>learning_rate</td><td>▁▁▁▁▁▁▁▁▁▁▁▁▁▁▁▁▁▁▁▁▁▁▁▁▁▁▁▁▁▁▁▁▁▁▁▁▁▁▁▁</td></tr><tr><td>train_loss</td><td>███▅▄▄▃▃▃▃▂▂▂▂▂▂▂▂▂▂▂▂▂▂▂▂▁▁▁▁▁▁▁▁▁▁▁▁▁▁</td></tr><tr><td>train_policy_loss</td><td>█▇▆▅▅▄▄▄▄▄▃▃▃▃▃▂▂▂▂▂▂▂▂▂▂▂▁▁▂▁▁▁▁▁▁▁▁▁▁▁</td></tr><tr><td>train_value_loss</td><td>█▇▅▄▄▃▃▂▂▂▂▂▂▂▂▂▂▂▂▁▁▁▂▁▁▁▁▁▁▁▁▁▁▁▁▁▁▁▁▁</td></tr><tr><td>val_loss</td><td>█▇▅▃▃▂▂▂▂▂▂▂▂▂▂▂▂▂▂▂▂▂▁▁▁▂▁▁▁▁▁▁▁▁▁▁▁▂▁▁</td></tr><tr><td>val_policy_loss</td><td>██▄▃▃▃▃▃▂▂▂▂▂▂▃▂▂▂▂▂▂▂▁▂▂▁▁▂▁▁▁▁▁▁▁▁▂▂▂▁</td></tr><tr><td>val_value_loss</td><td>██▇█▃▃▂▂▂▂▂▂▂▂▂▂▂▂▂▁▁▂▂▂▁▁▂▁▁▁▁▁▁▁▁▂▁▁▁▁</td></tr></table><br/></div><div class=\"wandb-col\"><h3>Run summary:</h3><br/><table class=\"wandb\"><tr><td>MCTS_draw_rate</td><td>0.65</td></tr><tr><td>MCTS_loss_rate</td><td>0.15</td></tr><tr><td>MCTS_score</td><td>0.05</td></tr><tr><td>MCTS_win_rate</td><td>0.2</td></tr><tr><td>Minimax_draw_rate</td><td>0.73</td></tr><tr><td>Minimax_loss_rate</td><td>0.27</td></tr><tr><td>Minimax_score</td><td>-0.27</td></tr><tr><td>Minimax_win_rate</td><td>0</td></tr><tr><td>RandomAgent_draw_rate</td><td>0.11</td></tr><tr><td>RandomAgent_loss_rate</td><td>0.01</td></tr><tr><td>RandomAgent_score</td><td>0.87</td></tr><tr><td>RandomAgent_win_rate</td><td>0.88</td></tr><tr><td>epoch</td><td>200</td></tr><tr><td>learning_rate</td><td>0.01</td></tr><tr><td>train_loss</td><td>0.66009</td></tr><tr><td>train_policy_loss</td><td>0.61218</td></tr><tr><td>train_value_loss</td><td>0.04791</td></tr><tr><td>val_loss</td><td>0.78043</td></tr><tr><td>val_policy_loss</td><td>0.66327</td></tr><tr><td>val_value_loss</td><td>0.11716</td></tr></table><br/></div></div>"
      ],
      "text/plain": [
       "<IPython.core.display.HTML object>"
      ]
     },
     "metadata": {},
     "output_type": "display_data"
    },
    {
     "data": {
      "text/html": [
       " View run <strong style=\"color:#cdcd00\">Transformer 3</strong> at: <a href='https://wandb.ai/eigenway/AlphaZero-TicTacToe/runs/4n6x5p4z' target=\"_blank\">https://wandb.ai/eigenway/AlphaZero-TicTacToe/runs/4n6x5p4z</a><br> View project at: <a href='https://wandb.ai/eigenway/AlphaZero-TicTacToe' target=\"_blank\">https://wandb.ai/eigenway/AlphaZero-TicTacToe</a><br>Synced 5 W&B file(s), 1 media file(s), 8 artifact file(s) and 0 other file(s)"
      ],
      "text/plain": [
       "<IPython.core.display.HTML object>"
      ]
     },
     "metadata": {},
     "output_type": "display_data"
    },
    {
     "data": {
      "text/html": [
       "Find logs at: <code>./wandb/run-20250316_175828-4n6x5p4z/logs</code>"
      ],
      "text/plain": [
       "<IPython.core.display.HTML object>"
      ]
     },
     "metadata": {},
     "output_type": "display_data"
    }
   ],
   "source": [
    "run.finish()"
   ]
  },
  {
   "cell_type": "code",
   "execution_count": 6,
   "metadata": {},
   "outputs": [
    {
     "name": "stdout",
     "output_type": "stream",
     "text": [
      "Total parameters: 13,474\n",
      "Trainable parameters: 13,474 (100.00%)\n",
      "Non-trainable parameters: 0 (0.00%)\n",
      "\n",
      "Parameters by layer:\n",
      "input_embedding.weight: 96 parameters\n",
      "pos_embedding.weight: 288 parameters\n",
      "transformer_blocks.0.self_attn.in_proj_weight: 3,072 parameters\n",
      "transformer_blocks.0.self_attn.in_proj_bias: 96 parameters\n",
      "transformer_blocks.0.self_attn.out_proj.weight: 1,024 parameters\n",
      "transformer_blocks.0.self_attn.out_proj.bias: 32 parameters\n",
      "transformer_blocks.0.linear1.weight: 4,096 parameters\n",
      "transformer_blocks.0.linear1.bias: 128 parameters\n",
      "transformer_blocks.0.linear2.weight: 4,096 parameters\n",
      "transformer_blocks.0.linear2.bias: 32 parameters\n",
      "transformer_blocks.0.norm1.weight: 32 parameters\n",
      "transformer_blocks.0.norm1.bias: 32 parameters\n",
      "transformer_blocks.0.norm2.weight: 32 parameters\n",
      "transformer_blocks.0.norm2.bias: 32 parameters\n",
      "norm.weight: 32 parameters\n",
      "norm.bias: 32 parameters\n",
      "policy_head.weight: 32 parameters\n",
      "policy_head.bias: 1 parameters\n",
      "value_head.weight: 288 parameters\n",
      "value_head.bias: 1 parameters\n"
     ]
    }
   ],
   "source": [
    "def print_model_parameters(model):\n",
    "    \"\"\"\n",
    "    Print the total number of parameters in a PyTorch model,\n",
    "    with a breakdown of trainable vs non-trainable parameters.\n",
    "    \n",
    "    Args:\n",
    "        model: PyTorch model\n",
    "    \"\"\"\n",
    "    total_params = sum(p.numel() for p in model.parameters())\n",
    "    trainable_params = sum(p.numel() for p in model.parameters() if p.requires_grad)\n",
    "    non_trainable_params = total_params - trainable_params\n",
    "    \n",
    "    print(f\"Total parameters: {total_params:,}\")\n",
    "    print(f\"Trainable parameters: {trainable_params:,} ({trainable_params/total_params:.2%})\")\n",
    "    print(f\"Non-trainable parameters: {non_trainable_params:,} ({non_trainable_params/total_params:.2%})\")\n",
    "    \n",
    "    # Optional: Print parameters by layer\n",
    "    print(\"\\nParameters by layer:\")\n",
    "    for name, param in model.named_parameters():\n",
    "        print(f\"{name}: {param.numel():,} parameters\")\n",
    "\n",
    "# Example usage\n",
    "print_model_parameters(model_interface.model)"
   ]
  }
 ],
 "metadata": {
  "kernelspec": {
   "display_name": "dots-and-boxes",
   "language": "python",
   "name": "python3"
  },
  "language_info": {
   "codemirror_mode": {
    "name": "ipython",
    "version": 3
   },
   "file_extension": ".py",
   "mimetype": "text/x-python",
   "name": "python",
   "nbconvert_exporter": "python",
   "pygments_lexer": "ipython3",
   "version": "3.13.1"
  }
 },
 "nbformat": 4,
 "nbformat_minor": 2
}
