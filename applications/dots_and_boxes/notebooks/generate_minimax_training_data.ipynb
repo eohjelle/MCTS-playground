{
 "cells": [
  {
   "cell_type": "code",
   "execution_count": 1,
   "metadata": {},
   "outputs": [
    {
     "name": "stdout",
     "output_type": "stream",
     "text": [
      "Working directory: /Users/eohjelle/Documents/2025-dots-and-boxes/dots-and-boxes\n"
     ]
    }
   ],
   "source": [
    "# Change directory to the root of the project\n",
    "import os \n",
    "os.chdir('..')\n",
    "os.chdir('..')\n",
    "os.chdir('..')\n",
    "print(f\"Working directory: {os.getcwd()}\")"
   ]
  },
  {
   "cell_type": "markdown",
   "metadata": {},
   "source": [
    "In this notebook we will create an exhaustive training data set for tic tac toe using the Minimax agent, in the form of a replay buffer compatible with AlphaZeroTrainer. The idea is to use this dataset to run some sweeps, and to understand which deep learning models will perform best in theory."
   ]
  },
  {
   "cell_type": "markdown",
   "metadata": {},
   "source": [
    "# Create training set"
   ]
  },
  {
   "cell_type": "code",
   "execution_count": 2,
   "metadata": {},
   "outputs": [
    {
     "data": {
      "text/plain": [
       "(1, 0)"
      ]
     },
     "execution_count": 2,
     "metadata": {},
     "output_type": "execute_result"
    }
   ],
   "source": [
    "from applications.dots_and_boxes.game_state import DotsAndBoxesGameState\n",
    "from core.implementations.Minimax import Minimax\n",
    "\n",
    "rows = 3\n",
    "cols = 2\n",
    "\n",
    "# Creat minmax agent and expand the game tree\n",
    "state = DotsAndBoxesGameState(rows, cols)\n",
    "agent = Minimax(state)\n",
    "agent()"
   ]
  },
  {
   "cell_type": "code",
   "execution_count": 3,
   "metadata": {},
   "outputs": [],
   "source": [
    "# Get list of unique examples, translated into AlphaZero format for compatibility with models\n",
    "\n",
    "from core.data_structures import TrainingExample\n",
    "\n",
    "def example(state, node):\n",
    "    policy = {action: 0.0 for action in node.children.keys()}\n",
    "    for action in node.value.best_actions:\n",
    "        policy[action] = 1/len(node.value.best_actions)\n",
    "    return TrainingExample(\n",
    "        state=state,\n",
    "        target=(policy, node.value.value),\n",
    "        data={'legal_actions': list(node.children.keys())}\n",
    "    )\n",
    "\n",
    "examples = [example(state, node) for state, node in agent.state_dict.items()]\n"
   ]
  },
  {
   "cell_type": "code",
   "execution_count": 4,
   "metadata": {},
   "outputs": [
    {
     "name": "stdout",
     "output_type": "stream",
     "text": [
      "Example 1:\n",
      "State: \n",
      "+ - + - +\n",
      "|   | B |\n",
      "+ . + - +\n",
      ".   |   .\n",
      "+ - + . +\n",
      "|   |   |\n",
      "+ . + - +\n",
      "\n",
      " Player -1 to move.\n",
      "Target: ({(2, 1): 0.2, (3, 0): 0.2, (3, 4): 0.2, (4, 3): 0.2, (6, 1): 0.2}, -1)\n",
      "Data: {'legal_actions': [(2, 1), (3, 0), (3, 4), (4, 3), (6, 1)]}\n",
      "\n",
      "\n",
      "Example 2:\n",
      "State: \n",
      "+ - + - +\n",
      "|   | B |\n",
      "+ . + - +\n",
      ".   |   .\n",
      "+ - + . +\n",
      "| A |   |\n",
      "+ - + - +\n",
      "\n",
      " Player -1 to move.\n",
      "Target: ({(2, 1): 0.25, (3, 0): 0.25, (3, 4): 0.25, (4, 3): 0.25}, 1)\n",
      "Data: {'legal_actions': [(2, 1), (3, 0), (3, 4), (4, 3)]}\n",
      "\n",
      "\n",
      "Example 3:\n",
      "State: \n",
      "+ - + - +\n",
      "|   | B |\n",
      "+ . + - +\n",
      ".   |   .\n",
      "+ - + . +\n",
      "| B |   .\n",
      "+ - + - +\n",
      "\n",
      " Player 1 to move.\n",
      "Target: ({(2, 1): 0.2, (3, 0): 0.2, (3, 4): 0.2, (4, 3): 0.2, (5, 4): 0.2}, -1)\n",
      "Data: {'legal_actions': [(2, 1), (3, 0), (3, 4), (4, 3), (5, 4)]}\n",
      "\n",
      "\n",
      "Number of unique examples: 131072\n"
     ]
    }
   ],
   "source": [
    "k = 2836\n",
    "for i, example in enumerate(examples[k:k+3]):\n",
    "    print(f\"Example {i+1}:\")\n",
    "    print(f\"State: \\n{example.state}\")\n",
    "    print(f\"Target: {example.target}\")\n",
    "    print(f\"Data: {example.data}\")\n",
    "    print(\"\\n\")\n",
    "\n",
    "print(f\"Number of unique examples: {len(examples)}\")"
   ]
  },
  {
   "cell_type": "markdown",
   "metadata": {},
   "source": [
    "Note that the number of unique examples equals $2^{\\#\\text{edges}}$, as expected."
   ]
  },
  {
   "cell_type": "code",
   "execution_count": 5,
   "metadata": {},
   "outputs": [
    {
     "name": "stdout",
     "output_type": "stream",
     "text": [
      "\n",
      "Example 1:\n",
      "Encoded state: tensor([1, 1, 1, 0, 1, 0, 1, 1, 1, 1, 0, 1, 0, 1, 1, 0, 1])\n",
      "Encoded policy: tensor([0.0000, 0.0000, 0.0000, 0.2000, 0.0000, 0.2000, 0.0000, 0.0000, 0.0000,\n",
      "        0.0000, 0.2000, 0.0000, 0.2000, 0.0000, 0.0000, 0.2000, 0.0000])\n",
      "Encoded value: -1.0\n",
      "Encoded legal actions: tensor([0., 0., 0., 1., 0., 1., 0., 0., 0., 0., 1., 0., 1., 0., 0., 1., 0.])\n",
      "\n",
      "Example 2:\n",
      "Encoded state: tensor([1, 1, 1, 0, 1, 0, 1, 1, 1, 1, 0, 1, 1, 1, 1, 0, 1])\n",
      "Encoded policy: tensor([0.0000, 0.0000, 0.0000, 0.2500, 0.0000, 0.2500, 0.0000, 0.0000, 0.0000,\n",
      "        0.0000, 0.2500, 0.0000, 0.0000, 0.0000, 0.0000, 0.2500, 0.0000])\n",
      "Encoded value: 1.0\n",
      "Encoded legal actions: tensor([0., 0., 0., 1., 0., 1., 0., 0., 0., 0., 1., 0., 0., 0., 0., 1., 0.])\n",
      "\n",
      "Example 3:\n",
      "Encoded state: tensor([1, 1, 1, 0, 1, 0, 1, 1, 0, 1, 0, 1, 1, 1, 1, 0, 1])\n",
      "Encoded policy: tensor([0.0000, 0.0000, 0.0000, 0.2000, 0.0000, 0.2000, 0.0000, 0.0000, 0.2000,\n",
      "        0.0000, 0.2000, 0.0000, 0.0000, 0.0000, 0.0000, 0.2000, 0.0000])\n",
      "Encoded value: -1.0\n",
      "Encoded legal actions: tensor([0., 0., 0., 1., 0., 1., 0., 0., 1., 0., 1., 0., 0., 0., 0., 1., 0.])\n"
     ]
    }
   ],
   "source": [
    "# Test encoding and decoding\n",
    "\n",
    "from applications.dots_and_boxes.encoder import DABSimpleTensorMapping, DABMultiLayerTensorMapping\n",
    "import torch\n",
    "\n",
    "\n",
    "for i, example in enumerate(examples[k:k+3]):\n",
    "    encoded_state = DABSimpleTensorMapping.encode_state(example.state, device=torch.device('cpu'))\n",
    "    encoded_example = DABSimpleTensorMapping.encode_example(example, device=torch.device('cpu'))\n",
    "    print(f\"\\nExample {i+1}:\")\n",
    "    print(f\"Encoded state: {encoded_state}\")\n",
    "    print(f\"Encoded policy: {encoded_example[0]['policy']}\")\n",
    "    print(f\"Encoded value: {encoded_example[0]['value']}\")\n",
    "    print(f\"Encoded legal actions: {encoded_example[1]['legal_actions']}\")\n"
   ]
  },
  {
   "cell_type": "code",
   "execution_count": 6,
   "metadata": {},
   "outputs": [],
   "source": [
    "from core.data_structures import ReplayBuffer\n",
    "import torch\n",
    "\n",
    "device = torch.device('mps') # Change to 'cuda' or 'cpu' if needed\n",
    "\n",
    "for tensor_mapping in [DABSimpleTensorMapping]:\n",
    "    state_encoder = lambda state: tensor_mapping.encode_state(state, device)\n",
    "    example_encoder = lambda example: tensor_mapping.encode_example(example, device)\n",
    "    buffer = ReplayBuffer(max_size=len(examples))\n",
    "    buffer.extend(examples, state_encoder, example_encoder)\n",
    "    artifact_name = f'dots_and_boxes_{rows}x{cols}_{tensor_mapping.__name__}_minimax'\n",
    "    path = f'applications/dots_and_boxes/training_data/{artifact_name}.pkl'\n",
    "    buffer.save(path)\n",
    "    # buffer.save_to_wandb(\n",
    "    #     artifact_name=artifact_name,\n",
    "    #     project='AlphaZero-DotsAndBoxes',\n",
    "    #     description=f'Training data for dots and boxes with board size {rows}x{cols} using {model_name} model created by Minimax agent'\n",
    "    # )"
   ]
  },
  {
   "cell_type": "code",
   "execution_count": 7,
   "metadata": {},
   "outputs": [
    {
     "name": "stderr",
     "output_type": "stream",
     "text": [
      "/Users/eohjelle/Documents/2025-dots-and-boxes/dots-and-boxes/core/data_structures.py:94: FutureWarning: You are using `torch.load` with `weights_only=False` (the current default value), which uses the default pickle module implicitly. It is possible to construct malicious pickle data which will execute arbitrary code during unpickling (See https://github.com/pytorch/pytorch/blob/main/SECURITY.md#untrusted-models for more details). In a future release, the default value for `weights_only` will be flipped to `True`. This limits the functions that could be executed during unpickling. Arbitrary objects will no longer be allowed to be loaded via this mode unless they are explicitly allowlisted by the user via `torch.serialization.add_safe_globals`. We recommend you start setting `weights_only=True` for any use case where you don't have full control of the loaded file. Please open an issue on GitHub for any issues related to this experimental feature.\n",
      "  checkpoint = torch.load(path, map_location=device)\n"
     ]
    }
   ],
   "source": [
    "# Try loading the training data\n",
    "buffer = ReplayBuffer.from_file(path)"
   ]
  }
 ],
 "metadata": {
  "kernelspec": {
   "display_name": "dots-and-boxes",
   "language": "python",
   "name": "python3"
  },
  "language_info": {
   "codemirror_mode": {
    "name": "ipython",
    "version": 3
   },
   "file_extension": ".py",
   "mimetype": "text/x-python",
   "name": "python",
   "nbconvert_exporter": "python",
   "pygments_lexer": "ipython3",
   "version": "3.13.1"
  }
 },
 "nbformat": 4,
 "nbformat_minor": 2
}
