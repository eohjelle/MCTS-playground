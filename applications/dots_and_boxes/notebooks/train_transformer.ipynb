{
 "cells": [
  {
   "cell_type": "code",
   "execution_count": 1,
   "metadata": {},
   "outputs": [
    {
     "name": "stdout",
     "output_type": "stream",
     "text": [
      "Working directory: /Users/eohjelle/Documents/2025-dots-and-boxes/dots-and-boxes\n"
     ]
    }
   ],
   "source": [
    "# Change directory to the root of the project\n",
    "import os \n",
    "os.chdir('..')\n",
    "os.chdir('..')\n",
    "os.chdir('..')\n",
    "print(f\"Working directory: {os.getcwd()}\")"
   ]
  },
  {
   "cell_type": "code",
   "execution_count": 2,
   "metadata": {},
   "outputs": [],
   "source": [
    "from applications.dots_and_boxes.NNmodels.transformer import TransformerInitParams\n",
    "import torch\n",
    "\n",
    "# Initialize parameters\n",
    "\n",
    "## Model parameters\n",
    "model_type = 'transformer'\n",
    "model_params: TransformerInitParams = {\n",
    "    'num_rows': 3,\n",
    "    'num_cols': 2,\n",
    "    'embed_dim': 128,\n",
    "    'feedforward_dim': 512,\n",
    "    'num_heads': 4,\n",
    "    'attention_layers': 4\n",
    "}\n",
    "device = torch.device('mps')\n",
    "model_name = 'dots_and_boxes_transformer'\n",
    "\n",
    "## Initialize new model\n",
    "load_model = None\n",
    "load_model_params = {}\n",
    "\n",
    "## Optimizer parameters\n",
    "optimizer_type = 'adam'\n",
    "optimizer_params = {\n",
    "    'lr': 1e-2,\n",
    "    'betas': (0.9, 0.999),\n",
    "    'eps': 1e-8,\n",
    "    'weight_decay': 1e-4,\n",
    "    'amsgrad': False\n",
    "}\n",
    "\n",
    "## Learning scheduler parameters\n",
    "lr_scheduler_type = 'plateau'\n",
    "lr_scheduler_params = {\n",
    "    'factor': 0.5,\n",
    "    'patience': 10,\n",
    "    'cooldown': 10,\n",
    "    'min_lr': 1e-6\n",
    "}\n",
    "\n",
    "## Training parameters\n",
    "training_method = 'supervised'\n",
    "trainer_params = {}\n",
    "training_params = {\n",
    "    'epochs': 100,\n",
    "    'batch_size': 256,\n",
    "    'eval_freq': 25,\n",
    "    'checkpoint_freq': 50,\n",
    "    'mask_illegal_moves': False,\n",
    "    'mask_value': -20.0, # Doesn't matter when mask_illegal_moves is False\n",
    "    'checkpoint_dir': 'checkpoints',\n",
    "    'start_at': 1\n",
    "}\n",
    "\n",
    "## Load replay buffer from wandb\n",
    "load_replay_buffer = 'from_file'\n",
    "load_replay_buffer_params = {\n",
    "    'path': f'applications/dots_and_boxes/training_data/dots_and_boxes_{model_params[\"num_rows\"]}x{model_params[\"num_cols\"]}_DABSimpleTensorMapping_minimax.pkl',\n",
    "    'device': device\n",
    "}\n",
    "# load_replay_buffer = 'from_wandb'\n",
    "# load_replay_buffer_params = {\n",
    "#     'project': 'AlphaZero-DotsAndBoxes',\n",
    "#     'artifact_name': f'dots_and_boxes_{model_params[\"num_rows\"]}x{model_params[\"num_cols\"]}_SimpleTensorMapping_minimax',\n",
    "#     'artifact_version': 'latest'\n",
    "# }\n"
   ]
  },
  {
   "cell_type": "code",
   "execution_count": 3,
   "metadata": {},
   "outputs": [
    {
     "name": "stderr",
     "output_type": "stream",
     "text": [
      "\u001b[34m\u001b[1mwandb\u001b[0m: Currently logged in as: \u001b[33meohjelle\u001b[0m (\u001b[33meigenway\u001b[0m) to \u001b[32mhttps://api.wandb.ai\u001b[0m. Use \u001b[1m`wandb login --relogin`\u001b[0m to force relogin\n",
      "\u001b[34m\u001b[1mwandb\u001b[0m: Using wandb-core as the SDK backend.  Please refer to https://wandb.me/wandb-core for more information.\n"
     ]
    },
    {
     "data": {
      "text/html": [
       "Tracking run with wandb version 0.19.6"
      ],
      "text/plain": [
       "<IPython.core.display.HTML object>"
      ]
     },
     "metadata": {},
     "output_type": "display_data"
    },
    {
     "data": {
      "text/html": [
       "Run data is saved locally in <code>/Users/eohjelle/Documents/2025-dots-and-boxes/dots-and-boxes/wandb/run-20250320_154041-mjhenan8</code>"
      ],
      "text/plain": [
       "<IPython.core.display.HTML object>"
      ]
     },
     "metadata": {},
     "output_type": "display_data"
    },
    {
     "data": {
      "text/html": [
       "Syncing run <strong><a href='https://wandb.ai/eigenway/AlphaZero-DotsAndBoxes/runs/mjhenan8' target=\"_blank\">Transformer 3</a></strong> to <a href='https://wandb.ai/eigenway/AlphaZero-DotsAndBoxes' target=\"_blank\">Weights & Biases</a> (<a href='https://wandb.me/developer-guide' target=\"_blank\">docs</a>)<br>"
      ],
      "text/plain": [
       "<IPython.core.display.HTML object>"
      ]
     },
     "metadata": {},
     "output_type": "display_data"
    },
    {
     "data": {
      "text/html": [
       " View project at <a href='https://wandb.ai/eigenway/AlphaZero-DotsAndBoxes' target=\"_blank\">https://wandb.ai/eigenway/AlphaZero-DotsAndBoxes</a>"
      ],
      "text/plain": [
       "<IPython.core.display.HTML object>"
      ]
     },
     "metadata": {},
     "output_type": "display_data"
    },
    {
     "data": {
      "text/html": [
       " View run at <a href='https://wandb.ai/eigenway/AlphaZero-DotsAndBoxes/runs/mjhenan8' target=\"_blank\">https://wandb.ai/eigenway/AlphaZero-DotsAndBoxes/runs/mjhenan8</a>"
      ],
      "text/plain": [
       "<IPython.core.display.HTML object>"
      ]
     },
     "metadata": {},
     "output_type": "display_data"
    }
   ],
   "source": [
    "# Initialize wandb run\n",
    "import wandb\n",
    "\n",
    "run_name = 'Transformer 3'\n",
    "notes = 'New transformer model, supervised training on 3 x 2 board. Comparable parameters to Linear Attention Transformer 3.'\n",
    "\n",
    "config = {\n",
    "    'model_type': model_type,\n",
    "    'model_params': model_params,\n",
    "    'optimizer_type': optimizer_type,\n",
    "    'optimizer_params': optimizer_params,\n",
    "    'lr_scheduler_type': lr_scheduler_type,\n",
    "    'lr_scheduler_params': lr_scheduler_params,\n",
    "    'training_method': training_method,\n",
    "    'trainer_params': trainer_params,\n",
    "    'training_params': training_params\n",
    "}\n",
    "\n",
    "run = wandb.init(\n",
    "    project='AlphaZero-DotsAndBoxes',\n",
    "    name=run_name,\n",
    "    config=config,\n",
    "    notes=notes,\n",
    "    group=f'{training_method} training on {model_params[\"num_rows\"]}x{model_params[\"num_cols\"]} board'\n",
    ")\n",
    "# run = None"
   ]
  },
  {
   "cell_type": "code",
   "execution_count": 4,
   "metadata": {},
   "outputs": [
    {
     "name": "stderr",
     "output_type": "stream",
     "text": [
      "\u001b[34m\u001b[1mwandb\u001b[0m: logging graph, to disable use `wandb.watch(log_graph=False)`\n",
      "/Users/eohjelle/Documents/2025-dots-and-boxes/dots-and-boxes/core/data_structures.py:77: FutureWarning: You are using `torch.load` with `weights_only=False` (the current default value), which uses the default pickle module implicitly. It is possible to construct malicious pickle data which will execute arbitrary code during unpickling (See https://github.com/pytorch/pytorch/blob/main/SECURITY.md#untrusted-models for more details). In a future release, the default value for `weights_only` will be flipped to `True`. This limits the functions that could be executed during unpickling. Arbitrary objects will no longer be allowed to be loaded via this mode unless they are explicitly allowlisted by the user via `torch.serialization.add_safe_globals`. We recommend you start setting `weights_only=True` for any use case where you don't have full control of the loaded file. Please open an issue on GitHub for any issues related to this experimental feature.\n",
      "  checkpoint = torch.load(path, map_location=device)\n"
     ]
    },
    {
     "name": "stdout",
     "output_type": "stream",
     "text": [
      "Error getting baseline best loss: artifact 'dots_and_boxes_transformer_best:latest' not found in 'eigenway/AlphaZero-DotsAndBoxes'\n",
      "Epoch 1/100, Train Loss: 3.6598, Val Loss: 2.6387, Learning rate: 0.010000\n",
      "Epoch 2/100, Train Loss: 2.6513, Val Loss: 2.6193, Learning rate: 0.010000\n",
      "Epoch 3/100, Train Loss: 2.6305, Val Loss: 2.6225, Learning rate: 0.010000\n",
      "Epoch 4/100, Train Loss: 2.5920, Val Loss: 2.5713, Learning rate: 0.010000\n",
      "Epoch 5/100, Train Loss: 2.4311, Val Loss: 2.2771, Learning rate: 0.010000\n",
      "Epoch 6/100, Train Loss: 2.1726, Val Loss: 2.1392, Learning rate: 0.010000\n",
      "Epoch 7/100, Train Loss: 2.1061, Val Loss: 2.0630, Learning rate: 0.010000\n",
      "Epoch 8/100, Train Loss: 2.0780, Val Loss: 2.0544, Learning rate: 0.010000\n",
      "Epoch 9/100, Train Loss: 2.0656, Val Loss: 2.0441, Learning rate: 0.010000\n",
      "Epoch 10/100, Train Loss: 2.0604, Val Loss: 2.0649, Learning rate: 0.010000\n",
      "Epoch 11/100, Train Loss: 2.0558, Val Loss: 2.0450, Learning rate: 0.010000\n",
      "Epoch 12/100, Train Loss: 2.0538, Val Loss: 2.0374, Learning rate: 0.010000\n",
      "Epoch 13/100, Train Loss: 2.0522, Val Loss: 2.0304, Learning rate: 0.010000\n",
      "Epoch 14/100, Train Loss: 2.0438, Val Loss: 2.0676, Learning rate: 0.010000\n",
      "Epoch 15/100, Train Loss: 2.0455, Val Loss: 2.0349, Learning rate: 0.010000\n",
      "Epoch 16/100, Train Loss: 2.0505, Val Loss: 2.0918, Learning rate: 0.010000\n",
      "Epoch 17/100, Train Loss: 2.0421, Val Loss: 2.0262, Learning rate: 0.010000\n",
      "Epoch 18/100, Train Loss: 2.0394, Val Loss: 2.0170, Learning rate: 0.010000\n",
      "Epoch 19/100, Train Loss: 2.0412, Val Loss: 2.0195, Learning rate: 0.010000\n",
      "Epoch 20/100, Train Loss: 2.0342, Val Loss: 2.0327, Learning rate: 0.010000\n",
      "Epoch 21/100, Train Loss: 2.0349, Val Loss: 2.0321, Learning rate: 0.010000\n",
      "Epoch 22/100, Train Loss: 2.0403, Val Loss: 2.0667, Learning rate: 0.010000\n",
      "Epoch 23/100, Train Loss: 2.0349, Val Loss: 2.0251, Learning rate: 0.010000\n",
      "Epoch 24/100, Train Loss: 2.0760, Val Loss: 2.0104, Learning rate: 0.010000\n",
      "Epoch 25/100, Train Loss: 2.0407, Val Loss: 2.0530, Learning rate: 0.010000\n",
      "Minimax score: -0.47000000000000003\n",
      "RandomAgent score: 0.9299999999999999\n",
      "Epoch 26/100, Train Loss: 2.0403, Val Loss: 2.0165, Learning rate: 0.010000\n",
      "Epoch 27/100, Train Loss: 2.0404, Val Loss: 2.0101, Learning rate: 0.010000\n",
      "Epoch 28/100, Train Loss: 2.0290, Val Loss: 2.0127, Learning rate: 0.010000\n",
      "Epoch 29/100, Train Loss: 2.0543, Val Loss: 2.0110, Learning rate: 0.010000\n",
      "Epoch 30/100, Train Loss: 2.0282, Val Loss: 2.0198, Learning rate: 0.010000\n",
      "Epoch 31/100, Train Loss: 2.0276, Val Loss: 2.0203, Learning rate: 0.010000\n",
      "Epoch 32/100, Train Loss: 2.0310, Val Loss: 2.0248, Learning rate: 0.010000\n",
      "Epoch 33/100, Train Loss: 2.0260, Val Loss: 2.0185, Learning rate: 0.010000\n",
      "Epoch 34/100, Train Loss: 2.0284, Val Loss: 2.0113, Learning rate: 0.010000\n",
      "Epoch 35/100, Train Loss: 2.0272, Val Loss: 2.0118, Learning rate: 0.010000\n",
      "Epoch 36/100, Train Loss: 2.0280, Val Loss: 2.0198, Learning rate: 0.010000\n",
      "Epoch 37/100, Train Loss: 2.0256, Val Loss: 2.0214, Learning rate: 0.010000\n",
      "Epoch 38/100, Train Loss: 2.0283, Val Loss: 2.0153, Learning rate: 0.010000\n",
      "Epoch 39/100, Train Loss: 2.0248, Val Loss: 2.0144, Learning rate: 0.010000\n",
      "Epoch 40/100, Train Loss: 2.0245, Val Loss: 2.0052, Learning rate: 0.010000\n",
      "Epoch 41/100, Train Loss: 2.0270, Val Loss: 2.0028, Learning rate: 0.010000\n",
      "Epoch 42/100, Train Loss: 2.0211, Val Loss: 2.0539, Learning rate: 0.010000\n",
      "Epoch 43/100, Train Loss: 2.0232, Val Loss: 2.0034, Learning rate: 0.010000\n",
      "Epoch 44/100, Train Loss: 2.0263, Val Loss: 2.0037, Learning rate: 0.010000\n",
      "Epoch 45/100, Train Loss: 2.0205, Val Loss: 2.0174, Learning rate: 0.010000\n",
      "Epoch 46/100, Train Loss: 2.0278, Val Loss: 2.0339, Learning rate: 0.010000\n",
      "Epoch 47/100, Train Loss: 2.0202, Val Loss: 2.0068, Learning rate: 0.010000\n",
      "Epoch 48/100, Train Loss: 2.0337, Val Loss: 2.0019, Learning rate: 0.010000\n",
      "Epoch 49/100, Train Loss: 2.0214, Val Loss: 2.0169, Learning rate: 0.010000\n",
      "Epoch 50/100, Train Loss: 2.0212, Val Loss: 2.0010, Learning rate: 0.010000\n",
      "Minimax score: -0.31\n",
      "RandomAgent score: 0.95\n",
      "Epoch 51/100, Train Loss: 2.0224, Val Loss: 2.0109, Learning rate: 0.010000\n",
      "Epoch 52/100, Train Loss: 2.0222, Val Loss: 2.0039, Learning rate: 0.010000\n",
      "Epoch 53/100, Train Loss: 2.0221, Val Loss: 2.0125, Learning rate: 0.010000\n",
      "Epoch 54/100, Train Loss: 2.0206, Val Loss: 2.0174, Learning rate: 0.010000\n",
      "Epoch 55/100, Train Loss: 2.0205, Val Loss: 1.9959, Learning rate: 0.010000\n",
      "Epoch 56/100, Train Loss: 2.0211, Val Loss: 1.9972, Learning rate: 0.010000\n",
      "Epoch 57/100, Train Loss: 2.0214, Val Loss: 2.0021, Learning rate: 0.010000\n",
      "Epoch 58/100, Train Loss: 2.0213, Val Loss: 2.0059, Learning rate: 0.010000\n",
      "Epoch 59/100, Train Loss: 1.9960, Val Loss: 1.9757, Learning rate: 0.005000\n",
      "Epoch 60/100, Train Loss: 1.9951, Val Loss: 1.9902, Learning rate: 0.005000\n",
      "Epoch 61/100, Train Loss: 1.9947, Val Loss: 1.9807, Learning rate: 0.005000\n",
      "Epoch 62/100, Train Loss: 1.9943, Val Loss: 1.9797, Learning rate: 0.005000\n",
      "Epoch 63/100, Train Loss: 1.9913, Val Loss: 1.9840, Learning rate: 0.005000\n",
      "Epoch 64/100, Train Loss: 1.9906, Val Loss: 1.9730, Learning rate: 0.005000\n",
      "Epoch 65/100, Train Loss: 1.9958, Val Loss: 1.9744, Learning rate: 0.005000\n",
      "Epoch 66/100, Train Loss: 1.9874, Val Loss: 1.9792, Learning rate: 0.005000\n",
      "Epoch 67/100, Train Loss: 1.9870, Val Loss: 1.9783, Learning rate: 0.005000\n",
      "Epoch 68/100, Train Loss: 1.9864, Val Loss: 1.9721, Learning rate: 0.005000\n",
      "Epoch 69/100, Train Loss: 1.9872, Val Loss: 1.9709, Learning rate: 0.005000\n",
      "Epoch 70/100, Train Loss: 1.9850, Val Loss: 1.9794, Learning rate: 0.005000\n",
      "Epoch 71/100, Train Loss: 1.9842, Val Loss: 1.9718, Learning rate: 0.005000\n",
      "Epoch 72/100, Train Loss: 1.9857, Val Loss: 1.9665, Learning rate: 0.005000\n",
      "Epoch 73/100, Train Loss: 1.9827, Val Loss: 1.9648, Learning rate: 0.005000\n",
      "Epoch 74/100, Train Loss: 1.9823, Val Loss: 1.9663, Learning rate: 0.005000\n",
      "Epoch 75/100, Train Loss: 1.9837, Val Loss: 1.9756, Learning rate: 0.005000\n",
      "Minimax score: -0.26999999999999996\n",
      "RandomAgent score: 0.98\n",
      "Epoch 76/100, Train Loss: 1.9822, Val Loss: 1.9636, Learning rate: 0.005000\n",
      "Epoch 77/100, Train Loss: 1.9818, Val Loss: 1.9650, Learning rate: 0.005000\n",
      "Epoch 78/100, Train Loss: 1.9812, Val Loss: 1.9652, Learning rate: 0.005000\n",
      "Epoch 79/100, Train Loss: 1.9800, Val Loss: 1.9622, Learning rate: 0.005000\n",
      "Epoch 80/100, Train Loss: 1.9802, Val Loss: 1.9615, Learning rate: 0.005000\n",
      "Epoch 81/100, Train Loss: 1.9800, Val Loss: 1.9829, Learning rate: 0.005000\n",
      "Epoch 82/100, Train Loss: 1.9795, Val Loss: 1.9575, Learning rate: 0.005000\n",
      "Epoch 83/100, Train Loss: 1.9797, Val Loss: 1.9711, Learning rate: 0.005000\n",
      "Epoch 84/100, Train Loss: 1.9773, Val Loss: 1.9616, Learning rate: 0.005000\n",
      "Epoch 85/100, Train Loss: 1.9769, Val Loss: 1.9548, Learning rate: 0.005000\n",
      "Epoch 86/100, Train Loss: 1.9776, Val Loss: 1.9617, Learning rate: 0.005000\n",
      "Epoch 87/100, Train Loss: 1.9740, Val Loss: 1.9567, Learning rate: 0.005000\n",
      "Epoch 88/100, Train Loss: 1.9751, Val Loss: 1.9597, Learning rate: 0.005000\n",
      "Epoch 89/100, Train Loss: 1.9734, Val Loss: 1.9639, Learning rate: 0.005000\n",
      "Epoch 90/100, Train Loss: 1.9739, Val Loss: 1.9546, Learning rate: 0.005000\n",
      "Epoch 91/100, Train Loss: 1.9722, Val Loss: 1.9568, Learning rate: 0.005000\n",
      "Epoch 92/100, Train Loss: 1.9707, Val Loss: 1.9690, Learning rate: 0.005000\n",
      "Epoch 93/100, Train Loss: 1.9734, Val Loss: 1.9551, Learning rate: 0.005000\n",
      "Epoch 94/100, Train Loss: 1.9691, Val Loss: 1.9492, Learning rate: 0.005000\n",
      "Epoch 95/100, Train Loss: 1.9669, Val Loss: 1.9500, Learning rate: 0.005000\n",
      "Epoch 96/100, Train Loss: 1.9671, Val Loss: 1.9528, Learning rate: 0.005000\n",
      "Epoch 97/100, Train Loss: 1.9664, Val Loss: 1.9574, Learning rate: 0.005000\n",
      "Epoch 98/100, Train Loss: 1.9658, Val Loss: 1.9518, Learning rate: 0.005000\n",
      "Epoch 99/100, Train Loss: 1.9651, Val Loss: 1.9466, Learning rate: 0.005000\n",
      "Epoch 100/100, Train Loss: 1.9670, Val Loss: 1.9507, Learning rate: 0.005000\n",
      "Minimax score: -0.26\n",
      "RandomAgent score: 0.99\n",
      "Training complete.\n",
      "Best val_loss: 1.9466\n",
      "Final val_loss: 1.9507\n"
     ]
    }
   ],
   "source": [
    "# Perform training\n",
    "\n",
    "from applications.dots_and_boxes.train import train\n",
    "\n",
    "model_interface = train(\n",
    "    num_rows = model_params[\"num_rows\"],\n",
    "    num_cols = model_params[\"num_cols\"],\n",
    "    model_type=model_type,\n",
    "    model_params=model_params,\n",
    "    device=device,\n",
    "    model_name=model_name,\n",
    "    optimizer_type=optimizer_type,\n",
    "    optimizer_params=optimizer_params,\n",
    "    lr_scheduler_type=lr_scheduler_type,\n",
    "    lr_scheduler_params=lr_scheduler_params,\n",
    "    training_method=training_method,\n",
    "    trainer_params=trainer_params,\n",
    "    training_params=training_params,\n",
    "    load_model=load_model,\n",
    "    load_model_params=load_model_params,\n",
    "    load_replay_buffer=load_replay_buffer,\n",
    "    load_replay_buffer_params=load_replay_buffer_params,\n",
    "    wandb_run=run\n",
    ")"
   ]
  },
  {
   "cell_type": "code",
   "execution_count": 5,
   "metadata": {},
   "outputs": [
    {
     "data": {
      "text/html": [],
      "text/plain": [
       "<IPython.core.display.HTML object>"
      ]
     },
     "metadata": {},
     "output_type": "display_data"
    },
    {
     "data": {
      "text/html": [
       "<br>    <style><br>        .wandb-row {<br>            display: flex;<br>            flex-direction: row;<br>            flex-wrap: wrap;<br>            justify-content: flex-start;<br>            width: 100%;<br>        }<br>        .wandb-col {<br>            display: flex;<br>            flex-direction: column;<br>            flex-basis: 100%;<br>            flex: 1;<br>            padding: 10px;<br>        }<br>    </style><br><div class=\"wandb-row\"><div class=\"wandb-col\"><h3>Run history:</h3><br/><table class=\"wandb\"><tr><td>Minimax_draw_rate</td><td>█▄▅▁</td></tr><tr><td>Minimax_loss_rate</td><td>█▄▁▅</td></tr><tr><td>Minimax_score</td><td>▁▆██</td></tr><tr><td>Minimax_win_rate</td><td>▁▆▆█</td></tr><tr><td>RandomAgent_draw_rate</td><td>█▁▅▁</td></tr><tr><td>RandomAgent_loss_rate</td><td>██▁▁</td></tr><tr><td>RandomAgent_score</td><td>▁▃▇█</td></tr><tr><td>RandomAgent_win_rate</td><td>▁▅▆█</td></tr><tr><td>epoch</td><td>▁▁▁▁▁▂▂▂▂▂▂▃▃▃▃▃▃▃▃▃▄▄▄▄▄▄▄▄▅▅▆▆▆▆▆▇▇▇██</td></tr><tr><td>learning_rate</td><td>███████████████████████▁▁▁▁▁▁▁▁▁▁▁▁▁▁▁▁▁</td></tr><tr><td>train_loss</td><td>█▄▄▄▂▁▁▁▁▁▁▁▁▁▁▁▁▁▁▁▁▁▁▁▁▁▁▁▁▁▁▁▁▁▁▁▁▁▁▁</td></tr><tr><td>train_policy_loss</td><td>█▃▃▂▂▂▂▂▂▂▂▂▂▂▂▂▂▂▂▂▂▂▂▂▂▁▁▁▁▁▁▁▁▁▁▁▁▁▁▁</td></tr><tr><td>train_value_loss</td><td>█▁▁▁▁▁▁▁▁▁▁▁▁▁▁▁▁▁▁▁▁▁▁▁▁▁▁▁▁▁▁▁▁▁▁▁▁▁▁▁</td></tr><tr><td>val_loss</td><td>█▇▃▂▂▂▂▂▂▂▂▂▂▂▂▂▂▂▂▂▂▂▁▁▁▁▁▁▁▁▁▁▁▁▁▁▁▁▁▁</td></tr><tr><td>val_policy_loss</td><td>█▄▂▂▂▂▂▂▂▂▂▂▂▂▂▂▂▂▂▂▂▂▂▂▁▁▁▁▁▁▁▁▁▁▁▁▁▁▁▁</td></tr><tr><td>val_value_loss</td><td>▃▃▃▃▃▃▃▃▃█▃▃▃▃▃▃▃▃▁▃▆▃▃▃▃▃▃▃▃▃▃▄▃▃▃▃▃▃▃▃</td></tr></table><br/></div><div class=\"wandb-col\"><h3>Run summary:</h3><br/><table class=\"wandb\"><tr><td>Minimax_draw_rate</td><td>0.02</td></tr><tr><td>Minimax_loss_rate</td><td>0.62</td></tr><tr><td>Minimax_score</td><td>-0.26</td></tr><tr><td>Minimax_win_rate</td><td>0.36</td></tr><tr><td>RandomAgent_draw_rate</td><td>0.01</td></tr><tr><td>RandomAgent_loss_rate</td><td>0</td></tr><tr><td>RandomAgent_score</td><td>0.99</td></tr><tr><td>RandomAgent_win_rate</td><td>0.99</td></tr><tr><td>epoch</td><td>100</td></tr><tr><td>learning_rate</td><td>0.005</td></tr><tr><td>train_loss</td><td>1.96699</td></tr><tr><td>train_policy_loss</td><td>1.21235</td></tr><tr><td>train_value_loss</td><td>0.75464</td></tr><tr><td>val_loss</td><td>1.95067</td></tr><tr><td>val_policy_loss</td><td>1.20542</td></tr><tr><td>val_value_loss</td><td>0.74525</td></tr></table><br/></div></div>"
      ],
      "text/plain": [
       "<IPython.core.display.HTML object>"
      ]
     },
     "metadata": {},
     "output_type": "display_data"
    },
    {
     "data": {
      "text/html": [
       " View run <strong style=\"color:#cdcd00\">Transformer 3</strong> at: <a href='https://wandb.ai/eigenway/AlphaZero-DotsAndBoxes/runs/mjhenan8' target=\"_blank\">https://wandb.ai/eigenway/AlphaZero-DotsAndBoxes/runs/mjhenan8</a><br> View project at: <a href='https://wandb.ai/eigenway/AlphaZero-DotsAndBoxes' target=\"_blank\">https://wandb.ai/eigenway/AlphaZero-DotsAndBoxes</a><br>Synced 5 W&B file(s), 1 media file(s), 70 artifact file(s) and 0 other file(s)"
      ],
      "text/plain": [
       "<IPython.core.display.HTML object>"
      ]
     },
     "metadata": {},
     "output_type": "display_data"
    },
    {
     "data": {
      "text/html": [
       "Find logs at: <code>./wandb/run-20250320_154041-mjhenan8/logs</code>"
      ],
      "text/plain": [
       "<IPython.core.display.HTML object>"
      ]
     },
     "metadata": {},
     "output_type": "display_data"
    }
   ],
   "source": [
    "run.finish()"
   ]
  },
  {
   "cell_type": "code",
   "execution_count": 6,
   "metadata": {},
   "outputs": [
    {
     "name": "stdout",
     "output_type": "stream",
     "text": [
      "Total parameters: 798,082\n",
      "Trainable parameters: 798,082 (100.00%)\n",
      "Non-trainable parameters: 0 (0.00%)\n",
      "\n",
      "Parameters by layer:\n",
      "pos_embedding: 2,176 parameters\n",
      "input_embedding.weight: 256 parameters\n",
      "transformer_blocks.0.self_attn.in_proj_weight: 49,152 parameters\n",
      "transformer_blocks.0.self_attn.in_proj_bias: 384 parameters\n",
      "transformer_blocks.0.self_attn.out_proj.weight: 16,384 parameters\n",
      "transformer_blocks.0.self_attn.out_proj.bias: 128 parameters\n",
      "transformer_blocks.0.linear1.weight: 65,536 parameters\n",
      "transformer_blocks.0.linear1.bias: 512 parameters\n",
      "transformer_blocks.0.linear2.weight: 65,536 parameters\n",
      "transformer_blocks.0.linear2.bias: 128 parameters\n",
      "transformer_blocks.0.norm1.weight: 128 parameters\n",
      "transformer_blocks.0.norm1.bias: 128 parameters\n",
      "transformer_blocks.0.norm2.weight: 128 parameters\n",
      "transformer_blocks.0.norm2.bias: 128 parameters\n",
      "transformer_blocks.1.self_attn.in_proj_weight: 49,152 parameters\n",
      "transformer_blocks.1.self_attn.in_proj_bias: 384 parameters\n",
      "transformer_blocks.1.self_attn.out_proj.weight: 16,384 parameters\n",
      "transformer_blocks.1.self_attn.out_proj.bias: 128 parameters\n",
      "transformer_blocks.1.linear1.weight: 65,536 parameters\n",
      "transformer_blocks.1.linear1.bias: 512 parameters\n",
      "transformer_blocks.1.linear2.weight: 65,536 parameters\n",
      "transformer_blocks.1.linear2.bias: 128 parameters\n",
      "transformer_blocks.1.norm1.weight: 128 parameters\n",
      "transformer_blocks.1.norm1.bias: 128 parameters\n",
      "transformer_blocks.1.norm2.weight: 128 parameters\n",
      "transformer_blocks.1.norm2.bias: 128 parameters\n",
      "transformer_blocks.2.self_attn.in_proj_weight: 49,152 parameters\n",
      "transformer_blocks.2.self_attn.in_proj_bias: 384 parameters\n",
      "transformer_blocks.2.self_attn.out_proj.weight: 16,384 parameters\n",
      "transformer_blocks.2.self_attn.out_proj.bias: 128 parameters\n",
      "transformer_blocks.2.linear1.weight: 65,536 parameters\n",
      "transformer_blocks.2.linear1.bias: 512 parameters\n",
      "transformer_blocks.2.linear2.weight: 65,536 parameters\n",
      "transformer_blocks.2.linear2.bias: 128 parameters\n",
      "transformer_blocks.2.norm1.weight: 128 parameters\n",
      "transformer_blocks.2.norm1.bias: 128 parameters\n",
      "transformer_blocks.2.norm2.weight: 128 parameters\n",
      "transformer_blocks.2.norm2.bias: 128 parameters\n",
      "transformer_blocks.3.self_attn.in_proj_weight: 49,152 parameters\n",
      "transformer_blocks.3.self_attn.in_proj_bias: 384 parameters\n",
      "transformer_blocks.3.self_attn.out_proj.weight: 16,384 parameters\n",
      "transformer_blocks.3.self_attn.out_proj.bias: 128 parameters\n",
      "transformer_blocks.3.linear1.weight: 65,536 parameters\n",
      "transformer_blocks.3.linear1.bias: 512 parameters\n",
      "transformer_blocks.3.linear2.weight: 65,536 parameters\n",
      "transformer_blocks.3.linear2.bias: 128 parameters\n",
      "transformer_blocks.3.norm1.weight: 128 parameters\n",
      "transformer_blocks.3.norm1.bias: 128 parameters\n",
      "transformer_blocks.3.norm2.weight: 128 parameters\n",
      "transformer_blocks.3.norm2.bias: 128 parameters\n",
      "final_norm.weight: 128 parameters\n",
      "final_norm.bias: 128 parameters\n",
      "policy_head.weight: 128 parameters\n",
      "policy_head.bias: 1 parameters\n",
      "value_head.weight: 2,176 parameters\n",
      "value_head.bias: 1 parameters\n"
     ]
    }
   ],
   "source": [
    "def print_model_parameters(model):\n",
    "    \"\"\"\n",
    "    Print the total number of parameters in a PyTorch model,\n",
    "    with a breakdown of trainable vs non-trainable parameters.\n",
    "    \n",
    "    Args:\n",
    "        model: PyTorch model\n",
    "    \"\"\"\n",
    "    total_params = sum(p.numel() for p in model.parameters())\n",
    "    trainable_params = sum(p.numel() for p in model.parameters() if p.requires_grad)\n",
    "    non_trainable_params = total_params - trainable_params\n",
    "    \n",
    "    print(f\"Total parameters: {total_params:,}\")\n",
    "    print(f\"Trainable parameters: {trainable_params:,} ({trainable_params/total_params:.2%})\")\n",
    "    print(f\"Non-trainable parameters: {non_trainable_params:,} ({non_trainable_params/total_params:.2%})\")\n",
    "    \n",
    "    # Optional: Print parameters by layer\n",
    "    print(\"\\nParameters by layer:\")\n",
    "    for name, param in model.named_parameters():\n",
    "        print(f\"{name}: {param.numel():,} parameters\")\n",
    "\n",
    "# Example usage\n",
    "print_model_parameters(model_interface.model)"
   ]
  }
 ],
 "metadata": {
  "kernelspec": {
   "display_name": "dots-and-boxes",
   "language": "python",
   "name": "python3"
  },
  "language_info": {
   "codemirror_mode": {
    "name": "ipython",
    "version": 3
   },
   "file_extension": ".py",
   "mimetype": "text/x-python",
   "name": "python",
   "nbconvert_exporter": "python",
   "pygments_lexer": "ipython3",
   "version": "3.13.1"
  }
 },
 "nbformat": 4,
 "nbformat_minor": 2
}
