{
 "cells": [
  {
   "cell_type": "code",
   "execution_count": 1,
   "metadata": {},
   "outputs": [
    {
     "name": "stdout",
     "output_type": "stream",
     "text": [
      "Working directory: /Users/eohjelle/Documents/2025-dots-and-boxes/dots-and-boxes\n"
     ]
    }
   ],
   "source": [
    "# Change directory to the root of the project\n",
    "import os \n",
    "os.chdir('..')\n",
    "os.chdir('..')\n",
    "os.chdir('..')\n",
    "print(f\"Working directory: {os.getcwd()}\")"
   ]
  },
  {
   "cell_type": "code",
   "execution_count": 2,
   "metadata": {},
   "outputs": [],
   "source": [
    "from applications.dots_and_boxes.NNmodels.MLP import MLPInitParams\n",
    "import torch\n",
    "\n",
    "# Initialize parameters\n",
    "\n",
    "## Model parameters\n",
    "model_type = 'mlp'\n",
    "model_params: MLPInitParams = {\n",
    "    'num_rows': 3,\n",
    "    'num_cols': 2,\n",
    "    'hidden_sizes': [64, 128, 256, 128, 64]\n",
    "}\n",
    "device = torch.device('mps')\n",
    "model_name = 'dots_and_boxes_mlp'\n",
    "\n",
    "## Initialize new model\n",
    "load_model = None\n",
    "load_model_params = {}\n",
    "\n",
    "## Optimizer parameters\n",
    "optimizer_type = 'adam'\n",
    "optimizer_params = {\n",
    "    'lr': 1e-2,\n",
    "    'betas': (0.9, 0.999),\n",
    "    'eps': 1e-8,\n",
    "    'weight_decay': 1e-4,\n",
    "    'amsgrad': False\n",
    "}\n",
    "\n",
    "## Learning scheduler parameters\n",
    "lr_scheduler_type = 'plateau'\n",
    "lr_scheduler_params = {\n",
    "    'factor': 0.5,\n",
    "    'patience': 10,\n",
    "    'cooldown': 10,\n",
    "    'min_lr': 1e-6\n",
    "}\n",
    "\n",
    "## Training parameters\n",
    "training_method = 'supervised'\n",
    "trainer_params = {}\n",
    "training_params = {\n",
    "    'epochs': 100,\n",
    "    'batch_size': 256,\n",
    "    'eval_freq': 25,\n",
    "    'checkpoint_freq': 50,\n",
    "    'mask_illegal_moves': False,\n",
    "    'mask_value': -20.0, # Doesn't matter when mask_illegal_moves is False\n",
    "    'checkpoint_dir': 'checkpoints',\n",
    "    'start_at': 1\n",
    "}\n",
    "\n",
    "## Load replay buffer from wandb\n",
    "load_replay_buffer = 'from_file'\n",
    "load_replay_buffer_params = {\n",
    "    'path': f'applications/dots_and_boxes/training_data/dots_and_boxes_{model_params[\"num_rows\"]}x{model_params[\"num_cols\"]}_DABSimpleTensorMapping_minimax.pkl',\n",
    "    'device': device\n",
    "}\n",
    "# load_replay_buffer_params = {\n",
    "#     'project': 'AlphaZero-DotsAndBoxes',\n",
    "#     'artifact_name': f'dots_and_boxes_{model_params[\"num_rows\"]}x{model_params[\"num_cols\"]}_SimpleTensorMapping_minimax',\n",
    "#     'artifact_version': 'latest'\n",
    "# }\n"
   ]
  },
  {
   "cell_type": "code",
   "execution_count": 3,
   "metadata": {},
   "outputs": [
    {
     "name": "stderr",
     "output_type": "stream",
     "text": [
      "\u001b[34m\u001b[1mwandb\u001b[0m: Currently logged in as: \u001b[33meohjelle\u001b[0m (\u001b[33meigenway\u001b[0m) to \u001b[32mhttps://api.wandb.ai\u001b[0m. Use \u001b[1m`wandb login --relogin`\u001b[0m to force relogin\n",
      "\u001b[34m\u001b[1mwandb\u001b[0m: Using wandb-core as the SDK backend.  Please refer to https://wandb.me/wandb-core for more information.\n"
     ]
    },
    {
     "data": {
      "text/html": [
       "Tracking run with wandb version 0.19.6"
      ],
      "text/plain": [
       "<IPython.core.display.HTML object>"
      ]
     },
     "metadata": {},
     "output_type": "display_data"
    },
    {
     "data": {
      "text/html": [
       "Run data is saved locally in <code>/Users/eohjelle/Documents/2025-dots-and-boxes/dots-and-boxes/wandb/run-20250320_134334-i1t92mz5</code>"
      ],
      "text/plain": [
       "<IPython.core.display.HTML object>"
      ]
     },
     "metadata": {},
     "output_type": "display_data"
    },
    {
     "data": {
      "text/html": [
       "Syncing run <strong><a href='https://wandb.ai/eigenway/AlphaZero-DotsAndBoxes/runs/i1t92mz5' target=\"_blank\">MLP 5</a></strong> to <a href='https://wandb.ai/eigenway/AlphaZero-DotsAndBoxes' target=\"_blank\">Weights & Biases</a> (<a href='https://wandb.me/developer-guide' target=\"_blank\">docs</a>)<br>"
      ],
      "text/plain": [
       "<IPython.core.display.HTML object>"
      ]
     },
     "metadata": {},
     "output_type": "display_data"
    },
    {
     "data": {
      "text/html": [
       " View project at <a href='https://wandb.ai/eigenway/AlphaZero-DotsAndBoxes' target=\"_blank\">https://wandb.ai/eigenway/AlphaZero-DotsAndBoxes</a>"
      ],
      "text/plain": [
       "<IPython.core.display.HTML object>"
      ]
     },
     "metadata": {},
     "output_type": "display_data"
    },
    {
     "data": {
      "text/html": [
       " View run at <a href='https://wandb.ai/eigenway/AlphaZero-DotsAndBoxes/runs/i1t92mz5' target=\"_blank\">https://wandb.ai/eigenway/AlphaZero-DotsAndBoxes/runs/i1t92mz5</a>"
      ],
      "text/plain": [
       "<IPython.core.display.HTML object>"
      ]
     },
     "metadata": {},
     "output_type": "display_data"
    }
   ],
   "source": [
    "# Initialize wandb run\n",
    "import wandb\n",
    "\n",
    "run_name = 'MLP 5'\n",
    "notes = 'MLP 4 for 3 x 2 board.'\n",
    "\n",
    "config = {\n",
    "    'model_type': model_type,\n",
    "    'model_params': model_params,\n",
    "    'optimizer_type': optimizer_type,\n",
    "    'optimizer_params': optimizer_params,\n",
    "    'lr_scheduler_type': lr_scheduler_type,\n",
    "    'lr_scheduler_params': lr_scheduler_params,\n",
    "    'training_method': training_method,\n",
    "    'trainer_params': trainer_params,\n",
    "    'training_params': training_params\n",
    "}\n",
    "\n",
    "run = wandb.init(\n",
    "    project='AlphaZero-DotsAndBoxes',\n",
    "    name=run_name,\n",
    "    config=config,\n",
    "    notes=notes,\n",
    "    group=f'{training_method} training on {model_params[\"num_rows\"]}x{model_params[\"num_cols\"]} board'\n",
    ")\n",
    "# run = None"
   ]
  },
  {
   "cell_type": "code",
   "execution_count": 4,
   "metadata": {},
   "outputs": [
    {
     "name": "stderr",
     "output_type": "stream",
     "text": [
      "\u001b[34m\u001b[1mwandb\u001b[0m: logging graph, to disable use `wandb.watch(log_graph=False)`\n",
      "/Users/eohjelle/Documents/2025-dots-and-boxes/dots-and-boxes/core/data_structures.py:77: FutureWarning: You are using `torch.load` with `weights_only=False` (the current default value), which uses the default pickle module implicitly. It is possible to construct malicious pickle data which will execute arbitrary code during unpickling (See https://github.com/pytorch/pytorch/blob/main/SECURITY.md#untrusted-models for more details). In a future release, the default value for `weights_only` will be flipped to `True`. This limits the functions that could be executed during unpickling. Arbitrary objects will no longer be allowed to be loaded via this mode unless they are explicitly allowlisted by the user via `torch.serialization.add_safe_globals`. We recommend you start setting `weights_only=True` for any use case where you don't have full control of the loaded file. Please open an issue on GitHub for any issues related to this experimental feature.\n",
      "  checkpoint = torch.load(path, map_location=device)\n"
     ]
    },
    {
     "name": "stdout",
     "output_type": "stream",
     "text": [
      "Epoch 1/200, Train Loss: 2.5428, Val Loss: 1.9655, Learning rate: 0.010000\n",
      "Epoch 2/200, Train Loss: 1.8410, Val Loss: 1.8059, Learning rate: 0.010000\n",
      "Epoch 3/200, Train Loss: 1.7611, Val Loss: 1.7694, Learning rate: 0.010000\n",
      "Epoch 4/200, Train Loss: 1.7338, Val Loss: 1.7441, Learning rate: 0.010000\n",
      "Epoch 5/200, Train Loss: 1.7098, Val Loss: 1.7096, Learning rate: 0.010000\n",
      "Epoch 6/200, Train Loss: 1.6692, Val Loss: 1.6652, Learning rate: 0.010000\n",
      "Epoch 7/200, Train Loss: 1.5579, Val Loss: 1.5034, Learning rate: 0.010000\n",
      "Epoch 8/200, Train Loss: 1.4509, Val Loss: 1.4605, Learning rate: 0.010000\n",
      "Epoch 9/200, Train Loss: 1.4259, Val Loss: 1.4555, Learning rate: 0.010000\n",
      "Epoch 10/200, Train Loss: 1.4131, Val Loss: 1.4273, Learning rate: 0.010000\n",
      "Epoch 11/200, Train Loss: 1.4022, Val Loss: 1.4029, Learning rate: 0.010000\n",
      "Epoch 12/200, Train Loss: 1.3908, Val Loss: 1.4070, Learning rate: 0.010000\n",
      "Epoch 13/200, Train Loss: 1.3830, Val Loss: 1.4207, Learning rate: 0.010000\n",
      "Epoch 14/200, Train Loss: 1.3753, Val Loss: 1.3964, Learning rate: 0.010000\n",
      "Epoch 15/200, Train Loss: 1.3694, Val Loss: 1.3803, Learning rate: 0.010000\n",
      "Epoch 16/200, Train Loss: 1.3683, Val Loss: 1.3902, Learning rate: 0.010000\n",
      "Epoch 17/200, Train Loss: 1.3589, Val Loss: 1.3768, Learning rate: 0.010000\n",
      "Epoch 18/200, Train Loss: 1.3568, Val Loss: 1.3574, Learning rate: 0.010000\n",
      "Epoch 19/200, Train Loss: 1.3550, Val Loss: 1.3883, Learning rate: 0.010000\n",
      "Epoch 20/200, Train Loss: 1.3535, Val Loss: 1.3582, Learning rate: 0.010000\n",
      "Epoch 21/200, Train Loss: 1.3450, Val Loss: 1.3762, Learning rate: 0.010000\n",
      "Epoch 22/200, Train Loss: 1.3474, Val Loss: 1.4164, Learning rate: 0.010000\n",
      "Epoch 23/200, Train Loss: 1.3424, Val Loss: 1.3723, Learning rate: 0.010000\n",
      "Epoch 24/200, Train Loss: 1.3382, Val Loss: 1.3533, Learning rate: 0.010000\n",
      "Epoch 25/200, Train Loss: 1.3379, Val Loss: 1.3654, Learning rate: 0.010000\n",
      "Minimax score: -0.15000000000000002\n",
      "RandomAgent score: 0.98\n",
      "Epoch 26/200, Train Loss: 1.3347, Val Loss: 1.3553, Learning rate: 0.010000\n",
      "Epoch 27/200, Train Loss: 1.3429, Val Loss: 1.3581, Learning rate: 0.010000\n",
      "Epoch 28/200, Train Loss: 1.3309, Val Loss: 1.3394, Learning rate: 0.010000\n",
      "Epoch 29/200, Train Loss: 1.3375, Val Loss: 1.3557, Learning rate: 0.010000\n",
      "Epoch 30/200, Train Loss: 1.3299, Val Loss: 1.3467, Learning rate: 0.010000\n",
      "Epoch 31/200, Train Loss: 1.3316, Val Loss: 1.3571, Learning rate: 0.010000\n",
      "Epoch 32/200, Train Loss: 1.3365, Val Loss: 1.3425, Learning rate: 0.010000\n",
      "Epoch 33/200, Train Loss: 1.3307, Val Loss: 1.3756, Learning rate: 0.010000\n",
      "Epoch 34/200, Train Loss: 1.3304, Val Loss: 1.3363, Learning rate: 0.010000\n",
      "Epoch 35/200, Train Loss: 1.3280, Val Loss: 1.3413, Learning rate: 0.010000\n",
      "Epoch 36/200, Train Loss: 1.3309, Val Loss: 1.3399, Learning rate: 0.010000\n",
      "Epoch 37/200, Train Loss: 1.3233, Val Loss: 1.3491, Learning rate: 0.010000\n",
      "Epoch 38/200, Train Loss: 1.3317, Val Loss: 1.3297, Learning rate: 0.010000\n",
      "Epoch 39/200, Train Loss: 1.3202, Val Loss: 1.3477, Learning rate: 0.010000\n",
      "Epoch 40/200, Train Loss: 1.3243, Val Loss: 1.3656, Learning rate: 0.010000\n",
      "Epoch 41/200, Train Loss: 1.3245, Val Loss: 1.3298, Learning rate: 0.010000\n",
      "Epoch 42/200, Train Loss: 1.3211, Val Loss: 1.3818, Learning rate: 0.010000\n",
      "Epoch 43/200, Train Loss: 1.3224, Val Loss: 1.3304, Learning rate: 0.010000\n",
      "Epoch 44/200, Train Loss: 1.3206, Val Loss: 1.3543, Learning rate: 0.010000\n",
      "Epoch 45/200, Train Loss: 1.3232, Val Loss: 1.3241, Learning rate: 0.010000\n",
      "Epoch 46/200, Train Loss: 1.3185, Val Loss: 1.3408, Learning rate: 0.010000\n",
      "Epoch 47/200, Train Loss: 1.3205, Val Loss: 1.3573, Learning rate: 0.010000\n",
      "Epoch 48/200, Train Loss: 1.3167, Val Loss: 1.3392, Learning rate: 0.010000\n",
      "Epoch 49/200, Train Loss: 1.3183, Val Loss: 1.3348, Learning rate: 0.010000\n",
      "Epoch 50/200, Train Loss: 1.3176, Val Loss: 1.3287, Learning rate: 0.010000\n",
      "Minimax score: -0.13000000000000006\n",
      "RandomAgent score: 0.99\n",
      "Epoch 51/200, Train Loss: 1.3203, Val Loss: 1.3306, Learning rate: 0.010000\n",
      "Epoch 52/200, Train Loss: 1.3139, Val Loss: 1.3420, Learning rate: 0.010000\n",
      "Epoch 53/200, Train Loss: 1.3179, Val Loss: 1.3448, Learning rate: 0.010000\n",
      "Epoch 54/200, Train Loss: 1.3215, Val Loss: 1.3293, Learning rate: 0.010000\n",
      "Epoch 55/200, Train Loss: 1.3132, Val Loss: 1.3371, Learning rate: 0.010000\n",
      "Epoch 56/200, Train Loss: 1.3141, Val Loss: 1.3529, Learning rate: 0.010000\n",
      "Epoch 57/200, Train Loss: 1.3175, Val Loss: 1.3614, Learning rate: 0.010000\n",
      "Epoch 58/200, Train Loss: 1.3157, Val Loss: 1.3178, Learning rate: 0.010000\n",
      "Epoch 59/200, Train Loss: 1.3148, Val Loss: 1.3321, Learning rate: 0.010000\n",
      "Epoch 60/200, Train Loss: 1.3144, Val Loss: 1.3218, Learning rate: 0.010000\n",
      "Epoch 61/200, Train Loss: 1.3206, Val Loss: 1.3310, Learning rate: 0.010000\n",
      "Epoch 62/200, Train Loss: 1.3117, Val Loss: 1.3283, Learning rate: 0.010000\n",
      "Epoch 63/200, Train Loss: 1.3213, Val Loss: 1.3402, Learning rate: 0.010000\n",
      "Epoch 64/200, Train Loss: 1.3102, Val Loss: 1.3747, Learning rate: 0.010000\n",
      "Epoch 65/200, Train Loss: 1.3151, Val Loss: 1.3336, Learning rate: 0.010000\n",
      "Epoch 66/200, Train Loss: 1.3154, Val Loss: 1.3713, Learning rate: 0.010000\n",
      "Epoch 67/200, Train Loss: 1.3155, Val Loss: 1.3326, Learning rate: 0.010000\n",
      "Epoch 68/200, Train Loss: 1.3116, Val Loss: 1.3348, Learning rate: 0.010000\n",
      "Epoch 69/200, Train Loss: 1.3219, Val Loss: 1.3242, Learning rate: 0.010000\n",
      "Epoch 70/200, Train Loss: 1.3119, Val Loss: 1.3242, Learning rate: 0.010000\n",
      "Epoch 71/200, Train Loss: 1.3159, Val Loss: 1.3333, Learning rate: 0.010000\n",
      "Epoch 72/200, Train Loss: 1.3188, Val Loss: 1.3476, Learning rate: 0.010000\n",
      "Epoch 73/200, Train Loss: 1.3267, Val Loss: 1.3226, Learning rate: 0.010000\n",
      "Epoch 74/200, Train Loss: 1.3171, Val Loss: 1.3298, Learning rate: 0.010000\n",
      "Epoch 75/200, Train Loss: 1.3240, Val Loss: 1.3451, Learning rate: 0.010000\n",
      "Minimax score: -0.06\n",
      "RandomAgent score: 0.96\n",
      "Epoch 76/200, Train Loss: 1.3196, Val Loss: 1.3418, Learning rate: 0.010000\n",
      "Epoch 77/200, Train Loss: 1.3249, Val Loss: 1.3762, Learning rate: 0.010000\n",
      "Epoch 78/200, Train Loss: 1.3183, Val Loss: 1.3293, Learning rate: 0.010000\n",
      "Epoch 79/200, Train Loss: 1.3197, Val Loss: 1.3212, Learning rate: 0.010000\n",
      "Epoch 80/200, Train Loss: 1.3217, Val Loss: 1.3270, Learning rate: 0.010000\n",
      "Epoch 81/200, Train Loss: 1.3215, Val Loss: 1.3437, Learning rate: 0.010000\n",
      "Epoch 82/200, Train Loss: 1.3198, Val Loss: 1.3364, Learning rate: 0.010000\n",
      "Epoch 83/200, Train Loss: 1.3234, Val Loss: 1.3542, Learning rate: 0.010000\n",
      "Epoch 84/200, Train Loss: 1.3186, Val Loss: 1.3354, Learning rate: 0.010000\n",
      "Epoch 85/200, Train Loss: 1.3236, Val Loss: 1.3260, Learning rate: 0.010000\n",
      "Epoch 86/200, Train Loss: 1.3216, Val Loss: 1.3425, Learning rate: 0.010000\n",
      "Epoch 87/200, Train Loss: 1.3182, Val Loss: 1.3375, Learning rate: 0.010000\n",
      "Epoch 88/200, Train Loss: 1.3258, Val Loss: 1.3550, Learning rate: 0.010000\n",
      "Epoch 89/200, Train Loss: 1.3211, Val Loss: 1.3533, Learning rate: 0.010000\n",
      "Epoch 90/200, Train Loss: 1.3240, Val Loss: 1.3208, Learning rate: 0.010000\n",
      "Epoch 91/200, Train Loss: 1.2621, Val Loss: 1.2739, Learning rate: 0.005000\n",
      "Epoch 92/200, Train Loss: 1.2612, Val Loss: 1.2972, Learning rate: 0.005000\n",
      "Epoch 93/200, Train Loss: 1.2671, Val Loss: 1.2868, Learning rate: 0.005000\n",
      "Epoch 94/200, Train Loss: 1.2650, Val Loss: 1.2976, Learning rate: 0.005000\n",
      "Epoch 95/200, Train Loss: 1.2657, Val Loss: 1.2892, Learning rate: 0.005000\n",
      "Epoch 96/200, Train Loss: 1.2663, Val Loss: 1.2802, Learning rate: 0.005000\n",
      "Epoch 97/200, Train Loss: 1.2651, Val Loss: 1.2804, Learning rate: 0.005000\n",
      "Epoch 98/200, Train Loss: 1.2674, Val Loss: 1.2797, Learning rate: 0.005000\n",
      "Epoch 99/200, Train Loss: 1.2635, Val Loss: 1.3026, Learning rate: 0.005000\n",
      "Epoch 100/200, Train Loss: 1.2665, Val Loss: 1.2742, Learning rate: 0.005000\n",
      "Minimax score: -0.07\n",
      "RandomAgent score: 0.99\n",
      "Epoch 101/200, Train Loss: 1.2653, Val Loss: 1.2836, Learning rate: 0.005000\n",
      "Epoch 102/200, Train Loss: 1.2653, Val Loss: 1.2767, Learning rate: 0.005000\n",
      "Epoch 103/200, Train Loss: 1.2620, Val Loss: 1.2712, Learning rate: 0.005000\n",
      "Epoch 104/200, Train Loss: 1.2612, Val Loss: 1.2871, Learning rate: 0.005000\n",
      "Epoch 105/200, Train Loss: 1.2640, Val Loss: 1.2952, Learning rate: 0.005000\n",
      "Epoch 106/200, Train Loss: 1.2653, Val Loss: 1.2774, Learning rate: 0.005000\n",
      "Epoch 107/200, Train Loss: 1.2609, Val Loss: 1.2827, Learning rate: 0.005000\n",
      "Epoch 108/200, Train Loss: 1.2625, Val Loss: 1.2789, Learning rate: 0.005000\n",
      "Epoch 109/200, Train Loss: 1.2633, Val Loss: 1.2765, Learning rate: 0.005000\n",
      "Epoch 110/200, Train Loss: 1.2650, Val Loss: 1.2859, Learning rate: 0.005000\n",
      "Epoch 111/200, Train Loss: 1.2594, Val Loss: 1.2830, Learning rate: 0.005000\n",
      "Epoch 112/200, Train Loss: 1.2647, Val Loss: 1.2790, Learning rate: 0.005000\n",
      "Epoch 113/200, Train Loss: 1.2613, Val Loss: 1.2725, Learning rate: 0.005000\n",
      "Epoch 114/200, Train Loss: 1.2619, Val Loss: 1.2741, Learning rate: 0.005000\n",
      "Epoch 115/200, Train Loss: 1.2598, Val Loss: 1.2862, Learning rate: 0.005000\n",
      "Epoch 116/200, Train Loss: 1.2640, Val Loss: 1.2680, Learning rate: 0.005000\n",
      "Epoch 117/200, Train Loss: 1.2590, Val Loss: 1.2674, Learning rate: 0.005000\n",
      "Epoch 118/200, Train Loss: 1.2614, Val Loss: 1.2769, Learning rate: 0.005000\n",
      "Epoch 119/200, Train Loss: 1.2597, Val Loss: 1.2858, Learning rate: 0.005000\n",
      "Epoch 120/200, Train Loss: 1.2589, Val Loss: 1.2788, Learning rate: 0.005000\n",
      "Epoch 121/200, Train Loss: 1.2619, Val Loss: 1.2815, Learning rate: 0.005000\n",
      "Epoch 122/200, Train Loss: 1.2613, Val Loss: 1.2711, Learning rate: 0.005000\n",
      "Epoch 123/200, Train Loss: 1.2599, Val Loss: 1.2735, Learning rate: 0.005000\n",
      "Epoch 124/200, Train Loss: 1.2579, Val Loss: 1.2715, Learning rate: 0.005000\n",
      "Epoch 125/200, Train Loss: 1.2590, Val Loss: 1.2879, Learning rate: 0.005000\n",
      "Minimax score: -0.07\n",
      "RandomAgent score: 0.98\n",
      "Epoch 126/200, Train Loss: 1.2638, Val Loss: 1.2719, Learning rate: 0.005000\n",
      "Epoch 127/200, Train Loss: 1.2556, Val Loss: 1.2707, Learning rate: 0.005000\n",
      "Epoch 128/200, Train Loss: 1.2610, Val Loss: 1.2744, Learning rate: 0.005000\n",
      "Epoch 129/200, Train Loss: 1.2609, Val Loss: 1.2898, Learning rate: 0.005000\n",
      "Epoch 130/200, Train Loss: 1.2583, Val Loss: 1.2702, Learning rate: 0.005000\n",
      "Epoch 131/200, Train Loss: 1.2574, Val Loss: 1.2675, Learning rate: 0.005000\n",
      "Epoch 132/200, Train Loss: 1.2639, Val Loss: 1.2781, Learning rate: 0.005000\n",
      "Epoch 133/200, Train Loss: 1.2581, Val Loss: 1.2708, Learning rate: 0.005000\n",
      "Epoch 134/200, Train Loss: 1.2593, Val Loss: 1.2700, Learning rate: 0.005000\n",
      "Epoch 135/200, Train Loss: 1.2557, Val Loss: 1.2884, Learning rate: 0.005000\n",
      "Epoch 136/200, Train Loss: 1.2621, Val Loss: 1.2992, Learning rate: 0.005000\n",
      "Epoch 137/200, Train Loss: 1.2581, Val Loss: 1.2667, Learning rate: 0.005000\n",
      "Epoch 138/200, Train Loss: 1.2596, Val Loss: 1.2785, Learning rate: 0.005000\n",
      "Epoch 139/200, Train Loss: 1.2570, Val Loss: 1.3005, Learning rate: 0.005000\n",
      "Epoch 140/200, Train Loss: 1.2576, Val Loss: 1.2863, Learning rate: 0.005000\n",
      "Epoch 141/200, Train Loss: 1.2596, Val Loss: 1.2889, Learning rate: 0.005000\n",
      "Epoch 142/200, Train Loss: 1.2567, Val Loss: 1.2861, Learning rate: 0.005000\n",
      "Epoch 143/200, Train Loss: 1.2613, Val Loss: 1.2687, Learning rate: 0.005000\n",
      "Epoch 144/200, Train Loss: 1.2545, Val Loss: 1.2868, Learning rate: 0.005000\n",
      "Epoch 145/200, Train Loss: 1.2578, Val Loss: 1.2680, Learning rate: 0.005000\n",
      "Epoch 146/200, Train Loss: 1.2602, Val Loss: 1.2693, Learning rate: 0.005000\n",
      "Epoch 147/200, Train Loss: 1.2577, Val Loss: 1.2722, Learning rate: 0.005000\n",
      "Epoch 148/200, Train Loss: 1.2574, Val Loss: 1.2661, Learning rate: 0.005000\n",
      "Epoch 149/200, Train Loss: 1.2585, Val Loss: 1.2749, Learning rate: 0.005000\n",
      "Epoch 150/200, Train Loss: 1.2524, Val Loss: 1.2637, Learning rate: 0.005000\n",
      "Minimax score: -0.15000000000000008\n",
      "RandomAgent score: 0.99\n",
      "Epoch 151/200, Train Loss: 1.2595, Val Loss: 1.2691, Learning rate: 0.005000\n",
      "Epoch 152/200, Train Loss: 1.2539, Val Loss: 1.2741, Learning rate: 0.005000\n",
      "Epoch 153/200, Train Loss: 1.2583, Val Loss: 1.2801, Learning rate: 0.005000\n",
      "Epoch 154/200, Train Loss: 1.2602, Val Loss: 1.2724, Learning rate: 0.005000\n",
      "Epoch 155/200, Train Loss: 1.2521, Val Loss: 1.2867, Learning rate: 0.005000\n",
      "Epoch 156/200, Train Loss: 1.2630, Val Loss: 1.2626, Learning rate: 0.005000\n",
      "Epoch 157/200, Train Loss: 1.2541, Val Loss: 1.2946, Learning rate: 0.005000\n",
      "Epoch 158/200, Train Loss: 1.2559, Val Loss: 1.2712, Learning rate: 0.005000\n",
      "Epoch 159/200, Train Loss: 1.2574, Val Loss: 1.2666, Learning rate: 0.005000\n",
      "Epoch 160/200, Train Loss: 1.2599, Val Loss: 1.2623, Learning rate: 0.005000\n",
      "Epoch 161/200, Train Loss: 1.2513, Val Loss: 1.2667, Learning rate: 0.005000\n",
      "Epoch 162/200, Train Loss: 1.2576, Val Loss: 1.2683, Learning rate: 0.005000\n",
      "Epoch 163/200, Train Loss: 1.2539, Val Loss: 1.2683, Learning rate: 0.005000\n",
      "Epoch 164/200, Train Loss: 1.2622, Val Loss: 1.2595, Learning rate: 0.005000\n",
      "Epoch 165/200, Train Loss: 1.2514, Val Loss: 1.2800, Learning rate: 0.005000\n",
      "Epoch 166/200, Train Loss: 1.2581, Val Loss: 1.2636, Learning rate: 0.005000\n",
      "Epoch 167/200, Train Loss: 1.2554, Val Loss: 1.2817, Learning rate: 0.005000\n",
      "Epoch 168/200, Train Loss: 1.2547, Val Loss: 1.2763, Learning rate: 0.005000\n",
      "Epoch 169/200, Train Loss: 1.2540, Val Loss: 1.2817, Learning rate: 0.005000\n",
      "Epoch 170/200, Train Loss: 1.2556, Val Loss: 1.2671, Learning rate: 0.005000\n",
      "Epoch 171/200, Train Loss: 1.2555, Val Loss: 1.2722, Learning rate: 0.005000\n",
      "Epoch 172/200, Train Loss: 1.2565, Val Loss: 1.2834, Learning rate: 0.005000\n",
      "Epoch 173/200, Train Loss: 1.2568, Val Loss: 1.2645, Learning rate: 0.005000\n",
      "Epoch 174/200, Train Loss: 1.2550, Val Loss: 1.2778, Learning rate: 0.005000\n",
      "Epoch 175/200, Train Loss: 1.2574, Val Loss: 1.2898, Learning rate: 0.005000\n",
      "Minimax score: -0.23000000000000004\n",
      "RandomAgent score: 0.98\n",
      "Epoch 176/200, Train Loss: 1.2557, Val Loss: 1.2608, Learning rate: 0.005000\n",
      "Epoch 177/200, Train Loss: 1.2530, Val Loss: 1.2903, Learning rate: 0.005000\n",
      "Epoch 178/200, Train Loss: 1.2554, Val Loss: 1.2743, Learning rate: 0.005000\n",
      "Epoch 179/200, Train Loss: 1.2579, Val Loss: 1.2594, Learning rate: 0.005000\n",
      "Epoch 180/200, Train Loss: 1.2514, Val Loss: 1.2768, Learning rate: 0.005000\n",
      "Epoch 181/200, Train Loss: 1.2549, Val Loss: 1.2840, Learning rate: 0.005000\n",
      "Epoch 182/200, Train Loss: 1.2532, Val Loss: 1.2734, Learning rate: 0.005000\n",
      "Epoch 183/200, Train Loss: 1.2558, Val Loss: 1.2735, Learning rate: 0.005000\n",
      "Epoch 184/200, Train Loss: 1.2536, Val Loss: 1.2681, Learning rate: 0.005000\n",
      "Epoch 185/200, Train Loss: 1.2563, Val Loss: 1.2763, Learning rate: 0.005000\n",
      "Epoch 186/200, Train Loss: 1.2524, Val Loss: 1.2932, Learning rate: 0.005000\n",
      "Epoch 187/200, Train Loss: 1.2571, Val Loss: 1.2805, Learning rate: 0.005000\n",
      "Epoch 188/200, Train Loss: 1.2167, Val Loss: 1.2310, Learning rate: 0.002500\n",
      "Epoch 189/200, Train Loss: 1.2155, Val Loss: 1.2325, Learning rate: 0.002500\n",
      "Epoch 190/200, Train Loss: 1.2167, Val Loss: 1.2348, Learning rate: 0.002500\n",
      "Epoch 191/200, Train Loss: 1.2174, Val Loss: 1.2330, Learning rate: 0.002500\n",
      "Epoch 192/200, Train Loss: 1.2180, Val Loss: 1.2369, Learning rate: 0.002500\n",
      "Epoch 193/200, Train Loss: 1.2181, Val Loss: 1.2369, Learning rate: 0.002500\n",
      "Epoch 194/200, Train Loss: 1.2170, Val Loss: 1.2346, Learning rate: 0.002500\n",
      "Epoch 195/200, Train Loss: 1.2173, Val Loss: 1.2373, Learning rate: 0.002500\n",
      "Epoch 196/200, Train Loss: 1.2184, Val Loss: 1.2361, Learning rate: 0.002500\n",
      "Epoch 197/200, Train Loss: 1.2174, Val Loss: 1.2348, Learning rate: 0.002500\n",
      "Epoch 198/200, Train Loss: 1.2173, Val Loss: 1.2365, Learning rate: 0.002500\n",
      "Epoch 199/200, Train Loss: 1.2179, Val Loss: 1.2305, Learning rate: 0.002500\n",
      "Epoch 200/200, Train Loss: 1.2184, Val Loss: 1.2350, Learning rate: 0.002500\n",
      "Minimax score: -0.10000000000000003\n",
      "RandomAgent score: 0.96\n",
      "Training complete.\n",
      "Best val_loss: 1.1282\n",
      "Final val_loss: 1.2350\n"
     ]
    }
   ],
   "source": [
    "# Perform training\n",
    "\n",
    "from applications.dots_and_boxes.train import train\n",
    "\n",
    "model_interface = train(\n",
    "    num_rows = model_params[\"num_rows\"],\n",
    "    num_cols = model_params[\"num_cols\"],\n",
    "    model_type=model_type,\n",
    "    model_params=model_params,\n",
    "    device=device,\n",
    "    model_name=model_name,\n",
    "    optimizer_type=optimizer_type,\n",
    "    optimizer_params=optimizer_params,\n",
    "    lr_scheduler_type=lr_scheduler_type,\n",
    "    lr_scheduler_params=lr_scheduler_params,\n",
    "    training_method=training_method,\n",
    "    trainer_params=trainer_params,\n",
    "    training_params=training_params,\n",
    "    load_model=load_model,\n",
    "    load_model_params=load_model_params,\n",
    "    load_replay_buffer=load_replay_buffer,\n",
    "    load_replay_buffer_params=load_replay_buffer_params,\n",
    "    wandb_run=run\n",
    ")"
   ]
  },
  {
   "cell_type": "code",
   "execution_count": 5,
   "metadata": {},
   "outputs": [
    {
     "data": {
      "text/html": [],
      "text/plain": [
       "<IPython.core.display.HTML object>"
      ]
     },
     "metadata": {},
     "output_type": "display_data"
    },
    {
     "data": {
      "text/html": [
       "<br>    <style><br>        .wandb-row {<br>            display: flex;<br>            flex-direction: row;<br>            flex-wrap: wrap;<br>            justify-content: flex-start;<br>            width: 100%;<br>        }<br>        .wandb-col {<br>            display: flex;<br>            flex-direction: column;<br>            flex-basis: 100%;<br>            flex: 1;<br>            padding: 10px;<br>        }<br>    </style><br><div class=\"wandb-row\"><div class=\"wandb-col\"><h3>Run history:</h3><br/><table class=\"wandb\"><tr><td>Minimax_draw_rate</td><td>█▁▄▃▁▁█▄</td></tr><tr><td>Minimax_loss_rate</td><td>▃▇▁▂▃██▃</td></tr><tr><td>Minimax_score</td><td>▄▅███▄▁▆</td></tr><tr><td>Minimax_win_rate</td><td>▃▆▇▇█▆▁▆</td></tr><tr><td>RandomAgent_draw_rate</td><td>▃▁▃▁▃▁▃█</td></tr><tr><td>RandomAgent_loss_rate</td><td>▁▁█▁▁▁▁▁</td></tr><tr><td>RandomAgent_score</td><td>▆█▁█▆█▆▁</td></tr><tr><td>RandomAgent_win_rate</td><td>▆█▃█▆█▆▁</td></tr><tr><td>epoch</td><td>▁▁▁▁▁▂▂▂▃▃▃▃▃▃▃▄▄▄▄▄▅▅▅▅▅▅▅▆▆▆▆▆▇▇▇▇▇███</td></tr><tr><td>learning_rate</td><td>█████████████████████▃▃▃▃▃▃▃▃▃▃▃▃▃▃▃▃▁▁▁</td></tr><tr><td>train_loss</td><td>█▃▃▃▃▂▂▂▂▂▂▂▂▂▂▂▂▂▂▂▂▂▂▂▂▂▂▂▁▂▂▂▁▁▁▁▁▂▂▁</td></tr><tr><td>train_policy_loss</td><td>█▇▆▆▆▅▅▅▅▅▅▅▅▅▅▅▅▅▅▃▃▃▃▃▃▂▂▃▂▂▃▂▂▂▂▂▂▁▁▁</td></tr><tr><td>train_value_loss</td><td>██▇▅▂▂▂▂▂▂▂▂▂▂▂▂▂▂▂▂▁▁▁▁▁▁▁▁▁▁▁▁▁▁▁▁▁▁▁▁</td></tr><tr><td>val_loss</td><td>██▄▃▃▂▂▂▂▂▂▂▂▃▂▂▃▂▂▂▂▂▂▂▂▂▂▁▂▂▁▁▁▂▂▂▂▂▁▁</td></tr><tr><td>val_policy_loss</td><td>█▅▅▄▅▄▄▅▄▄▄▄▄▄▄▄▄▃▄▄▄▂▂▂▂▂▂▂▂▂▂▂▂▂▂▂▂▂▁▁</td></tr><tr><td>val_value_loss</td><td>█▃▂▂▂▃▂▂▂▂▂▂▂▂▂▂▂▂▁▂▁▁▁▁▁▁▁▁▁▁▁▁▁▁▁▁▁▁▁▁</td></tr></table><br/></div><div class=\"wandb-col\"><h3>Run summary:</h3><br/><table class=\"wandb\"><tr><td>Minimax_draw_rate</td><td>0.06</td></tr><tr><td>Minimax_loss_rate</td><td>0.52</td></tr><tr><td>Minimax_score</td><td>-0.1</td></tr><tr><td>Minimax_win_rate</td><td>0.42</td></tr><tr><td>RandomAgent_draw_rate</td><td>0.04</td></tr><tr><td>RandomAgent_loss_rate</td><td>0</td></tr><tr><td>RandomAgent_score</td><td>0.96</td></tr><tr><td>RandomAgent_win_rate</td><td>0.96</td></tr><tr><td>epoch</td><td>200</td></tr><tr><td>learning_rate</td><td>0.0025</td></tr><tr><td>train_loss</td><td>1.21841</td></tr><tr><td>train_policy_loss</td><td>1.08911</td></tr><tr><td>train_value_loss</td><td>0.12929</td></tr><tr><td>val_loss</td><td>1.23499</td></tr><tr><td>val_policy_loss</td><td>1.10185</td></tr><tr><td>val_value_loss</td><td>0.13314</td></tr></table><br/></div></div>"
      ],
      "text/plain": [
       "<IPython.core.display.HTML object>"
      ]
     },
     "metadata": {},
     "output_type": "display_data"
    },
    {
     "data": {
      "text/html": [
       " View run <strong style=\"color:#cdcd00\">MLP 5</strong> at: <a href='https://wandb.ai/eigenway/AlphaZero-DotsAndBoxes/runs/i1t92mz5' target=\"_blank\">https://wandb.ai/eigenway/AlphaZero-DotsAndBoxes/runs/i1t92mz5</a><br> View project at: <a href='https://wandb.ai/eigenway/AlphaZero-DotsAndBoxes' target=\"_blank\">https://wandb.ai/eigenway/AlphaZero-DotsAndBoxes</a><br>Synced 5 W&B file(s), 1 media file(s), 8 artifact file(s) and 0 other file(s)"
      ],
      "text/plain": [
       "<IPython.core.display.HTML object>"
      ]
     },
     "metadata": {},
     "output_type": "display_data"
    },
    {
     "data": {
      "text/html": [
       "Find logs at: <code>./wandb/run-20250320_134334-i1t92mz5/logs</code>"
      ],
      "text/plain": [
       "<IPython.core.display.HTML object>"
      ]
     },
     "metadata": {},
     "output_type": "display_data"
    }
   ],
   "source": [
    "run.finish()"
   ]
  },
  {
   "cell_type": "code",
   "execution_count": 6,
   "metadata": {},
   "outputs": [
    {
     "name": "stdout",
     "output_type": "stream",
     "text": [
      "Total parameters: 86,004\n",
      "Trainable parameters: 86,004 (100.00%)\n",
      "Non-trainable parameters: 0 (0.00%)\n",
      "\n",
      "Parameters by layer:\n",
      "layers.0.norm.weight: 17 parameters\n",
      "layers.0.norm.bias: 17 parameters\n",
      "layers.0.linear.weight: 1,088 parameters\n",
      "layers.0.linear.bias: 64 parameters\n",
      "layers.1.norm.weight: 64 parameters\n",
      "layers.1.norm.bias: 64 parameters\n",
      "layers.1.linear.weight: 8,192 parameters\n",
      "layers.1.linear.bias: 128 parameters\n",
      "layers.2.norm.weight: 128 parameters\n",
      "layers.2.norm.bias: 128 parameters\n",
      "layers.2.linear.weight: 32,768 parameters\n",
      "layers.2.linear.bias: 256 parameters\n",
      "layers.3.norm.weight: 256 parameters\n",
      "layers.3.norm.bias: 256 parameters\n",
      "layers.3.linear.weight: 32,768 parameters\n",
      "layers.3.linear.bias: 128 parameters\n",
      "layers.4.norm.weight: 128 parameters\n",
      "layers.4.norm.bias: 128 parameters\n",
      "layers.4.linear.weight: 8,192 parameters\n",
      "layers.4.linear.bias: 64 parameters\n",
      "policy_head.weight: 1,088 parameters\n",
      "policy_head.bias: 17 parameters\n",
      "value_head.weight: 64 parameters\n",
      "value_head.bias: 1 parameters\n"
     ]
    }
   ],
   "source": [
    "def print_model_parameters(model):\n",
    "    \"\"\"\n",
    "    Print the total number of parameters in a PyTorch model,\n",
    "    with a breakdown of trainable vs non-trainable parameters.\n",
    "    \n",
    "    Args:\n",
    "        model: PyTorch model\n",
    "    \"\"\"\n",
    "    total_params = sum(p.numel() for p in model.parameters())\n",
    "    trainable_params = sum(p.numel() for p in model.parameters() if p.requires_grad)\n",
    "    non_trainable_params = total_params - trainable_params\n",
    "    \n",
    "    print(f\"Total parameters: {total_params:,}\")\n",
    "    print(f\"Trainable parameters: {trainable_params:,} ({trainable_params/total_params:.2%})\")\n",
    "    print(f\"Non-trainable parameters: {non_trainable_params:,} ({non_trainable_params/total_params:.2%})\")\n",
    "    \n",
    "    # Optional: Print parameters by layer\n",
    "    print(\"\\nParameters by layer:\")\n",
    "    for name, param in model.named_parameters():\n",
    "        print(f\"{name}: {param.numel():,} parameters\")\n",
    "\n",
    "# Example usage\n",
    "print_model_parameters(model_interface.model)"
   ]
  }
 ],
 "metadata": {
  "kernelspec": {
   "display_name": "dots-and-boxes",
   "language": "python",
   "name": "python3"
  },
  "language_info": {
   "codemirror_mode": {
    "name": "ipython",
    "version": 3
   },
   "file_extension": ".py",
   "mimetype": "text/x-python",
   "name": "python",
   "nbconvert_exporter": "python",
   "pygments_lexer": "ipython3",
   "version": "3.13.1"
  }
 },
 "nbformat": 4,
 "nbformat_minor": 2
}
