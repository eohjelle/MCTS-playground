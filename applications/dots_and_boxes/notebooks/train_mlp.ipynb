{
 "cells": [
  {
   "cell_type": "code",
   "execution_count": 1,
   "metadata": {},
   "outputs": [
    {
     "name": "stdout",
     "output_type": "stream",
     "text": [
      "Working directory: /Users/eohjelle/Documents/2025-dots-and-boxes/dots-and-boxes\n"
     ]
    }
   ],
   "source": [
    "# Change directory to the root of the project\n",
    "import os \n",
    "os.chdir('..')\n",
    "os.chdir('..')\n",
    "os.chdir('..')\n",
    "print(f\"Working directory: {os.getcwd()}\")"
   ]
  },
  {
   "cell_type": "code",
   "execution_count": 2,
   "metadata": {},
   "outputs": [],
   "source": [
    "from applications.dots_and_boxes.NNmodels.MLP import MLPInitParams\n",
    "import torch\n",
    "\n",
    "# Initialize parameters\n",
    "\n",
    "## Model parameters\n",
    "model_type = 'mlp'\n",
    "model_params: MLPInitParams = {\n",
    "    'num_rows': 3,\n",
    "    'num_cols': 2,\n",
    "    'hidden_sizes': [64, 128, 256, 128, 64]\n",
    "}\n",
    "device = torch.device('mps')\n",
    "model_name = 'dots_and_boxes_mlp'\n",
    "\n",
    "## Initialize new model\n",
    "load_model = None\n",
    "load_model_params = {}\n",
    "\n",
    "## Optimizer parameters\n",
    "optimizer_type = 'adam'\n",
    "optimizer_params = {\n",
    "    'lr': 1e-2,\n",
    "    'betas': (0.9, 0.999),\n",
    "    'eps': 1e-8,\n",
    "    'weight_decay': 1e-4,\n",
    "    'amsgrad': False\n",
    "}\n",
    "\n",
    "## Learning scheduler parameters\n",
    "lr_scheduler_type = 'plateau'\n",
    "lr_scheduler_params = {\n",
    "    'factor': 0.5,\n",
    "    'patience': 25,\n",
    "    'cooldown': 50,\n",
    "    'min_lr': 1e-6\n",
    "}\n",
    "\n",
    "## Training parameters\n",
    "training_method = 'supervised'\n",
    "trainer_params = {}\n",
    "training_params = {\n",
    "    'epochs': 50,\n",
    "    'batch_size': 256,\n",
    "    'eval_freq': 25,\n",
    "    'checkpoint_freq': 50,\n",
    "    'mask_illegal_moves': False,\n",
    "    'mask_value': -20.0, # Doesn't matter when mask_illegal_moves is False\n",
    "    'checkpoint_dir': 'checkpoints',\n",
    "    'start_at': 1\n",
    "}\n",
    "\n",
    "## Load replay buffer from wandb\n",
    "load_replay_buffer = 'from_file'\n",
    "load_replay_buffer_params = {\n",
    "    'path': f'applications/dots_and_boxes/training_data/dots_and_boxes_{model_params[\"num_rows\"]}x{model_params[\"num_cols\"]}_DABSimpleTensorMapping_minimax.pkl',\n",
    "    'device': device\n",
    "}\n",
    "# load_replay_buffer_params = {\n",
    "#     'project': 'AlphaZero-DotsAndBoxes',\n",
    "#     'artifact_name': f'dots_and_boxes_{model_params[\"num_rows\"]}x{model_params[\"num_cols\"]}_SimpleTensorMapping_minimax',\n",
    "#     'artifact_version': 'latest'\n",
    "# }\n"
   ]
  },
  {
   "cell_type": "code",
   "execution_count": null,
   "metadata": {},
   "outputs": [
    {
     "name": "stderr",
     "output_type": "stream",
     "text": [
      "\u001b[34m\u001b[1mwandb\u001b[0m: Currently logged in as: \u001b[33meohjelle\u001b[0m (\u001b[33meigenway\u001b[0m) to \u001b[32mhttps://api.wandb.ai\u001b[0m. Use \u001b[1m`wandb login --relogin`\u001b[0m to force relogin\n",
      "\u001b[34m\u001b[1mwandb\u001b[0m: Using wandb-core as the SDK backend.  Please refer to https://wandb.me/wandb-core for more information.\n"
     ]
    },
    {
     "data": {
      "text/html": [
       "Tracking run with wandb version 0.19.6"
      ],
      "text/plain": [
       "<IPython.core.display.HTML object>"
      ]
     },
     "metadata": {},
     "output_type": "display_data"
    },
    {
     "data": {
      "text/html": [
       "Run data is saved locally in <code>/Users/eohjelle/Documents/2025-dots-and-boxes/dots-and-boxes/wandb/run-20250319_192545-naptf2ts</code>"
      ],
      "text/plain": [
       "<IPython.core.display.HTML object>"
      ]
     },
     "metadata": {},
     "output_type": "display_data"
    },
    {
     "data": {
      "text/html": [
       "Syncing run <strong><a href='https://wandb.ai/eigenway/AlphaZero-DotsAndBoxes/runs/naptf2ts' target=\"_blank\">MLP 3</a></strong> to <a href='https://wandb.ai/eigenway/AlphaZero-DotsAndBoxes' target=\"_blank\">Weights & Biases</a> (<a href='https://wandb.me/developer-guide' target=\"_blank\">docs</a>)<br>"
      ],
      "text/plain": [
       "<IPython.core.display.HTML object>"
      ]
     },
     "metadata": {},
     "output_type": "display_data"
    },
    {
     "data": {
      "text/html": [
       " View project at <a href='https://wandb.ai/eigenway/AlphaZero-DotsAndBoxes' target=\"_blank\">https://wandb.ai/eigenway/AlphaZero-DotsAndBoxes</a>"
      ],
      "text/plain": [
       "<IPython.core.display.HTML object>"
      ]
     },
     "metadata": {},
     "output_type": "display_data"
    },
    {
     "data": {
      "text/html": [
       " View run at <a href='https://wandb.ai/eigenway/AlphaZero-DotsAndBoxes/runs/naptf2ts' target=\"_blank\">https://wandb.ai/eigenway/AlphaZero-DotsAndBoxes/runs/naptf2ts</a>"
      ],
      "text/plain": [
       "<IPython.core.display.HTML object>"
      ]
     },
     "metadata": {},
     "output_type": "display_data"
    }
   ],
   "source": [
    "# Initialize wandb run\n",
    "import wandb\n",
    "\n",
    "run_name = 'MLP 4'\n",
    "notes = 'MLP 2 for 3 x 2 board.'\n",
    "\n",
    "config = {\n",
    "    'model_type': model_type,\n",
    "    'model_params': model_params,\n",
    "    'optimizer_type': optimizer_type,\n",
    "    'optimizer_params': optimizer_params,\n",
    "    'lr_scheduler_type': lr_scheduler_type,\n",
    "    'lr_scheduler_params': lr_scheduler_params,\n",
    "    'training_method': training_method,\n",
    "    'trainer_params': trainer_params,\n",
    "    'training_params': training_params\n",
    "}\n",
    "\n",
    "run = wandb.init(\n",
    "    project='AlphaZero-DotsAndBoxes',\n",
    "    name=run_name,\n",
    "    config=config,\n",
    "    notes=notes\n",
    ")\n",
    "# run = None"
   ]
  },
  {
   "cell_type": "code",
   "execution_count": 4,
   "metadata": {},
   "outputs": [
    {
     "name": "stderr",
     "output_type": "stream",
     "text": [
      "\u001b[34m\u001b[1mwandb\u001b[0m: logging graph, to disable use `wandb.watch(log_graph=False)`\n",
      "/Users/eohjelle/Documents/2025-dots-and-boxes/dots-and-boxes/core/data_structures.py:94: FutureWarning: You are using `torch.load` with `weights_only=False` (the current default value), which uses the default pickle module implicitly. It is possible to construct malicious pickle data which will execute arbitrary code during unpickling (See https://github.com/pytorch/pytorch/blob/main/SECURITY.md#untrusted-models for more details). In a future release, the default value for `weights_only` will be flipped to `True`. This limits the functions that could be executed during unpickling. Arbitrary objects will no longer be allowed to be loaded via this mode unless they are explicitly allowlisted by the user via `torch.serialization.add_safe_globals`. We recommend you start setting `weights_only=True` for any use case where you don't have full control of the loaded file. Please open an issue on GitHub for any issues related to this experimental feature.\n",
      "  checkpoint = torch.load(path, map_location=device)\n"
     ]
    },
    {
     "name": "stdout",
     "output_type": "stream",
     "text": [
      "Epoch 1/50, Train Loss: 2.4671, Val Loss: 2.3989, Learning rate: 0.010000\n",
      "Epoch 2/50, Train Loss: 2.3674, Val Loss: 2.3146, Learning rate: 0.010000\n",
      "Epoch 3/50, Train Loss: 2.2602, Val Loss: 2.2207, Learning rate: 0.010000\n",
      "Epoch 4/50, Train Loss: 2.1956, Val Loss: 2.1846, Learning rate: 0.010000\n",
      "Epoch 5/50, Train Loss: 2.1581, Val Loss: 2.1450, Learning rate: 0.010000\n",
      "Epoch 6/50, Train Loss: 2.1259, Val Loss: 2.1257, Learning rate: 0.010000\n",
      "Epoch 7/50, Train Loss: 2.0911, Val Loss: 2.0703, Learning rate: 0.010000\n",
      "Epoch 8/50, Train Loss: 2.0415, Val Loss: 2.0316, Learning rate: 0.010000\n",
      "Epoch 9/50, Train Loss: 2.0099, Val Loss: 1.9912, Learning rate: 0.010000\n",
      "Epoch 10/50, Train Loss: 1.9699, Val Loss: 1.9837, Learning rate: 0.010000\n",
      "Epoch 11/50, Train Loss: 1.9611, Val Loss: 1.9520, Learning rate: 0.010000\n",
      "Epoch 12/50, Train Loss: 1.9218, Val Loss: 1.9153, Learning rate: 0.010000\n",
      "Epoch 13/50, Train Loss: 1.8945, Val Loss: 1.8931, Learning rate: 0.010000\n",
      "Epoch 14/50, Train Loss: 1.8669, Val Loss: 1.8760, Learning rate: 0.010000\n",
      "Epoch 15/50, Train Loss: 1.8479, Val Loss: 1.8434, Learning rate: 0.010000\n",
      "Epoch 16/50, Train Loss: 1.8331, Val Loss: 1.8294, Learning rate: 0.010000\n",
      "Epoch 17/50, Train Loss: 1.8152, Val Loss: 1.8211, Learning rate: 0.010000\n",
      "Epoch 18/50, Train Loss: 1.8049, Val Loss: 1.8088, Learning rate: 0.010000\n",
      "Epoch 19/50, Train Loss: 1.8024, Val Loss: 1.8033, Learning rate: 0.010000\n",
      "Epoch 20/50, Train Loss: 1.7913, Val Loss: 1.7949, Learning rate: 0.010000\n",
      "Epoch 21/50, Train Loss: 1.7875, Val Loss: 1.7893, Learning rate: 0.010000\n",
      "Epoch 22/50, Train Loss: 1.7747, Val Loss: 1.7931, Learning rate: 0.010000\n",
      "Epoch 23/50, Train Loss: 1.7773, Val Loss: 1.7786, Learning rate: 0.010000\n",
      "Epoch 24/50, Train Loss: 1.8103, Val Loss: 1.8082, Learning rate: 0.010000\n",
      "Epoch 25/50, Train Loss: 1.7901, Val Loss: 1.7901, Learning rate: 0.010000\n",
      "Minimax score: 0.26000000000000006\n",
      "RandomAgent score: -0.14\n",
      "Epoch 26/50, Train Loss: 1.7748, Val Loss: 1.7794, Learning rate: 0.010000\n",
      "Epoch 27/50, Train Loss: 1.7606, Val Loss: 1.7650, Learning rate: 0.010000\n",
      "Epoch 28/50, Train Loss: 1.7559, Val Loss: 1.7584, Learning rate: 0.010000\n",
      "Epoch 29/50, Train Loss: 1.7587, Val Loss: 1.7649, Learning rate: 0.010000\n",
      "Epoch 30/50, Train Loss: 1.7532, Val Loss: 1.7549, Learning rate: 0.010000\n",
      "Epoch 31/50, Train Loss: 1.7495, Val Loss: 1.7556, Learning rate: 0.010000\n",
      "Epoch 32/50, Train Loss: 1.7547, Val Loss: 1.7589, Learning rate: 0.010000\n",
      "Epoch 33/50, Train Loss: 1.7512, Val Loss: 1.7553, Learning rate: 0.010000\n",
      "Epoch 34/50, Train Loss: 1.7463, Val Loss: 1.7527, Learning rate: 0.010000\n",
      "Epoch 35/50, Train Loss: 1.7486, Val Loss: 1.7509, Learning rate: 0.010000\n",
      "Epoch 36/50, Train Loss: 1.7450, Val Loss: 1.7520, Learning rate: 0.010000\n",
      "Epoch 37/50, Train Loss: 1.7458, Val Loss: 1.7512, Learning rate: 0.010000\n",
      "Epoch 38/50, Train Loss: 1.7453, Val Loss: 1.7544, Learning rate: 0.010000\n",
      "Epoch 39/50, Train Loss: 1.7475, Val Loss: 1.7511, Learning rate: 0.010000\n",
      "Epoch 40/50, Train Loss: 1.7454, Val Loss: 1.7513, Learning rate: 0.010000\n",
      "Epoch 41/50, Train Loss: 1.7460, Val Loss: 1.7501, Learning rate: 0.010000\n",
      "Epoch 42/50, Train Loss: 1.7467, Val Loss: 1.7519, Learning rate: 0.010000\n",
      "Epoch 43/50, Train Loss: 1.7464, Val Loss: 1.7508, Learning rate: 0.010000\n",
      "Epoch 44/50, Train Loss: 1.7447, Val Loss: 1.7503, Learning rate: 0.010000\n",
      "Epoch 45/50, Train Loss: 1.7466, Val Loss: 1.7511, Learning rate: 0.010000\n",
      "Epoch 46/50, Train Loss: 1.7458, Val Loss: 1.7539, Learning rate: 0.010000\n",
      "Epoch 47/50, Train Loss: 1.7480, Val Loss: 1.7511, Learning rate: 0.010000\n",
      "Epoch 48/50, Train Loss: 1.7466, Val Loss: 1.7504, Learning rate: 0.010000\n",
      "Epoch 49/50, Train Loss: 1.7441, Val Loss: 1.7516, Learning rate: 0.010000\n",
      "Epoch 50/50, Train Loss: 1.7474, Val Loss: 1.7550, Learning rate: 0.010000\n",
      "Minimax score: 0.33999999999999997\n",
      "RandomAgent score: 0.32000000000000006\n",
      "Training complete.\n",
      "Best val_loss: 1.7148\n",
      "Final val_loss: 1.7550\n"
     ]
    }
   ],
   "source": [
    "# Perform training\n",
    "\n",
    "from applications.dots_and_boxes.train import train\n",
    "\n",
    "model_interface = train(\n",
    "    model_type=model_type,\n",
    "    model_params=model_params,\n",
    "    device=device,\n",
    "    model_name=model_name,\n",
    "    optimizer_type=optimizer_type,\n",
    "    optimizer_params=optimizer_params,\n",
    "    lr_scheduler_type=lr_scheduler_type,\n",
    "    lr_scheduler_params=lr_scheduler_params,\n",
    "    training_method=training_method,\n",
    "    trainer_params=trainer_params,\n",
    "    training_params=training_params,\n",
    "    load_model=load_model,\n",
    "    load_model_params=load_model_params,\n",
    "    load_replay_buffer=load_replay_buffer,\n",
    "    load_replay_buffer_params=load_replay_buffer_params,\n",
    "    wandb_run=run\n",
    ")"
   ]
  },
  {
   "cell_type": "code",
   "execution_count": 5,
   "metadata": {},
   "outputs": [
    {
     "data": {
      "text/html": [],
      "text/plain": [
       "<IPython.core.display.HTML object>"
      ]
     },
     "metadata": {},
     "output_type": "display_data"
    },
    {
     "data": {
      "text/html": [
       "<br>    <style><br>        .wandb-row {<br>            display: flex;<br>            flex-direction: row;<br>            flex-wrap: wrap;<br>            justify-content: flex-start;<br>            width: 100%;<br>        }<br>        .wandb-col {<br>            display: flex;<br>            flex-direction: column;<br>            flex-basis: 100%;<br>            flex: 1;<br>            padding: 10px;<br>        }<br>    </style><br><div class=\"wandb-row\"><div class=\"wandb-col\"><h3>Run history:</h3><br/><table class=\"wandb\"><tr><td>Minimax_draw_rate</td><td>▁█</td></tr><tr><td>Minimax_loss_rate</td><td>█▁</td></tr><tr><td>Minimax_score</td><td>▁█</td></tr><tr><td>Minimax_win_rate</td><td>▁█</td></tr><tr><td>RandomAgent_draw_rate</td><td>▁█</td></tr><tr><td>RandomAgent_loss_rate</td><td>█▁</td></tr><tr><td>RandomAgent_score</td><td>▁█</td></tr><tr><td>RandomAgent_win_rate</td><td>▁█</td></tr><tr><td>epoch</td><td>▁▁▁▁▂▂▂▂▂▂▃▃▃▃▃▄▄▄▄▄▅▅▅▅▅▆▆▆▆▆▆▇▇▇▇▇▇███</td></tr><tr><td>learning_rate</td><td>▁▁▁▁▁▁▁▁▁▁▁▁▁▁▁▁▁▁▁▁▁▁▁▁▁▁▁▁▁▁▁▁▁▁▁▁▁▁▁▁</td></tr><tr><td>train_loss</td><td>█▇▆▅▅▄▄▄▃▃▂▂▂▂▂▁▁▁▁▂▁▁▁▁▁▁▁▁▁▁▁▁▁▁▁▁▁▁▁▁</td></tr><tr><td>train_policy_loss</td><td>█▇▆▅▅▄▄▄▃▃▂▂▂▂▂▁▁▁▁▂▁▁▁▁▁▁▁▁▁▁▁▁▁▁▁▁▁▁▁▁</td></tr><tr><td>train_value_loss</td><td>▄▃▃▂▂▂▃▅▃▂▂▁▂▃▁▂▂▁▁▂▁▁▁█▄▁▁▁▁▁▁▁▁▃▂▁▁▁▁▁</td></tr><tr><td>val_loss</td><td>█▇▆▆▅▄▄▄▄▃▃▂▂▂▂▂▁▁▁▁▁▁▁▁▁▁▁▁▁▁▁▁▁▁▁▁▁▁▁▁</td></tr><tr><td>val_policy_loss</td><td>█▇▆▆▅▄▄▄▄▃▃▂▂▂▂▂▁▁▁▁▁▁▁▁▁▁▁▁▁▁▁▁▁▁▁▁▁▁▁▁</td></tr><tr><td>val_value_loss</td><td>▃▄▃▂▁▂▇▃▂▁▁▁▂▁▂▁▁▁▁▁▁▁█▂▁▁▁▁▁▁▁▁▁▂▂▁▁▁▁▁</td></tr></table><br/></div><div class=\"wandb-col\"><h3>Run summary:</h3><br/><table class=\"wandb\"><tr><td>Minimax_draw_rate</td><td>0.18</td></tr><tr><td>Minimax_loss_rate</td><td>0.24</td></tr><tr><td>Minimax_score</td><td>0.34</td></tr><tr><td>Minimax_win_rate</td><td>0.58</td></tr><tr><td>RandomAgent_draw_rate</td><td>0.22</td></tr><tr><td>RandomAgent_loss_rate</td><td>0.23</td></tr><tr><td>RandomAgent_score</td><td>0.32</td></tr><tr><td>RandomAgent_win_rate</td><td>0.55</td></tr><tr><td>epoch</td><td>50</td></tr><tr><td>learning_rate</td><td>0.01</td></tr><tr><td>train_loss</td><td>1.7474</td></tr><tr><td>train_policy_loss</td><td>1.74739</td></tr><tr><td>train_value_loss</td><td>1e-05</td></tr><tr><td>val_loss</td><td>1.755</td></tr><tr><td>val_policy_loss</td><td>1.755</td></tr><tr><td>val_value_loss</td><td>0.0</td></tr></table><br/></div></div>"
      ],
      "text/plain": [
       "<IPython.core.display.HTML object>"
      ]
     },
     "metadata": {},
     "output_type": "display_data"
    },
    {
     "data": {
      "text/html": [
       " View run <strong style=\"color:#cdcd00\">MLP 3</strong> at: <a href='https://wandb.ai/eigenway/AlphaZero-DotsAndBoxes/runs/naptf2ts' target=\"_blank\">https://wandb.ai/eigenway/AlphaZero-DotsAndBoxes/runs/naptf2ts</a><br> View project at: <a href='https://wandb.ai/eigenway/AlphaZero-DotsAndBoxes' target=\"_blank\">https://wandb.ai/eigenway/AlphaZero-DotsAndBoxes</a><br>Synced 5 W&B file(s), 1 media file(s), 2 artifact file(s) and 0 other file(s)"
      ],
      "text/plain": [
       "<IPython.core.display.HTML object>"
      ]
     },
     "metadata": {},
     "output_type": "display_data"
    },
    {
     "data": {
      "text/html": [
       "Find logs at: <code>./wandb/run-20250319_192545-naptf2ts/logs</code>"
      ],
      "text/plain": [
       "<IPython.core.display.HTML object>"
      ]
     },
     "metadata": {},
     "output_type": "display_data"
    }
   ],
   "source": [
    "run.finish()"
   ]
  },
  {
   "cell_type": "code",
   "execution_count": 6,
   "metadata": {},
   "outputs": [
    {
     "name": "stdout",
     "output_type": "stream",
     "text": [
      "Total parameters: 84,173\n",
      "Trainable parameters: 84,173 (100.00%)\n",
      "Non-trainable parameters: 0 (0.00%)\n",
      "\n",
      "Parameters by layer:\n",
      "layers.0.fc1.weight: 768 parameters\n",
      "layers.0.fc1.bias: 64 parameters\n",
      "layers.1.fc1.weight: 8,192 parameters\n",
      "layers.1.fc1.bias: 128 parameters\n",
      "layers.2.fc1.weight: 32,768 parameters\n",
      "layers.2.fc1.bias: 256 parameters\n",
      "layers.3.fc1.weight: 32,768 parameters\n",
      "layers.3.fc1.bias: 128 parameters\n",
      "layers.4.fc1.weight: 8,192 parameters\n",
      "layers.4.fc1.bias: 64 parameters\n",
      "policy_head.weight: 768 parameters\n",
      "policy_head.bias: 12 parameters\n",
      "value_head.weight: 64 parameters\n",
      "value_head.bias: 1 parameters\n"
     ]
    }
   ],
   "source": [
    "def print_model_parameters(model):\n",
    "    \"\"\"\n",
    "    Print the total number of parameters in a PyTorch model,\n",
    "    with a breakdown of trainable vs non-trainable parameters.\n",
    "    \n",
    "    Args:\n",
    "        model: PyTorch model\n",
    "    \"\"\"\n",
    "    total_params = sum(p.numel() for p in model.parameters())\n",
    "    trainable_params = sum(p.numel() for p in model.parameters() if p.requires_grad)\n",
    "    non_trainable_params = total_params - trainable_params\n",
    "    \n",
    "    print(f\"Total parameters: {total_params:,}\")\n",
    "    print(f\"Trainable parameters: {trainable_params:,} ({trainable_params/total_params:.2%})\")\n",
    "    print(f\"Non-trainable parameters: {non_trainable_params:,} ({non_trainable_params/total_params:.2%})\")\n",
    "    \n",
    "    # Optional: Print parameters by layer\n",
    "    print(\"\\nParameters by layer:\")\n",
    "    for name, param in model.named_parameters():\n",
    "        print(f\"{name}: {param.numel():,} parameters\")\n",
    "\n",
    "# Example usage\n",
    "print_model_parameters(model_interface.model)"
   ]
  }
 ],
 "metadata": {
  "kernelspec": {
   "display_name": "dots-and-boxes",
   "language": "python",
   "name": "python3"
  },
  "language_info": {
   "codemirror_mode": {
    "name": "ipython",
    "version": 3
   },
   "file_extension": ".py",
   "mimetype": "text/x-python",
   "name": "python",
   "nbconvert_exporter": "python",
   "pygments_lexer": "ipython3",
   "version": "3.13.1"
  }
 },
 "nbformat": 4,
 "nbformat_minor": 2
}
