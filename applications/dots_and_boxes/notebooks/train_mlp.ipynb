{
 "cells": [
  {
   "cell_type": "code",
   "execution_count": 1,
   "metadata": {},
   "outputs": [
    {
     "name": "stdout",
     "output_type": "stream",
     "text": [
      "Working directory: /Users/eohjelle/Documents/2025-dots-and-boxes/dots-and-boxes\n"
     ]
    }
   ],
   "source": [
    "# Change directory to the root of the project\n",
    "import os \n",
    "os.chdir('..')\n",
    "os.chdir('..')\n",
    "os.chdir('..')\n",
    "print(f\"Working directory: {os.getcwd()}\")"
   ]
  },
  {
   "cell_type": "code",
   "execution_count": 2,
   "metadata": {},
   "outputs": [],
   "source": [
    "from applications.dots_and_boxes.NNmodels.MLP import MLPInitParams\n",
    "import torch\n",
    "\n",
    "# Initialize parameters\n",
    "\n",
    "## Model parameters\n",
    "model_type = 'mlp'\n",
    "model_params: MLPInitParams = {\n",
    "    'num_rows': 2,\n",
    "    'num_cols': 2,\n",
    "    'hidden_sizes': [64, 128, 256, 128, 64]\n",
    "}\n",
    "device = torch.device('mps')\n",
    "model_name = 'dots_and_boxes_mlp'\n",
    "\n",
    "## Initialize new model\n",
    "load_model = None\n",
    "load_model_params = {}\n",
    "\n",
    "## Optimizer parameters\n",
    "optimizer_type = 'adam'\n",
    "optimizer_params = {\n",
    "    'lr': 1e-2,\n",
    "    'betas': (0.9, 0.999),\n",
    "    'eps': 1e-8,\n",
    "    'weight_decay': 1e-4,\n",
    "    'amsgrad': False\n",
    "}\n",
    "\n",
    "## Learning scheduler parameters\n",
    "lr_scheduler_type = 'plateau'\n",
    "lr_scheduler_params = {\n",
    "    'factor': 0.5,\n",
    "    'patience': 25,\n",
    "    'cooldown': 50,\n",
    "    'min_lr': 1e-6\n",
    "}\n",
    "\n",
    "## Training parameters\n",
    "training_method = 'supervised'\n",
    "trainer_params = {}\n",
    "training_params = {\n",
    "    'epochs': 200,\n",
    "    'batch_size': 256,\n",
    "    'eval_freq': 25,\n",
    "    'checkpoint_freq': 50,\n",
    "    'mask_illegal_moves': False,\n",
    "    'mask_value': -20.0, # Doesn't matter when mask_illegal_moves is False\n",
    "    'checkpoint_dir': 'checkpoints',\n",
    "    'start_at': 1\n",
    "}\n",
    "\n",
    "## Load replay buffer from wandb\n",
    "load_replay_buffer = 'from_file'\n",
    "load_replay_buffer_params = {\n",
    "    'path': f'applications/dots_and_boxes/training_data/dots_and_boxes_{model_params[\"num_rows\"]}x{model_params[\"num_cols\"]}_DABSimpleTensorMapping_minimax.pkl',\n",
    "    'device': device\n",
    "}\n",
    "# load_replay_buffer_params = {\n",
    "#     'project': 'AlphaZero-DotsAndBoxes',\n",
    "#     'artifact_name': f'dots_and_boxes_{model_params[\"num_rows\"]}x{model_params[\"num_cols\"]}_SimpleTensorMapping_minimax',\n",
    "#     'artifact_version': 'latest'\n",
    "# }\n"
   ]
  },
  {
   "cell_type": "code",
   "execution_count": 3,
   "metadata": {},
   "outputs": [
    {
     "name": "stderr",
     "output_type": "stream",
     "text": [
      "\u001b[34m\u001b[1mwandb\u001b[0m: Currently logged in as: \u001b[33meohjelle\u001b[0m (\u001b[33meigenway\u001b[0m) to \u001b[32mhttps://api.wandb.ai\u001b[0m. Use \u001b[1m`wandb login --relogin`\u001b[0m to force relogin\n",
      "\u001b[34m\u001b[1mwandb\u001b[0m: Using wandb-core as the SDK backend.  Please refer to https://wandb.me/wandb-core for more information.\n"
     ]
    },
    {
     "data": {
      "text/html": [
       "Tracking run with wandb version 0.19.6"
      ],
      "text/plain": [
       "<IPython.core.display.HTML object>"
      ]
     },
     "metadata": {},
     "output_type": "display_data"
    },
    {
     "data": {
      "text/html": [
       "Run data is saved locally in <code>/Users/eohjelle/Documents/2025-dots-and-boxes/dots-and-boxes/wandb/run-20250320_092316-dn6mpuf3</code>"
      ],
      "text/plain": [
       "<IPython.core.display.HTML object>"
      ]
     },
     "metadata": {},
     "output_type": "display_data"
    },
    {
     "data": {
      "text/html": [
       "Syncing run <strong><a href='https://wandb.ai/eigenway/AlphaZero-DotsAndBoxes/runs/dn6mpuf3' target=\"_blank\">MLP 4</a></strong> to <a href='https://wandb.ai/eigenway/AlphaZero-DotsAndBoxes' target=\"_blank\">Weights & Biases</a> (<a href='https://wandb.me/developer-guide' target=\"_blank\">docs</a>)<br>"
      ],
      "text/plain": [
       "<IPython.core.display.HTML object>"
      ]
     },
     "metadata": {},
     "output_type": "display_data"
    },
    {
     "data": {
      "text/html": [
       " View project at <a href='https://wandb.ai/eigenway/AlphaZero-DotsAndBoxes' target=\"_blank\">https://wandb.ai/eigenway/AlphaZero-DotsAndBoxes</a>"
      ],
      "text/plain": [
       "<IPython.core.display.HTML object>"
      ]
     },
     "metadata": {},
     "output_type": "display_data"
    },
    {
     "data": {
      "text/html": [
       " View run at <a href='https://wandb.ai/eigenway/AlphaZero-DotsAndBoxes/runs/dn6mpuf3' target=\"_blank\">https://wandb.ai/eigenway/AlphaZero-DotsAndBoxes/runs/dn6mpuf3</a>"
      ],
      "text/plain": [
       "<IPython.core.display.HTML object>"
      ]
     },
     "metadata": {},
     "output_type": "display_data"
    }
   ],
   "source": [
    "# Initialize wandb run\n",
    "import wandb\n",
    "\n",
    "run_name = 'MLP 4'\n",
    "notes = 'MLP 3 for 2 x 2 board. Fixed bug with the minimax agent, training data has changed.'\n",
    "\n",
    "config = {\n",
    "    'model_type': model_type,\n",
    "    'model_params': model_params,\n",
    "    'optimizer_type': optimizer_type,\n",
    "    'optimizer_params': optimizer_params,\n",
    "    'lr_scheduler_type': lr_scheduler_type,\n",
    "    'lr_scheduler_params': lr_scheduler_params,\n",
    "    'training_method': training_method,\n",
    "    'trainer_params': trainer_params,\n",
    "    'training_params': training_params\n",
    "}\n",
    "\n",
    "run = wandb.init(\n",
    "    project='AlphaZero-DotsAndBoxes',\n",
    "    name=run_name,\n",
    "    config=config,\n",
    "    notes=notes,\n",
    "    group=f'{training_method} training on {model_params[\"num_rows\"]}x{model_params[\"num_cols\"]} board'\n",
    ")\n",
    "# run = None"
   ]
  },
  {
   "cell_type": "code",
   "execution_count": 4,
   "metadata": {},
   "outputs": [
    {
     "name": "stderr",
     "output_type": "stream",
     "text": [
      "\u001b[34m\u001b[1mwandb\u001b[0m: logging graph, to disable use `wandb.watch(log_graph=False)`\n",
      "/Users/eohjelle/Documents/2025-dots-and-boxes/dots-and-boxes/core/data_structures.py:94: FutureWarning: You are using `torch.load` with `weights_only=False` (the current default value), which uses the default pickle module implicitly. It is possible to construct malicious pickle data which will execute arbitrary code during unpickling (See https://github.com/pytorch/pytorch/blob/main/SECURITY.md#untrusted-models for more details). In a future release, the default value for `weights_only` will be flipped to `True`. This limits the functions that could be executed during unpickling. Arbitrary objects will no longer be allowed to be loaded via this mode unless they are explicitly allowlisted by the user via `torch.serialization.add_safe_globals`. We recommend you start setting `weights_only=True` for any use case where you don't have full control of the loaded file. Please open an issue on GitHub for any issues related to this experimental feature.\n",
      "  checkpoint = torch.load(path, map_location=device)\n"
     ]
    },
    {
     "name": "stdout",
     "output_type": "stream",
     "text": [
      "Epoch 1/200, Train Loss: 2.5083, Val Loss: 2.2446, Learning rate: 0.010000\n",
      "Epoch 2/200, Train Loss: 1.9792, Val Loss: 2.0683, Learning rate: 0.010000\n",
      "Epoch 3/200, Train Loss: 1.8586, Val Loss: 1.9956, Learning rate: 0.010000\n",
      "Epoch 4/200, Train Loss: 1.7916, Val Loss: 1.9638, Learning rate: 0.010000\n",
      "Epoch 5/200, Train Loss: 2.8246, Val Loss: 3.0966, Learning rate: 0.010000\n",
      "Epoch 6/200, Train Loss: 3.0215, Val Loss: 3.0987, Learning rate: 0.010000\n",
      "Epoch 7/200, Train Loss: 2.9963, Val Loss: 3.0588, Learning rate: 0.010000\n",
      "Epoch 8/200, Train Loss: 2.9576, Val Loss: 3.0309, Learning rate: 0.010000\n",
      "Epoch 9/200, Train Loss: 2.9254, Val Loss: 3.0044, Learning rate: 0.010000\n",
      "Epoch 10/200, Train Loss: 2.8908, Val Loss: 2.9602, Learning rate: 0.010000\n",
      "Epoch 11/200, Train Loss: 2.8369, Val Loss: 2.9215, Learning rate: 0.010000\n",
      "Epoch 12/200, Train Loss: 2.7840, Val Loss: 2.8839, Learning rate: 0.010000\n",
      "Epoch 13/200, Train Loss: 2.7155, Val Loss: 2.8099, Learning rate: 0.010000\n",
      "Epoch 14/200, Train Loss: 2.6002, Val Loss: 2.6705, Learning rate: 0.010000\n",
      "Epoch 15/200, Train Loss: 2.4693, Val Loss: 2.5410, Learning rate: 0.010000\n",
      "Epoch 16/200, Train Loss: 2.3358, Val Loss: 2.4167, Learning rate: 0.010000\n",
      "Epoch 17/200, Train Loss: 2.2299, Val Loss: 2.3405, Learning rate: 0.010000\n",
      "Epoch 18/200, Train Loss: 2.0999, Val Loss: 2.2356, Learning rate: 0.010000\n",
      "Epoch 19/200, Train Loss: 2.0052, Val Loss: 2.1613, Learning rate: 0.010000\n",
      "Epoch 20/200, Train Loss: 1.9423, Val Loss: 2.1168, Learning rate: 0.010000\n",
      "Epoch 21/200, Train Loss: 1.8655, Val Loss: 2.0505, Learning rate: 0.010000\n",
      "Epoch 22/200, Train Loss: 1.8018, Val Loss: 2.0197, Learning rate: 0.010000\n",
      "Epoch 23/200, Train Loss: 1.7572, Val Loss: 1.9429, Learning rate: 0.010000\n",
      "Epoch 24/200, Train Loss: 1.7196, Val Loss: 1.9223, Learning rate: 0.010000\n",
      "Epoch 25/200, Train Loss: 1.6960, Val Loss: 1.9201, Learning rate: 0.010000\n",
      "Minimax score: -0.6\n",
      "RandomAgent score: 0.76\n",
      "Epoch 26/200, Train Loss: 1.6691, Val Loss: 1.8878, Learning rate: 0.010000\n",
      "Epoch 27/200, Train Loss: 1.6531, Val Loss: 1.8752, Learning rate: 0.010000\n",
      "Epoch 28/200, Train Loss: 1.6246, Val Loss: 1.8624, Learning rate: 0.010000\n",
      "Epoch 29/200, Train Loss: 1.6021, Val Loss: 1.8353, Learning rate: 0.010000\n",
      "Epoch 30/200, Train Loss: 1.5790, Val Loss: 1.8772, Learning rate: 0.010000\n",
      "Epoch 31/200, Train Loss: 1.5632, Val Loss: 1.8482, Learning rate: 0.010000\n",
      "Epoch 32/200, Train Loss: 1.5372, Val Loss: 1.8539, Learning rate: 0.010000\n",
      "Epoch 33/200, Train Loss: 1.5406, Val Loss: 1.8186, Learning rate: 0.010000\n",
      "Epoch 34/200, Train Loss: 1.5371, Val Loss: 1.8368, Learning rate: 0.010000\n",
      "Epoch 35/200, Train Loss: 1.5250, Val Loss: 1.7837, Learning rate: 0.010000\n",
      "Epoch 36/200, Train Loss: 1.4933, Val Loss: 1.8290, Learning rate: 0.010000\n",
      "Epoch 37/200, Train Loss: 1.4940, Val Loss: 1.8151, Learning rate: 0.010000\n",
      "Epoch 38/200, Train Loss: 1.4481, Val Loss: 1.6943, Learning rate: 0.010000\n",
      "Epoch 39/200, Train Loss: 1.4290, Val Loss: 1.6795, Learning rate: 0.010000\n",
      "Epoch 40/200, Train Loss: 1.4064, Val Loss: 1.6387, Learning rate: 0.010000\n",
      "Epoch 41/200, Train Loss: 1.3747, Val Loss: 1.6281, Learning rate: 0.010000\n",
      "Epoch 42/200, Train Loss: 1.3489, Val Loss: 1.5986, Learning rate: 0.010000\n",
      "Epoch 43/200, Train Loss: 1.3497, Val Loss: 1.5977, Learning rate: 0.010000\n",
      "Epoch 44/200, Train Loss: 1.3325, Val Loss: 1.5751, Learning rate: 0.010000\n",
      "Epoch 45/200, Train Loss: 1.2904, Val Loss: 1.5657, Learning rate: 0.010000\n",
      "Epoch 46/200, Train Loss: 1.2785, Val Loss: 1.5595, Learning rate: 0.010000\n",
      "Epoch 47/200, Train Loss: 1.2442, Val Loss: 1.4892, Learning rate: 0.010000\n",
      "Epoch 48/200, Train Loss: 1.2187, Val Loss: 1.5108, Learning rate: 0.010000\n",
      "Epoch 49/200, Train Loss: 1.2114, Val Loss: 1.4937, Learning rate: 0.010000\n",
      "Epoch 50/200, Train Loss: 1.2047, Val Loss: 1.4744, Learning rate: 0.010000\n",
      "Minimax score: -0.5\n",
      "RandomAgent score: 0.82\n",
      "Epoch 51/200, Train Loss: 1.1882, Val Loss: 1.4430, Learning rate: 0.010000\n",
      "Epoch 52/200, Train Loss: 1.1529, Val Loss: 1.4321, Learning rate: 0.010000\n",
      "Epoch 53/200, Train Loss: 1.1386, Val Loss: 1.4172, Learning rate: 0.010000\n",
      "Epoch 54/200, Train Loss: 1.1122, Val Loss: 1.4171, Learning rate: 0.010000\n",
      "Epoch 55/200, Train Loss: 1.1150, Val Loss: 1.3993, Learning rate: 0.010000\n",
      "Epoch 56/200, Train Loss: 1.1100, Val Loss: 1.3668, Learning rate: 0.010000\n",
      "Epoch 57/200, Train Loss: 1.0980, Val Loss: 1.4004, Learning rate: 0.010000\n",
      "Epoch 58/200, Train Loss: 1.0894, Val Loss: 1.3629, Learning rate: 0.010000\n",
      "Epoch 59/200, Train Loss: 1.0902, Val Loss: 1.3682, Learning rate: 0.010000\n",
      "Epoch 60/200, Train Loss: 1.0875, Val Loss: 1.3821, Learning rate: 0.010000\n",
      "Epoch 61/200, Train Loss: 1.0761, Val Loss: 1.3547, Learning rate: 0.010000\n",
      "Epoch 62/200, Train Loss: 1.0618, Val Loss: 1.3302, Learning rate: 0.010000\n",
      "Epoch 63/200, Train Loss: 1.0823, Val Loss: 1.3721, Learning rate: 0.010000\n",
      "Epoch 64/200, Train Loss: 1.0852, Val Loss: 1.3295, Learning rate: 0.010000\n",
      "Epoch 65/200, Train Loss: 1.0580, Val Loss: 1.3083, Learning rate: 0.010000\n",
      "Epoch 66/200, Train Loss: 1.0433, Val Loss: 1.3094, Learning rate: 0.010000\n",
      "Epoch 67/200, Train Loss: 1.0300, Val Loss: 1.3134, Learning rate: 0.010000\n",
      "Epoch 68/200, Train Loss: 1.0338, Val Loss: 1.3524, Learning rate: 0.010000\n",
      "Epoch 69/200, Train Loss: 1.0442, Val Loss: 1.3368, Learning rate: 0.010000\n",
      "Epoch 70/200, Train Loss: 1.0403, Val Loss: 1.3254, Learning rate: 0.010000\n",
      "Epoch 71/200, Train Loss: 1.0171, Val Loss: 1.3110, Learning rate: 0.010000\n",
      "Epoch 72/200, Train Loss: 1.0180, Val Loss: 1.2937, Learning rate: 0.010000\n",
      "Epoch 73/200, Train Loss: 1.0159, Val Loss: 1.2563, Learning rate: 0.010000\n",
      "Epoch 74/200, Train Loss: 1.0011, Val Loss: 1.3006, Learning rate: 0.010000\n",
      "Epoch 75/200, Train Loss: 1.0024, Val Loss: 1.3248, Learning rate: 0.010000\n",
      "Minimax score: -0.020000000000000018\n",
      "RandomAgent score: 0.84\n",
      "Epoch 76/200, Train Loss: 1.0038, Val Loss: 1.3090, Learning rate: 0.010000\n",
      "Epoch 77/200, Train Loss: 1.0001, Val Loss: 1.2761, Learning rate: 0.010000\n",
      "Epoch 78/200, Train Loss: 0.9986, Val Loss: 1.2872, Learning rate: 0.010000\n",
      "Epoch 79/200, Train Loss: 1.0020, Val Loss: 1.2839, Learning rate: 0.010000\n",
      "Epoch 80/200, Train Loss: 1.0013, Val Loss: 1.2670, Learning rate: 0.010000\n",
      "Epoch 81/200, Train Loss: 0.9993, Val Loss: 1.2890, Learning rate: 0.010000\n",
      "Epoch 82/200, Train Loss: 1.0030, Val Loss: 1.2774, Learning rate: 0.010000\n",
      "Epoch 83/200, Train Loss: 1.0064, Val Loss: 1.2655, Learning rate: 0.010000\n",
      "Epoch 84/200, Train Loss: 1.0021, Val Loss: 1.2857, Learning rate: 0.010000\n",
      "Epoch 85/200, Train Loss: 0.9965, Val Loss: 1.2889, Learning rate: 0.010000\n",
      "Epoch 86/200, Train Loss: 0.9983, Val Loss: 1.3174, Learning rate: 0.010000\n",
      "Epoch 87/200, Train Loss: 0.9972, Val Loss: 1.2847, Learning rate: 0.010000\n",
      "Epoch 88/200, Train Loss: 0.9912, Val Loss: 1.2572, Learning rate: 0.010000\n",
      "Epoch 89/200, Train Loss: 0.9993, Val Loss: 1.2549, Learning rate: 0.010000\n",
      "Epoch 90/200, Train Loss: 0.9897, Val Loss: 1.2470, Learning rate: 0.010000\n",
      "Epoch 91/200, Train Loss: 0.9900, Val Loss: 1.2513, Learning rate: 0.010000\n",
      "Epoch 92/200, Train Loss: 0.9772, Val Loss: 1.2647, Learning rate: 0.010000\n",
      "Epoch 93/200, Train Loss: 0.9850, Val Loss: 1.2810, Learning rate: 0.010000\n",
      "Epoch 94/200, Train Loss: 1.0018, Val Loss: 1.2722, Learning rate: 0.010000\n",
      "Epoch 95/200, Train Loss: 1.0192, Val Loss: 1.2777, Learning rate: 0.010000\n",
      "Epoch 96/200, Train Loss: 1.0065, Val Loss: 1.2786, Learning rate: 0.010000\n",
      "Epoch 97/200, Train Loss: 1.0121, Val Loss: 1.2624, Learning rate: 0.010000\n",
      "Epoch 98/200, Train Loss: 1.0282, Val Loss: 1.3397, Learning rate: 0.010000\n",
      "Epoch 99/200, Train Loss: 1.0541, Val Loss: 1.3243, Learning rate: 0.010000\n",
      "Epoch 100/200, Train Loss: 1.0306, Val Loss: 1.2655, Learning rate: 0.010000\n",
      "Minimax score: -0.020000000000000018\n",
      "RandomAgent score: 0.83\n",
      "Epoch 101/200, Train Loss: 1.0139, Val Loss: 1.2621, Learning rate: 0.010000\n",
      "Epoch 102/200, Train Loss: 1.0037, Val Loss: 1.2535, Learning rate: 0.010000\n",
      "Epoch 103/200, Train Loss: 0.9893, Val Loss: 1.2519, Learning rate: 0.010000\n",
      "Epoch 104/200, Train Loss: 0.9739, Val Loss: 1.2105, Learning rate: 0.010000\n",
      "Epoch 105/200, Train Loss: 0.9726, Val Loss: 1.2442, Learning rate: 0.010000\n",
      "Epoch 106/200, Train Loss: 0.9678, Val Loss: 1.2237, Learning rate: 0.010000\n",
      "Epoch 107/200, Train Loss: 0.9688, Val Loss: 1.2484, Learning rate: 0.010000\n",
      "Epoch 108/200, Train Loss: 0.9697, Val Loss: 1.2304, Learning rate: 0.010000\n",
      "Epoch 109/200, Train Loss: 0.9697, Val Loss: 1.2388, Learning rate: 0.010000\n",
      "Epoch 110/200, Train Loss: 0.9714, Val Loss: 1.2750, Learning rate: 0.010000\n",
      "Epoch 111/200, Train Loss: 0.9776, Val Loss: 1.2543, Learning rate: 0.010000\n",
      "Epoch 112/200, Train Loss: 0.9708, Val Loss: 1.2430, Learning rate: 0.010000\n",
      "Epoch 113/200, Train Loss: 0.9698, Val Loss: 1.2202, Learning rate: 0.010000\n",
      "Epoch 114/200, Train Loss: 0.9652, Val Loss: 1.2473, Learning rate: 0.010000\n",
      "Epoch 115/200, Train Loss: 0.9719, Val Loss: 1.2358, Learning rate: 0.010000\n",
      "Epoch 116/200, Train Loss: 0.9653, Val Loss: 1.2274, Learning rate: 0.010000\n",
      "Epoch 117/200, Train Loss: 0.9588, Val Loss: 1.2303, Learning rate: 0.010000\n",
      "Epoch 118/200, Train Loss: 0.9636, Val Loss: 1.2272, Learning rate: 0.010000\n",
      "Epoch 119/200, Train Loss: 0.9741, Val Loss: 1.2144, Learning rate: 0.010000\n",
      "Epoch 120/200, Train Loss: 0.9751, Val Loss: 1.2250, Learning rate: 0.010000\n",
      "Epoch 121/200, Train Loss: 0.9794, Val Loss: 1.2084, Learning rate: 0.010000\n",
      "Epoch 122/200, Train Loss: 0.9749, Val Loss: 1.2269, Learning rate: 0.010000\n",
      "Epoch 123/200, Train Loss: 0.9715, Val Loss: 1.2444, Learning rate: 0.010000\n",
      "Epoch 124/200, Train Loss: 0.9736, Val Loss: 1.2262, Learning rate: 0.010000\n",
      "Epoch 125/200, Train Loss: 0.9642, Val Loss: 1.2212, Learning rate: 0.010000\n",
      "Minimax score: 0.0\n",
      "RandomAgent score: 0.76\n",
      "Epoch 126/200, Train Loss: 0.9629, Val Loss: 1.1995, Learning rate: 0.010000\n",
      "Epoch 127/200, Train Loss: 0.9577, Val Loss: 1.2400, Learning rate: 0.010000\n",
      "Epoch 128/200, Train Loss: 0.9642, Val Loss: 1.2010, Learning rate: 0.010000\n",
      "Epoch 129/200, Train Loss: 0.9647, Val Loss: 1.2315, Learning rate: 0.010000\n",
      "Epoch 130/200, Train Loss: 0.9735, Val Loss: 1.2273, Learning rate: 0.010000\n",
      "Epoch 131/200, Train Loss: 0.9663, Val Loss: 1.2009, Learning rate: 0.010000\n",
      "Epoch 132/200, Train Loss: 0.9646, Val Loss: 1.2308, Learning rate: 0.010000\n",
      "Epoch 133/200, Train Loss: 0.9625, Val Loss: 1.2094, Learning rate: 0.010000\n",
      "Epoch 134/200, Train Loss: 0.9616, Val Loss: 1.2212, Learning rate: 0.010000\n",
      "Epoch 135/200, Train Loss: 0.9780, Val Loss: 1.2225, Learning rate: 0.010000\n",
      "Epoch 136/200, Train Loss: 0.9781, Val Loss: 1.2216, Learning rate: 0.010000\n",
      "Epoch 137/200, Train Loss: 0.9769, Val Loss: 1.2199, Learning rate: 0.010000\n",
      "Epoch 138/200, Train Loss: 0.9711, Val Loss: 1.1953, Learning rate: 0.010000\n",
      "Epoch 139/200, Train Loss: 0.9678, Val Loss: 1.2114, Learning rate: 0.010000\n",
      "Epoch 140/200, Train Loss: 0.9596, Val Loss: 1.2097, Learning rate: 0.010000\n",
      "Epoch 141/200, Train Loss: 0.9659, Val Loss: 1.2039, Learning rate: 0.010000\n",
      "Epoch 142/200, Train Loss: 0.9852, Val Loss: 1.2717, Learning rate: 0.010000\n",
      "Epoch 143/200, Train Loss: 0.9926, Val Loss: 1.2186, Learning rate: 0.010000\n",
      "Epoch 144/200, Train Loss: 1.0400, Val Loss: 1.2675, Learning rate: 0.010000\n",
      "Epoch 145/200, Train Loss: 1.1743, Val Loss: 1.3070, Learning rate: 0.010000\n",
      "Epoch 146/200, Train Loss: 1.1037, Val Loss: 1.2773, Learning rate: 0.010000\n",
      "Epoch 147/200, Train Loss: 1.0350, Val Loss: 1.2212, Learning rate: 0.010000\n",
      "Epoch 148/200, Train Loss: 0.9992, Val Loss: 1.2009, Learning rate: 0.010000\n",
      "Epoch 149/200, Train Loss: 0.9764, Val Loss: 1.1736, Learning rate: 0.010000\n",
      "Epoch 150/200, Train Loss: 0.9642, Val Loss: 1.1774, Learning rate: 0.010000\n",
      "Minimax score: 0.0\n",
      "RandomAgent score: 0.8\n",
      "Epoch 151/200, Train Loss: 0.9477, Val Loss: 1.1617, Learning rate: 0.010000\n",
      "Epoch 152/200, Train Loss: 0.9524, Val Loss: 1.1681, Learning rate: 0.010000\n",
      "Epoch 153/200, Train Loss: 0.9454, Val Loss: 1.1782, Learning rate: 0.010000\n",
      "Epoch 154/200, Train Loss: 0.9413, Val Loss: 1.1848, Learning rate: 0.010000\n",
      "Epoch 155/200, Train Loss: 0.9374, Val Loss: 1.1501, Learning rate: 0.010000\n",
      "Epoch 156/200, Train Loss: 0.9349, Val Loss: 1.1907, Learning rate: 0.010000\n",
      "Epoch 157/200, Train Loss: 0.9382, Val Loss: 1.1674, Learning rate: 0.010000\n",
      "Epoch 158/200, Train Loss: 0.9331, Val Loss: 1.1666, Learning rate: 0.010000\n",
      "Epoch 159/200, Train Loss: 0.9334, Val Loss: 1.1784, Learning rate: 0.010000\n",
      "Epoch 160/200, Train Loss: 0.9359, Val Loss: 1.1663, Learning rate: 0.010000\n",
      "Epoch 161/200, Train Loss: 0.9380, Val Loss: 1.1921, Learning rate: 0.010000\n",
      "Epoch 162/200, Train Loss: 0.9466, Val Loss: 1.1680, Learning rate: 0.010000\n",
      "Epoch 163/200, Train Loss: 0.9415, Val Loss: 1.1563, Learning rate: 0.010000\n",
      "Epoch 164/200, Train Loss: 0.9457, Val Loss: 1.1774, Learning rate: 0.010000\n",
      "Epoch 165/200, Train Loss: 0.9434, Val Loss: 1.1595, Learning rate: 0.010000\n",
      "Epoch 166/200, Train Loss: 0.9528, Val Loss: 1.1706, Learning rate: 0.010000\n",
      "Epoch 167/200, Train Loss: 0.9630, Val Loss: 1.2008, Learning rate: 0.010000\n",
      "Epoch 168/200, Train Loss: 0.9636, Val Loss: 1.2030, Learning rate: 0.010000\n",
      "Epoch 169/200, Train Loss: 0.9606, Val Loss: 1.1957, Learning rate: 0.010000\n",
      "Epoch 170/200, Train Loss: 0.9500, Val Loss: 1.1534, Learning rate: 0.010000\n",
      "Epoch 171/200, Train Loss: 0.9489, Val Loss: 1.1614, Learning rate: 0.010000\n",
      "Epoch 172/200, Train Loss: 0.9525, Val Loss: 1.1673, Learning rate: 0.010000\n",
      "Epoch 173/200, Train Loss: 0.9590, Val Loss: 1.1783, Learning rate: 0.010000\n",
      "Epoch 174/200, Train Loss: 0.9548, Val Loss: 1.1982, Learning rate: 0.010000\n",
      "Epoch 175/200, Train Loss: 0.9470, Val Loss: 1.1666, Learning rate: 0.010000\n",
      "Minimax score: -0.5\n",
      "RandomAgent score: 0.83\n",
      "Epoch 176/200, Train Loss: 0.9504, Val Loss: 1.1746, Learning rate: 0.010000\n",
      "Epoch 177/200, Train Loss: 0.9656, Val Loss: 1.1976, Learning rate: 0.010000\n",
      "Epoch 178/200, Train Loss: 0.9730, Val Loss: 1.1762, Learning rate: 0.010000\n",
      "Epoch 179/200, Train Loss: 0.9606, Val Loss: 1.1687, Learning rate: 0.010000\n",
      "Epoch 180/200, Train Loss: 0.9593, Val Loss: 1.1607, Learning rate: 0.010000\n",
      "Epoch 181/200, Train Loss: 0.9493, Val Loss: 1.1577, Learning rate: 0.010000\n",
      "Epoch 182/200, Train Loss: 0.9425, Val Loss: 1.1570, Learning rate: 0.010000\n",
      "Epoch 183/200, Train Loss: 0.9473, Val Loss: 1.1571, Learning rate: 0.010000\n",
      "Epoch 184/200, Train Loss: 0.9500, Val Loss: 1.1380, Learning rate: 0.010000\n",
      "Epoch 185/200, Train Loss: 0.9291, Val Loss: 1.1353, Learning rate: 0.005000\n",
      "Epoch 186/200, Train Loss: 0.9118, Val Loss: 1.1282, Learning rate: 0.005000\n",
      "Epoch 187/200, Train Loss: 0.9090, Val Loss: 1.1363, Learning rate: 0.005000\n",
      "Epoch 188/200, Train Loss: 0.9071, Val Loss: 1.1323, Learning rate: 0.005000\n",
      "Epoch 189/200, Train Loss: 0.9059, Val Loss: 1.1370, Learning rate: 0.005000\n",
      "Epoch 190/200, Train Loss: 0.9056, Val Loss: 1.1429, Learning rate: 0.005000\n",
      "Epoch 191/200, Train Loss: 0.9077, Val Loss: 1.1354, Learning rate: 0.005000\n",
      "Epoch 192/200, Train Loss: 0.9052, Val Loss: 1.1344, Learning rate: 0.005000\n",
      "Epoch 193/200, Train Loss: 0.9050, Val Loss: 1.1468, Learning rate: 0.005000\n",
      "Epoch 194/200, Train Loss: 0.9045, Val Loss: 1.1483, Learning rate: 0.005000\n",
      "Epoch 195/200, Train Loss: 0.9024, Val Loss: 1.1414, Learning rate: 0.005000\n",
      "Epoch 196/200, Train Loss: 0.9033, Val Loss: 1.1511, Learning rate: 0.005000\n",
      "Epoch 197/200, Train Loss: 0.9044, Val Loss: 1.1504, Learning rate: 0.005000\n",
      "Epoch 198/200, Train Loss: 0.9063, Val Loss: 1.1419, Learning rate: 0.005000\n",
      "Epoch 199/200, Train Loss: 0.9055, Val Loss: 1.1482, Learning rate: 0.005000\n",
      "Epoch 200/200, Train Loss: 0.9091, Val Loss: 1.1524, Learning rate: 0.005000\n",
      "Minimax score: 0.0\n",
      "RandomAgent score: 0.84\n",
      "Training complete.\n",
      "Best val_loss: 1.1282\n",
      "Final val_loss: 1.1524\n"
     ]
    }
   ],
   "source": [
    "# Perform training\n",
    "\n",
    "from applications.dots_and_boxes.train import train\n",
    "\n",
    "model_interface = train(\n",
    "    num_rows = model_params[\"num_rows\"],\n",
    "    num_cols = model_params[\"num_cols\"],\n",
    "    model_type=model_type,\n",
    "    model_params=model_params,\n",
    "    device=device,\n",
    "    model_name=model_name,\n",
    "    optimizer_type=optimizer_type,\n",
    "    optimizer_params=optimizer_params,\n",
    "    lr_scheduler_type=lr_scheduler_type,\n",
    "    lr_scheduler_params=lr_scheduler_params,\n",
    "    training_method=training_method,\n",
    "    trainer_params=trainer_params,\n",
    "    training_params=training_params,\n",
    "    load_model=load_model,\n",
    "    load_model_params=load_model_params,\n",
    "    load_replay_buffer=load_replay_buffer,\n",
    "    load_replay_buffer_params=load_replay_buffer_params,\n",
    "    wandb_run=run\n",
    ")"
   ]
  },
  {
   "cell_type": "code",
   "execution_count": 5,
   "metadata": {},
   "outputs": [
    {
     "data": {
      "text/html": [],
      "text/plain": [
       "<IPython.core.display.HTML object>"
      ]
     },
     "metadata": {},
     "output_type": "display_data"
    },
    {
     "data": {
      "text/html": [
       "<br>    <style><br>        .wandb-row {<br>            display: flex;<br>            flex-direction: row;<br>            flex-wrap: wrap;<br>            justify-content: flex-start;<br>            width: 100%;<br>        }<br>        .wandb-col {<br>            display: flex;<br>            flex-direction: column;<br>            flex-basis: 100%;<br>            flex: 1;<br>            padding: 10px;<br>        }<br>    </style><br><div class=\"wandb-row\"><div class=\"wandb-col\"><h3>Run history:</h3><br/><table class=\"wandb\"><tr><td>Minimax_draw_rate</td><td>▆█▁▁▁▁█▁</td></tr><tr><td>Minimax_loss_rate</td><td>█▁▂▁▁▁▁▁</td></tr><tr><td>Minimax_score</td><td>▁▂████▂█</td></tr><tr><td>Minimax_win_rate</td><td>▁▁████▁█</td></tr><tr><td>RandomAgent_draw_rate</td><td>▇▄▁▃█▇▆▄</td></tr><tr><td>RandomAgent_loss_rate</td><td>█▆█▆▆▃▁▃</td></tr><tr><td>RandomAgent_score</td><td>▁▆█▇▁▅▇█</td></tr><tr><td>RandomAgent_win_rate</td><td>▂▆█▆▁▃▅▆</td></tr><tr><td>epoch</td><td>▁▁▁▁▂▂▂▃▃▃▃▃▃▃▄▄▄▄▄▄▄▅▅▅▅▅▅▅▆▆▆▆▇▇▇▇▇███</td></tr><tr><td>learning_rate</td><td>███████████████████████████████████████▁</td></tr><tr><td>train_loss</td><td>▄█▇▆▄▃▃▃▃▃▂▂▂▂▂▁▁▁▁▁▁▁▁▁▁▁▁▁▁▁▁▁▁▁▁▁▁▁▁▁</td></tr><tr><td>train_policy_loss</td><td>▆▃▃██▄▃▃▂▂▂▂▂▂▁▁▁▁▁▁▁▁▁▁▁▁▁▁▁▁▁▁▁▁▁▁▁▁▁▁</td></tr><tr><td>train_value_loss</td><td>█████▇▇▆▃▃▂▂▂▂▂▁▁▁▁▁▁▁▁▁▁▁▁▁▁▁▁▁▁▁▁▁▁▁▁▁</td></tr><tr><td>val_loss</td><td>███▇▇▅▅▄▄▄▂▂▂▂▂▂▁▂▂▁▁▁▁▁▁▁▁▁▂▁▁▁▁▁▁▁▁▁▁▁</td></tr><tr><td>val_policy_loss</td><td>▃█▇▄▄▃▃▃▃▂▂▂▂▂▂▂▂▂▁▂▁▁▁▁▁▁▁▁▁▁▂▁▁▁▁▁▁▁▁▁</td></tr><tr><td>val_value_loss</td><td>██████▇▇▆▆▃▂▂▁▂▂▁▂▁▂▁▁▂▁▂▁▂▂▁▁▁▁▁▁▁▁▁▁▁▁</td></tr></table><br/></div><div class=\"wandb-col\"><h3>Run summary:</h3><br/><table class=\"wandb\"><tr><td>Minimax_draw_rate</td><td>0</td></tr><tr><td>Minimax_loss_rate</td><td>0.5</td></tr><tr><td>Minimax_score</td><td>0</td></tr><tr><td>Minimax_win_rate</td><td>0.5</td></tr><tr><td>RandomAgent_draw_rate</td><td>0.14</td></tr><tr><td>RandomAgent_loss_rate</td><td>0.01</td></tr><tr><td>RandomAgent_score</td><td>0.84</td></tr><tr><td>RandomAgent_win_rate</td><td>0.85</td></tr><tr><td>epoch</td><td>200</td></tr><tr><td>learning_rate</td><td>0.005</td></tr><tr><td>train_loss</td><td>0.90911</td></tr><tr><td>train_policy_loss</td><td>0.80901</td></tr><tr><td>train_value_loss</td><td>0.1001</td></tr><tr><td>val_loss</td><td>1.15245</td></tr><tr><td>val_policy_loss</td><td>0.96962</td></tr><tr><td>val_value_loss</td><td>0.18283</td></tr></table><br/></div></div>"
      ],
      "text/plain": [
       "<IPython.core.display.HTML object>"
      ]
     },
     "metadata": {},
     "output_type": "display_data"
    },
    {
     "data": {
      "text/html": [
       " View run <strong style=\"color:#cdcd00\">MLP 4</strong> at: <a href='https://wandb.ai/eigenway/AlphaZero-DotsAndBoxes/runs/dn6mpuf3' target=\"_blank\">https://wandb.ai/eigenway/AlphaZero-DotsAndBoxes/runs/dn6mpuf3</a><br> View project at: <a href='https://wandb.ai/eigenway/AlphaZero-DotsAndBoxes' target=\"_blank\">https://wandb.ai/eigenway/AlphaZero-DotsAndBoxes</a><br>Synced 5 W&B file(s), 1 media file(s), 80 artifact file(s) and 0 other file(s)"
      ],
      "text/plain": [
       "<IPython.core.display.HTML object>"
      ]
     },
     "metadata": {},
     "output_type": "display_data"
    },
    {
     "data": {
      "text/html": [
       "Find logs at: <code>./wandb/run-20250320_092316-dn6mpuf3/logs</code>"
      ],
      "text/plain": [
       "<IPython.core.display.HTML object>"
      ]
     },
     "metadata": {},
     "output_type": "display_data"
    }
   ],
   "source": [
    "run.finish()"
   ]
  },
  {
   "cell_type": "code",
   "execution_count": 6,
   "metadata": {},
   "outputs": [
    {
     "name": "stdout",
     "output_type": "stream",
     "text": [
      "Total parameters: 85,349\n",
      "Trainable parameters: 85,349 (100.00%)\n",
      "Non-trainable parameters: 0 (0.00%)\n",
      "\n",
      "Parameters by layer:\n",
      "layers.0.norm.weight: 12 parameters\n",
      "layers.0.norm.bias: 12 parameters\n",
      "layers.0.linear.weight: 768 parameters\n",
      "layers.0.linear.bias: 64 parameters\n",
      "layers.1.norm.weight: 64 parameters\n",
      "layers.1.norm.bias: 64 parameters\n",
      "layers.1.linear.weight: 8,192 parameters\n",
      "layers.1.linear.bias: 128 parameters\n",
      "layers.2.norm.weight: 128 parameters\n",
      "layers.2.norm.bias: 128 parameters\n",
      "layers.2.linear.weight: 32,768 parameters\n",
      "layers.2.linear.bias: 256 parameters\n",
      "layers.3.norm.weight: 256 parameters\n",
      "layers.3.norm.bias: 256 parameters\n",
      "layers.3.linear.weight: 32,768 parameters\n",
      "layers.3.linear.bias: 128 parameters\n",
      "layers.4.norm.weight: 128 parameters\n",
      "layers.4.norm.bias: 128 parameters\n",
      "layers.4.linear.weight: 8,192 parameters\n",
      "layers.4.linear.bias: 64 parameters\n",
      "policy_head.weight: 768 parameters\n",
      "policy_head.bias: 12 parameters\n",
      "value_head.weight: 64 parameters\n",
      "value_head.bias: 1 parameters\n"
     ]
    }
   ],
   "source": [
    "def print_model_parameters(model):\n",
    "    \"\"\"\n",
    "    Print the total number of parameters in a PyTorch model,\n",
    "    with a breakdown of trainable vs non-trainable parameters.\n",
    "    \n",
    "    Args:\n",
    "        model: PyTorch model\n",
    "    \"\"\"\n",
    "    total_params = sum(p.numel() for p in model.parameters())\n",
    "    trainable_params = sum(p.numel() for p in model.parameters() if p.requires_grad)\n",
    "    non_trainable_params = total_params - trainable_params\n",
    "    \n",
    "    print(f\"Total parameters: {total_params:,}\")\n",
    "    print(f\"Trainable parameters: {trainable_params:,} ({trainable_params/total_params:.2%})\")\n",
    "    print(f\"Non-trainable parameters: {non_trainable_params:,} ({non_trainable_params/total_params:.2%})\")\n",
    "    \n",
    "    # Optional: Print parameters by layer\n",
    "    print(\"\\nParameters by layer:\")\n",
    "    for name, param in model.named_parameters():\n",
    "        print(f\"{name}: {param.numel():,} parameters\")\n",
    "\n",
    "# Example usage\n",
    "print_model_parameters(model_interface.model)"
   ]
  }
 ],
 "metadata": {
  "kernelspec": {
   "display_name": "dots-and-boxes",
   "language": "python",
   "name": "python3"
  },
  "language_info": {
   "codemirror_mode": {
    "name": "ipython",
    "version": 3
   },
   "file_extension": ".py",
   "mimetype": "text/x-python",
   "name": "python",
   "nbconvert_exporter": "python",
   "pygments_lexer": "ipython3",
   "version": "3.13.1"
  }
 },
 "nbformat": 4,
 "nbformat_minor": 2
}
