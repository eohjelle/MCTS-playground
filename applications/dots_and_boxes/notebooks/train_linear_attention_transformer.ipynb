{
 "cells": [
  {
   "cell_type": "code",
   "execution_count": 1,
   "metadata": {},
   "outputs": [
    {
     "name": "stdout",
     "output_type": "stream",
     "text": [
      "Working directory: /Users/eohjelle/Documents/2025-dots-and-boxes/dots-and-boxes\n"
     ]
    }
   ],
   "source": [
    "# Change directory to the root of the project\n",
    "import os \n",
    "os.chdir('..')\n",
    "os.chdir('..')\n",
    "os.chdir('..')\n",
    "print(f\"Working directory: {os.getcwd()}\")"
   ]
  },
  {
   "cell_type": "code",
   "execution_count": 2,
   "metadata": {},
   "outputs": [],
   "source": [
    "from applications.dots_and_boxes.NNmodels.linear_attention_transformer import LinearAttentionTransformerInitParams\n",
    "import torch\n",
    "\n",
    "# Initialize parameters\n",
    "\n",
    "## Model parameters\n",
    "model_type = 'linear_attention_transformer'\n",
    "model_params: LinearAttentionTransformerInitParams = {\n",
    "    'num_rows': 3,\n",
    "    'num_cols': 2,\n",
    "    'embed_dim': 128,\n",
    "    'ff_dim': 512,\n",
    "    'num_heads': 4,\n",
    "    'num_layers': 4\n",
    "}\n",
    "device = torch.device('mps')\n",
    "model_name = 'dots_and_boxes_linear_attention_transformer'\n",
    "\n",
    "## Initialize new model\n",
    "load_model = None\n",
    "load_model_params = {}\n",
    "\n",
    "## Optimizer parameters\n",
    "optimizer_type = 'adam'\n",
    "optimizer_params = {\n",
    "    'lr': 1e-2,\n",
    "    'betas': (0.9, 0.999),\n",
    "    'eps': 1e-8,\n",
    "    'weight_decay': 1e-4,\n",
    "    'amsgrad': False\n",
    "}\n",
    "\n",
    "## Learning scheduler parameters\n",
    "lr_scheduler_type = 'plateau'\n",
    "lr_scheduler_params = {\n",
    "    'factor': 0.5,\n",
    "    'patience': 10,\n",
    "    'cooldown': 10,\n",
    "    'min_lr': 1e-6\n",
    "}\n",
    "\n",
    "## Training parameters\n",
    "training_method = 'supervised'\n",
    "trainer_params = {}\n",
    "training_params = {\n",
    "    'epochs': 100,\n",
    "    'batch_size': 256,\n",
    "    'eval_freq': 25,\n",
    "    'checkpoint_freq': 50,\n",
    "    'mask_illegal_moves': False,\n",
    "    'mask_value': -20.0, # Doesn't matter when mask_illegal_moves is False\n",
    "    'checkpoint_dir': 'checkpoints',\n",
    "    'start_at': 1\n",
    "}\n",
    "\n",
    "## Load replay buffer from wandb\n",
    "load_replay_buffer = 'from_file'\n",
    "load_replay_buffer_params = {\n",
    "    'path': f'applications/dots_and_boxes/training_data/dots_and_boxes_{model_params[\"num_rows\"]}x{model_params[\"num_cols\"]}_DABSimpleTensorMapping_minimax.pkl',\n",
    "    'device': device\n",
    "}\n",
    "# load_replay_buffer = 'from_wandb'\n",
    "# load_replay_buffer_params = {\n",
    "#     'project': 'AlphaZero-DotsAndBoxes',\n",
    "#     'artifact_name': f'dots_and_boxes_{model_params[\"num_rows\"]}x{model_params[\"num_cols\"]}_SimpleTensorMapping_minimax',\n",
    "#     'artifact_version': 'latest'\n",
    "# }\n"
   ]
  },
  {
   "cell_type": "code",
   "execution_count": 3,
   "metadata": {},
   "outputs": [
    {
     "name": "stderr",
     "output_type": "stream",
     "text": [
      "\u001b[34m\u001b[1mwandb\u001b[0m: Currently logged in as: \u001b[33meohjelle\u001b[0m (\u001b[33meigenway\u001b[0m) to \u001b[32mhttps://api.wandb.ai\u001b[0m. Use \u001b[1m`wandb login --relogin`\u001b[0m to force relogin\n",
      "\u001b[34m\u001b[1mwandb\u001b[0m: Using wandb-core as the SDK backend.  Please refer to https://wandb.me/wandb-core for more information.\n"
     ]
    },
    {
     "data": {
      "text/html": [
       "Tracking run with wandb version 0.19.6"
      ],
      "text/plain": [
       "<IPython.core.display.HTML object>"
      ]
     },
     "metadata": {},
     "output_type": "display_data"
    },
    {
     "data": {
      "text/html": [
       "Run data is saved locally in <code>/Users/eohjelle/Documents/2025-dots-and-boxes/dots-and-boxes/wandb/run-20250320_150703-7n09zrqg</code>"
      ],
      "text/plain": [
       "<IPython.core.display.HTML object>"
      ]
     },
     "metadata": {},
     "output_type": "display_data"
    },
    {
     "data": {
      "text/html": [
       "Syncing run <strong><a href='https://wandb.ai/eigenway/AlphaZero-DotsAndBoxes/runs/7n09zrqg' target=\"_blank\">Linear Attention Transformer 3</a></strong> to <a href='https://wandb.ai/eigenway/AlphaZero-DotsAndBoxes' target=\"_blank\">Weights & Biases</a> (<a href='https://wandb.me/developer-guide' target=\"_blank\">docs</a>)<br>"
      ],
      "text/plain": [
       "<IPython.core.display.HTML object>"
      ]
     },
     "metadata": {},
     "output_type": "display_data"
    },
    {
     "data": {
      "text/html": [
       " View project at <a href='https://wandb.ai/eigenway/AlphaZero-DotsAndBoxes' target=\"_blank\">https://wandb.ai/eigenway/AlphaZero-DotsAndBoxes</a>"
      ],
      "text/plain": [
       "<IPython.core.display.HTML object>"
      ]
     },
     "metadata": {},
     "output_type": "display_data"
    },
    {
     "data": {
      "text/html": [
       " View run at <a href='https://wandb.ai/eigenway/AlphaZero-DotsAndBoxes/runs/7n09zrqg' target=\"_blank\">https://wandb.ai/eigenway/AlphaZero-DotsAndBoxes/runs/7n09zrqg</a>"
      ],
      "text/plain": [
       "<IPython.core.display.HTML object>"
      ]
     },
     "metadata": {},
     "output_type": "display_data"
    }
   ],
   "source": [
    "# Initialize wandb run\n",
    "import wandb\n",
    "\n",
    "run_name = 'Linear Attention Transformer 3'\n",
    "notes = 'Larger model than v2.'\n",
    "\n",
    "config = {\n",
    "    'model_type': model_type,\n",
    "    'model_params': model_params,\n",
    "    'optimizer_type': optimizer_type,\n",
    "    'optimizer_params': optimizer_params,\n",
    "    'lr_scheduler_type': lr_scheduler_type,\n",
    "    'lr_scheduler_params': lr_scheduler_params,\n",
    "    'training_method': training_method,\n",
    "    'trainer_params': trainer_params,\n",
    "    'training_params': training_params\n",
    "}\n",
    "\n",
    "run = wandb.init(\n",
    "    project='AlphaZero-DotsAndBoxes',\n",
    "    name=run_name,\n",
    "    config=config,\n",
    "    notes=notes,\n",
    "    group=f'{training_method} training on {model_params[\"num_rows\"]}x{model_params[\"num_cols\"]} board'\n",
    ")\n",
    "# run = None"
   ]
  },
  {
   "cell_type": "code",
   "execution_count": 4,
   "metadata": {},
   "outputs": [
    {
     "name": "stderr",
     "output_type": "stream",
     "text": [
      "\u001b[34m\u001b[1mwandb\u001b[0m: logging graph, to disable use `wandb.watch(log_graph=False)`\n",
      "/Users/eohjelle/Documents/2025-dots-and-boxes/dots-and-boxes/core/data_structures.py:77: FutureWarning: You are using `torch.load` with `weights_only=False` (the current default value), which uses the default pickle module implicitly. It is possible to construct malicious pickle data which will execute arbitrary code during unpickling (See https://github.com/pytorch/pytorch/blob/main/SECURITY.md#untrusted-models for more details). In a future release, the default value for `weights_only` will be flipped to `True`. This limits the functions that could be executed during unpickling. Arbitrary objects will no longer be allowed to be loaded via this mode unless they are explicitly allowlisted by the user via `torch.serialization.add_safe_globals`. We recommend you start setting `weights_only=True` for any use case where you don't have full control of the loaded file. Please open an issue on GitHub for any issues related to this experimental feature.\n",
      "  checkpoint = torch.load(path, map_location=device)\n"
     ]
    },
    {
     "name": "stdout",
     "output_type": "stream",
     "text": [
      "Epoch 1/100, Train Loss: 3.1196, Val Loss: 3.0715, Learning rate: 0.010000\n",
      "Epoch 2/100, Train Loss: 3.0112, Val Loss: 3.0126, Learning rate: 0.010000\n",
      "Epoch 3/100, Train Loss: 3.0019, Val Loss: 3.0126, Learning rate: 0.010000\n",
      "Epoch 4/100, Train Loss: 3.0023, Val Loss: 3.0126, Learning rate: 0.010000\n",
      "Epoch 5/100, Train Loss: 3.0018, Val Loss: 3.0126, Learning rate: 0.010000\n",
      "Epoch 6/100, Train Loss: 3.0020, Val Loss: 3.0126, Learning rate: 0.010000\n",
      "Epoch 7/100, Train Loss: 3.0481, Val Loss: 3.1849, Learning rate: 0.010000\n",
      "Epoch 8/100, Train Loss: 3.0890, Val Loss: 3.0774, Learning rate: 0.010000\n",
      "Epoch 9/100, Train Loss: 3.2511, Val Loss: 3.5948, Learning rate: 0.010000\n",
      "Epoch 10/100, Train Loss: 3.5849, Val Loss: 3.5946, Learning rate: 0.010000\n",
      "Epoch 11/100, Train Loss: 3.5841, Val Loss: 3.5945, Learning rate: 0.010000\n",
      "Epoch 12/100, Train Loss: 3.5845, Val Loss: 3.5945, Learning rate: 0.010000\n",
      "Epoch 13/100, Train Loss: 3.5846, Val Loss: 3.5945, Learning rate: 0.010000\n",
      "Epoch 14/100, Train Loss: 3.4479, Val Loss: 2.6733, Learning rate: 0.010000\n",
      "Epoch 15/100, Train Loss: 2.4278, Val Loss: 2.3057, Learning rate: 0.005000\n",
      "Epoch 16/100, Train Loss: 2.2431, Val Loss: 2.2023, Learning rate: 0.005000\n",
      "Epoch 17/100, Train Loss: 2.1628, Val Loss: 2.1462, Learning rate: 0.005000\n",
      "Epoch 18/100, Train Loss: 2.1163, Val Loss: 2.1030, Learning rate: 0.005000\n",
      "Epoch 19/100, Train Loss: 2.0764, Val Loss: 2.1014, Learning rate: 0.005000\n",
      "Epoch 20/100, Train Loss: 2.0588, Val Loss: 2.1090, Learning rate: 0.005000\n",
      "Epoch 21/100, Train Loss: 2.0459, Val Loss: 2.0587, Learning rate: 0.005000\n",
      "Epoch 22/100, Train Loss: 2.0356, Val Loss: 2.0709, Learning rate: 0.005000\n",
      "Epoch 23/100, Train Loss: 2.0281, Val Loss: 2.0351, Learning rate: 0.005000\n",
      "Epoch 24/100, Train Loss: 2.0115, Val Loss: 2.0109, Learning rate: 0.005000\n",
      "Epoch 25/100, Train Loss: 2.0139, Val Loss: 2.0172, Learning rate: 0.005000\n",
      "Minimax score: -0.49\n",
      "RandomAgent score: 0.95\n",
      "Epoch 26/100, Train Loss: 2.0045, Val Loss: 2.0152, Learning rate: 0.005000\n",
      "Epoch 27/100, Train Loss: 1.9901, Val Loss: 2.0054, Learning rate: 0.005000\n",
      "Epoch 28/100, Train Loss: 2.0255, Val Loss: 2.0003, Learning rate: 0.005000\n",
      "Epoch 29/100, Train Loss: 1.9874, Val Loss: 1.9841, Learning rate: 0.005000\n",
      "Epoch 30/100, Train Loss: 1.9805, Val Loss: 1.9769, Learning rate: 0.005000\n",
      "Epoch 31/100, Train Loss: 1.9741, Val Loss: 1.9761, Learning rate: 0.005000\n",
      "Epoch 32/100, Train Loss: 1.9736, Val Loss: 1.9736, Learning rate: 0.005000\n",
      "Epoch 33/100, Train Loss: 1.9671, Val Loss: 1.9824, Learning rate: 0.005000\n",
      "Epoch 34/100, Train Loss: 1.9732, Val Loss: 2.0498, Learning rate: 0.005000\n",
      "Epoch 35/100, Train Loss: 1.9854, Val Loss: 1.9822, Learning rate: 0.005000\n",
      "Epoch 36/100, Train Loss: 1.9588, Val Loss: 1.9707, Learning rate: 0.005000\n",
      "Epoch 37/100, Train Loss: 1.9751, Val Loss: 1.9598, Learning rate: 0.005000\n",
      "Epoch 38/100, Train Loss: 1.9582, Val Loss: 1.9728, Learning rate: 0.005000\n",
      "Epoch 39/100, Train Loss: 1.9776, Val Loss: 2.0293, Learning rate: 0.005000\n",
      "Epoch 40/100, Train Loss: 1.9559, Val Loss: 1.9531, Learning rate: 0.005000\n",
      "Epoch 41/100, Train Loss: 2.0006, Val Loss: 1.9146, Learning rate: 0.005000\n",
      "Epoch 42/100, Train Loss: 1.5576, Val Loss: 1.4560, Learning rate: 0.005000\n",
      "Epoch 43/100, Train Loss: 1.4133, Val Loss: 1.3870, Learning rate: 0.005000\n",
      "Epoch 44/100, Train Loss: 1.3800, Val Loss: 1.3632, Learning rate: 0.005000\n",
      "Epoch 45/100, Train Loss: 1.3568, Val Loss: 1.3538, Learning rate: 0.005000\n",
      "Epoch 46/100, Train Loss: 1.3470, Val Loss: 1.3400, Learning rate: 0.005000\n",
      "Epoch 47/100, Train Loss: 1.3319, Val Loss: 1.3216, Learning rate: 0.005000\n",
      "Epoch 48/100, Train Loss: 1.3226, Val Loss: 1.3806, Learning rate: 0.005000\n",
      "Epoch 49/100, Train Loss: 1.3166, Val Loss: 1.3096, Learning rate: 0.005000\n",
      "Epoch 50/100, Train Loss: 1.3108, Val Loss: 1.3203, Learning rate: 0.005000\n",
      "Minimax score: -0.32\n",
      "RandomAgent score: 0.97\n",
      "Epoch 51/100, Train Loss: 1.3056, Val Loss: 1.3121, Learning rate: 0.005000\n",
      "Epoch 52/100, Train Loss: 1.3018, Val Loss: 1.3034, Learning rate: 0.005000\n",
      "Epoch 53/100, Train Loss: 1.2979, Val Loss: 1.2876, Learning rate: 0.005000\n",
      "Epoch 54/100, Train Loss: 1.2936, Val Loss: 1.3165, Learning rate: 0.005000\n",
      "Epoch 55/100, Train Loss: 1.2910, Val Loss: 1.2826, Learning rate: 0.005000\n",
      "Epoch 56/100, Train Loss: 1.2894, Val Loss: 1.2742, Learning rate: 0.005000\n",
      "Epoch 57/100, Train Loss: 1.2806, Val Loss: 1.3032, Learning rate: 0.005000\n",
      "Epoch 58/100, Train Loss: 1.2779, Val Loss: 1.2719, Learning rate: 0.005000\n",
      "Epoch 59/100, Train Loss: 1.2718, Val Loss: 1.2591, Learning rate: 0.005000\n",
      "Epoch 60/100, Train Loss: 1.2735, Val Loss: 1.2655, Learning rate: 0.005000\n",
      "Epoch 61/100, Train Loss: 1.2705, Val Loss: 1.3633, Learning rate: 0.005000\n",
      "Epoch 62/100, Train Loss: 1.2649, Val Loss: 1.2732, Learning rate: 0.005000\n",
      "Epoch 63/100, Train Loss: 1.2663, Val Loss: 1.2567, Learning rate: 0.005000\n",
      "Epoch 64/100, Train Loss: 1.2630, Val Loss: 1.2520, Learning rate: 0.005000\n",
      "Epoch 65/100, Train Loss: 1.2603, Val Loss: 1.2627, Learning rate: 0.005000\n",
      "Epoch 66/100, Train Loss: 1.2618, Val Loss: 1.2490, Learning rate: 0.005000\n",
      "Epoch 67/100, Train Loss: 1.2547, Val Loss: 1.2570, Learning rate: 0.005000\n",
      "Epoch 68/100, Train Loss: 1.2553, Val Loss: 1.2586, Learning rate: 0.005000\n",
      "Epoch 69/100, Train Loss: 1.2552, Val Loss: 1.2786, Learning rate: 0.005000\n",
      "Epoch 70/100, Train Loss: 1.2579, Val Loss: 1.2592, Learning rate: 0.005000\n",
      "Epoch 71/100, Train Loss: 1.2570, Val Loss: 1.2439, Learning rate: 0.005000\n",
      "Epoch 72/100, Train Loss: 1.2491, Val Loss: 1.2644, Learning rate: 0.005000\n",
      "Epoch 73/100, Train Loss: 1.2495, Val Loss: 1.2436, Learning rate: 0.005000\n",
      "Epoch 74/100, Train Loss: 1.2492, Val Loss: 1.2559, Learning rate: 0.005000\n",
      "Epoch 75/100, Train Loss: 1.2486, Val Loss: 1.2357, Learning rate: 0.005000\n",
      "Minimax score: -0.21999999999999997\n",
      "RandomAgent score: 0.99\n",
      "Epoch 76/100, Train Loss: 1.2492, Val Loss: 1.2410, Learning rate: 0.005000\n",
      "Epoch 77/100, Train Loss: 1.2479, Val Loss: 1.2363, Learning rate: 0.005000\n",
      "Epoch 78/100, Train Loss: 1.2514, Val Loss: 1.2410, Learning rate: 0.005000\n",
      "Epoch 79/100, Train Loss: 1.2483, Val Loss: 1.2596, Learning rate: 0.005000\n",
      "Epoch 80/100, Train Loss: 1.2427, Val Loss: 1.2574, Learning rate: 0.005000\n",
      "Epoch 81/100, Train Loss: 1.2424, Val Loss: 1.2600, Learning rate: 0.005000\n",
      "Epoch 82/100, Train Loss: 1.2431, Val Loss: 1.2345, Learning rate: 0.005000\n",
      "Epoch 83/100, Train Loss: 1.2440, Val Loss: 1.2540, Learning rate: 0.005000\n",
      "Epoch 84/100, Train Loss: 1.2415, Val Loss: 1.2497, Learning rate: 0.005000\n",
      "Epoch 85/100, Train Loss: 1.2433, Val Loss: 1.2665, Learning rate: 0.005000\n",
      "Epoch 86/100, Train Loss: 1.2463, Val Loss: 1.2950, Learning rate: 0.005000\n",
      "Epoch 87/100, Train Loss: 1.2407, Val Loss: 1.2427, Learning rate: 0.005000\n",
      "Epoch 88/100, Train Loss: 1.2383, Val Loss: 1.2379, Learning rate: 0.005000\n",
      "Epoch 89/100, Train Loss: 1.2384, Val Loss: 1.2368, Learning rate: 0.005000\n",
      "Epoch 90/100, Train Loss: 1.2456, Val Loss: 1.2371, Learning rate: 0.005000\n",
      "Epoch 91/100, Train Loss: 1.2375, Val Loss: 1.2356, Learning rate: 0.005000\n",
      "Epoch 92/100, Train Loss: 1.2433, Val Loss: 1.2470, Learning rate: 0.005000\n",
      "Epoch 93/100, Train Loss: 1.2356, Val Loss: 1.2320, Learning rate: 0.005000\n",
      "Epoch 94/100, Train Loss: 1.2374, Val Loss: 1.2227, Learning rate: 0.005000\n",
      "Epoch 95/100, Train Loss: 1.2392, Val Loss: 1.2322, Learning rate: 0.005000\n",
      "Epoch 96/100, Train Loss: 1.2366, Val Loss: 1.2224, Learning rate: 0.005000\n",
      "Epoch 97/100, Train Loss: 1.2336, Val Loss: 1.2183, Learning rate: 0.005000\n",
      "Epoch 98/100, Train Loss: 1.2371, Val Loss: 1.2455, Learning rate: 0.005000\n",
      "Epoch 99/100, Train Loss: 1.2336, Val Loss: 1.2523, Learning rate: 0.005000\n",
      "Epoch 100/100, Train Loss: 1.2364, Val Loss: 1.2617, Learning rate: 0.005000\n",
      "Minimax score: -0.12000000000000005\n",
      "RandomAgent score: 0.97\n",
      "Training complete.\n",
      "Best val_loss: 1.2183\n",
      "Final val_loss: 1.2617\n"
     ]
    }
   ],
   "source": [
    "# Perform training\n",
    "\n",
    "from applications.dots_and_boxes.train import train\n",
    "\n",
    "model_interface = train(\n",
    "    num_rows = model_params[\"num_rows\"],\n",
    "    num_cols = model_params[\"num_cols\"],\n",
    "    model_type=model_type,\n",
    "    model_params=model_params,\n",
    "    device=device,\n",
    "    model_name=model_name,\n",
    "    optimizer_type=optimizer_type,\n",
    "    optimizer_params=optimizer_params,\n",
    "    lr_scheduler_type=lr_scheduler_type,\n",
    "    lr_scheduler_params=lr_scheduler_params,\n",
    "    training_method=training_method,\n",
    "    trainer_params=trainer_params,\n",
    "    training_params=training_params,\n",
    "    load_model=load_model,\n",
    "    load_model_params=load_model_params,\n",
    "    load_replay_buffer=load_replay_buffer,\n",
    "    load_replay_buffer_params=load_replay_buffer_params,\n",
    "    wandb_run=run\n",
    ")"
   ]
  },
  {
   "cell_type": "code",
   "execution_count": 5,
   "metadata": {},
   "outputs": [
    {
     "data": {
      "text/html": [],
      "text/plain": [
       "<IPython.core.display.HTML object>"
      ]
     },
     "metadata": {},
     "output_type": "display_data"
    },
    {
     "data": {
      "text/html": [
       "<br>    <style><br>        .wandb-row {<br>            display: flex;<br>            flex-direction: row;<br>            flex-wrap: wrap;<br>            justify-content: flex-start;<br>            width: 100%;<br>        }<br>        .wandb-col {<br>            display: flex;<br>            flex-direction: column;<br>            flex-basis: 100%;<br>            flex: 1;<br>            padding: 10px;<br>        }<br>    </style><br><div class=\"wandb-row\"><div class=\"wandb-col\"><h3>Run history:</h3><br/><table class=\"wandb\"><tr><td>Minimax_draw_rate</td><td>▁▁█▂</td></tr><tr><td>Minimax_loss_rate</td><td>█▆▁▂</td></tr><tr><td>Minimax_score</td><td>▁▄▆█</td></tr><tr><td>Minimax_win_rate</td><td>▁▄▂█</td></tr><tr><td>RandomAgent_draw_rate</td><td>▁▁▁█</td></tr><tr><td>RandomAgent_loss_rate</td><td>█▅▁▁</td></tr><tr><td>RandomAgent_score</td><td>▁▅█▅</td></tr><tr><td>RandomAgent_win_rate</td><td>▁▅█▁</td></tr><tr><td>epoch</td><td>▁▁▁▁▁▂▂▂▃▃▃▃▃▃▃▄▄▄▅▅▅▅▅▅▅▅▆▆▆▆▆▆▇▇▇▇▇▇▇█</td></tr><tr><td>learning_rate</td><td>████▁▁▁▁▁▁▁▁▁▁▁▁▁▁▁▁▁▁▁▁▁▁▁▁▁▁▁▁▁▁▁▁▁▁▁▁</td></tr><tr><td>train_loss</td><td>▇▆▆▆█▄▄▄▃▃▃▃▃▃▃▂▁▁▁▁▁▁▁▁▁▁▁▁▁▁▁▁▁▁▁▁▁▁▁▁</td></tr><tr><td>train_policy_loss</td><td>█▇▇▇▇▂▂▂▂▂▂▂▂▂▂▂▂▂▁▁▁▁▁▁▁▁▁▁▁▁▁▁▁▁▁▁▁▁▁▁</td></tr><tr><td>train_value_loss</td><td>████████████████▃▂▁▁▁▁▁▁▁▁▁▁▁▁▁▁▁▁▁▁▁▁▁▁</td></tr><tr><td>val_loss</td><td>▆▆▆▆▆██▄▄▃▃▃▃▃▃▁▁▁▁▁▁▁▁▁▁▁▁▁▁▁▁▁▁▁▁▁▁▁▁▁</td></tr><tr><td>val_policy_loss</td><td>▆▆▆▆██▃▂▂▂▂▂▂▂▁▁▁▁▁▁▁▁▁▁▁▁▁▁▁▁▁▁▁▁▁▁▁▁▁▁</td></tr><tr><td>val_value_loss</td><td>███████████████████▇▂▁▁▁▁▁▁▁▁▁▁▁▁▁▁▁▁▁▁▁</td></tr></table><br/></div><div class=\"wandb-col\"><h3>Run summary:</h3><br/><table class=\"wandb\"><tr><td>Minimax_draw_rate</td><td>0.02</td></tr><tr><td>Minimax_loss_rate</td><td>0.55</td></tr><tr><td>Minimax_score</td><td>-0.12</td></tr><tr><td>Minimax_win_rate</td><td>0.43</td></tr><tr><td>RandomAgent_draw_rate</td><td>0.03</td></tr><tr><td>RandomAgent_loss_rate</td><td>0</td></tr><tr><td>RandomAgent_score</td><td>0.97</td></tr><tr><td>RandomAgent_win_rate</td><td>0.97</td></tr><tr><td>epoch</td><td>100</td></tr><tr><td>learning_rate</td><td>0.005</td></tr><tr><td>train_loss</td><td>1.23643</td></tr><tr><td>train_policy_loss</td><td>1.09738</td></tr><tr><td>train_value_loss</td><td>0.13906</td></tr><tr><td>val_loss</td><td>1.26168</td></tr><tr><td>val_policy_loss</td><td>1.11174</td></tr><tr><td>val_value_loss</td><td>0.14994</td></tr></table><br/></div></div>"
      ],
      "text/plain": [
       "<IPython.core.display.HTML object>"
      ]
     },
     "metadata": {},
     "output_type": "display_data"
    },
    {
     "data": {
      "text/html": [
       " View run <strong style=\"color:#cdcd00\">Linear Attention Transformer 3</strong> at: <a href='https://wandb.ai/eigenway/AlphaZero-DotsAndBoxes/runs/7n09zrqg' target=\"_blank\">https://wandb.ai/eigenway/AlphaZero-DotsAndBoxes/runs/7n09zrqg</a><br> View project at: <a href='https://wandb.ai/eigenway/AlphaZero-DotsAndBoxes' target=\"_blank\">https://wandb.ai/eigenway/AlphaZero-DotsAndBoxes</a><br>Synced 5 W&B file(s), 1 media file(s), 36 artifact file(s) and 0 other file(s)"
      ],
      "text/plain": [
       "<IPython.core.display.HTML object>"
      ]
     },
     "metadata": {},
     "output_type": "display_data"
    },
    {
     "data": {
      "text/html": [
       "Find logs at: <code>./wandb/run-20250320_150703-7n09zrqg/logs</code>"
      ],
      "text/plain": [
       "<IPython.core.display.HTML object>"
      ]
     },
     "metadata": {},
     "output_type": "display_data"
    }
   ],
   "source": [
    "run.finish()"
   ]
  },
  {
   "cell_type": "code",
   "execution_count": 6,
   "metadata": {},
   "outputs": [
    {
     "name": "stdout",
     "output_type": "stream",
     "text": [
      "Total parameters: 797,954\n",
      "Trainable parameters: 797,954 (100.00%)\n",
      "Non-trainable parameters: 0 (0.00%)\n",
      "\n",
      "Parameters by layer:\n",
      "pos_embedding: 2,176 parameters\n",
      "input_embedding.weight: 128 parameters\n",
      "transformer_blocks.0.norm1.weight: 128 parameters\n",
      "transformer_blocks.0.norm1.bias: 128 parameters\n",
      "transformer_blocks.0.attn.q_emb.weight: 16,384 parameters\n",
      "transformer_blocks.0.attn.q_emb.bias: 128 parameters\n",
      "transformer_blocks.0.attn.k_emb.weight: 16,384 parameters\n",
      "transformer_blocks.0.attn.k_emb.bias: 128 parameters\n",
      "transformer_blocks.0.attn.v_emb.weight: 16,384 parameters\n",
      "transformer_blocks.0.attn.v_emb.bias: 128 parameters\n",
      "transformer_blocks.0.attn.out_emb.weight: 16,384 parameters\n",
      "transformer_blocks.0.attn.out_emb.bias: 128 parameters\n",
      "transformer_blocks.0.norm2.weight: 128 parameters\n",
      "transformer_blocks.0.norm2.bias: 128 parameters\n",
      "transformer_blocks.0.ff.0.weight: 65,536 parameters\n",
      "transformer_blocks.0.ff.0.bias: 512 parameters\n",
      "transformer_blocks.0.ff.2.weight: 65,536 parameters\n",
      "transformer_blocks.0.ff.2.bias: 128 parameters\n",
      "transformer_blocks.1.norm1.weight: 128 parameters\n",
      "transformer_blocks.1.norm1.bias: 128 parameters\n",
      "transformer_blocks.1.attn.q_emb.weight: 16,384 parameters\n",
      "transformer_blocks.1.attn.q_emb.bias: 128 parameters\n",
      "transformer_blocks.1.attn.k_emb.weight: 16,384 parameters\n",
      "transformer_blocks.1.attn.k_emb.bias: 128 parameters\n",
      "transformer_blocks.1.attn.v_emb.weight: 16,384 parameters\n",
      "transformer_blocks.1.attn.v_emb.bias: 128 parameters\n",
      "transformer_blocks.1.attn.out_emb.weight: 16,384 parameters\n",
      "transformer_blocks.1.attn.out_emb.bias: 128 parameters\n",
      "transformer_blocks.1.norm2.weight: 128 parameters\n",
      "transformer_blocks.1.norm2.bias: 128 parameters\n",
      "transformer_blocks.1.ff.0.weight: 65,536 parameters\n",
      "transformer_blocks.1.ff.0.bias: 512 parameters\n",
      "transformer_blocks.1.ff.2.weight: 65,536 parameters\n",
      "transformer_blocks.1.ff.2.bias: 128 parameters\n",
      "transformer_blocks.2.norm1.weight: 128 parameters\n",
      "transformer_blocks.2.norm1.bias: 128 parameters\n",
      "transformer_blocks.2.attn.q_emb.weight: 16,384 parameters\n",
      "transformer_blocks.2.attn.q_emb.bias: 128 parameters\n",
      "transformer_blocks.2.attn.k_emb.weight: 16,384 parameters\n",
      "transformer_blocks.2.attn.k_emb.bias: 128 parameters\n",
      "transformer_blocks.2.attn.v_emb.weight: 16,384 parameters\n",
      "transformer_blocks.2.attn.v_emb.bias: 128 parameters\n",
      "transformer_blocks.2.attn.out_emb.weight: 16,384 parameters\n",
      "transformer_blocks.2.attn.out_emb.bias: 128 parameters\n",
      "transformer_blocks.2.norm2.weight: 128 parameters\n",
      "transformer_blocks.2.norm2.bias: 128 parameters\n",
      "transformer_blocks.2.ff.0.weight: 65,536 parameters\n",
      "transformer_blocks.2.ff.0.bias: 512 parameters\n",
      "transformer_blocks.2.ff.2.weight: 65,536 parameters\n",
      "transformer_blocks.2.ff.2.bias: 128 parameters\n",
      "transformer_blocks.3.norm1.weight: 128 parameters\n",
      "transformer_blocks.3.norm1.bias: 128 parameters\n",
      "transformer_blocks.3.attn.q_emb.weight: 16,384 parameters\n",
      "transformer_blocks.3.attn.q_emb.bias: 128 parameters\n",
      "transformer_blocks.3.attn.k_emb.weight: 16,384 parameters\n",
      "transformer_blocks.3.attn.k_emb.bias: 128 parameters\n",
      "transformer_blocks.3.attn.v_emb.weight: 16,384 parameters\n",
      "transformer_blocks.3.attn.v_emb.bias: 128 parameters\n",
      "transformer_blocks.3.attn.out_emb.weight: 16,384 parameters\n",
      "transformer_blocks.3.attn.out_emb.bias: 128 parameters\n",
      "transformer_blocks.3.norm2.weight: 128 parameters\n",
      "transformer_blocks.3.norm2.bias: 128 parameters\n",
      "transformer_blocks.3.ff.0.weight: 65,536 parameters\n",
      "transformer_blocks.3.ff.0.bias: 512 parameters\n",
      "transformer_blocks.3.ff.2.weight: 65,536 parameters\n",
      "transformer_blocks.3.ff.2.bias: 128 parameters\n",
      "final_norm.weight: 128 parameters\n",
      "final_norm.bias: 128 parameters\n",
      "policy_head.weight: 128 parameters\n",
      "policy_head.bias: 1 parameters\n",
      "value_head.weight: 2,176 parameters\n",
      "value_head.bias: 1 parameters\n"
     ]
    }
   ],
   "source": [
    "def print_model_parameters(model):\n",
    "    \"\"\"\n",
    "    Print the total number of parameters in a PyTorch model,\n",
    "    with a breakdown of trainable vs non-trainable parameters.\n",
    "    \n",
    "    Args:\n",
    "        model: PyTorch model\n",
    "    \"\"\"\n",
    "    total_params = sum(p.numel() for p in model.parameters())\n",
    "    trainable_params = sum(p.numel() for p in model.parameters() if p.requires_grad)\n",
    "    non_trainable_params = total_params - trainable_params\n",
    "    \n",
    "    print(f\"Total parameters: {total_params:,}\")\n",
    "    print(f\"Trainable parameters: {trainable_params:,} ({trainable_params/total_params:.2%})\")\n",
    "    print(f\"Non-trainable parameters: {non_trainable_params:,} ({non_trainable_params/total_params:.2%})\")\n",
    "    \n",
    "    # Optional: Print parameters by layer\n",
    "    print(\"\\nParameters by layer:\")\n",
    "    for name, param in model.named_parameters():\n",
    "        print(f\"{name}: {param.numel():,} parameters\")\n",
    "\n",
    "# Example usage\n",
    "print_model_parameters(model_interface.model)"
   ]
  }
 ],
 "metadata": {
  "kernelspec": {
   "display_name": "dots-and-boxes",
   "language": "python",
   "name": "python3"
  },
  "language_info": {
   "codemirror_mode": {
    "name": "ipython",
    "version": 3
   },
   "file_extension": ".py",
   "mimetype": "text/x-python",
   "name": "python",
   "nbconvert_exporter": "python",
   "pygments_lexer": "ipython3",
   "version": "3.13.1"
  }
 },
 "nbformat": 4,
 "nbformat_minor": 2
}
