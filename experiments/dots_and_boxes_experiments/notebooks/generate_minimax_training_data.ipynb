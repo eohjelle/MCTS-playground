{
 "cells": [
  {
   "cell_type": "code",
   "execution_count": 1,
   "metadata": {},
   "outputs": [
    {
     "name": "stdout",
     "output_type": "stream",
     "text": [
      "Working directory: /Users/eohjelle/Documents/2025-dots-and-boxes/dots-and-boxes\n"
     ]
    }
   ],
   "source": [
    "# Change directory to the root of the project\n",
    "import os \n",
    "os.chdir('..')\n",
    "os.chdir('..')\n",
    "os.chdir('..')\n",
    "print(f\"Working directory: {os.getcwd()}\")"
   ]
  },
  {
   "cell_type": "markdown",
   "metadata": {},
   "source": [
    "In this notebook we will create an exhaustive training data set for tic tac toe using the Minimax agent, in the form of a replay buffer compatible with AlphaZeroTrainer. The idea is to use this dataset to run some sweeps, and to understand which deep learning models will perform best in theory."
   ]
  },
  {
   "cell_type": "markdown",
   "metadata": {},
   "source": [
    "# Create training set"
   ]
  },
  {
   "cell_type": "code",
   "execution_count": 2,
   "metadata": {},
   "outputs": [
    {
     "data": {
      "text/plain": [
       "(1, 4)"
      ]
     },
     "execution_count": 2,
     "metadata": {},
     "output_type": "execute_result"
    }
   ],
   "source": [
    "from applications.dots_and_boxes.game_state import DotsAndBoxesGameState\n",
    "from core.implementations.Minimax import Minimax\n",
    "\n",
    "rows = 2\n",
    "cols = 2\n",
    "\n",
    "# Creat minmax agent and expand the game tree\n",
    "state = DotsAndBoxesGameState(rows, cols)\n",
    "agent = Minimax(state)\n",
    "agent()"
   ]
  },
  {
   "cell_type": "code",
   "execution_count": 3,
   "metadata": {},
   "outputs": [
    {
     "data": {
      "text/plain": [
       "1"
      ]
     },
     "execution_count": 3,
     "metadata": {},
     "output_type": "execute_result"
    }
   ],
   "source": [
    "# Check value of starting position\n",
    "agent.root.value.value"
   ]
  },
  {
   "cell_type": "markdown",
   "metadata": {},
   "source": [
    "If +1, winning, if -1, losing. It seems that the starting position is winning on a 2 x 2 board and losing on a 3 x 2 board, pretty interesting."
   ]
  },
  {
   "cell_type": "code",
   "execution_count": 4,
   "metadata": {},
   "outputs": [],
   "source": [
    "# Get list of unique examples, translated into AlphaZero format for compatibility with models\n",
    "\n",
    "from core.data_structures import TrainingExample\n",
    "\n",
    "def example(state, node):\n",
    "    policy = {action: 0.0 for action in node.children.keys()}\n",
    "    for action in node.value.best_actions:\n",
    "        policy[action] = 1/len(node.value.best_actions)\n",
    "    return TrainingExample(\n",
    "        state=state,\n",
    "        target=(policy, node.value.value),\n",
    "        data={'legal_actions': list(node.children.keys())}\n",
    "    )\n",
    "\n",
    "examples = [example(state, node) for state, node in agent.state_dict.items()]\n"
   ]
  },
  {
   "cell_type": "code",
   "execution_count": 5,
   "metadata": {},
   "outputs": [
    {
     "name": "stdout",
     "output_type": "stream",
     "text": [
      "Example 1:\n",
      "State: \n",
      "+ - + . +\n",
      ".   .   |\n",
      "+ . + - +\n",
      ".   | B |\n",
      "+ . + - +\n",
      "\n",
      " Player -1 to move.\n",
      "Target: ({(0, 3): 0.0, (1, 0): 0.0, (1, 2): 0.0, (2, 1): 1.0, (3, 0): 0.0, (4, 1): 0.0}, 0)\n",
      "Data: {'legal_actions': [(0, 3), (1, 0), (1, 2), (2, 1), (3, 0), (4, 1)]}\n",
      "\n",
      "\n",
      "Example 2:\n",
      "State: \n",
      "+ - + . +\n",
      ".   .   |\n",
      "+ . + - +\n",
      ".   | A |\n",
      "+ - + - +\n",
      "\n",
      " Player 1 to move.\n",
      "Target: ({(0, 3): 0.2, (1, 0): 0.2, (1, 2): 0.2, (2, 1): 0.2, (3, 0): 0.2}, 1)\n",
      "Data: {'legal_actions': [(0, 3), (1, 0), (1, 2), (2, 1), (3, 0)]}\n",
      "\n",
      "\n",
      "Example 3:\n",
      "State: \n",
      "+ - + . +\n",
      ".   .   |\n",
      "+ - + - +\n",
      ".   | B |\n",
      "+ . + - +\n",
      "\n",
      " Player 1 to move.\n",
      "Target: ({(0, 3): 0.0, (1, 0): 0.0, (1, 2): 0.0, (3, 0): 0.5, (4, 1): 0.5}, 0)\n",
      "Data: {'legal_actions': [(0, 3), (1, 0), (1, 2), (3, 0), (4, 1)]}\n",
      "\n",
      "\n",
      "Number of unique examples: 5559\n"
     ]
    }
   ],
   "source": [
    "k = 2836\n",
    "for i, example in enumerate(examples[k:k+3]):\n",
    "    print(f\"Example {i+1}:\")\n",
    "    print(f\"State: \\n{example.state}\")\n",
    "    print(f\"Target: {example.target}\")\n",
    "    print(f\"Data: {example.data}\")\n",
    "    print(\"\\n\")\n",
    "\n",
    "print(f\"Number of unique examples: {len(examples)}\")"
   ]
  },
  {
   "cell_type": "markdown",
   "metadata": {},
   "source": [
    "Note that the number of unique examples equals $2^{\\#\\text{edges}}$, as expected."
   ]
  },
  {
   "cell_type": "code",
   "execution_count": 6,
   "metadata": {},
   "outputs": [
    {
     "name": "stdout",
     "output_type": "stream",
     "text": [
      "\n",
      "Example 1:\n",
      "Encoded state: tensor([0, 0, 1, 0, 1, 1, 3, 2, 2, 2, 3, 3, 4, 4, 4, 6], device='mps:0')\n",
      "Encoded policy: tensor([0., 0., 0., 0., 0., 0., 0., 1., 0., 0., 0., 0.], device='mps:0')\n",
      "Encoded value: 0.0\n",
      "Encoded legal actions: tensor([1., 1., 0., 1., 0., 0., 0., 1., 1., 1., 0., 0.], device='mps:0')\n",
      "\n",
      "Example 2:\n",
      "Encoded state: tensor([0, 0, 1, 0, 1, 1, 3, 2, 3, 2, 3, 3, 4, 4, 4, 5], device='mps:0')\n",
      "Encoded policy: tensor([0.2000, 0.2000, 0.0000, 0.2000, 0.0000, 0.0000, 0.0000, 0.2000, 0.0000,\n",
      "        0.2000, 0.0000, 0.0000], device='mps:0')\n",
      "Encoded value: 1.0\n",
      "Encoded legal actions: tensor([1., 1., 0., 1., 0., 0., 0., 1., 0., 1., 0., 0.], device='mps:0')\n",
      "\n",
      "Example 3:\n",
      "Encoded state: tensor([0, 0, 1, 0, 1, 1, 3, 3, 2, 2, 3, 3, 4, 4, 4, 6], device='mps:0')\n",
      "Encoded policy: tensor([0.0000, 0.0000, 0.0000, 0.5000, 0.0000, 0.0000, 0.0000, 0.0000, 0.5000,\n",
      "        0.0000, 0.0000, 0.0000], device='mps:0')\n",
      "Encoded value: 0.0\n",
      "Encoded legal actions: tensor([1., 1., 0., 1., 0., 0., 0., 0., 1., 1., 0., 0.], device='mps:0')\n"
     ]
    }
   ],
   "source": [
    "# Test encoding and decoding\n",
    "\n",
    "from applications.dots_and_boxes.encoder import DABSimpleTensorMapping, DABMultiLayerTensorMapping, DABMiddleGroundTensorMapping\n",
    "import torch\n",
    "\n",
    "device = torch.device('mps') # Change to 'cuda' or 'cpu' if needed\n",
    "\n",
    "tensor_mapping = DABMiddleGroundTensorMapping\n",
    "states = tensor_mapping.encode_states([ex.state for ex in examples], device) # type: ignore\n",
    "targets, data = tensor_mapping.encode_examples(examples, device)\n",
    "\n",
    "for i in range(k, k+3):\n",
    "    print(f\"\\nExample {i+1-k}:\")\n",
    "    print(f\"Encoded state: {states[i]}\")\n",
    "    print(f\"Encoded policy: {targets['policy'][i]}\")\n",
    "    print(f\"Encoded value: {targets['value'][i]}\")\n",
    "    print(f\"Encoded legal actions: {data['legal_actions'][i]}\")\n"
   ]
  },
  {
   "cell_type": "code",
   "execution_count": 7,
   "metadata": {},
   "outputs": [
    {
     "name": "stdout",
     "output_type": "stream",
     "text": [
      "Some sample entropies: tensor([2.0794, 2.3979, 2.3979, 2.3979, -0.0000, 2.3979, -0.0000, -0.0000, 2.3979,\n",
      "        -0.0000], device='mps:0')\n",
      "Average entropy: 0.7462002038955688\n",
      "Average entropy of random logits: 2.888861894607544\n"
     ]
    }
   ],
   "source": [
    "# Check entropy of target distribution\n",
    "\n",
    "import torch.nn.functional as F\n",
    "\n",
    "non_zero_policy = torch.where(targets['policy'] > 0, targets['policy'], torch.ones_like(targets['policy']))\n",
    "logits = torch.log(non_zero_policy)\n",
    "entropy = - torch.sum(targets['policy'] * logits, dim=1)\n",
    "\n",
    "print(f\"Some sample entropies: {entropy[:10]}\")\n",
    "print(f\"Average entropy: {entropy.mean()}\")\n",
    "\n",
    "# Compare with entropy of random logits\n",
    "random_logits = torch.randn_like(targets['policy'])\n",
    "random_entropy = F.cross_entropy(random_logits, targets['policy'])\n",
    "\n",
    "print(f\"Average entropy of random logits: {random_entropy}\")"
   ]
  },
  {
   "cell_type": "markdown",
   "metadata": {},
   "source": [
    "For 3 x 2 board, entropy $\\approx 0.93$.\n",
    "For 2 x 2 board, entropy $\\approx 0.7462$.\n",
    "\n",
    "This is useful to know because the entropy is a lower bound on the optimal cross-entropy."
   ]
  },
  {
   "cell_type": "code",
   "execution_count": 8,
   "metadata": {},
   "outputs": [
    {
     "name": "stderr",
     "output_type": "stream",
     "text": [
      "\u001b[34m\u001b[1mwandb\u001b[0m: Currently logged in as: \u001b[33meohjelle\u001b[0m (\u001b[33meigenway\u001b[0m) to \u001b[32mhttps://api.wandb.ai\u001b[0m. Use \u001b[1m`wandb login --relogin`\u001b[0m to force relogin\n",
      "\u001b[34m\u001b[1mwandb\u001b[0m: Using wandb-core as the SDK backend.  Please refer to https://wandb.me/wandb-core for more information.\n"
     ]
    },
    {
     "data": {
      "text/html": [
       "Tracking run with wandb version 0.19.6"
      ],
      "text/plain": [
       "<IPython.core.display.HTML object>"
      ]
     },
     "metadata": {},
     "output_type": "display_data"
    },
    {
     "data": {
      "text/html": [
       "Run data is saved locally in <code>/Users/eohjelle/Documents/2025-dots-and-boxes/dots-and-boxes/wandb/run-20250328_101501-jy83u6p7</code>"
      ],
      "text/plain": [
       "<IPython.core.display.HTML object>"
      ]
     },
     "metadata": {},
     "output_type": "display_data"
    },
    {
     "data": {
      "text/html": [
       "Syncing run <strong><a href='https://wandb.ai/eigenway/AlphaZero-DotsAndBoxes/runs/jy83u6p7' target=\"_blank\">dulcet-spaceship-44</a></strong> to <a href='https://wandb.ai/eigenway/AlphaZero-DotsAndBoxes' target=\"_blank\">Weights & Biases</a> (<a href='https://wandb.me/developer-guide' target=\"_blank\">docs</a>)<br>"
      ],
      "text/plain": [
       "<IPython.core.display.HTML object>"
      ]
     },
     "metadata": {},
     "output_type": "display_data"
    },
    {
     "data": {
      "text/html": [
       " View project at <a href='https://wandb.ai/eigenway/AlphaZero-DotsAndBoxes' target=\"_blank\">https://wandb.ai/eigenway/AlphaZero-DotsAndBoxes</a>"
      ],
      "text/plain": [
       "<IPython.core.display.HTML object>"
      ]
     },
     "metadata": {},
     "output_type": "display_data"
    },
    {
     "data": {
      "text/html": [
       " View run at <a href='https://wandb.ai/eigenway/AlphaZero-DotsAndBoxes/runs/jy83u6p7' target=\"_blank\">https://wandb.ai/eigenway/AlphaZero-DotsAndBoxes/runs/jy83u6p7</a>"
      ],
      "text/plain": [
       "<IPython.core.display.HTML object>"
      ]
     },
     "metadata": {},
     "output_type": "display_data"
    },
    {
     "data": {
      "text/html": [],
      "text/plain": [
       "<IPython.core.display.HTML object>"
      ]
     },
     "metadata": {},
     "output_type": "display_data"
    },
    {
     "data": {
      "text/html": [
       " View run <strong style=\"color:#cdcd00\">dulcet-spaceship-44</strong> at: <a href='https://wandb.ai/eigenway/AlphaZero-DotsAndBoxes/runs/jy83u6p7' target=\"_blank\">https://wandb.ai/eigenway/AlphaZero-DotsAndBoxes/runs/jy83u6p7</a><br> View project at: <a href='https://wandb.ai/eigenway/AlphaZero-DotsAndBoxes' target=\"_blank\">https://wandb.ai/eigenway/AlphaZero-DotsAndBoxes</a><br>Synced 5 W&B file(s), 0 media file(s), 0 artifact file(s) and 0 other file(s)"
      ],
      "text/plain": [
       "<IPython.core.display.HTML object>"
      ]
     },
     "metadata": {},
     "output_type": "display_data"
    },
    {
     "data": {
      "text/html": [
       "Find logs at: <code>./wandb/run-20250328_101501-jy83u6p7/logs</code>"
      ],
      "text/plain": [
       "<IPython.core.display.HTML object>"
      ]
     },
     "metadata": {},
     "output_type": "display_data"
    }
   ],
   "source": [
    "from core.data_structures import ReplayBuffer\n",
    "\n",
    "buffer = ReplayBuffer(max_size=len(examples))\n",
    "buffer.extend(states, targets, data)\n",
    "artifact_name = f'dots_and_boxes_{rows}x{cols}_{tensor_mapping.__name__}_minimax'\n",
    "path = f'applications/dots_and_boxes/training_data/{artifact_name}.pkl'\n",
    "buffer.save(path)\n",
    "buffer.save_to_wandb(\n",
    "    artifact_name=artifact_name,\n",
    "    project='AlphaZero-DotsAndBoxes',\n",
    "    description=f'Training data for dots and boxes with board size {rows}x{cols} and {tensor_mapping.__name__} tensor mapping created by Minimax agent'\n",
    ")"
   ]
  },
  {
   "cell_type": "code",
   "execution_count": 9,
   "metadata": {},
   "outputs": [
    {
     "name": "stderr",
     "output_type": "stream",
     "text": [
      "/Users/eohjelle/Documents/2025-dots-and-boxes/dots-and-boxes/core/data_structures.py:81: FutureWarning: You are using `torch.load` with `weights_only=False` (the current default value), which uses the default pickle module implicitly. It is possible to construct malicious pickle data which will execute arbitrary code during unpickling (See https://github.com/pytorch/pytorch/blob/main/SECURITY.md#untrusted-models for more details). In a future release, the default value for `weights_only` will be flipped to `True`. This limits the functions that could be executed during unpickling. Arbitrary objects will no longer be allowed to be loaded via this mode unless they are explicitly allowlisted by the user via `torch.serialization.add_safe_globals`. We recommend you start setting `weights_only=True` for any use case where you don't have full control of the loaded file. Please open an issue on GitHub for any issues related to this experimental feature.\n",
      "  checkpoint = torch.load(path, map_location=device)\n"
     ]
    }
   ],
   "source": [
    "# Try loading the training data\n",
    "buffer = ReplayBuffer.from_file(path)"
   ]
  }
 ],
 "metadata": {
  "kernelspec": {
   "display_name": "dots-and-boxes",
   "language": "python",
   "name": "python3"
  },
  "language_info": {
   "codemirror_mode": {
    "name": "ipython",
    "version": 3
   },
   "file_extension": ".py",
   "mimetype": "text/x-python",
   "name": "python",
   "nbconvert_exporter": "python",
   "pygments_lexer": "ipython3",
   "version": "3.13.1"
  }
 },
 "nbformat": 4,
 "nbformat_minor": 2
}
