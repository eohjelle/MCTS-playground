{
 "cells": [
  {
   "cell_type": "code",
   "execution_count": 1,
   "metadata": {},
   "outputs": [
    {
     "name": "stdout",
     "output_type": "stream",
     "text": [
      "Working directory: /Users/eohjelle/Documents/2025-dots-and-boxes/dots-and-boxes\n"
     ]
    }
   ],
   "source": [
    "# Change directory to the root of the project\n",
    "import os \n",
    "os.chdir('..')\n",
    "os.chdir('..')\n",
    "os.chdir('..')\n",
    "print(f\"Working directory: {os.getcwd()}\")"
   ]
  },
  {
   "cell_type": "code",
   "execution_count": 2,
   "metadata": {},
   "outputs": [],
   "source": [
    "from applications.dots_and_boxes.NNmodels.MLP import MLPInitParams\n",
    "import torch\n",
    "\n",
    "# Initialize parameters\n",
    "\n",
    "## Model parameters\n",
    "model_type = 'mlp'\n",
    "model_params: MLPInitParams = {\n",
    "    'num_rows': 5,\n",
    "    'num_cols': 5,\n",
    "    'hidden_sizes': [64, 128, 256, 512, 256, 128, 64]\n",
    "}\n",
    "device = torch.device('mps')\n",
    "model_name = 'dots_and_boxes_mlp'\n",
    "\n",
    "## Initialize new model\n",
    "load_model = None\n",
    "load_model_params = {}\n",
    "\n",
    "## Optimizer parameters\n",
    "optimizer_type = 'adam'\n",
    "optimizer_params = {\n",
    "    'lr': 1e-2,\n",
    "    'betas': (0.9, 0.999),\n",
    "    'eps': 1e-8,\n",
    "    'weight_decay': 1e-4,\n",
    "    'amsgrad': False\n",
    "}\n",
    "\n",
    "## Learning scheduler parameters\n",
    "lr_scheduler_type = 'plateau'\n",
    "lr_scheduler_params = {\n",
    "    'factor': 0.5,\n",
    "    'patience': 1000,\n",
    "    'cooldown': 1000,\n",
    "    'min_lr': 1e-4\n",
    "}\n",
    "\n",
    "## Training parameters\n",
    "training_method = 'supervised'\n",
    "trainer_params = {}\n",
    "training_params = {\n",
    "    'epochs': 200,\n",
    "    'batch_size': 256,\n",
    "    'eval_freq': 25,\n",
    "    'checkpoint_freq': 50,\n",
    "    'mask_illegal_moves': False,\n",
    "    'mask_value': -20.0, # Doesn't matter when mask_illegal_moves is False\n",
    "    'checkpoint_dir': 'checkpoints',\n",
    "    'start_at': 1\n",
    "}\n",
    "\n",
    "## Load replay buffer from wandb\n",
    "load_replay_buffer = 'from_file'\n",
    "buffer_type = 'mcts' # used in path name below\n",
    "load_replay_buffer_params = {\n",
    "    'path': f'applications/dots_and_boxes/training_data/dots_and_boxes_{model_params[\"num_rows\"]}x{model_params[\"num_cols\"]}_DABSimpleTensorMapping_{buffer_type}.pkl',\n",
    "    'device': device\n",
    "}\n",
    "# load_replay_buffer_params = {\n",
    "#     'project': 'AlphaZero-DotsAndBoxes',\n",
    "#     'artifact_name': f'dots_and_boxes_{model_params[\"num_rows\"]}x{model_params[\"num_cols\"]}_SimpleTensorMapping_minimax',\n",
    "#     'artifact_version': 'latest'\n",
    "# }\n"
   ]
  },
  {
   "cell_type": "code",
   "execution_count": 3,
   "metadata": {},
   "outputs": [
    {
     "name": "stderr",
     "output_type": "stream",
     "text": [
      "\u001b[34m\u001b[1mwandb\u001b[0m: Currently logged in as: \u001b[33meohjelle\u001b[0m (\u001b[33meigenway\u001b[0m) to \u001b[32mhttps://api.wandb.ai\u001b[0m. Use \u001b[1m`wandb login --relogin`\u001b[0m to force relogin\n",
      "\u001b[34m\u001b[1mwandb\u001b[0m: Using wandb-core as the SDK backend.  Please refer to https://wandb.me/wandb-core for more information.\n"
     ]
    },
    {
     "data": {
      "text/html": [
       "Tracking run with wandb version 0.19.6"
      ],
      "text/plain": [
       "<IPython.core.display.HTML object>"
      ]
     },
     "metadata": {},
     "output_type": "display_data"
    },
    {
     "data": {
      "text/html": [
       "Run data is saved locally in <code>/Users/eohjelle/Documents/2025-dots-and-boxes/dots-and-boxes/wandb/run-20250320_214529-l1do2sz4</code>"
      ],
      "text/plain": [
       "<IPython.core.display.HTML object>"
      ]
     },
     "metadata": {},
     "output_type": "display_data"
    },
    {
     "data": {
      "text/html": [
       "Syncing run <strong><a href='https://wandb.ai/eigenway/AlphaZero-DotsAndBoxes/runs/l1do2sz4' target=\"_blank\">MLP 7</a></strong> to <a href='https://wandb.ai/eigenway/AlphaZero-DotsAndBoxes' target=\"_blank\">Weights & Biases</a> (<a href='https://wandb.me/developer-guide' target=\"_blank\">docs</a>)<br>"
      ],
      "text/plain": [
       "<IPython.core.display.HTML object>"
      ]
     },
     "metadata": {},
     "output_type": "display_data"
    },
    {
     "data": {
      "text/html": [
       " View project at <a href='https://wandb.ai/eigenway/AlphaZero-DotsAndBoxes' target=\"_blank\">https://wandb.ai/eigenway/AlphaZero-DotsAndBoxes</a>"
      ],
      "text/plain": [
       "<IPython.core.display.HTML object>"
      ]
     },
     "metadata": {},
     "output_type": "display_data"
    },
    {
     "data": {
      "text/html": [
       " View run at <a href='https://wandb.ai/eigenway/AlphaZero-DotsAndBoxes/runs/l1do2sz4' target=\"_blank\">https://wandb.ai/eigenway/AlphaZero-DotsAndBoxes/runs/l1do2sz4</a>"
      ],
      "text/plain": [
       "<IPython.core.display.HTML object>"
      ]
     },
     "metadata": {},
     "output_type": "display_data"
    }
   ],
   "source": [
    "# Initialize wandb run\n",
    "import wandb\n",
    "\n",
    "run_name = 'MLP 7'\n",
    "notes = 'Larger than v6.'\n",
    "\n",
    "config = {\n",
    "    'model_type': model_type,\n",
    "    'model_params': model_params,\n",
    "    'optimizer_type': optimizer_type,\n",
    "    'optimizer_params': optimizer_params,\n",
    "    'lr_scheduler_type': lr_scheduler_type,\n",
    "    'lr_scheduler_params': lr_scheduler_params,\n",
    "    'training_method': training_method,\n",
    "    'trainer_params': trainer_params,\n",
    "    'training_params': training_params\n",
    "}\n",
    "\n",
    "run = wandb.init(\n",
    "    project='AlphaZero-DotsAndBoxes',\n",
    "    name=run_name,\n",
    "    config=config,\n",
    "    notes=notes,\n",
    "    group=f'{training_method} training on {model_params[\"num_rows\"]}x{model_params[\"num_cols\"]} board'\n",
    ")\n",
    "# run = None"
   ]
  },
  {
   "cell_type": "code",
   "execution_count": 4,
   "metadata": {},
   "outputs": [
    {
     "name": "stderr",
     "output_type": "stream",
     "text": [
      "\u001b[34m\u001b[1mwandb\u001b[0m: logging graph, to disable use `wandb.watch(log_graph=False)`\n",
      "/Users/eohjelle/Documents/2025-dots-and-boxes/dots-and-boxes/core/data_structures.py:81: FutureWarning: You are using `torch.load` with `weights_only=False` (the current default value), which uses the default pickle module implicitly. It is possible to construct malicious pickle data which will execute arbitrary code during unpickling (See https://github.com/pytorch/pytorch/blob/main/SECURITY.md#untrusted-models for more details). In a future release, the default value for `weights_only` will be flipped to `True`. This limits the functions that could be executed during unpickling. Arbitrary objects will no longer be allowed to be loaded via this mode unless they are explicitly allowlisted by the user via `torch.serialization.add_safe_globals`. We recommend you start setting `weights_only=True` for any use case where you don't have full control of the loaded file. Please open an issue on GitHub for any issues related to this experimental feature.\n",
      "  checkpoint = torch.load(path, map_location=device)\n"
     ]
    },
    {
     "name": "stdout",
     "output_type": "stream",
     "text": [
      "Epoch 1/200, Train Loss: 3.9028, Val Loss: 3.5593, Learning rate: 0.010000\n",
      "Epoch 2/200, Train Loss: 3.3662, Val Loss: 3.3097, Learning rate: 0.010000\n",
      "Epoch 3/200, Train Loss: 3.7432, Val Loss: 4.3139, Learning rate: 0.010000\n",
      "Epoch 4/200, Train Loss: 4.2698, Val Loss: 4.2166, Learning rate: 0.010000\n",
      "Epoch 5/200, Train Loss: 4.1739, Val Loss: 4.1481, Learning rate: 0.010000\n",
      "Epoch 6/200, Train Loss: 4.1185, Val Loss: 4.0677, Learning rate: 0.010000\n",
      "Epoch 7/200, Train Loss: 3.9715, Val Loss: 3.9486, Learning rate: 0.010000\n",
      "Epoch 8/200, Train Loss: 3.8526, Val Loss: 3.8522, Learning rate: 0.010000\n",
      "Epoch 9/200, Train Loss: 3.7748, Val Loss: 3.7888, Learning rate: 0.010000\n",
      "Epoch 10/200, Train Loss: 3.7289, Val Loss: 3.7607, Learning rate: 0.010000\n",
      "Epoch 11/200, Train Loss: 3.6711, Val Loss: 3.7090, Learning rate: 0.010000\n",
      "Epoch 12/200, Train Loss: 3.6064, Val Loss: 3.6481, Learning rate: 0.010000\n",
      "Epoch 13/200, Train Loss: 3.5498, Val Loss: 3.6176, Learning rate: 0.010000\n",
      "Epoch 14/200, Train Loss: 3.4497, Val Loss: 3.4802, Learning rate: 0.005000\n",
      "Epoch 15/200, Train Loss: 3.3873, Val Loss: 3.4420, Learning rate: 0.005000\n",
      "Epoch 16/200, Train Loss: 3.3370, Val Loss: 3.3919, Learning rate: 0.005000\n",
      "Epoch 17/200, Train Loss: 3.2999, Val Loss: 3.3620, Learning rate: 0.005000\n",
      "Epoch 18/200, Train Loss: 3.2602, Val Loss: 3.3316, Learning rate: 0.005000\n",
      "Epoch 19/200, Train Loss: 3.2285, Val Loss: 3.2927, Learning rate: 0.005000\n",
      "Epoch 20/200, Train Loss: 3.1900, Val Loss: 3.2570, Learning rate: 0.005000\n",
      "Epoch 21/200, Train Loss: 3.1555, Val Loss: 3.2431, Learning rate: 0.005000\n",
      "Epoch 22/200, Train Loss: 3.1472, Val Loss: 3.2332, Learning rate: 0.005000\n",
      "Epoch 23/200, Train Loss: 3.1253, Val Loss: 3.1981, Learning rate: 0.005000\n",
      "Epoch 24/200, Train Loss: 3.0834, Val Loss: 3.1762, Learning rate: 0.005000\n",
      "Epoch 25/200, Train Loss: 3.0708, Val Loss: 3.1753, Learning rate: 0.005000\n",
      "RandomAgent score: 0.08000000000000002\n",
      "Epoch 26/200, Train Loss: 3.0617, Val Loss: 3.1634, Learning rate: 0.005000\n",
      "Epoch 27/200, Train Loss: 3.0441, Val Loss: 3.1481, Learning rate: 0.005000\n",
      "Epoch 28/200, Train Loss: 3.0372, Val Loss: 3.1554, Learning rate: 0.005000\n",
      "Epoch 29/200, Train Loss: 3.0116, Val Loss: 3.1352, Learning rate: 0.005000\n",
      "Epoch 30/200, Train Loss: 2.9932, Val Loss: 3.1375, Learning rate: 0.005000\n",
      "Epoch 31/200, Train Loss: 2.9937, Val Loss: 3.1027, Learning rate: 0.005000\n",
      "Epoch 32/200, Train Loss: 2.9577, Val Loss: 3.1390, Learning rate: 0.005000\n",
      "Epoch 33/200, Train Loss: 2.9900, Val Loss: 3.1033, Learning rate: 0.005000\n",
      "Epoch 34/200, Train Loss: 2.9612, Val Loss: 3.0898, Learning rate: 0.005000\n",
      "Epoch 35/200, Train Loss: 2.9481, Val Loss: 3.0815, Learning rate: 0.005000\n",
      "Epoch 36/200, Train Loss: 2.9532, Val Loss: 3.1072, Learning rate: 0.005000\n",
      "Epoch 37/200, Train Loss: 2.9536, Val Loss: 3.0745, Learning rate: 0.005000\n",
      "Epoch 38/200, Train Loss: 2.9253, Val Loss: 3.0450, Learning rate: 0.005000\n",
      "Epoch 39/200, Train Loss: 2.9212, Val Loss: 3.0524, Learning rate: 0.005000\n",
      "Epoch 40/200, Train Loss: 2.9175, Val Loss: 3.0445, Learning rate: 0.005000\n",
      "Epoch 41/200, Train Loss: 2.9191, Val Loss: 3.0566, Learning rate: 0.005000\n",
      "Epoch 42/200, Train Loss: 2.9433, Val Loss: 3.0495, Learning rate: 0.005000\n",
      "Epoch 43/200, Train Loss: 2.9019, Val Loss: 3.0448, Learning rate: 0.005000\n",
      "Epoch 44/200, Train Loss: 2.9064, Val Loss: 3.0387, Learning rate: 0.005000\n",
      "Epoch 45/200, Train Loss: 2.9185, Val Loss: 3.0113, Learning rate: 0.005000\n",
      "Epoch 46/200, Train Loss: 2.8754, Val Loss: 3.0395, Learning rate: 0.005000\n",
      "Epoch 47/200, Train Loss: 2.8677, Val Loss: 2.9989, Learning rate: 0.005000\n",
      "Epoch 48/200, Train Loss: 2.8614, Val Loss: 3.0232, Learning rate: 0.005000\n",
      "Epoch 49/200, Train Loss: 2.8466, Val Loss: 2.9761, Learning rate: 0.005000\n",
      "Epoch 50/200, Train Loss: 2.8471, Val Loss: 2.9853, Learning rate: 0.005000\n",
      "RandomAgent score: -0.06000000000000005\n",
      "Epoch 51/200, Train Loss: 2.8603, Val Loss: 2.9847, Learning rate: 0.005000\n",
      "Epoch 52/200, Train Loss: 2.8343, Val Loss: 2.9747, Learning rate: 0.005000\n",
      "Epoch 53/200, Train Loss: 2.8394, Val Loss: 2.9857, Learning rate: 0.005000\n",
      "Epoch 54/200, Train Loss: 2.8342, Val Loss: 2.9879, Learning rate: 0.005000\n",
      "Epoch 55/200, Train Loss: 2.8561, Val Loss: 2.9886, Learning rate: 0.005000\n",
      "Epoch 56/200, Train Loss: 2.8280, Val Loss: 2.9491, Learning rate: 0.005000\n",
      "Epoch 57/200, Train Loss: 2.8252, Val Loss: 2.9714, Learning rate: 0.005000\n",
      "Epoch 58/200, Train Loss: 2.8418, Val Loss: 3.0193, Learning rate: 0.005000\n",
      "Epoch 59/200, Train Loss: 2.8595, Val Loss: 3.0595, Learning rate: 0.005000\n",
      "Epoch 60/200, Train Loss: 2.8466, Val Loss: 2.9487, Learning rate: 0.005000\n",
      "Epoch 61/200, Train Loss: 2.8065, Val Loss: 2.9485, Learning rate: 0.005000\n",
      "Epoch 62/200, Train Loss: 2.8129, Val Loss: 2.9549, Learning rate: 0.005000\n",
      "Epoch 63/200, Train Loss: 2.7817, Val Loss: 2.8963, Learning rate: 0.005000\n",
      "Epoch 64/200, Train Loss: 2.7819, Val Loss: 2.9374, Learning rate: 0.005000\n",
      "Epoch 65/200, Train Loss: 2.7905, Val Loss: 2.8985, Learning rate: 0.005000\n",
      "Epoch 66/200, Train Loss: 2.8026, Val Loss: 2.9213, Learning rate: 0.005000\n",
      "Epoch 67/200, Train Loss: 2.7893, Val Loss: 2.8939, Learning rate: 0.005000\n",
      "Epoch 68/200, Train Loss: 2.7701, Val Loss: 2.8930, Learning rate: 0.005000\n",
      "Epoch 69/200, Train Loss: 2.7671, Val Loss: 2.9052, Learning rate: 0.005000\n",
      "Epoch 70/200, Train Loss: 2.7679, Val Loss: 2.8885, Learning rate: 0.005000\n",
      "Epoch 71/200, Train Loss: 2.7693, Val Loss: 2.8998, Learning rate: 0.005000\n",
      "Epoch 72/200, Train Loss: 2.7759, Val Loss: 2.9238, Learning rate: 0.005000\n",
      "Epoch 73/200, Train Loss: 2.7816, Val Loss: 2.9260, Learning rate: 0.005000\n",
      "Epoch 74/200, Train Loss: 2.7771, Val Loss: 2.8601, Learning rate: 0.005000\n",
      "Epoch 75/200, Train Loss: 2.7359, Val Loss: 2.8853, Learning rate: 0.005000\n",
      "RandomAgent score: 0.15999999999999998\n",
      "Epoch 76/200, Train Loss: 2.7632, Val Loss: 2.8907, Learning rate: 0.005000\n",
      "Epoch 77/200, Train Loss: 2.7590, Val Loss: 2.8708, Learning rate: 0.005000\n",
      "Epoch 78/200, Train Loss: 2.7588, Val Loss: 2.9719, Learning rate: 0.005000\n",
      "Epoch 79/200, Train Loss: 2.7885, Val Loss: 2.8876, Learning rate: 0.005000\n",
      "Epoch 80/200, Train Loss: 2.7444, Val Loss: 2.9381, Learning rate: 0.005000\n",
      "Epoch 81/200, Train Loss: 2.7874, Val Loss: 2.8823, Learning rate: 0.005000\n",
      "Epoch 82/200, Train Loss: 2.7339, Val Loss: 2.8404, Learning rate: 0.005000\n",
      "Epoch 83/200, Train Loss: 2.7162, Val Loss: 2.8888, Learning rate: 0.005000\n",
      "Epoch 84/200, Train Loss: 2.7434, Val Loss: 2.8921, Learning rate: 0.005000\n",
      "Epoch 85/200, Train Loss: 2.7530, Val Loss: 2.8885, Learning rate: 0.005000\n",
      "Epoch 86/200, Train Loss: 2.7429, Val Loss: 2.9334, Learning rate: 0.005000\n",
      "Epoch 87/200, Train Loss: 2.7483, Val Loss: 2.8567, Learning rate: 0.005000\n",
      "Epoch 88/200, Train Loss: 2.7196, Val Loss: 2.8713, Learning rate: 0.005000\n",
      "Epoch 89/200, Train Loss: 2.7283, Val Loss: 2.9067, Learning rate: 0.005000\n",
      "Epoch 90/200, Train Loss: 2.7381, Val Loss: 2.9213, Learning rate: 0.005000\n",
      "Epoch 91/200, Train Loss: 2.7389, Val Loss: 2.8503, Learning rate: 0.005000\n",
      "Epoch 92/200, Train Loss: 2.7153, Val Loss: 2.8286, Learning rate: 0.005000\n",
      "Epoch 93/200, Train Loss: 2.7041, Val Loss: 2.8690, Learning rate: 0.005000\n",
      "Epoch 94/200, Train Loss: 2.7094, Val Loss: 2.8677, Learning rate: 0.005000\n",
      "Epoch 95/200, Train Loss: 2.7160, Val Loss: 2.8486, Learning rate: 0.005000\n",
      "Epoch 96/200, Train Loss: 2.7129, Val Loss: 2.9176, Learning rate: 0.005000\n",
      "Epoch 97/200, Train Loss: 2.7448, Val Loss: 2.8524, Learning rate: 0.005000\n",
      "Epoch 98/200, Train Loss: 2.7074, Val Loss: 2.8506, Learning rate: 0.005000\n",
      "Epoch 99/200, Train Loss: 2.6949, Val Loss: 2.8190, Learning rate: 0.005000\n",
      "Epoch 100/200, Train Loss: 2.6705, Val Loss: 2.8321, Learning rate: 0.005000\n",
      "RandomAgent score: 0.08000000000000002\n",
      "Epoch 101/200, Train Loss: 2.6865, Val Loss: 2.9595, Learning rate: 0.005000\n",
      "Epoch 102/200, Train Loss: 2.7702, Val Loss: 2.8618, Learning rate: 0.005000\n",
      "Epoch 103/200, Train Loss: 2.6974, Val Loss: 2.8799, Learning rate: 0.005000\n",
      "Epoch 104/200, Train Loss: 2.6839, Val Loss: 2.8031, Learning rate: 0.005000\n",
      "Epoch 105/200, Train Loss: 2.6681, Val Loss: 2.8210, Learning rate: 0.005000\n",
      "Epoch 106/200, Train Loss: 2.6573, Val Loss: 2.9231, Learning rate: 0.005000\n",
      "Epoch 107/200, Train Loss: 2.7497, Val Loss: 2.8399, Learning rate: 0.005000\n",
      "Epoch 108/200, Train Loss: 2.7106, Val Loss: 2.8605, Learning rate: 0.005000\n",
      "Epoch 109/200, Train Loss: 2.7078, Val Loss: 2.8706, Learning rate: 0.005000\n",
      "Epoch 110/200, Train Loss: 2.6943, Val Loss: 2.8225, Learning rate: 0.005000\n",
      "Epoch 111/200, Train Loss: 2.6704, Val Loss: 2.7793, Learning rate: 0.005000\n",
      "Epoch 112/200, Train Loss: 2.6597, Val Loss: 2.7964, Learning rate: 0.005000\n",
      "Epoch 113/200, Train Loss: 2.6633, Val Loss: 2.8630, Learning rate: 0.005000\n",
      "Epoch 114/200, Train Loss: 2.7266, Val Loss: 2.8756, Learning rate: 0.005000\n",
      "Epoch 115/200, Train Loss: 2.7228, Val Loss: 2.8789, Learning rate: 0.005000\n",
      "Epoch 116/200, Train Loss: 2.7505, Val Loss: 2.8273, Learning rate: 0.005000\n",
      "Epoch 117/200, Train Loss: 2.6979, Val Loss: 2.8261, Learning rate: 0.005000\n",
      "Epoch 118/200, Train Loss: 2.6319, Val Loss: 2.7412, Learning rate: 0.002500\n",
      "Epoch 119/200, Train Loss: 2.5903, Val Loss: 2.7261, Learning rate: 0.002500\n",
      "Epoch 120/200, Train Loss: 2.5726, Val Loss: 2.7192, Learning rate: 0.002500\n",
      "Epoch 121/200, Train Loss: 2.5644, Val Loss: 2.7215, Learning rate: 0.002500\n",
      "Epoch 122/200, Train Loss: 2.5676, Val Loss: 2.7288, Learning rate: 0.002500\n",
      "Epoch 123/200, Train Loss: 2.5741, Val Loss: 2.7177, Learning rate: 0.002500\n",
      "Epoch 124/200, Train Loss: 2.5646, Val Loss: 2.7231, Learning rate: 0.002500\n",
      "Epoch 125/200, Train Loss: 2.5811, Val Loss: 2.7391, Learning rate: 0.002500\n",
      "RandomAgent score: -0.020000000000000018\n",
      "Epoch 126/200, Train Loss: 2.5679, Val Loss: 2.7299, Learning rate: 0.002500\n",
      "Epoch 127/200, Train Loss: 2.5643, Val Loss: 2.7203, Learning rate: 0.002500\n",
      "Epoch 128/200, Train Loss: 2.5633, Val Loss: 2.7224, Learning rate: 0.002500\n",
      "Epoch 129/200, Train Loss: 2.5556, Val Loss: 2.7220, Learning rate: 0.002500\n",
      "Epoch 130/200, Train Loss: 2.5532, Val Loss: 2.7252, Learning rate: 0.002500\n",
      "Epoch 131/200, Train Loss: 2.5559, Val Loss: 2.7233, Learning rate: 0.002500\n",
      "Epoch 132/200, Train Loss: 2.5615, Val Loss: 2.7172, Learning rate: 0.002500\n",
      "Epoch 133/200, Train Loss: 2.5505, Val Loss: 2.7196, Learning rate: 0.002500\n",
      "Epoch 134/200, Train Loss: 2.5591, Val Loss: 2.7253, Learning rate: 0.002500\n",
      "Epoch 135/200, Train Loss: 2.5683, Val Loss: 2.7571, Learning rate: 0.002500\n",
      "Epoch 136/200, Train Loss: 2.5796, Val Loss: 2.7511, Learning rate: 0.002500\n",
      "Epoch 137/200, Train Loss: 2.5625, Val Loss: 2.7207, Learning rate: 0.002500\n",
      "Epoch 138/200, Train Loss: 2.5467, Val Loss: 2.7804, Learning rate: 0.002500\n",
      "Epoch 139/200, Train Loss: 2.6060, Val Loss: 2.7306, Learning rate: 0.002500\n",
      "Epoch 140/200, Train Loss: 2.5839, Val Loss: 2.7258, Learning rate: 0.002500\n",
      "Epoch 141/200, Train Loss: 2.5599, Val Loss: 2.7206, Learning rate: 0.002500\n",
      "Epoch 142/200, Train Loss: 2.5487, Val Loss: 2.7173, Learning rate: 0.002500\n",
      "Epoch 143/200, Train Loss: 2.5512, Val Loss: 2.7034, Learning rate: 0.002500\n",
      "Epoch 144/200, Train Loss: 2.5438, Val Loss: 2.7261, Learning rate: 0.002500\n",
      "Epoch 145/200, Train Loss: 2.5493, Val Loss: 2.7023, Learning rate: 0.002500\n",
      "Epoch 146/200, Train Loss: 2.5419, Val Loss: 2.7151, Learning rate: 0.002500\n",
      "Epoch 147/200, Train Loss: 2.5406, Val Loss: 2.7269, Learning rate: 0.002500\n",
      "Epoch 148/200, Train Loss: 2.5699, Val Loss: 2.7286, Learning rate: 0.002500\n",
      "Epoch 149/200, Train Loss: 2.5551, Val Loss: 2.7153, Learning rate: 0.002500\n",
      "Epoch 150/200, Train Loss: 2.5488, Val Loss: 2.7243, Learning rate: 0.002500\n",
      "RandomAgent score: 0.12000000000000005\n",
      "Epoch 151/200, Train Loss: 2.5604, Val Loss: 2.7376, Learning rate: 0.002500\n",
      "Epoch 152/200, Train Loss: 2.5469, Val Loss: 2.7061, Learning rate: 0.002500\n",
      "Epoch 153/200, Train Loss: 2.5449, Val Loss: 2.7185, Learning rate: 0.002500\n",
      "Epoch 154/200, Train Loss: 2.5444, Val Loss: 2.7273, Learning rate: 0.002500\n",
      "Epoch 155/200, Train Loss: 2.5525, Val Loss: 2.7204, Learning rate: 0.002500\n",
      "Epoch 156/200, Train Loss: 2.5378, Val Loss: 2.7241, Learning rate: 0.002500\n",
      "Epoch 157/200, Train Loss: 2.5733, Val Loss: 2.7282, Learning rate: 0.002500\n",
      "Epoch 158/200, Train Loss: 2.5542, Val Loss: 2.7147, Learning rate: 0.002500\n",
      "Epoch 159/200, Train Loss: 2.5369, Val Loss: 2.7183, Learning rate: 0.002500\n",
      "Epoch 160/200, Train Loss: 2.5446, Val Loss: 2.7166, Learning rate: 0.002500\n",
      "Epoch 161/200, Train Loss: 2.5443, Val Loss: 2.7227, Learning rate: 0.002500\n",
      "Epoch 162/200, Train Loss: 2.5489, Val Loss: 2.7127, Learning rate: 0.002500\n",
      "Epoch 163/200, Train Loss: 2.5501, Val Loss: 2.7117, Learning rate: 0.002500\n",
      "Epoch 164/200, Train Loss: 2.5338, Val Loss: 2.7183, Learning rate: 0.002500\n",
      "Epoch 165/200, Train Loss: 2.5414, Val Loss: 2.7258, Learning rate: 0.002500\n",
      "Epoch 166/200, Train Loss: 2.5315, Val Loss: 2.7277, Learning rate: 0.002500\n",
      "Epoch 167/200, Train Loss: 2.5395, Val Loss: 2.7143, Learning rate: 0.002500\n",
      "Epoch 168/200, Train Loss: 2.5345, Val Loss: 2.7268, Learning rate: 0.002500\n",
      "Epoch 169/200, Train Loss: 2.5545, Val Loss: 2.7163, Learning rate: 0.002500\n",
      "Epoch 170/200, Train Loss: 2.5645, Val Loss: 2.7248, Learning rate: 0.002500\n",
      "Epoch 171/200, Train Loss: 2.5829, Val Loss: 2.7421, Learning rate: 0.002500\n",
      "Epoch 172/200, Train Loss: 2.5508, Val Loss: 2.7207, Learning rate: 0.002500\n",
      "Epoch 173/200, Train Loss: 2.5355, Val Loss: 2.6985, Learning rate: 0.002500\n",
      "Epoch 174/200, Train Loss: 2.5420, Val Loss: 2.7219, Learning rate: 0.002500\n",
      "Epoch 175/200, Train Loss: 2.5439, Val Loss: 2.7137, Learning rate: 0.002500\n",
      "RandomAgent score: -0.020000000000000018\n",
      "Epoch 176/200, Train Loss: 2.5462, Val Loss: 2.7223, Learning rate: 0.002500\n",
      "Epoch 177/200, Train Loss: 2.5442, Val Loss: 2.7296, Learning rate: 0.002500\n",
      "Epoch 178/200, Train Loss: 2.5134, Val Loss: 2.6812, Learning rate: 0.001250\n",
      "Epoch 179/200, Train Loss: 2.4898, Val Loss: 2.6736, Learning rate: 0.001250\n",
      "Epoch 180/200, Train Loss: 2.4852, Val Loss: 2.6739, Learning rate: 0.001250\n",
      "Epoch 181/200, Train Loss: 2.4788, Val Loss: 2.6729, Learning rate: 0.001250\n",
      "Epoch 182/200, Train Loss: 2.4841, Val Loss: 2.6836, Learning rate: 0.001250\n",
      "Epoch 183/200, Train Loss: 2.4820, Val Loss: 2.6794, Learning rate: 0.001250\n",
      "Epoch 184/200, Train Loss: 2.4883, Val Loss: 2.6747, Learning rate: 0.001250\n",
      "Epoch 185/200, Train Loss: 2.4814, Val Loss: 2.6786, Learning rate: 0.001250\n",
      "Epoch 186/200, Train Loss: 2.4728, Val Loss: 2.6780, Learning rate: 0.001250\n",
      "Epoch 187/200, Train Loss: 2.4749, Val Loss: 2.6752, Learning rate: 0.001250\n",
      "Epoch 188/200, Train Loss: 2.4795, Val Loss: 2.6801, Learning rate: 0.001250\n",
      "Epoch 189/200, Train Loss: 2.4718, Val Loss: 2.6874, Learning rate: 0.001250\n",
      "Epoch 190/200, Train Loss: 2.4750, Val Loss: 2.6798, Learning rate: 0.001250\n",
      "Epoch 191/200, Train Loss: 2.4726, Val Loss: 2.6804, Learning rate: 0.001250\n",
      "Epoch 192/200, Train Loss: 2.4696, Val Loss: 2.6842, Learning rate: 0.001250\n",
      "Epoch 193/200, Train Loss: 2.4688, Val Loss: 2.6795, Learning rate: 0.001250\n",
      "Epoch 194/200, Train Loss: 2.4744, Val Loss: 2.6835, Learning rate: 0.001250\n",
      "Epoch 195/200, Train Loss: 2.4760, Val Loss: 2.6875, Learning rate: 0.001250\n",
      "Epoch 196/200, Train Loss: 2.4651, Val Loss: 2.6875, Learning rate: 0.001250\n",
      "Epoch 197/200, Train Loss: 2.4803, Val Loss: 2.6830, Learning rate: 0.001250\n",
      "Epoch 198/200, Train Loss: 2.4730, Val Loss: 2.6858, Learning rate: 0.001250\n",
      "Epoch 199/200, Train Loss: 2.4629, Val Loss: 2.6845, Learning rate: 0.001250\n",
      "Epoch 200/200, Train Loss: 2.4734, Val Loss: 2.7057, Learning rate: 0.001250\n",
      "RandomAgent score: 0.06000000000000005\n",
      "Training complete.\n",
      "Best val_loss: 1.1282\n",
      "Final val_loss: 2.7057\n"
     ]
    }
   ],
   "source": [
    "# Perform training\n",
    "\n",
    "from applications.dots_and_boxes.train import train\n",
    "\n",
    "model_interface = train(\n",
    "    num_rows = model_params[\"num_rows\"],\n",
    "    num_cols = model_params[\"num_cols\"],\n",
    "    model_type=model_type,\n",
    "    model_params=model_params,\n",
    "    device=device,\n",
    "    model_name=model_name,\n",
    "    optimizer_type=optimizer_type,\n",
    "    optimizer_params=optimizer_params,\n",
    "    lr_scheduler_type=lr_scheduler_type,\n",
    "    lr_scheduler_params=lr_scheduler_params,\n",
    "    training_method=training_method,\n",
    "    trainer_params=trainer_params,\n",
    "    training_params=training_params,\n",
    "    load_model=load_model,\n",
    "    load_model_params=load_model_params,\n",
    "    load_replay_buffer=load_replay_buffer,\n",
    "    load_replay_buffer_params=load_replay_buffer_params,\n",
    "    wandb_run=run\n",
    ")"
   ]
  },
  {
   "cell_type": "code",
   "execution_count": 5,
   "metadata": {},
   "outputs": [
    {
     "data": {
      "text/html": [],
      "text/plain": [
       "<IPython.core.display.HTML object>"
      ]
     },
     "metadata": {},
     "output_type": "display_data"
    },
    {
     "data": {
      "text/html": [
       "<br>    <style><br>        .wandb-row {<br>            display: flex;<br>            flex-direction: row;<br>            flex-wrap: wrap;<br>            justify-content: flex-start;<br>            width: 100%;<br>        }<br>        .wandb-col {<br>            display: flex;<br>            flex-direction: column;<br>            flex-basis: 100%;<br>            flex: 1;<br>            padding: 10px;<br>        }<br>    </style><br><div class=\"wandb-row\"><div class=\"wandb-col\"><h3>Run history:</h3><br/><table class=\"wandb\"><tr><td>RandomAgent_draw_rate</td><td>▁▁▁▁▁▁▁▁</td></tr><tr><td>RandomAgent_loss_rate</td><td>▄█▁▄▇▂▇▄</td></tr><tr><td>RandomAgent_score</td><td>▅▁█▅▂▇▂▅</td></tr><tr><td>RandomAgent_win_rate</td><td>▅▁█▅▂▇▂▅</td></tr><tr><td>epoch</td><td>▁▁▁▁▁▂▂▂▂▂▃▃▃▃▄▄▄▄▄▄▅▅▅▅▆▆▆▆▆▇▇▇▇▇██████</td></tr><tr><td>learning_rate</td><td>█████▄▄▄▄▄▄▄▄▄▄▄▄▄▄▄▄▄▄▄▄▂▂▂▂▂▂▂▁▁▁▁▁▁▁▁</td></tr><tr><td>train_loss</td><td>█▆▆▅▄▄▄▃▃▃▂▂▂▂▂▂▂▂▂▂▂▂▁▁▂▁▁▁▁▁▁▁▁▁▁▁▁▁▁▁</td></tr><tr><td>train_policy_loss</td><td>██▆▄▄▄▃▃▃▃▃▃▃▃▂▃▂▃▂▂▂▂▂▂▂▂▂▁▂▁▁▁▁▁▁▁▁▁▁▁</td></tr><tr><td>train_value_loss</td><td>█▆▅▅▄▄▄▄▃▄▃▃▃▃▃▃▃▃▃▃▃▃▃▃▂▂▂▂▂▂▁▁▂▁▂▂▁▁▁▁</td></tr><tr><td>val_loss</td><td>▅█▇▇▆▄▄▄▃▃▃▃▃▃▂▂▂▂▂▃▃▂▂▁▁▁▁▁▁▁▁▁▁▁▁▁▁▁▁▁</td></tr><tr><td>val_policy_loss</td><td>█▆▆▅▄▃▃▂▂▂▂▂▂▂▂▂▂▂▂▂▂▂▂▂▁▁▁▁▁▁▁▁▁▁▁▁▁▁▁▁</td></tr><tr><td>val_value_loss</td><td>▇▅▄▅▃▆▅▅▄▄▇█▅▁▂▄▅▂█▃▁▂▂▃▁▂▁▂▃▁▁▁▂▃▂▂▃▂▂▂</td></tr></table><br/></div><div class=\"wandb-col\"><h3>Run summary:</h3><br/><table class=\"wandb\"><tr><td>RandomAgent_draw_rate</td><td>0</td></tr><tr><td>RandomAgent_loss_rate</td><td>0.47</td></tr><tr><td>RandomAgent_score</td><td>0.06</td></tr><tr><td>RandomAgent_win_rate</td><td>0.53</td></tr><tr><td>epoch</td><td>200</td></tr><tr><td>learning_rate</td><td>0.00125</td></tr><tr><td>train_loss</td><td>2.4734</td></tr><tr><td>train_policy_loss</td><td>2.42338</td></tr><tr><td>train_value_loss</td><td>0.05002</td></tr><tr><td>val_loss</td><td>2.70571</td></tr><tr><td>val_policy_loss</td><td>2.53902</td></tr><tr><td>val_value_loss</td><td>0.16669</td></tr></table><br/></div></div>"
      ],
      "text/plain": [
       "<IPython.core.display.HTML object>"
      ]
     },
     "metadata": {},
     "output_type": "display_data"
    },
    {
     "data": {
      "text/html": [
       " View run <strong style=\"color:#cdcd00\">MLP 7</strong> at: <a href='https://wandb.ai/eigenway/AlphaZero-DotsAndBoxes/runs/l1do2sz4' target=\"_blank\">https://wandb.ai/eigenway/AlphaZero-DotsAndBoxes/runs/l1do2sz4</a><br> View project at: <a href='https://wandb.ai/eigenway/AlphaZero-DotsAndBoxes' target=\"_blank\">https://wandb.ai/eigenway/AlphaZero-DotsAndBoxes</a><br>Synced 5 W&B file(s), 1 media file(s), 8 artifact file(s) and 0 other file(s)"
      ],
      "text/plain": [
       "<IPython.core.display.HTML object>"
      ]
     },
     "metadata": {},
     "output_type": "display_data"
    },
    {
     "data": {
      "text/html": [
       "Find logs at: <code>./wandb/run-20250320_214529-l1do2sz4/logs</code>"
      ],
      "text/plain": [
       "<IPython.core.display.HTML object>"
      ]
     },
     "metadata": {},
     "output_type": "display_data"
    }
   ],
   "source": [
    "run.finish()"
   ]
  },
  {
   "cell_type": "code",
   "execution_count": 6,
   "metadata": {},
   "outputs": [
    {
     "name": "stdout",
     "output_type": "stream",
     "text": [
      "Total parameters: 356,085\n",
      "Trainable parameters: 356,085 (100.00%)\n",
      "Non-trainable parameters: 0 (0.00%)\n",
      "\n",
      "Parameters by layer:\n",
      "layers.0.norm.weight: 60 parameters\n",
      "layers.0.norm.bias: 60 parameters\n",
      "layers.0.linear.weight: 3,840 parameters\n",
      "layers.0.linear.bias: 64 parameters\n",
      "layers.1.norm.weight: 64 parameters\n",
      "layers.1.norm.bias: 64 parameters\n",
      "layers.1.linear.weight: 8,192 parameters\n",
      "layers.1.linear.bias: 128 parameters\n",
      "layers.2.norm.weight: 128 parameters\n",
      "layers.2.norm.bias: 128 parameters\n",
      "layers.2.linear.weight: 32,768 parameters\n",
      "layers.2.linear.bias: 256 parameters\n",
      "layers.3.norm.weight: 256 parameters\n",
      "layers.3.norm.bias: 256 parameters\n",
      "layers.3.linear.weight: 131,072 parameters\n",
      "layers.3.linear.bias: 512 parameters\n",
      "layers.4.norm.weight: 512 parameters\n",
      "layers.4.norm.bias: 512 parameters\n",
      "layers.4.linear.weight: 131,072 parameters\n",
      "layers.4.linear.bias: 256 parameters\n",
      "layers.5.norm.weight: 256 parameters\n",
      "layers.5.norm.bias: 256 parameters\n",
      "layers.5.linear.weight: 32,768 parameters\n",
      "layers.5.linear.bias: 128 parameters\n",
      "layers.6.norm.weight: 128 parameters\n",
      "layers.6.norm.bias: 128 parameters\n",
      "layers.6.linear.weight: 8,192 parameters\n",
      "layers.6.linear.bias: 64 parameters\n",
      "policy_head.weight: 3,840 parameters\n",
      "policy_head.bias: 60 parameters\n",
      "value_head.weight: 64 parameters\n",
      "value_head.bias: 1 parameters\n"
     ]
    }
   ],
   "source": [
    "def print_model_parameters(model):\n",
    "    \"\"\"\n",
    "    Print the total number of parameters in a PyTorch model,\n",
    "    with a breakdown of trainable vs non-trainable parameters.\n",
    "    \n",
    "    Args:\n",
    "        model: PyTorch model\n",
    "    \"\"\"\n",
    "    total_params = sum(p.numel() for p in model.parameters())\n",
    "    trainable_params = sum(p.numel() for p in model.parameters() if p.requires_grad)\n",
    "    non_trainable_params = total_params - trainable_params\n",
    "    \n",
    "    print(f\"Total parameters: {total_params:,}\")\n",
    "    print(f\"Trainable parameters: {trainable_params:,} ({trainable_params/total_params:.2%})\")\n",
    "    print(f\"Non-trainable parameters: {non_trainable_params:,} ({non_trainable_params/total_params:.2%})\")\n",
    "    \n",
    "    # Optional: Print parameters by layer\n",
    "    print(\"\\nParameters by layer:\")\n",
    "    for name, param in model.named_parameters():\n",
    "        print(f\"{name}: {param.numel():,} parameters\")\n",
    "\n",
    "# Example usage\n",
    "print_model_parameters(model_interface.model)"
   ]
  }
 ],
 "metadata": {
  "kernelspec": {
   "display_name": "dots-and-boxes",
   "language": "python",
   "name": "python3"
  },
  "language_info": {
   "codemirror_mode": {
    "name": "ipython",
    "version": 3
   },
   "file_extension": ".py",
   "mimetype": "text/x-python",
   "name": "python",
   "nbconvert_exporter": "python",
   "pygments_lexer": "ipython3",
   "version": "3.13.1"
  }
 },
 "nbformat": 4,
 "nbformat_minor": 2
}
