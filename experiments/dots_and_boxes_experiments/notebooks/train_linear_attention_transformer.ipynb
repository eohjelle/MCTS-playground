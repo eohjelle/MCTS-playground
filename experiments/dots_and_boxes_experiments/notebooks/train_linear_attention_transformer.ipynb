{
 "cells": [
  {
   "cell_type": "code",
   "execution_count": 1,
   "metadata": {},
   "outputs": [
    {
     "name": "stdout",
     "output_type": "stream",
     "text": [
      "Working directory: /Users/eohjelle/Documents/2025-dots-and-boxes/dots-and-boxes\n"
     ]
    }
   ],
   "source": [
    "# Change directory to the root of the project\n",
    "import os \n",
    "os.chdir('..')\n",
    "os.chdir('..')\n",
    "os.chdir('..')\n",
    "print(f\"Working directory: {os.getcwd()}\")"
   ]
  },
  {
   "cell_type": "code",
   "execution_count": 2,
   "metadata": {},
   "outputs": [],
   "source": [
    "from applications.dots_and_boxes.NNmodels.linear_attention_transformer import LinearAttentionTransformerInitParams\n",
    "import torch\n",
    "\n",
    "# Initialize parameters\n",
    "\n",
    "## Model parameters\n",
    "model_type = 'linear_attention_transformer'\n",
    "model_params: LinearAttentionTransformerInitParams = {\n",
    "    'num_rows': 5,\n",
    "    'num_cols': 5,\n",
    "    'embed_dim': 128,\n",
    "    'ff_dim': 512,\n",
    "    'num_heads': 4,\n",
    "    'num_layers': 4\n",
    "}\n",
    "device = torch.device('mps')\n",
    "model_name = 'dots_and_boxes_linear_attention_transformer'\n",
    "\n",
    "## Initialize new model\n",
    "load_model = None\n",
    "load_model_params = {}\n",
    "\n",
    "## Optimizer parameters\n",
    "optimizer_type = 'adam'\n",
    "optimizer_params = {\n",
    "    'lr': 1e-2,\n",
    "    'betas': (0.9, 0.999),\n",
    "    'eps': 1e-8,\n",
    "    'weight_decay': 1e-4,\n",
    "    'amsgrad': False\n",
    "}\n",
    "\n",
    "## Learning scheduler parameters\n",
    "lr_scheduler_type = 'plateau'\n",
    "lr_scheduler_params = {\n",
    "    'factor': 0.5,\n",
    "    'patience': 10,\n",
    "    'cooldown': 10,\n",
    "    'min_lr': 1e-6\n",
    "}\n",
    "\n",
    "## Training parameters\n",
    "training_method = 'supervised'\n",
    "trainer_params = {}\n",
    "training_params = {\n",
    "    'epochs': 200,\n",
    "    'batch_size': 256,\n",
    "    'eval_freq': 25,\n",
    "    'checkpoint_freq': 50,\n",
    "    'mask_illegal_moves': False,\n",
    "    'mask_value': -20.0, # Doesn't matter when mask_illegal_moves is False\n",
    "    'checkpoint_dir': 'checkpoints',\n",
    "    'start_at': 1\n",
    "}\n",
    "\n",
    "## Load replay buffer from wandb\n",
    "load_replay_buffer = 'from_file'\n",
    "buffer_type = 'mcts' # used in path name below\n",
    "load_replay_buffer_params = {\n",
    "    'path': f'applications/dots_and_boxes/training_data/dots_and_boxes_{model_params[\"num_rows\"]}x{model_params[\"num_cols\"]}_DABSimpleTensorMapping_{buffer_type}.pkl',\n",
    "    'device': device\n",
    "}\n",
    "# load_replay_buffer = 'from_wandb'\n",
    "# load_replay_buffer_params = {\n",
    "#     'project': 'AlphaZero-DotsAndBoxes',\n",
    "#     'artifact_name': f'dots_and_boxes_{model_params[\"num_rows\"]}x{model_params[\"num_cols\"]}_SimpleTensorMapping_minimax',\n",
    "#     'artifact_version': 'latest'\n",
    "# }\n"
   ]
  },
  {
   "cell_type": "code",
   "execution_count": 3,
   "metadata": {},
   "outputs": [
    {
     "name": "stderr",
     "output_type": "stream",
     "text": [
      "\u001b[34m\u001b[1mwandb\u001b[0m: Currently logged in as: \u001b[33meohjelle\u001b[0m (\u001b[33meigenway\u001b[0m) to \u001b[32mhttps://api.wandb.ai\u001b[0m. Use \u001b[1m`wandb login --relogin`\u001b[0m to force relogin\n",
      "\u001b[34m\u001b[1mwandb\u001b[0m: Using wandb-core as the SDK backend.  Please refer to https://wandb.me/wandb-core for more information.\n"
     ]
    },
    {
     "data": {
      "text/html": [
       "Tracking run with wandb version 0.19.6"
      ],
      "text/plain": [
       "<IPython.core.display.HTML object>"
      ]
     },
     "metadata": {},
     "output_type": "display_data"
    },
    {
     "data": {
      "text/html": [
       "Run data is saved locally in <code>/Users/eohjelle/Documents/2025-dots-and-boxes/dots-and-boxes/wandb/run-20250320_213644-jvr2xx5w</code>"
      ],
      "text/plain": [
       "<IPython.core.display.HTML object>"
      ]
     },
     "metadata": {},
     "output_type": "display_data"
    },
    {
     "data": {
      "text/html": [
       "Syncing run <strong><a href='https://wandb.ai/eigenway/AlphaZero-DotsAndBoxes/runs/jvr2xx5w' target=\"_blank\">Linear Attention Transformer 4</a></strong> to <a href='https://wandb.ai/eigenway/AlphaZero-DotsAndBoxes' target=\"_blank\">Weights & Biases</a> (<a href='https://wandb.me/developer-guide' target=\"_blank\">docs</a>)<br>"
      ],
      "text/plain": [
       "<IPython.core.display.HTML object>"
      ]
     },
     "metadata": {},
     "output_type": "display_data"
    },
    {
     "data": {
      "text/html": [
       " View project at <a href='https://wandb.ai/eigenway/AlphaZero-DotsAndBoxes' target=\"_blank\">https://wandb.ai/eigenway/AlphaZero-DotsAndBoxes</a>"
      ],
      "text/plain": [
       "<IPython.core.display.HTML object>"
      ]
     },
     "metadata": {},
     "output_type": "display_data"
    },
    {
     "data": {
      "text/html": [
       " View run at <a href='https://wandb.ai/eigenway/AlphaZero-DotsAndBoxes/runs/jvr2xx5w' target=\"_blank\">https://wandb.ai/eigenway/AlphaZero-DotsAndBoxes/runs/jvr2xx5w</a>"
      ],
      "text/plain": [
       "<IPython.core.display.HTML object>"
      ]
     },
     "metadata": {},
     "output_type": "display_data"
    }
   ],
   "source": [
    "# Initialize wandb run\n",
    "import wandb\n",
    "\n",
    "run_name = 'Linear Attention Transformer 4'\n",
    "notes = 'Same as v3 on 5 x 5 board with MCTS training data.'\n",
    "\n",
    "config = {\n",
    "    'model_type': model_type,\n",
    "    'model_params': model_params,\n",
    "    'optimizer_type': optimizer_type,\n",
    "    'optimizer_params': optimizer_params,\n",
    "    'lr_scheduler_type': lr_scheduler_type,\n",
    "    'lr_scheduler_params': lr_scheduler_params,\n",
    "    'training_method': training_method,\n",
    "    'trainer_params': trainer_params,\n",
    "    'training_params': training_params\n",
    "}\n",
    "\n",
    "run = wandb.init(\n",
    "    project='AlphaZero-DotsAndBoxes',\n",
    "    name=run_name,\n",
    "    config=config,\n",
    "    notes=notes,\n",
    "    group=f'{training_method} training on {model_params[\"num_rows\"]}x{model_params[\"num_cols\"]} board'\n",
    ")\n",
    "# run = None"
   ]
  },
  {
   "cell_type": "code",
   "execution_count": 4,
   "metadata": {},
   "outputs": [
    {
     "name": "stderr",
     "output_type": "stream",
     "text": [
      "\u001b[34m\u001b[1mwandb\u001b[0m: logging graph, to disable use `wandb.watch(log_graph=False)`\n",
      "/Users/eohjelle/Documents/2025-dots-and-boxes/dots-and-boxes/core/data_structures.py:81: FutureWarning: You are using `torch.load` with `weights_only=False` (the current default value), which uses the default pickle module implicitly. It is possible to construct malicious pickle data which will execute arbitrary code during unpickling (See https://github.com/pytorch/pytorch/blob/main/SECURITY.md#untrusted-models for more details). In a future release, the default value for `weights_only` will be flipped to `True`. This limits the functions that could be executed during unpickling. Arbitrary objects will no longer be allowed to be loaded via this mode unless they are explicitly allowlisted by the user via `torch.serialization.add_safe_globals`. We recommend you start setting `weights_only=True` for any use case where you don't have full control of the loaded file. Please open an issue on GitHub for any issues related to this experimental feature.\n",
      "  checkpoint = torch.load(path, map_location=device)\n"
     ]
    },
    {
     "name": "stdout",
     "output_type": "stream",
     "text": [
      "Epoch 1/200, Train Loss: 4.1473, Val Loss: 3.1165, Learning rate: 0.010000\n",
      "Epoch 2/200, Train Loss: 3.6955, Val Loss: 4.1719, Learning rate: 0.010000\n",
      "Epoch 3/200, Train Loss: 3.4346, Val Loss: 3.0761, Learning rate: 0.010000\n",
      "Epoch 4/200, Train Loss: 3.0344, Val Loss: 3.0768, Learning rate: 0.010000\n",
      "Epoch 5/200, Train Loss: 3.0382, Val Loss: 3.0758, Learning rate: 0.010000\n",
      "Epoch 6/200, Train Loss: 3.0435, Val Loss: 3.0803, Learning rate: 0.010000\n",
      "Epoch 7/200, Train Loss: 3.0361, Val Loss: 3.0791, Learning rate: 0.010000\n",
      "Epoch 8/200, Train Loss: 3.0281, Val Loss: 3.0844, Learning rate: 0.010000\n",
      "Epoch 9/200, Train Loss: 3.0350, Val Loss: 3.0771, Learning rate: 0.010000\n",
      "Epoch 10/200, Train Loss: 3.0315, Val Loss: 3.0836, Learning rate: 0.010000\n",
      "Epoch 11/200, Train Loss: 3.0435, Val Loss: 3.0793, Learning rate: 0.010000\n",
      "Epoch 12/200, Train Loss: 3.0389, Val Loss: 3.0842, Learning rate: 0.010000\n",
      "Epoch 13/200, Train Loss: 3.0455, Val Loss: 3.0790, Learning rate: 0.010000\n",
      "Epoch 14/200, Train Loss: 3.0257, Val Loss: 3.0777, Learning rate: 0.010000\n",
      "Epoch 15/200, Train Loss: 3.0444, Val Loss: 3.0804, Learning rate: 0.010000\n",
      "Epoch 16/200, Train Loss: 3.0452, Val Loss: 3.0781, Learning rate: 0.010000\n",
      "Epoch 17/200, Train Loss: 3.0342, Val Loss: 3.0844, Learning rate: 0.010000\n",
      "Epoch 18/200, Train Loss: 3.0423, Val Loss: 3.0851, Learning rate: 0.010000\n",
      "Epoch 19/200, Train Loss: 3.0371, Val Loss: 3.0840, Learning rate: 0.010000\n",
      "Epoch 20/200, Train Loss: 3.0444, Val Loss: 3.0882, Learning rate: 0.010000\n",
      "Epoch 21/200, Train Loss: 3.0435, Val Loss: 3.0920, Learning rate: 0.010000\n",
      "Epoch 22/200, Train Loss: 3.0398, Val Loss: 3.0855, Learning rate: 0.010000\n",
      "Epoch 23/200, Train Loss: 3.0458, Val Loss: 3.0805, Learning rate: 0.010000\n",
      "Epoch 24/200, Train Loss: 3.0403, Val Loss: 3.0829, Learning rate: 0.010000\n",
      "Epoch 25/200, Train Loss: 3.0412, Val Loss: 3.0856, Learning rate: 0.010000\n",
      "RandomAgent score: -0.19999999999999996\n",
      "Epoch 26/200, Train Loss: 3.0318, Val Loss: 3.0829, Learning rate: 0.005000\n",
      "Epoch 27/200, Train Loss: 3.0397, Val Loss: 3.0813, Learning rate: 0.005000\n",
      "Epoch 28/200, Train Loss: 3.0397, Val Loss: 3.0857, Learning rate: 0.005000\n",
      "Epoch 29/200, Train Loss: 3.0357, Val Loss: 3.0822, Learning rate: 0.005000\n",
      "Epoch 30/200, Train Loss: 3.0344, Val Loss: 3.0802, Learning rate: 0.005000\n",
      "Epoch 31/200, Train Loss: 3.0403, Val Loss: 3.0834, Learning rate: 0.005000\n",
      "Epoch 32/200, Train Loss: 3.0356, Val Loss: 3.0850, Learning rate: 0.005000\n",
      "Epoch 33/200, Train Loss: 3.0395, Val Loss: 3.0800, Learning rate: 0.005000\n",
      "Epoch 34/200, Train Loss: 3.0393, Val Loss: 3.0829, Learning rate: 0.005000\n",
      "Epoch 35/200, Train Loss: 3.0444, Val Loss: 3.0831, Learning rate: 0.005000\n",
      "Epoch 36/200, Train Loss: 3.0332, Val Loss: 3.0844, Learning rate: 0.005000\n",
      "Epoch 37/200, Train Loss: 3.0252, Val Loss: 3.0821, Learning rate: 0.005000\n",
      "Epoch 38/200, Train Loss: 3.0405, Val Loss: 3.0817, Learning rate: 0.005000\n",
      "Epoch 39/200, Train Loss: 3.0453, Val Loss: 3.0829, Learning rate: 0.005000\n",
      "Epoch 40/200, Train Loss: 3.0312, Val Loss: 3.0825, Learning rate: 0.005000\n",
      "Epoch 41/200, Train Loss: 3.0364, Val Loss: 3.0822, Learning rate: 0.005000\n",
      "Epoch 42/200, Train Loss: 3.0347, Val Loss: 3.0870, Learning rate: 0.005000\n",
      "Epoch 43/200, Train Loss: 3.0428, Val Loss: 3.0860, Learning rate: 0.005000\n",
      "Epoch 44/200, Train Loss: 3.0408, Val Loss: 3.0864, Learning rate: 0.005000\n",
      "Epoch 45/200, Train Loss: 3.0383, Val Loss: 3.0882, Learning rate: 0.005000\n",
      "Epoch 46/200, Train Loss: 3.0310, Val Loss: 3.0851, Learning rate: 0.005000\n",
      "Epoch 47/200, Train Loss: 3.0361, Val Loss: 3.0856, Learning rate: 0.005000\n",
      "Epoch 48/200, Train Loss: 3.0299, Val Loss: 3.0872, Learning rate: 0.005000\n",
      "Epoch 49/200, Train Loss: 3.0294, Val Loss: 3.0865, Learning rate: 0.002500\n",
      "Epoch 50/200, Train Loss: 3.0403, Val Loss: 3.0881, Learning rate: 0.002500\n",
      "RandomAgent score: 0.020000000000000018\n",
      "Epoch 51/200, Train Loss: 3.0414, Val Loss: 3.0880, Learning rate: 0.002500\n",
      "Epoch 52/200, Train Loss: 3.0370, Val Loss: 3.0881, Learning rate: 0.002500\n",
      "Epoch 53/200, Train Loss: 3.0485, Val Loss: 3.0880, Learning rate: 0.002500\n",
      "Epoch 54/200, Train Loss: 3.0366, Val Loss: 3.0875, Learning rate: 0.002500\n",
      "Epoch 55/200, Train Loss: 3.0388, Val Loss: 3.0876, Learning rate: 0.002500\n",
      "Epoch 56/200, Train Loss: 3.0311, Val Loss: 3.0880, Learning rate: 0.002500\n",
      "Epoch 57/200, Train Loss: 3.0491, Val Loss: 3.0914, Learning rate: 0.002500\n",
      "Epoch 58/200, Train Loss: 3.0467, Val Loss: 3.0889, Learning rate: 0.002500\n",
      "Epoch 59/200, Train Loss: 3.0407, Val Loss: 3.0859, Learning rate: 0.002500\n",
      "Epoch 60/200, Train Loss: 3.0403, Val Loss: 3.0886, Learning rate: 0.002500\n",
      "Epoch 61/200, Train Loss: 3.0339, Val Loss: 3.0942, Learning rate: 0.002500\n",
      "Epoch 62/200, Train Loss: 3.0354, Val Loss: 3.0977, Learning rate: 0.002500\n",
      "Epoch 63/200, Train Loss: 3.0419, Val Loss: 3.0949, Learning rate: 0.002500\n",
      "Epoch 64/200, Train Loss: 3.0572, Val Loss: 3.1019, Learning rate: 0.002500\n",
      "Epoch 65/200, Train Loss: 3.0478, Val Loss: 3.0949, Learning rate: 0.002500\n",
      "Epoch 66/200, Train Loss: 3.0372, Val Loss: 3.0944, Learning rate: 0.002500\n",
      "Epoch 67/200, Train Loss: 3.0421, Val Loss: 3.1039, Learning rate: 0.002500\n",
      "Epoch 68/200, Train Loss: 3.0416, Val Loss: 3.0984, Learning rate: 0.002500\n",
      "Epoch 69/200, Train Loss: 3.0459, Val Loss: 3.0966, Learning rate: 0.002500\n",
      "Epoch 70/200, Train Loss: 3.0406, Val Loss: 3.1001, Learning rate: 0.001250\n",
      "Epoch 71/200, Train Loss: 3.0398, Val Loss: 3.0989, Learning rate: 0.001250\n",
      "Epoch 72/200, Train Loss: 3.0324, Val Loss: 3.0990, Learning rate: 0.001250\n",
      "Epoch 73/200, Train Loss: 3.0530, Val Loss: 3.0991, Learning rate: 0.001250\n",
      "Epoch 74/200, Train Loss: 3.0373, Val Loss: 3.0974, Learning rate: 0.001250\n",
      "Epoch 75/200, Train Loss: 3.0415, Val Loss: 3.0970, Learning rate: 0.001250\n",
      "RandomAgent score: -0.12000000000000005\n",
      "Epoch 76/200, Train Loss: 3.0416, Val Loss: 3.0952, Learning rate: 0.001250\n",
      "Epoch 77/200, Train Loss: 3.0456, Val Loss: 3.0934, Learning rate: 0.001250\n",
      "Epoch 78/200, Train Loss: 3.0431, Val Loss: 3.0941, Learning rate: 0.001250\n",
      "Epoch 79/200, Train Loss: 3.0358, Val Loss: 3.0908, Learning rate: 0.001250\n",
      "Epoch 80/200, Train Loss: 3.0466, Val Loss: 3.0945, Learning rate: 0.001250\n",
      "Epoch 81/200, Train Loss: 3.0310, Val Loss: 3.0946, Learning rate: 0.001250\n",
      "Epoch 82/200, Train Loss: 3.0265, Val Loss: 3.0943, Learning rate: 0.001250\n",
      "Epoch 83/200, Train Loss: 3.0340, Val Loss: 3.0883, Learning rate: 0.001250\n",
      "Epoch 84/200, Train Loss: 3.0424, Val Loss: 3.0881, Learning rate: 0.001250\n",
      "Epoch 85/200, Train Loss: 3.0374, Val Loss: 3.0873, Learning rate: 0.001250\n",
      "Epoch 86/200, Train Loss: 3.0292, Val Loss: 3.0896, Learning rate: 0.001250\n",
      "Epoch 87/200, Train Loss: 3.0372, Val Loss: 3.0897, Learning rate: 0.001250\n",
      "Epoch 88/200, Train Loss: 3.0358, Val Loss: 3.0852, Learning rate: 0.001250\n",
      "Epoch 89/200, Train Loss: 3.0371, Val Loss: 3.0855, Learning rate: 0.001250\n",
      "Epoch 90/200, Train Loss: 3.0374, Val Loss: 3.0843, Learning rate: 0.001250\n",
      "Epoch 91/200, Train Loss: 3.0354, Val Loss: 3.0817, Learning rate: 0.000625\n",
      "Epoch 92/200, Train Loss: 3.0425, Val Loss: 3.0787, Learning rate: 0.000625\n",
      "Epoch 93/200, Train Loss: 3.0415, Val Loss: 3.0819, Learning rate: 0.000625\n",
      "Epoch 94/200, Train Loss: 3.0474, Val Loss: 3.3094, Learning rate: 0.000625\n",
      "Epoch 95/200, Train Loss: 3.1595, Val Loss: 3.2135, Learning rate: 0.000625\n",
      "Epoch 96/200, Train Loss: 3.1642, Val Loss: 3.2088, Learning rate: 0.000625\n",
      "Epoch 97/200, Train Loss: 3.1594, Val Loss: 3.1502, Learning rate: 0.000625\n",
      "Epoch 98/200, Train Loss: 3.0349, Val Loss: 3.0816, Learning rate: 0.000625\n",
      "Epoch 99/200, Train Loss: 3.0299, Val Loss: 3.0809, Learning rate: 0.000625\n",
      "Epoch 100/200, Train Loss: 3.0420, Val Loss: 3.0803, Learning rate: 0.000625\n",
      "RandomAgent score: -0.12000000000000005\n",
      "Epoch 101/200, Train Loss: 3.0364, Val Loss: 3.0816, Learning rate: 0.000625\n",
      "Epoch 102/200, Train Loss: 3.0267, Val Loss: 3.0784, Learning rate: 0.000625\n",
      "Epoch 103/200, Train Loss: 3.0404, Val Loss: 3.0798, Learning rate: 0.000625\n",
      "Epoch 104/200, Train Loss: 3.0346, Val Loss: 3.0815, Learning rate: 0.000625\n",
      "Epoch 105/200, Train Loss: 3.0322, Val Loss: 3.0771, Learning rate: 0.000625\n",
      "Epoch 106/200, Train Loss: 3.0347, Val Loss: 3.0786, Learning rate: 0.000625\n",
      "Epoch 107/200, Train Loss: 3.0416, Val Loss: 3.0771, Learning rate: 0.000625\n",
      "Epoch 108/200, Train Loss: 3.0333, Val Loss: 3.0799, Learning rate: 0.000625\n",
      "Epoch 109/200, Train Loss: 3.0337, Val Loss: 3.0784, Learning rate: 0.000625\n",
      "Epoch 110/200, Train Loss: 3.0360, Val Loss: 3.0793, Learning rate: 0.000625\n",
      "Epoch 111/200, Train Loss: 3.0328, Val Loss: 3.0789, Learning rate: 0.000625\n",
      "Epoch 112/200, Train Loss: 3.0323, Val Loss: 3.0771, Learning rate: 0.000313\n",
      "Epoch 113/200, Train Loss: 3.0348, Val Loss: 3.0758, Learning rate: 0.000313\n",
      "Epoch 114/200, Train Loss: 3.0298, Val Loss: 3.0789, Learning rate: 0.000313\n",
      "Epoch 115/200, Train Loss: 3.0346, Val Loss: 3.0758, Learning rate: 0.000313\n",
      "Epoch 116/200, Train Loss: 3.0358, Val Loss: 3.0770, Learning rate: 0.000313\n",
      "Epoch 117/200, Train Loss: 3.0376, Val Loss: 3.0788, Learning rate: 0.000313\n",
      "Epoch 118/200, Train Loss: 3.0193, Val Loss: 3.0757, Learning rate: 0.000313\n",
      "Epoch 119/200, Train Loss: 3.0281, Val Loss: 3.0780, Learning rate: 0.000313\n",
      "Epoch 120/200, Train Loss: 3.0389, Val Loss: 3.0783, Learning rate: 0.000313\n",
      "Epoch 121/200, Train Loss: 3.0306, Val Loss: 3.0789, Learning rate: 0.000313\n",
      "Epoch 122/200, Train Loss: 3.0367, Val Loss: 3.0756, Learning rate: 0.000313\n",
      "Epoch 123/200, Train Loss: 3.0396, Val Loss: 3.0753, Learning rate: 0.000313\n",
      "Epoch 124/200, Train Loss: 3.0345, Val Loss: 3.0787, Learning rate: 0.000313\n",
      "Epoch 125/200, Train Loss: 3.0239, Val Loss: 3.0766, Learning rate: 0.000313\n",
      "RandomAgent score: -0.19999999999999996\n",
      "Epoch 126/200, Train Loss: 3.0322, Val Loss: 3.0742, Learning rate: 0.000313\n",
      "Epoch 127/200, Train Loss: 3.0251, Val Loss: 3.0741, Learning rate: 0.000313\n",
      "Epoch 128/200, Train Loss: 3.0315, Val Loss: 3.0741, Learning rate: 0.000313\n",
      "Epoch 129/200, Train Loss: 3.0292, Val Loss: 3.0766, Learning rate: 0.000313\n",
      "Epoch 130/200, Train Loss: 3.0357, Val Loss: 3.0776, Learning rate: 0.000313\n",
      "Epoch 131/200, Train Loss: 3.0353, Val Loss: 3.0721, Learning rate: 0.000313\n",
      "Epoch 132/200, Train Loss: 3.0245, Val Loss: 3.0767, Learning rate: 0.000313\n",
      "Epoch 133/200, Train Loss: 3.0230, Val Loss: 3.0737, Learning rate: 0.000156\n",
      "Epoch 134/200, Train Loss: 3.0335, Val Loss: 3.0754, Learning rate: 0.000156\n",
      "Epoch 135/200, Train Loss: 3.0254, Val Loss: 3.0712, Learning rate: 0.000156\n",
      "Epoch 136/200, Train Loss: 3.0329, Val Loss: 3.0715, Learning rate: 0.000156\n",
      "Epoch 137/200, Train Loss: 3.0236, Val Loss: 3.0725, Learning rate: 0.000156\n",
      "Epoch 138/200, Train Loss: 3.0238, Val Loss: 3.0731, Learning rate: 0.000156\n",
      "Epoch 139/200, Train Loss: 3.0313, Val Loss: 3.0714, Learning rate: 0.000156\n",
      "Epoch 140/200, Train Loss: 3.0189, Val Loss: 3.0725, Learning rate: 0.000156\n",
      "Epoch 141/200, Train Loss: 3.0333, Val Loss: 3.0699, Learning rate: 0.000156\n",
      "Epoch 142/200, Train Loss: 3.0284, Val Loss: 3.0729, Learning rate: 0.000156\n",
      "Epoch 143/200, Train Loss: 3.0299, Val Loss: 3.0748, Learning rate: 0.000156\n",
      "Epoch 144/200, Train Loss: 3.0233, Val Loss: 3.0731, Learning rate: 0.000156\n",
      "Epoch 145/200, Train Loss: 3.0233, Val Loss: 3.0732, Learning rate: 0.000156\n",
      "Epoch 146/200, Train Loss: 3.0128, Val Loss: 3.0738, Learning rate: 0.000156\n",
      "Epoch 147/200, Train Loss: 3.0212, Val Loss: 3.0749, Learning rate: 0.000156\n",
      "Epoch 148/200, Train Loss: 3.0285, Val Loss: 3.0761, Learning rate: 0.000156\n",
      "Epoch 149/200, Train Loss: 3.0186, Val Loss: 3.0748, Learning rate: 0.000156\n",
      "Epoch 150/200, Train Loss: 3.0173, Val Loss: 3.0748, Learning rate: 0.000156\n",
      "RandomAgent score: -0.24\n",
      "Epoch 151/200, Train Loss: 3.0169, Val Loss: 3.0757, Learning rate: 0.000156\n",
      "Epoch 152/200, Train Loss: 3.0185, Val Loss: 3.0758, Learning rate: 0.000156\n",
      "Epoch 153/200, Train Loss: 3.0205, Val Loss: 3.0753, Learning rate: 0.000156\n",
      "Epoch 154/200, Train Loss: 3.0243, Val Loss: 3.0758, Learning rate: 0.000156\n",
      "Epoch 155/200, Train Loss: 3.0331, Val Loss: 3.0749, Learning rate: 0.000156\n",
      "Epoch 156/200, Train Loss: 3.0261, Val Loss: 3.0755, Learning rate: 0.000156\n",
      "Epoch 157/200, Train Loss: 3.0259, Val Loss: 3.0762, Learning rate: 0.000156\n",
      "Epoch 158/200, Train Loss: 3.0113, Val Loss: 3.0763, Learning rate: 0.000078\n",
      "Epoch 159/200, Train Loss: 3.0203, Val Loss: 3.0756, Learning rate: 0.000078\n",
      "Epoch 160/200, Train Loss: 3.0268, Val Loss: 3.0757, Learning rate: 0.000078\n",
      "Epoch 161/200, Train Loss: 3.0141, Val Loss: 3.0753, Learning rate: 0.000078\n",
      "Epoch 162/200, Train Loss: 3.0232, Val Loss: 3.0755, Learning rate: 0.000078\n",
      "Epoch 163/200, Train Loss: 3.0279, Val Loss: 3.0758, Learning rate: 0.000078\n",
      "Epoch 164/200, Train Loss: 3.0096, Val Loss: 3.0753, Learning rate: 0.000078\n",
      "Epoch 165/200, Train Loss: 3.0241, Val Loss: 3.0747, Learning rate: 0.000078\n",
      "Epoch 166/200, Train Loss: 3.0200, Val Loss: 3.0747, Learning rate: 0.000078\n",
      "Epoch 167/200, Train Loss: 3.0209, Val Loss: 3.0742, Learning rate: 0.000078\n",
      "Epoch 168/200, Train Loss: 3.0238, Val Loss: 3.0750, Learning rate: 0.000078\n",
      "Epoch 169/200, Train Loss: 3.0267, Val Loss: 3.0744, Learning rate: 0.000078\n",
      "Epoch 170/200, Train Loss: 3.0207, Val Loss: 3.0744, Learning rate: 0.000078\n",
      "Epoch 171/200, Train Loss: 3.0106, Val Loss: 3.0744, Learning rate: 0.000078\n",
      "Epoch 172/200, Train Loss: 3.0189, Val Loss: 3.0752, Learning rate: 0.000078\n",
      "Epoch 173/200, Train Loss: 3.0225, Val Loss: 3.0740, Learning rate: 0.000078\n",
      "Epoch 174/200, Train Loss: 3.0208, Val Loss: 3.0751, Learning rate: 0.000078\n",
      "Epoch 175/200, Train Loss: 3.0185, Val Loss: 3.0740, Learning rate: 0.000078\n",
      "RandomAgent score: -0.08000000000000002\n",
      "Epoch 176/200, Train Loss: 3.0153, Val Loss: 3.0746, Learning rate: 0.000078\n",
      "Epoch 177/200, Train Loss: 3.0235, Val Loss: 3.0746, Learning rate: 0.000078\n",
      "Epoch 178/200, Train Loss: 3.0135, Val Loss: 3.0741, Learning rate: 0.000078\n",
      "Epoch 179/200, Train Loss: 3.0172, Val Loss: 3.0746, Learning rate: 0.000039\n",
      "Epoch 180/200, Train Loss: 3.0293, Val Loss: 3.0741, Learning rate: 0.000039\n",
      "Epoch 181/200, Train Loss: 3.0225, Val Loss: 3.0749, Learning rate: 0.000039\n",
      "Epoch 182/200, Train Loss: 3.0271, Val Loss: 3.0746, Learning rate: 0.000039\n",
      "Epoch 183/200, Train Loss: 3.0164, Val Loss: 3.0741, Learning rate: 0.000039\n",
      "Epoch 184/200, Train Loss: 3.0131, Val Loss: 3.0742, Learning rate: 0.000039\n",
      "Epoch 185/200, Train Loss: 3.0213, Val Loss: 3.0741, Learning rate: 0.000039\n",
      "Epoch 186/200, Train Loss: 3.0095, Val Loss: 3.0743, Learning rate: 0.000039\n",
      "Epoch 187/200, Train Loss: 3.0224, Val Loss: 3.0747, Learning rate: 0.000039\n",
      "Epoch 188/200, Train Loss: 3.0190, Val Loss: 3.0744, Learning rate: 0.000039\n",
      "Epoch 189/200, Train Loss: 3.0309, Val Loss: 3.0744, Learning rate: 0.000039\n",
      "Epoch 190/200, Train Loss: 3.0232, Val Loss: 3.0743, Learning rate: 0.000039\n",
      "Epoch 191/200, Train Loss: 3.0162, Val Loss: 3.0747, Learning rate: 0.000039\n",
      "Epoch 192/200, Train Loss: 3.0200, Val Loss: 3.0745, Learning rate: 0.000039\n",
      "Epoch 193/200, Train Loss: 3.0250, Val Loss: 3.0742, Learning rate: 0.000039\n",
      "Epoch 194/200, Train Loss: 3.0105, Val Loss: 3.0743, Learning rate: 0.000039\n",
      "Epoch 195/200, Train Loss: 3.0249, Val Loss: 3.0744, Learning rate: 0.000039\n",
      "Epoch 196/200, Train Loss: 3.0176, Val Loss: 3.0747, Learning rate: 0.000039\n",
      "Epoch 197/200, Train Loss: 3.0204, Val Loss: 3.0740, Learning rate: 0.000039\n",
      "Epoch 198/200, Train Loss: 3.0191, Val Loss: 3.0743, Learning rate: 0.000039\n",
      "Epoch 199/200, Train Loss: 3.0182, Val Loss: 3.0739, Learning rate: 0.000039\n",
      "Epoch 200/200, Train Loss: 3.0210, Val Loss: 3.0745, Learning rate: 0.000020\n",
      "RandomAgent score: -0.13999999999999996\n",
      "Training complete.\n",
      "Best val_loss: 1.2183\n",
      "Final val_loss: 3.0745\n"
     ]
    }
   ],
   "source": [
    "# Perform training\n",
    "\n",
    "from applications.dots_and_boxes.train import train\n",
    "\n",
    "model_interface = train(\n",
    "    num_rows = model_params[\"num_rows\"],\n",
    "    num_cols = model_params[\"num_cols\"],\n",
    "    model_type=model_type,\n",
    "    model_params=model_params,\n",
    "    device=device,\n",
    "    model_name=model_name,\n",
    "    optimizer_type=optimizer_type,\n",
    "    optimizer_params=optimizer_params,\n",
    "    lr_scheduler_type=lr_scheduler_type,\n",
    "    lr_scheduler_params=lr_scheduler_params,\n",
    "    training_method=training_method,\n",
    "    trainer_params=trainer_params,\n",
    "    training_params=training_params,\n",
    "    load_model=load_model,\n",
    "    load_model_params=load_model_params,\n",
    "    load_replay_buffer=load_replay_buffer,\n",
    "    load_replay_buffer_params=load_replay_buffer_params,\n",
    "    wandb_run=run\n",
    ")"
   ]
  },
  {
   "cell_type": "code",
   "execution_count": 5,
   "metadata": {},
   "outputs": [
    {
     "data": {
      "text/html": [],
      "text/plain": [
       "<IPython.core.display.HTML object>"
      ]
     },
     "metadata": {},
     "output_type": "display_data"
    },
    {
     "data": {
      "text/html": [
       "<br>    <style><br>        .wandb-row {<br>            display: flex;<br>            flex-direction: row;<br>            flex-wrap: wrap;<br>            justify-content: flex-start;<br>            width: 100%;<br>        }<br>        .wandb-col {<br>            display: flex;<br>            flex-direction: column;<br>            flex-basis: 100%;<br>            flex: 1;<br>            padding: 10px;<br>        }<br>    </style><br><div class=\"wandb-row\"><div class=\"wandb-col\"><h3>Run history:</h3><br/><table class=\"wandb\"><tr><td>RandomAgent_draw_rate</td><td>▁▁▁▁▁▁▁▁</td></tr><tr><td>RandomAgent_loss_rate</td><td>▇▁▅▅▇█▄▅</td></tr><tr><td>RandomAgent_score</td><td>▂█▄▄▂▁▅▄</td></tr><tr><td>RandomAgent_win_rate</td><td>▂█▄▄▂▁▅▄</td></tr><tr><td>epoch</td><td>▁▁▁▁▂▂▂▃▃▃▃▄▄▄▄▄▄▄▄▅▅▅▅▅▅▆▆▆▇▇▇▇▇▇▇█████</td></tr><tr><td>learning_rate</td><td>██████▄▄▄▃▃▃▃▃▂▂▂▂▂▁▁▁▁▁▁▁▁▁▁▁▁▁▁▁▁▁▁▁▁▁</td></tr><tr><td>train_loss</td><td>▇▄█▆▇▆▅▅▇▇█▇▇▅▆▇▆▅▇▆▇▅▅▅▆▆▅▄▃▄▃▂▃▅▄▃▃▂▄▁</td></tr><tr><td>train_policy_loss</td><td>▂▂▄▄▄▄▄▄▃▄▄▃▂▄▂▄▅█▂▄▅▃▄▃▅▂▂▃▁▃▄▃▄▂▂▂▅▄▃▂</td></tr><tr><td>train_value_loss</td><td>▅▇█▆▆▆▆▇▆▆█▇▇▅▆▆▆▅▇▄▅▆▅▄▅▄▄▄▂▃▄▁▃▂▃▃▁▂▁▂</td></tr><tr><td>val_loss</td><td>▂▃▃▃▇▅▅▆▆▆▅███▆▅▅▄▄▄▃▃▂▂▃▂▃▂▂▁▁▂▂▂▂▂▂▂▂▂</td></tr><tr><td>val_policy_loss</td><td>▃▁▁▁▁▁▁▁▁▁▁▁▁▁▁██▁▁▁▁▁▁▁▁▁▁▁▁▁▁▁▁▁▁▁▁▁▁▁</td></tr><tr><td>val_value_loss</td><td>▂▃▃▄▄▄▄▄▅▄▅▅▅▇█▇▅▅▄▃▃▃▃▃▂▂▂▁▂▁▂▂▂▂▂▂▂▂▂▂</td></tr></table><br/></div><div class=\"wandb-col\"><h3>Run summary:</h3><br/><table class=\"wandb\"><tr><td>RandomAgent_draw_rate</td><td>0</td></tr><tr><td>RandomAgent_loss_rate</td><td>0.57</td></tr><tr><td>RandomAgent_score</td><td>-0.14</td></tr><tr><td>RandomAgent_win_rate</td><td>0.43</td></tr><tr><td>epoch</td><td>200</td></tr><tr><td>learning_rate</td><td>2e-05</td></tr><tr><td>train_loss</td><td>3.02101</td></tr><tr><td>train_policy_loss</td><td>2.29234</td></tr><tr><td>train_value_loss</td><td>0.72867</td></tr><tr><td>val_loss</td><td>3.07449</td></tr><tr><td>val_policy_loss</td><td>2.30165</td></tr><tr><td>val_value_loss</td><td>0.77284</td></tr></table><br/></div></div>"
      ],
      "text/plain": [
       "<IPython.core.display.HTML object>"
      ]
     },
     "metadata": {},
     "output_type": "display_data"
    },
    {
     "data": {
      "text/html": [
       " View run <strong style=\"color:#cdcd00\">Linear Attention Transformer 4</strong> at: <a href='https://wandb.ai/eigenway/AlphaZero-DotsAndBoxes/runs/jvr2xx5w' target=\"_blank\">https://wandb.ai/eigenway/AlphaZero-DotsAndBoxes/runs/jvr2xx5w</a><br> View project at: <a href='https://wandb.ai/eigenway/AlphaZero-DotsAndBoxes' target=\"_blank\">https://wandb.ai/eigenway/AlphaZero-DotsAndBoxes</a><br>Synced 5 W&B file(s), 1 media file(s), 8 artifact file(s) and 0 other file(s)"
      ],
      "text/plain": [
       "<IPython.core.display.HTML object>"
      ]
     },
     "metadata": {},
     "output_type": "display_data"
    },
    {
     "data": {
      "text/html": [
       "Find logs at: <code>./wandb/run-20250320_213644-jvr2xx5w/logs</code>"
      ],
      "text/plain": [
       "<IPython.core.display.HTML object>"
      ]
     },
     "metadata": {},
     "output_type": "display_data"
    }
   ],
   "source": [
    "run.finish()"
   ]
  },
  {
   "cell_type": "code",
   "execution_count": 6,
   "metadata": {},
   "outputs": [
    {
     "name": "stdout",
     "output_type": "stream",
     "text": [
      "Total parameters: 808,962\n",
      "Trainable parameters: 808,962 (100.00%)\n",
      "Non-trainable parameters: 0 (0.00%)\n",
      "\n",
      "Parameters by layer:\n",
      "pos_embedding: 7,680 parameters\n",
      "input_embedding.weight: 128 parameters\n",
      "transformer_blocks.0.norm1.weight: 128 parameters\n",
      "transformer_blocks.0.norm1.bias: 128 parameters\n",
      "transformer_blocks.0.attn.q_emb.weight: 16,384 parameters\n",
      "transformer_blocks.0.attn.q_emb.bias: 128 parameters\n",
      "transformer_blocks.0.attn.k_emb.weight: 16,384 parameters\n",
      "transformer_blocks.0.attn.k_emb.bias: 128 parameters\n",
      "transformer_blocks.0.attn.v_emb.weight: 16,384 parameters\n",
      "transformer_blocks.0.attn.v_emb.bias: 128 parameters\n",
      "transformer_blocks.0.attn.out_emb.weight: 16,384 parameters\n",
      "transformer_blocks.0.attn.out_emb.bias: 128 parameters\n",
      "transformer_blocks.0.norm2.weight: 128 parameters\n",
      "transformer_blocks.0.norm2.bias: 128 parameters\n",
      "transformer_blocks.0.ff.0.weight: 65,536 parameters\n",
      "transformer_blocks.0.ff.0.bias: 512 parameters\n",
      "transformer_blocks.0.ff.2.weight: 65,536 parameters\n",
      "transformer_blocks.0.ff.2.bias: 128 parameters\n",
      "transformer_blocks.1.norm1.weight: 128 parameters\n",
      "transformer_blocks.1.norm1.bias: 128 parameters\n",
      "transformer_blocks.1.attn.q_emb.weight: 16,384 parameters\n",
      "transformer_blocks.1.attn.q_emb.bias: 128 parameters\n",
      "transformer_blocks.1.attn.k_emb.weight: 16,384 parameters\n",
      "transformer_blocks.1.attn.k_emb.bias: 128 parameters\n",
      "transformer_blocks.1.attn.v_emb.weight: 16,384 parameters\n",
      "transformer_blocks.1.attn.v_emb.bias: 128 parameters\n",
      "transformer_blocks.1.attn.out_emb.weight: 16,384 parameters\n",
      "transformer_blocks.1.attn.out_emb.bias: 128 parameters\n",
      "transformer_blocks.1.norm2.weight: 128 parameters\n",
      "transformer_blocks.1.norm2.bias: 128 parameters\n",
      "transformer_blocks.1.ff.0.weight: 65,536 parameters\n",
      "transformer_blocks.1.ff.0.bias: 512 parameters\n",
      "transformer_blocks.1.ff.2.weight: 65,536 parameters\n",
      "transformer_blocks.1.ff.2.bias: 128 parameters\n",
      "transformer_blocks.2.norm1.weight: 128 parameters\n",
      "transformer_blocks.2.norm1.bias: 128 parameters\n",
      "transformer_blocks.2.attn.q_emb.weight: 16,384 parameters\n",
      "transformer_blocks.2.attn.q_emb.bias: 128 parameters\n",
      "transformer_blocks.2.attn.k_emb.weight: 16,384 parameters\n",
      "transformer_blocks.2.attn.k_emb.bias: 128 parameters\n",
      "transformer_blocks.2.attn.v_emb.weight: 16,384 parameters\n",
      "transformer_blocks.2.attn.v_emb.bias: 128 parameters\n",
      "transformer_blocks.2.attn.out_emb.weight: 16,384 parameters\n",
      "transformer_blocks.2.attn.out_emb.bias: 128 parameters\n",
      "transformer_blocks.2.norm2.weight: 128 parameters\n",
      "transformer_blocks.2.norm2.bias: 128 parameters\n",
      "transformer_blocks.2.ff.0.weight: 65,536 parameters\n",
      "transformer_blocks.2.ff.0.bias: 512 parameters\n",
      "transformer_blocks.2.ff.2.weight: 65,536 parameters\n",
      "transformer_blocks.2.ff.2.bias: 128 parameters\n",
      "transformer_blocks.3.norm1.weight: 128 parameters\n",
      "transformer_blocks.3.norm1.bias: 128 parameters\n",
      "transformer_blocks.3.attn.q_emb.weight: 16,384 parameters\n",
      "transformer_blocks.3.attn.q_emb.bias: 128 parameters\n",
      "transformer_blocks.3.attn.k_emb.weight: 16,384 parameters\n",
      "transformer_blocks.3.attn.k_emb.bias: 128 parameters\n",
      "transformer_blocks.3.attn.v_emb.weight: 16,384 parameters\n",
      "transformer_blocks.3.attn.v_emb.bias: 128 parameters\n",
      "transformer_blocks.3.attn.out_emb.weight: 16,384 parameters\n",
      "transformer_blocks.3.attn.out_emb.bias: 128 parameters\n",
      "transformer_blocks.3.norm2.weight: 128 parameters\n",
      "transformer_blocks.3.norm2.bias: 128 parameters\n",
      "transformer_blocks.3.ff.0.weight: 65,536 parameters\n",
      "transformer_blocks.3.ff.0.bias: 512 parameters\n",
      "transformer_blocks.3.ff.2.weight: 65,536 parameters\n",
      "transformer_blocks.3.ff.2.bias: 128 parameters\n",
      "final_norm.weight: 128 parameters\n",
      "final_norm.bias: 128 parameters\n",
      "policy_head.weight: 128 parameters\n",
      "policy_head.bias: 1 parameters\n",
      "value_head.weight: 7,680 parameters\n",
      "value_head.bias: 1 parameters\n"
     ]
    }
   ],
   "source": [
    "def print_model_parameters(model):\n",
    "    \"\"\"\n",
    "    Print the total number of parameters in a PyTorch model,\n",
    "    with a breakdown of trainable vs non-trainable parameters.\n",
    "    \n",
    "    Args:\n",
    "        model: PyTorch model\n",
    "    \"\"\"\n",
    "    total_params = sum(p.numel() for p in model.parameters())\n",
    "    trainable_params = sum(p.numel() for p in model.parameters() if p.requires_grad)\n",
    "    non_trainable_params = total_params - trainable_params\n",
    "    \n",
    "    print(f\"Total parameters: {total_params:,}\")\n",
    "    print(f\"Trainable parameters: {trainable_params:,} ({trainable_params/total_params:.2%})\")\n",
    "    print(f\"Non-trainable parameters: {non_trainable_params:,} ({non_trainable_params/total_params:.2%})\")\n",
    "    \n",
    "    # Optional: Print parameters by layer\n",
    "    print(\"\\nParameters by layer:\")\n",
    "    for name, param in model.named_parameters():\n",
    "        print(f\"{name}: {param.numel():,} parameters\")\n",
    "\n",
    "# Example usage\n",
    "print_model_parameters(model_interface.model)"
   ]
  }
 ],
 "metadata": {
  "kernelspec": {
   "display_name": "dots-and-boxes",
   "language": "python",
   "name": "python3"
  },
  "language_info": {
   "codemirror_mode": {
    "name": "ipython",
    "version": 3
   },
   "file_extension": ".py",
   "mimetype": "text/x-python",
   "name": "python",
   "nbconvert_exporter": "python",
   "pygments_lexer": "ipython3",
   "version": "3.13.1"
  }
 },
 "nbformat": 4,
 "nbformat_minor": 2
}
