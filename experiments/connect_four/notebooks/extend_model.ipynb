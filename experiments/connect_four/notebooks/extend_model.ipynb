{
 "cells": [
  {
   "cell_type": "code",
   "execution_count": 1,
   "id": "6da03342",
   "metadata": {},
   "outputs": [
    {
     "name": "stdout",
     "output_type": "stream",
     "text": [
      "Working directory: /Users/eohjelle/Documents/2025-mcts-playground/mcts-playground\n"
     ]
    }
   ],
   "source": [
    "# Change directory to the root of the project\n",
    "import os \n",
    "os.chdir('../../..')\n",
    "print(f\"Working directory: {os.getcwd()}\")"
   ]
  },
  {
   "cell_type": "markdown",
   "id": "d164496d",
   "metadata": {},
   "source": [
    "This notebook takes a pretrained 5 layer resnet model, adds 3 layers to it and saves to file."
   ]
  },
  {
   "cell_type": "code",
   "execution_count": 4,
   "id": "72aa7c3b",
   "metadata": {},
   "outputs": [],
   "source": [
    "import torch\n",
    "from core import Model\n",
    "from experiments.connect_four.models.resnet import ResNet, ResNetInitParams\n",
    "\n",
    "old_params = ResNetInitParams(in_channels=2, num_residual_blocks=5, channels=64, rows=6, cols=7, policy_head_dim=7) # For comparison\n",
    "new_params = ResNetInitParams(in_channels=2, num_residual_blocks=8, channels=64, rows=6, cols=7, policy_head_dim=7)"
   ]
  },
  {
   "cell_type": "code",
   "execution_count": 5,
   "id": "01b570b5",
   "metadata": {},
   "outputs": [],
   "source": [
    "full_old_model = Model.from_file(\n",
    "    model_architecture=ResNet,\n",
    "    path=\"experiments/connect_four/resnet_model.pt\",\n",
    "    device=torch.device('cpu')\n",
    ")\n",
    "full_new_model = Model(\n",
    "    model_architecture=ResNet,\n",
    "    init_params=new_params,\n",
    "    device=torch.device('cpu')\n",
    ")"
   ]
  },
  {
   "cell_type": "code",
   "execution_count": 7,
   "id": "3347c4c4",
   "metadata": {},
   "outputs": [
    {
     "name": "stdout",
     "output_type": "stream",
     "text": [
      "Weights copied for 76 tensors\n",
      "Missing keys (new layers): ['residual_layers.5.conv1.weight', 'residual_layers.5.bn1.weight', 'residual_layers.5.bn1.bias', 'residual_layers.5.bn1.running_mean', 'residual_layers.5.bn1.running_var', 'residual_layers.5.conv2.weight', 'residual_layers.5.bn2.weight', 'residual_layers.5.bn2.bias', 'residual_layers.5.bn2.running_mean', 'residual_layers.5.bn2.running_var', 'residual_layers.6.conv1.weight', 'residual_layers.6.bn1.weight', 'residual_layers.6.bn1.bias', 'residual_layers.6.bn1.running_mean', 'residual_layers.6.bn1.running_var', 'residual_layers.6.conv2.weight', 'residual_layers.6.bn2.weight', 'residual_layers.6.bn2.bias', 'residual_layers.6.bn2.running_mean', 'residual_layers.6.bn2.running_var', 'residual_layers.7.conv1.weight', 'residual_layers.7.bn1.weight', 'residual_layers.7.bn1.bias', 'residual_layers.7.bn1.running_mean', 'residual_layers.7.bn1.running_var', 'residual_layers.7.conv2.weight', 'residual_layers.7.bn2.weight', 'residual_layers.7.bn2.bias', 'residual_layers.7.bn2.running_mean', 'residual_layers.7.bn2.running_var']\n",
      "Unexpected keys: []\n"
     ]
    }
   ],
   "source": [
    "# Try to load old model weights into larger model.\n",
    "\n",
    "# copy what matches, ignore everything else\n",
    "missing, unexpected = full_new_model.model.load_state_dict(\n",
    "    full_old_model.model.state_dict(),\n",
    "    strict=False          # ← key option\n",
    ")\n",
    "\n",
    "print(\"Weights copied for\", len(full_old_model.model.state_dict()), \"tensors\")\n",
    "print(\"Missing keys (new layers):\", missing)        # should list block 5-7 params\n",
    "print(\"Unexpected keys:\", unexpected)               # usually empty here"
   ]
  },
  {
   "cell_type": "code",
   "execution_count": 8,
   "id": "f74c3428",
   "metadata": {},
   "outputs": [],
   "source": [
    "full_new_model.save_to_file(\"experiments/connect_four/resnet_model_large.pt\")"
   ]
  }
 ],
 "metadata": {
  "kernelspec": {
   "display_name": "mcts-playground",
   "language": "python",
   "name": "python3"
  },
  "language_info": {
   "codemirror_mode": {
    "name": "ipython",
    "version": 3
   },
   "file_extension": ".py",
   "mimetype": "text/x-python",
   "name": "python",
   "nbconvert_exporter": "python",
   "pygments_lexer": "ipython3",
   "version": "3.13.5"
  }
 },
 "nbformat": 4,
 "nbformat_minor": 5
}
