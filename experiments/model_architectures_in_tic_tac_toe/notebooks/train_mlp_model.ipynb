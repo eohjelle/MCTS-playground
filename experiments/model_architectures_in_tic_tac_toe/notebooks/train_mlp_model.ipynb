{
 "cells": [
  {
   "cell_type": "code",
   "execution_count": 1,
   "metadata": {},
   "outputs": [
    {
     "name": "stdout",
     "output_type": "stream",
     "text": [
      "Working directory: /Users/eohjelle/Documents/2025-dots-and-boxes/dots-and-boxes\n"
     ]
    }
   ],
   "source": [
    "# Change directory to the root of the project\n",
    "import os \n",
    "os.chdir('..')\n",
    "os.chdir('..')\n",
    "os.chdir('..')\n",
    "print(f\"Working directory: {os.getcwd()}\")"
   ]
  },
  {
   "cell_type": "code",
   "execution_count": 2,
   "metadata": {},
   "outputs": [],
   "source": [
    "from applications.tic_tac_toe.models.mlp_model import MLPInitParams\n",
    "import torch\n",
    "\n",
    "# Initialize parameters\n",
    "\n",
    "## Model parameters\n",
    "model_type = 'mlp'\n",
    "model_params: MLPInitParams = {\n",
    "    'hidden_sizes': [2**12, 2**12]\n",
    "}\n",
    "device = torch.device('mps')\n",
    "model_name = 'tic_tac_toe_mlp'\n",
    "\n",
    "## Initialize new model\n",
    "load_model = None\n",
    "load_model_params = {}\n",
    "\n",
    "\n",
    "## Optimizer parameters\n",
    "optimizer_type = 'adam'\n",
    "optimizer_params = {\n",
    "    'lr': 1e-2,\n",
    "    'betas': (0.9, 0.999),\n",
    "    'eps': 1e-8,\n",
    "    'weight_decay': 1e-4,\n",
    "    'amsgrad': False\n",
    "}\n",
    "\n",
    "## Learning scheduler parameters\n",
    "lr_scheduler_type = 'plateau'\n",
    "lr_scheduler_params = {\n",
    "    'factor': 0.5,\n",
    "    'patience': 25,\n",
    "    'cooldown': 50,\n",
    "    'min_lr': 1e-6\n",
    "}\n",
    "\n",
    "## Training parameters\n",
    "training_method = 'supervised'\n",
    "trainer_params = {}\n",
    "training_params = {\n",
    "    'epochs': 200,\n",
    "    'batch_size': 256,\n",
    "    'eval_freq': 25,\n",
    "    'checkpoint_freq': 50,\n",
    "    'mask_illegal_moves': False,\n",
    "    'mask_value': -20.0, # Doesn't matter when mask_illegal_moves is False\n",
    "    'checkpoint_dir': 'checkpoints',\n",
    "    'start_at': 1\n",
    "}\n",
    "\n",
    "## Load replay buffer from wandb\n",
    "load_replay_buffer = 'from_wandb'\n",
    "load_replay_buffer_params = {\n",
    "    'project': 'AlphaZero-TicTacToe',\n",
    "    'artifact_name': f'tic_tac_toe_MLPTensorMapping_training_data',\n",
    "    'artifact_version': 'latest'\n",
    "}\n"
   ]
  },
  {
   "cell_type": "code",
   "execution_count": 3,
   "metadata": {},
   "outputs": [
    {
     "name": "stderr",
     "output_type": "stream",
     "text": [
      "\u001b[34m\u001b[1mwandb\u001b[0m: Currently logged in as: \u001b[33meohjelle\u001b[0m (\u001b[33meigenway\u001b[0m) to \u001b[32mhttps://api.wandb.ai\u001b[0m. Use \u001b[1m`wandb login --relogin`\u001b[0m to force relogin\n",
      "\u001b[34m\u001b[1mwandb\u001b[0m: Using wandb-core as the SDK backend.  Please refer to https://wandb.me/wandb-core for more information.\n"
     ]
    },
    {
     "data": {
      "text/html": [
       "Tracking run with wandb version 0.19.6"
      ],
      "text/plain": [
       "<IPython.core.display.HTML object>"
      ]
     },
     "metadata": {},
     "output_type": "display_data"
    },
    {
     "data": {
      "text/html": [
       "Run data is saved locally in <code>/Users/eohjelle/Documents/2025-dots-and-boxes/dots-and-boxes/wandb/run-20250317_093653-1r1u5ay6</code>"
      ],
      "text/plain": [
       "<IPython.core.display.HTML object>"
      ]
     },
     "metadata": {},
     "output_type": "display_data"
    },
    {
     "data": {
      "text/html": [
       "Syncing run <strong><a href='https://wandb.ai/eigenway/AlphaZero-TicTacToe/runs/1r1u5ay6' target=\"_blank\">MLP 5</a></strong> to <a href='https://wandb.ai/eigenway/AlphaZero-TicTacToe' target=\"_blank\">Weights & Biases</a> (<a href='https://wandb.me/developer-guide' target=\"_blank\">docs</a>)<br>"
      ],
      "text/plain": [
       "<IPython.core.display.HTML object>"
      ]
     },
     "metadata": {},
     "output_type": "display_data"
    },
    {
     "data": {
      "text/html": [
       " View project at <a href='https://wandb.ai/eigenway/AlphaZero-TicTacToe' target=\"_blank\">https://wandb.ai/eigenway/AlphaZero-TicTacToe</a>"
      ],
      "text/plain": [
       "<IPython.core.display.HTML object>"
      ]
     },
     "metadata": {},
     "output_type": "display_data"
    },
    {
     "data": {
      "text/html": [
       " View run at <a href='https://wandb.ai/eigenway/AlphaZero-TicTacToe/runs/1r1u5ay6' target=\"_blank\">https://wandb.ai/eigenway/AlphaZero-TicTacToe/runs/1r1u5ay6</a>"
      ],
      "text/plain": [
       "<IPython.core.display.HTML object>"
      ]
     },
     "metadata": {},
     "output_type": "display_data"
    }
   ],
   "source": [
    "# Initialize wandb run\n",
    "import wandb\n",
    "\n",
    "run_name = 'MLP 5'\n",
    "notes = 'Millions of parameters.'\n",
    "\n",
    "config = {\n",
    "    'model_type': model_type,\n",
    "    'model_params': model_params,\n",
    "    'optimizer_type': optimizer_type,\n",
    "    'optimizer_params': optimizer_params,\n",
    "    'lr_scheduler_type': lr_scheduler_type,\n",
    "    'lr_scheduler_params': lr_scheduler_params,\n",
    "    'training_method': training_method,\n",
    "    'trainer_params': trainer_params,\n",
    "    'training_params': training_params\n",
    "}\n",
    "\n",
    "run = wandb.init(\n",
    "    project='AlphaZero-TicTacToe',\n",
    "    name=run_name,\n",
    "    config=config,\n",
    "    notes=notes\n",
    ")"
   ]
  },
  {
   "cell_type": "code",
   "execution_count": 4,
   "metadata": {},
   "outputs": [
    {
     "name": "stderr",
     "output_type": "stream",
     "text": [
      "\u001b[34m\u001b[1mwandb\u001b[0m: logging graph, to disable use `wandb.watch(log_graph=False)`\n",
      "\u001b[34m\u001b[1mwandb\u001b[0m:   1 of 1 files downloaded.  \n",
      "/Users/eohjelle/Documents/2025-dots-and-boxes/dots-and-boxes/core/data_structures.py:94: FutureWarning: You are using `torch.load` with `weights_only=False` (the current default value), which uses the default pickle module implicitly. It is possible to construct malicious pickle data which will execute arbitrary code during unpickling (See https://github.com/pytorch/pytorch/blob/main/SECURITY.md#untrusted-models for more details). In a future release, the default value for `weights_only` will be flipped to `True`. This limits the functions that could be executed during unpickling. Arbitrary objects will no longer be allowed to be loaded via this mode unless they are explicitly allowlisted by the user via `torch.serialization.add_safe_globals`. We recommend you start setting `weights_only=True` for any use case where you don't have full control of the loaded file. Please open an issue on GitHub for any issues related to this experimental feature.\n",
      "  checkpoint = torch.load(path, map_location=device)\n"
     ]
    },
    {
     "name": "stdout",
     "output_type": "stream",
     "text": [
      "Epoch 1/200, Train Loss: 10.5864, Val Loss: 2.0314, Learning rate: 0.010000\n",
      "Epoch 2/200, Train Loss: 1.5287, Val Loss: 1.1888, Learning rate: 0.010000\n",
      "Epoch 3/200, Train Loss: 0.9061, Val Loss: 0.8068, Learning rate: 0.010000\n",
      "Epoch 4/200, Train Loss: 0.7487, Val Loss: 0.8039, Learning rate: 0.010000\n",
      "Epoch 5/200, Train Loss: 0.7142, Val Loss: 0.7598, Learning rate: 0.010000\n",
      "Epoch 6/200, Train Loss: 0.6398, Val Loss: 0.7258, Learning rate: 0.010000\n",
      "Epoch 7/200, Train Loss: 0.6068, Val Loss: 0.7344, Learning rate: 0.010000\n",
      "Epoch 8/200, Train Loss: 0.5863, Val Loss: 0.6949, Learning rate: 0.010000\n",
      "Epoch 9/200, Train Loss: 0.5719, Val Loss: 0.6999, Learning rate: 0.010000\n",
      "Epoch 10/200, Train Loss: 0.5635, Val Loss: 0.6991, Learning rate: 0.010000\n",
      "Epoch 11/200, Train Loss: 0.5541, Val Loss: 0.7009, Learning rate: 0.010000\n",
      "Epoch 12/200, Train Loss: 0.5384, Val Loss: 0.7051, Learning rate: 0.010000\n",
      "Epoch 13/200, Train Loss: 0.5382, Val Loss: 0.7019, Learning rate: 0.010000\n",
      "Epoch 14/200, Train Loss: 0.5360, Val Loss: 0.6734, Learning rate: 0.010000\n",
      "Epoch 15/200, Train Loss: 0.5383, Val Loss: 0.6869, Learning rate: 0.010000\n",
      "Epoch 16/200, Train Loss: 0.5321, Val Loss: 0.6912, Learning rate: 0.010000\n",
      "Epoch 17/200, Train Loss: 0.5316, Val Loss: 0.6809, Learning rate: 0.010000\n",
      "Epoch 18/200, Train Loss: 0.5340, Val Loss: 0.7047, Learning rate: 0.010000\n",
      "Epoch 19/200, Train Loss: 0.5200, Val Loss: 0.6614, Learning rate: 0.010000\n",
      "Epoch 20/200, Train Loss: 0.5181, Val Loss: 0.6777, Learning rate: 0.010000\n",
      "Epoch 21/200, Train Loss: 0.5229, Val Loss: 0.6613, Learning rate: 0.010000\n",
      "Epoch 22/200, Train Loss: 0.5147, Val Loss: 0.6847, Learning rate: 0.010000\n",
      "Epoch 23/200, Train Loss: 0.5140, Val Loss: 0.6673, Learning rate: 0.010000\n",
      "Epoch 24/200, Train Loss: 0.5078, Val Loss: 0.6733, Learning rate: 0.010000\n",
      "Epoch 25/200, Train Loss: 0.5116, Val Loss: 0.6740, Learning rate: 0.010000\n",
      "Minimax score: -0.01\n",
      "RandomAgent score: 0.89\n",
      "MCTS score: 0.15\n",
      "Epoch 26/200, Train Loss: 0.5232, Val Loss: 0.6606, Learning rate: 0.010000\n",
      "Epoch 27/200, Train Loss: 0.5200, Val Loss: 0.6708, Learning rate: 0.010000\n",
      "Epoch 28/200, Train Loss: 0.5089, Val Loss: 0.6571, Learning rate: 0.010000\n",
      "Epoch 29/200, Train Loss: 0.5116, Val Loss: 0.6355, Learning rate: 0.010000\n",
      "Epoch 30/200, Train Loss: 0.5002, Val Loss: 0.6362, Learning rate: 0.010000\n",
      "Epoch 31/200, Train Loss: 0.4978, Val Loss: 0.6344, Learning rate: 0.010000\n",
      "Epoch 32/200, Train Loss: 0.4937, Val Loss: 0.6429, Learning rate: 0.010000\n",
      "Epoch 33/200, Train Loss: 0.4992, Val Loss: 0.6598, Learning rate: 0.010000\n",
      "Epoch 34/200, Train Loss: 0.4978, Val Loss: 0.6255, Learning rate: 0.010000\n",
      "Epoch 35/200, Train Loss: 0.4926, Val Loss: 0.6308, Learning rate: 0.010000\n",
      "Epoch 36/200, Train Loss: 0.5019, Val Loss: 0.6338, Learning rate: 0.010000\n",
      "Epoch 37/200, Train Loss: 0.4950, Val Loss: 0.6368, Learning rate: 0.010000\n",
      "Epoch 38/200, Train Loss: 0.4958, Val Loss: 0.6333, Learning rate: 0.010000\n",
      "Epoch 39/200, Train Loss: 0.5057, Val Loss: 0.6471, Learning rate: 0.010000\n",
      "Epoch 40/200, Train Loss: 0.5499, Val Loss: 0.6659, Learning rate: 0.010000\n",
      "Epoch 41/200, Train Loss: 0.5834, Val Loss: 0.7333, Learning rate: 0.010000\n",
      "Epoch 42/200, Train Loss: 0.5896, Val Loss: 0.6933, Learning rate: 0.010000\n",
      "Epoch 43/200, Train Loss: 0.5434, Val Loss: 0.6465, Learning rate: 0.010000\n",
      "Epoch 44/200, Train Loss: 0.5155, Val Loss: 0.6111, Learning rate: 0.010000\n",
      "Epoch 45/200, Train Loss: 0.4945, Val Loss: 0.5953, Learning rate: 0.010000\n",
      "Epoch 46/200, Train Loss: 0.4809, Val Loss: 0.6130, Learning rate: 0.010000\n",
      "Epoch 47/200, Train Loss: 0.4761, Val Loss: 0.5992, Learning rate: 0.010000\n",
      "Epoch 48/200, Train Loss: 0.4683, Val Loss: 0.5946, Learning rate: 0.010000\n",
      "Epoch 49/200, Train Loss: 0.4784, Val Loss: 0.5850, Learning rate: 0.010000\n",
      "Epoch 50/200, Train Loss: 0.4740, Val Loss: 0.5955, Learning rate: 0.010000\n",
      "Minimax score: -0.07\n",
      "RandomAgent score: 0.88\n",
      "MCTS score: -0.04000000000000001\n",
      "Epoch 51/200, Train Loss: 0.4751, Val Loss: 0.5956, Learning rate: 0.010000\n",
      "Epoch 52/200, Train Loss: 0.4732, Val Loss: 0.5926, Learning rate: 0.010000\n",
      "Epoch 53/200, Train Loss: 0.4744, Val Loss: 0.5855, Learning rate: 0.010000\n",
      "Epoch 54/200, Train Loss: 0.4654, Val Loss: 0.5858, Learning rate: 0.010000\n",
      "Epoch 55/200, Train Loss: 0.4664, Val Loss: 0.5774, Learning rate: 0.010000\n",
      "Epoch 56/200, Train Loss: 0.4734, Val Loss: 0.5916, Learning rate: 0.010000\n",
      "Epoch 57/200, Train Loss: 0.4749, Val Loss: 0.5810, Learning rate: 0.010000\n",
      "Epoch 58/200, Train Loss: 0.4786, Val Loss: 0.5765, Learning rate: 0.010000\n",
      "Epoch 59/200, Train Loss: 0.4735, Val Loss: 0.5907, Learning rate: 0.010000\n",
      "Epoch 60/200, Train Loss: 0.4742, Val Loss: 0.5962, Learning rate: 0.010000\n",
      "Epoch 61/200, Train Loss: 0.4757, Val Loss: 0.5795, Learning rate: 0.010000\n",
      "Epoch 62/200, Train Loss: 0.4816, Val Loss: 0.5810, Learning rate: 0.010000\n",
      "Epoch 63/200, Train Loss: 0.4717, Val Loss: 0.5870, Learning rate: 0.010000\n",
      "Epoch 64/200, Train Loss: 0.4662, Val Loss: 0.5696, Learning rate: 0.010000\n",
      "Epoch 65/200, Train Loss: 0.4699, Val Loss: 0.5729, Learning rate: 0.010000\n",
      "Epoch 66/200, Train Loss: 0.4770, Val Loss: 0.5785, Learning rate: 0.010000\n",
      "Epoch 67/200, Train Loss: 0.4704, Val Loss: 0.5864, Learning rate: 0.010000\n",
      "Epoch 68/200, Train Loss: 0.4733, Val Loss: 0.5817, Learning rate: 0.010000\n",
      "Epoch 69/200, Train Loss: 0.4740, Val Loss: 0.5844, Learning rate: 0.010000\n",
      "Epoch 70/200, Train Loss: 0.4803, Val Loss: 0.5856, Learning rate: 0.010000\n",
      "Epoch 71/200, Train Loss: 0.4744, Val Loss: 0.5711, Learning rate: 0.010000\n",
      "Epoch 72/200, Train Loss: 0.4683, Val Loss: 0.5857, Learning rate: 0.010000\n",
      "Epoch 73/200, Train Loss: 0.4790, Val Loss: 0.5864, Learning rate: 0.010000\n",
      "Epoch 74/200, Train Loss: 0.5038, Val Loss: 0.7101, Learning rate: 0.010000\n",
      "Epoch 75/200, Train Loss: 0.5736, Val Loss: 0.7717, Learning rate: 0.010000\n",
      "Minimax score: -0.07\n",
      "RandomAgent score: 0.93\n",
      "MCTS score: -0.04000000000000001\n",
      "Epoch 76/200, Train Loss: 0.6141, Val Loss: 0.6991, Learning rate: 0.010000\n",
      "Epoch 77/200, Train Loss: 0.5366, Val Loss: 0.6052, Learning rate: 0.010000\n",
      "Epoch 78/200, Train Loss: 0.5212, Val Loss: 0.5892, Learning rate: 0.010000\n",
      "Epoch 79/200, Train Loss: 0.5044, Val Loss: 0.5889, Learning rate: 0.010000\n",
      "Epoch 80/200, Train Loss: 0.4897, Val Loss: 0.5910, Learning rate: 0.010000\n",
      "Epoch 81/200, Train Loss: 0.4658, Val Loss: 0.5441, Learning rate: 0.005000\n",
      "Epoch 82/200, Train Loss: 0.4472, Val Loss: 0.5450, Learning rate: 0.005000\n",
      "Epoch 83/200, Train Loss: 0.4365, Val Loss: 0.5441, Learning rate: 0.005000\n",
      "Epoch 84/200, Train Loss: 0.4306, Val Loss: 0.5396, Learning rate: 0.005000\n",
      "Epoch 85/200, Train Loss: 0.4305, Val Loss: 0.5457, Learning rate: 0.005000\n",
      "Epoch 86/200, Train Loss: 0.4294, Val Loss: 0.5479, Learning rate: 0.005000\n",
      "Epoch 87/200, Train Loss: 0.4280, Val Loss: 0.5510, Learning rate: 0.005000\n",
      "Epoch 88/200, Train Loss: 0.4279, Val Loss: 0.5462, Learning rate: 0.005000\n",
      "Epoch 89/200, Train Loss: 0.4302, Val Loss: 0.5446, Learning rate: 0.005000\n",
      "Epoch 90/200, Train Loss: 0.4274, Val Loss: 0.5470, Learning rate: 0.005000\n",
      "Epoch 91/200, Train Loss: 0.4259, Val Loss: 0.5481, Learning rate: 0.005000\n",
      "Epoch 92/200, Train Loss: 0.4289, Val Loss: 0.5442, Learning rate: 0.005000\n",
      "Epoch 93/200, Train Loss: 0.4270, Val Loss: 0.5569, Learning rate: 0.005000\n",
      "Epoch 94/200, Train Loss: 0.4333, Val Loss: 0.5473, Learning rate: 0.005000\n",
      "Epoch 95/200, Train Loss: 0.4305, Val Loss: 0.5478, Learning rate: 0.005000\n",
      "Epoch 96/200, Train Loss: 0.4320, Val Loss: 0.5427, Learning rate: 0.005000\n",
      "Epoch 97/200, Train Loss: 0.4299, Val Loss: 0.5465, Learning rate: 0.005000\n",
      "Epoch 98/200, Train Loss: 0.4255, Val Loss: 0.5528, Learning rate: 0.005000\n",
      "Epoch 99/200, Train Loss: 0.4305, Val Loss: 0.5502, Learning rate: 0.005000\n",
      "Epoch 100/200, Train Loss: 0.4352, Val Loss: 0.5540, Learning rate: 0.005000\n",
      "Minimax score: -0.04\n",
      "RandomAgent score: 0.83\n",
      "MCTS score: -0.08000000000000002\n",
      "Epoch 101/200, Train Loss: 0.4328, Val Loss: 0.5505, Learning rate: 0.005000\n",
      "Epoch 102/200, Train Loss: 0.4310, Val Loss: 0.5519, Learning rate: 0.005000\n",
      "Epoch 103/200, Train Loss: 0.4321, Val Loss: 0.5556, Learning rate: 0.005000\n",
      "Epoch 104/200, Train Loss: 0.4339, Val Loss: 0.5455, Learning rate: 0.005000\n",
      "Epoch 105/200, Train Loss: 0.4318, Val Loss: 0.5553, Learning rate: 0.005000\n",
      "Epoch 106/200, Train Loss: 0.4328, Val Loss: 0.5474, Learning rate: 0.005000\n",
      "Epoch 107/200, Train Loss: 0.4346, Val Loss: 0.5520, Learning rate: 0.005000\n",
      "Epoch 108/200, Train Loss: 0.4351, Val Loss: 0.5415, Learning rate: 0.005000\n",
      "Epoch 109/200, Train Loss: 0.4327, Val Loss: 0.5431, Learning rate: 0.005000\n",
      "Epoch 110/200, Train Loss: 0.4351, Val Loss: 0.5552, Learning rate: 0.005000\n",
      "Epoch 111/200, Train Loss: 0.4386, Val Loss: 0.5473, Learning rate: 0.005000\n",
      "Epoch 112/200, Train Loss: 0.4381, Val Loss: 0.5592, Learning rate: 0.005000\n",
      "Epoch 113/200, Train Loss: 0.4372, Val Loss: 0.5457, Learning rate: 0.005000\n",
      "Epoch 114/200, Train Loss: 0.4417, Val Loss: 0.5394, Learning rate: 0.005000\n",
      "Epoch 115/200, Train Loss: 0.4359, Val Loss: 0.5519, Learning rate: 0.005000\n",
      "Epoch 116/200, Train Loss: 0.4365, Val Loss: 0.5405, Learning rate: 0.005000\n",
      "Epoch 117/200, Train Loss: 0.4326, Val Loss: 0.5425, Learning rate: 0.005000\n",
      "Epoch 118/200, Train Loss: 0.4375, Val Loss: 0.5470, Learning rate: 0.005000\n",
      "Epoch 119/200, Train Loss: 0.4356, Val Loss: 0.5474, Learning rate: 0.005000\n",
      "Epoch 120/200, Train Loss: 0.4359, Val Loss: 0.5520, Learning rate: 0.005000\n",
      "Epoch 121/200, Train Loss: 0.4356, Val Loss: 0.5545, Learning rate: 0.005000\n",
      "Epoch 122/200, Train Loss: 0.4387, Val Loss: 0.5440, Learning rate: 0.005000\n",
      "Epoch 123/200, Train Loss: 0.4300, Val Loss: 0.5472, Learning rate: 0.005000\n",
      "Epoch 124/200, Train Loss: 0.4407, Val Loss: 0.5421, Learning rate: 0.005000\n",
      "Epoch 125/200, Train Loss: 0.4424, Val Loss: 0.5410, Learning rate: 0.005000\n",
      "Minimax score: 0.0\n",
      "RandomAgent score: 0.96\n",
      "MCTS score: 0.18\n",
      "Epoch 126/200, Train Loss: 0.4380, Val Loss: 0.5408, Learning rate: 0.005000\n",
      "Epoch 127/200, Train Loss: 0.4439, Val Loss: 0.5499, Learning rate: 0.005000\n",
      "Epoch 128/200, Train Loss: 0.4407, Val Loss: 0.5458, Learning rate: 0.005000\n",
      "Epoch 129/200, Train Loss: 0.4387, Val Loss: 0.5497, Learning rate: 0.005000\n",
      "Epoch 130/200, Train Loss: 0.4343, Val Loss: 0.5405, Learning rate: 0.005000\n",
      "Epoch 131/200, Train Loss: 0.4387, Val Loss: 0.5420, Learning rate: 0.005000\n",
      "Epoch 132/200, Train Loss: 0.4383, Val Loss: 0.5449, Learning rate: 0.005000\n",
      "Epoch 133/200, Train Loss: 0.4341, Val Loss: 0.5373, Learning rate: 0.005000\n",
      "Epoch 134/200, Train Loss: 0.4374, Val Loss: 0.5345, Learning rate: 0.005000\n",
      "Epoch 135/200, Train Loss: 0.4338, Val Loss: 0.5373, Learning rate: 0.005000\n",
      "Epoch 136/200, Train Loss: 0.4392, Val Loss: 0.5398, Learning rate: 0.005000\n",
      "Epoch 137/200, Train Loss: 0.4384, Val Loss: 0.5478, Learning rate: 0.005000\n",
      "Epoch 138/200, Train Loss: 0.4368, Val Loss: 0.5293, Learning rate: 0.005000\n",
      "Epoch 139/200, Train Loss: 0.4415, Val Loss: 0.5401, Learning rate: 0.005000\n",
      "Epoch 140/200, Train Loss: 0.4324, Val Loss: 0.5311, Learning rate: 0.005000\n",
      "Epoch 141/200, Train Loss: 0.4387, Val Loss: 0.5396, Learning rate: 0.005000\n",
      "Epoch 142/200, Train Loss: 0.4431, Val Loss: 0.5355, Learning rate: 0.005000\n",
      "Epoch 143/200, Train Loss: 0.4368, Val Loss: 0.5300, Learning rate: 0.005000\n",
      "Epoch 144/200, Train Loss: 0.4386, Val Loss: 0.5409, Learning rate: 0.005000\n",
      "Epoch 145/200, Train Loss: 0.4403, Val Loss: 0.5450, Learning rate: 0.005000\n",
      "Epoch 146/200, Train Loss: 0.4335, Val Loss: 0.5338, Learning rate: 0.005000\n",
      "Epoch 147/200, Train Loss: 0.4329, Val Loss: 0.5399, Learning rate: 0.005000\n",
      "Epoch 148/200, Train Loss: 0.4374, Val Loss: 0.5338, Learning rate: 0.005000\n",
      "Epoch 149/200, Train Loss: 0.4392, Val Loss: 0.5430, Learning rate: 0.005000\n",
      "Epoch 150/200, Train Loss: 0.4365, Val Loss: 0.5278, Learning rate: 0.005000\n",
      "Minimax score: -0.03\n",
      "RandomAgent score: 0.91\n",
      "MCTS score: -0.15\n",
      "Epoch 151/200, Train Loss: 0.4344, Val Loss: 0.5438, Learning rate: 0.005000\n",
      "Epoch 152/200, Train Loss: 0.4343, Val Loss: 0.5362, Learning rate: 0.005000\n",
      "Epoch 153/200, Train Loss: 0.4347, Val Loss: 0.5304, Learning rate: 0.005000\n",
      "Epoch 154/200, Train Loss: 0.4345, Val Loss: 0.5373, Learning rate: 0.005000\n",
      "Epoch 155/200, Train Loss: 0.4438, Val Loss: 0.5375, Learning rate: 0.005000\n",
      "Epoch 156/200, Train Loss: 0.4421, Val Loss: 0.5425, Learning rate: 0.005000\n",
      "Epoch 157/200, Train Loss: 0.4312, Val Loss: 0.5334, Learning rate: 0.002500\n",
      "Epoch 158/200, Train Loss: 0.4269, Val Loss: 0.5331, Learning rate: 0.002500\n",
      "Epoch 159/200, Train Loss: 0.4227, Val Loss: 0.5345, Learning rate: 0.002500\n",
      "Epoch 160/200, Train Loss: 0.4249, Val Loss: 0.5355, Learning rate: 0.002500\n",
      "Epoch 161/200, Train Loss: 0.4217, Val Loss: 0.5369, Learning rate: 0.002500\n",
      "Epoch 162/200, Train Loss: 0.4222, Val Loss: 0.5400, Learning rate: 0.002500\n",
      "Epoch 163/200, Train Loss: 0.4207, Val Loss: 0.5327, Learning rate: 0.002500\n",
      "Epoch 164/200, Train Loss: 0.4194, Val Loss: 0.5391, Learning rate: 0.002500\n",
      "Epoch 165/200, Train Loss: 0.4189, Val Loss: 0.5351, Learning rate: 0.002500\n",
      "Epoch 166/200, Train Loss: 0.4192, Val Loss: 0.5366, Learning rate: 0.002500\n",
      "Epoch 167/200, Train Loss: 0.4239, Val Loss: 0.5439, Learning rate: 0.002500\n",
      "Epoch 168/200, Train Loss: 0.4213, Val Loss: 0.5389, Learning rate: 0.002500\n",
      "Epoch 169/200, Train Loss: 0.4169, Val Loss: 0.5362, Learning rate: 0.002500\n",
      "Epoch 170/200, Train Loss: 0.4203, Val Loss: 0.5385, Learning rate: 0.002500\n",
      "Epoch 171/200, Train Loss: 0.4215, Val Loss: 0.5376, Learning rate: 0.002500\n",
      "Epoch 172/200, Train Loss: 0.4225, Val Loss: 0.5348, Learning rate: 0.002500\n",
      "Epoch 173/200, Train Loss: 0.4156, Val Loss: 0.5419, Learning rate: 0.002500\n",
      "Epoch 174/200, Train Loss: 0.4222, Val Loss: 0.5456, Learning rate: 0.002500\n",
      "Epoch 175/200, Train Loss: 0.4198, Val Loss: 0.5343, Learning rate: 0.002500\n",
      "Minimax score: 0.0\n",
      "RandomAgent score: 0.93\n",
      "MCTS score: 0.22\n",
      "Epoch 176/200, Train Loss: 0.4214, Val Loss: 0.5363, Learning rate: 0.002500\n",
      "Epoch 177/200, Train Loss: 0.4214, Val Loss: 0.5381, Learning rate: 0.002500\n",
      "Epoch 178/200, Train Loss: 0.4197, Val Loss: 0.5392, Learning rate: 0.002500\n",
      "Epoch 179/200, Train Loss: 0.4239, Val Loss: 0.5387, Learning rate: 0.002500\n",
      "Epoch 180/200, Train Loss: 0.4248, Val Loss: 0.5408, Learning rate: 0.002500\n",
      "Epoch 181/200, Train Loss: 0.4235, Val Loss: 0.5325, Learning rate: 0.002500\n",
      "Epoch 182/200, Train Loss: 0.4213, Val Loss: 0.5480, Learning rate: 0.002500\n",
      "Epoch 183/200, Train Loss: 0.4218, Val Loss: 0.5405, Learning rate: 0.002500\n",
      "Epoch 184/200, Train Loss: 0.4197, Val Loss: 0.5356, Learning rate: 0.002500\n",
      "Epoch 185/200, Train Loss: 0.4247, Val Loss: 0.5306, Learning rate: 0.002500\n",
      "Epoch 186/200, Train Loss: 0.4223, Val Loss: 0.5415, Learning rate: 0.002500\n",
      "Epoch 187/200, Train Loss: 0.4238, Val Loss: 0.5390, Learning rate: 0.002500\n",
      "Epoch 188/200, Train Loss: 0.4171, Val Loss: 0.5387, Learning rate: 0.002500\n",
      "Epoch 189/200, Train Loss: 0.4236, Val Loss: 0.5484, Learning rate: 0.002500\n",
      "Epoch 190/200, Train Loss: 0.4255, Val Loss: 0.5399, Learning rate: 0.002500\n",
      "Epoch 191/200, Train Loss: 0.4203, Val Loss: 0.5342, Learning rate: 0.002500\n",
      "Epoch 192/200, Train Loss: 0.4216, Val Loss: 0.5345, Learning rate: 0.002500\n",
      "Epoch 193/200, Train Loss: 0.4204, Val Loss: 0.5354, Learning rate: 0.002500\n",
      "Epoch 194/200, Train Loss: 0.4202, Val Loss: 0.5367, Learning rate: 0.002500\n",
      "Epoch 195/200, Train Loss: 0.4184, Val Loss: 0.5406, Learning rate: 0.002500\n",
      "Epoch 196/200, Train Loss: 0.4197, Val Loss: 0.5399, Learning rate: 0.002500\n",
      "Epoch 197/200, Train Loss: 0.4217, Val Loss: 0.5401, Learning rate: 0.002500\n",
      "Epoch 198/200, Train Loss: 0.4235, Val Loss: 0.5458, Learning rate: 0.002500\n",
      "Epoch 199/200, Train Loss: 0.4202, Val Loss: 0.5460, Learning rate: 0.002500\n",
      "Epoch 200/200, Train Loss: 0.4223, Val Loss: 0.5436, Learning rate: 0.002500\n",
      "Minimax score: 0.0\n",
      "RandomAgent score: 0.88\n",
      "MCTS score: 0.2\n",
      "Training complete.\n",
      "Best val_loss: 0.4716\n",
      "Final val_loss: 0.5436\n"
     ]
    }
   ],
   "source": [
    "# Perform training\n",
    "\n",
    "from applications.tic_tac_toe.train import train\n",
    "\n",
    "model_interface = train(\n",
    "    model_type=model_type,\n",
    "    model_params=model_params,\n",
    "    device=device,\n",
    "    model_name=model_name,\n",
    "    optimizer_type=optimizer_type,\n",
    "    optimizer_params=optimizer_params,\n",
    "    lr_scheduler_type=lr_scheduler_type,\n",
    "    lr_scheduler_params=lr_scheduler_params,\n",
    "    training_method=training_method,\n",
    "    trainer_params=trainer_params,\n",
    "    training_params=training_params,\n",
    "    load_model=load_model,\n",
    "    load_model_params=load_model_params,\n",
    "    load_replay_buffer=load_replay_buffer,\n",
    "    load_replay_buffer_params=load_replay_buffer_params,\n",
    "    wandb_run=run\n",
    ")"
   ]
  },
  {
   "cell_type": "code",
   "execution_count": 5,
   "metadata": {},
   "outputs": [
    {
     "data": {
      "text/html": [],
      "text/plain": [
       "<IPython.core.display.HTML object>"
      ]
     },
     "metadata": {},
     "output_type": "display_data"
    },
    {
     "data": {
      "text/html": [
       "<br>    <style><br>        .wandb-row {<br>            display: flex;<br>            flex-direction: row;<br>            flex-wrap: wrap;<br>            justify-content: flex-start;<br>            width: 100%;<br>        }<br>        .wandb-col {<br>            display: flex;<br>            flex-direction: column;<br>            flex-basis: 100%;<br>            flex: 1;<br>            padding: 10px;<br>        }<br>    </style><br><div class=\"wandb-row\"><div class=\"wandb-col\"><h3>Run history:</h3><br/><table class=\"wandb\"><tr><td>MCTS_draw_rate</td><td>█▁▁▂▇▄▆▇</td></tr><tr><td>MCTS_loss_rate</td><td>▁███▁█▁▁</td></tr><tr><td>MCTS_score</td><td>▇▃▃▂▇▁██</td></tr><tr><td>MCTS_win_rate</td><td>▅▆▆▅▆▁█▇</td></tr><tr><td>Minimax_draw_rate</td><td>▇▁▁▄█▅██</td></tr><tr><td>Minimax_loss_rate</td><td>▂██▅▁▄▁▁</td></tr><tr><td>Minimax_score</td><td>▇▁▁▄█▅██</td></tr><tr><td>Minimax_win_rate</td><td>▁▁▁▁▁▁▁▁</td></tr><tr><td>RandomAgent_draw_rate</td><td>▅▅▃█▁▃▃▆</td></tr><tr><td>RandomAgent_loss_rate</td><td>▁█▁█▁█▁▁</td></tr><tr><td>RandomAgent_score</td><td>▄▄▆▁█▅▆▄</td></tr><tr><td>RandomAgent_win_rate</td><td>▄▄▆▁█▆▆▃</td></tr><tr><td>epoch</td><td>▁▁▁▁▁▂▂▂▂▂▃▃▃▃▄▄▄▄▅▅▅▅▅▆▆▆▆▆▆▆▇▇▇▇▇█████</td></tr><tr><td>learning_rate</td><td>███████████████████▃▃▃▃▃▃▃▃▃▃▃▃▃▁▁▁▁▁▁▁▁</td></tr><tr><td>train_loss</td><td>█▁▁▁▁▁▁▁▁▁▁▁▁▁▁▁▁▁▁▁▁▁▁▁▁▁▁▁▁▁▁▁▁▁▁▁▁▁▁▁</td></tr><tr><td>train_policy_loss</td><td>█▃▂▂▂▂▂▂▂▂▂▂▂▂▂▂▂▂▂▁▁▁▁▁▁▁▁▁▁▁▁▁▁▁▁▁▁▁▁▁</td></tr><tr><td>train_value_loss</td><td>▃▃▃▂▂▂▂▁▁▁▁▂▃▇█▁▁▁▁▁▁▁▁▁▁▁▁▁▁▁▁▁▁▁▁▁▁▁▁▁</td></tr><tr><td>val_loss</td><td>█▄▃▃▃▃▃▂▃▂▂▂▂▂▂▂▁▁▂▂▁▁▁▁▁▁▁▁▁▁▁▁▁▁▁▁▁▁▁▁</td></tr><tr><td>val_policy_loss</td><td>█▇▆▇▆▄▄▃▄▃▃▃▄▆▅▂▂▂▁▂▂▂▁▂▂▁▁▁▁▁▁▁▁▁▂▁▂▁▁▂</td></tr><tr><td>val_value_loss</td><td>█▃▂▁▂▁▁▁▂▁▁▁▁▁▁▃▁▁▁▁▁▁▁▁▁▁▁▁▁▁▁▁▁▁▁▁▁▁▁▁</td></tr></table><br/></div><div class=\"wandb-col\"><h3>Run summary:</h3><br/><table class=\"wandb\"><tr><td>MCTS_draw_rate</td><td>0.8</td></tr><tr><td>MCTS_loss_rate</td><td>0</td></tr><tr><td>MCTS_score</td><td>0.2</td></tr><tr><td>MCTS_win_rate</td><td>0.2</td></tr><tr><td>Minimax_draw_rate</td><td>1</td></tr><tr><td>Minimax_loss_rate</td><td>0</td></tr><tr><td>Minimax_score</td><td>0</td></tr><tr><td>Minimax_win_rate</td><td>0</td></tr><tr><td>RandomAgent_draw_rate</td><td>0.12</td></tr><tr><td>RandomAgent_loss_rate</td><td>0</td></tr><tr><td>RandomAgent_score</td><td>0.88</td></tr><tr><td>RandomAgent_win_rate</td><td>0.88</td></tr><tr><td>epoch</td><td>200</td></tr><tr><td>learning_rate</td><td>0.0025</td></tr><tr><td>train_loss</td><td>0.42227</td></tr><tr><td>train_policy_loss</td><td>0.42093</td></tr><tr><td>train_value_loss</td><td>0.00134</td></tr><tr><td>val_loss</td><td>0.54362</td></tr><tr><td>val_policy_loss</td><td>0.52627</td></tr><tr><td>val_value_loss</td><td>0.01735</td></tr></table><br/></div></div>"
      ],
      "text/plain": [
       "<IPython.core.display.HTML object>"
      ]
     },
     "metadata": {},
     "output_type": "display_data"
    },
    {
     "data": {
      "text/html": [
       " View run <strong style=\"color:#cdcd00\">MLP 5</strong> at: <a href='https://wandb.ai/eigenway/AlphaZero-TicTacToe/runs/1r1u5ay6' target=\"_blank\">https://wandb.ai/eigenway/AlphaZero-TicTacToe/runs/1r1u5ay6</a><br> View project at: <a href='https://wandb.ai/eigenway/AlphaZero-TicTacToe' target=\"_blank\">https://wandb.ai/eigenway/AlphaZero-TicTacToe</a><br>Synced 5 W&B file(s), 1 media file(s), 8 artifact file(s) and 0 other file(s)"
      ],
      "text/plain": [
       "<IPython.core.display.HTML object>"
      ]
     },
     "metadata": {},
     "output_type": "display_data"
    },
    {
     "data": {
      "text/html": [
       "Find logs at: <code>./wandb/run-20250317_093653-1r1u5ay6/logs</code>"
      ],
      "text/plain": [
       "<IPython.core.display.HTML object>"
      ]
     },
     "metadata": {},
     "output_type": "display_data"
    }
   ],
   "source": [
    "run.finish()"
   ]
  },
  {
   "cell_type": "code",
   "execution_count": 6,
   "metadata": {},
   "outputs": [
    {
     "name": "stdout",
     "output_type": "stream",
     "text": [
      "Total parameters: 16,900,106\n",
      "Trainable parameters: 16,900,106 (100.00%)\n",
      "Non-trainable parameters: 0 (0.00%)\n",
      "\n",
      "Parameters by layer:\n",
      "layers.0.fc1.weight: 73,728 parameters\n",
      "layers.0.fc1.bias: 4,096 parameters\n",
      "layers.1.fc1.weight: 16,777,216 parameters\n",
      "layers.1.fc1.bias: 4,096 parameters\n",
      "policy_head.weight: 36,864 parameters\n",
      "policy_head.bias: 9 parameters\n",
      "value_head.weight: 4,096 parameters\n",
      "value_head.bias: 1 parameters\n"
     ]
    }
   ],
   "source": [
    "def print_model_parameters(model):\n",
    "    \"\"\"\n",
    "    Print the total number of parameters in a PyTorch model,\n",
    "    with a breakdown of trainable vs non-trainable parameters.\n",
    "    \n",
    "    Args:\n",
    "        model: PyTorch model\n",
    "    \"\"\"\n",
    "    total_params = sum(p.numel() for p in model.parameters())\n",
    "    trainable_params = sum(p.numel() for p in model.parameters() if p.requires_grad)\n",
    "    non_trainable_params = total_params - trainable_params\n",
    "    \n",
    "    print(f\"Total parameters: {total_params:,}\")\n",
    "    print(f\"Trainable parameters: {trainable_params:,} ({trainable_params/total_params:.2%})\")\n",
    "    print(f\"Non-trainable parameters: {non_trainable_params:,} ({non_trainable_params/total_params:.2%})\")\n",
    "    \n",
    "    # Optional: Print parameters by layer\n",
    "    print(\"\\nParameters by layer:\")\n",
    "    for name, param in model.named_parameters():\n",
    "        print(f\"{name}: {param.numel():,} parameters\")\n",
    "\n",
    "# Example usage\n",
    "print_model_parameters(model_interface.model)"
   ]
  }
 ],
 "metadata": {
  "kernelspec": {
   "display_name": "dots-and-boxes",
   "language": "python",
   "name": "python3"
  },
  "language_info": {
   "codemirror_mode": {
    "name": "ipython",
    "version": 3
   },
   "file_extension": ".py",
   "mimetype": "text/x-python",
   "name": "python",
   "nbconvert_exporter": "python",
   "pygments_lexer": "ipython3",
   "version": "3.13.1"
  }
 },
 "nbformat": 4,
 "nbformat_minor": 2
}
