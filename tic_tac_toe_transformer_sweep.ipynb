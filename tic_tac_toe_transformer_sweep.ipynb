{
 "cells": [
  {
   "cell_type": "code",
   "execution_count": 6,
   "metadata": {},
   "outputs": [],
   "source": [
    "import wandb\n",
    "import torch\n",
    "from applications.tic_tac_toe.train import train"
   ]
  },
  {
   "cell_type": "code",
   "execution_count": 7,
   "metadata": {},
   "outputs": [],
   "source": [
    "sweep_config = {\n",
    "    'method': 'bayes',\n",
    "    'metric': {\n",
    "        'name': 'loss',\n",
    "        'goal': 'minimize'\n",
    "    },\n",
    "    'parameters': {\n",
    "        # Optimizer parameters\n",
    "        'learning_rate': {\n",
    "            'distribution': 'log_uniform_values',\n",
    "            'min': 0.00001,\n",
    "            'max': 0.1\n",
    "        },\n",
    "        'weight_decay': {\n",
    "            'distribution': 'log_uniform_values',\n",
    "            'min': 0.00001,\n",
    "            'max': 0.1\n",
    "        },\n",
    "\n",
    "        # Model parameters\n",
    "        'attention_layers': {\n",
    "            'values': [1, 2, 3, 4]\n",
    "        },\n",
    "        'transformer_size': {\n",
    "            'values': ['tiny', 'small', 'medium', 'large', 'xlarge']\n",
    "        },\n",
    "        'dropout': {\n",
    "            'values': [0.0, 0.1, 0.01, 0.001, 0.0001]\n",
    "        },\n",
    "        'norm_first': {\n",
    "            'values': [True, False]\n",
    "        },\n",
    "        'activation': {\n",
    "            'values': ['relu', 'gelu']\n",
    "        },\n",
    "\n",
    "        # Trainer parameters\n",
    "        'replay_buffer_max_size': {\n",
    "            'value': 10000\n",
    "        },\n",
    "        'value_softness': {\n",
    "            'distribution': 'uniform',\n",
    "            'min': 0.0,\n",
    "            'max': 1.0\n",
    "        },\n",
    "\n",
    "        # Training parameters\n",
    "        'num_iterations': {\n",
    "            'value': 50\n",
    "        },\n",
    "        'games_per_iteration': {\n",
    "            'value': 10\n",
    "        },\n",
    "        'batch_size': {\n",
    "            'values': [128, 256, 512, 1024]\n",
    "        },\n",
    "        'steps_per_iteration': {\n",
    "            'value': 100\n",
    "        },\n",
    "        'num_simulations': {\n",
    "            'values': [100]\n",
    "        },\n",
    "        'checkpoint_frequency': {\n",
    "            'value': 20\n",
    "        }\n",
    "    }\n",
    "}\n",
    "\n",
    "# Transformer size mapping\n",
    "transformer_size_mapping = {\n",
    "    'tiny': { 'embed_dim': 4, 'num_heads': 1, 'feedforward_dim': 16 },\n",
    "    'small': { 'embed_dim': 8, 'num_heads': 2, 'feedforward_dim': 32 },\n",
    "    'medium': { 'embed_dim': 16, 'num_heads': 4, 'feedforward_dim': 64 },\n",
    "    'large': { 'embed_dim': 32, 'num_heads': 8, 'feedforward_dim': 128 },\n",
    "    'xlarge': { 'embed_dim': 64, 'num_heads': 16, 'feedforward_dim': 256 }\n",
    "}\n"
   ]
  },
  {
   "cell_type": "code",
   "execution_count": 8,
   "metadata": {},
   "outputs": [],
   "source": [
    "# Some default parameters\n",
    "\n",
    "from core.implementations.AlphaZero import AlphaZeroConfig\n",
    "\n",
    "# AlphaZero parameters\n",
    "alphazero_config = AlphaZeroConfig(\n",
    "    exploration_constant=1.0,\n",
    "    dirichlet_alpha=0.3,\n",
    "    dirichlet_epsilon=0.25,\n",
    "    temperature=1.0\n",
    ")\n",
    "\n",
    "# AlphaZero evaluation parameters\n",
    "alphazero_eval_config = AlphaZeroConfig(\n",
    "    exploration_constant=1.0,\n",
    "    dirichlet_alpha=0.0,\n",
    "    dirichlet_epsilon=0.0,\n",
    "    temperature=0.0\n",
    ")"
   ]
  },
  {
   "cell_type": "code",
   "execution_count": 9,
   "metadata": {},
   "outputs": [],
   "source": [
    "from applications.tic_tac_toe.transformer_model import TicTacToeTransformerInterface\n",
    "\n",
    "def sweep_agent():\n",
    "    with wandb.init(project='AlphaZero-TicTacToe') as run:\n",
    "        config = {\n",
    "            'model_type': 'transformer',\n",
    "            'model_params': {\n",
    "                'attention_layers': run.config.attention_layers,\n",
    "                **transformer_size_mapping[run.config.transformer_size]\n",
    "            },\n",
    "            'device': 'cuda' if torch.cuda.is_available() else 'mps' if torch.backends.mps.is_available() else 'cpu',\n",
    "            'tree_search_params': alphazero_config,\n",
    "            'tree_search_eval_params': alphazero_eval_config,\n",
    "            'trainer_params': {\n",
    "                'replay_buffer_max_size': run.config.replay_buffer_max_size,\n",
    "                'value_softness': run.config.value_softness\n",
    "            },\n",
    "            'optimizer_params': {\n",
    "                'lr': run.config.learning_rate,\n",
    "                'betas': (0.9, 0.999),\n",
    "                'eps': 1e-8,\n",
    "                'weight_decay': run.config.weight_decay,\n",
    "                'amsgrad': False\n",
    "            },\n",
    "            'training_params': {\n",
    "                'num_iterations': run.config.num_iterations,\n",
    "                'games_per_iteration': run.config.games_per_iteration,\n",
    "                'batch_size': run.config.batch_size,\n",
    "                'steps_per_iteration': run.config.steps_per_iteration,\n",
    "                'num_simulations': run.config.num_simulations,\n",
    "                'checkpoint_frequency': run.config.checkpoint_frequency\n",
    "            }\n",
    "        }\n",
    "\n",
    "        model = TicTacToeTransformerInterface(\n",
    "            device=config['device'],\n",
    "            **config['model_params']\n",
    "        )\n",
    "\n",
    "        # Use training script\n",
    "        train(\n",
    "            config=config,\n",
    "            model=model,\n",
    "            use_wandb=True,\n",
    "            wandb_watch_params={\n",
    "                'watch': True,\n",
    "                'log': 'all',\n",
    "                'log_freq': 100,\n",
    "                'log_graph': True\n",
    "            },\n",
    "            wandb_run=run\n",
    "        )"
   ]
  },
  {
   "cell_type": "code",
   "execution_count": 10,
   "metadata": {},
   "outputs": [
    {
     "name": "stdout",
     "output_type": "stream",
     "text": [
      "Create sweep with ID: 1zl9s6kk\n",
      "Sweep URL: https://wandb.ai/eigenway/AlphaZero-TicTacToe/sweeps/1zl9s6kk\n"
     ]
    },
    {
     "name": "stderr",
     "output_type": "stream",
     "text": [
      "\u001b[34m\u001b[1mwandb\u001b[0m: Agent Starting Run: fjyt2t1t with config:\n",
      "\u001b[34m\u001b[1mwandb\u001b[0m: \tactivation: relu\n",
      "\u001b[34m\u001b[1mwandb\u001b[0m: \tattention_layers: 3\n",
      "\u001b[34m\u001b[1mwandb\u001b[0m: \tbatch_size: 256\n",
      "\u001b[34m\u001b[1mwandb\u001b[0m: \tcheckpoint_frequency: 20\n",
      "\u001b[34m\u001b[1mwandb\u001b[0m: \tdropout: 0.001\n",
      "\u001b[34m\u001b[1mwandb\u001b[0m: \tgames_per_iteration: 10\n",
      "\u001b[34m\u001b[1mwandb\u001b[0m: \tlearning_rate: 0.02566299983451523\n",
      "\u001b[34m\u001b[1mwandb\u001b[0m: \tnorm_first: False\n",
      "\u001b[34m\u001b[1mwandb\u001b[0m: \tnum_iterations: 2\n",
      "\u001b[34m\u001b[1mwandb\u001b[0m: \tnum_simulations: 100\n",
      "\u001b[34m\u001b[1mwandb\u001b[0m: \treplay_buffer_max_size: 10000\n",
      "\u001b[34m\u001b[1mwandb\u001b[0m: \tsteps_per_iteration: 100\n",
      "\u001b[34m\u001b[1mwandb\u001b[0m: \ttransformer_size: large\n",
      "\u001b[34m\u001b[1mwandb\u001b[0m: \tvalue_softness: 0.07761465177084503\n",
      "\u001b[34m\u001b[1mwandb\u001b[0m: \tweight_decay: 0.001376143674359226\n"
     ]
    },
    {
     "data": {
      "text/html": [
       "Ignoring project 'AlphaZero-TicTacToe' when running a sweep."
      ],
      "text/plain": [
       "<IPython.core.display.HTML object>"
      ]
     },
     "metadata": {},
     "output_type": "display_data"
    },
    {
     "data": {
      "text/html": [
       "Tracking run with wandb version 0.19.6"
      ],
      "text/plain": [
       "<IPython.core.display.HTML object>"
      ]
     },
     "metadata": {},
     "output_type": "display_data"
    },
    {
     "data": {
      "text/html": [
       "Run data is saved locally in <code>/Users/eohjelle/Documents/2025-dots-and-boxes/dots-and-boxes/wandb/run-20250228_111457-fjyt2t1t</code>"
      ],
      "text/plain": [
       "<IPython.core.display.HTML object>"
      ]
     },
     "metadata": {},
     "output_type": "display_data"
    },
    {
     "data": {
      "text/html": [
       "Syncing run <strong><a href='https://wandb.ai/eigenway/AlphaZero-TicTacToe/runs/fjyt2t1t' target=\"_blank\">ethereal-sweep-1</a></strong> to <a href='https://wandb.ai/eigenway/AlphaZero-TicTacToe' target=\"_blank\">Weights & Biases</a> (<a href='https://wandb.me/developer-guide' target=\"_blank\">docs</a>)<br>Sweep page: <a href='https://wandb.ai/eigenway/AlphaZero-TicTacToe/sweeps/1zl9s6kk' target=\"_blank\">https://wandb.ai/eigenway/AlphaZero-TicTacToe/sweeps/1zl9s6kk</a>"
      ],
      "text/plain": [
       "<IPython.core.display.HTML object>"
      ]
     },
     "metadata": {},
     "output_type": "display_data"
    },
    {
     "data": {
      "text/html": [
       " View project at <a href='https://wandb.ai/eigenway/AlphaZero-TicTacToe' target=\"_blank\">https://wandb.ai/eigenway/AlphaZero-TicTacToe</a>"
      ],
      "text/plain": [
       "<IPython.core.display.HTML object>"
      ]
     },
     "metadata": {},
     "output_type": "display_data"
    },
    {
     "data": {
      "text/html": [
       " View sweep at <a href='https://wandb.ai/eigenway/AlphaZero-TicTacToe/sweeps/1zl9s6kk' target=\"_blank\">https://wandb.ai/eigenway/AlphaZero-TicTacToe/sweeps/1zl9s6kk</a>"
      ],
      "text/plain": [
       "<IPython.core.display.HTML object>"
      ]
     },
     "metadata": {},
     "output_type": "display_data"
    },
    {
     "data": {
      "text/html": [
       " View run at <a href='https://wandb.ai/eigenway/AlphaZero-TicTacToe/runs/fjyt2t1t' target=\"_blank\">https://wandb.ai/eigenway/AlphaZero-TicTacToe/runs/fjyt2t1t</a>"
      ],
      "text/plain": [
       "<IPython.core.display.HTML object>"
      ]
     },
     "metadata": {},
     "output_type": "display_data"
    },
    {
     "name": "stdout",
     "output_type": "stream",
     "text": [
      "Training model: transformer\n",
      "Using device: mps\n",
      "\n",
      "Iteration 1/2\n",
      "Self-play phase...\n",
      "Playing game 10/10\n",
      "Generated 79 new positions\n",
      "Training phase...\n",
      "\n",
      "Iteration 1 summary:\n",
      "Average loss: 2.0898\n",
      "Average policy_loss: 1.9694\n",
      "Average value_loss: 0.1204\n",
      "Replay buffer size: 79\n",
      "Time taken: 9.0s\n",
      "\n",
      "Iteration 2/2\n",
      "Self-play phase...\n",
      "Playing game 10/10\n",
      "Generated 85 new positions\n",
      "Training phase...\n",
      "\n",
      "Evaluating against opponents...\n",
      "\n",
      "Evaluation results:\n",
      "MCTS: Win rate = 10.00%, Draw rate = 75.00%\n",
      "RandomAgent: Win rate = 80.00%, Draw rate = 15.00%\n",
      "\n",
      "Iteration 2 summary:\n",
      "Average loss: 1.2942\n",
      "Average policy_loss: 1.0294\n",
      "Average value_loss: 0.2649\n",
      "Replay buffer size: 164\n",
      "Time taken: 39.9s\n",
      "\n",
      "Training complete! Total time: 0.0h\n"
     ]
    },
    {
     "data": {
      "text/html": [],
      "text/plain": [
       "<IPython.core.display.HTML object>"
      ]
     },
     "metadata": {},
     "output_type": "display_data"
    },
    {
     "data": {
      "text/html": [
       "<br>    <style><br>        .wandb-row {<br>            display: flex;<br>            flex-direction: row;<br>            flex-wrap: wrap;<br>            justify-content: flex-start;<br>            width: 100%;<br>        }<br>        .wandb-col {<br>            display: flex;<br>            flex-direction: column;<br>            flex-basis: 100%;<br>            flex: 1;<br>            padding: 10px;<br>        }<br>    </style><br><div class=\"wandb-row\"><div class=\"wandb-col\"><h3>Run history:</h3><br/><table class=\"wandb\"><tr><td>buffer_size</td><td>▁█</td></tr><tr><td>iteration_time</td><td>▁█</td></tr><tr><td>loss</td><td>█▁</td></tr><tr><td>num_games</td><td>▁▁</td></tr><tr><td>num_positions</td><td>▁█</td></tr><tr><td>policy_loss</td><td>█▁</td></tr><tr><td>value_loss</td><td>▁█</td></tr></table><br/></div><div class=\"wandb-col\"><h3>Run summary:</h3><br/><table class=\"wandb\"><tr><td>best_win_rate</td><td>0.9</td></tr><tr><td>buffer_size</td><td>164</td></tr><tr><td>iteration_time</td><td>39.86773</td></tr><tr><td>loss</td><td>1.29425</td></tr><tr><td>num_games</td><td>10</td></tr><tr><td>num_positions</td><td>85</td></tr><tr><td>policy_loss</td><td>1.02938</td></tr><tr><td>total_time_hours</td><td>0.01357</td></tr><tr><td>value_loss</td><td>0.26487</td></tr></table><br/></div></div>"
      ],
      "text/plain": [
       "<IPython.core.display.HTML object>"
      ]
     },
     "metadata": {},
     "output_type": "display_data"
    },
    {
     "data": {
      "text/html": [
       " View run <strong style=\"color:#cdcd00\">ethereal-sweep-1</strong> at: <a href='https://wandb.ai/eigenway/AlphaZero-TicTacToe/runs/fjyt2t1t' target=\"_blank\">https://wandb.ai/eigenway/AlphaZero-TicTacToe/runs/fjyt2t1t</a><br> View project at: <a href='https://wandb.ai/eigenway/AlphaZero-TicTacToe' target=\"_blank\">https://wandb.ai/eigenway/AlphaZero-TicTacToe</a><br>Synced 5 W&B file(s), 0 media file(s), 6 artifact file(s) and 0 other file(s)"
      ],
      "text/plain": [
       "<IPython.core.display.HTML object>"
      ]
     },
     "metadata": {},
     "output_type": "display_data"
    },
    {
     "data": {
      "text/html": [
       "Find logs at: <code>./wandb/run-20250228_111457-fjyt2t1t/logs</code>"
      ],
      "text/plain": [
       "<IPython.core.display.HTML object>"
      ]
     },
     "metadata": {},
     "output_type": "display_data"
    },
    {
     "name": "stderr",
     "output_type": "stream",
     "text": [
      "\u001b[34m\u001b[1mwandb\u001b[0m: Agent Starting Run: zcrkvkur with config:\n",
      "\u001b[34m\u001b[1mwandb\u001b[0m: \tactivation: relu\n",
      "\u001b[34m\u001b[1mwandb\u001b[0m: \tattention_layers: 4\n",
      "\u001b[34m\u001b[1mwandb\u001b[0m: \tbatch_size: 256\n",
      "\u001b[34m\u001b[1mwandb\u001b[0m: \tcheckpoint_frequency: 20\n",
      "\u001b[34m\u001b[1mwandb\u001b[0m: \tdropout: 0.0001\n",
      "\u001b[34m\u001b[1mwandb\u001b[0m: \tgames_per_iteration: 10\n",
      "\u001b[34m\u001b[1mwandb\u001b[0m: \tlearning_rate: 0.04334473458733003\n",
      "\u001b[34m\u001b[1mwandb\u001b[0m: \tnorm_first: True\n",
      "\u001b[34m\u001b[1mwandb\u001b[0m: \tnum_iterations: 2\n",
      "\u001b[34m\u001b[1mwandb\u001b[0m: \tnum_simulations: 100\n",
      "\u001b[34m\u001b[1mwandb\u001b[0m: \treplay_buffer_max_size: 10000\n",
      "\u001b[34m\u001b[1mwandb\u001b[0m: \tsteps_per_iteration: 100\n",
      "\u001b[34m\u001b[1mwandb\u001b[0m: \ttransformer_size: medium\n",
      "\u001b[34m\u001b[1mwandb\u001b[0m: \tvalue_softness: 0.7084836662843019\n",
      "\u001b[34m\u001b[1mwandb\u001b[0m: \tweight_decay: 0.0002848402357473973\n"
     ]
    },
    {
     "data": {
      "text/html": [
       "Ignoring project 'AlphaZero-TicTacToe' when running a sweep."
      ],
      "text/plain": [
       "<IPython.core.display.HTML object>"
      ]
     },
     "metadata": {},
     "output_type": "display_data"
    },
    {
     "data": {
      "text/html": [
       "Tracking run with wandb version 0.19.6"
      ],
      "text/plain": [
       "<IPython.core.display.HTML object>"
      ]
     },
     "metadata": {},
     "output_type": "display_data"
    },
    {
     "data": {
      "text/html": [
       "Run data is saved locally in <code>/Users/eohjelle/Documents/2025-dots-and-boxes/dots-and-boxes/wandb/run-20250228_111552-zcrkvkur</code>"
      ],
      "text/plain": [
       "<IPython.core.display.HTML object>"
      ]
     },
     "metadata": {},
     "output_type": "display_data"
    },
    {
     "data": {
      "text/html": [
       "Syncing run <strong><a href='https://wandb.ai/eigenway/AlphaZero-TicTacToe/runs/zcrkvkur' target=\"_blank\">expert-sweep-2</a></strong> to <a href='https://wandb.ai/eigenway/AlphaZero-TicTacToe' target=\"_blank\">Weights & Biases</a> (<a href='https://wandb.me/developer-guide' target=\"_blank\">docs</a>)<br>Sweep page: <a href='https://wandb.ai/eigenway/AlphaZero-TicTacToe/sweeps/1zl9s6kk' target=\"_blank\">https://wandb.ai/eigenway/AlphaZero-TicTacToe/sweeps/1zl9s6kk</a>"
      ],
      "text/plain": [
       "<IPython.core.display.HTML object>"
      ]
     },
     "metadata": {},
     "output_type": "display_data"
    },
    {
     "data": {
      "text/html": [
       " View project at <a href='https://wandb.ai/eigenway/AlphaZero-TicTacToe' target=\"_blank\">https://wandb.ai/eigenway/AlphaZero-TicTacToe</a>"
      ],
      "text/plain": [
       "<IPython.core.display.HTML object>"
      ]
     },
     "metadata": {},
     "output_type": "display_data"
    },
    {
     "data": {
      "text/html": [
       " View sweep at <a href='https://wandb.ai/eigenway/AlphaZero-TicTacToe/sweeps/1zl9s6kk' target=\"_blank\">https://wandb.ai/eigenway/AlphaZero-TicTacToe/sweeps/1zl9s6kk</a>"
      ],
      "text/plain": [
       "<IPython.core.display.HTML object>"
      ]
     },
     "metadata": {},
     "output_type": "display_data"
    },
    {
     "data": {
      "text/html": [
       " View run at <a href='https://wandb.ai/eigenway/AlphaZero-TicTacToe/runs/zcrkvkur' target=\"_blank\">https://wandb.ai/eigenway/AlphaZero-TicTacToe/runs/zcrkvkur</a>"
      ],
      "text/plain": [
       "<IPython.core.display.HTML object>"
      ]
     },
     "metadata": {},
     "output_type": "display_data"
    },
    {
     "name": "stdout",
     "output_type": "stream",
     "text": [
      "Training model: transformer\n",
      "Using device: mps\n",
      "\n",
      "Iteration 1/2\n",
      "Self-play phase...\n",
      "Playing game 10/10\n",
      "Generated 81 new positions\n",
      "Training phase...\n",
      "\n",
      "Iteration 1 summary:\n",
      "Average loss: 2.1954\n",
      "Average policy_loss: 1.9364\n",
      "Average value_loss: 0.2590\n",
      "Replay buffer size: 81\n",
      "Time taken: 14.5s\n",
      "\n",
      "Iteration 2/2\n",
      "Self-play phase...\n",
      "Playing game 10/10\n",
      "Generated 99 new positions\n",
      "Training phase...\n",
      "\n",
      "Evaluating against opponents...\n",
      "\n",
      "Evaluation results:\n",
      "MCTS: Win rate = 0.00%, Draw rate = 50.00%\n",
      "RandomAgent: Win rate = 70.00%, Draw rate = 20.00%\n",
      "\n",
      "Iteration 2 summary:\n",
      "Average loss: 1.0499\n",
      "Average policy_loss: 0.9126\n",
      "Average value_loss: 0.1373\n",
      "Replay buffer size: 180\n",
      "Time taken: 71.0s\n",
      "\n",
      "Training complete! Total time: 0.0h\n"
     ]
    },
    {
     "data": {
      "text/html": [],
      "text/plain": [
       "<IPython.core.display.HTML object>"
      ]
     },
     "metadata": {},
     "output_type": "display_data"
    },
    {
     "data": {
      "text/html": [
       "<br>    <style><br>        .wandb-row {<br>            display: flex;<br>            flex-direction: row;<br>            flex-wrap: wrap;<br>            justify-content: flex-start;<br>            width: 100%;<br>        }<br>        .wandb-col {<br>            display: flex;<br>            flex-direction: column;<br>            flex-basis: 100%;<br>            flex: 1;<br>            padding: 10px;<br>        }<br>    </style><br><div class=\"wandb-row\"><div class=\"wandb-col\"><h3>Run history:</h3><br/><table class=\"wandb\"><tr><td>buffer_size</td><td>▁█</td></tr><tr><td>iteration_time</td><td>▁█</td></tr><tr><td>loss</td><td>█▁</td></tr><tr><td>num_games</td><td>▁▁</td></tr><tr><td>num_positions</td><td>▁█</td></tr><tr><td>policy_loss</td><td>█▁</td></tr><tr><td>value_loss</td><td>█▁</td></tr></table><br/></div><div class=\"wandb-col\"><h3>Run summary:</h3><br/><table class=\"wandb\"><tr><td>best_win_rate</td><td>0.7</td></tr><tr><td>buffer_size</td><td>180</td></tr><tr><td>iteration_time</td><td>70.96079</td></tr><tr><td>loss</td><td>1.04986</td></tr><tr><td>num_games</td><td>10</td></tr><tr><td>num_positions</td><td>99</td></tr><tr><td>policy_loss</td><td>0.91258</td></tr><tr><td>total_time_hours</td><td>0.02373</td></tr><tr><td>value_loss</td><td>0.13728</td></tr></table><br/></div></div>"
      ],
      "text/plain": [
       "<IPython.core.display.HTML object>"
      ]
     },
     "metadata": {},
     "output_type": "display_data"
    },
    {
     "data": {
      "text/html": [
       " View run <strong style=\"color:#cdcd00\">expert-sweep-2</strong> at: <a href='https://wandb.ai/eigenway/AlphaZero-TicTacToe/runs/zcrkvkur' target=\"_blank\">https://wandb.ai/eigenway/AlphaZero-TicTacToe/runs/zcrkvkur</a><br> View project at: <a href='https://wandb.ai/eigenway/AlphaZero-TicTacToe' target=\"_blank\">https://wandb.ai/eigenway/AlphaZero-TicTacToe</a><br>Synced 5 W&B file(s), 0 media file(s), 6 artifact file(s) and 0 other file(s)"
      ],
      "text/plain": [
       "<IPython.core.display.HTML object>"
      ]
     },
     "metadata": {},
     "output_type": "display_data"
    },
    {
     "data": {
      "text/html": [
       "Find logs at: <code>./wandb/run-20250228_111552-zcrkvkur/logs</code>"
      ],
      "text/plain": [
       "<IPython.core.display.HTML object>"
      ]
     },
     "metadata": {},
     "output_type": "display_data"
    }
   ],
   "source": [
    "sweep_id = wandb.sweep(\n",
    "    sweep=sweep_config,\n",
    "    project='AlphaZero-TicTacToe',\n",
    "    entity='eigenway',\n",
    ")\n",
    "\n",
    "\n",
    "wandb.agent(\n",
    "    sweep_id,\n",
    "    function=sweep_agent,\n",
    "    count=20\n",
    ")"
   ]
  }
 ],
 "metadata": {
  "kernelspec": {
   "display_name": "dots-and-boxes",
   "language": "python",
   "name": "python3"
  },
  "language_info": {
   "codemirror_mode": {
    "name": "ipython",
    "version": 3
   },
   "file_extension": ".py",
   "mimetype": "text/x-python",
   "name": "python",
   "nbconvert_exporter": "python",
   "pygments_lexer": "ipython3",
   "version": "3.13.1"
  }
 },
 "nbformat": 4,
 "nbformat_minor": 2
}
