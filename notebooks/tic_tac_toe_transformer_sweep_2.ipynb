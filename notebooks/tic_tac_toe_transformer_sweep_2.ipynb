{
 "cells": [
  {
   "cell_type": "code",
   "execution_count": 1,
   "metadata": {},
   "outputs": [
    {
     "name": "stdout",
     "output_type": "stream",
     "text": [
      "Working directory: /Users/eohjelle/Documents/2025-dots-and-boxes/dots-and-boxes\n"
     ]
    }
   ],
   "source": [
    "# Change directory to the root of the project\n",
    "import os \n",
    "os.chdir('..')\n",
    "print(f\"Working directory: {os.getcwd()}\")"
   ]
  },
  {
   "cell_type": "markdown",
   "metadata": {},
   "source": [
    "In this notebook we will run another wandb sweep for a transformer based model using training data generated with a Minimax model."
   ]
  },
  {
   "cell_type": "code",
   "execution_count": 2,
   "metadata": {},
   "outputs": [
    {
     "name": "stdout",
     "output_type": "stream",
     "text": [
      "Buffer size: 5478\n",
      "Buffer state 1912: tensor([2, 1, 1, 2, 0, 1, 0, 0, 2], device='mps:0')\n",
      "Buffer target policy 1912: tensor([0.0000, 0.0000, 0.0000, 0.0000, 0.3333, 0.0000, 0.3333, 0.3333, 0.0000],\n",
      "       device='mps:0')\n",
      "Buffer target value 1912: tensor([-1.], device='mps:0')\n",
      "Buffer data legal_actions 1912: tensor([0., 0., 0., 0., 1., 0., 1., 1., 0.], device='mps:0')\n"
     ]
    },
    {
     "name": "stderr",
     "output_type": "stream",
     "text": [
      "/Users/eohjelle/Documents/2025-dots-and-boxes/dots-and-boxes/core/data_structures.py:91: FutureWarning: You are using `torch.load` with `weights_only=False` (the current default value), which uses the default pickle module implicitly. It is possible to construct malicious pickle data which will execute arbitrary code during unpickling (See https://github.com/pytorch/pytorch/blob/main/SECURITY.md#untrusted-models for more details). In a future release, the default value for `weights_only` will be flipped to `True`. This limits the functions that could be executed during unpickling. Arbitrary objects will no longer be allowed to be loaded via this mode unless they are explicitly allowlisted by the user via `torch.serialization.add_safe_globals`. We recommend you start setting `weights_only=True` for any use case where you don't have full control of the loaded file. Please open an issue on GitHub for any issues related to this experimental feature.\n",
      "  checkpoint = torch.load(path, map_location=device)\n"
     ]
    }
   ],
   "source": [
    "# Load the training data\n",
    "\n",
    "from core.data_structures import ReplayBuffer\n",
    "import random\n",
    "\n",
    "buffer = ReplayBuffer.from_file('applications/tic_tac_toe/training_data/transformer.pkl')\n",
    "\n",
    "print(f\"Buffer size: {buffer.states.shape[0]}\")\n",
    "for i in random.sample(range(buffer.states.shape[0]), 1):\n",
    "    print(f\"Buffer state {i}: {buffer.states[i]}\")\n",
    "    for key in buffer.targets.keys():\n",
    "        print(f\"Buffer target {key} {i}: {buffer.targets[key][i]}\")\n",
    "    for key in buffer.data.keys():\n",
    "        print(f\"Buffer data {key} {i}: {buffer.data[key][i]}\")"
   ]
  },
  {
   "cell_type": "code",
   "execution_count": 3,
   "metadata": {},
   "outputs": [],
   "source": [
    "from applications.tic_tac_toe.game_state import TicTacToeState\n",
    "from core.implementations.Minimax import Minimax\n",
    "\n",
    "# Creat minmax agent and expand the game tree, this will be used for evaluation later on\n",
    "state = TicTacToeState()\n",
    "minimax_agent = Minimax(state)\n",
    "minimax_agent_root = minimax_agent.root\n",
    "minimax_agent()\n",
    "\n",
    "def minimax_agent_factory() -> Minimax:\n",
    "    \"\"\"\n",
    "    This function returns a minimax agent that is initialized with the root of the game tree.\n",
    "    \"\"\"\n",
    "    minimax_agent.root = minimax_agent_root\n",
    "    return minimax_agent\n"
   ]
  },
  {
   "cell_type": "code",
   "execution_count": 4,
   "metadata": {},
   "outputs": [],
   "source": [
    "# Define sweep config\n",
    "\n",
    "sweep_config = {\n",
    "    'method': 'bayes',\n",
    "    'metric': {\n",
    "        'name': 'minimax_score',\n",
    "        'goal': 'maximize'\n",
    "    },\n",
    "    'parameters': {\n",
    "        # Optimizer parameters\n",
    "        'learning_rate': {\n",
    "            'distribution': 'uniform',\n",
    "            'min': 0.0001,\n",
    "            'max': 0.01\n",
    "        },\n",
    "        'weight_decay': {\n",
    "            'distribution': 'uniform',\n",
    "            'min': 0.001,\n",
    "            'max': 0.01\n",
    "        },\n",
    "\n",
    "        # Model parameters\n",
    "        'attention_layers': {\n",
    "            'values': [2]\n",
    "        },\n",
    "        'embed_dim': {\n",
    "            'values': [64]\n",
    "        },\n",
    "        'feedforward_dim': {\n",
    "            'values': [256]\n",
    "        },\n",
    "        'dropout': {\n",
    "            'values': [0.0]\n",
    "        },\n",
    "        'norm_first': {\n",
    "            'values': [True]\n",
    "        },\n",
    "        'activation': {\n",
    "            'values': ['relu']\n",
    "        },\n",
    "\n",
    "        # Training parameters\n",
    "        'epochs': {\n",
    "            'values': [100]\n",
    "        },\n",
    "        'batch_size': {\n",
    "            'values': [256]\n",
    "        },\n",
    "        'mask_illegal_moves': {\n",
    "            'values': [False]\n",
    "        },\n",
    "        'mask_value': {\n",
    "            'values': [-10.0]\n",
    "        }\n",
    "    }\n",
    "}"
   ]
  },
  {
   "cell_type": "code",
   "execution_count": 5,
   "metadata": {},
   "outputs": [],
   "source": [
    "# Define simple training loop\n",
    "\n",
    "import wandb\n",
    "from applications.tic_tac_toe.game_state import TicTacToeState\n",
    "from applications.tic_tac_toe.transformer_model import TicTacToeTransformerInterface\n",
    "import torch\n",
    "import torch.nn.functional as F\n",
    "import numpy as np\n",
    "from torch.utils.data import DataLoader, TensorDataset, random_split\n",
    "from core.benchmark import benchmark\n",
    "from core.implementations.RandomAgent import RandomAgent\n",
    "from core.implementations.Minimax import Minimax\n",
    "from core.implementations.AlphaZero import AlphaZeroModelAgent\n",
    "\n",
    "import os\n",
    "\n",
    "def sweep_agent():\n",
    "    with wandb.init(project=\"AlphaZero-TicTacToe\") as run:\n",
    "        config = run.config\n",
    "        device = torch.device(\"cuda\" if torch.cuda.is_available() else \"mps\" if torch.backends.mps.is_available() else \"cpu\")\n",
    "        model_interface = TicTacToeTransformerInterface(\n",
    "            device=device,\n",
    "            attention_layers=config.attention_layers,\n",
    "            embed_dim=config.embed_dim,\n",
    "            num_heads=4,\n",
    "            feedforward_dim=config.feedforward_dim,\n",
    "            dropout=config.dropout,\n",
    "            norm_first=config.norm_first,\n",
    "            activation=config.activation\n",
    "        )\n",
    "        model = model_interface.model\n",
    "        \n",
    "        # Create optimizer\n",
    "        optimizer = torch.optim.Adam(\n",
    "            model.parameters(), \n",
    "            lr=config.learning_rate,\n",
    "            weight_decay=config.weight_decay\n",
    "        )\n",
    "        \n",
    "        # Create datasets\n",
    "        states = buffer.states\n",
    "        policy_targets = buffer.targets['policy']\n",
    "        value_targets = buffer.targets['value']\n",
    "        legal_actions_mask = buffer.data['legal_actions']\n",
    "        \n",
    "        # Create dataset and split into train/val\n",
    "        dataset = TensorDataset(states, policy_targets, value_targets, legal_actions_mask)\n",
    "        train_size = int(0.9 * len(dataset))\n",
    "        val_size = len(dataset) - train_size\n",
    "        train_dataset, val_dataset = random_split(dataset, [train_size, val_size])\n",
    "        \n",
    "        # Create data loaders\n",
    "        train_loader = DataLoader(train_dataset, batch_size=config.batch_size, shuffle=True)\n",
    "        val_loader = DataLoader(val_dataset, batch_size=config.batch_size, shuffle=False)\n",
    "        \n",
    "        # Training loop\n",
    "        best_val_loss = float('inf')\n",
    "        \n",
    "        for epoch in range(config.epochs):\n",
    "            # Training phase\n",
    "            model.train()\n",
    "            train_losses = []\n",
    "            policy_losses = []\n",
    "            value_losses = []\n",
    "            \n",
    "            for batch in train_loader:\n",
    "                states_batch, policy_targets_batch, value_targets_batch, legal_actions_batch = batch\n",
    "                \n",
    "                # Zero gradients\n",
    "                optimizer.zero_grad()\n",
    "                \n",
    "                # Forward pass\n",
    "                outputs = model(states_batch)\n",
    "                policy_logits = outputs['policy']\n",
    "                value_pred = outputs['value']\n",
    "                \n",
    "                # Apply mask for illegal moves if enabled\n",
    "                if config.mask_illegal_moves:\n",
    "                    policy_logits = policy_logits * legal_actions_batch + (1 - legal_actions_batch) * config.mask_value\n",
    "                \n",
    "                # Compute losses\n",
    "                policy_loss = F.cross_entropy(policy_logits, policy_targets_batch)\n",
    "                value_loss = F.mse_loss(value_pred, value_targets_batch)\n",
    "                total_loss = policy_loss + value_loss\n",
    "                \n",
    "                # Backward pass and optimization\n",
    "                total_loss.backward()\n",
    "                optimizer.step()\n",
    "                \n",
    "                # Track metrics\n",
    "                train_losses.append(total_loss.item())\n",
    "                policy_losses.append(policy_loss.item())\n",
    "                value_losses.append(value_loss.item())\n",
    "            \n",
    "            # Validation phase\n",
    "            model.eval()\n",
    "            val_losses = []\n",
    "            val_policy_losses = []\n",
    "            val_value_losses = []\n",
    "            \n",
    "            with torch.no_grad():\n",
    "                for batch in val_loader:\n",
    "                    states_batch, policy_targets_batch, value_targets_batch, legal_actions_batch = batch\n",
    "                    \n",
    "                    # Forward pass\n",
    "                    outputs = model(states_batch)\n",
    "                    policy_logits = outputs['policy']\n",
    "                    value_pred = outputs['value']\n",
    "                    \n",
    "                    # Apply mask for illegal moves if enabled\n",
    "                    if config.mask_illegal_moves:\n",
    "                        policy_logits = policy_logits * legal_actions_batch + (1 - legal_actions_batch) * config.mask_value\n",
    "                    \n",
    "                    # Compute losses\n",
    "                    policy_loss = F.cross_entropy(policy_logits, policy_targets_batch)\n",
    "                    value_loss = F.mse_loss(value_pred, value_targets_batch)\n",
    "                    total_loss = policy_loss + value_loss\n",
    "                    \n",
    "                    # Track metrics\n",
    "                    val_losses.append(total_loss.item())\n",
    "                    val_policy_losses.append(policy_loss.item())\n",
    "                    val_value_losses.append(value_loss.item())\n",
    "            \n",
    "            # Calculate average metrics\n",
    "            avg_train_loss = np.mean(train_losses)\n",
    "            avg_val_loss = np.mean(val_losses)\n",
    "            \n",
    "            # Log metrics to wandb\n",
    "            wandb.log({\n",
    "                \"epoch\": epoch,\n",
    "                \"train_loss\": avg_train_loss,\n",
    "                \"train_policy_loss\": np.mean(policy_losses),\n",
    "                \"train_value_loss\": np.mean(value_losses),\n",
    "                \"val_loss\": avg_val_loss,\n",
    "                \"val_policy_loss\": np.mean(val_policy_losses),\n",
    "                \"val_value_loss\": np.mean(val_value_losses),\n",
    "            })\n",
    "            \n",
    "            print(f\"Epoch {epoch+1}/{config.epochs}, \"\n",
    "                  f\"Train Loss: {avg_train_loss:.4f}, \"\n",
    "                  f\"Val Loss: {avg_val_loss:.4f}\")\n",
    "            \n",
    "            # # Save best model\n",
    "            # if avg_val_loss < best_val_loss:\n",
    "            #     best_val_loss = avg_val_loss\n",
    "                \n",
    "            #     # Save model checkpoint\n",
    "            #     if not os.path.exists('checkpoints'):\n",
    "            #         os.makedirs('checkpoints')\n",
    "                    \n",
    "            #     checkpoint_path = f\"checkpoints/transformer_best_{run.id}.pt\"\n",
    "            #     torch.save({\n",
    "            #         'epoch': epoch,\n",
    "            #         'model_state_dict': model.state_dict(),\n",
    "            #         'optimizer_state_dict': optimizer.state_dict(),\n",
    "            #         'loss': best_val_loss,\n",
    "            #         'config': dict(config)\n",
    "            #     }, checkpoint_path)\n",
    "                \n",
    "            #     # Save as W&B artifact\n",
    "            #     model_artifact = wandb.Artifact(\n",
    "            #         f\"transformer_model_{run.id}\", \n",
    "            #         type=\"model\",\n",
    "            #         description=f\"Best model with val_loss: {best_val_loss:.4f}\"\n",
    "            #     )\n",
    "            #     model_artifact.add_file(checkpoint_path)\n",
    "            #     run.log_artifact(model_artifact)\n",
    "\n",
    "        # Evaluate against agents\n",
    "        stats = benchmark(\n",
    "            create_agent=lambda state: AlphaZeroModelAgent(\n",
    "                initial_state=state,\n",
    "                model=model_interface\n",
    "            ),\n",
    "            create_opponents={\n",
    "                'random': lambda state: RandomAgent(state),\n",
    "                'minimax': lambda state: minimax_agent_factory()\n",
    "            },\n",
    "            initial_state=lambda: TicTacToeState(),\n",
    "            num_games=100\n",
    "        )\n",
    "        wandb.log({\n",
    "            'random_win_rate': stats['random']['win_rate'],\n",
    "            'minimax_win_rate': stats['minimax']['win_rate'],\n",
    "            'random_draw_rate': stats['random']['draw_rate'],\n",
    "            'minimax_draw_rate': stats['minimax']['draw_rate'],\n",
    "            'random_loss_rate': stats['random']['loss_rate'],\n",
    "            'minimax_loss_rate': stats['minimax']['loss_rate'],\n",
    "            'random_score': stats['random']['win_rate'] - stats['random']['loss_rate'],\n",
    "            'minimax_score': stats['minimax']['win_rate'] - stats['minimax']['loss_rate']\n",
    "        })\n",
    "\n",
    "\n",
    "        "
   ]
  },
  {
   "cell_type": "code",
   "execution_count": 6,
   "metadata": {},
   "outputs": [
    {
     "name": "stdout",
     "output_type": "stream",
     "text": [
      "Create sweep with ID: mtjttrrq\n",
      "Sweep URL: https://wandb.ai/eigenway/AlphaZero-TicTacToe/sweeps/mtjttrrq\n",
      "Sweep ID: mtjttrrq\n"
     ]
    },
    {
     "name": "stderr",
     "output_type": "stream",
     "text": [
      "\u001b[34m\u001b[1mwandb\u001b[0m: Agent Starting Run: 4em1d178 with config:\n",
      "\u001b[34m\u001b[1mwandb\u001b[0m: \tactivation: relu\n",
      "\u001b[34m\u001b[1mwandb\u001b[0m: \tattention_layers: 2\n",
      "\u001b[34m\u001b[1mwandb\u001b[0m: \tbatch_size: 256\n",
      "\u001b[34m\u001b[1mwandb\u001b[0m: \tdropout: 0\n",
      "\u001b[34m\u001b[1mwandb\u001b[0m: \tembed_dim: 64\n",
      "\u001b[34m\u001b[1mwandb\u001b[0m: \tepochs: 100\n",
      "\u001b[34m\u001b[1mwandb\u001b[0m: \tfeedforward_dim: 256\n",
      "\u001b[34m\u001b[1mwandb\u001b[0m: \tlearning_rate: 0.0019387894391755464\n",
      "\u001b[34m\u001b[1mwandb\u001b[0m: \tmask_illegal_moves: False\n",
      "\u001b[34m\u001b[1mwandb\u001b[0m: \tmask_value: -10\n",
      "\u001b[34m\u001b[1mwandb\u001b[0m: \tnorm_first: True\n",
      "\u001b[34m\u001b[1mwandb\u001b[0m: \tweight_decay: 0.009399579829803266\n",
      "\u001b[34m\u001b[1mwandb\u001b[0m: Currently logged in as: \u001b[33meohjelle\u001b[0m (\u001b[33meigenway\u001b[0m) to \u001b[32mhttps://api.wandb.ai\u001b[0m. Use \u001b[1m`wandb login --relogin`\u001b[0m to force relogin\n"
     ]
    },
    {
     "data": {
      "text/html": [
       "Ignoring project 'AlphaZero-TicTacToe' when running a sweep."
      ],
      "text/plain": [
       "<IPython.core.display.HTML object>"
      ]
     },
     "metadata": {},
     "output_type": "display_data"
    },
    {
     "name": "stderr",
     "output_type": "stream",
     "text": [
      "\u001b[34m\u001b[1mwandb\u001b[0m: Using wandb-core as the SDK backend.  Please refer to https://wandb.me/wandb-core for more information.\n"
     ]
    },
    {
     "data": {
      "text/html": [
       "Tracking run with wandb version 0.19.6"
      ],
      "text/plain": [
       "<IPython.core.display.HTML object>"
      ]
     },
     "metadata": {},
     "output_type": "display_data"
    },
    {
     "data": {
      "text/html": [
       "Run data is saved locally in <code>/Users/eohjelle/Documents/2025-dots-and-boxes/dots-and-boxes/wandb/run-20250305_220126-4em1d178</code>"
      ],
      "text/plain": [
       "<IPython.core.display.HTML object>"
      ]
     },
     "metadata": {},
     "output_type": "display_data"
    },
    {
     "data": {
      "text/html": [
       "Syncing run <strong><a href='https://wandb.ai/eigenway/AlphaZero-TicTacToe/runs/4em1d178' target=\"_blank\">dazzling-sweep-1</a></strong> to <a href='https://wandb.ai/eigenway/AlphaZero-TicTacToe' target=\"_blank\">Weights & Biases</a> (<a href='https://wandb.me/developer-guide' target=\"_blank\">docs</a>)<br>Sweep page: <a href='https://wandb.ai/eigenway/AlphaZero-TicTacToe/sweeps/mtjttrrq' target=\"_blank\">https://wandb.ai/eigenway/AlphaZero-TicTacToe/sweeps/mtjttrrq</a>"
      ],
      "text/plain": [
       "<IPython.core.display.HTML object>"
      ]
     },
     "metadata": {},
     "output_type": "display_data"
    },
    {
     "data": {
      "text/html": [
       " View project at <a href='https://wandb.ai/eigenway/AlphaZero-TicTacToe' target=\"_blank\">https://wandb.ai/eigenway/AlphaZero-TicTacToe</a>"
      ],
      "text/plain": [
       "<IPython.core.display.HTML object>"
      ]
     },
     "metadata": {},
     "output_type": "display_data"
    },
    {
     "data": {
      "text/html": [
       " View sweep at <a href='https://wandb.ai/eigenway/AlphaZero-TicTacToe/sweeps/mtjttrrq' target=\"_blank\">https://wandb.ai/eigenway/AlphaZero-TicTacToe/sweeps/mtjttrrq</a>"
      ],
      "text/plain": [
       "<IPython.core.display.HTML object>"
      ]
     },
     "metadata": {},
     "output_type": "display_data"
    },
    {
     "data": {
      "text/html": [
       " View run at <a href='https://wandb.ai/eigenway/AlphaZero-TicTacToe/runs/4em1d178' target=\"_blank\">https://wandb.ai/eigenway/AlphaZero-TicTacToe/runs/4em1d178</a>"
      ],
      "text/plain": [
       "<IPython.core.display.HTML object>"
      ]
     },
     "metadata": {},
     "output_type": "display_data"
    },
    {
     "name": "stdout",
     "output_type": "stream",
     "text": [
      "Epoch 1/100, Train Loss: 8.7050, Val Loss: 4.3128\n",
      "Epoch 2/100, Train Loss: 2.9113, Val Loss: 2.8654\n",
      "Epoch 3/100, Train Loss: 2.4253, Val Loss: 2.6549\n",
      "Epoch 4/100, Train Loss: 2.3593, Val Loss: 2.5841\n",
      "Epoch 5/100, Train Loss: 2.3192, Val Loss: 2.6640\n",
      "Epoch 6/100, Train Loss: 2.3228, Val Loss: 2.6371\n",
      "Epoch 7/100, Train Loss: 2.3089, Val Loss: 2.6646\n",
      "Epoch 8/100, Train Loss: 2.3289, Val Loss: 2.6066\n",
      "Epoch 9/100, Train Loss: 2.3242, Val Loss: 2.5992\n",
      "Epoch 10/100, Train Loss: 2.3192, Val Loss: 2.6611\n",
      "Epoch 11/100, Train Loss: 2.2977, Val Loss: 2.5752\n",
      "Epoch 12/100, Train Loss: 2.2968, Val Loss: 2.5402\n",
      "Epoch 13/100, Train Loss: 2.2599, Val Loss: 2.5264\n",
      "Epoch 14/100, Train Loss: 2.2109, Val Loss: 2.4925\n",
      "Epoch 15/100, Train Loss: 2.2223, Val Loss: 2.4424\n",
      "Epoch 16/100, Train Loss: 2.1704, Val Loss: 2.4803\n",
      "Epoch 17/100, Train Loss: 2.1345, Val Loss: 2.4614\n",
      "Epoch 18/100, Train Loss: 2.1431, Val Loss: 2.4598\n",
      "Epoch 19/100, Train Loss: 2.1016, Val Loss: 2.4295\n",
      "Epoch 20/100, Train Loss: 2.0944, Val Loss: 2.4104\n",
      "Epoch 21/100, Train Loss: 2.0730, Val Loss: 2.3922\n",
      "Epoch 22/100, Train Loss: 2.0847, Val Loss: 2.3928\n",
      "Epoch 23/100, Train Loss: 2.0705, Val Loss: 2.4390\n",
      "Epoch 24/100, Train Loss: 2.0708, Val Loss: 2.4167\n",
      "Epoch 25/100, Train Loss: 2.0658, Val Loss: 2.3932\n",
      "Epoch 26/100, Train Loss: 2.0422, Val Loss: 2.3763\n",
      "Epoch 27/100, Train Loss: 2.0400, Val Loss: 2.3508\n",
      "Epoch 28/100, Train Loss: 2.0431, Val Loss: 2.3204\n",
      "Epoch 29/100, Train Loss: 1.9368, Val Loss: 2.1814\n",
      "Epoch 30/100, Train Loss: 1.7017, Val Loss: 1.5821\n",
      "Epoch 31/100, Train Loss: 1.5240, Val Loss: 1.7517\n",
      "Epoch 32/100, Train Loss: 1.4469, Val Loss: 1.5792\n",
      "Epoch 33/100, Train Loss: 1.3672, Val Loss: 2.0859\n",
      "Epoch 34/100, Train Loss: 1.5109, Val Loss: 1.6121\n",
      "Epoch 35/100, Train Loss: 1.3268, Val Loss: 1.3886\n",
      "Epoch 36/100, Train Loss: 1.2119, Val Loss: 1.3789\n",
      "Epoch 37/100, Train Loss: 1.2714, Val Loss: 1.5870\n",
      "Epoch 38/100, Train Loss: 1.3190, Val Loss: 1.6364\n",
      "Epoch 39/100, Train Loss: 1.2015, Val Loss: 1.3896\n",
      "Epoch 40/100, Train Loss: 1.1403, Val Loss: 1.2842\n",
      "Epoch 41/100, Train Loss: 1.1377, Val Loss: 1.2310\n",
      "Epoch 42/100, Train Loss: 1.1097, Val Loss: 1.2312\n",
      "Epoch 43/100, Train Loss: 1.0631, Val Loss: 1.1863\n",
      "Epoch 44/100, Train Loss: 1.0575, Val Loss: 1.2017\n",
      "Epoch 45/100, Train Loss: 1.0454, Val Loss: 1.1623\n",
      "Epoch 46/100, Train Loss: 1.0243, Val Loss: 1.1816\n",
      "Epoch 47/100, Train Loss: 1.0247, Val Loss: 1.2159\n",
      "Epoch 48/100, Train Loss: 1.0184, Val Loss: 1.1476\n",
      "Epoch 49/100, Train Loss: 0.9989, Val Loss: 1.1079\n",
      "Epoch 50/100, Train Loss: 0.9967, Val Loss: 1.2775\n",
      "Epoch 51/100, Train Loss: 1.0062, Val Loss: 1.1754\n",
      "Epoch 52/100, Train Loss: 1.0065, Val Loss: 1.1226\n",
      "Epoch 53/100, Train Loss: 0.9682, Val Loss: 1.1448\n",
      "Epoch 54/100, Train Loss: 0.9815, Val Loss: 1.0827\n",
      "Epoch 55/100, Train Loss: 0.9632, Val Loss: 1.1094\n",
      "Epoch 56/100, Train Loss: 0.9370, Val Loss: 1.0875\n",
      "Epoch 57/100, Train Loss: 0.9167, Val Loss: 1.0566\n",
      "Epoch 58/100, Train Loss: 0.9091, Val Loss: 1.0602\n",
      "Epoch 59/100, Train Loss: 0.9084, Val Loss: 1.0446\n",
      "Epoch 60/100, Train Loss: 0.8992, Val Loss: 1.1211\n",
      "Epoch 61/100, Train Loss: 0.8977, Val Loss: 1.0894\n",
      "Epoch 62/100, Train Loss: 0.8884, Val Loss: 1.0399\n",
      "Epoch 63/100, Train Loss: 0.8884, Val Loss: 1.1002\n",
      "Epoch 64/100, Train Loss: 0.9084, Val Loss: 1.0813\n",
      "Epoch 65/100, Train Loss: 0.8740, Val Loss: 1.0232\n",
      "Epoch 66/100, Train Loss: 0.8747, Val Loss: 1.0719\n",
      "Epoch 67/100, Train Loss: 0.8957, Val Loss: 1.0588\n",
      "Epoch 68/100, Train Loss: 0.8718, Val Loss: 1.0356\n",
      "Epoch 69/100, Train Loss: 0.8833, Val Loss: 1.0705\n",
      "Epoch 70/100, Train Loss: 0.8705, Val Loss: 1.0575\n",
      "Epoch 71/100, Train Loss: 0.8777, Val Loss: 1.0374\n",
      "Epoch 72/100, Train Loss: 0.8705, Val Loss: 1.0378\n",
      "Epoch 73/100, Train Loss: 0.8788, Val Loss: 1.0194\n",
      "Epoch 74/100, Train Loss: 0.8662, Val Loss: 1.0422\n",
      "Epoch 75/100, Train Loss: 0.8826, Val Loss: 1.0755\n",
      "Epoch 76/100, Train Loss: 0.9106, Val Loss: 1.0786\n",
      "Epoch 77/100, Train Loss: 0.8677, Val Loss: 1.0286\n",
      "Epoch 78/100, Train Loss: 0.8468, Val Loss: 1.0675\n",
      "Epoch 79/100, Train Loss: 0.8387, Val Loss: 0.9611\n",
      "Epoch 80/100, Train Loss: 0.8315, Val Loss: 0.9878\n",
      "Epoch 81/100, Train Loss: 0.8418, Val Loss: 0.9792\n",
      "Epoch 82/100, Train Loss: 0.8298, Val Loss: 0.9756\n",
      "Epoch 83/100, Train Loss: 0.8563, Val Loss: 1.0175\n",
      "Epoch 84/100, Train Loss: 0.8441, Val Loss: 1.0422\n",
      "Epoch 85/100, Train Loss: 0.8617, Val Loss: 0.9666\n",
      "Epoch 86/100, Train Loss: 0.8349, Val Loss: 0.9788\n",
      "Epoch 87/100, Train Loss: 0.8239, Val Loss: 0.9773\n",
      "Epoch 88/100, Train Loss: 0.8269, Val Loss: 1.0307\n",
      "Epoch 89/100, Train Loss: 0.8302, Val Loss: 0.9714\n",
      "Epoch 90/100, Train Loss: 0.8145, Val Loss: 0.9935\n",
      "Epoch 91/100, Train Loss: 0.8272, Val Loss: 0.9951\n",
      "Epoch 92/100, Train Loss: 0.8189, Val Loss: 0.9927\n",
      "Epoch 93/100, Train Loss: 0.8169, Val Loss: 0.9584\n",
      "Epoch 94/100, Train Loss: 0.8130, Val Loss: 1.0438\n",
      "Epoch 95/100, Train Loss: 0.8452, Val Loss: 0.9718\n",
      "Epoch 96/100, Train Loss: 0.8310, Val Loss: 0.9874\n",
      "Epoch 97/100, Train Loss: 0.8340, Val Loss: 1.1111\n",
      "Epoch 98/100, Train Loss: 0.8383, Val Loss: 0.9395\n",
      "Epoch 99/100, Train Loss: 0.8297, Val Loss: 0.9707\n",
      "Epoch 100/100, Train Loss: 0.7996, Val Loss: 0.9588\n"
     ]
    },
    {
     "data": {
      "text/html": [],
      "text/plain": [
       "<IPython.core.display.HTML object>"
      ]
     },
     "metadata": {},
     "output_type": "display_data"
    },
    {
     "data": {
      "text/html": [
       "<br>    <style><br>        .wandb-row {<br>            display: flex;<br>            flex-direction: row;<br>            flex-wrap: wrap;<br>            justify-content: flex-start;<br>            width: 100%;<br>        }<br>        .wandb-col {<br>            display: flex;<br>            flex-direction: column;<br>            flex-basis: 100%;<br>            flex: 1;<br>            padding: 10px;<br>        }<br>    </style><br><div class=\"wandb-row\"><div class=\"wandb-col\"><h3>Run history:</h3><br/><table class=\"wandb\"><tr><td>epoch</td><td>▁▁▁▁▁▂▂▂▂▂▂▃▃▃▃▃▄▄▄▄▄▅▅▅▅▅▅▅▅▆▆▆▆▆▆▆▇▇▇█</td></tr><tr><td>minimax_draw_rate</td><td>▁</td></tr><tr><td>minimax_loss_rate</td><td>▁</td></tr><tr><td>minimax_score</td><td>▁</td></tr><tr><td>minimax_win_rate</td><td>▁</td></tr><tr><td>random_draw_rate</td><td>▁</td></tr><tr><td>random_loss_rate</td><td>▁</td></tr><tr><td>random_score</td><td>▁</td></tr><tr><td>random_win_rate</td><td>▁</td></tr><tr><td>train_loss</td><td>█▂▂▂▂▂▂▂▂▂▁▁▁▁▁▁▁▁▁▁▁▁▁▁▁▁▁▁▁▁▁▁▁▁▁▁▁▁▁▁</td></tr><tr><td>train_policy_loss</td><td>█▂▁▁▁▁▁▁▁▁▁▁▁▁▁▁▁▁▁▁▁▁▁▁▁▁▁▁▁▁▁▁▁▁▁▁▁▁▁▁</td></tr><tr><td>train_value_loss</td><td>█▇▇▇▇▇▇▇▇▇▇▄▃▃▃▂▂▂▂▂▂▂▂▂▁▁▁▁▁▁▁▁▁▁▁▁▁▁▁▁</td></tr><tr><td>val_loss</td><td>████▇▇▇▇▇▇▇▇▄▆▃▃▂▂▂▂▂▂▂▂▂▁▂▁▁▁▁▁▁▁▁▁▁▁▁▁</td></tr><tr><td>val_policy_loss</td><td>█▃▂▂▂▂▂▂▁▂▁▁▁▁▁▂▁▁▁▁▁▁▁▁▁▁▁▁▁▁▁▁▁▁▁▁▁▁▁▁</td></tr><tr><td>val_value_loss</td><td>██████████▅▄▇▄▃▃▂▂▂▂▂▁▂▁▁▁▂▁▁▁▂▁▁▁▁▁▁▁▁▁</td></tr></table><br/></div><div class=\"wandb-col\"><h3>Run summary:</h3><br/><table class=\"wandb\"><tr><td>epoch</td><td>99</td></tr><tr><td>minimax_draw_rate</td><td>0.35</td></tr><tr><td>minimax_loss_rate</td><td>0.65</td></tr><tr><td>minimax_score</td><td>-0.65</td></tr><tr><td>minimax_win_rate</td><td>0</td></tr><tr><td>random_draw_rate</td><td>0.09</td></tr><tr><td>random_loss_rate</td><td>0.16</td></tr><tr><td>random_score</td><td>0.59</td></tr><tr><td>random_win_rate</td><td>0.75</td></tr><tr><td>train_loss</td><td>0.79958</td></tr><tr><td>train_policy_loss</td><td>0.65675</td></tr><tr><td>train_value_loss</td><td>0.14283</td></tr><tr><td>val_loss</td><td>0.9588</td></tr><tr><td>val_policy_loss</td><td>0.77243</td></tr><tr><td>val_value_loss</td><td>0.18636</td></tr></table><br/></div></div>"
      ],
      "text/plain": [
       "<IPython.core.display.HTML object>"
      ]
     },
     "metadata": {},
     "output_type": "display_data"
    },
    {
     "data": {
      "text/html": [
       " View run <strong style=\"color:#cdcd00\">dazzling-sweep-1</strong> at: <a href='https://wandb.ai/eigenway/AlphaZero-TicTacToe/runs/4em1d178' target=\"_blank\">https://wandb.ai/eigenway/AlphaZero-TicTacToe/runs/4em1d178</a><br> View project at: <a href='https://wandb.ai/eigenway/AlphaZero-TicTacToe' target=\"_blank\">https://wandb.ai/eigenway/AlphaZero-TicTacToe</a><br>Synced 5 W&B file(s), 0 media file(s), 0 artifact file(s) and 0 other file(s)"
      ],
      "text/plain": [
       "<IPython.core.display.HTML object>"
      ]
     },
     "metadata": {},
     "output_type": "display_data"
    },
    {
     "data": {
      "text/html": [
       "Find logs at: <code>./wandb/run-20250305_220126-4em1d178/logs</code>"
      ],
      "text/plain": [
       "<IPython.core.display.HTML object>"
      ]
     },
     "metadata": {},
     "output_type": "display_data"
    },
    {
     "name": "stderr",
     "output_type": "stream",
     "text": [
      "\u001b[34m\u001b[1mwandb\u001b[0m: Agent Starting Run: 0jasv9z6 with config:\n",
      "\u001b[34m\u001b[1mwandb\u001b[0m: \tactivation: relu\n",
      "\u001b[34m\u001b[1mwandb\u001b[0m: \tattention_layers: 2\n",
      "\u001b[34m\u001b[1mwandb\u001b[0m: \tbatch_size: 256\n",
      "\u001b[34m\u001b[1mwandb\u001b[0m: \tdropout: 0\n",
      "\u001b[34m\u001b[1mwandb\u001b[0m: \tembed_dim: 64\n",
      "\u001b[34m\u001b[1mwandb\u001b[0m: \tepochs: 100\n",
      "\u001b[34m\u001b[1mwandb\u001b[0m: \tfeedforward_dim: 256\n",
      "\u001b[34m\u001b[1mwandb\u001b[0m: \tlearning_rate: 0.008479717755861172\n",
      "\u001b[34m\u001b[1mwandb\u001b[0m: \tmask_illegal_moves: False\n",
      "\u001b[34m\u001b[1mwandb\u001b[0m: \tmask_value: -10\n",
      "\u001b[34m\u001b[1mwandb\u001b[0m: \tnorm_first: True\n",
      "\u001b[34m\u001b[1mwandb\u001b[0m: \tweight_decay: 0.007743711984707411\n"
     ]
    },
    {
     "data": {
      "text/html": [
       "Ignoring project 'AlphaZero-TicTacToe' when running a sweep."
      ],
      "text/plain": [
       "<IPython.core.display.HTML object>"
      ]
     },
     "metadata": {},
     "output_type": "display_data"
    },
    {
     "data": {
      "text/html": [
       "Tracking run with wandb version 0.19.6"
      ],
      "text/plain": [
       "<IPython.core.display.HTML object>"
      ]
     },
     "metadata": {},
     "output_type": "display_data"
    },
    {
     "data": {
      "text/html": [
       "Run data is saved locally in <code>/Users/eohjelle/Documents/2025-dots-and-boxes/dots-and-boxes/wandb/run-20250305_220222-0jasv9z6</code>"
      ],
      "text/plain": [
       "<IPython.core.display.HTML object>"
      ]
     },
     "metadata": {},
     "output_type": "display_data"
    },
    {
     "data": {
      "text/html": [
       "Syncing run <strong><a href='https://wandb.ai/eigenway/AlphaZero-TicTacToe/runs/0jasv9z6' target=\"_blank\">distinctive-sweep-2</a></strong> to <a href='https://wandb.ai/eigenway/AlphaZero-TicTacToe' target=\"_blank\">Weights & Biases</a> (<a href='https://wandb.me/developer-guide' target=\"_blank\">docs</a>)<br>Sweep page: <a href='https://wandb.ai/eigenway/AlphaZero-TicTacToe/sweeps/mtjttrrq' target=\"_blank\">https://wandb.ai/eigenway/AlphaZero-TicTacToe/sweeps/mtjttrrq</a>"
      ],
      "text/plain": [
       "<IPython.core.display.HTML object>"
      ]
     },
     "metadata": {},
     "output_type": "display_data"
    },
    {
     "data": {
      "text/html": [
       " View project at <a href='https://wandb.ai/eigenway/AlphaZero-TicTacToe' target=\"_blank\">https://wandb.ai/eigenway/AlphaZero-TicTacToe</a>"
      ],
      "text/plain": [
       "<IPython.core.display.HTML object>"
      ]
     },
     "metadata": {},
     "output_type": "display_data"
    },
    {
     "data": {
      "text/html": [
       " View sweep at <a href='https://wandb.ai/eigenway/AlphaZero-TicTacToe/sweeps/mtjttrrq' target=\"_blank\">https://wandb.ai/eigenway/AlphaZero-TicTacToe/sweeps/mtjttrrq</a>"
      ],
      "text/plain": [
       "<IPython.core.display.HTML object>"
      ]
     },
     "metadata": {},
     "output_type": "display_data"
    },
    {
     "data": {
      "text/html": [
       " View run at <a href='https://wandb.ai/eigenway/AlphaZero-TicTacToe/runs/0jasv9z6' target=\"_blank\">https://wandb.ai/eigenway/AlphaZero-TicTacToe/runs/0jasv9z6</a>"
      ],
      "text/plain": [
       "<IPython.core.display.HTML object>"
      ]
     },
     "metadata": {},
     "output_type": "display_data"
    },
    {
     "name": "stdout",
     "output_type": "stream",
     "text": [
      "Epoch 1/100, Train Loss: 12.0543, Val Loss: 4.0199\n",
      "Epoch 2/100, Train Loss: 3.3052, Val Loss: 2.7768\n",
      "Epoch 3/100, Train Loss: 2.7897, Val Loss: 2.6171\n",
      "Epoch 4/100, Train Loss: 2.6207, Val Loss: 2.4583\n",
      "Epoch 5/100, Train Loss: 2.5184, Val Loss: 2.3882\n",
      "Epoch 6/100, Train Loss: 2.4579, Val Loss: 2.3770\n",
      "Epoch 7/100, Train Loss: 2.4077, Val Loss: 2.3385\n",
      "Epoch 8/100, Train Loss: 2.3861, Val Loss: 2.3382\n",
      "Epoch 9/100, Train Loss: 2.3829, Val Loss: 2.2775\n",
      "Epoch 10/100, Train Loss: 2.3494, Val Loss: 2.2319\n",
      "Epoch 11/100, Train Loss: 2.2797, Val Loss: 2.2185\n",
      "Epoch 12/100, Train Loss: 2.2852, Val Loss: 2.1111\n",
      "Epoch 13/100, Train Loss: 1.9948, Val Loss: 2.0472\n",
      "Epoch 14/100, Train Loss: 1.7837, Val Loss: 1.6750\n",
      "Epoch 15/100, Train Loss: 2.1760, Val Loss: 2.1548\n",
      "Epoch 16/100, Train Loss: 2.1678, Val Loss: 2.0932\n",
      "Epoch 17/100, Train Loss: 2.1216, Val Loss: 2.0526\n",
      "Epoch 18/100, Train Loss: 2.1058, Val Loss: 2.1000\n",
      "Epoch 19/100, Train Loss: 2.1320, Val Loss: 2.0603\n",
      "Epoch 20/100, Train Loss: 2.1050, Val Loss: 2.0505\n",
      "Epoch 21/100, Train Loss: 1.9524, Val Loss: 1.8346\n",
      "Epoch 22/100, Train Loss: 1.7858, Val Loss: 1.9023\n",
      "Epoch 23/100, Train Loss: 1.6193, Val Loss: 1.4996\n",
      "Epoch 24/100, Train Loss: 1.5311, Val Loss: 1.4780\n",
      "Epoch 25/100, Train Loss: 1.3406, Val Loss: 1.4221\n",
      "Epoch 26/100, Train Loss: 1.4582, Val Loss: 1.6591\n",
      "Epoch 27/100, Train Loss: 1.3539, Val Loss: 1.4609\n",
      "Epoch 28/100, Train Loss: 1.3679, Val Loss: 1.3259\n",
      "Epoch 29/100, Train Loss: 1.3406, Val Loss: 1.3795\n",
      "Epoch 30/100, Train Loss: 1.3765, Val Loss: 1.2599\n",
      "Epoch 31/100, Train Loss: 1.1791, Val Loss: 1.2780\n",
      "Epoch 32/100, Train Loss: 1.1648, Val Loss: 1.3064\n",
      "Epoch 33/100, Train Loss: 1.2060, Val Loss: 1.7052\n",
      "Epoch 34/100, Train Loss: 1.2361, Val Loss: 1.2610\n",
      "Epoch 35/100, Train Loss: 1.1507, Val Loss: 1.2463\n",
      "Epoch 36/100, Train Loss: 1.1083, Val Loss: 1.2769\n",
      "Epoch 37/100, Train Loss: 1.1497, Val Loss: 1.1118\n",
      "Epoch 38/100, Train Loss: 1.0965, Val Loss: 1.2247\n",
      "Epoch 39/100, Train Loss: 1.1196, Val Loss: 1.2212\n",
      "Epoch 40/100, Train Loss: 1.0660, Val Loss: 1.0607\n",
      "Epoch 41/100, Train Loss: 1.0541, Val Loss: 1.1712\n",
      "Epoch 42/100, Train Loss: 1.0920, Val Loss: 1.1285\n",
      "Epoch 43/100, Train Loss: 1.0454, Val Loss: 1.0555\n",
      "Epoch 44/100, Train Loss: 1.0436, Val Loss: 1.0891\n",
      "Epoch 45/100, Train Loss: 1.0536, Val Loss: 0.9852\n",
      "Epoch 46/100, Train Loss: 1.0166, Val Loss: 0.9656\n",
      "Epoch 47/100, Train Loss: 1.0237, Val Loss: 1.0428\n",
      "Epoch 48/100, Train Loss: 1.0449, Val Loss: 1.0476\n",
      "Epoch 49/100, Train Loss: 0.9784, Val Loss: 0.9834\n",
      "Epoch 50/100, Train Loss: 0.9693, Val Loss: 0.9716\n",
      "Epoch 51/100, Train Loss: 1.0082, Val Loss: 1.2403\n",
      "Epoch 52/100, Train Loss: 1.0199, Val Loss: 0.9448\n",
      "Epoch 53/100, Train Loss: 0.9729, Val Loss: 1.0070\n",
      "Epoch 54/100, Train Loss: 0.9335, Val Loss: 1.0075\n",
      "Epoch 55/100, Train Loss: 0.9591, Val Loss: 0.9463\n",
      "Epoch 56/100, Train Loss: 0.9347, Val Loss: 0.9952\n",
      "Epoch 57/100, Train Loss: 0.9276, Val Loss: 0.9005\n",
      "Epoch 58/100, Train Loss: 0.9162, Val Loss: 0.9421\n",
      "Epoch 59/100, Train Loss: 0.9188, Val Loss: 0.9815\n",
      "Epoch 60/100, Train Loss: 0.9570, Val Loss: 1.0003\n",
      "Epoch 61/100, Train Loss: 0.9547, Val Loss: 0.8931\n",
      "Epoch 62/100, Train Loss: 0.9076, Val Loss: 0.9191\n",
      "Epoch 63/100, Train Loss: 0.8957, Val Loss: 0.8721\n",
      "Epoch 64/100, Train Loss: 0.9110, Val Loss: 0.8846\n",
      "Epoch 65/100, Train Loss: 0.8846, Val Loss: 0.9270\n",
      "Epoch 66/100, Train Loss: 0.8615, Val Loss: 0.9144\n",
      "Epoch 67/100, Train Loss: 0.8930, Val Loss: 0.9119\n",
      "Epoch 68/100, Train Loss: 0.9081, Val Loss: 0.8928\n",
      "Epoch 69/100, Train Loss: 0.8779, Val Loss: 0.9909\n",
      "Epoch 70/100, Train Loss: 0.9129, Val Loss: 0.9258\n",
      "Epoch 71/100, Train Loss: 0.8812, Val Loss: 0.9469\n",
      "Epoch 72/100, Train Loss: 0.8546, Val Loss: 0.8635\n",
      "Epoch 73/100, Train Loss: 0.8637, Val Loss: 0.8681\n",
      "Epoch 74/100, Train Loss: 0.8612, Val Loss: 0.9002\n",
      "Epoch 75/100, Train Loss: 0.8716, Val Loss: 0.8308\n",
      "Epoch 76/100, Train Loss: 0.8442, Val Loss: 0.8397\n",
      "Epoch 77/100, Train Loss: 0.8412, Val Loss: 0.9144\n",
      "Epoch 78/100, Train Loss: 0.8831, Val Loss: 0.9348\n",
      "Epoch 79/100, Train Loss: 0.9255, Val Loss: 1.1184\n",
      "Epoch 80/100, Train Loss: 0.9172, Val Loss: 0.8663\n",
      "Epoch 81/100, Train Loss: 0.8638, Val Loss: 0.8511\n",
      "Epoch 82/100, Train Loss: 0.8325, Val Loss: 0.9128\n",
      "Epoch 83/100, Train Loss: 0.8223, Val Loss: 0.8305\n",
      "Epoch 84/100, Train Loss: 0.8249, Val Loss: 0.8681\n",
      "Epoch 85/100, Train Loss: 0.8396, Val Loss: 0.9104\n",
      "Epoch 86/100, Train Loss: 0.8480, Val Loss: 0.9134\n",
      "Epoch 87/100, Train Loss: 0.8246, Val Loss: 0.7872\n",
      "Epoch 88/100, Train Loss: 0.8270, Val Loss: 0.8769\n",
      "Epoch 89/100, Train Loss: 0.8496, Val Loss: 0.8783\n",
      "Epoch 90/100, Train Loss: 0.8184, Val Loss: 0.8433\n",
      "Epoch 91/100, Train Loss: 0.8216, Val Loss: 0.9598\n",
      "Epoch 92/100, Train Loss: 0.8428, Val Loss: 0.9376\n",
      "Epoch 93/100, Train Loss: 0.8276, Val Loss: 0.8966\n",
      "Epoch 94/100, Train Loss: 0.8325, Val Loss: 0.8485\n",
      "Epoch 95/100, Train Loss: 0.8183, Val Loss: 0.8123\n",
      "Epoch 96/100, Train Loss: 0.8092, Val Loss: 0.8247\n",
      "Epoch 97/100, Train Loss: 0.8350, Val Loss: 0.8742\n",
      "Epoch 98/100, Train Loss: 0.8357, Val Loss: 0.8659\n",
      "Epoch 99/100, Train Loss: 0.7993, Val Loss: 0.8582\n",
      "Epoch 100/100, Train Loss: 0.7993, Val Loss: 0.8373\n"
     ]
    },
    {
     "data": {
      "text/html": [],
      "text/plain": [
       "<IPython.core.display.HTML object>"
      ]
     },
     "metadata": {},
     "output_type": "display_data"
    },
    {
     "data": {
      "text/html": [
       "<br>    <style><br>        .wandb-row {<br>            display: flex;<br>            flex-direction: row;<br>            flex-wrap: wrap;<br>            justify-content: flex-start;<br>            width: 100%;<br>        }<br>        .wandb-col {<br>            display: flex;<br>            flex-direction: column;<br>            flex-basis: 100%;<br>            flex: 1;<br>            padding: 10px;<br>        }<br>    </style><br><div class=\"wandb-row\"><div class=\"wandb-col\"><h3>Run history:</h3><br/><table class=\"wandb\"><tr><td>epoch</td><td>▁▁▁▁▁▂▂▂▂▃▃▃▃▄▄▄▄▄▄▄▅▅▅▅▅▆▆▆▆▆▇▇▇▇▇▇▇███</td></tr><tr><td>minimax_draw_rate</td><td>▁</td></tr><tr><td>minimax_loss_rate</td><td>▁</td></tr><tr><td>minimax_score</td><td>▁</td></tr><tr><td>minimax_win_rate</td><td>▁</td></tr><tr><td>random_draw_rate</td><td>▁</td></tr><tr><td>random_loss_rate</td><td>▁</td></tr><tr><td>random_score</td><td>▁</td></tr><tr><td>random_win_rate</td><td>▁</td></tr><tr><td>train_loss</td><td>█▆▆▅▅▄▅▅▅▃▃▂▂▂▂▂▂▂▂▁▁▁▁▁▁▁▁▁▁▁▁▁▁▁▁▁▁▁▁▁</td></tr><tr><td>train_policy_loss</td><td>█▄▃▃▃▃▂▂▂▂▂▂▁▁▁▁▁▁▁▁▁▁▁▁▁▁▁▁▁▁▁▁▁▁▁▁▁▁▁▁</td></tr><tr><td>train_value_loss</td><td>█▅▅▅▄▄▃▃▃▂▂▂▂▂▂▂▂▂▂▁▁▁▁▁▁▁▁▁▁▁▁▁▁▁▁▁▁▁▁▁</td></tr><tr><td>val_loss</td><td>█▄▄▄▃▄▃▃▂▃▂▂▂▂▂▂▁▁▂▁▁▁▁▁▁▁▁▁▁▁▁▁▁▁▁▁▁▁▁▁</td></tr><tr><td>val_policy_loss</td><td>█▃▃▂▂▂▂▁▂▁▁▁▁▁▁▁▁▁▁▁▁▁▁▁▁▁▁▁▁▁▁▁▁▁▁▁▁▁▁▁</td></tr><tr><td>val_value_loss</td><td>████▇█▆▇▅▄▄▃▃▃▃▂▃▂▂▁▂▁▁▁▁▂▂▁▁▁▃▁▁▁▁▁▂▂▁▁</td></tr></table><br/></div><div class=\"wandb-col\"><h3>Run summary:</h3><br/><table class=\"wandb\"><tr><td>epoch</td><td>99</td></tr><tr><td>minimax_draw_rate</td><td>0.32</td></tr><tr><td>minimax_loss_rate</td><td>0.68</td></tr><tr><td>minimax_score</td><td>-0.68</td></tr><tr><td>minimax_win_rate</td><td>0</td></tr><tr><td>random_draw_rate</td><td>0.12</td></tr><tr><td>random_loss_rate</td><td>0.18</td></tr><tr><td>random_score</td><td>0.52</td></tr><tr><td>random_win_rate</td><td>0.7</td></tr><tr><td>train_loss</td><td>0.79927</td></tr><tr><td>train_policy_loss</td><td>0.64236</td></tr><tr><td>train_value_loss</td><td>0.15691</td></tr><tr><td>val_loss</td><td>0.83734</td></tr><tr><td>val_policy_loss</td><td>0.65863</td></tr><tr><td>val_value_loss</td><td>0.17871</td></tr></table><br/></div></div>"
      ],
      "text/plain": [
       "<IPython.core.display.HTML object>"
      ]
     },
     "metadata": {},
     "output_type": "display_data"
    },
    {
     "data": {
      "text/html": [
       " View run <strong style=\"color:#cdcd00\">distinctive-sweep-2</strong> at: <a href='https://wandb.ai/eigenway/AlphaZero-TicTacToe/runs/0jasv9z6' target=\"_blank\">https://wandb.ai/eigenway/AlphaZero-TicTacToe/runs/0jasv9z6</a><br> View project at: <a href='https://wandb.ai/eigenway/AlphaZero-TicTacToe' target=\"_blank\">https://wandb.ai/eigenway/AlphaZero-TicTacToe</a><br>Synced 5 W&B file(s), 0 media file(s), 0 artifact file(s) and 0 other file(s)"
      ],
      "text/plain": [
       "<IPython.core.display.HTML object>"
      ]
     },
     "metadata": {},
     "output_type": "display_data"
    },
    {
     "data": {
      "text/html": [
       "Find logs at: <code>./wandb/run-20250305_220222-0jasv9z6/logs</code>"
      ],
      "text/plain": [
       "<IPython.core.display.HTML object>"
      ]
     },
     "metadata": {},
     "output_type": "display_data"
    },
    {
     "name": "stderr",
     "output_type": "stream",
     "text": [
      "\u001b[34m\u001b[1mwandb\u001b[0m: Agent Starting Run: npandt8s with config:\n",
      "\u001b[34m\u001b[1mwandb\u001b[0m: \tactivation: relu\n",
      "\u001b[34m\u001b[1mwandb\u001b[0m: \tattention_layers: 2\n",
      "\u001b[34m\u001b[1mwandb\u001b[0m: \tbatch_size: 256\n",
      "\u001b[34m\u001b[1mwandb\u001b[0m: \tdropout: 0\n",
      "\u001b[34m\u001b[1mwandb\u001b[0m: \tembed_dim: 64\n",
      "\u001b[34m\u001b[1mwandb\u001b[0m: \tepochs: 100\n",
      "\u001b[34m\u001b[1mwandb\u001b[0m: \tfeedforward_dim: 256\n",
      "\u001b[34m\u001b[1mwandb\u001b[0m: \tlearning_rate: 0.0019337221217427673\n",
      "\u001b[34m\u001b[1mwandb\u001b[0m: \tmask_illegal_moves: False\n",
      "\u001b[34m\u001b[1mwandb\u001b[0m: \tmask_value: -10\n",
      "\u001b[34m\u001b[1mwandb\u001b[0m: \tnorm_first: True\n",
      "\u001b[34m\u001b[1mwandb\u001b[0m: \tweight_decay: 0.0023144853627454502\n"
     ]
    },
    {
     "data": {
      "text/html": [
       "Ignoring project 'AlphaZero-TicTacToe' when running a sweep."
      ],
      "text/plain": [
       "<IPython.core.display.HTML object>"
      ]
     },
     "metadata": {},
     "output_type": "display_data"
    },
    {
     "data": {
      "text/html": [
       "Tracking run with wandb version 0.19.6"
      ],
      "text/plain": [
       "<IPython.core.display.HTML object>"
      ]
     },
     "metadata": {},
     "output_type": "display_data"
    },
    {
     "data": {
      "text/html": [
       "Run data is saved locally in <code>/Users/eohjelle/Documents/2025-dots-and-boxes/dots-and-boxes/wandb/run-20250305_220313-npandt8s</code>"
      ],
      "text/plain": [
       "<IPython.core.display.HTML object>"
      ]
     },
     "metadata": {},
     "output_type": "display_data"
    },
    {
     "data": {
      "text/html": [
       "Syncing run <strong><a href='https://wandb.ai/eigenway/AlphaZero-TicTacToe/runs/npandt8s' target=\"_blank\">misunderstood-sweep-3</a></strong> to <a href='https://wandb.ai/eigenway/AlphaZero-TicTacToe' target=\"_blank\">Weights & Biases</a> (<a href='https://wandb.me/developer-guide' target=\"_blank\">docs</a>)<br>Sweep page: <a href='https://wandb.ai/eigenway/AlphaZero-TicTacToe/sweeps/mtjttrrq' target=\"_blank\">https://wandb.ai/eigenway/AlphaZero-TicTacToe/sweeps/mtjttrrq</a>"
      ],
      "text/plain": [
       "<IPython.core.display.HTML object>"
      ]
     },
     "metadata": {},
     "output_type": "display_data"
    },
    {
     "data": {
      "text/html": [
       " View project at <a href='https://wandb.ai/eigenway/AlphaZero-TicTacToe' target=\"_blank\">https://wandb.ai/eigenway/AlphaZero-TicTacToe</a>"
      ],
      "text/plain": [
       "<IPython.core.display.HTML object>"
      ]
     },
     "metadata": {},
     "output_type": "display_data"
    },
    {
     "data": {
      "text/html": [
       " View sweep at <a href='https://wandb.ai/eigenway/AlphaZero-TicTacToe/sweeps/mtjttrrq' target=\"_blank\">https://wandb.ai/eigenway/AlphaZero-TicTacToe/sweeps/mtjttrrq</a>"
      ],
      "text/plain": [
       "<IPython.core.display.HTML object>"
      ]
     },
     "metadata": {},
     "output_type": "display_data"
    },
    {
     "data": {
      "text/html": [
       " View run at <a href='https://wandb.ai/eigenway/AlphaZero-TicTacToe/runs/npandt8s' target=\"_blank\">https://wandb.ai/eigenway/AlphaZero-TicTacToe/runs/npandt8s</a>"
      ],
      "text/plain": [
       "<IPython.core.display.HTML object>"
      ]
     },
     "metadata": {},
     "output_type": "display_data"
    },
    {
     "name": "stdout",
     "output_type": "stream",
     "text": [
      "Epoch 1/100, Train Loss: 10.1558, Val Loss: 3.7006\n",
      "Epoch 2/100, Train Loss: 2.9899, Val Loss: 2.6971\n",
      "Epoch 3/100, Train Loss: 2.4544, Val Loss: 2.4705\n",
      "Epoch 4/100, Train Loss: 2.3589, Val Loss: 2.4499\n",
      "Epoch 5/100, Train Loss: 2.2968, Val Loss: 2.3615\n",
      "Epoch 6/100, Train Loss: 2.2687, Val Loss: 2.3559\n",
      "Epoch 7/100, Train Loss: 2.2424, Val Loss: 2.3718\n",
      "Epoch 8/100, Train Loss: 2.2109, Val Loss: 2.3555\n",
      "Epoch 9/100, Train Loss: 2.2107, Val Loss: 2.2821\n",
      "Epoch 10/100, Train Loss: 2.1744, Val Loss: 2.2789\n",
      "Epoch 11/100, Train Loss: 2.1718, Val Loss: 2.3471\n",
      "Epoch 12/100, Train Loss: 2.1368, Val Loss: 2.2444\n",
      "Epoch 13/100, Train Loss: 2.0981, Val Loss: 2.2427\n",
      "Epoch 14/100, Train Loss: 2.0716, Val Loss: 2.2462\n",
      "Epoch 15/100, Train Loss: 2.0639, Val Loss: 2.2324\n",
      "Epoch 16/100, Train Loss: 2.0405, Val Loss: 2.1855\n",
      "Epoch 17/100, Train Loss: 2.0467, Val Loss: 2.1608\n",
      "Epoch 18/100, Train Loss: 2.0446, Val Loss: 2.2068\n",
      "Epoch 19/100, Train Loss: 2.0560, Val Loss: 2.1761\n",
      "Epoch 20/100, Train Loss: 2.0269, Val Loss: 2.1687\n",
      "Epoch 21/100, Train Loss: 2.0034, Val Loss: 2.1887\n",
      "Epoch 22/100, Train Loss: 2.0262, Val Loss: 2.1700\n",
      "Epoch 23/100, Train Loss: 2.0228, Val Loss: 2.1606\n",
      "Epoch 24/100, Train Loss: 2.0214, Val Loss: 2.1774\n",
      "Epoch 25/100, Train Loss: 2.0298, Val Loss: 2.1672\n",
      "Epoch 26/100, Train Loss: 2.0109, Val Loss: 2.2425\n",
      "Epoch 27/100, Train Loss: 2.0158, Val Loss: 2.1656\n",
      "Epoch 28/100, Train Loss: 2.0040, Val Loss: 2.1506\n",
      "Epoch 29/100, Train Loss: 2.0189, Val Loss: 2.1533\n",
      "Epoch 30/100, Train Loss: 1.9919, Val Loss: 2.1319\n",
      "Epoch 31/100, Train Loss: 2.0420, Val Loss: 2.1970\n",
      "Epoch 32/100, Train Loss: 2.0024, Val Loss: 2.1551\n",
      "Epoch 33/100, Train Loss: 2.0178, Val Loss: 2.1394\n",
      "Epoch 34/100, Train Loss: 1.9992, Val Loss: 2.1541\n",
      "Epoch 35/100, Train Loss: 1.9924, Val Loss: 2.1245\n",
      "Epoch 36/100, Train Loss: 1.9736, Val Loss: 2.1579\n",
      "Epoch 37/100, Train Loss: 2.0089, Val Loss: 2.1407\n",
      "Epoch 38/100, Train Loss: 2.0328, Val Loss: 2.2057\n",
      "Epoch 39/100, Train Loss: 2.0388, Val Loss: 2.1551\n",
      "Epoch 40/100, Train Loss: 2.0365, Val Loss: 2.1192\n",
      "Epoch 41/100, Train Loss: 2.0031, Val Loss: 2.1310\n",
      "Epoch 42/100, Train Loss: 1.9910, Val Loss: 2.1380\n",
      "Epoch 43/100, Train Loss: 2.0010, Val Loss: 2.1446\n",
      "Epoch 44/100, Train Loss: 1.9844, Val Loss: 2.1137\n",
      "Epoch 45/100, Train Loss: 1.9958, Val Loss: 2.1082\n",
      "Epoch 46/100, Train Loss: 1.9875, Val Loss: 2.1140\n",
      "Epoch 47/100, Train Loss: 1.9971, Val Loss: 2.1135\n",
      "Epoch 48/100, Train Loss: 1.9974, Val Loss: 2.1227\n",
      "Epoch 49/100, Train Loss: 1.9978, Val Loss: 2.1175\n",
      "Epoch 50/100, Train Loss: 1.9843, Val Loss: 2.1461\n",
      "Epoch 51/100, Train Loss: 1.9810, Val Loss: 2.1255\n",
      "Epoch 52/100, Train Loss: 1.9921, Val Loss: 2.1728\n",
      "Epoch 53/100, Train Loss: 1.9904, Val Loss: 2.1235\n",
      "Epoch 54/100, Train Loss: 1.9859, Val Loss: 2.1159\n",
      "Epoch 55/100, Train Loss: 1.9822, Val Loss: 2.1377\n",
      "Epoch 56/100, Train Loss: 1.9903, Val Loss: 2.1498\n",
      "Epoch 57/100, Train Loss: 1.9786, Val Loss: 2.1303\n",
      "Epoch 58/100, Train Loss: 1.9723, Val Loss: 2.1541\n",
      "Epoch 59/100, Train Loss: 2.0098, Val Loss: 2.1214\n",
      "Epoch 60/100, Train Loss: 1.9922, Val Loss: 2.1099\n",
      "Epoch 61/100, Train Loss: 1.9883, Val Loss: 2.1067\n",
      "Epoch 62/100, Train Loss: 1.8917, Val Loss: 1.5857\n",
      "Epoch 63/100, Train Loss: 1.5794, Val Loss: 1.4568\n",
      "Epoch 64/100, Train Loss: 1.3667, Val Loss: 1.3532\n",
      "Epoch 65/100, Train Loss: 1.3833, Val Loss: 1.3682\n",
      "Epoch 66/100, Train Loss: 1.2571, Val Loss: 1.2474\n",
      "Epoch 67/100, Train Loss: 1.1993, Val Loss: 1.3068\n",
      "Epoch 68/100, Train Loss: 1.1551, Val Loss: 1.2036\n",
      "Epoch 69/100, Train Loss: 1.1155, Val Loss: 1.1604\n",
      "Epoch 70/100, Train Loss: 1.0901, Val Loss: 1.0985\n",
      "Epoch 71/100, Train Loss: 1.0325, Val Loss: 1.0421\n",
      "Epoch 72/100, Train Loss: 1.0048, Val Loss: 1.0686\n",
      "Epoch 73/100, Train Loss: 1.0080, Val Loss: 1.0126\n",
      "Epoch 74/100, Train Loss: 0.9588, Val Loss: 1.0028\n",
      "Epoch 75/100, Train Loss: 0.9500, Val Loss: 1.0544\n",
      "Epoch 76/100, Train Loss: 0.9741, Val Loss: 0.9953\n",
      "Epoch 77/100, Train Loss: 0.9244, Val Loss: 0.9667\n",
      "Epoch 78/100, Train Loss: 0.8796, Val Loss: 0.8990\n",
      "Epoch 79/100, Train Loss: 0.8675, Val Loss: 0.9396\n",
      "Epoch 80/100, Train Loss: 0.8628, Val Loss: 0.9906\n",
      "Epoch 81/100, Train Loss: 0.8617, Val Loss: 0.9360\n",
      "Epoch 82/100, Train Loss: 0.8656, Val Loss: 0.9047\n",
      "Epoch 83/100, Train Loss: 0.8458, Val Loss: 0.8810\n",
      "Epoch 84/100, Train Loss: 0.8276, Val Loss: 0.8796\n",
      "Epoch 85/100, Train Loss: 0.8351, Val Loss: 0.9220\n",
      "Epoch 86/100, Train Loss: 0.8227, Val Loss: 0.8821\n",
      "Epoch 87/100, Train Loss: 0.8205, Val Loss: 0.9426\n",
      "Epoch 88/100, Train Loss: 0.8354, Val Loss: 0.8636\n",
      "Epoch 89/100, Train Loss: 0.7974, Val Loss: 0.9020\n",
      "Epoch 90/100, Train Loss: 0.7970, Val Loss: 0.8759\n",
      "Epoch 91/100, Train Loss: 0.7970, Val Loss: 0.8408\n",
      "Epoch 92/100, Train Loss: 0.7828, Val Loss: 0.8735\n",
      "Epoch 93/100, Train Loss: 0.7785, Val Loss: 0.8461\n",
      "Epoch 94/100, Train Loss: 0.7721, Val Loss: 0.8350\n",
      "Epoch 95/100, Train Loss: 0.7484, Val Loss: 0.8227\n",
      "Epoch 96/100, Train Loss: 0.7493, Val Loss: 0.8574\n",
      "Epoch 97/100, Train Loss: 0.7800, Val Loss: 0.8308\n",
      "Epoch 98/100, Train Loss: 0.7650, Val Loss: 0.8361\n",
      "Epoch 99/100, Train Loss: 0.7887, Val Loss: 0.8819\n",
      "Epoch 100/100, Train Loss: 0.7483, Val Loss: 0.8350\n"
     ]
    },
    {
     "data": {
      "text/html": [],
      "text/plain": [
       "<IPython.core.display.HTML object>"
      ]
     },
     "metadata": {},
     "output_type": "display_data"
    },
    {
     "data": {
      "text/html": [
       "<br>    <style><br>        .wandb-row {<br>            display: flex;<br>            flex-direction: row;<br>            flex-wrap: wrap;<br>            justify-content: flex-start;<br>            width: 100%;<br>        }<br>        .wandb-col {<br>            display: flex;<br>            flex-direction: column;<br>            flex-basis: 100%;<br>            flex: 1;<br>            padding: 10px;<br>        }<br>    </style><br><div class=\"wandb-row\"><div class=\"wandb-col\"><h3>Run history:</h3><br/><table class=\"wandb\"><tr><td>epoch</td><td>▁▁▁▁▁▂▂▂▂▂▂▃▃▃▃▃▃▄▄▄▄▄▄▄▅▅▅▅▅▅▆▆▆▆▆▇▇▇▇█</td></tr><tr><td>minimax_draw_rate</td><td>▁</td></tr><tr><td>minimax_loss_rate</td><td>▁</td></tr><tr><td>minimax_score</td><td>▁</td></tr><tr><td>minimax_win_rate</td><td>▁</td></tr><tr><td>random_draw_rate</td><td>▁</td></tr><tr><td>random_loss_rate</td><td>▁</td></tr><tr><td>random_score</td><td>▁</td></tr><tr><td>random_win_rate</td><td>▁</td></tr><tr><td>train_loss</td><td>███▇▇▇▇▇▇▇▇▇▇▇▇▇▇▇▇▇▇▇▇▇▅▃▃▂▂▂▂▂▂▁▁▁▁▁▁▁</td></tr><tr><td>train_policy_loss</td><td>█▂▁▁▁▁▁▁▁▁▁▁▁▁▁▁▁▁▁▁▁▁▁▁▁▁▁▁▁▁▁▁▁▁▁▁▁▁▁▁</td></tr><tr><td>train_value_loss</td><td>███████████████████████████▇▃▂▂▁▁▁▁▁▁▁▁▁</td></tr><tr><td>val_loss</td><td>█▇▇▆▇▆▆▆▆▆▆▆▆▆▆▆▆▆▆▆▆▆▆▆▆▆▄▃▃▃▂▂▂▂▂▁▁▁▁▁</td></tr><tr><td>val_policy_loss</td><td>█▂▂▂▂▂▁▁▁▁▂▁▁▁▁▁▁▁▁▁▁▁▁▁▁▁▁▁▁▁▁▁▁▁▁▁▁▁▁▁</td></tr><tr><td>val_value_loss</td><td>█████████████████████████▄▄▃▂▂▁▂▁▁▂▁▁▁▁▁</td></tr></table><br/></div><div class=\"wandb-col\"><h3>Run summary:</h3><br/><table class=\"wandb\"><tr><td>epoch</td><td>99</td></tr><tr><td>minimax_draw_rate</td><td>0.47</td></tr><tr><td>minimax_loss_rate</td><td>0.53</td></tr><tr><td>minimax_score</td><td>-0.53</td></tr><tr><td>minimax_win_rate</td><td>0</td></tr><tr><td>random_draw_rate</td><td>0.08</td></tr><tr><td>random_loss_rate</td><td>0.08</td></tr><tr><td>random_score</td><td>0.76</td></tr><tr><td>random_win_rate</td><td>0.84</td></tr><tr><td>train_loss</td><td>0.74832</td></tr><tr><td>train_policy_loss</td><td>0.62457</td></tr><tr><td>train_value_loss</td><td>0.12375</td></tr><tr><td>val_loss</td><td>0.83499</td></tr><tr><td>val_policy_loss</td><td>0.67808</td></tr><tr><td>val_value_loss</td><td>0.15692</td></tr></table><br/></div></div>"
      ],
      "text/plain": [
       "<IPython.core.display.HTML object>"
      ]
     },
     "metadata": {},
     "output_type": "display_data"
    },
    {
     "data": {
      "text/html": [
       " View run <strong style=\"color:#cdcd00\">misunderstood-sweep-3</strong> at: <a href='https://wandb.ai/eigenway/AlphaZero-TicTacToe/runs/npandt8s' target=\"_blank\">https://wandb.ai/eigenway/AlphaZero-TicTacToe/runs/npandt8s</a><br> View project at: <a href='https://wandb.ai/eigenway/AlphaZero-TicTacToe' target=\"_blank\">https://wandb.ai/eigenway/AlphaZero-TicTacToe</a><br>Synced 5 W&B file(s), 0 media file(s), 0 artifact file(s) and 0 other file(s)"
      ],
      "text/plain": [
       "<IPython.core.display.HTML object>"
      ]
     },
     "metadata": {},
     "output_type": "display_data"
    },
    {
     "data": {
      "text/html": [
       "Find logs at: <code>./wandb/run-20250305_220313-npandt8s/logs</code>"
      ],
      "text/plain": [
       "<IPython.core.display.HTML object>"
      ]
     },
     "metadata": {},
     "output_type": "display_data"
    },
    {
     "name": "stderr",
     "output_type": "stream",
     "text": [
      "\u001b[34m\u001b[1mwandb\u001b[0m: Agent Starting Run: i5dcam95 with config:\n",
      "\u001b[34m\u001b[1mwandb\u001b[0m: \tactivation: relu\n",
      "\u001b[34m\u001b[1mwandb\u001b[0m: \tattention_layers: 2\n",
      "\u001b[34m\u001b[1mwandb\u001b[0m: \tbatch_size: 256\n",
      "\u001b[34m\u001b[1mwandb\u001b[0m: \tdropout: 0\n",
      "\u001b[34m\u001b[1mwandb\u001b[0m: \tembed_dim: 64\n",
      "\u001b[34m\u001b[1mwandb\u001b[0m: \tepochs: 100\n",
      "\u001b[34m\u001b[1mwandb\u001b[0m: \tfeedforward_dim: 256\n",
      "\u001b[34m\u001b[1mwandb\u001b[0m: \tlearning_rate: 0.001197666893570677\n",
      "\u001b[34m\u001b[1mwandb\u001b[0m: \tmask_illegal_moves: False\n",
      "\u001b[34m\u001b[1mwandb\u001b[0m: \tmask_value: -10\n",
      "\u001b[34m\u001b[1mwandb\u001b[0m: \tnorm_first: True\n",
      "\u001b[34m\u001b[1mwandb\u001b[0m: \tweight_decay: 0.0028508025234607044\n"
     ]
    },
    {
     "data": {
      "text/html": [
       "Ignoring project 'AlphaZero-TicTacToe' when running a sweep."
      ],
      "text/plain": [
       "<IPython.core.display.HTML object>"
      ]
     },
     "metadata": {},
     "output_type": "display_data"
    },
    {
     "data": {
      "text/html": [
       "Tracking run with wandb version 0.19.6"
      ],
      "text/plain": [
       "<IPython.core.display.HTML object>"
      ]
     },
     "metadata": {},
     "output_type": "display_data"
    },
    {
     "data": {
      "text/html": [
       "Run data is saved locally in <code>/Users/eohjelle/Documents/2025-dots-and-boxes/dots-and-boxes/wandb/run-20250305_220409-i5dcam95</code>"
      ],
      "text/plain": [
       "<IPython.core.display.HTML object>"
      ]
     },
     "metadata": {},
     "output_type": "display_data"
    },
    {
     "data": {
      "text/html": [
       "Syncing run <strong><a href='https://wandb.ai/eigenway/AlphaZero-TicTacToe/runs/i5dcam95' target=\"_blank\">stellar-sweep-4</a></strong> to <a href='https://wandb.ai/eigenway/AlphaZero-TicTacToe' target=\"_blank\">Weights & Biases</a> (<a href='https://wandb.me/developer-guide' target=\"_blank\">docs</a>)<br>Sweep page: <a href='https://wandb.ai/eigenway/AlphaZero-TicTacToe/sweeps/mtjttrrq' target=\"_blank\">https://wandb.ai/eigenway/AlphaZero-TicTacToe/sweeps/mtjttrrq</a>"
      ],
      "text/plain": [
       "<IPython.core.display.HTML object>"
      ]
     },
     "metadata": {},
     "output_type": "display_data"
    },
    {
     "data": {
      "text/html": [
       " View project at <a href='https://wandb.ai/eigenway/AlphaZero-TicTacToe' target=\"_blank\">https://wandb.ai/eigenway/AlphaZero-TicTacToe</a>"
      ],
      "text/plain": [
       "<IPython.core.display.HTML object>"
      ]
     },
     "metadata": {},
     "output_type": "display_data"
    },
    {
     "data": {
      "text/html": [
       " View sweep at <a href='https://wandb.ai/eigenway/AlphaZero-TicTacToe/sweeps/mtjttrrq' target=\"_blank\">https://wandb.ai/eigenway/AlphaZero-TicTacToe/sweeps/mtjttrrq</a>"
      ],
      "text/plain": [
       "<IPython.core.display.HTML object>"
      ]
     },
     "metadata": {},
     "output_type": "display_data"
    },
    {
     "data": {
      "text/html": [
       " View run at <a href='https://wandb.ai/eigenway/AlphaZero-TicTacToe/runs/i5dcam95' target=\"_blank\">https://wandb.ai/eigenway/AlphaZero-TicTacToe/runs/i5dcam95</a>"
      ],
      "text/plain": [
       "<IPython.core.display.HTML object>"
      ]
     },
     "metadata": {},
     "output_type": "display_data"
    },
    {
     "name": "stdout",
     "output_type": "stream",
     "text": [
      "Epoch 1/100, Train Loss: 7.0817, Val Loss: 3.2156\n",
      "Epoch 2/100, Train Loss: 2.7303, Val Loss: 2.2265\n",
      "Epoch 3/100, Train Loss: 2.1746, Val Loss: 2.1410\n",
      "Epoch 4/100, Train Loss: 2.0775, Val Loss: 1.9873\n",
      "Epoch 5/100, Train Loss: 1.9473, Val Loss: 1.8279\n",
      "Epoch 6/100, Train Loss: 1.9943, Val Loss: 1.9936\n",
      "Epoch 7/100, Train Loss: 1.8806, Val Loss: 1.7584\n",
      "Epoch 8/100, Train Loss: 1.7088, Val Loss: 1.6965\n",
      "Epoch 9/100, Train Loss: 1.6906, Val Loss: 1.8272\n",
      "Epoch 10/100, Train Loss: 1.6274, Val Loss: 1.5407\n",
      "Epoch 11/100, Train Loss: 1.5628, Val Loss: 1.6274\n",
      "Epoch 12/100, Train Loss: 1.5466, Val Loss: 1.7846\n",
      "Epoch 13/100, Train Loss: 1.5522, Val Loss: 1.3647\n",
      "Epoch 14/100, Train Loss: 1.4487, Val Loss: 1.7695\n",
      "Epoch 15/100, Train Loss: 1.4491, Val Loss: 1.3142\n",
      "Epoch 16/100, Train Loss: 1.4514, Val Loss: 1.5397\n",
      "Epoch 17/100, Train Loss: 1.4871, Val Loss: 1.8352\n",
      "Epoch 18/100, Train Loss: 1.5193, Val Loss: 1.2739\n",
      "Epoch 19/100, Train Loss: 1.3728, Val Loss: 1.4297\n",
      "Epoch 20/100, Train Loss: 1.3405, Val Loss: 1.2244\n",
      "Epoch 21/100, Train Loss: 1.2667, Val Loss: 1.2819\n",
      "Epoch 22/100, Train Loss: 1.2015, Val Loss: 1.2152\n",
      "Epoch 23/100, Train Loss: 1.1515, Val Loss: 1.2585\n",
      "Epoch 24/100, Train Loss: 1.1921, Val Loss: 1.1032\n",
      "Epoch 25/100, Train Loss: 1.1810, Val Loss: 1.1151\n",
      "Epoch 26/100, Train Loss: 1.1088, Val Loss: 1.2695\n",
      "Epoch 27/100, Train Loss: 1.1438, Val Loss: 1.1517\n",
      "Epoch 28/100, Train Loss: 1.0721, Val Loss: 1.1227\n",
      "Epoch 29/100, Train Loss: 1.1548, Val Loss: 1.0812\n",
      "Epoch 30/100, Train Loss: 1.0426, Val Loss: 1.0171\n",
      "Epoch 31/100, Train Loss: 1.0036, Val Loss: 1.1092\n",
      "Epoch 32/100, Train Loss: 1.0508, Val Loss: 0.9758\n",
      "Epoch 33/100, Train Loss: 0.9782, Val Loss: 0.9732\n",
      "Epoch 34/100, Train Loss: 0.9706, Val Loss: 1.0309\n",
      "Epoch 35/100, Train Loss: 0.9629, Val Loss: 1.0928\n",
      "Epoch 36/100, Train Loss: 0.9216, Val Loss: 0.9218\n",
      "Epoch 37/100, Train Loss: 0.9132, Val Loss: 0.9585\n",
      "Epoch 38/100, Train Loss: 0.9394, Val Loss: 0.9893\n",
      "Epoch 39/100, Train Loss: 0.9218, Val Loss: 0.9788\n",
      "Epoch 40/100, Train Loss: 0.8962, Val Loss: 0.9846\n",
      "Epoch 41/100, Train Loss: 0.8873, Val Loss: 0.9386\n",
      "Epoch 42/100, Train Loss: 0.8902, Val Loss: 0.8889\n",
      "Epoch 43/100, Train Loss: 0.9109, Val Loss: 0.9487\n",
      "Epoch 44/100, Train Loss: 0.9239, Val Loss: 0.9818\n",
      "Epoch 45/100, Train Loss: 0.8865, Val Loss: 0.9468\n",
      "Epoch 46/100, Train Loss: 0.8470, Val Loss: 0.8708\n",
      "Epoch 47/100, Train Loss: 0.8091, Val Loss: 0.9246\n",
      "Epoch 48/100, Train Loss: 0.8565, Val Loss: 0.9431\n",
      "Epoch 49/100, Train Loss: 0.8817, Val Loss: 0.9185\n",
      "Epoch 50/100, Train Loss: 0.8254, Val Loss: 0.8548\n",
      "Epoch 51/100, Train Loss: 0.8374, Val Loss: 0.9167\n",
      "Epoch 52/100, Train Loss: 0.8354, Val Loss: 0.8806\n",
      "Epoch 53/100, Train Loss: 0.7864, Val Loss: 0.8521\n",
      "Epoch 54/100, Train Loss: 0.8066, Val Loss: 0.9020\n",
      "Epoch 55/100, Train Loss: 0.8077, Val Loss: 0.8569\n",
      "Epoch 56/100, Train Loss: 0.7926, Val Loss: 0.8858\n",
      "Epoch 57/100, Train Loss: 0.7893, Val Loss: 0.8209\n",
      "Epoch 58/100, Train Loss: 0.7806, Val Loss: 0.8828\n",
      "Epoch 59/100, Train Loss: 0.8422, Val Loss: 1.2793\n",
      "Epoch 60/100, Train Loss: 0.9050, Val Loss: 0.8999\n",
      "Epoch 61/100, Train Loss: 0.7945, Val Loss: 0.8690\n",
      "Epoch 62/100, Train Loss: 0.7794, Val Loss: 0.8533\n",
      "Epoch 63/100, Train Loss: 0.7871, Val Loss: 0.8496\n",
      "Epoch 64/100, Train Loss: 0.7901, Val Loss: 0.8947\n",
      "Epoch 65/100, Train Loss: 0.7673, Val Loss: 0.8182\n",
      "Epoch 66/100, Train Loss: 0.7621, Val Loss: 0.8254\n",
      "Epoch 67/100, Train Loss: 0.7828, Val Loss: 0.8233\n",
      "Epoch 68/100, Train Loss: 0.7753, Val Loss: 0.8803\n",
      "Epoch 69/100, Train Loss: 0.7533, Val Loss: 0.8280\n",
      "Epoch 70/100, Train Loss: 0.7624, Val Loss: 0.8328\n",
      "Epoch 71/100, Train Loss: 0.7976, Val Loss: 0.8960\n",
      "Epoch 72/100, Train Loss: 0.7776, Val Loss: 0.8219\n",
      "Epoch 73/100, Train Loss: 0.7577, Val Loss: 0.8375\n",
      "Epoch 74/100, Train Loss: 0.7476, Val Loss: 0.9460\n",
      "Epoch 75/100, Train Loss: 0.7530, Val Loss: 0.9311\n",
      "Epoch 76/100, Train Loss: 0.8341, Val Loss: 0.9261\n",
      "Epoch 77/100, Train Loss: 0.8054, Val Loss: 1.0677\n",
      "Epoch 78/100, Train Loss: 0.8780, Val Loss: 0.8729\n",
      "Epoch 79/100, Train Loss: 0.8070, Val Loss: 0.8576\n",
      "Epoch 80/100, Train Loss: 0.7808, Val Loss: 0.8069\n",
      "Epoch 81/100, Train Loss: 0.7400, Val Loss: 0.8578\n",
      "Epoch 82/100, Train Loss: 0.7309, Val Loss: 0.8424\n",
      "Epoch 83/100, Train Loss: 0.7514, Val Loss: 0.7950\n",
      "Epoch 84/100, Train Loss: 0.7271, Val Loss: 0.8234\n",
      "Epoch 85/100, Train Loss: 0.7213, Val Loss: 0.7935\n",
      "Epoch 86/100, Train Loss: 0.7144, Val Loss: 0.8088\n",
      "Epoch 87/100, Train Loss: 0.7214, Val Loss: 0.8087\n",
      "Epoch 88/100, Train Loss: 0.7410, Val Loss: 0.8452\n",
      "Epoch 89/100, Train Loss: 0.7305, Val Loss: 0.7698\n",
      "Epoch 90/100, Train Loss: 0.7521, Val Loss: 0.8225\n",
      "Epoch 91/100, Train Loss: 0.7578, Val Loss: 0.8131\n",
      "Epoch 92/100, Train Loss: 0.7433, Val Loss: 0.8250\n",
      "Epoch 93/100, Train Loss: 0.7381, Val Loss: 0.8265\n",
      "Epoch 94/100, Train Loss: 0.7368, Val Loss: 0.8469\n",
      "Epoch 95/100, Train Loss: 0.7536, Val Loss: 0.8189\n",
      "Epoch 96/100, Train Loss: 0.7334, Val Loss: 0.7828\n",
      "Epoch 97/100, Train Loss: 0.7114, Val Loss: 0.8113\n",
      "Epoch 98/100, Train Loss: 0.7116, Val Loss: 0.8428\n",
      "Epoch 99/100, Train Loss: 0.7292, Val Loss: 0.8458\n",
      "Epoch 100/100, Train Loss: 0.7327, Val Loss: 0.8379\n"
     ]
    },
    {
     "data": {
      "text/html": [],
      "text/plain": [
       "<IPython.core.display.HTML object>"
      ]
     },
     "metadata": {},
     "output_type": "display_data"
    },
    {
     "data": {
      "text/html": [
       "<br>    <style><br>        .wandb-row {<br>            display: flex;<br>            flex-direction: row;<br>            flex-wrap: wrap;<br>            justify-content: flex-start;<br>            width: 100%;<br>        }<br>        .wandb-col {<br>            display: flex;<br>            flex-direction: column;<br>            flex-basis: 100%;<br>            flex: 1;<br>            padding: 10px;<br>        }<br>    </style><br><div class=\"wandb-row\"><div class=\"wandb-col\"><h3>Run history:</h3><br/><table class=\"wandb\"><tr><td>epoch</td><td>▁▁▁▂▂▂▂▂▃▃▃▃▃▃▃▄▄▄▄▄▄▅▅▅▅▅▆▆▆▆▆▆▇▇▇▇▇███</td></tr><tr><td>minimax_draw_rate</td><td>▁</td></tr><tr><td>minimax_loss_rate</td><td>▁</td></tr><tr><td>minimax_score</td><td>▁</td></tr><tr><td>minimax_win_rate</td><td>▁</td></tr><tr><td>random_draw_rate</td><td>▁</td></tr><tr><td>random_loss_rate</td><td>▁</td></tr><tr><td>random_score</td><td>▁</td></tr><tr><td>random_win_rate</td><td>▁</td></tr><tr><td>train_loss</td><td>█▃▃▂▂▂▂▂▂▂▂▂▂▂▂▁▁▁▁▁▁▁▁▁▁▁▁▁▁▁▁▁▁▁▁▁▁▁▁▁</td></tr><tr><td>train_policy_loss</td><td>██▇▄▃▃▃▂▂▂▂▂▂▂▂▁▁▂▁▁▁▁▁▁▁▁▁▁▁▁▁▁▁▁▁▁▁▁▁▁</td></tr><tr><td>train_value_loss</td><td>█▆▅▄▅▃▃▃▃▃▃▂▃▂▂▂▂▂▂▂▁▁▁▁▁▁▁▁▁▁▁▁▁▁▁▁▁▁▁▁</td></tr><tr><td>val_loss</td><td>██▇▆▆▅▆▄▃▄▃▃▃▃▂▃▂▂▂▂▁▂▂▁▂▁▁▃▁▁▁▂▁▁▁▁▁▁▁▁</td></tr><tr><td>val_policy_loss</td><td>█▆▆▄▃▂▂▂▂▂▂▂▂▁▂▂▂▁▁▁▁▁▁▁▁▁▁▁▁▁▂▁▁▁▁▁▁▁▁▁</td></tr><tr><td>val_value_loss</td><td>█▇▅▅▆▄▄▃▃▃▂▂▂▂▂▂▂▂▂▁▁▁▂▁▁▁▁▂▁▂▁▁▁▁▁▁▁▁▁▁</td></tr></table><br/></div><div class=\"wandb-col\"><h3>Run summary:</h3><br/><table class=\"wandb\"><tr><td>epoch</td><td>99</td></tr><tr><td>minimax_draw_rate</td><td>0.4</td></tr><tr><td>minimax_loss_rate</td><td>0.6</td></tr><tr><td>minimax_score</td><td>-0.6</td></tr><tr><td>minimax_win_rate</td><td>0</td></tr><tr><td>random_draw_rate</td><td>0.11</td></tr><tr><td>random_loss_rate</td><td>0.08</td></tr><tr><td>random_score</td><td>0.73</td></tr><tr><td>random_win_rate</td><td>0.81</td></tr><tr><td>train_loss</td><td>0.73267</td></tr><tr><td>train_policy_loss</td><td>0.62819</td></tr><tr><td>train_value_loss</td><td>0.10448</td></tr><tr><td>val_loss</td><td>0.83786</td></tr><tr><td>val_policy_loss</td><td>0.66856</td></tr><tr><td>val_value_loss</td><td>0.1693</td></tr></table><br/></div></div>"
      ],
      "text/plain": [
       "<IPython.core.display.HTML object>"
      ]
     },
     "metadata": {},
     "output_type": "display_data"
    },
    {
     "data": {
      "text/html": [
       " View run <strong style=\"color:#cdcd00\">stellar-sweep-4</strong> at: <a href='https://wandb.ai/eigenway/AlphaZero-TicTacToe/runs/i5dcam95' target=\"_blank\">https://wandb.ai/eigenway/AlphaZero-TicTacToe/runs/i5dcam95</a><br> View project at: <a href='https://wandb.ai/eigenway/AlphaZero-TicTacToe' target=\"_blank\">https://wandb.ai/eigenway/AlphaZero-TicTacToe</a><br>Synced 5 W&B file(s), 0 media file(s), 0 artifact file(s) and 0 other file(s)"
      ],
      "text/plain": [
       "<IPython.core.display.HTML object>"
      ]
     },
     "metadata": {},
     "output_type": "display_data"
    },
    {
     "data": {
      "text/html": [
       "Find logs at: <code>./wandb/run-20250305_220409-i5dcam95/logs</code>"
      ],
      "text/plain": [
       "<IPython.core.display.HTML object>"
      ]
     },
     "metadata": {},
     "output_type": "display_data"
    },
    {
     "name": "stderr",
     "output_type": "stream",
     "text": [
      "\u001b[34m\u001b[1mwandb\u001b[0m: Agent Starting Run: 09ps40kt with config:\n",
      "\u001b[34m\u001b[1mwandb\u001b[0m: \tactivation: relu\n",
      "\u001b[34m\u001b[1mwandb\u001b[0m: \tattention_layers: 2\n",
      "\u001b[34m\u001b[1mwandb\u001b[0m: \tbatch_size: 256\n",
      "\u001b[34m\u001b[1mwandb\u001b[0m: \tdropout: 0\n",
      "\u001b[34m\u001b[1mwandb\u001b[0m: \tembed_dim: 64\n",
      "\u001b[34m\u001b[1mwandb\u001b[0m: \tepochs: 100\n",
      "\u001b[34m\u001b[1mwandb\u001b[0m: \tfeedforward_dim: 256\n",
      "\u001b[34m\u001b[1mwandb\u001b[0m: \tlearning_rate: 0.0025219949917876065\n",
      "\u001b[34m\u001b[1mwandb\u001b[0m: \tmask_illegal_moves: False\n",
      "\u001b[34m\u001b[1mwandb\u001b[0m: \tmask_value: -10\n",
      "\u001b[34m\u001b[1mwandb\u001b[0m: \tnorm_first: True\n",
      "\u001b[34m\u001b[1mwandb\u001b[0m: \tweight_decay: 0.004981025182155755\n"
     ]
    },
    {
     "data": {
      "text/html": [
       "Ignoring project 'AlphaZero-TicTacToe' when running a sweep."
      ],
      "text/plain": [
       "<IPython.core.display.HTML object>"
      ]
     },
     "metadata": {},
     "output_type": "display_data"
    },
    {
     "data": {
      "text/html": [
       "Tracking run with wandb version 0.19.6"
      ],
      "text/plain": [
       "<IPython.core.display.HTML object>"
      ]
     },
     "metadata": {},
     "output_type": "display_data"
    },
    {
     "data": {
      "text/html": [
       "Run data is saved locally in <code>/Users/eohjelle/Documents/2025-dots-and-boxes/dots-and-boxes/wandb/run-20250305_220500-09ps40kt</code>"
      ],
      "text/plain": [
       "<IPython.core.display.HTML object>"
      ]
     },
     "metadata": {},
     "output_type": "display_data"
    },
    {
     "data": {
      "text/html": [
       "Syncing run <strong><a href='https://wandb.ai/eigenway/AlphaZero-TicTacToe/runs/09ps40kt' target=\"_blank\">earnest-sweep-5</a></strong> to <a href='https://wandb.ai/eigenway/AlphaZero-TicTacToe' target=\"_blank\">Weights & Biases</a> (<a href='https://wandb.me/developer-guide' target=\"_blank\">docs</a>)<br>Sweep page: <a href='https://wandb.ai/eigenway/AlphaZero-TicTacToe/sweeps/mtjttrrq' target=\"_blank\">https://wandb.ai/eigenway/AlphaZero-TicTacToe/sweeps/mtjttrrq</a>"
      ],
      "text/plain": [
       "<IPython.core.display.HTML object>"
      ]
     },
     "metadata": {},
     "output_type": "display_data"
    },
    {
     "data": {
      "text/html": [
       " View project at <a href='https://wandb.ai/eigenway/AlphaZero-TicTacToe' target=\"_blank\">https://wandb.ai/eigenway/AlphaZero-TicTacToe</a>"
      ],
      "text/plain": [
       "<IPython.core.display.HTML object>"
      ]
     },
     "metadata": {},
     "output_type": "display_data"
    },
    {
     "data": {
      "text/html": [
       " View sweep at <a href='https://wandb.ai/eigenway/AlphaZero-TicTacToe/sweeps/mtjttrrq' target=\"_blank\">https://wandb.ai/eigenway/AlphaZero-TicTacToe/sweeps/mtjttrrq</a>"
      ],
      "text/plain": [
       "<IPython.core.display.HTML object>"
      ]
     },
     "metadata": {},
     "output_type": "display_data"
    },
    {
     "data": {
      "text/html": [
       " View run at <a href='https://wandb.ai/eigenway/AlphaZero-TicTacToe/runs/09ps40kt' target=\"_blank\">https://wandb.ai/eigenway/AlphaZero-TicTacToe/runs/09ps40kt</a>"
      ],
      "text/plain": [
       "<IPython.core.display.HTML object>"
      ]
     },
     "metadata": {},
     "output_type": "display_data"
    },
    {
     "name": "stdout",
     "output_type": "stream",
     "text": [
      "Epoch 1/100, Train Loss: 7.4093, Val Loss: 3.5265\n",
      "Epoch 2/100, Train Loss: 2.8013, Val Loss: 2.5283\n",
      "Epoch 3/100, Train Loss: 2.4088, Val Loss: 2.3753\n",
      "Epoch 4/100, Train Loss: 2.3691, Val Loss: 2.3823\n",
      "Epoch 5/100, Train Loss: 2.3547, Val Loss: 2.3830\n",
      "Epoch 6/100, Train Loss: 2.3121, Val Loss: 2.4042\n",
      "Epoch 7/100, Train Loss: 2.3284, Val Loss: 2.3706\n",
      "Epoch 8/100, Train Loss: 2.3164, Val Loss: 2.2949\n",
      "Epoch 9/100, Train Loss: 2.2039, Val Loss: 2.2633\n",
      "Epoch 10/100, Train Loss: 2.0811, Val Loss: 2.1718\n",
      "Epoch 11/100, Train Loss: 1.9875, Val Loss: 1.9642\n",
      "Epoch 12/100, Train Loss: 1.9075, Val Loss: 1.9969\n",
      "Epoch 13/100, Train Loss: 1.8222, Val Loss: 1.8704\n",
      "Epoch 14/100, Train Loss: 1.7675, Val Loss: 1.9393\n",
      "Epoch 15/100, Train Loss: 1.6223, Val Loss: 1.7092\n",
      "Epoch 16/100, Train Loss: 1.5579, Val Loss: 1.7072\n",
      "Epoch 17/100, Train Loss: 1.4244, Val Loss: 1.4065\n",
      "Epoch 18/100, Train Loss: 1.3586, Val Loss: 1.6388\n",
      "Epoch 19/100, Train Loss: 1.3421, Val Loss: 1.4532\n",
      "Epoch 20/100, Train Loss: 1.2667, Val Loss: 1.3111\n",
      "Epoch 21/100, Train Loss: 1.2665, Val Loss: 1.4001\n",
      "Epoch 22/100, Train Loss: 1.3440, Val Loss: 1.3038\n",
      "Epoch 23/100, Train Loss: 1.1482, Val Loss: 1.1635\n",
      "Epoch 24/100, Train Loss: 1.1552, Val Loss: 1.1997\n",
      "Epoch 25/100, Train Loss: 1.1223, Val Loss: 1.2398\n",
      "Epoch 26/100, Train Loss: 1.1719, Val Loss: 1.2692\n",
      "Epoch 27/100, Train Loss: 1.1207, Val Loss: 1.1106\n",
      "Epoch 28/100, Train Loss: 1.0708, Val Loss: 1.1173\n",
      "Epoch 29/100, Train Loss: 1.0367, Val Loss: 1.1358\n",
      "Epoch 30/100, Train Loss: 1.0283, Val Loss: 1.1836\n",
      "Epoch 31/100, Train Loss: 1.0331, Val Loss: 1.0760\n",
      "Epoch 32/100, Train Loss: 1.0650, Val Loss: 1.0359\n",
      "Epoch 33/100, Train Loss: 0.9734, Val Loss: 1.1089\n",
      "Epoch 34/100, Train Loss: 0.9583, Val Loss: 1.2223\n",
      "Epoch 35/100, Train Loss: 1.0100, Val Loss: 1.0009\n",
      "Epoch 36/100, Train Loss: 0.9325, Val Loss: 0.9994\n",
      "Epoch 37/100, Train Loss: 0.9772, Val Loss: 1.1386\n",
      "Epoch 38/100, Train Loss: 0.9467, Val Loss: 0.9910\n",
      "Epoch 39/100, Train Loss: 0.9205, Val Loss: 1.0400\n",
      "Epoch 40/100, Train Loss: 0.9105, Val Loss: 1.0142\n",
      "Epoch 41/100, Train Loss: 0.9564, Val Loss: 0.9522\n",
      "Epoch 42/100, Train Loss: 0.9268, Val Loss: 0.9547\n",
      "Epoch 43/100, Train Loss: 0.8789, Val Loss: 0.9707\n",
      "Epoch 44/100, Train Loss: 0.8761, Val Loss: 0.9807\n",
      "Epoch 45/100, Train Loss: 0.9029, Val Loss: 0.9861\n",
      "Epoch 46/100, Train Loss: 0.9183, Val Loss: 1.1955\n",
      "Epoch 47/100, Train Loss: 1.0073, Val Loss: 0.9938\n",
      "Epoch 48/100, Train Loss: 0.9115, Val Loss: 0.9819\n",
      "Epoch 49/100, Train Loss: 0.8926, Val Loss: 0.9871\n",
      "Epoch 50/100, Train Loss: 0.8746, Val Loss: 0.9242\n",
      "Epoch 51/100, Train Loss: 0.8693, Val Loss: 0.9862\n",
      "Epoch 52/100, Train Loss: 0.8500, Val Loss: 0.9040\n",
      "Epoch 53/100, Train Loss: 0.8623, Val Loss: 0.9662\n",
      "Epoch 54/100, Train Loss: 0.8516, Val Loss: 0.9448\n",
      "Epoch 55/100, Train Loss: 0.8535, Val Loss: 0.9410\n",
      "Epoch 56/100, Train Loss: 0.8308, Val Loss: 0.9237\n",
      "Epoch 57/100, Train Loss: 0.8311, Val Loss: 0.9006\n",
      "Epoch 58/100, Train Loss: 0.8489, Val Loss: 1.0000\n",
      "Epoch 59/100, Train Loss: 0.8630, Val Loss: 1.0174\n",
      "Epoch 60/100, Train Loss: 0.8392, Val Loss: 1.0024\n",
      "Epoch 61/100, Train Loss: 0.8530, Val Loss: 1.0386\n",
      "Epoch 62/100, Train Loss: 0.8809, Val Loss: 0.9043\n",
      "Epoch 63/100, Train Loss: 0.8519, Val Loss: 0.9251\n",
      "Epoch 64/100, Train Loss: 0.8190, Val Loss: 0.9168\n",
      "Epoch 65/100, Train Loss: 0.8106, Val Loss: 0.9163\n",
      "Epoch 66/100, Train Loss: 0.8052, Val Loss: 0.9340\n",
      "Epoch 67/100, Train Loss: 0.7906, Val Loss: 0.9949\n",
      "Epoch 68/100, Train Loss: 0.8944, Val Loss: 0.9329\n",
      "Epoch 69/100, Train Loss: 0.8095, Val Loss: 0.8814\n",
      "Epoch 70/100, Train Loss: 0.8037, Val Loss: 0.8689\n",
      "Epoch 71/100, Train Loss: 0.8096, Val Loss: 0.8943\n",
      "Epoch 72/100, Train Loss: 0.7924, Val Loss: 0.8742\n",
      "Epoch 73/100, Train Loss: 0.8093, Val Loss: 0.8948\n",
      "Epoch 74/100, Train Loss: 0.8264, Val Loss: 1.0117\n",
      "Epoch 75/100, Train Loss: 0.8381, Val Loss: 0.9044\n",
      "Epoch 76/100, Train Loss: 0.8227, Val Loss: 0.9294\n",
      "Epoch 77/100, Train Loss: 0.9078, Val Loss: 1.0579\n",
      "Epoch 78/100, Train Loss: 0.9195, Val Loss: 1.1545\n",
      "Epoch 79/100, Train Loss: 0.9454, Val Loss: 0.9828\n",
      "Epoch 80/100, Train Loss: 0.8659, Val Loss: 0.9405\n",
      "Epoch 81/100, Train Loss: 0.8393, Val Loss: 0.9261\n",
      "Epoch 82/100, Train Loss: 0.8128, Val Loss: 0.8843\n",
      "Epoch 83/100, Train Loss: 0.8022, Val Loss: 0.8961\n",
      "Epoch 84/100, Train Loss: 0.7961, Val Loss: 0.8881\n",
      "Epoch 85/100, Train Loss: 0.8100, Val Loss: 0.9225\n",
      "Epoch 86/100, Train Loss: 0.8088, Val Loss: 0.8622\n",
      "Epoch 87/100, Train Loss: 0.8073, Val Loss: 0.8924\n",
      "Epoch 88/100, Train Loss: 0.8209, Val Loss: 0.9122\n",
      "Epoch 89/100, Train Loss: 0.7974, Val Loss: 0.9239\n",
      "Epoch 90/100, Train Loss: 0.8395, Val Loss: 0.9490\n",
      "Epoch 91/100, Train Loss: 0.8069, Val Loss: 0.9277\n",
      "Epoch 92/100, Train Loss: 0.7839, Val Loss: 0.8834\n",
      "Epoch 93/100, Train Loss: 0.7802, Val Loss: 0.9046\n",
      "Epoch 94/100, Train Loss: 0.7932, Val Loss: 0.9337\n",
      "Epoch 95/100, Train Loss: 0.8289, Val Loss: 0.9661\n",
      "Epoch 96/100, Train Loss: 0.8178, Val Loss: 0.8823\n",
      "Epoch 97/100, Train Loss: 0.7988, Val Loss: 0.9600\n",
      "Epoch 98/100, Train Loss: 0.8260, Val Loss: 0.8755\n",
      "Epoch 99/100, Train Loss: 0.7864, Val Loss: 0.8898\n",
      "Epoch 100/100, Train Loss: 0.7798, Val Loss: 0.8572\n"
     ]
    },
    {
     "data": {
      "text/html": [],
      "text/plain": [
       "<IPython.core.display.HTML object>"
      ]
     },
     "metadata": {},
     "output_type": "display_data"
    },
    {
     "data": {
      "text/html": [
       "<br>    <style><br>        .wandb-row {<br>            display: flex;<br>            flex-direction: row;<br>            flex-wrap: wrap;<br>            justify-content: flex-start;<br>            width: 100%;<br>        }<br>        .wandb-col {<br>            display: flex;<br>            flex-direction: column;<br>            flex-basis: 100%;<br>            flex: 1;<br>            padding: 10px;<br>        }<br>    </style><br><div class=\"wandb-row\"><div class=\"wandb-col\"><h3>Run history:</h3><br/><table class=\"wandb\"><tr><td>epoch</td><td>▁▁▁▁▂▂▂▂▂▂▃▃▃▃▄▄▄▄▄▄▅▅▅▅▅▆▆▆▆▆▆▆▇▇▇▇████</td></tr><tr><td>minimax_draw_rate</td><td>▁</td></tr><tr><td>minimax_loss_rate</td><td>▁</td></tr><tr><td>minimax_score</td><td>▁</td></tr><tr><td>minimax_win_rate</td><td>▁</td></tr><tr><td>random_draw_rate</td><td>▁</td></tr><tr><td>random_loss_rate</td><td>▁</td></tr><tr><td>random_score</td><td>▁</td></tr><tr><td>random_win_rate</td><td>▁</td></tr><tr><td>train_loss</td><td>█▇▆▆▆▄▄▃▃▃▂▂▂▂▂▁▁▁▁▁▁▁▁▁▁▁▁▁▁▁▁▁▁▁▁▁▁▁▁▁</td></tr><tr><td>train_policy_loss</td><td>█▇▆▅▆▃▂▂▂▂▂▂▂▂▁▁▁▁▁▁▁▁▁▁▁▁▁▁▁▁▁▁▁▁▁▁▁▁▁▁</td></tr><tr><td>train_value_loss</td><td>█████▇▆▅▄▃▃▃▂▂▂▂▂▂▂▂▂▁▁▁▁▁▁▁▁▁▂▁▁▁▁▁▁▁▁▁</td></tr><tr><td>val_loss</td><td>█▅▅▅▅▄▄▃▃▂▂▂▁▂▁▁▁▁▁▁▁▁▁▁▁▁▁▁▁▁▁▁▁▁▁▁▁▁▁▁</td></tr><tr><td>val_policy_loss</td><td>█▆▆▆▃▃▂▂▂▁▁▁▂▁▁▁▁▁▁▁▁▁▁▂▁▁▁▁▁▁▁▁▁▁▁▁▁▁▁▁</td></tr><tr><td>val_value_loss</td><td>██▇▆▆▅▄▃▄▃▂▂▂▂▂▁▂▃▂▂▁▁▁▁▂▁▁▁▁▁▂▁▁▁▁▁▁▁▂▁</td></tr></table><br/></div><div class=\"wandb-col\"><h3>Run summary:</h3><br/><table class=\"wandb\"><tr><td>epoch</td><td>99</td></tr><tr><td>minimax_draw_rate</td><td>0.29</td></tr><tr><td>minimax_loss_rate</td><td>0.71</td></tr><tr><td>minimax_score</td><td>-0.71</td></tr><tr><td>minimax_win_rate</td><td>0</td></tr><tr><td>random_draw_rate</td><td>0.09</td></tr><tr><td>random_loss_rate</td><td>0.1</td></tr><tr><td>random_score</td><td>0.71</td></tr><tr><td>random_win_rate</td><td>0.81</td></tr><tr><td>train_loss</td><td>0.77979</td></tr><tr><td>train_policy_loss</td><td>0.64845</td></tr><tr><td>train_value_loss</td><td>0.13134</td></tr><tr><td>val_loss</td><td>0.85724</td></tr><tr><td>val_policy_loss</td><td>0.7189</td></tr><tr><td>val_value_loss</td><td>0.13833</td></tr></table><br/></div></div>"
      ],
      "text/plain": [
       "<IPython.core.display.HTML object>"
      ]
     },
     "metadata": {},
     "output_type": "display_data"
    },
    {
     "data": {
      "text/html": [
       " View run <strong style=\"color:#cdcd00\">earnest-sweep-5</strong> at: <a href='https://wandb.ai/eigenway/AlphaZero-TicTacToe/runs/09ps40kt' target=\"_blank\">https://wandb.ai/eigenway/AlphaZero-TicTacToe/runs/09ps40kt</a><br> View project at: <a href='https://wandb.ai/eigenway/AlphaZero-TicTacToe' target=\"_blank\">https://wandb.ai/eigenway/AlphaZero-TicTacToe</a><br>Synced 5 W&B file(s), 0 media file(s), 0 artifact file(s) and 0 other file(s)"
      ],
      "text/plain": [
       "<IPython.core.display.HTML object>"
      ]
     },
     "metadata": {},
     "output_type": "display_data"
    },
    {
     "data": {
      "text/html": [
       "Find logs at: <code>./wandb/run-20250305_220500-09ps40kt/logs</code>"
      ],
      "text/plain": [
       "<IPython.core.display.HTML object>"
      ]
     },
     "metadata": {},
     "output_type": "display_data"
    },
    {
     "name": "stderr",
     "output_type": "stream",
     "text": [
      "\u001b[34m\u001b[1mwandb\u001b[0m: Agent Starting Run: mbmbcv2l with config:\n",
      "\u001b[34m\u001b[1mwandb\u001b[0m: \tactivation: relu\n",
      "\u001b[34m\u001b[1mwandb\u001b[0m: \tattention_layers: 2\n",
      "\u001b[34m\u001b[1mwandb\u001b[0m: \tbatch_size: 256\n",
      "\u001b[34m\u001b[1mwandb\u001b[0m: \tdropout: 0\n",
      "\u001b[34m\u001b[1mwandb\u001b[0m: \tembed_dim: 64\n",
      "\u001b[34m\u001b[1mwandb\u001b[0m: \tepochs: 100\n",
      "\u001b[34m\u001b[1mwandb\u001b[0m: \tfeedforward_dim: 256\n",
      "\u001b[34m\u001b[1mwandb\u001b[0m: \tlearning_rate: 0.0011949541146207964\n",
      "\u001b[34m\u001b[1mwandb\u001b[0m: \tmask_illegal_moves: False\n",
      "\u001b[34m\u001b[1mwandb\u001b[0m: \tmask_value: -10\n",
      "\u001b[34m\u001b[1mwandb\u001b[0m: \tnorm_first: True\n",
      "\u001b[34m\u001b[1mwandb\u001b[0m: \tweight_decay: 0.002030246617248605\n"
     ]
    },
    {
     "data": {
      "text/html": [
       "Ignoring project 'AlphaZero-TicTacToe' when running a sweep."
      ],
      "text/plain": [
       "<IPython.core.display.HTML object>"
      ]
     },
     "metadata": {},
     "output_type": "display_data"
    },
    {
     "data": {
      "text/html": [
       "Tracking run with wandb version 0.19.6"
      ],
      "text/plain": [
       "<IPython.core.display.HTML object>"
      ]
     },
     "metadata": {},
     "output_type": "display_data"
    },
    {
     "data": {
      "text/html": [
       "Run data is saved locally in <code>/Users/eohjelle/Documents/2025-dots-and-boxes/dots-and-boxes/wandb/run-20250305_220556-mbmbcv2l</code>"
      ],
      "text/plain": [
       "<IPython.core.display.HTML object>"
      ]
     },
     "metadata": {},
     "output_type": "display_data"
    },
    {
     "data": {
      "text/html": [
       "Syncing run <strong><a href='https://wandb.ai/eigenway/AlphaZero-TicTacToe/runs/mbmbcv2l' target=\"_blank\">desert-sweep-6</a></strong> to <a href='https://wandb.ai/eigenway/AlphaZero-TicTacToe' target=\"_blank\">Weights & Biases</a> (<a href='https://wandb.me/developer-guide' target=\"_blank\">docs</a>)<br>Sweep page: <a href='https://wandb.ai/eigenway/AlphaZero-TicTacToe/sweeps/mtjttrrq' target=\"_blank\">https://wandb.ai/eigenway/AlphaZero-TicTacToe/sweeps/mtjttrrq</a>"
      ],
      "text/plain": [
       "<IPython.core.display.HTML object>"
      ]
     },
     "metadata": {},
     "output_type": "display_data"
    },
    {
     "data": {
      "text/html": [
       " View project at <a href='https://wandb.ai/eigenway/AlphaZero-TicTacToe' target=\"_blank\">https://wandb.ai/eigenway/AlphaZero-TicTacToe</a>"
      ],
      "text/plain": [
       "<IPython.core.display.HTML object>"
      ]
     },
     "metadata": {},
     "output_type": "display_data"
    },
    {
     "data": {
      "text/html": [
       " View sweep at <a href='https://wandb.ai/eigenway/AlphaZero-TicTacToe/sweeps/mtjttrrq' target=\"_blank\">https://wandb.ai/eigenway/AlphaZero-TicTacToe/sweeps/mtjttrrq</a>"
      ],
      "text/plain": [
       "<IPython.core.display.HTML object>"
      ]
     },
     "metadata": {},
     "output_type": "display_data"
    },
    {
     "data": {
      "text/html": [
       " View run at <a href='https://wandb.ai/eigenway/AlphaZero-TicTacToe/runs/mbmbcv2l' target=\"_blank\">https://wandb.ai/eigenway/AlphaZero-TicTacToe/runs/mbmbcv2l</a>"
      ],
      "text/plain": [
       "<IPython.core.display.HTML object>"
      ]
     },
     "metadata": {},
     "output_type": "display_data"
    },
    {
     "name": "stdout",
     "output_type": "stream",
     "text": [
      "Epoch 1/100, Train Loss: 10.9743, Val Loss: 4.4529\n",
      "Epoch 2/100, Train Loss: 3.3289, Val Loss: 2.5339\n",
      "Epoch 3/100, Train Loss: 2.3177, Val Loss: 2.1909\n",
      "Epoch 4/100, Train Loss: 2.0657, Val Loss: 2.0823\n",
      "Epoch 5/100, Train Loss: 1.9206, Val Loss: 2.0916\n",
      "Epoch 6/100, Train Loss: 1.7928, Val Loss: 1.7381\n",
      "Epoch 7/100, Train Loss: 1.6650, Val Loss: 1.9347\n",
      "Epoch 8/100, Train Loss: 1.7237, Val Loss: 1.6653\n",
      "Epoch 9/100, Train Loss: 1.6576, Val Loss: 1.7233\n",
      "Epoch 10/100, Train Loss: 1.6031, Val Loss: 1.6473\n",
      "Epoch 11/100, Train Loss: 1.7029, Val Loss: 1.8305\n",
      "Epoch 12/100, Train Loss: 1.7680, Val Loss: 1.8556\n",
      "Epoch 13/100, Train Loss: 1.7346, Val Loss: 1.8347\n",
      "Epoch 14/100, Train Loss: 1.5410, Val Loss: 1.7704\n",
      "Epoch 15/100, Train Loss: 1.5953, Val Loss: 1.7132\n",
      "Epoch 16/100, Train Loss: 1.4445, Val Loss: 1.7020\n",
      "Epoch 17/100, Train Loss: 1.6137, Val Loss: 1.7406\n",
      "Epoch 18/100, Train Loss: 1.5540, Val Loss: 1.7346\n",
      "Epoch 19/100, Train Loss: 1.5407, Val Loss: 1.6894\n",
      "Epoch 20/100, Train Loss: 1.5064, Val Loss: 1.6417\n",
      "Epoch 21/100, Train Loss: 1.3799, Val Loss: 1.4293\n",
      "Epoch 22/100, Train Loss: 1.2647, Val Loss: 1.3563\n",
      "Epoch 23/100, Train Loss: 1.2605, Val Loss: 1.4462\n",
      "Epoch 24/100, Train Loss: 1.1888, Val Loss: 1.3476\n",
      "Epoch 25/100, Train Loss: 1.1099, Val Loss: 1.2745\n",
      "Epoch 26/100, Train Loss: 1.0682, Val Loss: 1.3053\n",
      "Epoch 27/100, Train Loss: 1.0631, Val Loss: 1.1901\n",
      "Epoch 28/100, Train Loss: 1.0623, Val Loss: 1.3041\n",
      "Epoch 29/100, Train Loss: 1.0547, Val Loss: 1.5307\n",
      "Epoch 30/100, Train Loss: 1.1154, Val Loss: 1.2340\n",
      "Epoch 31/100, Train Loss: 0.9702, Val Loss: 1.1563\n",
      "Epoch 32/100, Train Loss: 0.9534, Val Loss: 1.1385\n",
      "Epoch 33/100, Train Loss: 0.9129, Val Loss: 1.1274\n",
      "Epoch 34/100, Train Loss: 0.8887, Val Loss: 1.1280\n",
      "Epoch 35/100, Train Loss: 0.8852, Val Loss: 1.1231\n",
      "Epoch 36/100, Train Loss: 0.8653, Val Loss: 1.0616\n",
      "Epoch 37/100, Train Loss: 0.8514, Val Loss: 1.1622\n",
      "Epoch 38/100, Train Loss: 0.9433, Val Loss: 1.1264\n",
      "Epoch 39/100, Train Loss: 0.8642, Val Loss: 1.0442\n",
      "Epoch 40/100, Train Loss: 0.8662, Val Loss: 1.1794\n",
      "Epoch 41/100, Train Loss: 0.8789, Val Loss: 1.0390\n",
      "Epoch 42/100, Train Loss: 0.8337, Val Loss: 1.0492\n",
      "Epoch 43/100, Train Loss: 0.8339, Val Loss: 1.0357\n",
      "Epoch 44/100, Train Loss: 0.8405, Val Loss: 0.9741\n",
      "Epoch 45/100, Train Loss: 0.8358, Val Loss: 1.0369\n",
      "Epoch 46/100, Train Loss: 0.8040, Val Loss: 0.9680\n",
      "Epoch 47/100, Train Loss: 0.7943, Val Loss: 1.0447\n",
      "Epoch 48/100, Train Loss: 0.7917, Val Loss: 1.0200\n",
      "Epoch 49/100, Train Loss: 0.8461, Val Loss: 1.0113\n",
      "Epoch 50/100, Train Loss: 0.7964, Val Loss: 0.9637\n",
      "Epoch 51/100, Train Loss: 0.7666, Val Loss: 1.0560\n",
      "Epoch 52/100, Train Loss: 0.7868, Val Loss: 1.0332\n",
      "Epoch 53/100, Train Loss: 0.7625, Val Loss: 0.9755\n",
      "Epoch 54/100, Train Loss: 0.7808, Val Loss: 1.0409\n",
      "Epoch 55/100, Train Loss: 0.8174, Val Loss: 1.2549\n",
      "Epoch 56/100, Train Loss: 0.8457, Val Loss: 1.0794\n",
      "Epoch 57/100, Train Loss: 0.7927, Val Loss: 1.0215\n",
      "Epoch 58/100, Train Loss: 0.7714, Val Loss: 1.0002\n",
      "Epoch 59/100, Train Loss: 0.7892, Val Loss: 1.0057\n",
      "Epoch 60/100, Train Loss: 0.7904, Val Loss: 1.1115\n",
      "Epoch 61/100, Train Loss: 0.8146, Val Loss: 1.1015\n",
      "Epoch 62/100, Train Loss: 0.7604, Val Loss: 0.9907\n",
      "Epoch 63/100, Train Loss: 0.7530, Val Loss: 1.0030\n",
      "Epoch 64/100, Train Loss: 0.7678, Val Loss: 0.9432\n",
      "Epoch 65/100, Train Loss: 0.7679, Val Loss: 1.0181\n",
      "Epoch 66/100, Train Loss: 0.7469, Val Loss: 0.9542\n",
      "Epoch 67/100, Train Loss: 0.7534, Val Loss: 0.9456\n",
      "Epoch 68/100, Train Loss: 0.7477, Val Loss: 0.9504\n",
      "Epoch 69/100, Train Loss: 0.7305, Val Loss: 0.9684\n",
      "Epoch 70/100, Train Loss: 0.7323, Val Loss: 0.9475\n",
      "Epoch 71/100, Train Loss: 0.7224, Val Loss: 0.9647\n",
      "Epoch 72/100, Train Loss: 0.7185, Val Loss: 0.9879\n",
      "Epoch 73/100, Train Loss: 0.7515, Val Loss: 0.9371\n",
      "Epoch 74/100, Train Loss: 0.7170, Val Loss: 1.0293\n",
      "Epoch 75/100, Train Loss: 0.8003, Val Loss: 0.9781\n",
      "Epoch 76/100, Train Loss: 0.7425, Val Loss: 0.9285\n",
      "Epoch 77/100, Train Loss: 0.7238, Val Loss: 0.9495\n",
      "Epoch 78/100, Train Loss: 0.7288, Val Loss: 1.0645\n",
      "Epoch 79/100, Train Loss: 0.7574, Val Loss: 0.9342\n",
      "Epoch 80/100, Train Loss: 0.7159, Val Loss: 0.9347\n",
      "Epoch 81/100, Train Loss: 0.7111, Val Loss: 0.9235\n",
      "Epoch 82/100, Train Loss: 0.7101, Val Loss: 0.9388\n",
      "Epoch 83/100, Train Loss: 0.7173, Val Loss: 0.9873\n",
      "Epoch 84/100, Train Loss: 0.7385, Val Loss: 0.9527\n",
      "Epoch 85/100, Train Loss: 0.7080, Val Loss: 0.9431\n",
      "Epoch 86/100, Train Loss: 0.7115, Val Loss: 0.9425\n",
      "Epoch 87/100, Train Loss: 0.7244, Val Loss: 0.9873\n",
      "Epoch 88/100, Train Loss: 0.7782, Val Loss: 1.0055\n",
      "Epoch 89/100, Train Loss: 0.7699, Val Loss: 0.9712\n",
      "Epoch 90/100, Train Loss: 0.7258, Val Loss: 0.9399\n",
      "Epoch 91/100, Train Loss: 0.7560, Val Loss: 0.9203\n",
      "Epoch 92/100, Train Loss: 0.7247, Val Loss: 0.9275\n",
      "Epoch 93/100, Train Loss: 0.7161, Val Loss: 0.9929\n",
      "Epoch 94/100, Train Loss: 0.6953, Val Loss: 0.9524\n",
      "Epoch 95/100, Train Loss: 0.6968, Val Loss: 0.9687\n",
      "Epoch 96/100, Train Loss: 0.7008, Val Loss: 0.9672\n",
      "Epoch 97/100, Train Loss: 0.6953, Val Loss: 0.9733\n",
      "Epoch 98/100, Train Loss: 0.7330, Val Loss: 0.9760\n",
      "Epoch 99/100, Train Loss: 0.7086, Val Loss: 1.0663\n",
      "Epoch 100/100, Train Loss: 0.7264, Val Loss: 0.9395\n"
     ]
    },
    {
     "data": {
      "text/html": [],
      "text/plain": [
       "<IPython.core.display.HTML object>"
      ]
     },
     "metadata": {},
     "output_type": "display_data"
    },
    {
     "data": {
      "text/html": [
       "<br>    <style><br>        .wandb-row {<br>            display: flex;<br>            flex-direction: row;<br>            flex-wrap: wrap;<br>            justify-content: flex-start;<br>            width: 100%;<br>        }<br>        .wandb-col {<br>            display: flex;<br>            flex-direction: column;<br>            flex-basis: 100%;<br>            flex: 1;<br>            padding: 10px;<br>        }<br>    </style><br><div class=\"wandb-row\"><div class=\"wandb-col\"><h3>Run history:</h3><br/><table class=\"wandb\"><tr><td>epoch</td><td>▁▁▁▁▁▂▂▂▂▂▃▃▃▃▃▃▃▄▄▄▄▅▅▅▅▅▆▆▆▆▆▆▇▇▇▇████</td></tr><tr><td>minimax_draw_rate</td><td>▁</td></tr><tr><td>minimax_loss_rate</td><td>▁</td></tr><tr><td>minimax_score</td><td>▁</td></tr><tr><td>minimax_win_rate</td><td>▁</td></tr><tr><td>random_draw_rate</td><td>▁</td></tr><tr><td>random_loss_rate</td><td>▁</td></tr><tr><td>random_score</td><td>▁</td></tr><tr><td>random_win_rate</td><td>▁</td></tr><tr><td>train_loss</td><td>█▄▄▄▃▃▃▃▃▂▂▂▁▁▁▁▁▁▁▁▁▁▁▁▁▁▁▁▁▁▁▁▁▁▁▁▁▁▁▁</td></tr><tr><td>train_policy_loss</td><td>█▁▁▁▁▁▁▁▁▁▁▁▁▁▁▁▁▁▁▁▁▁▁▁▁▁▁▁▁▁▁▁▁▁▁▁▁▁▁▁</td></tr><tr><td>train_value_loss</td><td>█▇▆▆▆▆▄▄▄▃▃▃▃▃▂▂▂▂▂▂▁▂▁▁▁▁▁▁▁▁▁▂▁▁▁▁▁▁▁▁</td></tr><tr><td>val_loss</td><td>█▆▅▅▄▅▄▄▄▃▃▃▄▂▂▂▂▂▂▁▁▁▁▂▂▁▂▂▁▁▁▁▁▁▁▁▁▁▁▁</td></tr><tr><td>val_policy_loss</td><td>█▆▅▄▆▃▄▃▄▂▂▁▁▁▁▂▁▁▁▁▁▁▁▁▁▁▁▁▁▁▁▁▁▁▁▁▁▁▁▁</td></tr><tr><td>val_value_loss</td><td>█▇▇▅▅▆▆▅▄▅▄▄▅▃▃▃▂▂▂▁▂▂▂▁▂▂▁▁▁▂▁▁▁▁▁▂▁▁▁▁</td></tr></table><br/></div><div class=\"wandb-col\"><h3>Run summary:</h3><br/><table class=\"wandb\"><tr><td>epoch</td><td>99</td></tr><tr><td>minimax_draw_rate</td><td>0.47</td></tr><tr><td>minimax_loss_rate</td><td>0.53</td></tr><tr><td>minimax_score</td><td>-0.53</td></tr><tr><td>minimax_win_rate</td><td>0</td></tr><tr><td>random_draw_rate</td><td>0.09</td></tr><tr><td>random_loss_rate</td><td>0.07</td></tr><tr><td>random_score</td><td>0.77</td></tr><tr><td>random_win_rate</td><td>0.84</td></tr><tr><td>train_loss</td><td>0.72644</td></tr><tr><td>train_policy_loss</td><td>0.61583</td></tr><tr><td>train_value_loss</td><td>0.1106</td></tr><tr><td>val_loss</td><td>0.93947</td></tr><tr><td>val_policy_loss</td><td>0.7895</td></tr><tr><td>val_value_loss</td><td>0.14997</td></tr></table><br/></div></div>"
      ],
      "text/plain": [
       "<IPython.core.display.HTML object>"
      ]
     },
     "metadata": {},
     "output_type": "display_data"
    },
    {
     "data": {
      "text/html": [
       " View run <strong style=\"color:#cdcd00\">desert-sweep-6</strong> at: <a href='https://wandb.ai/eigenway/AlphaZero-TicTacToe/runs/mbmbcv2l' target=\"_blank\">https://wandb.ai/eigenway/AlphaZero-TicTacToe/runs/mbmbcv2l</a><br> View project at: <a href='https://wandb.ai/eigenway/AlphaZero-TicTacToe' target=\"_blank\">https://wandb.ai/eigenway/AlphaZero-TicTacToe</a><br>Synced 5 W&B file(s), 0 media file(s), 0 artifact file(s) and 0 other file(s)"
      ],
      "text/plain": [
       "<IPython.core.display.HTML object>"
      ]
     },
     "metadata": {},
     "output_type": "display_data"
    },
    {
     "data": {
      "text/html": [
       "Find logs at: <code>./wandb/run-20250305_220556-mbmbcv2l/logs</code>"
      ],
      "text/plain": [
       "<IPython.core.display.HTML object>"
      ]
     },
     "metadata": {},
     "output_type": "display_data"
    },
    {
     "name": "stderr",
     "output_type": "stream",
     "text": [
      "\u001b[34m\u001b[1mwandb\u001b[0m: Agent Starting Run: 1hxsqg6h with config:\n",
      "\u001b[34m\u001b[1mwandb\u001b[0m: \tactivation: relu\n",
      "\u001b[34m\u001b[1mwandb\u001b[0m: \tattention_layers: 2\n",
      "\u001b[34m\u001b[1mwandb\u001b[0m: \tbatch_size: 256\n",
      "\u001b[34m\u001b[1mwandb\u001b[0m: \tdropout: 0\n",
      "\u001b[34m\u001b[1mwandb\u001b[0m: \tembed_dim: 64\n",
      "\u001b[34m\u001b[1mwandb\u001b[0m: \tepochs: 100\n",
      "\u001b[34m\u001b[1mwandb\u001b[0m: \tfeedforward_dim: 256\n",
      "\u001b[34m\u001b[1mwandb\u001b[0m: \tlearning_rate: 0.0006021389753876815\n",
      "\u001b[34m\u001b[1mwandb\u001b[0m: \tmask_illegal_moves: False\n",
      "\u001b[34m\u001b[1mwandb\u001b[0m: \tmask_value: -10\n",
      "\u001b[34m\u001b[1mwandb\u001b[0m: \tnorm_first: True\n",
      "\u001b[34m\u001b[1mwandb\u001b[0m: \tweight_decay: 0.0018254838812306344\n"
     ]
    },
    {
     "data": {
      "text/html": [
       "Ignoring project 'AlphaZero-TicTacToe' when running a sweep."
      ],
      "text/plain": [
       "<IPython.core.display.HTML object>"
      ]
     },
     "metadata": {},
     "output_type": "display_data"
    },
    {
     "data": {
      "text/html": [
       "Tracking run with wandb version 0.19.6"
      ],
      "text/plain": [
       "<IPython.core.display.HTML object>"
      ]
     },
     "metadata": {},
     "output_type": "display_data"
    },
    {
     "data": {
      "text/html": [
       "Run data is saved locally in <code>/Users/eohjelle/Documents/2025-dots-and-boxes/dots-and-boxes/wandb/run-20250305_220652-1hxsqg6h</code>"
      ],
      "text/plain": [
       "<IPython.core.display.HTML object>"
      ]
     },
     "metadata": {},
     "output_type": "display_data"
    },
    {
     "data": {
      "text/html": [
       "Syncing run <strong><a href='https://wandb.ai/eigenway/AlphaZero-TicTacToe/runs/1hxsqg6h' target=\"_blank\">wise-sweep-7</a></strong> to <a href='https://wandb.ai/eigenway/AlphaZero-TicTacToe' target=\"_blank\">Weights & Biases</a> (<a href='https://wandb.me/developer-guide' target=\"_blank\">docs</a>)<br>Sweep page: <a href='https://wandb.ai/eigenway/AlphaZero-TicTacToe/sweeps/mtjttrrq' target=\"_blank\">https://wandb.ai/eigenway/AlphaZero-TicTacToe/sweeps/mtjttrrq</a>"
      ],
      "text/plain": [
       "<IPython.core.display.HTML object>"
      ]
     },
     "metadata": {},
     "output_type": "display_data"
    },
    {
     "data": {
      "text/html": [
       " View project at <a href='https://wandb.ai/eigenway/AlphaZero-TicTacToe' target=\"_blank\">https://wandb.ai/eigenway/AlphaZero-TicTacToe</a>"
      ],
      "text/plain": [
       "<IPython.core.display.HTML object>"
      ]
     },
     "metadata": {},
     "output_type": "display_data"
    },
    {
     "data": {
      "text/html": [
       " View sweep at <a href='https://wandb.ai/eigenway/AlphaZero-TicTacToe/sweeps/mtjttrrq' target=\"_blank\">https://wandb.ai/eigenway/AlphaZero-TicTacToe/sweeps/mtjttrrq</a>"
      ],
      "text/plain": [
       "<IPython.core.display.HTML object>"
      ]
     },
     "metadata": {},
     "output_type": "display_data"
    },
    {
     "data": {
      "text/html": [
       " View run at <a href='https://wandb.ai/eigenway/AlphaZero-TicTacToe/runs/1hxsqg6h' target=\"_blank\">https://wandb.ai/eigenway/AlphaZero-TicTacToe/runs/1hxsqg6h</a>"
      ],
      "text/plain": [
       "<IPython.core.display.HTML object>"
      ]
     },
     "metadata": {},
     "output_type": "display_data"
    },
    {
     "name": "stdout",
     "output_type": "stream",
     "text": [
      "Epoch 1/100, Train Loss: 10.2643, Val Loss: 4.7389\n",
      "Epoch 2/100, Train Loss: 3.5303, Val Loss: 2.7488\n",
      "Epoch 3/100, Train Loss: 2.4375, Val Loss: 2.2904\n",
      "Epoch 4/100, Train Loss: 2.1836, Val Loss: 2.1669\n",
      "Epoch 5/100, Train Loss: 2.0872, Val Loss: 2.1769\n",
      "Epoch 6/100, Train Loss: 2.0230, Val Loss: 2.1279\n",
      "Epoch 7/100, Train Loss: 1.9786, Val Loss: 2.0637\n",
      "Epoch 8/100, Train Loss: 1.9416, Val Loss: 2.0246\n",
      "Epoch 9/100, Train Loss: 1.8408, Val Loss: 1.9051\n",
      "Epoch 10/100, Train Loss: 1.7638, Val Loss: 1.6142\n",
      "Epoch 11/100, Train Loss: 1.6408, Val Loss: 1.6165\n",
      "Epoch 12/100, Train Loss: 1.5921, Val Loss: 1.6184\n",
      "Epoch 13/100, Train Loss: 1.5603, Val Loss: 1.6401\n",
      "Epoch 14/100, Train Loss: 1.5970, Val Loss: 1.6495\n",
      "Epoch 15/100, Train Loss: 1.5738, Val Loss: 1.6200\n",
      "Epoch 16/100, Train Loss: 1.4682, Val Loss: 1.5988\n",
      "Epoch 17/100, Train Loss: 1.4938, Val Loss: 1.5599\n",
      "Epoch 18/100, Train Loss: 1.4354, Val Loss: 1.4084\n",
      "Epoch 19/100, Train Loss: 1.5077, Val Loss: 1.5584\n",
      "Epoch 20/100, Train Loss: 1.4412, Val Loss: 1.3359\n",
      "Epoch 21/100, Train Loss: 1.3292, Val Loss: 1.3789\n",
      "Epoch 22/100, Train Loss: 1.3383, Val Loss: 1.4510\n",
      "Epoch 23/100, Train Loss: 1.3409, Val Loss: 1.2303\n",
      "Epoch 24/100, Train Loss: 1.2528, Val Loss: 1.4050\n",
      "Epoch 25/100, Train Loss: 1.3106, Val Loss: 1.1821\n",
      "Epoch 26/100, Train Loss: 1.1941, Val Loss: 1.1721\n",
      "Epoch 27/100, Train Loss: 1.1378, Val Loss: 1.1078\n",
      "Epoch 28/100, Train Loss: 1.1381, Val Loss: 1.1184\n",
      "Epoch 29/100, Train Loss: 1.1063, Val Loss: 1.0902\n",
      "Epoch 30/100, Train Loss: 1.1246, Val Loss: 1.1677\n",
      "Epoch 31/100, Train Loss: 1.1179, Val Loss: 1.1165\n",
      "Epoch 32/100, Train Loss: 1.0602, Val Loss: 1.1068\n",
      "Epoch 33/100, Train Loss: 1.0438, Val Loss: 1.0569\n",
      "Epoch 34/100, Train Loss: 1.0006, Val Loss: 1.0244\n",
      "Epoch 35/100, Train Loss: 0.9857, Val Loss: 1.0936\n",
      "Epoch 36/100, Train Loss: 0.9838, Val Loss: 0.9999\n",
      "Epoch 37/100, Train Loss: 0.9811, Val Loss: 1.0677\n",
      "Epoch 38/100, Train Loss: 0.9799, Val Loss: 0.9937\n",
      "Epoch 39/100, Train Loss: 0.9639, Val Loss: 1.0566\n",
      "Epoch 40/100, Train Loss: 0.9696, Val Loss: 0.9925\n",
      "Epoch 41/100, Train Loss: 0.9002, Val Loss: 0.9339\n",
      "Epoch 42/100, Train Loss: 0.9228, Val Loss: 0.9505\n",
      "Epoch 43/100, Train Loss: 0.9050, Val Loss: 0.9390\n",
      "Epoch 44/100, Train Loss: 0.9231, Val Loss: 1.1300\n",
      "Epoch 45/100, Train Loss: 0.9010, Val Loss: 0.8867\n",
      "Epoch 46/100, Train Loss: 0.8776, Val Loss: 0.9796\n",
      "Epoch 47/100, Train Loss: 0.8804, Val Loss: 0.8983\n",
      "Epoch 48/100, Train Loss: 0.9078, Val Loss: 0.9176\n",
      "Epoch 49/100, Train Loss: 0.9152, Val Loss: 0.9807\n",
      "Epoch 50/100, Train Loss: 0.8838, Val Loss: 0.9130\n",
      "Epoch 51/100, Train Loss: 0.8329, Val Loss: 0.8521\n",
      "Epoch 52/100, Train Loss: 0.8256, Val Loss: 0.8623\n",
      "Epoch 53/100, Train Loss: 0.8454, Val Loss: 0.8745\n",
      "Epoch 54/100, Train Loss: 0.8387, Val Loss: 1.1486\n",
      "Epoch 55/100, Train Loss: 0.9440, Val Loss: 0.9366\n",
      "Epoch 56/100, Train Loss: 0.8545, Val Loss: 0.8637\n",
      "Epoch 57/100, Train Loss: 0.8105, Val Loss: 0.8994\n",
      "Epoch 58/100, Train Loss: 0.8076, Val Loss: 0.8199\n",
      "Epoch 59/100, Train Loss: 0.8078, Val Loss: 0.9434\n",
      "Epoch 60/100, Train Loss: 0.8088, Val Loss: 0.7918\n",
      "Epoch 61/100, Train Loss: 0.7875, Val Loss: 0.8022\n",
      "Epoch 62/100, Train Loss: 0.7886, Val Loss: 0.8219\n",
      "Epoch 63/100, Train Loss: 0.7741, Val Loss: 0.8031\n",
      "Epoch 64/100, Train Loss: 0.7686, Val Loss: 0.8349\n",
      "Epoch 65/100, Train Loss: 0.7859, Val Loss: 0.8106\n",
      "Epoch 66/100, Train Loss: 0.7810, Val Loss: 0.8317\n",
      "Epoch 67/100, Train Loss: 0.7838, Val Loss: 0.8565\n",
      "Epoch 68/100, Train Loss: 0.7640, Val Loss: 0.8678\n",
      "Epoch 69/100, Train Loss: 0.7677, Val Loss: 0.8272\n",
      "Epoch 70/100, Train Loss: 0.7626, Val Loss: 0.7882\n",
      "Epoch 71/100, Train Loss: 0.7658, Val Loss: 0.7830\n",
      "Epoch 72/100, Train Loss: 0.7579, Val Loss: 0.8121\n",
      "Epoch 73/100, Train Loss: 0.7577, Val Loss: 0.8793\n",
      "Epoch 74/100, Train Loss: 0.7905, Val Loss: 0.7857\n",
      "Epoch 75/100, Train Loss: 0.7785, Val Loss: 0.7841\n",
      "Epoch 76/100, Train Loss: 0.7627, Val Loss: 0.7756\n",
      "Epoch 77/100, Train Loss: 0.7429, Val Loss: 0.8067\n",
      "Epoch 78/100, Train Loss: 0.7482, Val Loss: 0.7851\n",
      "Epoch 79/100, Train Loss: 0.7496, Val Loss: 0.7750\n",
      "Epoch 80/100, Train Loss: 0.7816, Val Loss: 0.7754\n",
      "Epoch 81/100, Train Loss: 0.7728, Val Loss: 0.8046\n",
      "Epoch 82/100, Train Loss: 0.7461, Val Loss: 0.7931\n",
      "Epoch 83/100, Train Loss: 0.7283, Val Loss: 0.7779\n",
      "Epoch 84/100, Train Loss: 0.7511, Val Loss: 0.8291\n",
      "Epoch 85/100, Train Loss: 0.7499, Val Loss: 0.7825\n",
      "Epoch 86/100, Train Loss: 0.7287, Val Loss: 0.7611\n",
      "Epoch 87/100, Train Loss: 0.7323, Val Loss: 0.7798\n",
      "Epoch 88/100, Train Loss: 0.7334, Val Loss: 0.7575\n",
      "Epoch 89/100, Train Loss: 0.7276, Val Loss: 0.7522\n",
      "Epoch 90/100, Train Loss: 0.7318, Val Loss: 0.7828\n",
      "Epoch 91/100, Train Loss: 0.7257, Val Loss: 0.8016\n",
      "Epoch 92/100, Train Loss: 0.7493, Val Loss: 0.7782\n",
      "Epoch 93/100, Train Loss: 0.7196, Val Loss: 0.7452\n",
      "Epoch 94/100, Train Loss: 0.7164, Val Loss: 0.7955\n",
      "Epoch 95/100, Train Loss: 0.7195, Val Loss: 0.7360\n",
      "Epoch 96/100, Train Loss: 0.7100, Val Loss: 0.7665\n",
      "Epoch 97/100, Train Loss: 0.7061, Val Loss: 0.7566\n",
      "Epoch 98/100, Train Loss: 0.7158, Val Loss: 0.7542\n",
      "Epoch 99/100, Train Loss: 0.7132, Val Loss: 0.7675\n",
      "Epoch 100/100, Train Loss: 0.7151, Val Loss: 0.7499\n"
     ]
    },
    {
     "data": {
      "text/html": [],
      "text/plain": [
       "<IPython.core.display.HTML object>"
      ]
     },
     "metadata": {},
     "output_type": "display_data"
    },
    {
     "data": {
      "text/html": [
       "<br>    <style><br>        .wandb-row {<br>            display: flex;<br>            flex-direction: row;<br>            flex-wrap: wrap;<br>            justify-content: flex-start;<br>            width: 100%;<br>        }<br>        .wandb-col {<br>            display: flex;<br>            flex-direction: column;<br>            flex-basis: 100%;<br>            flex: 1;<br>            padding: 10px;<br>        }<br>    </style><br><div class=\"wandb-row\"><div class=\"wandb-col\"><h3>Run history:</h3><br/><table class=\"wandb\"><tr><td>epoch</td><td>▁▁▁▁▂▂▂▂▂▂▃▃▃▃▃▄▄▄▄▄▄▅▅▅▅▅▆▆▆▆▆▆▆▇▇▇▇███</td></tr><tr><td>minimax_draw_rate</td><td>▁</td></tr><tr><td>minimax_loss_rate</td><td>▁</td></tr><tr><td>minimax_score</td><td>▁</td></tr><tr><td>minimax_win_rate</td><td>▁</td></tr><tr><td>random_draw_rate</td><td>▁</td></tr><tr><td>random_loss_rate</td><td>▁</td></tr><tr><td>random_score</td><td>▁</td></tr><tr><td>random_win_rate</td><td>▁</td></tr><tr><td>train_loss</td><td>█▂▂▂▂▂▂▂▂▂▁▁▁▁▁▁▁▁▁▁▁▁▁▁▁▁▁▁▁▁▁▁▁▁▁▁▁▁▁▁</td></tr><tr><td>train_policy_loss</td><td>█▁▁▁▁▁▁▁▁▁▁▁▁▁▁▁▁▁▁▁▁▁▁▁▁▁▁▁▁▁▁▁▁▁▁▁▁▁▁▁</td></tr><tr><td>train_value_loss</td><td>█▇▆▆▅▄▄▄▄▃▃▃▃▂▂▂▂▂▂▂▁▂▂▁▁▁▁▁▁▁▁▁▁▁▁▁▁▁▁▁</td></tr><tr><td>val_loss</td><td>█▅▄▄▃▃▃▃▃▂▂▂▂▂▂▂▁▁▂▁▁▁▁▁▁▁▁▁▁▁▁▁▁▁▁▁▁▁▁▁</td></tr><tr><td>val_policy_loss</td><td>█▅▄▃▄▃▂▂▂▂▂▂▁▁▂▁▁▁▁▁▁▁▁▁▁▁▁▁▁▁▁▁▁▁▁▁▁▁▁▁</td></tr><tr><td>val_value_loss</td><td>██▇▇▆▅▄▅▄▅▃▃▃▃▃▂▂▃▂▂▂▂▂▃▁▁▁▂▂▁▁▁▁▁▁▁▁▁▁▁</td></tr></table><br/></div><div class=\"wandb-col\"><h3>Run summary:</h3><br/><table class=\"wandb\"><tr><td>epoch</td><td>99</td></tr><tr><td>minimax_draw_rate</td><td>0.46</td></tr><tr><td>minimax_loss_rate</td><td>0.54</td></tr><tr><td>minimax_score</td><td>-0.54</td></tr><tr><td>minimax_win_rate</td><td>0</td></tr><tr><td>random_draw_rate</td><td>0.09</td></tr><tr><td>random_loss_rate</td><td>0.1</td></tr><tr><td>random_score</td><td>0.71</td></tr><tr><td>random_win_rate</td><td>0.81</td></tr><tr><td>train_loss</td><td>0.71506</td></tr><tr><td>train_policy_loss</td><td>0.6301</td></tr><tr><td>train_value_loss</td><td>0.08497</td></tr><tr><td>val_loss</td><td>0.74993</td></tr><tr><td>val_policy_loss</td><td>0.64468</td></tr><tr><td>val_value_loss</td><td>0.10525</td></tr></table><br/></div></div>"
      ],
      "text/plain": [
       "<IPython.core.display.HTML object>"
      ]
     },
     "metadata": {},
     "output_type": "display_data"
    },
    {
     "data": {
      "text/html": [
       " View run <strong style=\"color:#cdcd00\">wise-sweep-7</strong> at: <a href='https://wandb.ai/eigenway/AlphaZero-TicTacToe/runs/1hxsqg6h' target=\"_blank\">https://wandb.ai/eigenway/AlphaZero-TicTacToe/runs/1hxsqg6h</a><br> View project at: <a href='https://wandb.ai/eigenway/AlphaZero-TicTacToe' target=\"_blank\">https://wandb.ai/eigenway/AlphaZero-TicTacToe</a><br>Synced 5 W&B file(s), 0 media file(s), 0 artifact file(s) and 0 other file(s)"
      ],
      "text/plain": [
       "<IPython.core.display.HTML object>"
      ]
     },
     "metadata": {},
     "output_type": "display_data"
    },
    {
     "data": {
      "text/html": [
       "Find logs at: <code>./wandb/run-20250305_220652-1hxsqg6h/logs</code>"
      ],
      "text/plain": [
       "<IPython.core.display.HTML object>"
      ]
     },
     "metadata": {},
     "output_type": "display_data"
    },
    {
     "name": "stderr",
     "output_type": "stream",
     "text": [
      "\u001b[34m\u001b[1mwandb\u001b[0m: Agent Starting Run: v4i391rv with config:\n",
      "\u001b[34m\u001b[1mwandb\u001b[0m: \tactivation: relu\n",
      "\u001b[34m\u001b[1mwandb\u001b[0m: \tattention_layers: 2\n",
      "\u001b[34m\u001b[1mwandb\u001b[0m: \tbatch_size: 256\n",
      "\u001b[34m\u001b[1mwandb\u001b[0m: \tdropout: 0\n",
      "\u001b[34m\u001b[1mwandb\u001b[0m: \tembed_dim: 64\n",
      "\u001b[34m\u001b[1mwandb\u001b[0m: \tepochs: 100\n",
      "\u001b[34m\u001b[1mwandb\u001b[0m: \tfeedforward_dim: 256\n",
      "\u001b[34m\u001b[1mwandb\u001b[0m: \tlearning_rate: 0.0011455660395738663\n",
      "\u001b[34m\u001b[1mwandb\u001b[0m: \tmask_illegal_moves: False\n",
      "\u001b[34m\u001b[1mwandb\u001b[0m: \tmask_value: -10\n",
      "\u001b[34m\u001b[1mwandb\u001b[0m: \tnorm_first: True\n",
      "\u001b[34m\u001b[1mwandb\u001b[0m: \tweight_decay: 0.0013250564453652408\n"
     ]
    },
    {
     "data": {
      "text/html": [
       "Ignoring project 'AlphaZero-TicTacToe' when running a sweep."
      ],
      "text/plain": [
       "<IPython.core.display.HTML object>"
      ]
     },
     "metadata": {},
     "output_type": "display_data"
    },
    {
     "data": {
      "text/html": [
       "Tracking run with wandb version 0.19.6"
      ],
      "text/plain": [
       "<IPython.core.display.HTML object>"
      ]
     },
     "metadata": {},
     "output_type": "display_data"
    },
    {
     "data": {
      "text/html": [
       "Run data is saved locally in <code>/Users/eohjelle/Documents/2025-dots-and-boxes/dots-and-boxes/wandb/run-20250305_220753-v4i391rv</code>"
      ],
      "text/plain": [
       "<IPython.core.display.HTML object>"
      ]
     },
     "metadata": {},
     "output_type": "display_data"
    },
    {
     "data": {
      "text/html": [
       "Syncing run <strong><a href='https://wandb.ai/eigenway/AlphaZero-TicTacToe/runs/v4i391rv' target=\"_blank\">expert-sweep-8</a></strong> to <a href='https://wandb.ai/eigenway/AlphaZero-TicTacToe' target=\"_blank\">Weights & Biases</a> (<a href='https://wandb.me/developer-guide' target=\"_blank\">docs</a>)<br>Sweep page: <a href='https://wandb.ai/eigenway/AlphaZero-TicTacToe/sweeps/mtjttrrq' target=\"_blank\">https://wandb.ai/eigenway/AlphaZero-TicTacToe/sweeps/mtjttrrq</a>"
      ],
      "text/plain": [
       "<IPython.core.display.HTML object>"
      ]
     },
     "metadata": {},
     "output_type": "display_data"
    },
    {
     "data": {
      "text/html": [
       " View project at <a href='https://wandb.ai/eigenway/AlphaZero-TicTacToe' target=\"_blank\">https://wandb.ai/eigenway/AlphaZero-TicTacToe</a>"
      ],
      "text/plain": [
       "<IPython.core.display.HTML object>"
      ]
     },
     "metadata": {},
     "output_type": "display_data"
    },
    {
     "data": {
      "text/html": [
       " View sweep at <a href='https://wandb.ai/eigenway/AlphaZero-TicTacToe/sweeps/mtjttrrq' target=\"_blank\">https://wandb.ai/eigenway/AlphaZero-TicTacToe/sweeps/mtjttrrq</a>"
      ],
      "text/plain": [
       "<IPython.core.display.HTML object>"
      ]
     },
     "metadata": {},
     "output_type": "display_data"
    },
    {
     "data": {
      "text/html": [
       " View run at <a href='https://wandb.ai/eigenway/AlphaZero-TicTacToe/runs/v4i391rv' target=\"_blank\">https://wandb.ai/eigenway/AlphaZero-TicTacToe/runs/v4i391rv</a>"
      ],
      "text/plain": [
       "<IPython.core.display.HTML object>"
      ]
     },
     "metadata": {},
     "output_type": "display_data"
    },
    {
     "name": "stdout",
     "output_type": "stream",
     "text": [
      "Epoch 1/100, Train Loss: 7.2512, Val Loss: 3.3992\n",
      "Epoch 2/100, Train Loss: 2.7990, Val Loss: 2.6207\n",
      "Epoch 3/100, Train Loss: 2.3741, Val Loss: 2.4290\n",
      "Epoch 4/100, Train Loss: 2.3120, Val Loss: 2.4573\n",
      "Epoch 5/100, Train Loss: 2.3480, Val Loss: 2.3741\n",
      "Epoch 6/100, Train Loss: 2.2630, Val Loss: 2.3720\n",
      "Epoch 7/100, Train Loss: 2.2174, Val Loss: 2.2896\n",
      "Epoch 8/100, Train Loss: 2.1558, Val Loss: 2.3370\n",
      "Epoch 9/100, Train Loss: 2.1646, Val Loss: 2.2289\n",
      "Epoch 10/100, Train Loss: 2.1079, Val Loss: 2.2678\n",
      "Epoch 11/100, Train Loss: 2.1397, Val Loss: 2.2354\n",
      "Epoch 12/100, Train Loss: 2.0941, Val Loss: 2.1991\n",
      "Epoch 13/100, Train Loss: 2.0668, Val Loss: 2.1859\n",
      "Epoch 14/100, Train Loss: 2.0802, Val Loss: 2.1714\n",
      "Epoch 15/100, Train Loss: 2.0564, Val Loss: 2.1509\n",
      "Epoch 16/100, Train Loss: 2.0445, Val Loss: 2.1891\n",
      "Epoch 17/100, Train Loss: 2.0786, Val Loss: 2.1625\n",
      "Epoch 18/100, Train Loss: 2.0573, Val Loss: 2.1255\n",
      "Epoch 19/100, Train Loss: 2.0484, Val Loss: 2.1314\n",
      "Epoch 20/100, Train Loss: 2.0100, Val Loss: 2.1393\n",
      "Epoch 21/100, Train Loss: 2.0102, Val Loss: 2.1483\n",
      "Epoch 22/100, Train Loss: 2.0181, Val Loss: 2.1263\n",
      "Epoch 23/100, Train Loss: 2.0047, Val Loss: 2.1361\n",
      "Epoch 24/100, Train Loss: 2.0204, Val Loss: 2.1189\n",
      "Epoch 25/100, Train Loss: 2.0211, Val Loss: 2.1168\n",
      "Epoch 26/100, Train Loss: 1.9871, Val Loss: 2.1263\n",
      "Epoch 27/100, Train Loss: 1.9846, Val Loss: 2.0979\n",
      "Epoch 28/100, Train Loss: 1.9860, Val Loss: 2.1108\n",
      "Epoch 29/100, Train Loss: 1.9883, Val Loss: 2.1278\n",
      "Epoch 30/100, Train Loss: 1.9930, Val Loss: 2.1258\n",
      "Epoch 31/100, Train Loss: 2.0043, Val Loss: 2.1080\n",
      "Epoch 32/100, Train Loss: 2.0098, Val Loss: 2.1294\n",
      "Epoch 33/100, Train Loss: 2.0030, Val Loss: 2.1265\n",
      "Epoch 34/100, Train Loss: 1.9906, Val Loss: 2.1477\n",
      "Epoch 35/100, Train Loss: 1.9944, Val Loss: 2.1342\n",
      "Epoch 36/100, Train Loss: 1.9846, Val Loss: 2.1279\n",
      "Epoch 37/100, Train Loss: 1.9639, Val Loss: 2.1124\n",
      "Epoch 38/100, Train Loss: 1.9783, Val Loss: 2.1388\n",
      "Epoch 39/100, Train Loss: 1.9857, Val Loss: 2.1539\n",
      "Epoch 40/100, Train Loss: 2.0136, Val Loss: 2.1059\n",
      "Epoch 41/100, Train Loss: 1.9732, Val Loss: 2.1221\n",
      "Epoch 42/100, Train Loss: 1.9642, Val Loss: 2.1123\n",
      "Epoch 43/100, Train Loss: 1.9727, Val Loss: 2.1787\n",
      "Epoch 44/100, Train Loss: 2.0066, Val Loss: 2.1147\n",
      "Epoch 45/100, Train Loss: 1.9924, Val Loss: 2.1394\n",
      "Epoch 46/100, Train Loss: 1.9860, Val Loss: 2.1179\n",
      "Epoch 47/100, Train Loss: 1.9660, Val Loss: 2.0984\n",
      "Epoch 48/100, Train Loss: 1.9760, Val Loss: 2.1286\n",
      "Epoch 49/100, Train Loss: 2.0029, Val Loss: 2.1198\n",
      "Epoch 50/100, Train Loss: 1.9772, Val Loss: 2.1595\n",
      "Epoch 51/100, Train Loss: 1.9899, Val Loss: 2.0673\n",
      "Epoch 52/100, Train Loss: 1.8384, Val Loss: 1.6147\n",
      "Epoch 53/100, Train Loss: 1.6409, Val Loss: 1.5567\n",
      "Epoch 54/100, Train Loss: 1.4998, Val Loss: 1.4348\n",
      "Epoch 55/100, Train Loss: 1.4600, Val Loss: 1.3844\n",
      "Epoch 56/100, Train Loss: 1.3057, Val Loss: 1.2401\n",
      "Epoch 57/100, Train Loss: 1.2273, Val Loss: 1.2544\n",
      "Epoch 58/100, Train Loss: 1.1739, Val Loss: 1.0667\n",
      "Epoch 59/100, Train Loss: 1.0657, Val Loss: 1.0906\n",
      "Epoch 60/100, Train Loss: 1.0654, Val Loss: 1.0020\n",
      "Epoch 61/100, Train Loss: 0.9609, Val Loss: 0.9560\n",
      "Epoch 62/100, Train Loss: 0.9653, Val Loss: 1.5610\n",
      "Epoch 63/100, Train Loss: 1.0689, Val Loss: 0.9781\n",
      "Epoch 64/100, Train Loss: 0.9357, Val Loss: 0.9925\n",
      "Epoch 65/100, Train Loss: 0.8991, Val Loss: 0.9683\n",
      "Epoch 66/100, Train Loss: 0.9088, Val Loss: 0.9549\n",
      "Epoch 67/100, Train Loss: 0.8476, Val Loss: 0.9189\n",
      "Epoch 68/100, Train Loss: 0.8362, Val Loss: 0.8830\n",
      "Epoch 69/100, Train Loss: 0.8297, Val Loss: 0.8767\n",
      "Epoch 70/100, Train Loss: 0.8514, Val Loss: 0.9267\n",
      "Epoch 71/100, Train Loss: 0.8296, Val Loss: 0.8768\n",
      "Epoch 72/100, Train Loss: 0.7964, Val Loss: 0.8695\n",
      "Epoch 73/100, Train Loss: 0.7887, Val Loss: 0.8512\n",
      "Epoch 74/100, Train Loss: 0.8268, Val Loss: 0.9050\n",
      "Epoch 75/100, Train Loss: 0.7908, Val Loss: 0.8669\n",
      "Epoch 76/100, Train Loss: 0.7759, Val Loss: 0.8877\n",
      "Epoch 77/100, Train Loss: 0.7721, Val Loss: 0.8535\n",
      "Epoch 78/100, Train Loss: 0.7639, Val Loss: 0.8300\n",
      "Epoch 79/100, Train Loss: 0.7542, Val Loss: 0.8450\n",
      "Epoch 80/100, Train Loss: 0.7440, Val Loss: 0.8535\n",
      "Epoch 81/100, Train Loss: 0.7360, Val Loss: 0.8100\n",
      "Epoch 82/100, Train Loss: 0.7533, Val Loss: 0.8669\n",
      "Epoch 83/100, Train Loss: 0.7674, Val Loss: 0.8394\n",
      "Epoch 84/100, Train Loss: 0.7308, Val Loss: 0.8199\n",
      "Epoch 85/100, Train Loss: 0.7366, Val Loss: 0.7879\n",
      "Epoch 86/100, Train Loss: 0.7264, Val Loss: 0.8413\n",
      "Epoch 87/100, Train Loss: 0.7271, Val Loss: 0.8019\n",
      "Epoch 88/100, Train Loss: 0.7282, Val Loss: 0.8015\n",
      "Epoch 89/100, Train Loss: 0.7448, Val Loss: 0.7915\n",
      "Epoch 90/100, Train Loss: 0.7400, Val Loss: 0.8311\n",
      "Epoch 91/100, Train Loss: 0.7372, Val Loss: 0.9481\n",
      "Epoch 92/100, Train Loss: 0.7833, Val Loss: 0.8290\n",
      "Epoch 93/100, Train Loss: 0.7747, Val Loss: 0.8234\n",
      "Epoch 94/100, Train Loss: 0.7432, Val Loss: 0.7907\n",
      "Epoch 95/100, Train Loss: 0.7151, Val Loss: 0.7759\n",
      "Epoch 96/100, Train Loss: 0.7233, Val Loss: 0.7938\n",
      "Epoch 97/100, Train Loss: 0.7114, Val Loss: 0.8306\n",
      "Epoch 98/100, Train Loss: 0.7217, Val Loss: 0.8301\n",
      "Epoch 99/100, Train Loss: 0.7193, Val Loss: 0.7739\n",
      "Epoch 100/100, Train Loss: 0.6928, Val Loss: 0.7885\n"
     ]
    },
    {
     "data": {
      "text/html": [],
      "text/plain": [
       "<IPython.core.display.HTML object>"
      ]
     },
     "metadata": {},
     "output_type": "display_data"
    },
    {
     "data": {
      "text/html": [
       "<br>    <style><br>        .wandb-row {<br>            display: flex;<br>            flex-direction: row;<br>            flex-wrap: wrap;<br>            justify-content: flex-start;<br>            width: 100%;<br>        }<br>        .wandb-col {<br>            display: flex;<br>            flex-direction: column;<br>            flex-basis: 100%;<br>            flex: 1;<br>            padding: 10px;<br>        }<br>    </style><br><div class=\"wandb-row\"><div class=\"wandb-col\"><h3>Run history:</h3><br/><table class=\"wandb\"><tr><td>epoch</td><td>▁▁▁▁▂▂▂▂▂▃▃▃▃▃▃▄▄▄▄▄▄▅▅▅▅▆▆▆▆▆▇▇▇▇▇▇████</td></tr><tr><td>minimax_draw_rate</td><td>▁</td></tr><tr><td>minimax_loss_rate</td><td>▁</td></tr><tr><td>minimax_score</td><td>▁</td></tr><tr><td>minimax_win_rate</td><td>▁</td></tr><tr><td>random_draw_rate</td><td>▁</td></tr><tr><td>random_loss_rate</td><td>▁</td></tr><tr><td>random_score</td><td>▁</td></tr><tr><td>random_win_rate</td><td>▁</td></tr><tr><td>train_loss</td><td>██████▇▇▇▇█▇▇▇▇▇▇▇▇▇▅▅▄▄▃▂▂▂▂▂▁▁▁▁▁▁▁▁▁▁</td></tr><tr><td>train_policy_loss</td><td>█▂▂▁▂▁▁▁▁▁▁▁▁▁▁▁▁▁▁▁▁▁▁▁▁▁▁▁▁▁▁▁▁▁▁▁▁▁▁▁</td></tr><tr><td>train_value_loss</td><td>███████████████▇▆▅▄▄▃▂▂▂▂▂▂▁▂▁▁▁▁▁▁▁▁▁▁▁</td></tr><tr><td>val_loss</td><td>█▇▇▆▆▆▆▆▆▆▆▆▆▆▆▆▆▆▆▆▃▃▃▂▂▁▁▁▂▁▁▁▁▁▁▁▁▁▁▁</td></tr><tr><td>val_policy_loss</td><td>█▄▃▂▂▂▂▂▁▁▁▁▁▁▁▁▁▁▁▁▁▁▁▁▁▁▁▁▁▁▁▁▁▁▁▁▁▁▁▁</td></tr><tr><td>val_value_loss</td><td>███████████████████████▅▄▃▂▂▁▁▁▁▁▁▂▁▁▁▁▁</td></tr></table><br/></div><div class=\"wandb-col\"><h3>Run summary:</h3><br/><table class=\"wandb\"><tr><td>epoch</td><td>99</td></tr><tr><td>minimax_draw_rate</td><td>0.5</td></tr><tr><td>minimax_loss_rate</td><td>0.5</td></tr><tr><td>minimax_score</td><td>-0.5</td></tr><tr><td>minimax_win_rate</td><td>0</td></tr><tr><td>random_draw_rate</td><td>0.16</td></tr><tr><td>random_loss_rate</td><td>0.1</td></tr><tr><td>random_score</td><td>0.64</td></tr><tr><td>random_win_rate</td><td>0.74</td></tr><tr><td>train_loss</td><td>0.69281</td></tr><tr><td>train_policy_loss</td><td>0.61013</td></tr><tr><td>train_value_loss</td><td>0.08268</td></tr><tr><td>val_loss</td><td>0.78851</td></tr><tr><td>val_policy_loss</td><td>0.64933</td></tr><tr><td>val_value_loss</td><td>0.13918</td></tr></table><br/></div></div>"
      ],
      "text/plain": [
       "<IPython.core.display.HTML object>"
      ]
     },
     "metadata": {},
     "output_type": "display_data"
    },
    {
     "data": {
      "text/html": [
       " View run <strong style=\"color:#cdcd00\">expert-sweep-8</strong> at: <a href='https://wandb.ai/eigenway/AlphaZero-TicTacToe/runs/v4i391rv' target=\"_blank\">https://wandb.ai/eigenway/AlphaZero-TicTacToe/runs/v4i391rv</a><br> View project at: <a href='https://wandb.ai/eigenway/AlphaZero-TicTacToe' target=\"_blank\">https://wandb.ai/eigenway/AlphaZero-TicTacToe</a><br>Synced 5 W&B file(s), 0 media file(s), 0 artifact file(s) and 0 other file(s)"
      ],
      "text/plain": [
       "<IPython.core.display.HTML object>"
      ]
     },
     "metadata": {},
     "output_type": "display_data"
    },
    {
     "data": {
      "text/html": [
       "Find logs at: <code>./wandb/run-20250305_220753-v4i391rv/logs</code>"
      ],
      "text/plain": [
       "<IPython.core.display.HTML object>"
      ]
     },
     "metadata": {},
     "output_type": "display_data"
    },
    {
     "name": "stderr",
     "output_type": "stream",
     "text": [
      "\u001b[34m\u001b[1mwandb\u001b[0m: Agent Starting Run: ey4fxj8w with config:\n",
      "\u001b[34m\u001b[1mwandb\u001b[0m: \tactivation: relu\n",
      "\u001b[34m\u001b[1mwandb\u001b[0m: \tattention_layers: 2\n",
      "\u001b[34m\u001b[1mwandb\u001b[0m: \tbatch_size: 256\n",
      "\u001b[34m\u001b[1mwandb\u001b[0m: \tdropout: 0\n",
      "\u001b[34m\u001b[1mwandb\u001b[0m: \tembed_dim: 64\n",
      "\u001b[34m\u001b[1mwandb\u001b[0m: \tepochs: 100\n",
      "\u001b[34m\u001b[1mwandb\u001b[0m: \tfeedforward_dim: 256\n",
      "\u001b[34m\u001b[1mwandb\u001b[0m: \tlearning_rate: 0.003655314929122717\n",
      "\u001b[34m\u001b[1mwandb\u001b[0m: \tmask_illegal_moves: False\n",
      "\u001b[34m\u001b[1mwandb\u001b[0m: \tmask_value: -10\n",
      "\u001b[34m\u001b[1mwandb\u001b[0m: \tnorm_first: True\n",
      "\u001b[34m\u001b[1mwandb\u001b[0m: \tweight_decay: 0.0011689193466952585\n"
     ]
    },
    {
     "data": {
      "text/html": [
       "Ignoring project 'AlphaZero-TicTacToe' when running a sweep."
      ],
      "text/plain": [
       "<IPython.core.display.HTML object>"
      ]
     },
     "metadata": {},
     "output_type": "display_data"
    },
    {
     "data": {
      "text/html": [
       "Tracking run with wandb version 0.19.6"
      ],
      "text/plain": [
       "<IPython.core.display.HTML object>"
      ]
     },
     "metadata": {},
     "output_type": "display_data"
    },
    {
     "data": {
      "text/html": [
       "Run data is saved locally in <code>/Users/eohjelle/Documents/2025-dots-and-boxes/dots-and-boxes/wandb/run-20250305_220854-ey4fxj8w</code>"
      ],
      "text/plain": [
       "<IPython.core.display.HTML object>"
      ]
     },
     "metadata": {},
     "output_type": "display_data"
    },
    {
     "data": {
      "text/html": [
       "Syncing run <strong><a href='https://wandb.ai/eigenway/AlphaZero-TicTacToe/runs/ey4fxj8w' target=\"_blank\">fancy-sweep-9</a></strong> to <a href='https://wandb.ai/eigenway/AlphaZero-TicTacToe' target=\"_blank\">Weights & Biases</a> (<a href='https://wandb.me/developer-guide' target=\"_blank\">docs</a>)<br>Sweep page: <a href='https://wandb.ai/eigenway/AlphaZero-TicTacToe/sweeps/mtjttrrq' target=\"_blank\">https://wandb.ai/eigenway/AlphaZero-TicTacToe/sweeps/mtjttrrq</a>"
      ],
      "text/plain": [
       "<IPython.core.display.HTML object>"
      ]
     },
     "metadata": {},
     "output_type": "display_data"
    },
    {
     "data": {
      "text/html": [
       " View project at <a href='https://wandb.ai/eigenway/AlphaZero-TicTacToe' target=\"_blank\">https://wandb.ai/eigenway/AlphaZero-TicTacToe</a>"
      ],
      "text/plain": [
       "<IPython.core.display.HTML object>"
      ]
     },
     "metadata": {},
     "output_type": "display_data"
    },
    {
     "data": {
      "text/html": [
       " View sweep at <a href='https://wandb.ai/eigenway/AlphaZero-TicTacToe/sweeps/mtjttrrq' target=\"_blank\">https://wandb.ai/eigenway/AlphaZero-TicTacToe/sweeps/mtjttrrq</a>"
      ],
      "text/plain": [
       "<IPython.core.display.HTML object>"
      ]
     },
     "metadata": {},
     "output_type": "display_data"
    },
    {
     "data": {
      "text/html": [
       " View run at <a href='https://wandb.ai/eigenway/AlphaZero-TicTacToe/runs/ey4fxj8w' target=\"_blank\">https://wandb.ai/eigenway/AlphaZero-TicTacToe/runs/ey4fxj8w</a>"
      ],
      "text/plain": [
       "<IPython.core.display.HTML object>"
      ]
     },
     "metadata": {},
     "output_type": "display_data"
    },
    {
     "name": "stdout",
     "output_type": "stream",
     "text": [
      "Epoch 1/100, Train Loss: 8.1445, Val Loss: 3.4916\n",
      "Epoch 2/100, Train Loss: 2.7767, Val Loss: 2.5654\n",
      "Epoch 3/100, Train Loss: 2.4426, Val Loss: 2.4001\n",
      "Epoch 4/100, Train Loss: 2.3574, Val Loss: 2.3377\n",
      "Epoch 5/100, Train Loss: 2.2827, Val Loss: 2.3505\n",
      "Epoch 6/100, Train Loss: 2.2526, Val Loss: 2.2694\n",
      "Epoch 7/100, Train Loss: 2.1865, Val Loss: 2.2369\n",
      "Epoch 8/100, Train Loss: 2.1617, Val Loss: 2.1561\n",
      "Epoch 9/100, Train Loss: 2.1087, Val Loss: 2.1340\n",
      "Epoch 10/100, Train Loss: 2.0781, Val Loss: 2.1577\n",
      "Epoch 11/100, Train Loss: 2.0806, Val Loss: 2.1866\n",
      "Epoch 12/100, Train Loss: 2.0751, Val Loss: 2.1627\n",
      "Epoch 13/100, Train Loss: 2.0527, Val Loss: 2.1348\n",
      "Epoch 14/100, Train Loss: 2.0460, Val Loss: 2.1167\n",
      "Epoch 15/100, Train Loss: 2.0350, Val Loss: 2.1123\n",
      "Epoch 16/100, Train Loss: 2.0456, Val Loss: 2.1157\n",
      "Epoch 17/100, Train Loss: 2.0164, Val Loss: 2.1307\n",
      "Epoch 18/100, Train Loss: 2.0586, Val Loss: 2.1062\n",
      "Epoch 19/100, Train Loss: 2.0286, Val Loss: 2.1178\n",
      "Epoch 20/100, Train Loss: 2.0151, Val Loss: 2.0862\n",
      "Epoch 21/100, Train Loss: 2.0289, Val Loss: 2.1090\n",
      "Epoch 22/100, Train Loss: 2.0152, Val Loss: 2.1442\n",
      "Epoch 23/100, Train Loss: 2.0180, Val Loss: 2.0779\n",
      "Epoch 24/100, Train Loss: 2.0163, Val Loss: 2.0979\n",
      "Epoch 25/100, Train Loss: 2.0234, Val Loss: 2.1448\n",
      "Epoch 26/100, Train Loss: 2.0252, Val Loss: 2.1705\n",
      "Epoch 27/100, Train Loss: 2.0249, Val Loss: 2.1139\n",
      "Epoch 28/100, Train Loss: 2.0139, Val Loss: 2.0867\n",
      "Epoch 29/100, Train Loss: 1.9899, Val Loss: 2.0911\n",
      "Epoch 30/100, Train Loss: 1.9950, Val Loss: 2.1087\n",
      "Epoch 31/100, Train Loss: 1.9539, Val Loss: 1.9810\n",
      "Epoch 32/100, Train Loss: 1.6971, Val Loss: 1.9601\n",
      "Epoch 33/100, Train Loss: 1.9869, Val Loss: 2.1455\n",
      "Epoch 34/100, Train Loss: 1.8291, Val Loss: 1.5782\n",
      "Epoch 35/100, Train Loss: 1.5052, Val Loss: 1.3796\n",
      "Epoch 36/100, Train Loss: 1.3614, Val Loss: 1.3776\n",
      "Epoch 37/100, Train Loss: 1.3527, Val Loss: 1.2824\n",
      "Epoch 38/100, Train Loss: 1.3122, Val Loss: 1.2700\n",
      "Epoch 39/100, Train Loss: 1.1458, Val Loss: 1.2554\n",
      "Epoch 40/100, Train Loss: 1.0605, Val Loss: 1.1148\n",
      "Epoch 41/100, Train Loss: 1.0703, Val Loss: 1.0986\n",
      "Epoch 42/100, Train Loss: 0.9603, Val Loss: 1.0582\n",
      "Epoch 43/100, Train Loss: 0.9217, Val Loss: 1.0205\n",
      "Epoch 44/100, Train Loss: 0.9301, Val Loss: 1.0124\n",
      "Epoch 45/100, Train Loss: 0.9265, Val Loss: 0.9875\n",
      "Epoch 46/100, Train Loss: 0.8707, Val Loss: 1.0142\n",
      "Epoch 47/100, Train Loss: 0.8646, Val Loss: 0.9500\n",
      "Epoch 48/100, Train Loss: 0.8258, Val Loss: 0.9557\n",
      "Epoch 49/100, Train Loss: 0.8525, Val Loss: 0.9597\n",
      "Epoch 50/100, Train Loss: 0.8236, Val Loss: 0.9269\n",
      "Epoch 51/100, Train Loss: 0.8097, Val Loss: 0.9318\n",
      "Epoch 52/100, Train Loss: 0.7976, Val Loss: 0.9997\n",
      "Epoch 53/100, Train Loss: 0.7928, Val Loss: 0.9505\n",
      "Epoch 54/100, Train Loss: 0.7813, Val Loss: 0.9026\n",
      "Epoch 55/100, Train Loss: 0.7988, Val Loss: 1.0007\n",
      "Epoch 56/100, Train Loss: 0.8408, Val Loss: 0.9440\n",
      "Epoch 57/100, Train Loss: 0.7735, Val Loss: 0.9100\n",
      "Epoch 58/100, Train Loss: 0.7471, Val Loss: 0.9576\n",
      "Epoch 59/100, Train Loss: 0.7553, Val Loss: 0.9163\n",
      "Epoch 60/100, Train Loss: 0.7463, Val Loss: 0.8940\n",
      "Epoch 61/100, Train Loss: 0.7434, Val Loss: 0.9550\n",
      "Epoch 62/100, Train Loss: 0.7575, Val Loss: 0.9004\n",
      "Epoch 63/100, Train Loss: 0.7304, Val Loss: 0.8801\n",
      "Epoch 64/100, Train Loss: 0.7319, Val Loss: 0.9016\n",
      "Epoch 65/100, Train Loss: 0.7374, Val Loss: 0.9527\n",
      "Epoch 66/100, Train Loss: 0.7785, Val Loss: 0.9093\n",
      "Epoch 67/100, Train Loss: 0.7421, Val Loss: 0.9771\n",
      "Epoch 68/100, Train Loss: 0.7357, Val Loss: 0.8968\n",
      "Epoch 69/100, Train Loss: 0.7316, Val Loss: 1.0329\n",
      "Epoch 70/100, Train Loss: 0.8035, Val Loss: 0.9453\n",
      "Epoch 71/100, Train Loss: 0.7375, Val Loss: 0.9146\n",
      "Epoch 72/100, Train Loss: 0.7253, Val Loss: 0.9193\n",
      "Epoch 73/100, Train Loss: 0.7252, Val Loss: 0.9109\n",
      "Epoch 74/100, Train Loss: 0.7230, Val Loss: 0.9094\n",
      "Epoch 75/100, Train Loss: 0.7204, Val Loss: 0.9264\n",
      "Epoch 76/100, Train Loss: 0.7083, Val Loss: 0.9535\n",
      "Epoch 77/100, Train Loss: 0.7130, Val Loss: 0.9783\n",
      "Epoch 78/100, Train Loss: 0.7098, Val Loss: 0.9185\n",
      "Epoch 79/100, Train Loss: 0.7084, Val Loss: 0.8985\n",
      "Epoch 80/100, Train Loss: 0.7061, Val Loss: 0.9554\n",
      "Epoch 81/100, Train Loss: 0.7223, Val Loss: 0.9195\n",
      "Epoch 82/100, Train Loss: 0.7118, Val Loss: 0.9348\n",
      "Epoch 83/100, Train Loss: 0.7178, Val Loss: 0.9339\n",
      "Epoch 84/100, Train Loss: 0.7254, Val Loss: 0.8997\n",
      "Epoch 85/100, Train Loss: 0.7006, Val Loss: 0.9164\n",
      "Epoch 86/100, Train Loss: 0.6912, Val Loss: 0.8687\n",
      "Epoch 87/100, Train Loss: 0.6861, Val Loss: 0.8974\n",
      "Epoch 88/100, Train Loss: 0.6830, Val Loss: 0.8582\n",
      "Epoch 89/100, Train Loss: 0.6782, Val Loss: 0.8750\n",
      "Epoch 90/100, Train Loss: 0.6895, Val Loss: 0.8968\n",
      "Epoch 91/100, Train Loss: 0.7029, Val Loss: 0.9660\n",
      "Epoch 92/100, Train Loss: 0.7557, Val Loss: 0.9848\n",
      "Epoch 93/100, Train Loss: 0.7647, Val Loss: 0.8922\n",
      "Epoch 94/100, Train Loss: 0.7010, Val Loss: 0.9078\n",
      "Epoch 95/100, Train Loss: 0.6885, Val Loss: 0.8735\n",
      "Epoch 96/100, Train Loss: 0.6794, Val Loss: 0.8598\n",
      "Epoch 97/100, Train Loss: 0.6675, Val Loss: 0.8907\n",
      "Epoch 98/100, Train Loss: 0.6937, Val Loss: 0.9159\n",
      "Epoch 99/100, Train Loss: 0.7359, Val Loss: 0.9142\n",
      "Epoch 100/100, Train Loss: 0.6959, Val Loss: 0.9071\n"
     ]
    },
    {
     "data": {
      "text/html": [],
      "text/plain": [
       "<IPython.core.display.HTML object>"
      ]
     },
     "metadata": {},
     "output_type": "display_data"
    },
    {
     "data": {
      "text/html": [
       "<br>    <style><br>        .wandb-row {<br>            display: flex;<br>            flex-direction: row;<br>            flex-wrap: wrap;<br>            justify-content: flex-start;<br>            width: 100%;<br>        }<br>        .wandb-col {<br>            display: flex;<br>            flex-direction: column;<br>            flex-basis: 100%;<br>            flex: 1;<br>            padding: 10px;<br>        }<br>    </style><br><div class=\"wandb-row\"><div class=\"wandb-col\"><h3>Run history:</h3><br/><table class=\"wandb\"><tr><td>epoch</td><td>▁▁▁▂▂▂▂▂▂▂▃▃▃▃▄▄▄▄▄▄▅▅▅▅▅▆▆▆▆▆▆▆▆▇▇▇▇███</td></tr><tr><td>minimax_draw_rate</td><td>▁</td></tr><tr><td>minimax_loss_rate</td><td>▁</td></tr><tr><td>minimax_score</td><td>▁</td></tr><tr><td>minimax_win_rate</td><td>▁</td></tr><tr><td>random_draw_rate</td><td>▁</td></tr><tr><td>random_loss_rate</td><td>▁</td></tr><tr><td>random_score</td><td>▁</td></tr><tr><td>random_win_rate</td><td>▁</td></tr><tr><td>train_loss</td><td>██▇▇▇▆▆▆▆▆▆▆▆▆▆▆▆▄▄▄▂▂▂▂▂▁▁▁▁▁▁▁▁▂▁▁▁▁▁▁</td></tr><tr><td>train_policy_loss</td><td>█▂▁▁▁▁▁▁▁▁▁▁▁▁▁▁▁▁▁▁▁▁▁▁▁▁▁▁▁▁▁▁▁▁▁▁▁▁▁▁</td></tr><tr><td>train_value_loss</td><td>██████████████▆▃▂▂▂▂▁▂▁▁▁▁▁▁▁▁▁▁▁▁▁▁▁▁▁▁</td></tr><tr><td>val_loss</td><td>█▅▅▅▅▄▄▄▄▄▄▄▄▄▄▂▁▁▁▁▁▁▁▁▁▁▁▁▁▁▁▁▁▁▁▁▁▁▁▁</td></tr><tr><td>val_policy_loss</td><td>█▃▂▁▁▁▁▁▁▁▁▁▁▁▁▁▂▁▁▁▁▁▁▁▁▁▁▁▁▁▁▁▁▁▁▁▁▁▁▁</td></tr><tr><td>val_value_loss</td><td>█████████████▅▄▃▃▂▁▂▂▁▁▁▁▁▁▂▁▁▁▁▁▁▁▁▁▁▁▁</td></tr></table><br/></div><div class=\"wandb-col\"><h3>Run summary:</h3><br/><table class=\"wandb\"><tr><td>epoch</td><td>99</td></tr><tr><td>minimax_draw_rate</td><td>0.52</td></tr><tr><td>minimax_loss_rate</td><td>0.48</td></tr><tr><td>minimax_score</td><td>-0.48</td></tr><tr><td>minimax_win_rate</td><td>0</td></tr><tr><td>random_draw_rate</td><td>0.06</td></tr><tr><td>random_loss_rate</td><td>0.06</td></tr><tr><td>random_score</td><td>0.82</td></tr><tr><td>random_win_rate</td><td>0.88</td></tr><tr><td>train_loss</td><td>0.69585</td></tr><tr><td>train_policy_loss</td><td>0.6028</td></tr><tr><td>train_value_loss</td><td>0.09305</td></tr><tr><td>val_loss</td><td>0.90712</td></tr><tr><td>val_policy_loss</td><td>0.76458</td></tr><tr><td>val_value_loss</td><td>0.14254</td></tr></table><br/></div></div>"
      ],
      "text/plain": [
       "<IPython.core.display.HTML object>"
      ]
     },
     "metadata": {},
     "output_type": "display_data"
    },
    {
     "data": {
      "text/html": [
       " View run <strong style=\"color:#cdcd00\">fancy-sweep-9</strong> at: <a href='https://wandb.ai/eigenway/AlphaZero-TicTacToe/runs/ey4fxj8w' target=\"_blank\">https://wandb.ai/eigenway/AlphaZero-TicTacToe/runs/ey4fxj8w</a><br> View project at: <a href='https://wandb.ai/eigenway/AlphaZero-TicTacToe' target=\"_blank\">https://wandb.ai/eigenway/AlphaZero-TicTacToe</a><br>Synced 5 W&B file(s), 0 media file(s), 0 artifact file(s) and 0 other file(s)"
      ],
      "text/plain": [
       "<IPython.core.display.HTML object>"
      ]
     },
     "metadata": {},
     "output_type": "display_data"
    },
    {
     "data": {
      "text/html": [
       "Find logs at: <code>./wandb/run-20250305_220854-ey4fxj8w/logs</code>"
      ],
      "text/plain": [
       "<IPython.core.display.HTML object>"
      ]
     },
     "metadata": {},
     "output_type": "display_data"
    },
    {
     "name": "stderr",
     "output_type": "stream",
     "text": [
      "\u001b[34m\u001b[1mwandb\u001b[0m: Agent Starting Run: wpa5v17z with config:\n",
      "\u001b[34m\u001b[1mwandb\u001b[0m: \tactivation: relu\n",
      "\u001b[34m\u001b[1mwandb\u001b[0m: \tattention_layers: 2\n",
      "\u001b[34m\u001b[1mwandb\u001b[0m: \tbatch_size: 256\n",
      "\u001b[34m\u001b[1mwandb\u001b[0m: \tdropout: 0\n",
      "\u001b[34m\u001b[1mwandb\u001b[0m: \tembed_dim: 64\n",
      "\u001b[34m\u001b[1mwandb\u001b[0m: \tepochs: 100\n",
      "\u001b[34m\u001b[1mwandb\u001b[0m: \tfeedforward_dim: 256\n",
      "\u001b[34m\u001b[1mwandb\u001b[0m: \tlearning_rate: 0.003090691855904909\n",
      "\u001b[34m\u001b[1mwandb\u001b[0m: \tmask_illegal_moves: False\n",
      "\u001b[34m\u001b[1mwandb\u001b[0m: \tmask_value: -10\n",
      "\u001b[34m\u001b[1mwandb\u001b[0m: \tnorm_first: True\n",
      "\u001b[34m\u001b[1mwandb\u001b[0m: \tweight_decay: 0.0012229049274340154\n"
     ]
    },
    {
     "data": {
      "text/html": [
       "Ignoring project 'AlphaZero-TicTacToe' when running a sweep."
      ],
      "text/plain": [
       "<IPython.core.display.HTML object>"
      ]
     },
     "metadata": {},
     "output_type": "display_data"
    },
    {
     "data": {
      "text/html": [
       "Tracking run with wandb version 0.19.6"
      ],
      "text/plain": [
       "<IPython.core.display.HTML object>"
      ]
     },
     "metadata": {},
     "output_type": "display_data"
    },
    {
     "data": {
      "text/html": [
       "Run data is saved locally in <code>/Users/eohjelle/Documents/2025-dots-and-boxes/dots-and-boxes/wandb/run-20250305_220956-wpa5v17z</code>"
      ],
      "text/plain": [
       "<IPython.core.display.HTML object>"
      ]
     },
     "metadata": {},
     "output_type": "display_data"
    },
    {
     "data": {
      "text/html": [
       "Syncing run <strong><a href='https://wandb.ai/eigenway/AlphaZero-TicTacToe/runs/wpa5v17z' target=\"_blank\">vibrant-sweep-10</a></strong> to <a href='https://wandb.ai/eigenway/AlphaZero-TicTacToe' target=\"_blank\">Weights & Biases</a> (<a href='https://wandb.me/developer-guide' target=\"_blank\">docs</a>)<br>Sweep page: <a href='https://wandb.ai/eigenway/AlphaZero-TicTacToe/sweeps/mtjttrrq' target=\"_blank\">https://wandb.ai/eigenway/AlphaZero-TicTacToe/sweeps/mtjttrrq</a>"
      ],
      "text/plain": [
       "<IPython.core.display.HTML object>"
      ]
     },
     "metadata": {},
     "output_type": "display_data"
    },
    {
     "data": {
      "text/html": [
       " View project at <a href='https://wandb.ai/eigenway/AlphaZero-TicTacToe' target=\"_blank\">https://wandb.ai/eigenway/AlphaZero-TicTacToe</a>"
      ],
      "text/plain": [
       "<IPython.core.display.HTML object>"
      ]
     },
     "metadata": {},
     "output_type": "display_data"
    },
    {
     "data": {
      "text/html": [
       " View sweep at <a href='https://wandb.ai/eigenway/AlphaZero-TicTacToe/sweeps/mtjttrrq' target=\"_blank\">https://wandb.ai/eigenway/AlphaZero-TicTacToe/sweeps/mtjttrrq</a>"
      ],
      "text/plain": [
       "<IPython.core.display.HTML object>"
      ]
     },
     "metadata": {},
     "output_type": "display_data"
    },
    {
     "data": {
      "text/html": [
       " View run at <a href='https://wandb.ai/eigenway/AlphaZero-TicTacToe/runs/wpa5v17z' target=\"_blank\">https://wandb.ai/eigenway/AlphaZero-TicTacToe/runs/wpa5v17z</a>"
      ],
      "text/plain": [
       "<IPython.core.display.HTML object>"
      ]
     },
     "metadata": {},
     "output_type": "display_data"
    },
    {
     "name": "stdout",
     "output_type": "stream",
     "text": [
      "Epoch 1/100, Train Loss: 9.8758, Val Loss: 3.7853\n",
      "Epoch 2/100, Train Loss: 2.9373, Val Loss: 2.4731\n",
      "Epoch 3/100, Train Loss: 2.5050, Val Loss: 2.3610\n",
      "Epoch 4/100, Train Loss: 2.4029, Val Loss: 2.3285\n",
      "Epoch 5/100, Train Loss: 2.3432, Val Loss: 2.2813\n",
      "Epoch 6/100, Train Loss: 2.3230, Val Loss: 2.3061\n",
      "Epoch 7/100, Train Loss: 2.3111, Val Loss: 2.1943\n",
      "Epoch 8/100, Train Loss: 2.2266, Val Loss: 2.1294\n",
      "Epoch 9/100, Train Loss: 2.2011, Val Loss: 2.0807\n",
      "Epoch 10/100, Train Loss: 2.1655, Val Loss: 2.0221\n",
      "Epoch 11/100, Train Loss: 2.1039, Val Loss: 2.0259\n",
      "Epoch 12/100, Train Loss: 2.0968, Val Loss: 1.9988\n",
      "Epoch 13/100, Train Loss: 2.0751, Val Loss: 1.9674\n",
      "Epoch 14/100, Train Loss: 2.0598, Val Loss: 1.9476\n",
      "Epoch 15/100, Train Loss: 2.0445, Val Loss: 1.9665\n",
      "Epoch 16/100, Train Loss: 2.0313, Val Loss: 1.9244\n",
      "Epoch 17/100, Train Loss: 2.0638, Val Loss: 1.9448\n",
      "Epoch 18/100, Train Loss: 2.0616, Val Loss: 1.9537\n",
      "Epoch 19/100, Train Loss: 2.0530, Val Loss: 1.9317\n",
      "Epoch 20/100, Train Loss: 2.0473, Val Loss: 1.9018\n",
      "Epoch 21/100, Train Loss: 2.0231, Val Loss: 1.9178\n",
      "Epoch 22/100, Train Loss: 2.0473, Val Loss: 1.9472\n",
      "Epoch 23/100, Train Loss: 2.0217, Val Loss: 1.9045\n",
      "Epoch 24/100, Train Loss: 2.0160, Val Loss: 1.9203\n",
      "Epoch 25/100, Train Loss: 2.0215, Val Loss: 1.9253\n",
      "Epoch 26/100, Train Loss: 2.0335, Val Loss: 2.0723\n",
      "Epoch 27/100, Train Loss: 1.7469, Val Loss: 1.4723\n",
      "Epoch 28/100, Train Loss: 1.5143, Val Loss: 1.5910\n",
      "Epoch 29/100, Train Loss: 1.4405, Val Loss: 1.2958\n",
      "Epoch 30/100, Train Loss: 1.3392, Val Loss: 1.2754\n",
      "Epoch 31/100, Train Loss: 1.2824, Val Loss: 1.0530\n",
      "Epoch 32/100, Train Loss: 1.1803, Val Loss: 1.0477\n",
      "Epoch 33/100, Train Loss: 1.1241, Val Loss: 1.0355\n",
      "Epoch 34/100, Train Loss: 1.0992, Val Loss: 1.0141\n",
      "Epoch 35/100, Train Loss: 1.1151, Val Loss: 0.9432\n",
      "Epoch 36/100, Train Loss: 1.0623, Val Loss: 0.8753\n",
      "Epoch 37/100, Train Loss: 1.0426, Val Loss: 0.9135\n",
      "Epoch 38/100, Train Loss: 1.0200, Val Loss: 0.8203\n",
      "Epoch 39/100, Train Loss: 0.9951, Val Loss: 0.8756\n",
      "Epoch 40/100, Train Loss: 0.9909, Val Loss: 0.8047\n",
      "Epoch 41/100, Train Loss: 0.9282, Val Loss: 0.8831\n",
      "Epoch 42/100, Train Loss: 0.9486, Val Loss: 0.7683\n",
      "Epoch 43/100, Train Loss: 0.8987, Val Loss: 0.7341\n",
      "Epoch 44/100, Train Loss: 0.8526, Val Loss: 0.7547\n",
      "Epoch 45/100, Train Loss: 0.8678, Val Loss: 0.7245\n",
      "Epoch 46/100, Train Loss: 0.8354, Val Loss: 0.7105\n",
      "Epoch 47/100, Train Loss: 0.8607, Val Loss: 0.6979\n",
      "Epoch 48/100, Train Loss: 0.8116, Val Loss: 0.6835\n",
      "Epoch 49/100, Train Loss: 0.7949, Val Loss: 0.7147\n",
      "Epoch 50/100, Train Loss: 0.8106, Val Loss: 0.7739\n",
      "Epoch 51/100, Train Loss: 0.8177, Val Loss: 0.6831\n",
      "Epoch 52/100, Train Loss: 0.7798, Val Loss: 0.6674\n",
      "Epoch 53/100, Train Loss: 0.7793, Val Loss: 0.7015\n",
      "Epoch 54/100, Train Loss: 0.7925, Val Loss: 0.7033\n",
      "Epoch 55/100, Train Loss: 0.7790, Val Loss: 0.6858\n",
      "Epoch 56/100, Train Loss: 0.7834, Val Loss: 0.6775\n",
      "Epoch 57/100, Train Loss: 0.7661, Val Loss: 0.6477\n",
      "Epoch 58/100, Train Loss: 0.7618, Val Loss: 0.7499\n",
      "Epoch 59/100, Train Loss: 0.7619, Val Loss: 0.6666\n",
      "Epoch 60/100, Train Loss: 0.7536, Val Loss: 0.6287\n",
      "Epoch 61/100, Train Loss: 0.7436, Val Loss: 0.6926\n",
      "Epoch 62/100, Train Loss: 0.7356, Val Loss: 0.6691\n",
      "Epoch 63/100, Train Loss: 0.7435, Val Loss: 0.6212\n",
      "Epoch 64/100, Train Loss: 0.7347, Val Loss: 0.6873\n",
      "Epoch 65/100, Train Loss: 0.7512, Val Loss: 0.6731\n",
      "Epoch 66/100, Train Loss: 0.7362, Val Loss: 0.6669\n",
      "Epoch 67/100, Train Loss: 0.7171, Val Loss: 0.6711\n",
      "Epoch 68/100, Train Loss: 0.7214, Val Loss: 0.6275\n",
      "Epoch 69/100, Train Loss: 0.7210, Val Loss: 0.6324\n",
      "Epoch 70/100, Train Loss: 0.7109, Val Loss: 0.6481\n",
      "Epoch 71/100, Train Loss: 0.7145, Val Loss: 0.6499\n",
      "Epoch 72/100, Train Loss: 0.6935, Val Loss: 0.6271\n",
      "Epoch 73/100, Train Loss: 0.6996, Val Loss: 0.6394\n",
      "Epoch 74/100, Train Loss: 0.6911, Val Loss: 0.6388\n",
      "Epoch 75/100, Train Loss: 0.7034, Val Loss: 0.6396\n",
      "Epoch 76/100, Train Loss: 0.7042, Val Loss: 0.6311\n",
      "Epoch 77/100, Train Loss: 0.7099, Val Loss: 0.6453\n",
      "Epoch 78/100, Train Loss: 0.7055, Val Loss: 0.6387\n",
      "Epoch 79/100, Train Loss: 0.6970, Val Loss: 0.6329\n",
      "Epoch 80/100, Train Loss: 0.6954, Val Loss: 0.6850\n",
      "Epoch 81/100, Train Loss: 0.7045, Val Loss: 0.6119\n",
      "Epoch 82/100, Train Loss: 0.6822, Val Loss: 0.6529\n",
      "Epoch 83/100, Train Loss: 0.6935, Val Loss: 0.6385\n",
      "Epoch 84/100, Train Loss: 0.6913, Val Loss: 0.6510\n",
      "Epoch 85/100, Train Loss: 0.7008, Val Loss: 0.6529\n",
      "Epoch 86/100, Train Loss: 0.7100, Val Loss: 0.7047\n",
      "Epoch 87/100, Train Loss: 0.7176, Val Loss: 0.6112\n",
      "Epoch 88/100, Train Loss: 0.6977, Val Loss: 0.6153\n",
      "Epoch 89/100, Train Loss: 0.6950, Val Loss: 0.6151\n",
      "Epoch 90/100, Train Loss: 0.6707, Val Loss: 0.6195\n",
      "Epoch 91/100, Train Loss: 0.6644, Val Loss: 0.6239\n",
      "Epoch 92/100, Train Loss: 0.6710, Val Loss: 0.6553\n",
      "Epoch 93/100, Train Loss: 0.6995, Val Loss: 0.6219\n",
      "Epoch 94/100, Train Loss: 0.6734, Val Loss: 0.6185\n",
      "Epoch 95/100, Train Loss: 0.6643, Val Loss: 0.6236\n",
      "Epoch 96/100, Train Loss: 0.6881, Val Loss: 0.6277\n",
      "Epoch 97/100, Train Loss: 0.6715, Val Loss: 0.6316\n",
      "Epoch 98/100, Train Loss: 0.6667, Val Loss: 0.6027\n",
      "Epoch 99/100, Train Loss: 0.6697, Val Loss: 0.6519\n",
      "Epoch 100/100, Train Loss: 0.6686, Val Loss: 0.6236\n"
     ]
    },
    {
     "data": {
      "text/html": [],
      "text/plain": [
       "<IPython.core.display.HTML object>"
      ]
     },
     "metadata": {},
     "output_type": "display_data"
    },
    {
     "data": {
      "text/html": [
       "<br>    <style><br>        .wandb-row {<br>            display: flex;<br>            flex-direction: row;<br>            flex-wrap: wrap;<br>            justify-content: flex-start;<br>            width: 100%;<br>        }<br>        .wandb-col {<br>            display: flex;<br>            flex-direction: column;<br>            flex-basis: 100%;<br>            flex: 1;<br>            padding: 10px;<br>        }<br>    </style><br><div class=\"wandb-row\"><div class=\"wandb-col\"><h3>Run history:</h3><br/><table class=\"wandb\"><tr><td>epoch</td><td>▁▁▁▁▂▂▂▂▂▂▂▂▃▃▃▃▃▄▄▄▄▄▅▅▅▅▅▆▆▆▇▇▇▇▇▇████</td></tr><tr><td>minimax_draw_rate</td><td>▁</td></tr><tr><td>minimax_loss_rate</td><td>▁</td></tr><tr><td>minimax_score</td><td>▁</td></tr><tr><td>minimax_win_rate</td><td>▁</td></tr><tr><td>random_draw_rate</td><td>▁</td></tr><tr><td>random_loss_rate</td><td>▁</td></tr><tr><td>random_score</td><td>▁</td></tr><tr><td>random_win_rate</td><td>▁</td></tr><tr><td>train_loss</td><td>█▇▆▆▆▆▆▅▄▄▃▃▃▃▃▂▂▂▂▂▂▂▁▁▁▁▁▁▁▁▁▁▁▁▁▁▁▁▁▁</td></tr><tr><td>train_policy_loss</td><td>█▁▁▁▁▁▁▁▁▁▁▁▁▁▁▁▁▁▁▁▁▁▁▁▁▁▁▁▁▁▁▁▁▁▁▁▁▁▁▁</td></tr><tr><td>train_value_loss</td><td>█████████████▄▄▃▃▃▂▂▁▁▁▁▁▁▁▁▁▁▁▁▁▁▁▁▁▁▁▁</td></tr><tr><td>val_loss</td><td>█▇▇▇▇▆▆▆▆▆▆▄▃▂▂▂▂▂▁▁▁▁▁▂▁▁▁▁▁▁▁▁▁▁▁▁▁▁▁▁</td></tr><tr><td>val_policy_loss</td><td>█▃▃▂▂▂▁▁▁▁▁▁▁▁▁▁▁▁▁▁▁▁▁▁▁▁▁▁▁▁▁▁▁▁▁▁▁▁▁▁</td></tr><tr><td>val_value_loss</td><td>▇▇▇▇▇▇▇▇▇▇█▄▄▄▃▃▂▂▂▂▁▁▂▁▁▁▁▁▁▁▁▁▁▁▁▁▁▁▁▁</td></tr></table><br/></div><div class=\"wandb-col\"><h3>Run summary:</h3><br/><table class=\"wandb\"><tr><td>epoch</td><td>99</td></tr><tr><td>minimax_draw_rate</td><td>0.51</td></tr><tr><td>minimax_loss_rate</td><td>0.49</td></tr><tr><td>minimax_score</td><td>-0.49</td></tr><tr><td>minimax_win_rate</td><td>0</td></tr><tr><td>random_draw_rate</td><td>0.1</td></tr><tr><td>random_loss_rate</td><td>0.04</td></tr><tr><td>random_score</td><td>0.82</td></tr><tr><td>random_win_rate</td><td>0.86</td></tr><tr><td>train_loss</td><td>0.6686</td></tr><tr><td>train_policy_loss</td><td>0.60458</td></tr><tr><td>train_value_loss</td><td>0.06402</td></tr><tr><td>val_loss</td><td>0.62357</td></tr><tr><td>val_policy_loss</td><td>0.52257</td></tr><tr><td>val_value_loss</td><td>0.101</td></tr></table><br/></div></div>"
      ],
      "text/plain": [
       "<IPython.core.display.HTML object>"
      ]
     },
     "metadata": {},
     "output_type": "display_data"
    },
    {
     "data": {
      "text/html": [
       " View run <strong style=\"color:#cdcd00\">vibrant-sweep-10</strong> at: <a href='https://wandb.ai/eigenway/AlphaZero-TicTacToe/runs/wpa5v17z' target=\"_blank\">https://wandb.ai/eigenway/AlphaZero-TicTacToe/runs/wpa5v17z</a><br> View project at: <a href='https://wandb.ai/eigenway/AlphaZero-TicTacToe' target=\"_blank\">https://wandb.ai/eigenway/AlphaZero-TicTacToe</a><br>Synced 5 W&B file(s), 0 media file(s), 0 artifact file(s) and 0 other file(s)"
      ],
      "text/plain": [
       "<IPython.core.display.HTML object>"
      ]
     },
     "metadata": {},
     "output_type": "display_data"
    },
    {
     "data": {
      "text/html": [
       "Find logs at: <code>./wandb/run-20250305_220956-wpa5v17z/logs</code>"
      ],
      "text/plain": [
       "<IPython.core.display.HTML object>"
      ]
     },
     "metadata": {},
     "output_type": "display_data"
    },
    {
     "name": "stderr",
     "output_type": "stream",
     "text": [
      "\u001b[34m\u001b[1mwandb\u001b[0m: Agent Starting Run: 2x2qfqbp with config:\n",
      "\u001b[34m\u001b[1mwandb\u001b[0m: \tactivation: relu\n",
      "\u001b[34m\u001b[1mwandb\u001b[0m: \tattention_layers: 2\n",
      "\u001b[34m\u001b[1mwandb\u001b[0m: \tbatch_size: 256\n",
      "\u001b[34m\u001b[1mwandb\u001b[0m: \tdropout: 0\n",
      "\u001b[34m\u001b[1mwandb\u001b[0m: \tembed_dim: 64\n",
      "\u001b[34m\u001b[1mwandb\u001b[0m: \tepochs: 100\n",
      "\u001b[34m\u001b[1mwandb\u001b[0m: \tfeedforward_dim: 256\n",
      "\u001b[34m\u001b[1mwandb\u001b[0m: \tlearning_rate: 0.0022764431766465567\n",
      "\u001b[34m\u001b[1mwandb\u001b[0m: \tmask_illegal_moves: False\n",
      "\u001b[34m\u001b[1mwandb\u001b[0m: \tmask_value: -10\n",
      "\u001b[34m\u001b[1mwandb\u001b[0m: \tnorm_first: True\n",
      "\u001b[34m\u001b[1mwandb\u001b[0m: \tweight_decay: 0.0010462407271645015\n"
     ]
    },
    {
     "data": {
      "text/html": [
       "Ignoring project 'AlphaZero-TicTacToe' when running a sweep."
      ],
      "text/plain": [
       "<IPython.core.display.HTML object>"
      ]
     },
     "metadata": {},
     "output_type": "display_data"
    },
    {
     "data": {
      "text/html": [
       "Tracking run with wandb version 0.19.6"
      ],
      "text/plain": [
       "<IPython.core.display.HTML object>"
      ]
     },
     "metadata": {},
     "output_type": "display_data"
    },
    {
     "data": {
      "text/html": [
       "Run data is saved locally in <code>/Users/eohjelle/Documents/2025-dots-and-boxes/dots-and-boxes/wandb/run-20250305_221057-2x2qfqbp</code>"
      ],
      "text/plain": [
       "<IPython.core.display.HTML object>"
      ]
     },
     "metadata": {},
     "output_type": "display_data"
    },
    {
     "data": {
      "text/html": [
       "Syncing run <strong><a href='https://wandb.ai/eigenway/AlphaZero-TicTacToe/runs/2x2qfqbp' target=\"_blank\">vocal-sweep-11</a></strong> to <a href='https://wandb.ai/eigenway/AlphaZero-TicTacToe' target=\"_blank\">Weights & Biases</a> (<a href='https://wandb.me/developer-guide' target=\"_blank\">docs</a>)<br>Sweep page: <a href='https://wandb.ai/eigenway/AlphaZero-TicTacToe/sweeps/mtjttrrq' target=\"_blank\">https://wandb.ai/eigenway/AlphaZero-TicTacToe/sweeps/mtjttrrq</a>"
      ],
      "text/plain": [
       "<IPython.core.display.HTML object>"
      ]
     },
     "metadata": {},
     "output_type": "display_data"
    },
    {
     "data": {
      "text/html": [
       " View project at <a href='https://wandb.ai/eigenway/AlphaZero-TicTacToe' target=\"_blank\">https://wandb.ai/eigenway/AlphaZero-TicTacToe</a>"
      ],
      "text/plain": [
       "<IPython.core.display.HTML object>"
      ]
     },
     "metadata": {},
     "output_type": "display_data"
    },
    {
     "data": {
      "text/html": [
       " View sweep at <a href='https://wandb.ai/eigenway/AlphaZero-TicTacToe/sweeps/mtjttrrq' target=\"_blank\">https://wandb.ai/eigenway/AlphaZero-TicTacToe/sweeps/mtjttrrq</a>"
      ],
      "text/plain": [
       "<IPython.core.display.HTML object>"
      ]
     },
     "metadata": {},
     "output_type": "display_data"
    },
    {
     "data": {
      "text/html": [
       " View run at <a href='https://wandb.ai/eigenway/AlphaZero-TicTacToe/runs/2x2qfqbp' target=\"_blank\">https://wandb.ai/eigenway/AlphaZero-TicTacToe/runs/2x2qfqbp</a>"
      ],
      "text/plain": [
       "<IPython.core.display.HTML object>"
      ]
     },
     "metadata": {},
     "output_type": "display_data"
    },
    {
     "name": "stdout",
     "output_type": "stream",
     "text": [
      "Epoch 1/100, Train Loss: 9.3068, Val Loss: 4.9128\n",
      "Epoch 2/100, Train Loss: 3.7775, Val Loss: 3.5923\n",
      "Epoch 3/100, Train Loss: 3.3322, Val Loss: 3.3715\n",
      "Epoch 4/100, Train Loss: 3.2371, Val Loss: 3.3109\n",
      "Epoch 5/100, Train Loss: 3.1886, Val Loss: 3.2897\n",
      "Epoch 6/100, Train Loss: 3.1380, Val Loss: 3.2146\n",
      "Epoch 7/100, Train Loss: 3.0681, Val Loss: 3.2009\n",
      "Epoch 8/100, Train Loss: 3.0507, Val Loss: 3.1691\n",
      "Epoch 9/100, Train Loss: 2.9991, Val Loss: 3.1387\n",
      "Epoch 10/100, Train Loss: 3.0036, Val Loss: 3.1224\n",
      "Epoch 11/100, Train Loss: 2.9776, Val Loss: 3.1172\n",
      "Epoch 12/100, Train Loss: 2.9659, Val Loss: 3.1447\n",
      "Epoch 13/100, Train Loss: 2.9803, Val Loss: 3.1321\n",
      "Epoch 14/100, Train Loss: 2.9678, Val Loss: 3.1005\n",
      "Epoch 15/100, Train Loss: 2.9670, Val Loss: 3.1063\n",
      "Epoch 16/100, Train Loss: 2.9421, Val Loss: 3.2132\n",
      "Epoch 17/100, Train Loss: 2.9646, Val Loss: 3.1212\n",
      "Epoch 18/100, Train Loss: 2.9312, Val Loss: 3.1539\n",
      "Epoch 19/100, Train Loss: 2.9739, Val Loss: 3.1115\n",
      "Epoch 20/100, Train Loss: 2.9296, Val Loss: 3.1097\n",
      "Epoch 21/100, Train Loss: 2.9360, Val Loss: 3.0752\n",
      "Epoch 22/100, Train Loss: 2.9254, Val Loss: 3.0982\n",
      "Epoch 23/100, Train Loss: 2.9313, Val Loss: 3.1057\n",
      "Epoch 24/100, Train Loss: 2.9615, Val Loss: 3.0832\n",
      "Epoch 25/100, Train Loss: 2.9172, Val Loss: 3.0641\n",
      "Epoch 26/100, Train Loss: 2.2567, Val Loss: 2.1046\n",
      "Epoch 27/100, Train Loss: 2.0234, Val Loss: 2.1052\n",
      "Epoch 28/100, Train Loss: 1.9868, Val Loss: 2.0582\n",
      "Epoch 29/100, Train Loss: 1.9919, Val Loss: 2.0803\n",
      "Epoch 30/100, Train Loss: 2.0151, Val Loss: 2.0864\n",
      "Epoch 31/100, Train Loss: 2.0028, Val Loss: 2.0825\n",
      "Epoch 32/100, Train Loss: 1.9921, Val Loss: 2.1099\n",
      "Epoch 33/100, Train Loss: 2.0128, Val Loss: 2.0459\n",
      "Epoch 34/100, Train Loss: 1.9715, Val Loss: 2.1169\n",
      "Epoch 35/100, Train Loss: 1.9976, Val Loss: 2.0717\n",
      "Epoch 36/100, Train Loss: 1.9811, Val Loss: 2.0631\n",
      "Epoch 37/100, Train Loss: 1.9918, Val Loss: 2.0578\n",
      "Epoch 38/100, Train Loss: 1.9729, Val Loss: 2.1390\n",
      "Epoch 39/100, Train Loss: 2.0156, Val Loss: 2.1467\n",
      "Epoch 40/100, Train Loss: 2.0002, Val Loss: 2.0667\n",
      "Epoch 41/100, Train Loss: 1.9737, Val Loss: 2.0741\n",
      "Epoch 42/100, Train Loss: 1.9802, Val Loss: 2.0474\n",
      "Epoch 43/100, Train Loss: 1.9584, Val Loss: 2.0666\n",
      "Epoch 44/100, Train Loss: 1.9693, Val Loss: 2.0641\n",
      "Epoch 45/100, Train Loss: 1.9537, Val Loss: 2.0609\n",
      "Epoch 46/100, Train Loss: 1.9745, Val Loss: 2.0804\n",
      "Epoch 47/100, Train Loss: 1.9817, Val Loss: 2.0496\n",
      "Epoch 48/100, Train Loss: 1.9481, Val Loss: 2.0506\n",
      "Epoch 49/100, Train Loss: 1.9753, Val Loss: 2.0541\n",
      "Epoch 50/100, Train Loss: 1.9712, Val Loss: 2.0676\n",
      "Epoch 51/100, Train Loss: 1.9587, Val Loss: 2.0387\n",
      "Epoch 52/100, Train Loss: 1.9511, Val Loss: 2.0457\n",
      "Epoch 53/100, Train Loss: 1.9708, Val Loss: 2.0649\n",
      "Epoch 54/100, Train Loss: 1.9632, Val Loss: 2.0518\n",
      "Epoch 55/100, Train Loss: 1.9527, Val Loss: 2.0742\n",
      "Epoch 56/100, Train Loss: 1.9513, Val Loss: 2.1079\n",
      "Epoch 57/100, Train Loss: 1.9799, Val Loss: 2.0546\n",
      "Epoch 58/100, Train Loss: 1.9653, Val Loss: 2.1059\n",
      "Epoch 59/100, Train Loss: 1.9823, Val Loss: 2.1151\n",
      "Epoch 60/100, Train Loss: 1.9909, Val Loss: 2.0863\n",
      "Epoch 61/100, Train Loss: 1.9676, Val Loss: 2.0477\n",
      "Epoch 62/100, Train Loss: 1.9600, Val Loss: 2.0595\n",
      "Epoch 63/100, Train Loss: 1.9454, Val Loss: 2.0575\n",
      "Epoch 64/100, Train Loss: 1.9437, Val Loss: 2.0488\n",
      "Epoch 65/100, Train Loss: 1.9575, Val Loss: 2.0602\n",
      "Epoch 66/100, Train Loss: 1.9496, Val Loss: 2.0543\n",
      "Epoch 67/100, Train Loss: 1.9341, Val Loss: 2.0791\n",
      "Epoch 68/100, Train Loss: 1.9568, Val Loss: 2.0590\n",
      "Epoch 69/100, Train Loss: 1.9721, Val Loss: 2.0688\n",
      "Epoch 70/100, Train Loss: 1.9498, Val Loss: 2.0455\n",
      "Epoch 71/100, Train Loss: 1.9612, Val Loss: 2.0704\n",
      "Epoch 72/100, Train Loss: 1.9561, Val Loss: 2.0763\n",
      "Epoch 73/100, Train Loss: 1.9613, Val Loss: 2.0602\n",
      "Epoch 74/100, Train Loss: 1.9588, Val Loss: 2.0720\n",
      "Epoch 75/100, Train Loss: 1.9432, Val Loss: 2.0577\n",
      "Epoch 76/100, Train Loss: 1.9571, Val Loss: 2.0448\n",
      "Epoch 77/100, Train Loss: 1.9545, Val Loss: 2.0556\n",
      "Epoch 78/100, Train Loss: 1.9550, Val Loss: 2.0343\n",
      "Epoch 79/100, Train Loss: 1.9561, Val Loss: 2.0666\n",
      "Epoch 80/100, Train Loss: 1.9461, Val Loss: 2.0525\n",
      "Epoch 81/100, Train Loss: 1.9610, Val Loss: 2.0521\n",
      "Epoch 82/100, Train Loss: 1.9510, Val Loss: 2.0613\n",
      "Epoch 83/100, Train Loss: 1.9608, Val Loss: 2.0476\n",
      "Epoch 84/100, Train Loss: 1.9462, Val Loss: 2.0664\n",
      "Epoch 85/100, Train Loss: 1.9448, Val Loss: 2.0427\n",
      "Epoch 86/100, Train Loss: 1.9637, Val Loss: 2.0554\n",
      "Epoch 87/100, Train Loss: 1.9584, Val Loss: 2.0570\n",
      "Epoch 88/100, Train Loss: 1.9448, Val Loss: 2.0537\n",
      "Epoch 89/100, Train Loss: 1.9400, Val Loss: 2.0556\n",
      "Epoch 90/100, Train Loss: 1.9571, Val Loss: 2.0683\n",
      "Epoch 91/100, Train Loss: 1.9752, Val Loss: 2.0639\n",
      "Epoch 92/100, Train Loss: 1.9461, Val Loss: 2.0593\n",
      "Epoch 93/100, Train Loss: 1.9392, Val Loss: 2.0499\n",
      "Epoch 94/100, Train Loss: 1.9421, Val Loss: 1.8848\n",
      "Epoch 95/100, Train Loss: 1.5786, Val Loss: 1.6900\n",
      "Epoch 96/100, Train Loss: 1.3462, Val Loss: 1.3748\n",
      "Epoch 97/100, Train Loss: 1.1959, Val Loss: 1.1949\n",
      "Epoch 98/100, Train Loss: 1.1088, Val Loss: 1.1816\n",
      "Epoch 99/100, Train Loss: 1.0416, Val Loss: 1.1301\n",
      "Epoch 100/100, Train Loss: 0.9949, Val Loss: 1.2074\n"
     ]
    },
    {
     "data": {
      "text/html": [],
      "text/plain": [
       "<IPython.core.display.HTML object>"
      ]
     },
     "metadata": {},
     "output_type": "display_data"
    },
    {
     "data": {
      "text/html": [
       "<br>    <style><br>        .wandb-row {<br>            display: flex;<br>            flex-direction: row;<br>            flex-wrap: wrap;<br>            justify-content: flex-start;<br>            width: 100%;<br>        }<br>        .wandb-col {<br>            display: flex;<br>            flex-direction: column;<br>            flex-basis: 100%;<br>            flex: 1;<br>            padding: 10px;<br>        }<br>    </style><br><div class=\"wandb-row\"><div class=\"wandb-col\"><h3>Run history:</h3><br/><table class=\"wandb\"><tr><td>epoch</td><td>▁▁▁▂▂▂▂▂▂▂▃▃▃▃▃▃▄▄▄▄▅▅▅▅▅▅▆▆▆▆▆▇▇▇▇▇▇▇▇█</td></tr><tr><td>minimax_draw_rate</td><td>▁</td></tr><tr><td>minimax_loss_rate</td><td>▁</td></tr><tr><td>minimax_score</td><td>▁</td></tr><tr><td>minimax_win_rate</td><td>▁</td></tr><tr><td>random_draw_rate</td><td>▁</td></tr><tr><td>random_loss_rate</td><td>▁</td></tr><tr><td>random_score</td><td>▁</td></tr><tr><td>random_win_rate</td><td>▁</td></tr><tr><td>train_loss</td><td>███▇▇▇▇▇▇▇▇▅▄▄▄▄▄▄▄▄▄▄▄▄▄▄▄▄▄▄▄▄▄▄▄▄▄▄▂▁</td></tr><tr><td>train_policy_loss</td><td>█▁▁▁▁▁▁▁▁▁▁▁▁▁▁▁▁▁▁▁▁▁▁▁▁▁▁▁▁▁▁▁▁▁▁▁▁▁▁▁</td></tr><tr><td>train_value_loss</td><td>██████████████▅▄▄▄▄▄▄▄▄▄▄▄▄▄▄▄▄▄▄▄▄▄▄▄▄▁</td></tr><tr><td>val_loss</td><td>████▇▇▇▇▇▇▄▄▄▄▄▄▄▄▄▄▄▄▄▄▄▄▄▄▄▄▄▄▄▄▄▄▄▃▂▁</td></tr><tr><td>val_policy_loss</td><td>█▃▂▂▁▁▁▁▁▁▁▁▁▁▁▁▁▁▁▁▁▁▁▁▁▁▁▁▁▁▁▁▁▁▁▁▁▁▁▁</td></tr><tr><td>val_value_loss</td><td>██████████████▄▄▄▄▄▄▄▄▄▄▄▄▄▄▄▄▄▄▄▄▄▄▄▄▂▁</td></tr></table><br/></div><div class=\"wandb-col\"><h3>Run summary:</h3><br/><table class=\"wandb\"><tr><td>epoch</td><td>99</td></tr><tr><td>minimax_draw_rate</td><td>0.39</td></tr><tr><td>minimax_loss_rate</td><td>0.61</td></tr><tr><td>minimax_score</td><td>-0.61</td></tr><tr><td>minimax_win_rate</td><td>0</td></tr><tr><td>random_draw_rate</td><td>0.11</td></tr><tr><td>random_loss_rate</td><td>0.07</td></tr><tr><td>random_score</td><td>0.75</td></tr><tr><td>random_win_rate</td><td>0.82</td></tr><tr><td>train_loss</td><td>0.99494</td></tr><tr><td>train_policy_loss</td><td>0.6415</td></tr><tr><td>train_value_loss</td><td>0.35344</td></tr><tr><td>val_loss</td><td>1.20741</td></tr><tr><td>val_policy_loss</td><td>0.78247</td></tr><tr><td>val_value_loss</td><td>0.42493</td></tr></table><br/></div></div>"
      ],
      "text/plain": [
       "<IPython.core.display.HTML object>"
      ]
     },
     "metadata": {},
     "output_type": "display_data"
    },
    {
     "data": {
      "text/html": [
       " View run <strong style=\"color:#cdcd00\">vocal-sweep-11</strong> at: <a href='https://wandb.ai/eigenway/AlphaZero-TicTacToe/runs/2x2qfqbp' target=\"_blank\">https://wandb.ai/eigenway/AlphaZero-TicTacToe/runs/2x2qfqbp</a><br> View project at: <a href='https://wandb.ai/eigenway/AlphaZero-TicTacToe' target=\"_blank\">https://wandb.ai/eigenway/AlphaZero-TicTacToe</a><br>Synced 5 W&B file(s), 0 media file(s), 0 artifact file(s) and 0 other file(s)"
      ],
      "text/plain": [
       "<IPython.core.display.HTML object>"
      ]
     },
     "metadata": {},
     "output_type": "display_data"
    },
    {
     "data": {
      "text/html": [
       "Find logs at: <code>./wandb/run-20250305_221057-2x2qfqbp/logs</code>"
      ],
      "text/plain": [
       "<IPython.core.display.HTML object>"
      ]
     },
     "metadata": {},
     "output_type": "display_data"
    },
    {
     "name": "stderr",
     "output_type": "stream",
     "text": [
      "\u001b[34m\u001b[1mwandb\u001b[0m: Agent Starting Run: tkkvq3rd with config:\n",
      "\u001b[34m\u001b[1mwandb\u001b[0m: \tactivation: relu\n",
      "\u001b[34m\u001b[1mwandb\u001b[0m: \tattention_layers: 2\n",
      "\u001b[34m\u001b[1mwandb\u001b[0m: \tbatch_size: 256\n",
      "\u001b[34m\u001b[1mwandb\u001b[0m: \tdropout: 0\n",
      "\u001b[34m\u001b[1mwandb\u001b[0m: \tembed_dim: 64\n",
      "\u001b[34m\u001b[1mwandb\u001b[0m: \tepochs: 100\n",
      "\u001b[34m\u001b[1mwandb\u001b[0m: \tfeedforward_dim: 256\n",
      "\u001b[34m\u001b[1mwandb\u001b[0m: \tlearning_rate: 0.0016617797385763788\n",
      "\u001b[34m\u001b[1mwandb\u001b[0m: \tmask_illegal_moves: False\n",
      "\u001b[34m\u001b[1mwandb\u001b[0m: \tmask_value: -10\n",
      "\u001b[34m\u001b[1mwandb\u001b[0m: \tnorm_first: True\n",
      "\u001b[34m\u001b[1mwandb\u001b[0m: \tweight_decay: 0.008053828158009702\n"
     ]
    },
    {
     "data": {
      "text/html": [
       "Ignoring project 'AlphaZero-TicTacToe' when running a sweep."
      ],
      "text/plain": [
       "<IPython.core.display.HTML object>"
      ]
     },
     "metadata": {},
     "output_type": "display_data"
    },
    {
     "data": {
      "text/html": [
       "Tracking run with wandb version 0.19.6"
      ],
      "text/plain": [
       "<IPython.core.display.HTML object>"
      ]
     },
     "metadata": {},
     "output_type": "display_data"
    },
    {
     "data": {
      "text/html": [
       "Run data is saved locally in <code>/Users/eohjelle/Documents/2025-dots-and-boxes/dots-and-boxes/wandb/run-20250305_221148-tkkvq3rd</code>"
      ],
      "text/plain": [
       "<IPython.core.display.HTML object>"
      ]
     },
     "metadata": {},
     "output_type": "display_data"
    },
    {
     "data": {
      "text/html": [
       "Syncing run <strong><a href='https://wandb.ai/eigenway/AlphaZero-TicTacToe/runs/tkkvq3rd' target=\"_blank\">effortless-sweep-12</a></strong> to <a href='https://wandb.ai/eigenway/AlphaZero-TicTacToe' target=\"_blank\">Weights & Biases</a> (<a href='https://wandb.me/developer-guide' target=\"_blank\">docs</a>)<br>Sweep page: <a href='https://wandb.ai/eigenway/AlphaZero-TicTacToe/sweeps/mtjttrrq' target=\"_blank\">https://wandb.ai/eigenway/AlphaZero-TicTacToe/sweeps/mtjttrrq</a>"
      ],
      "text/plain": [
       "<IPython.core.display.HTML object>"
      ]
     },
     "metadata": {},
     "output_type": "display_data"
    },
    {
     "data": {
      "text/html": [
       " View project at <a href='https://wandb.ai/eigenway/AlphaZero-TicTacToe' target=\"_blank\">https://wandb.ai/eigenway/AlphaZero-TicTacToe</a>"
      ],
      "text/plain": [
       "<IPython.core.display.HTML object>"
      ]
     },
     "metadata": {},
     "output_type": "display_data"
    },
    {
     "data": {
      "text/html": [
       " View sweep at <a href='https://wandb.ai/eigenway/AlphaZero-TicTacToe/sweeps/mtjttrrq' target=\"_blank\">https://wandb.ai/eigenway/AlphaZero-TicTacToe/sweeps/mtjttrrq</a>"
      ],
      "text/plain": [
       "<IPython.core.display.HTML object>"
      ]
     },
     "metadata": {},
     "output_type": "display_data"
    },
    {
     "data": {
      "text/html": [
       " View run at <a href='https://wandb.ai/eigenway/AlphaZero-TicTacToe/runs/tkkvq3rd' target=\"_blank\">https://wandb.ai/eigenway/AlphaZero-TicTacToe/runs/tkkvq3rd</a>"
      ],
      "text/plain": [
       "<IPython.core.display.HTML object>"
      ]
     },
     "metadata": {},
     "output_type": "display_data"
    },
    {
     "name": "stdout",
     "output_type": "stream",
     "text": [
      "Epoch 1/100, Train Loss: 8.2678, Val Loss: 3.4867\n",
      "Epoch 2/100, Train Loss: 2.7961, Val Loss: 2.3456\n",
      "Epoch 3/100, Train Loss: 2.4067, Val Loss: 2.3178\n",
      "Epoch 4/100, Train Loss: 2.3586, Val Loss: 2.1655\n",
      "Epoch 5/100, Train Loss: 2.3453, Val Loss: 2.1649\n",
      "Epoch 6/100, Train Loss: 2.2941, Val Loss: 2.1738\n",
      "Epoch 7/100, Train Loss: 2.2961, Val Loss: 2.1211\n",
      "Epoch 8/100, Train Loss: 2.2253, Val Loss: 2.0696\n",
      "Epoch 9/100, Train Loss: 2.2015, Val Loss: 2.0496\n",
      "Epoch 10/100, Train Loss: 2.1701, Val Loss: 2.0227\n",
      "Epoch 11/100, Train Loss: 2.1195, Val Loss: 2.0284\n",
      "Epoch 12/100, Train Loss: 1.9986, Val Loss: 1.8701\n",
      "Epoch 13/100, Train Loss: 1.8448, Val Loss: 1.7154\n",
      "Epoch 14/100, Train Loss: 1.7159, Val Loss: 1.9001\n",
      "Epoch 15/100, Train Loss: 1.5793, Val Loss: 1.4796\n",
      "Epoch 16/100, Train Loss: 1.5302, Val Loss: 1.6513\n",
      "Epoch 17/100, Train Loss: 1.6098, Val Loss: 1.4463\n",
      "Epoch 18/100, Train Loss: 1.5149, Val Loss: 1.9061\n",
      "Epoch 19/100, Train Loss: 1.5676, Val Loss: 1.4928\n",
      "Epoch 20/100, Train Loss: 1.4407, Val Loss: 1.4269\n",
      "Epoch 21/100, Train Loss: 1.3940, Val Loss: 1.4131\n",
      "Epoch 22/100, Train Loss: 1.4657, Val Loss: 1.3535\n",
      "Epoch 23/100, Train Loss: 1.3549, Val Loss: 1.3321\n",
      "Epoch 24/100, Train Loss: 1.2180, Val Loss: 1.2413\n",
      "Epoch 25/100, Train Loss: 1.2195, Val Loss: 1.3223\n",
      "Epoch 26/100, Train Loss: 1.2093, Val Loss: 1.2210\n",
      "Epoch 27/100, Train Loss: 1.1565, Val Loss: 1.4373\n",
      "Epoch 28/100, Train Loss: 1.2932, Val Loss: 1.4531\n",
      "Epoch 29/100, Train Loss: 1.1417, Val Loss: 1.1344\n",
      "Epoch 30/100, Train Loss: 1.0537, Val Loss: 1.1835\n",
      "Epoch 31/100, Train Loss: 1.0895, Val Loss: 1.1911\n",
      "Epoch 32/100, Train Loss: 1.0642, Val Loss: 1.0635\n",
      "Epoch 33/100, Train Loss: 0.9847, Val Loss: 1.0870\n",
      "Epoch 34/100, Train Loss: 1.0146, Val Loss: 1.0167\n",
      "Epoch 35/100, Train Loss: 0.9833, Val Loss: 1.0087\n",
      "Epoch 36/100, Train Loss: 0.9768, Val Loss: 1.0094\n",
      "Epoch 37/100, Train Loss: 0.9489, Val Loss: 1.2258\n",
      "Epoch 38/100, Train Loss: 0.9754, Val Loss: 0.9988\n",
      "Epoch 39/100, Train Loss: 0.9274, Val Loss: 1.0028\n",
      "Epoch 40/100, Train Loss: 0.9543, Val Loss: 1.1925\n",
      "Epoch 41/100, Train Loss: 1.0024, Val Loss: 1.1557\n",
      "Epoch 42/100, Train Loss: 0.9018, Val Loss: 0.9413\n",
      "Epoch 43/100, Train Loss: 0.8842, Val Loss: 0.9580\n",
      "Epoch 44/100, Train Loss: 0.9239, Val Loss: 1.0076\n",
      "Epoch 45/100, Train Loss: 0.9233, Val Loss: 1.1011\n",
      "Epoch 46/100, Train Loss: 0.8950, Val Loss: 0.9597\n",
      "Epoch 47/100, Train Loss: 0.8850, Val Loss: 0.9535\n",
      "Epoch 48/100, Train Loss: 0.8857, Val Loss: 0.9978\n",
      "Epoch 49/100, Train Loss: 0.8580, Val Loss: 0.9310\n",
      "Epoch 50/100, Train Loss: 0.8495, Val Loss: 0.9867\n",
      "Epoch 51/100, Train Loss: 0.8633, Val Loss: 0.8998\n",
      "Epoch 52/100, Train Loss: 0.8599, Val Loss: 0.9732\n",
      "Epoch 53/100, Train Loss: 0.8679, Val Loss: 0.9210\n",
      "Epoch 54/100, Train Loss: 0.8569, Val Loss: 0.9950\n",
      "Epoch 55/100, Train Loss: 0.9010, Val Loss: 0.9327\n",
      "Epoch 56/100, Train Loss: 0.8715, Val Loss: 0.9400\n",
      "Epoch 57/100, Train Loss: 0.8388, Val Loss: 0.9322\n",
      "Epoch 58/100, Train Loss: 0.8180, Val Loss: 0.9093\n",
      "Epoch 59/100, Train Loss: 0.8365, Val Loss: 0.9042\n",
      "Epoch 60/100, Train Loss: 0.8248, Val Loss: 0.8929\n",
      "Epoch 61/100, Train Loss: 0.8691, Val Loss: 1.0193\n",
      "Epoch 62/100, Train Loss: 0.8666, Val Loss: 0.8945\n",
      "Epoch 63/100, Train Loss: 0.8156, Val Loss: 0.8933\n",
      "Epoch 64/100, Train Loss: 0.8099, Val Loss: 0.8750\n",
      "Epoch 65/100, Train Loss: 0.8261, Val Loss: 0.9289\n",
      "Epoch 66/100, Train Loss: 0.8153, Val Loss: 1.0303\n",
      "Epoch 67/100, Train Loss: 0.8226, Val Loss: 0.8815\n",
      "Epoch 68/100, Train Loss: 0.8071, Val Loss: 0.8947\n",
      "Epoch 69/100, Train Loss: 0.8209, Val Loss: 0.9201\n",
      "Epoch 70/100, Train Loss: 0.8228, Val Loss: 0.9053\n",
      "Epoch 71/100, Train Loss: 0.7991, Val Loss: 0.8829\n",
      "Epoch 72/100, Train Loss: 0.7896, Val Loss: 0.8805\n",
      "Epoch 73/100, Train Loss: 0.8297, Val Loss: 0.9552\n",
      "Epoch 74/100, Train Loss: 0.8509, Val Loss: 0.9941\n",
      "Epoch 75/100, Train Loss: 0.9342, Val Loss: 1.0119\n",
      "Epoch 76/100, Train Loss: 0.8186, Val Loss: 0.8951\n",
      "Epoch 77/100, Train Loss: 0.8089, Val Loss: 0.8826\n",
      "Epoch 78/100, Train Loss: 0.7923, Val Loss: 0.8696\n",
      "Epoch 79/100, Train Loss: 0.7908, Val Loss: 0.8485\n",
      "Epoch 80/100, Train Loss: 0.7925, Val Loss: 0.8999\n",
      "Epoch 81/100, Train Loss: 0.8097, Val Loss: 1.1454\n",
      "Epoch 82/100, Train Loss: 0.8847, Val Loss: 0.9256\n",
      "Epoch 83/100, Train Loss: 0.8156, Val Loss: 0.9093\n",
      "Epoch 84/100, Train Loss: 0.7946, Val Loss: 0.9169\n",
      "Epoch 85/100, Train Loss: 0.7988, Val Loss: 0.8633\n",
      "Epoch 86/100, Train Loss: 0.8008, Val Loss: 0.8805\n",
      "Epoch 87/100, Train Loss: 0.7955, Val Loss: 0.9727\n",
      "Epoch 88/100, Train Loss: 0.8458, Val Loss: 0.8840\n",
      "Epoch 89/100, Train Loss: 0.8224, Val Loss: 0.9056\n",
      "Epoch 90/100, Train Loss: 0.7978, Val Loss: 0.8483\n",
      "Epoch 91/100, Train Loss: 0.7877, Val Loss: 0.8459\n",
      "Epoch 92/100, Train Loss: 0.7875, Val Loss: 0.8788\n",
      "Epoch 93/100, Train Loss: 0.7838, Val Loss: 0.8771\n",
      "Epoch 94/100, Train Loss: 0.8013, Val Loss: 1.0059\n",
      "Epoch 95/100, Train Loss: 0.8082, Val Loss: 0.8586\n",
      "Epoch 96/100, Train Loss: 0.7964, Val Loss: 0.8940\n",
      "Epoch 97/100, Train Loss: 0.7879, Val Loss: 0.8664\n",
      "Epoch 98/100, Train Loss: 0.7907, Val Loss: 0.9425\n",
      "Epoch 99/100, Train Loss: 0.8044, Val Loss: 0.8407\n",
      "Epoch 100/100, Train Loss: 0.7807, Val Loss: 0.8483\n"
     ]
    },
    {
     "data": {
      "text/html": [],
      "text/plain": [
       "<IPython.core.display.HTML object>"
      ]
     },
     "metadata": {},
     "output_type": "display_data"
    },
    {
     "data": {
      "text/html": [
       "<br>    <style><br>        .wandb-row {<br>            display: flex;<br>            flex-direction: row;<br>            flex-wrap: wrap;<br>            justify-content: flex-start;<br>            width: 100%;<br>        }<br>        .wandb-col {<br>            display: flex;<br>            flex-direction: column;<br>            flex-basis: 100%;<br>            flex: 1;<br>            padding: 10px;<br>        }<br>    </style><br><div class=\"wandb-row\"><div class=\"wandb-col\"><h3>Run history:</h3><br/><table class=\"wandb\"><tr><td>epoch</td><td>▁▁▁▁▁▂▂▂▂▂▂▃▃▃▃▃▄▄▄▄▅▅▅▆▆▆▆▆▆▆▆▆▇▇▇▇▇▇██</td></tr><tr><td>minimax_draw_rate</td><td>▁</td></tr><tr><td>minimax_loss_rate</td><td>▁</td></tr><tr><td>minimax_score</td><td>▁</td></tr><tr><td>minimax_win_rate</td><td>▁</td></tr><tr><td>random_draw_rate</td><td>▁</td></tr><tr><td>random_loss_rate</td><td>▁</td></tr><tr><td>random_score</td><td>▁</td></tr><tr><td>random_win_rate</td><td>▁</td></tr><tr><td>train_loss</td><td>██▇▅▅▄▅▄▄▄▂▂▂▂▂▂▂▂▁▁▁▂▁▁▁▁▁▁▁▁▁▁▁▁▁▁▁▁▁▁</td></tr><tr><td>train_policy_loss</td><td>█▇▆▆▄▄▄▃▃▂▂▂▂▂▂▁▁▁▂▁▁▁▁▁▁▁▁▁▁▁▁▁▁▁▁▁▁▁▁▁</td></tr><tr><td>train_value_loss</td><td>███▇▆▅▅▅▄▅▃▄▃▂▂▂▂▂▂▁▂▁▁▁▁▁▁▁▁▁▁▂▁▁▁▁▁▁▁▁</td></tr><tr><td>val_loss</td><td>█▇▇▇▆▄▅▆▄▄▄▂▃▃▂▃▂▂▂▂▁▁▁▁▁▁▁▂▁▁▂▁▁▁▁▁▁▁▁▁</td></tr><tr><td>val_policy_loss</td><td>█▃▃▂▂▂▁▁▁▁▁▁▁▁▁▁▁▁▁▁▁▁▁▁▁▁▁▁▁▁▁▁▁▁▁▁▁▁▁▁</td></tr><tr><td>val_value_loss</td><td>██████▇▇▆▄▅▄▅▅▃▂▃▂▂▁▂▃▂▁▂▁▁▁▁▁▁▁▁▁▁▁▁▁▁▁</td></tr></table><br/></div><div class=\"wandb-col\"><h3>Run summary:</h3><br/><table class=\"wandb\"><tr><td>epoch</td><td>99</td></tr><tr><td>minimax_draw_rate</td><td>0.38</td></tr><tr><td>minimax_loss_rate</td><td>0.62</td></tr><tr><td>minimax_score</td><td>-0.62</td></tr><tr><td>minimax_win_rate</td><td>0</td></tr><tr><td>random_draw_rate</td><td>0.07</td></tr><tr><td>random_loss_rate</td><td>0.09</td></tr><tr><td>random_score</td><td>0.75</td></tr><tr><td>random_win_rate</td><td>0.84</td></tr><tr><td>train_loss</td><td>0.78072</td></tr><tr><td>train_policy_loss</td><td>0.65206</td></tr><tr><td>train_value_loss</td><td>0.12866</td></tr><tr><td>val_loss</td><td>0.84835</td></tr><tr><td>val_policy_loss</td><td>0.71369</td></tr><tr><td>val_value_loss</td><td>0.13466</td></tr></table><br/></div></div>"
      ],
      "text/plain": [
       "<IPython.core.display.HTML object>"
      ]
     },
     "metadata": {},
     "output_type": "display_data"
    },
    {
     "data": {
      "text/html": [
       " View run <strong style=\"color:#cdcd00\">effortless-sweep-12</strong> at: <a href='https://wandb.ai/eigenway/AlphaZero-TicTacToe/runs/tkkvq3rd' target=\"_blank\">https://wandb.ai/eigenway/AlphaZero-TicTacToe/runs/tkkvq3rd</a><br> View project at: <a href='https://wandb.ai/eigenway/AlphaZero-TicTacToe' target=\"_blank\">https://wandb.ai/eigenway/AlphaZero-TicTacToe</a><br>Synced 5 W&B file(s), 0 media file(s), 0 artifact file(s) and 0 other file(s)"
      ],
      "text/plain": [
       "<IPython.core.display.HTML object>"
      ]
     },
     "metadata": {},
     "output_type": "display_data"
    },
    {
     "data": {
      "text/html": [
       "Find logs at: <code>./wandb/run-20250305_221148-tkkvq3rd/logs</code>"
      ],
      "text/plain": [
       "<IPython.core.display.HTML object>"
      ]
     },
     "metadata": {},
     "output_type": "display_data"
    },
    {
     "name": "stderr",
     "output_type": "stream",
     "text": [
      "\u001b[34m\u001b[1mwandb\u001b[0m: Agent Starting Run: qnzytvjh with config:\n",
      "\u001b[34m\u001b[1mwandb\u001b[0m: \tactivation: relu\n",
      "\u001b[34m\u001b[1mwandb\u001b[0m: \tattention_layers: 2\n",
      "\u001b[34m\u001b[1mwandb\u001b[0m: \tbatch_size: 256\n",
      "\u001b[34m\u001b[1mwandb\u001b[0m: \tdropout: 0\n",
      "\u001b[34m\u001b[1mwandb\u001b[0m: \tembed_dim: 64\n",
      "\u001b[34m\u001b[1mwandb\u001b[0m: \tepochs: 100\n",
      "\u001b[34m\u001b[1mwandb\u001b[0m: \tfeedforward_dim: 256\n",
      "\u001b[34m\u001b[1mwandb\u001b[0m: \tlearning_rate: 0.007389485735414185\n",
      "\u001b[34m\u001b[1mwandb\u001b[0m: \tmask_illegal_moves: False\n",
      "\u001b[34m\u001b[1mwandb\u001b[0m: \tmask_value: -10\n",
      "\u001b[34m\u001b[1mwandb\u001b[0m: \tnorm_first: True\n",
      "\u001b[34m\u001b[1mwandb\u001b[0m: \tweight_decay: 0.001990704081334658\n"
     ]
    },
    {
     "data": {
      "text/html": [
       "Ignoring project 'AlphaZero-TicTacToe' when running a sweep."
      ],
      "text/plain": [
       "<IPython.core.display.HTML object>"
      ]
     },
     "metadata": {},
     "output_type": "display_data"
    },
    {
     "data": {
      "text/html": [
       "Tracking run with wandb version 0.19.6"
      ],
      "text/plain": [
       "<IPython.core.display.HTML object>"
      ]
     },
     "metadata": {},
     "output_type": "display_data"
    },
    {
     "data": {
      "text/html": [
       "Run data is saved locally in <code>/Users/eohjelle/Documents/2025-dots-and-boxes/dots-and-boxes/wandb/run-20250305_221249-qnzytvjh</code>"
      ],
      "text/plain": [
       "<IPython.core.display.HTML object>"
      ]
     },
     "metadata": {},
     "output_type": "display_data"
    },
    {
     "data": {
      "text/html": [
       "Syncing run <strong><a href='https://wandb.ai/eigenway/AlphaZero-TicTacToe/runs/qnzytvjh' target=\"_blank\">generous-sweep-13</a></strong> to <a href='https://wandb.ai/eigenway/AlphaZero-TicTacToe' target=\"_blank\">Weights & Biases</a> (<a href='https://wandb.me/developer-guide' target=\"_blank\">docs</a>)<br>Sweep page: <a href='https://wandb.ai/eigenway/AlphaZero-TicTacToe/sweeps/mtjttrrq' target=\"_blank\">https://wandb.ai/eigenway/AlphaZero-TicTacToe/sweeps/mtjttrrq</a>"
      ],
      "text/plain": [
       "<IPython.core.display.HTML object>"
      ]
     },
     "metadata": {},
     "output_type": "display_data"
    },
    {
     "data": {
      "text/html": [
       " View project at <a href='https://wandb.ai/eigenway/AlphaZero-TicTacToe' target=\"_blank\">https://wandb.ai/eigenway/AlphaZero-TicTacToe</a>"
      ],
      "text/plain": [
       "<IPython.core.display.HTML object>"
      ]
     },
     "metadata": {},
     "output_type": "display_data"
    },
    {
     "data": {
      "text/html": [
       " View sweep at <a href='https://wandb.ai/eigenway/AlphaZero-TicTacToe/sweeps/mtjttrrq' target=\"_blank\">https://wandb.ai/eigenway/AlphaZero-TicTacToe/sweeps/mtjttrrq</a>"
      ],
      "text/plain": [
       "<IPython.core.display.HTML object>"
      ]
     },
     "metadata": {},
     "output_type": "display_data"
    },
    {
     "data": {
      "text/html": [
       " View run at <a href='https://wandb.ai/eigenway/AlphaZero-TicTacToe/runs/qnzytvjh' target=\"_blank\">https://wandb.ai/eigenway/AlphaZero-TicTacToe/runs/qnzytvjh</a>"
      ],
      "text/plain": [
       "<IPython.core.display.HTML object>"
      ]
     },
     "metadata": {},
     "output_type": "display_data"
    },
    {
     "name": "stdout",
     "output_type": "stream",
     "text": [
      "Epoch 1/100, Train Loss: 13.0143, Val Loss: 4.3739\n",
      "Epoch 2/100, Train Loss: 3.6614, Val Loss: 3.0576\n",
      "Epoch 3/100, Train Loss: 2.9543, Val Loss: 2.7310\n",
      "Epoch 4/100, Train Loss: 2.7254, Val Loss: 2.6007\n",
      "Epoch 5/100, Train Loss: 2.5821, Val Loss: 2.4762\n",
      "Epoch 6/100, Train Loss: 2.4746, Val Loss: 2.3916\n",
      "Epoch 7/100, Train Loss: 2.3957, Val Loss: 2.3087\n",
      "Epoch 8/100, Train Loss: 2.3751, Val Loss: 2.2809\n",
      "Epoch 9/100, Train Loss: 2.3647, Val Loss: 2.3000\n",
      "Epoch 10/100, Train Loss: 2.3446, Val Loss: 2.2537\n",
      "Epoch 11/100, Train Loss: 2.3261, Val Loss: 2.2177\n",
      "Epoch 12/100, Train Loss: 2.2493, Val Loss: 2.1509\n",
      "Epoch 13/100, Train Loss: 2.2032, Val Loss: 2.1253\n",
      "Epoch 14/100, Train Loss: 2.1966, Val Loss: 2.1260\n",
      "Epoch 15/100, Train Loss: 2.1692, Val Loss: 2.0705\n",
      "Epoch 16/100, Train Loss: 2.1548, Val Loss: 2.0548\n",
      "Epoch 17/100, Train Loss: 2.1754, Val Loss: 2.2019\n",
      "Epoch 18/100, Train Loss: 2.1994, Val Loss: 2.1752\n",
      "Epoch 19/100, Train Loss: 2.1600, Val Loss: 2.0984\n",
      "Epoch 20/100, Train Loss: 2.1150, Val Loss: 2.0231\n",
      "Epoch 21/100, Train Loss: 2.0922, Val Loss: 2.0205\n",
      "Epoch 22/100, Train Loss: 2.0855, Val Loss: 2.0478\n",
      "Epoch 23/100, Train Loss: 2.0763, Val Loss: 2.0171\n",
      "Epoch 24/100, Train Loss: 2.0746, Val Loss: 1.9967\n",
      "Epoch 25/100, Train Loss: 2.0592, Val Loss: 2.0473\n",
      "Epoch 26/100, Train Loss: 2.0885, Val Loss: 2.0174\n",
      "Epoch 27/100, Train Loss: 2.0411, Val Loss: 2.0681\n",
      "Epoch 28/100, Train Loss: 2.0598, Val Loss: 1.9638\n",
      "Epoch 29/100, Train Loss: 2.0484, Val Loss: 2.0363\n",
      "Epoch 30/100, Train Loss: 2.0883, Val Loss: 2.0098\n",
      "Epoch 31/100, Train Loss: 2.0691, Val Loss: 2.0033\n",
      "Epoch 32/100, Train Loss: 2.0350, Val Loss: 1.9828\n",
      "Epoch 33/100, Train Loss: 2.0358, Val Loss: 2.0346\n",
      "Epoch 34/100, Train Loss: 2.0418, Val Loss: 2.0265\n",
      "Epoch 35/100, Train Loss: 2.0655, Val Loss: 2.0825\n",
      "Epoch 36/100, Train Loss: 2.0743, Val Loss: 1.9764\n",
      "Epoch 37/100, Train Loss: 2.0577, Val Loss: 1.9792\n",
      "Epoch 38/100, Train Loss: 2.0553, Val Loss: 2.0255\n",
      "Epoch 39/100, Train Loss: 2.0560, Val Loss: 1.9741\n",
      "Epoch 40/100, Train Loss: 2.0605, Val Loss: 2.1125\n",
      "Epoch 41/100, Train Loss: 2.0827, Val Loss: 1.9855\n",
      "Epoch 42/100, Train Loss: 2.0551, Val Loss: 2.0048\n",
      "Epoch 43/100, Train Loss: 1.9684, Val Loss: 2.2635\n",
      "Epoch 44/100, Train Loss: 1.7315, Val Loss: 1.6989\n",
      "Epoch 45/100, Train Loss: 1.5951, Val Loss: 1.7838\n",
      "Epoch 46/100, Train Loss: 1.4678, Val Loss: 1.3677\n",
      "Epoch 47/100, Train Loss: 1.3234, Val Loss: 1.4799\n",
      "Epoch 48/100, Train Loss: 1.1897, Val Loss: 1.2560\n",
      "Epoch 49/100, Train Loss: 1.1151, Val Loss: 1.2890\n",
      "Epoch 50/100, Train Loss: 1.0844, Val Loss: 1.2003\n",
      "Epoch 51/100, Train Loss: 1.0740, Val Loss: 1.1292\n",
      "Epoch 52/100, Train Loss: 1.0184, Val Loss: 1.2200\n",
      "Epoch 53/100, Train Loss: 1.0379, Val Loss: 1.2244\n",
      "Epoch 54/100, Train Loss: 0.9871, Val Loss: 1.1039\n",
      "Epoch 55/100, Train Loss: 0.9830, Val Loss: 1.1621\n",
      "Epoch 56/100, Train Loss: 1.0203, Val Loss: 1.1427\n",
      "Epoch 57/100, Train Loss: 0.9671, Val Loss: 1.0800\n",
      "Epoch 58/100, Train Loss: 0.8975, Val Loss: 1.1186\n",
      "Epoch 59/100, Train Loss: 0.9129, Val Loss: 1.0790\n",
      "Epoch 60/100, Train Loss: 0.9088, Val Loss: 1.4235\n",
      "Epoch 61/100, Train Loss: 0.9539, Val Loss: 1.0365\n",
      "Epoch 62/100, Train Loss: 0.8851, Val Loss: 1.0483\n",
      "Epoch 63/100, Train Loss: 0.8625, Val Loss: 1.0192\n",
      "Epoch 64/100, Train Loss: 0.8852, Val Loss: 1.2447\n",
      "Epoch 65/100, Train Loss: 0.9652, Val Loss: 1.2142\n",
      "Epoch 66/100, Train Loss: 0.9459, Val Loss: 1.0855\n",
      "Epoch 67/100, Train Loss: 0.9348, Val Loss: 1.1121\n",
      "Epoch 68/100, Train Loss: 0.8952, Val Loss: 1.0019\n",
      "Epoch 69/100, Train Loss: 0.8521, Val Loss: 1.1123\n",
      "Epoch 70/100, Train Loss: 0.9349, Val Loss: 1.0584\n",
      "Epoch 71/100, Train Loss: 0.8550, Val Loss: 1.0437\n",
      "Epoch 72/100, Train Loss: 0.8242, Val Loss: 1.0048\n",
      "Epoch 73/100, Train Loss: 0.8133, Val Loss: 1.0073\n",
      "Epoch 74/100, Train Loss: 0.8277, Val Loss: 0.9718\n",
      "Epoch 75/100, Train Loss: 0.8613, Val Loss: 1.0030\n",
      "Epoch 76/100, Train Loss: 0.8585, Val Loss: 1.1441\n",
      "Epoch 77/100, Train Loss: 0.8636, Val Loss: 1.0673\n",
      "Epoch 78/100, Train Loss: 0.8160, Val Loss: 1.0273\n",
      "Epoch 79/100, Train Loss: 0.8219, Val Loss: 0.9862\n",
      "Epoch 80/100, Train Loss: 0.8039, Val Loss: 1.0294\n",
      "Epoch 81/100, Train Loss: 0.8088, Val Loss: 1.0873\n",
      "Epoch 82/100, Train Loss: 0.8211, Val Loss: 0.9857\n",
      "Epoch 83/100, Train Loss: 0.8486, Val Loss: 0.9967\n",
      "Epoch 84/100, Train Loss: 0.8143, Val Loss: 0.9923\n",
      "Epoch 85/100, Train Loss: 0.8297, Val Loss: 0.9816\n",
      "Epoch 86/100, Train Loss: 0.8473, Val Loss: 1.0547\n",
      "Epoch 87/100, Train Loss: 0.8177, Val Loss: 0.9859\n",
      "Epoch 88/100, Train Loss: 0.7953, Val Loss: 1.0226\n",
      "Epoch 89/100, Train Loss: 0.8329, Val Loss: 0.9603\n",
      "Epoch 90/100, Train Loss: 0.8008, Val Loss: 0.9472\n",
      "Epoch 91/100, Train Loss: 0.8343, Val Loss: 1.0381\n",
      "Epoch 92/100, Train Loss: 0.8063, Val Loss: 0.9872\n",
      "Epoch 93/100, Train Loss: 0.8004, Val Loss: 0.9471\n",
      "Epoch 94/100, Train Loss: 0.7918, Val Loss: 1.0537\n",
      "Epoch 95/100, Train Loss: 0.8030, Val Loss: 0.9716\n",
      "Epoch 96/100, Train Loss: 0.7665, Val Loss: 1.0123\n",
      "Epoch 97/100, Train Loss: 0.7837, Val Loss: 0.9821\n",
      "Epoch 98/100, Train Loss: 0.7918, Val Loss: 0.9681\n",
      "Epoch 99/100, Train Loss: 0.8025, Val Loss: 0.9914\n",
      "Epoch 100/100, Train Loss: 0.7801, Val Loss: 0.9050\n"
     ]
    },
    {
     "data": {
      "text/html": [],
      "text/plain": [
       "<IPython.core.display.HTML object>"
      ]
     },
     "metadata": {},
     "output_type": "display_data"
    },
    {
     "data": {
      "text/html": [
       "<br>    <style><br>        .wandb-row {<br>            display: flex;<br>            flex-direction: row;<br>            flex-wrap: wrap;<br>            justify-content: flex-start;<br>            width: 100%;<br>        }<br>        .wandb-col {<br>            display: flex;<br>            flex-direction: column;<br>            flex-basis: 100%;<br>            flex: 1;<br>            padding: 10px;<br>        }<br>    </style><br><div class=\"wandb-row\"><div class=\"wandb-col\"><h3>Run history:</h3><br/><table class=\"wandb\"><tr><td>epoch</td><td>▁▁▁▁▂▂▂▂▂▂▃▃▃▃▃▃▄▄▄▄▄▄▅▅▅▅▅▅▅▆▆▆▇▇▇▇▇███</td></tr><tr><td>minimax_draw_rate</td><td>▁</td></tr><tr><td>minimax_loss_rate</td><td>▁</td></tr><tr><td>minimax_score</td><td>▁</td></tr><tr><td>minimax_win_rate</td><td>▁</td></tr><tr><td>random_draw_rate</td><td>▁</td></tr><tr><td>random_loss_rate</td><td>▁</td></tr><tr><td>random_score</td><td>▁</td></tr><tr><td>random_win_rate</td><td>▁</td></tr><tr><td>train_loss</td><td>█▃▂▂▂▂▂▂▂▂▂▂▂▂▂▂▂▂▂▂▂▂▁▁▁▁▁▁▁▁▁▁▁▁▁▁▁▁▁▁</td></tr><tr><td>train_policy_loss</td><td>█▄▃▃▃▂▂▂▂▂▁▁▁▁▁▁▁▁▁▁▁▁▁▁▁▁▁▁▁▁▁▁▁▁▁▁▁▁▁▁</td></tr><tr><td>train_value_loss</td><td>█████████████████▇▅▄▃▂▂▂▂▂▂▁▁▁▁▁▁▁▁▁▁▁▁▁</td></tr><tr><td>val_loss</td><td>█▅▅▄▄▄▃▃▃▄▃▃▃▃▃▃▃▃▃▄▂▂▁▁▁▁▁▁▁▁▁▁▁▁▁▁▁▁▁▁</td></tr><tr><td>val_policy_loss</td><td>█▇▆▅▄▂▃▂▂▂▁▂▂▁▃▁▂▂▁▁▁▁▁▂▁▁▂▁▁▁▁▁▁▁▁▁▁▁▂▁</td></tr><tr><td>val_value_loss</td><td>▇▇▇▇▇▇▇▇▇▇▇▇▇▇▇▇▇▇█▅▃▃▂▂▂▂▂▂▁▁▂▁▂▁▁▁▂▁▁▁</td></tr></table><br/></div><div class=\"wandb-col\"><h3>Run summary:</h3><br/><table class=\"wandb\"><tr><td>epoch</td><td>99</td></tr><tr><td>minimax_draw_rate</td><td>0.44</td></tr><tr><td>minimax_loss_rate</td><td>0.56</td></tr><tr><td>minimax_score</td><td>-0.56</td></tr><tr><td>minimax_win_rate</td><td>0</td></tr><tr><td>random_draw_rate</td><td>0.13</td></tr><tr><td>random_loss_rate</td><td>0.07</td></tr><tr><td>random_score</td><td>0.73</td></tr><tr><td>random_win_rate</td><td>0.8</td></tr><tr><td>train_loss</td><td>0.78008</td></tr><tr><td>train_policy_loss</td><td>0.63646</td></tr><tr><td>train_value_loss</td><td>0.14362</td></tr><tr><td>val_loss</td><td>0.90502</td></tr><tr><td>val_policy_loss</td><td>0.7848</td></tr><tr><td>val_value_loss</td><td>0.12023</td></tr></table><br/></div></div>"
      ],
      "text/plain": [
       "<IPython.core.display.HTML object>"
      ]
     },
     "metadata": {},
     "output_type": "display_data"
    },
    {
     "data": {
      "text/html": [
       " View run <strong style=\"color:#cdcd00\">generous-sweep-13</strong> at: <a href='https://wandb.ai/eigenway/AlphaZero-TicTacToe/runs/qnzytvjh' target=\"_blank\">https://wandb.ai/eigenway/AlphaZero-TicTacToe/runs/qnzytvjh</a><br> View project at: <a href='https://wandb.ai/eigenway/AlphaZero-TicTacToe' target=\"_blank\">https://wandb.ai/eigenway/AlphaZero-TicTacToe</a><br>Synced 5 W&B file(s), 0 media file(s), 0 artifact file(s) and 0 other file(s)"
      ],
      "text/plain": [
       "<IPython.core.display.HTML object>"
      ]
     },
     "metadata": {},
     "output_type": "display_data"
    },
    {
     "data": {
      "text/html": [
       "Find logs at: <code>./wandb/run-20250305_221249-qnzytvjh/logs</code>"
      ],
      "text/plain": [
       "<IPython.core.display.HTML object>"
      ]
     },
     "metadata": {},
     "output_type": "display_data"
    },
    {
     "name": "stderr",
     "output_type": "stream",
     "text": [
      "\u001b[34m\u001b[1mwandb\u001b[0m: Sweep Agent: Waiting for job.\n",
      "\u001b[34m\u001b[1mwandb\u001b[0m: Job received.\n",
      "\u001b[34m\u001b[1mwandb\u001b[0m: Agent Starting Run: 5ridwn7i with config:\n",
      "\u001b[34m\u001b[1mwandb\u001b[0m: \tactivation: relu\n",
      "\u001b[34m\u001b[1mwandb\u001b[0m: \tattention_layers: 2\n",
      "\u001b[34m\u001b[1mwandb\u001b[0m: \tbatch_size: 256\n",
      "\u001b[34m\u001b[1mwandb\u001b[0m: \tdropout: 0\n",
      "\u001b[34m\u001b[1mwandb\u001b[0m: \tembed_dim: 64\n",
      "\u001b[34m\u001b[1mwandb\u001b[0m: \tepochs: 100\n",
      "\u001b[34m\u001b[1mwandb\u001b[0m: \tfeedforward_dim: 256\n",
      "\u001b[34m\u001b[1mwandb\u001b[0m: \tlearning_rate: 0.0005106250254488596\n",
      "\u001b[34m\u001b[1mwandb\u001b[0m: \tmask_illegal_moves: False\n",
      "\u001b[34m\u001b[1mwandb\u001b[0m: \tmask_value: -10\n",
      "\u001b[34m\u001b[1mwandb\u001b[0m: \tnorm_first: True\n",
      "\u001b[34m\u001b[1mwandb\u001b[0m: \tweight_decay: 0.007994626764514123\n"
     ]
    },
    {
     "data": {
      "text/html": [
       "Ignoring project 'AlphaZero-TicTacToe' when running a sweep."
      ],
      "text/plain": [
       "<IPython.core.display.HTML object>"
      ]
     },
     "metadata": {},
     "output_type": "display_data"
    },
    {
     "data": {
      "text/html": [
       "Tracking run with wandb version 0.19.6"
      ],
      "text/plain": [
       "<IPython.core.display.HTML object>"
      ]
     },
     "metadata": {},
     "output_type": "display_data"
    },
    {
     "data": {
      "text/html": [
       "Run data is saved locally in <code>/Users/eohjelle/Documents/2025-dots-and-boxes/dots-and-boxes/wandb/run-20250305_221356-5ridwn7i</code>"
      ],
      "text/plain": [
       "<IPython.core.display.HTML object>"
      ]
     },
     "metadata": {},
     "output_type": "display_data"
    },
    {
     "data": {
      "text/html": [
       "Syncing run <strong><a href='https://wandb.ai/eigenway/AlphaZero-TicTacToe/runs/5ridwn7i' target=\"_blank\">dry-sweep-14</a></strong> to <a href='https://wandb.ai/eigenway/AlphaZero-TicTacToe' target=\"_blank\">Weights & Biases</a> (<a href='https://wandb.me/developer-guide' target=\"_blank\">docs</a>)<br>Sweep page: <a href='https://wandb.ai/eigenway/AlphaZero-TicTacToe/sweeps/mtjttrrq' target=\"_blank\">https://wandb.ai/eigenway/AlphaZero-TicTacToe/sweeps/mtjttrrq</a>"
      ],
      "text/plain": [
       "<IPython.core.display.HTML object>"
      ]
     },
     "metadata": {},
     "output_type": "display_data"
    },
    {
     "data": {
      "text/html": [
       " View project at <a href='https://wandb.ai/eigenway/AlphaZero-TicTacToe' target=\"_blank\">https://wandb.ai/eigenway/AlphaZero-TicTacToe</a>"
      ],
      "text/plain": [
       "<IPython.core.display.HTML object>"
      ]
     },
     "metadata": {},
     "output_type": "display_data"
    },
    {
     "data": {
      "text/html": [
       " View sweep at <a href='https://wandb.ai/eigenway/AlphaZero-TicTacToe/sweeps/mtjttrrq' target=\"_blank\">https://wandb.ai/eigenway/AlphaZero-TicTacToe/sweeps/mtjttrrq</a>"
      ],
      "text/plain": [
       "<IPython.core.display.HTML object>"
      ]
     },
     "metadata": {},
     "output_type": "display_data"
    },
    {
     "data": {
      "text/html": [
       " View run at <a href='https://wandb.ai/eigenway/AlphaZero-TicTacToe/runs/5ridwn7i' target=\"_blank\">https://wandb.ai/eigenway/AlphaZero-TicTacToe/runs/5ridwn7i</a>"
      ],
      "text/plain": [
       "<IPython.core.display.HTML object>"
      ]
     },
     "metadata": {},
     "output_type": "display_data"
    },
    {
     "name": "stdout",
     "output_type": "stream",
     "text": [
      "Epoch 1/100, Train Loss: 10.7387, Val Loss: 5.3953\n",
      "Epoch 2/100, Train Loss: 3.9055, Val Loss: 3.2733\n",
      "Epoch 3/100, Train Loss: 2.6786, Val Loss: 2.6055\n",
      "Epoch 4/100, Train Loss: 2.4080, Val Loss: 2.4623\n",
      "Epoch 5/100, Train Loss: 2.3586, Val Loss: 2.4027\n",
      "Epoch 6/100, Train Loss: 2.3004, Val Loss: 2.4183\n",
      "Epoch 7/100, Train Loss: 2.3066, Val Loss: 2.4017\n",
      "Epoch 8/100, Train Loss: 2.2678, Val Loss: 2.3573\n",
      "Epoch 9/100, Train Loss: 2.2443, Val Loss: 2.3405\n",
      "Epoch 10/100, Train Loss: 2.2194, Val Loss: 2.3821\n",
      "Epoch 11/100, Train Loss: 2.1273, Val Loss: 2.3290\n",
      "Epoch 12/100, Train Loss: 2.0572, Val Loss: 2.2139\n",
      "Epoch 13/100, Train Loss: 2.0522, Val Loss: 2.1501\n",
      "Epoch 14/100, Train Loss: 1.9819, Val Loss: 2.0529\n",
      "Epoch 15/100, Train Loss: 1.9530, Val Loss: 2.0616\n",
      "Epoch 16/100, Train Loss: 1.9179, Val Loss: 2.0321\n",
      "Epoch 17/100, Train Loss: 1.8635, Val Loss: 1.8318\n",
      "Epoch 18/100, Train Loss: 1.7350, Val Loss: 1.5686\n",
      "Epoch 19/100, Train Loss: 1.6695, Val Loss: 1.9522\n",
      "Epoch 20/100, Train Loss: 1.7087, Val Loss: 1.7755\n",
      "Epoch 21/100, Train Loss: 1.6591, Val Loss: 1.5013\n",
      "Epoch 22/100, Train Loss: 1.6431, Val Loss: 1.4418\n",
      "Epoch 23/100, Train Loss: 1.6456, Val Loss: 1.4796\n",
      "Epoch 24/100, Train Loss: 1.6133, Val Loss: 1.6436\n",
      "Epoch 25/100, Train Loss: 1.5543, Val Loss: 1.9087\n",
      "Epoch 26/100, Train Loss: 1.5040, Val Loss: 1.3181\n",
      "Epoch 27/100, Train Loss: 1.4882, Val Loss: 1.3802\n",
      "Epoch 28/100, Train Loss: 1.3900, Val Loss: 1.3351\n",
      "Epoch 29/100, Train Loss: 1.4381, Val Loss: 1.4277\n",
      "Epoch 30/100, Train Loss: 1.3456, Val Loss: 1.2823\n",
      "Epoch 31/100, Train Loss: 1.3199, Val Loss: 1.3180\n",
      "Epoch 32/100, Train Loss: 1.3224, Val Loss: 1.3795\n",
      "Epoch 33/100, Train Loss: 1.2609, Val Loss: 1.3864\n",
      "Epoch 34/100, Train Loss: 1.2522, Val Loss: 1.2879\n",
      "Epoch 35/100, Train Loss: 1.3010, Val Loss: 1.3211\n",
      "Epoch 36/100, Train Loss: 1.3193, Val Loss: 1.2801\n",
      "Epoch 37/100, Train Loss: 1.3835, Val Loss: 1.3504\n",
      "Epoch 38/100, Train Loss: 1.3103, Val Loss: 1.2171\n",
      "Epoch 39/100, Train Loss: 1.2299, Val Loss: 1.5639\n",
      "Epoch 40/100, Train Loss: 1.2692, Val Loss: 1.3369\n",
      "Epoch 41/100, Train Loss: 1.2140, Val Loss: 1.1362\n",
      "Epoch 42/100, Train Loss: 1.1540, Val Loss: 1.1267\n",
      "Epoch 43/100, Train Loss: 1.1600, Val Loss: 1.1634\n",
      "Epoch 44/100, Train Loss: 1.2378, Val Loss: 1.2592\n",
      "Epoch 45/100, Train Loss: 1.1759, Val Loss: 1.1231\n",
      "Epoch 46/100, Train Loss: 1.0847, Val Loss: 1.0818\n",
      "Epoch 47/100, Train Loss: 1.0721, Val Loss: 1.1862\n",
      "Epoch 48/100, Train Loss: 1.0483, Val Loss: 1.0459\n",
      "Epoch 49/100, Train Loss: 1.0328, Val Loss: 1.0471\n",
      "Epoch 50/100, Train Loss: 1.0615, Val Loss: 1.2170\n",
      "Epoch 51/100, Train Loss: 1.0915, Val Loss: 1.0808\n",
      "Epoch 52/100, Train Loss: 1.0458, Val Loss: 1.1576\n",
      "Epoch 53/100, Train Loss: 1.0894, Val Loss: 1.1049\n",
      "Epoch 54/100, Train Loss: 1.0361, Val Loss: 1.0941\n",
      "Epoch 55/100, Train Loss: 0.9868, Val Loss: 1.0531\n",
      "Epoch 56/100, Train Loss: 1.0271, Val Loss: 1.2070\n",
      "Epoch 57/100, Train Loss: 1.0656, Val Loss: 1.0350\n",
      "Epoch 58/100, Train Loss: 1.0090, Val Loss: 1.1512\n",
      "Epoch 59/100, Train Loss: 1.0622, Val Loss: 0.9951\n",
      "Epoch 60/100, Train Loss: 0.9831, Val Loss: 1.1121\n",
      "Epoch 61/100, Train Loss: 0.9571, Val Loss: 1.0735\n",
      "Epoch 62/100, Train Loss: 0.9808, Val Loss: 1.0084\n",
      "Epoch 63/100, Train Loss: 0.9430, Val Loss: 0.9663\n",
      "Epoch 64/100, Train Loss: 0.9118, Val Loss: 0.9634\n",
      "Epoch 65/100, Train Loss: 0.9466, Val Loss: 0.9535\n",
      "Epoch 66/100, Train Loss: 0.9501, Val Loss: 0.9966\n",
      "Epoch 67/100, Train Loss: 0.9707, Val Loss: 1.0653\n",
      "Epoch 68/100, Train Loss: 0.9553, Val Loss: 0.9957\n",
      "Epoch 69/100, Train Loss: 0.9128, Val Loss: 0.9485\n",
      "Epoch 70/100, Train Loss: 0.9030, Val Loss: 0.9184\n",
      "Epoch 71/100, Train Loss: 0.8889, Val Loss: 0.9746\n",
      "Epoch 72/100, Train Loss: 0.8875, Val Loss: 0.9346\n",
      "Epoch 73/100, Train Loss: 0.9077, Val Loss: 1.2509\n",
      "Epoch 74/100, Train Loss: 0.9454, Val Loss: 0.9974\n",
      "Epoch 75/100, Train Loss: 0.8939, Val Loss: 0.9370\n",
      "Epoch 76/100, Train Loss: 0.8616, Val Loss: 0.9145\n",
      "Epoch 77/100, Train Loss: 0.8890, Val Loss: 1.2069\n",
      "Epoch 78/100, Train Loss: 0.9045, Val Loss: 0.9641\n",
      "Epoch 79/100, Train Loss: 0.8568, Val Loss: 0.9568\n",
      "Epoch 80/100, Train Loss: 0.8832, Val Loss: 0.9405\n",
      "Epoch 81/100, Train Loss: 0.8573, Val Loss: 0.9488\n",
      "Epoch 82/100, Train Loss: 0.9121, Val Loss: 0.9633\n",
      "Epoch 83/100, Train Loss: 0.8595, Val Loss: 0.9481\n",
      "Epoch 84/100, Train Loss: 0.8504, Val Loss: 0.9686\n",
      "Epoch 85/100, Train Loss: 0.8806, Val Loss: 0.9226\n",
      "Epoch 86/100, Train Loss: 0.8601, Val Loss: 1.0932\n",
      "Epoch 87/100, Train Loss: 0.8646, Val Loss: 0.9102\n",
      "Epoch 88/100, Train Loss: 0.8191, Val Loss: 0.9038\n",
      "Epoch 89/100, Train Loss: 0.8216, Val Loss: 0.8984\n",
      "Epoch 90/100, Train Loss: 0.8182, Val Loss: 0.8967\n",
      "Epoch 91/100, Train Loss: 0.8303, Val Loss: 0.8792\n",
      "Epoch 92/100, Train Loss: 0.8209, Val Loss: 0.9754\n",
      "Epoch 93/100, Train Loss: 0.8493, Val Loss: 0.9172\n",
      "Epoch 94/100, Train Loss: 0.8132, Val Loss: 0.8761\n",
      "Epoch 95/100, Train Loss: 0.8377, Val Loss: 0.8662\n",
      "Epoch 96/100, Train Loss: 0.8615, Val Loss: 0.9400\n",
      "Epoch 97/100, Train Loss: 0.8567, Val Loss: 0.9022\n",
      "Epoch 98/100, Train Loss: 0.8317, Val Loss: 0.9306\n",
      "Epoch 99/100, Train Loss: 0.8622, Val Loss: 0.9775\n",
      "Epoch 100/100, Train Loss: 0.8172, Val Loss: 0.8790\n"
     ]
    },
    {
     "data": {
      "text/html": [],
      "text/plain": [
       "<IPython.core.display.HTML object>"
      ]
     },
     "metadata": {},
     "output_type": "display_data"
    },
    {
     "data": {
      "text/html": [
       "<br>    <style><br>        .wandb-row {<br>            display: flex;<br>            flex-direction: row;<br>            flex-wrap: wrap;<br>            justify-content: flex-start;<br>            width: 100%;<br>        }<br>        .wandb-col {<br>            display: flex;<br>            flex-direction: column;<br>            flex-basis: 100%;<br>            flex: 1;<br>            padding: 10px;<br>        }<br>    </style><br><div class=\"wandb-row\"><div class=\"wandb-col\"><h3>Run history:</h3><br/><table class=\"wandb\"><tr><td>epoch</td><td>▁▁▁▂▂▂▂▂▂▂▃▃▃▃▃▃▃▄▄▄▄▄▅▅▅▅▅▅▆▆▆▆▆▇▇▇████</td></tr><tr><td>minimax_draw_rate</td><td>▁</td></tr><tr><td>minimax_loss_rate</td><td>▁</td></tr><tr><td>minimax_score</td><td>▁</td></tr><tr><td>minimax_win_rate</td><td>▁</td></tr><tr><td>random_draw_rate</td><td>▁</td></tr><tr><td>random_loss_rate</td><td>▁</td></tr><tr><td>random_score</td><td>▁</td></tr><tr><td>random_win_rate</td><td>▁</td></tr><tr><td>train_loss</td><td>█▃▂▂▂▂▂▂▂▂▂▂▁▁▁▁▁▁▁▁▁▁▁▁▁▁▁▁▁▁▁▁▁▁▁▁▁▁▁▁</td></tr><tr><td>train_policy_loss</td><td>█▃▁▁▁▁▁▁▁▁▁▁▁▁▁▁▁▁▁▁▁▁▁▁▁▁▁▁▁▁▁▁▁▁▁▁▁▁▁▁</td></tr><tr><td>train_value_loss</td><td>███▇▆▅▅▅▅▅▄▄▃▃▃▃▂▂▂▂▂▂▁▂▂▂▁▁▁▁▁▁▁▁▁▁▁▁▁▁</td></tr><tr><td>val_loss</td><td>█▆▅▅▅▄▃▃▃▃▂▂▃▂▂▂▃▂▁▂▂▂▂▂▁▁▁▁▁▂▂▁▁▁▁▁▁▁▁▁</td></tr><tr><td>val_policy_loss</td><td>█▄▃▃▃▂▂▂▂▂▁▂▁▁▁▁▁▁▁▁▁▁▁▁▁▁▁▁▁▁▁▁▁▁▁▁▁▁▁▁</td></tr><tr><td>val_value_loss</td><td>█████▇▇▇▆▄▅▄▄▆▃▄▄▃▃▃▂▃▂▃▂▂▂▁▂▁▂▃▁▁▁▁▂▁▁▁</td></tr></table><br/></div><div class=\"wandb-col\"><h3>Run summary:</h3><br/><table class=\"wandb\"><tr><td>epoch</td><td>99</td></tr><tr><td>minimax_draw_rate</td><td>0.27</td></tr><tr><td>minimax_loss_rate</td><td>0.73</td></tr><tr><td>minimax_score</td><td>-0.73</td></tr><tr><td>minimax_win_rate</td><td>0</td></tr><tr><td>random_draw_rate</td><td>0.05</td></tr><tr><td>random_loss_rate</td><td>0.11</td></tr><tr><td>random_score</td><td>0.73</td></tr><tr><td>random_win_rate</td><td>0.84</td></tr><tr><td>train_loss</td><td>0.81719</td></tr><tr><td>train_policy_loss</td><td>0.65296</td></tr><tr><td>train_value_loss</td><td>0.16423</td></tr><tr><td>val_loss</td><td>0.87897</td></tr><tr><td>val_policy_loss</td><td>0.70258</td></tr><tr><td>val_value_loss</td><td>0.17639</td></tr></table><br/></div></div>"
      ],
      "text/plain": [
       "<IPython.core.display.HTML object>"
      ]
     },
     "metadata": {},
     "output_type": "display_data"
    },
    {
     "data": {
      "text/html": [
       " View run <strong style=\"color:#cdcd00\">dry-sweep-14</strong> at: <a href='https://wandb.ai/eigenway/AlphaZero-TicTacToe/runs/5ridwn7i' target=\"_blank\">https://wandb.ai/eigenway/AlphaZero-TicTacToe/runs/5ridwn7i</a><br> View project at: <a href='https://wandb.ai/eigenway/AlphaZero-TicTacToe' target=\"_blank\">https://wandb.ai/eigenway/AlphaZero-TicTacToe</a><br>Synced 5 W&B file(s), 0 media file(s), 0 artifact file(s) and 0 other file(s)"
      ],
      "text/plain": [
       "<IPython.core.display.HTML object>"
      ]
     },
     "metadata": {},
     "output_type": "display_data"
    },
    {
     "data": {
      "text/html": [
       "Find logs at: <code>./wandb/run-20250305_221356-5ridwn7i/logs</code>"
      ],
      "text/plain": [
       "<IPython.core.display.HTML object>"
      ]
     },
     "metadata": {},
     "output_type": "display_data"
    },
    {
     "name": "stderr",
     "output_type": "stream",
     "text": [
      "\u001b[34m\u001b[1mwandb\u001b[0m: Sweep Agent: Waiting for job.\n",
      "\u001b[34m\u001b[1mwandb\u001b[0m: Job received.\n",
      "\u001b[34m\u001b[1mwandb\u001b[0m: Agent Starting Run: 7k5myfra with config:\n",
      "\u001b[34m\u001b[1mwandb\u001b[0m: \tactivation: relu\n",
      "\u001b[34m\u001b[1mwandb\u001b[0m: \tattention_layers: 2\n",
      "\u001b[34m\u001b[1mwandb\u001b[0m: \tbatch_size: 256\n",
      "\u001b[34m\u001b[1mwandb\u001b[0m: \tdropout: 0\n",
      "\u001b[34m\u001b[1mwandb\u001b[0m: \tembed_dim: 64\n",
      "\u001b[34m\u001b[1mwandb\u001b[0m: \tepochs: 100\n",
      "\u001b[34m\u001b[1mwandb\u001b[0m: \tfeedforward_dim: 256\n",
      "\u001b[34m\u001b[1mwandb\u001b[0m: \tlearning_rate: 0.008720537019602743\n",
      "\u001b[34m\u001b[1mwandb\u001b[0m: \tmask_illegal_moves: False\n",
      "\u001b[34m\u001b[1mwandb\u001b[0m: \tmask_value: -10\n",
      "\u001b[34m\u001b[1mwandb\u001b[0m: \tnorm_first: True\n",
      "\u001b[34m\u001b[1mwandb\u001b[0m: \tweight_decay: 0.0026425771192106744\n"
     ]
    },
    {
     "data": {
      "text/html": [
       "Ignoring project 'AlphaZero-TicTacToe' when running a sweep."
      ],
      "text/plain": [
       "<IPython.core.display.HTML object>"
      ]
     },
     "metadata": {},
     "output_type": "display_data"
    },
    {
     "data": {
      "text/html": [
       "Tracking run with wandb version 0.19.6"
      ],
      "text/plain": [
       "<IPython.core.display.HTML object>"
      ]
     },
     "metadata": {},
     "output_type": "display_data"
    },
    {
     "data": {
      "text/html": [
       "Run data is saved locally in <code>/Users/eohjelle/Documents/2025-dots-and-boxes/dots-and-boxes/wandb/run-20250305_221503-7k5myfra</code>"
      ],
      "text/plain": [
       "<IPython.core.display.HTML object>"
      ]
     },
     "metadata": {},
     "output_type": "display_data"
    },
    {
     "data": {
      "text/html": [
       "Syncing run <strong><a href='https://wandb.ai/eigenway/AlphaZero-TicTacToe/runs/7k5myfra' target=\"_blank\">misty-sweep-15</a></strong> to <a href='https://wandb.ai/eigenway/AlphaZero-TicTacToe' target=\"_blank\">Weights & Biases</a> (<a href='https://wandb.me/developer-guide' target=\"_blank\">docs</a>)<br>Sweep page: <a href='https://wandb.ai/eigenway/AlphaZero-TicTacToe/sweeps/mtjttrrq' target=\"_blank\">https://wandb.ai/eigenway/AlphaZero-TicTacToe/sweeps/mtjttrrq</a>"
      ],
      "text/plain": [
       "<IPython.core.display.HTML object>"
      ]
     },
     "metadata": {},
     "output_type": "display_data"
    },
    {
     "data": {
      "text/html": [
       " View project at <a href='https://wandb.ai/eigenway/AlphaZero-TicTacToe' target=\"_blank\">https://wandb.ai/eigenway/AlphaZero-TicTacToe</a>"
      ],
      "text/plain": [
       "<IPython.core.display.HTML object>"
      ]
     },
     "metadata": {},
     "output_type": "display_data"
    },
    {
     "data": {
      "text/html": [
       " View sweep at <a href='https://wandb.ai/eigenway/AlphaZero-TicTacToe/sweeps/mtjttrrq' target=\"_blank\">https://wandb.ai/eigenway/AlphaZero-TicTacToe/sweeps/mtjttrrq</a>"
      ],
      "text/plain": [
       "<IPython.core.display.HTML object>"
      ]
     },
     "metadata": {},
     "output_type": "display_data"
    },
    {
     "data": {
      "text/html": [
       " View run at <a href='https://wandb.ai/eigenway/AlphaZero-TicTacToe/runs/7k5myfra' target=\"_blank\">https://wandb.ai/eigenway/AlphaZero-TicTacToe/runs/7k5myfra</a>"
      ],
      "text/plain": [
       "<IPython.core.display.HTML object>"
      ]
     },
     "metadata": {},
     "output_type": "display_data"
    },
    {
     "name": "stdout",
     "output_type": "stream",
     "text": [
      "Epoch 1/100, Train Loss: 11.6797, Val Loss: 4.8711\n",
      "Epoch 2/100, Train Loss: 3.6080, Val Loss: 3.1803\n",
      "Epoch 3/100, Train Loss: 2.9086, Val Loss: 2.8337\n",
      "Epoch 4/100, Train Loss: 2.6532, Val Loss: 2.6302\n",
      "Epoch 5/100, Train Loss: 2.5216, Val Loss: 2.4717\n",
      "Epoch 6/100, Train Loss: 2.4047, Val Loss: 2.4097\n",
      "Epoch 7/100, Train Loss: 2.3838, Val Loss: 2.3372\n",
      "Epoch 8/100, Train Loss: 2.3037, Val Loss: 2.2873\n",
      "Epoch 9/100, Train Loss: 2.2726, Val Loss: 2.2754\n",
      "Epoch 10/100, Train Loss: 2.2697, Val Loss: 2.2487\n",
      "Epoch 11/100, Train Loss: 2.2411, Val Loss: 2.2339\n",
      "Epoch 12/100, Train Loss: 2.1914, Val Loss: 2.2078\n",
      "Epoch 13/100, Train Loss: 2.1955, Val Loss: 2.2338\n",
      "Epoch 14/100, Train Loss: 2.1507, Val Loss: 2.1332\n",
      "Epoch 15/100, Train Loss: 2.1280, Val Loss: 2.1187\n",
      "Epoch 16/100, Train Loss: 2.1251, Val Loss: 2.3554\n",
      "Epoch 17/100, Train Loss: 2.2398, Val Loss: 2.1779\n",
      "Epoch 18/100, Train Loss: 2.1291, Val Loss: 2.1827\n",
      "Epoch 19/100, Train Loss: 2.1188, Val Loss: 2.1460\n",
      "Epoch 20/100, Train Loss: 2.0992, Val Loss: 2.0968\n",
      "Epoch 21/100, Train Loss: 2.0842, Val Loss: 2.1157\n",
      "Epoch 22/100, Train Loss: 2.0915, Val Loss: 2.1495\n",
      "Epoch 23/100, Train Loss: 2.0995, Val Loss: 2.0690\n",
      "Epoch 24/100, Train Loss: 2.0649, Val Loss: 2.0665\n",
      "Epoch 25/100, Train Loss: 2.0689, Val Loss: 2.1605\n",
      "Epoch 26/100, Train Loss: 2.1044, Val Loss: 2.0554\n",
      "Epoch 27/100, Train Loss: 2.0625, Val Loss: 2.0885\n",
      "Epoch 28/100, Train Loss: 2.0414, Val Loss: 2.1042\n",
      "Epoch 29/100, Train Loss: 2.0476, Val Loss: 2.0455\n",
      "Epoch 30/100, Train Loss: 2.0419, Val Loss: 2.1117\n",
      "Epoch 31/100, Train Loss: 2.0581, Val Loss: 2.1102\n",
      "Epoch 32/100, Train Loss: 2.0325, Val Loss: 2.0746\n",
      "Epoch 33/100, Train Loss: 2.0242, Val Loss: 2.0848\n",
      "Epoch 34/100, Train Loss: 2.0171, Val Loss: 2.0605\n",
      "Epoch 35/100, Train Loss: 2.0228, Val Loss: 2.0517\n",
      "Epoch 36/100, Train Loss: 2.0304, Val Loss: 2.1270\n",
      "Epoch 37/100, Train Loss: 2.0494, Val Loss: 2.0405\n",
      "Epoch 38/100, Train Loss: 2.0355, Val Loss: 2.1341\n",
      "Epoch 39/100, Train Loss: 2.0484, Val Loss: 2.0922\n",
      "Epoch 40/100, Train Loss: 2.0427, Val Loss: 2.1076\n",
      "Epoch 41/100, Train Loss: 2.0328, Val Loss: 2.0371\n",
      "Epoch 42/100, Train Loss: 2.0207, Val Loss: 2.0767\n",
      "Epoch 43/100, Train Loss: 2.0139, Val Loss: 2.0398\n",
      "Epoch 44/100, Train Loss: 2.0063, Val Loss: 2.1322\n",
      "Epoch 45/100, Train Loss: 2.0329, Val Loss: 2.0314\n",
      "Epoch 46/100, Train Loss: 1.9919, Val Loss: 1.9932\n",
      "Epoch 47/100, Train Loss: 2.0344, Val Loss: 2.0364\n",
      "Epoch 48/100, Train Loss: 2.0129, Val Loss: 2.0597\n",
      "Epoch 49/100, Train Loss: 2.0107, Val Loss: 2.0699\n",
      "Epoch 50/100, Train Loss: 2.0148, Val Loss: 2.0581\n",
      "Epoch 51/100, Train Loss: 2.0081, Val Loss: 2.0585\n",
      "Epoch 52/100, Train Loss: 2.0203, Val Loss: 2.0873\n",
      "Epoch 53/100, Train Loss: 1.9905, Val Loss: 2.0491\n",
      "Epoch 54/100, Train Loss: 1.9948, Val Loss: 2.0768\n",
      "Epoch 55/100, Train Loss: 2.0119, Val Loss: 2.0736\n",
      "Epoch 56/100, Train Loss: 1.9983, Val Loss: 2.0315\n",
      "Epoch 57/100, Train Loss: 2.0143, Val Loss: 2.0541\n",
      "Epoch 58/100, Train Loss: 2.0071, Val Loss: 2.0217\n",
      "Epoch 59/100, Train Loss: 1.9889, Val Loss: 2.0412\n",
      "Epoch 60/100, Train Loss: 2.0311, Val Loss: 2.0919\n",
      "Epoch 61/100, Train Loss: 2.0183, Val Loss: 2.0408\n",
      "Epoch 62/100, Train Loss: 2.0073, Val Loss: 2.0287\n",
      "Epoch 63/100, Train Loss: 1.9875, Val Loss: 2.0397\n",
      "Epoch 64/100, Train Loss: 2.0017, Val Loss: 2.0501\n",
      "Epoch 65/100, Train Loss: 2.0211, Val Loss: 2.0112\n",
      "Epoch 66/100, Train Loss: 1.9832, Val Loss: 2.0462\n",
      "Epoch 67/100, Train Loss: 2.0024, Val Loss: 2.0286\n",
      "Epoch 68/100, Train Loss: 1.9978, Val Loss: 2.0321\n",
      "Epoch 69/100, Train Loss: 2.0156, Val Loss: 2.0735\n",
      "Epoch 70/100, Train Loss: 2.0135, Val Loss: 2.0247\n",
      "Epoch 71/100, Train Loss: 1.9906, Val Loss: 2.0294\n",
      "Epoch 72/100, Train Loss: 2.0103, Val Loss: 2.0669\n",
      "Epoch 73/100, Train Loss: 1.9759, Val Loss: 2.0402\n",
      "Epoch 74/100, Train Loss: 2.0054, Val Loss: 2.0572\n",
      "Epoch 75/100, Train Loss: 1.9772, Val Loss: 2.0145\n",
      "Epoch 76/100, Train Loss: 1.9840, Val Loss: 2.0436\n",
      "Epoch 77/100, Train Loss: 1.9836, Val Loss: 2.0564\n",
      "Epoch 78/100, Train Loss: 1.9998, Val Loss: 2.0483\n",
      "Epoch 79/100, Train Loss: 2.0021, Val Loss: 2.0349\n",
      "Epoch 80/100, Train Loss: 1.9952, Val Loss: 2.0336\n",
      "Epoch 81/100, Train Loss: 1.9899, Val Loss: 2.0183\n",
      "Epoch 82/100, Train Loss: 1.9994, Val Loss: 2.0289\n",
      "Epoch 83/100, Train Loss: 1.9876, Val Loss: 1.9801\n",
      "Epoch 84/100, Train Loss: 1.6358, Val Loss: 1.5049\n",
      "Epoch 85/100, Train Loss: 1.4149, Val Loss: 1.4327\n",
      "Epoch 86/100, Train Loss: 1.3614, Val Loss: 1.3289\n",
      "Epoch 87/100, Train Loss: 1.1968, Val Loss: 1.1420\n",
      "Epoch 88/100, Train Loss: 1.0969, Val Loss: 1.1214\n",
      "Epoch 89/100, Train Loss: 1.0459, Val Loss: 1.0148\n",
      "Epoch 90/100, Train Loss: 0.9942, Val Loss: 0.9886\n",
      "Epoch 91/100, Train Loss: 0.9953, Val Loss: 0.9672\n",
      "Epoch 92/100, Train Loss: 0.9485, Val Loss: 0.9459\n",
      "Epoch 93/100, Train Loss: 0.9310, Val Loss: 0.9843\n",
      "Epoch 94/100, Train Loss: 0.8798, Val Loss: 0.9375\n",
      "Epoch 95/100, Train Loss: 0.8730, Val Loss: 0.9016\n",
      "Epoch 96/100, Train Loss: 0.8422, Val Loss: 0.8645\n",
      "Epoch 97/100, Train Loss: 0.8308, Val Loss: 0.8762\n",
      "Epoch 98/100, Train Loss: 0.8672, Val Loss: 0.8768\n",
      "Epoch 99/100, Train Loss: 0.8330, Val Loss: 0.8768\n",
      "Epoch 100/100, Train Loss: 0.8155, Val Loss: 0.9115\n"
     ]
    },
    {
     "data": {
      "text/html": [],
      "text/plain": [
       "<IPython.core.display.HTML object>"
      ]
     },
     "metadata": {},
     "output_type": "display_data"
    },
    {
     "data": {
      "text/html": [
       "<br>    <style><br>        .wandb-row {<br>            display: flex;<br>            flex-direction: row;<br>            flex-wrap: wrap;<br>            justify-content: flex-start;<br>            width: 100%;<br>        }<br>        .wandb-col {<br>            display: flex;<br>            flex-direction: column;<br>            flex-basis: 100%;<br>            flex: 1;<br>            padding: 10px;<br>        }<br>    </style><br><div class=\"wandb-row\"><div class=\"wandb-col\"><h3>Run history:</h3><br/><table class=\"wandb\"><tr><td>epoch</td><td>▁▁▁▁▂▂▂▂▂▃▃▃▃▃▃▃▄▄▄▅▅▅▅▅▅▅▅▆▆▆▆▆▆▆▇▇▇███</td></tr><tr><td>minimax_draw_rate</td><td>▁</td></tr><tr><td>minimax_loss_rate</td><td>▁</td></tr><tr><td>minimax_score</td><td>▁</td></tr><tr><td>minimax_win_rate</td><td>▁</td></tr><tr><td>random_draw_rate</td><td>▁</td></tr><tr><td>random_loss_rate</td><td>▁</td></tr><tr><td>random_score</td><td>▁</td></tr><tr><td>random_win_rate</td><td>▁</td></tr><tr><td>train_loss</td><td>█▂▂▂▂▂▂▂▂▂▂▂▂▂▂▂▂▂▂▂▂▂▂▂▂▂▂▂▂▂▂▂▂▂▁▁▁▁▁▁</td></tr><tr><td>train_policy_loss</td><td>█▃▃▂▂▂▂▂▂▁▁▁▁▁▁▁▁▁▁▁▁▁▁▁▁▁▁▁▁▁▁▁▁▁▁▁▁▁▁▁</td></tr><tr><td>train_value_loss</td><td>██▇███▇███▇█▇▇████▇▇███▇▇████▇█▇▅▃▂▂▁▁▁▁</td></tr><tr><td>val_loss</td><td>██▇▇▇▇▇▇▆▆▆▆▆▆▆▆▆▆▆▆▆▆▆▆▆▆▆▆▆▆▆▆▆▆▃▁▁▁▁▁</td></tr><tr><td>val_policy_loss</td><td>█▄▄▄▃▂▃▂▂▃▂▂▂▁▁▁▂▁▂▂▁▁▁▂▁▁▂▁▂▁▁▁▁▁▂▂▂▁▁▁</td></tr><tr><td>val_value_loss</td><td>█████████████████████████████████▅▄▂▂▂▁▁</td></tr></table><br/></div><div class=\"wandb-col\"><h3>Run summary:</h3><br/><table class=\"wandb\"><tr><td>epoch</td><td>99</td></tr><tr><td>minimax_draw_rate</td><td>0.39</td></tr><tr><td>minimax_loss_rate</td><td>0.61</td></tr><tr><td>minimax_score</td><td>-0.61</td></tr><tr><td>minimax_win_rate</td><td>0</td></tr><tr><td>random_draw_rate</td><td>0.11</td></tr><tr><td>random_loss_rate</td><td>0.1</td></tr><tr><td>random_score</td><td>0.69</td></tr><tr><td>random_win_rate</td><td>0.79</td></tr><tr><td>train_loss</td><td>0.81549</td></tr><tr><td>train_policy_loss</td><td>0.64295</td></tr><tr><td>train_value_loss</td><td>0.17254</td></tr><tr><td>val_loss</td><td>0.9115</td></tr><tr><td>val_policy_loss</td><td>0.67812</td></tr><tr><td>val_value_loss</td><td>0.23338</td></tr></table><br/></div></div>"
      ],
      "text/plain": [
       "<IPython.core.display.HTML object>"
      ]
     },
     "metadata": {},
     "output_type": "display_data"
    },
    {
     "data": {
      "text/html": [
       " View run <strong style=\"color:#cdcd00\">misty-sweep-15</strong> at: <a href='https://wandb.ai/eigenway/AlphaZero-TicTacToe/runs/7k5myfra' target=\"_blank\">https://wandb.ai/eigenway/AlphaZero-TicTacToe/runs/7k5myfra</a><br> View project at: <a href='https://wandb.ai/eigenway/AlphaZero-TicTacToe' target=\"_blank\">https://wandb.ai/eigenway/AlphaZero-TicTacToe</a><br>Synced 5 W&B file(s), 0 media file(s), 0 artifact file(s) and 0 other file(s)"
      ],
      "text/plain": [
       "<IPython.core.display.HTML object>"
      ]
     },
     "metadata": {},
     "output_type": "display_data"
    },
    {
     "data": {
      "text/html": [
       "Find logs at: <code>./wandb/run-20250305_221503-7k5myfra/logs</code>"
      ],
      "text/plain": [
       "<IPython.core.display.HTML object>"
      ]
     },
     "metadata": {},
     "output_type": "display_data"
    },
    {
     "name": "stderr",
     "output_type": "stream",
     "text": [
      "\u001b[34m\u001b[1mwandb\u001b[0m: Agent Starting Run: qlxq8byf with config:\n",
      "\u001b[34m\u001b[1mwandb\u001b[0m: \tactivation: relu\n",
      "\u001b[34m\u001b[1mwandb\u001b[0m: \tattention_layers: 2\n",
      "\u001b[34m\u001b[1mwandb\u001b[0m: \tbatch_size: 256\n",
      "\u001b[34m\u001b[1mwandb\u001b[0m: \tdropout: 0\n",
      "\u001b[34m\u001b[1mwandb\u001b[0m: \tembed_dim: 64\n",
      "\u001b[34m\u001b[1mwandb\u001b[0m: \tepochs: 100\n",
      "\u001b[34m\u001b[1mwandb\u001b[0m: \tfeedforward_dim: 256\n",
      "\u001b[34m\u001b[1mwandb\u001b[0m: \tlearning_rate: 0.0019110599548890536\n",
      "\u001b[34m\u001b[1mwandb\u001b[0m: \tmask_illegal_moves: False\n",
      "\u001b[34m\u001b[1mwandb\u001b[0m: \tmask_value: -10\n",
      "\u001b[34m\u001b[1mwandb\u001b[0m: \tnorm_first: True\n",
      "\u001b[34m\u001b[1mwandb\u001b[0m: \tweight_decay: 0.0068961581608436035\n"
     ]
    },
    {
     "data": {
      "text/html": [
       "Ignoring project 'AlphaZero-TicTacToe' when running a sweep."
      ],
      "text/plain": [
       "<IPython.core.display.HTML object>"
      ]
     },
     "metadata": {},
     "output_type": "display_data"
    },
    {
     "data": {
      "text/html": [
       "Tracking run with wandb version 0.19.6"
      ],
      "text/plain": [
       "<IPython.core.display.HTML object>"
      ]
     },
     "metadata": {},
     "output_type": "display_data"
    },
    {
     "data": {
      "text/html": [
       "Run data is saved locally in <code>/Users/eohjelle/Documents/2025-dots-and-boxes/dots-and-boxes/wandb/run-20250305_221559-qlxq8byf</code>"
      ],
      "text/plain": [
       "<IPython.core.display.HTML object>"
      ]
     },
     "metadata": {},
     "output_type": "display_data"
    },
    {
     "data": {
      "text/html": [
       "Syncing run <strong><a href='https://wandb.ai/eigenway/AlphaZero-TicTacToe/runs/qlxq8byf' target=\"_blank\">amber-sweep-16</a></strong> to <a href='https://wandb.ai/eigenway/AlphaZero-TicTacToe' target=\"_blank\">Weights & Biases</a> (<a href='https://wandb.me/developer-guide' target=\"_blank\">docs</a>)<br>Sweep page: <a href='https://wandb.ai/eigenway/AlphaZero-TicTacToe/sweeps/mtjttrrq' target=\"_blank\">https://wandb.ai/eigenway/AlphaZero-TicTacToe/sweeps/mtjttrrq</a>"
      ],
      "text/plain": [
       "<IPython.core.display.HTML object>"
      ]
     },
     "metadata": {},
     "output_type": "display_data"
    },
    {
     "data": {
      "text/html": [
       " View project at <a href='https://wandb.ai/eigenway/AlphaZero-TicTacToe' target=\"_blank\">https://wandb.ai/eigenway/AlphaZero-TicTacToe</a>"
      ],
      "text/plain": [
       "<IPython.core.display.HTML object>"
      ]
     },
     "metadata": {},
     "output_type": "display_data"
    },
    {
     "data": {
      "text/html": [
       " View sweep at <a href='https://wandb.ai/eigenway/AlphaZero-TicTacToe/sweeps/mtjttrrq' target=\"_blank\">https://wandb.ai/eigenway/AlphaZero-TicTacToe/sweeps/mtjttrrq</a>"
      ],
      "text/plain": [
       "<IPython.core.display.HTML object>"
      ]
     },
     "metadata": {},
     "output_type": "display_data"
    },
    {
     "data": {
      "text/html": [
       " View run at <a href='https://wandb.ai/eigenway/AlphaZero-TicTacToe/runs/qlxq8byf' target=\"_blank\">https://wandb.ai/eigenway/AlphaZero-TicTacToe/runs/qlxq8byf</a>"
      ],
      "text/plain": [
       "<IPython.core.display.HTML object>"
      ]
     },
     "metadata": {},
     "output_type": "display_data"
    },
    {
     "name": "stdout",
     "output_type": "stream",
     "text": [
      "Epoch 1/100, Train Loss: 6.4687, Val Loss: 3.0408\n",
      "Epoch 2/100, Train Loss: 2.6940, Val Loss: 2.2717\n",
      "Epoch 3/100, Train Loss: 2.4191, Val Loss: 2.2432\n",
      "Epoch 4/100, Train Loss: 2.3922, Val Loss: 2.1893\n",
      "Epoch 5/100, Train Loss: 2.3752, Val Loss: 2.2933\n",
      "Epoch 6/100, Train Loss: 2.3065, Val Loss: 2.1845\n",
      "Epoch 7/100, Train Loss: 2.2819, Val Loss: 2.1300\n",
      "Epoch 8/100, Train Loss: 2.2370, Val Loss: 2.2536\n",
      "Epoch 9/100, Train Loss: 2.2059, Val Loss: 2.0603\n",
      "Epoch 10/100, Train Loss: 2.1681, Val Loss: 2.0633\n",
      "Epoch 11/100, Train Loss: 2.1454, Val Loss: 2.0371\n",
      "Epoch 12/100, Train Loss: 2.1566, Val Loss: 2.0385\n",
      "Epoch 13/100, Train Loss: 2.1292, Val Loss: 2.0155\n",
      "Epoch 14/100, Train Loss: 2.0860, Val Loss: 1.9875\n",
      "Epoch 15/100, Train Loss: 2.1000, Val Loss: 2.0115\n",
      "Epoch 16/100, Train Loss: 2.0819, Val Loss: 1.9840\n",
      "Epoch 17/100, Train Loss: 2.0503, Val Loss: 1.9768\n",
      "Epoch 18/100, Train Loss: 2.0537, Val Loss: 1.9559\n",
      "Epoch 19/100, Train Loss: 2.0556, Val Loss: 1.9456\n",
      "Epoch 20/100, Train Loss: 2.0275, Val Loss: 1.9504\n",
      "Epoch 21/100, Train Loss: 2.0584, Val Loss: 1.9280\n",
      "Epoch 22/100, Train Loss: 2.0436, Val Loss: 1.9541\n",
      "Epoch 23/100, Train Loss: 2.0401, Val Loss: 1.9358\n",
      "Epoch 24/100, Train Loss: 2.0130, Val Loss: 1.7888\n",
      "Epoch 25/100, Train Loss: 1.7611, Val Loss: 2.0315\n",
      "Epoch 26/100, Train Loss: 1.6551, Val Loss: 1.4906\n",
      "Epoch 27/100, Train Loss: 1.6386, Val Loss: 1.9070\n",
      "Epoch 28/100, Train Loss: 1.4909, Val Loss: 1.4595\n",
      "Epoch 29/100, Train Loss: 1.5125, Val Loss: 1.3160\n",
      "Epoch 30/100, Train Loss: 1.3993, Val Loss: 1.5466\n",
      "Epoch 31/100, Train Loss: 1.3724, Val Loss: 1.2398\n",
      "Epoch 32/100, Train Loss: 1.2143, Val Loss: 1.3466\n",
      "Epoch 33/100, Train Loss: 1.2434, Val Loss: 1.3440\n",
      "Epoch 34/100, Train Loss: 1.2386, Val Loss: 1.2687\n",
      "Epoch 35/100, Train Loss: 1.1291, Val Loss: 1.1080\n",
      "Epoch 36/100, Train Loss: 1.1024, Val Loss: 1.0745\n",
      "Epoch 37/100, Train Loss: 1.1067, Val Loss: 1.0380\n",
      "Epoch 38/100, Train Loss: 1.0507, Val Loss: 1.0177\n",
      "Epoch 39/100, Train Loss: 1.0307, Val Loss: 1.0495\n",
      "Epoch 40/100, Train Loss: 1.0691, Val Loss: 1.0990\n",
      "Epoch 41/100, Train Loss: 1.0844, Val Loss: 1.2141\n",
      "Epoch 42/100, Train Loss: 1.0223, Val Loss: 0.9586\n",
      "Epoch 43/100, Train Loss: 0.9642, Val Loss: 0.9508\n",
      "Epoch 44/100, Train Loss: 0.9802, Val Loss: 0.9756\n",
      "Epoch 45/100, Train Loss: 0.9751, Val Loss: 0.9632\n",
      "Epoch 46/100, Train Loss: 0.9866, Val Loss: 0.9380\n",
      "Epoch 47/100, Train Loss: 0.9985, Val Loss: 1.0209\n",
      "Epoch 48/100, Train Loss: 0.9594, Val Loss: 0.8966\n",
      "Epoch 49/100, Train Loss: 0.9364, Val Loss: 0.9273\n",
      "Epoch 50/100, Train Loss: 0.9167, Val Loss: 0.9110\n",
      "Epoch 51/100, Train Loss: 0.9140, Val Loss: 0.9441\n",
      "Epoch 52/100, Train Loss: 0.9100, Val Loss: 0.9321\n",
      "Epoch 53/100, Train Loss: 0.8982, Val Loss: 0.9334\n",
      "Epoch 54/100, Train Loss: 0.9374, Val Loss: 0.9271\n",
      "Epoch 55/100, Train Loss: 0.9160, Val Loss: 0.8622\n",
      "Epoch 56/100, Train Loss: 0.8809, Val Loss: 0.8958\n",
      "Epoch 57/100, Train Loss: 0.8795, Val Loss: 0.8448\n",
      "Epoch 58/100, Train Loss: 0.8608, Val Loss: 0.8494\n",
      "Epoch 59/100, Train Loss: 0.8627, Val Loss: 0.8405\n",
      "Epoch 60/100, Train Loss: 0.8824, Val Loss: 0.8709\n",
      "Epoch 61/100, Train Loss: 0.8592, Val Loss: 0.8393\n",
      "Epoch 62/100, Train Loss: 0.8431, Val Loss: 0.8351\n",
      "Epoch 63/100, Train Loss: 0.8652, Val Loss: 0.9014\n",
      "Epoch 64/100, Train Loss: 0.8738, Val Loss: 0.8492\n",
      "Epoch 65/100, Train Loss: 0.8847, Val Loss: 0.8468\n",
      "Epoch 66/100, Train Loss: 0.8473, Val Loss: 0.8139\n",
      "Epoch 67/100, Train Loss: 0.8365, Val Loss: 0.8447\n",
      "Epoch 68/100, Train Loss: 0.8666, Val Loss: 0.8600\n",
      "Epoch 69/100, Train Loss: 0.8463, Val Loss: 0.8272\n",
      "Epoch 70/100, Train Loss: 0.8269, Val Loss: 0.8090\n",
      "Epoch 71/100, Train Loss: 0.8308, Val Loss: 0.8103\n",
      "Epoch 72/100, Train Loss: 0.8221, Val Loss: 0.8133\n",
      "Epoch 73/100, Train Loss: 0.8252, Val Loss: 0.8239\n",
      "Epoch 74/100, Train Loss: 0.8191, Val Loss: 0.8365\n",
      "Epoch 75/100, Train Loss: 0.8659, Val Loss: 0.8566\n",
      "Epoch 76/100, Train Loss: 0.8610, Val Loss: 0.8392\n",
      "Epoch 77/100, Train Loss: 0.8208, Val Loss: 0.8801\n",
      "Epoch 78/100, Train Loss: 0.8374, Val Loss: 0.8262\n",
      "Epoch 79/100, Train Loss: 0.8306, Val Loss: 0.7996\n",
      "Epoch 80/100, Train Loss: 0.8242, Val Loss: 0.8069\n",
      "Epoch 81/100, Train Loss: 0.8027, Val Loss: 0.7872\n",
      "Epoch 82/100, Train Loss: 0.8126, Val Loss: 0.8149\n",
      "Epoch 83/100, Train Loss: 0.8388, Val Loss: 0.8511\n",
      "Epoch 84/100, Train Loss: 0.8270, Val Loss: 0.7947\n",
      "Epoch 85/100, Train Loss: 0.8101, Val Loss: 0.7814\n",
      "Epoch 86/100, Train Loss: 0.8047, Val Loss: 0.7917\n",
      "Epoch 87/100, Train Loss: 0.7964, Val Loss: 0.8303\n",
      "Epoch 88/100, Train Loss: 0.8176, Val Loss: 0.8319\n",
      "Epoch 89/100, Train Loss: 0.8006, Val Loss: 0.8680\n",
      "Epoch 90/100, Train Loss: 0.8050, Val Loss: 0.8266\n",
      "Epoch 91/100, Train Loss: 0.8191, Val Loss: 0.8152\n",
      "Epoch 92/100, Train Loss: 0.8311, Val Loss: 0.8052\n",
      "Epoch 93/100, Train Loss: 0.7970, Val Loss: 0.7893\n",
      "Epoch 94/100, Train Loss: 0.7824, Val Loss: 0.7683\n",
      "Epoch 95/100, Train Loss: 0.7819, Val Loss: 0.7673\n",
      "Epoch 96/100, Train Loss: 0.7747, Val Loss: 0.7921\n",
      "Epoch 97/100, Train Loss: 0.7961, Val Loss: 0.7829\n",
      "Epoch 98/100, Train Loss: 0.8161, Val Loss: 0.9214\n",
      "Epoch 99/100, Train Loss: 0.8028, Val Loss: 0.8061\n",
      "Epoch 100/100, Train Loss: 0.7831, Val Loss: 0.7923\n"
     ]
    },
    {
     "data": {
      "text/html": [],
      "text/plain": [
       "<IPython.core.display.HTML object>"
      ]
     },
     "metadata": {},
     "output_type": "display_data"
    },
    {
     "data": {
      "text/html": [
       "<br>    <style><br>        .wandb-row {<br>            display: flex;<br>            flex-direction: row;<br>            flex-wrap: wrap;<br>            justify-content: flex-start;<br>            width: 100%;<br>        }<br>        .wandb-col {<br>            display: flex;<br>            flex-direction: column;<br>            flex-basis: 100%;<br>            flex: 1;<br>            padding: 10px;<br>        }<br>    </style><br><div class=\"wandb-row\"><div class=\"wandb-col\"><h3>Run history:</h3><br/><table class=\"wandb\"><tr><td>epoch</td><td>▁▁▂▂▂▂▂▂▂▃▃▃▃▃▃▄▄▄▄▄▅▅▅▅▅▆▆▆▆▆▆▆▇▇▇▇▇███</td></tr><tr><td>minimax_draw_rate</td><td>▁</td></tr><tr><td>minimax_loss_rate</td><td>▁</td></tr><tr><td>minimax_score</td><td>▁</td></tr><tr><td>minimax_win_rate</td><td>▁</td></tr><tr><td>random_draw_rate</td><td>▁</td></tr><tr><td>random_loss_rate</td><td>▁</td></tr><tr><td>random_score</td><td>▁</td></tr><tr><td>random_win_rate</td><td>▁</td></tr><tr><td>train_loss</td><td>█▃▃▃▃▃▃▃▃▃▂▂▂▂▁▁▁▁▁▁▁▁▁▁▁▁▁▁▁▁▁▁▁▁▁▁▁▁▁▁</td></tr><tr><td>train_policy_loss</td><td>██▇▅▄▃▂▂▂▂▂▂▂▂▂▂▂▂▂▁▁▁▁▁▁▁▁▁▁▁▁▁▁▁▁▁▁▁▁▁</td></tr><tr><td>train_value_loss</td><td>███████████▅▅▄▄▃▂▂▂▂▂▁▁▁▁▁▁▁▁▁▁▁▁▁▁▁▁▁▁▁</td></tr><tr><td>val_loss</td><td>███▇▇▇▇▇▇▆▃▄▂▂▂▂▂▂▂▂▁▁▁▁▁▂▁▁▁▁▁▁▁▁▁▁▁▁▁▁</td></tr><tr><td>val_policy_loss</td><td>█▇▆▅█▄▃▂▂▂▃▃▂▁▂▂▂▂▂▂▂▂▂▁▁▂▁▁▁▁▁▁▁▁▁▁▁▁▁▁</td></tr><tr><td>val_value_loss</td><td>████████▇█▇▅▄▃▂▂▂▂▂▂▂▂▁▂▁▂▁▁▁▁▁▁▁▁▁▁▁▁▁▁</td></tr></table><br/></div><div class=\"wandb-col\"><h3>Run summary:</h3><br/><table class=\"wandb\"><tr><td>epoch</td><td>99</td></tr><tr><td>minimax_draw_rate</td><td>0.32</td></tr><tr><td>minimax_loss_rate</td><td>0.68</td></tr><tr><td>minimax_score</td><td>-0.68</td></tr><tr><td>minimax_win_rate</td><td>0</td></tr><tr><td>random_draw_rate</td><td>0.06</td></tr><tr><td>random_loss_rate</td><td>0.12</td></tr><tr><td>random_score</td><td>0.7</td></tr><tr><td>random_win_rate</td><td>0.82</td></tr><tr><td>train_loss</td><td>0.78309</td></tr><tr><td>train_policy_loss</td><td>0.65955</td></tr><tr><td>train_value_loss</td><td>0.12354</td></tr><tr><td>val_loss</td><td>0.79234</td></tr><tr><td>val_policy_loss</td><td>0.66738</td></tr><tr><td>val_value_loss</td><td>0.12496</td></tr></table><br/></div></div>"
      ],
      "text/plain": [
       "<IPython.core.display.HTML object>"
      ]
     },
     "metadata": {},
     "output_type": "display_data"
    },
    {
     "data": {
      "text/html": [
       " View run <strong style=\"color:#cdcd00\">amber-sweep-16</strong> at: <a href='https://wandb.ai/eigenway/AlphaZero-TicTacToe/runs/qlxq8byf' target=\"_blank\">https://wandb.ai/eigenway/AlphaZero-TicTacToe/runs/qlxq8byf</a><br> View project at: <a href='https://wandb.ai/eigenway/AlphaZero-TicTacToe' target=\"_blank\">https://wandb.ai/eigenway/AlphaZero-TicTacToe</a><br>Synced 5 W&B file(s), 0 media file(s), 0 artifact file(s) and 0 other file(s)"
      ],
      "text/plain": [
       "<IPython.core.display.HTML object>"
      ]
     },
     "metadata": {},
     "output_type": "display_data"
    },
    {
     "data": {
      "text/html": [
       "Find logs at: <code>./wandb/run-20250305_221559-qlxq8byf/logs</code>"
      ],
      "text/plain": [
       "<IPython.core.display.HTML object>"
      ]
     },
     "metadata": {},
     "output_type": "display_data"
    },
    {
     "name": "stderr",
     "output_type": "stream",
     "text": [
      "\u001b[34m\u001b[1mwandb\u001b[0m: Agent Starting Run: elccheot with config:\n",
      "\u001b[34m\u001b[1mwandb\u001b[0m: \tactivation: relu\n",
      "\u001b[34m\u001b[1mwandb\u001b[0m: \tattention_layers: 2\n",
      "\u001b[34m\u001b[1mwandb\u001b[0m: \tbatch_size: 256\n",
      "\u001b[34m\u001b[1mwandb\u001b[0m: \tdropout: 0\n",
      "\u001b[34m\u001b[1mwandb\u001b[0m: \tembed_dim: 64\n",
      "\u001b[34m\u001b[1mwandb\u001b[0m: \tepochs: 100\n",
      "\u001b[34m\u001b[1mwandb\u001b[0m: \tfeedforward_dim: 256\n",
      "\u001b[34m\u001b[1mwandb\u001b[0m: \tlearning_rate: 0.007691465182645302\n",
      "\u001b[34m\u001b[1mwandb\u001b[0m: \tmask_illegal_moves: False\n",
      "\u001b[34m\u001b[1mwandb\u001b[0m: \tmask_value: -10\n",
      "\u001b[34m\u001b[1mwandb\u001b[0m: \tnorm_first: True\n",
      "\u001b[34m\u001b[1mwandb\u001b[0m: \tweight_decay: 0.0026493562204257005\n"
     ]
    },
    {
     "data": {
      "text/html": [
       "Ignoring project 'AlphaZero-TicTacToe' when running a sweep."
      ],
      "text/plain": [
       "<IPython.core.display.HTML object>"
      ]
     },
     "metadata": {},
     "output_type": "display_data"
    },
    {
     "data": {
      "text/html": [
       "Tracking run with wandb version 0.19.6"
      ],
      "text/plain": [
       "<IPython.core.display.HTML object>"
      ]
     },
     "metadata": {},
     "output_type": "display_data"
    },
    {
     "data": {
      "text/html": [
       "Run data is saved locally in <code>/Users/eohjelle/Documents/2025-dots-and-boxes/dots-and-boxes/wandb/run-20250305_221700-elccheot</code>"
      ],
      "text/plain": [
       "<IPython.core.display.HTML object>"
      ]
     },
     "metadata": {},
     "output_type": "display_data"
    },
    {
     "data": {
      "text/html": [
       "Syncing run <strong><a href='https://wandb.ai/eigenway/AlphaZero-TicTacToe/runs/elccheot' target=\"_blank\">celestial-sweep-17</a></strong> to <a href='https://wandb.ai/eigenway/AlphaZero-TicTacToe' target=\"_blank\">Weights & Biases</a> (<a href='https://wandb.me/developer-guide' target=\"_blank\">docs</a>)<br>Sweep page: <a href='https://wandb.ai/eigenway/AlphaZero-TicTacToe/sweeps/mtjttrrq' target=\"_blank\">https://wandb.ai/eigenway/AlphaZero-TicTacToe/sweeps/mtjttrrq</a>"
      ],
      "text/plain": [
       "<IPython.core.display.HTML object>"
      ]
     },
     "metadata": {},
     "output_type": "display_data"
    },
    {
     "data": {
      "text/html": [
       " View project at <a href='https://wandb.ai/eigenway/AlphaZero-TicTacToe' target=\"_blank\">https://wandb.ai/eigenway/AlphaZero-TicTacToe</a>"
      ],
      "text/plain": [
       "<IPython.core.display.HTML object>"
      ]
     },
     "metadata": {},
     "output_type": "display_data"
    },
    {
     "data": {
      "text/html": [
       " View sweep at <a href='https://wandb.ai/eigenway/AlphaZero-TicTacToe/sweeps/mtjttrrq' target=\"_blank\">https://wandb.ai/eigenway/AlphaZero-TicTacToe/sweeps/mtjttrrq</a>"
      ],
      "text/plain": [
       "<IPython.core.display.HTML object>"
      ]
     },
     "metadata": {},
     "output_type": "display_data"
    },
    {
     "data": {
      "text/html": [
       " View run at <a href='https://wandb.ai/eigenway/AlphaZero-TicTacToe/runs/elccheot' target=\"_blank\">https://wandb.ai/eigenway/AlphaZero-TicTacToe/runs/elccheot</a>"
      ],
      "text/plain": [
       "<IPython.core.display.HTML object>"
      ]
     },
     "metadata": {},
     "output_type": "display_data"
    },
    {
     "name": "stdout",
     "output_type": "stream",
     "text": [
      "Epoch 1/100, Train Loss: 14.2158, Val Loss: 5.0924\n",
      "Epoch 2/100, Train Loss: 4.4702, Val Loss: 4.1595\n",
      "Epoch 3/100, Train Loss: 3.8616, Val Loss: 3.9302\n",
      "Epoch 4/100, Train Loss: 3.6851, Val Loss: 3.7809\n",
      "Epoch 5/100, Train Loss: 3.5559, Val Loss: 3.6565\n",
      "Epoch 6/100, Train Loss: 3.4187, Val Loss: 3.5267\n",
      "Epoch 7/100, Train Loss: 3.3171, Val Loss: 3.4003\n",
      "Epoch 8/100, Train Loss: 3.2342, Val Loss: 3.3838\n",
      "Epoch 9/100, Train Loss: 3.2053, Val Loss: 3.3524\n",
      "Epoch 10/100, Train Loss: 3.1990, Val Loss: 3.2895\n",
      "Epoch 11/100, Train Loss: 3.1509, Val Loss: 3.2606\n",
      "Epoch 12/100, Train Loss: 3.1200, Val Loss: 3.1999\n",
      "Epoch 13/100, Train Loss: 3.0799, Val Loss: 3.1953\n",
      "Epoch 14/100, Train Loss: 3.0680, Val Loss: 3.1189\n",
      "Epoch 15/100, Train Loss: 1.7612, Val Loss: 1.5328\n",
      "Epoch 16/100, Train Loss: 1.4809, Val Loss: 1.4253\n",
      "Epoch 17/100, Train Loss: 1.3863, Val Loss: 1.8713\n",
      "Epoch 18/100, Train Loss: 1.4375, Val Loss: 1.4448\n",
      "Epoch 19/100, Train Loss: 1.3769, Val Loss: 1.2919\n",
      "Epoch 20/100, Train Loss: 1.3458, Val Loss: 1.4633\n",
      "Epoch 21/100, Train Loss: 1.3084, Val Loss: 1.2947\n",
      "Epoch 22/100, Train Loss: 1.3916, Val Loss: 1.2793\n",
      "Epoch 23/100, Train Loss: 1.2443, Val Loss: 1.2230\n",
      "Epoch 24/100, Train Loss: 1.2322, Val Loss: 1.1779\n",
      "Epoch 25/100, Train Loss: 1.2101, Val Loss: 1.1554\n",
      "Epoch 26/100, Train Loss: 1.1985, Val Loss: 1.1368\n",
      "Epoch 27/100, Train Loss: 1.1515, Val Loss: 1.2494\n",
      "Epoch 28/100, Train Loss: 1.1578, Val Loss: 1.0972\n",
      "Epoch 29/100, Train Loss: 1.1421, Val Loss: 1.0935\n",
      "Epoch 30/100, Train Loss: 1.0829, Val Loss: 1.0371\n",
      "Epoch 31/100, Train Loss: 1.0327, Val Loss: 1.0381\n",
      "Epoch 32/100, Train Loss: 1.0123, Val Loss: 0.9897\n",
      "Epoch 33/100, Train Loss: 0.9911, Val Loss: 0.9653\n",
      "Epoch 34/100, Train Loss: 1.0287, Val Loss: 0.9798\n",
      "Epoch 35/100, Train Loss: 1.0176, Val Loss: 1.0801\n",
      "Epoch 36/100, Train Loss: 1.0251, Val Loss: 1.0300\n",
      "Epoch 37/100, Train Loss: 0.9917, Val Loss: 0.9348\n",
      "Epoch 38/100, Train Loss: 0.9818, Val Loss: 1.0341\n",
      "Epoch 39/100, Train Loss: 0.9844, Val Loss: 1.0243\n",
      "Epoch 40/100, Train Loss: 0.9562, Val Loss: 1.0407\n",
      "Epoch 41/100, Train Loss: 0.9124, Val Loss: 0.8841\n",
      "Epoch 42/100, Train Loss: 0.8987, Val Loss: 0.9042\n",
      "Epoch 43/100, Train Loss: 0.9183, Val Loss: 0.9380\n",
      "Epoch 44/100, Train Loss: 0.9356, Val Loss: 0.9044\n",
      "Epoch 45/100, Train Loss: 0.8718, Val Loss: 0.8720\n",
      "Epoch 46/100, Train Loss: 0.8754, Val Loss: 0.9924\n",
      "Epoch 47/100, Train Loss: 0.8916, Val Loss: 0.8634\n",
      "Epoch 48/100, Train Loss: 0.8804, Val Loss: 0.9063\n",
      "Epoch 49/100, Train Loss: 0.8886, Val Loss: 0.8388\n",
      "Epoch 50/100, Train Loss: 0.8582, Val Loss: 0.8339\n",
      "Epoch 51/100, Train Loss: 0.8315, Val Loss: 0.8676\n",
      "Epoch 52/100, Train Loss: 0.8311, Val Loss: 0.8569\n",
      "Epoch 53/100, Train Loss: 0.8636, Val Loss: 0.8772\n",
      "Epoch 54/100, Train Loss: 0.8392, Val Loss: 0.8942\n",
      "Epoch 55/100, Train Loss: 0.8510, Val Loss: 0.8590\n",
      "Epoch 56/100, Train Loss: 0.8183, Val Loss: 0.8569\n",
      "Epoch 57/100, Train Loss: 0.8266, Val Loss: 0.8990\n",
      "Epoch 58/100, Train Loss: 0.8588, Val Loss: 0.8407\n",
      "Epoch 59/100, Train Loss: 0.8274, Val Loss: 0.7952\n",
      "Epoch 60/100, Train Loss: 0.8002, Val Loss: 0.8148\n",
      "Epoch 61/100, Train Loss: 0.8219, Val Loss: 0.8476\n",
      "Epoch 62/100, Train Loss: 0.8107, Val Loss: 0.8225\n",
      "Epoch 63/100, Train Loss: 0.8115, Val Loss: 0.8040\n",
      "Epoch 64/100, Train Loss: 0.8341, Val Loss: 0.8802\n",
      "Epoch 65/100, Train Loss: 0.8199, Val Loss: 0.8383\n",
      "Epoch 66/100, Train Loss: 0.7998, Val Loss: 0.8180\n",
      "Epoch 67/100, Train Loss: 0.8086, Val Loss: 0.9107\n",
      "Epoch 68/100, Train Loss: 0.8132, Val Loss: 0.8028\n",
      "Epoch 69/100, Train Loss: 0.8065, Val Loss: 0.8365\n",
      "Epoch 70/100, Train Loss: 0.7740, Val Loss: 0.8096\n",
      "Epoch 71/100, Train Loss: 0.7806, Val Loss: 0.8487\n",
      "Epoch 72/100, Train Loss: 0.8179, Val Loss: 0.8221\n",
      "Epoch 73/100, Train Loss: 0.8024, Val Loss: 0.8191\n",
      "Epoch 74/100, Train Loss: 0.7920, Val Loss: 0.7692\n",
      "Epoch 75/100, Train Loss: 0.7915, Val Loss: 0.7994\n",
      "Epoch 76/100, Train Loss: 0.8293, Val Loss: 0.8942\n",
      "Epoch 77/100, Train Loss: 0.7909, Val Loss: 0.8442\n",
      "Epoch 78/100, Train Loss: 0.7674, Val Loss: 0.8254\n",
      "Epoch 79/100, Train Loss: 0.7593, Val Loss: 0.7886\n",
      "Epoch 80/100, Train Loss: 0.7689, Val Loss: 0.8614\n",
      "Epoch 81/100, Train Loss: 0.8247, Val Loss: 0.7768\n",
      "Epoch 82/100, Train Loss: 0.8036, Val Loss: 0.8153\n",
      "Epoch 83/100, Train Loss: 0.7939, Val Loss: 0.7639\n",
      "Epoch 84/100, Train Loss: 0.8018, Val Loss: 0.8423\n",
      "Epoch 85/100, Train Loss: 0.8004, Val Loss: 0.8048\n",
      "Epoch 86/100, Train Loss: 0.7655, Val Loss: 0.8076\n",
      "Epoch 87/100, Train Loss: 0.7771, Val Loss: 0.8120\n",
      "Epoch 88/100, Train Loss: 0.7736, Val Loss: 0.7469\n",
      "Epoch 89/100, Train Loss: 0.7788, Val Loss: 0.7675\n",
      "Epoch 90/100, Train Loss: 0.7795, Val Loss: 0.9371\n",
      "Epoch 91/100, Train Loss: 0.8528, Val Loss: 0.7730\n",
      "Epoch 92/100, Train Loss: 0.7673, Val Loss: 0.7979\n",
      "Epoch 93/100, Train Loss: 0.7721, Val Loss: 0.7675\n",
      "Epoch 94/100, Train Loss: 0.7881, Val Loss: 0.8375\n",
      "Epoch 95/100, Train Loss: 0.7836, Val Loss: 0.7567\n",
      "Epoch 96/100, Train Loss: 0.7534, Val Loss: 0.7567\n",
      "Epoch 97/100, Train Loss: 0.7599, Val Loss: 0.8939\n",
      "Epoch 98/100, Train Loss: 0.7670, Val Loss: 0.7553\n",
      "Epoch 99/100, Train Loss: 0.7483, Val Loss: 0.7643\n",
      "Epoch 100/100, Train Loss: 0.7698, Val Loss: 0.8618\n"
     ]
    },
    {
     "data": {
      "text/html": [],
      "text/plain": [
       "<IPython.core.display.HTML object>"
      ]
     },
     "metadata": {},
     "output_type": "display_data"
    },
    {
     "data": {
      "text/html": [
       "<br>    <style><br>        .wandb-row {<br>            display: flex;<br>            flex-direction: row;<br>            flex-wrap: wrap;<br>            justify-content: flex-start;<br>            width: 100%;<br>        }<br>        .wandb-col {<br>            display: flex;<br>            flex-direction: column;<br>            flex-basis: 100%;<br>            flex: 1;<br>            padding: 10px;<br>        }<br>    </style><br><div class=\"wandb-row\"><div class=\"wandb-col\"><h3>Run history:</h3><br/><table class=\"wandb\"><tr><td>epoch</td><td>▁▁▁▂▂▂▂▂▂▂▃▃▃▃▃▄▄▄▄▄▅▅▅▅▆▆▆▆▆▆▆▇▇▇▇█████</td></tr><tr><td>minimax_draw_rate</td><td>▁</td></tr><tr><td>minimax_loss_rate</td><td>▁</td></tr><tr><td>minimax_score</td><td>▁</td></tr><tr><td>minimax_win_rate</td><td>▁</td></tr><tr><td>random_draw_rate</td><td>▁</td></tr><tr><td>random_loss_rate</td><td>▁</td></tr><tr><td>random_score</td><td>▁</td></tr><tr><td>random_win_rate</td><td>▁</td></tr><tr><td>train_loss</td><td>█▆▆▅▂▂▂▂▂▂▂▁▁▁▁▁▁▁▁▁▁▁▁▁▁▁▁▁▁▁▁▁▁▁▁▁▁▁▁▁</td></tr><tr><td>train_policy_loss</td><td>█▃▃▃▂▂▂▂▂▂▂▁▁▁▁▁▁▁▁▁▁▁▁▁▁▁▁▁▁▁▁▁▁▁▁▁▁▁▁▁</td></tr><tr><td>train_value_loss</td><td>████▄▃▃▂▂▂▂▂▂▂▂▁▁▁▁▁▁▁▁▁▁▁▁▁▁▁▁▁▁▁▁▁▁▁▁▁</td></tr><tr><td>val_loss</td><td>██▇▆▆▂▂▂▂▂▂▂▂▁▂▂▁▁▁▂▁▁▁▁▁▁▁▁▁▁▁▁▁▁▁▁▁▁▁▁</td></tr><tr><td>val_policy_loss</td><td>█▇▆▄▃▃▃▂▂▂▂▂▁▁▁▁▁▁▁▁▁▁▁▁▁▁▁▁▁▁▁▁▁▁▁▁▁▁▁▁</td></tr><tr><td>val_value_loss</td><td>████████▄▂▂▂▂▂▁▁▁▂▁▁▁▁▁▁▁▁▁▁▁▁▁▁▁▁▁▁▁▁▁▁</td></tr></table><br/></div><div class=\"wandb-col\"><h3>Run summary:</h3><br/><table class=\"wandb\"><tr><td>epoch</td><td>99</td></tr><tr><td>minimax_draw_rate</td><td>0.42</td></tr><tr><td>minimax_loss_rate</td><td>0.58</td></tr><tr><td>minimax_score</td><td>-0.58</td></tr><tr><td>minimax_win_rate</td><td>0</td></tr><tr><td>random_draw_rate</td><td>0.12</td></tr><tr><td>random_loss_rate</td><td>0.08</td></tr><tr><td>random_score</td><td>0.72</td></tr><tr><td>random_win_rate</td><td>0.8</td></tr><tr><td>train_loss</td><td>0.76977</td></tr><tr><td>train_policy_loss</td><td>0.64995</td></tr><tr><td>train_value_loss</td><td>0.11982</td></tr><tr><td>val_loss</td><td>0.86183</td></tr><tr><td>val_policy_loss</td><td>0.63534</td></tr><tr><td>val_value_loss</td><td>0.22649</td></tr></table><br/></div></div>"
      ],
      "text/plain": [
       "<IPython.core.display.HTML object>"
      ]
     },
     "metadata": {},
     "output_type": "display_data"
    },
    {
     "data": {
      "text/html": [
       " View run <strong style=\"color:#cdcd00\">celestial-sweep-17</strong> at: <a href='https://wandb.ai/eigenway/AlphaZero-TicTacToe/runs/elccheot' target=\"_blank\">https://wandb.ai/eigenway/AlphaZero-TicTacToe/runs/elccheot</a><br> View project at: <a href='https://wandb.ai/eigenway/AlphaZero-TicTacToe' target=\"_blank\">https://wandb.ai/eigenway/AlphaZero-TicTacToe</a><br>Synced 5 W&B file(s), 0 media file(s), 0 artifact file(s) and 0 other file(s)"
      ],
      "text/plain": [
       "<IPython.core.display.HTML object>"
      ]
     },
     "metadata": {},
     "output_type": "display_data"
    },
    {
     "data": {
      "text/html": [
       "Find logs at: <code>./wandb/run-20250305_221700-elccheot/logs</code>"
      ],
      "text/plain": [
       "<IPython.core.display.HTML object>"
      ]
     },
     "metadata": {},
     "output_type": "display_data"
    },
    {
     "name": "stderr",
     "output_type": "stream",
     "text": [
      "\u001b[34m\u001b[1mwandb\u001b[0m: Agent Starting Run: l1g9daww with config:\n",
      "\u001b[34m\u001b[1mwandb\u001b[0m: \tactivation: relu\n",
      "\u001b[34m\u001b[1mwandb\u001b[0m: \tattention_layers: 2\n",
      "\u001b[34m\u001b[1mwandb\u001b[0m: \tbatch_size: 256\n",
      "\u001b[34m\u001b[1mwandb\u001b[0m: \tdropout: 0\n",
      "\u001b[34m\u001b[1mwandb\u001b[0m: \tembed_dim: 64\n",
      "\u001b[34m\u001b[1mwandb\u001b[0m: \tepochs: 100\n",
      "\u001b[34m\u001b[1mwandb\u001b[0m: \tfeedforward_dim: 256\n",
      "\u001b[34m\u001b[1mwandb\u001b[0m: \tlearning_rate: 0.008211528187836081\n",
      "\u001b[34m\u001b[1mwandb\u001b[0m: \tmask_illegal_moves: False\n",
      "\u001b[34m\u001b[1mwandb\u001b[0m: \tmask_value: -10\n",
      "\u001b[34m\u001b[1mwandb\u001b[0m: \tnorm_first: True\n",
      "\u001b[34m\u001b[1mwandb\u001b[0m: \tweight_decay: 0.002701470765062942\n"
     ]
    },
    {
     "data": {
      "text/html": [
       "Ignoring project 'AlphaZero-TicTacToe' when running a sweep."
      ],
      "text/plain": [
       "<IPython.core.display.HTML object>"
      ]
     },
     "metadata": {},
     "output_type": "display_data"
    },
    {
     "data": {
      "text/html": [
       "Tracking run with wandb version 0.19.6"
      ],
      "text/plain": [
       "<IPython.core.display.HTML object>"
      ]
     },
     "metadata": {},
     "output_type": "display_data"
    },
    {
     "data": {
      "text/html": [
       "Run data is saved locally in <code>/Users/eohjelle/Documents/2025-dots-and-boxes/dots-and-boxes/wandb/run-20250305_221802-l1g9daww</code>"
      ],
      "text/plain": [
       "<IPython.core.display.HTML object>"
      ]
     },
     "metadata": {},
     "output_type": "display_data"
    },
    {
     "data": {
      "text/html": [
       "Syncing run <strong><a href='https://wandb.ai/eigenway/AlphaZero-TicTacToe/runs/l1g9daww' target=\"_blank\">clear-sweep-18</a></strong> to <a href='https://wandb.ai/eigenway/AlphaZero-TicTacToe' target=\"_blank\">Weights & Biases</a> (<a href='https://wandb.me/developer-guide' target=\"_blank\">docs</a>)<br>Sweep page: <a href='https://wandb.ai/eigenway/AlphaZero-TicTacToe/sweeps/mtjttrrq' target=\"_blank\">https://wandb.ai/eigenway/AlphaZero-TicTacToe/sweeps/mtjttrrq</a>"
      ],
      "text/plain": [
       "<IPython.core.display.HTML object>"
      ]
     },
     "metadata": {},
     "output_type": "display_data"
    },
    {
     "data": {
      "text/html": [
       " View project at <a href='https://wandb.ai/eigenway/AlphaZero-TicTacToe' target=\"_blank\">https://wandb.ai/eigenway/AlphaZero-TicTacToe</a>"
      ],
      "text/plain": [
       "<IPython.core.display.HTML object>"
      ]
     },
     "metadata": {},
     "output_type": "display_data"
    },
    {
     "data": {
      "text/html": [
       " View sweep at <a href='https://wandb.ai/eigenway/AlphaZero-TicTacToe/sweeps/mtjttrrq' target=\"_blank\">https://wandb.ai/eigenway/AlphaZero-TicTacToe/sweeps/mtjttrrq</a>"
      ],
      "text/plain": [
       "<IPython.core.display.HTML object>"
      ]
     },
     "metadata": {},
     "output_type": "display_data"
    },
    {
     "data": {
      "text/html": [
       " View run at <a href='https://wandb.ai/eigenway/AlphaZero-TicTacToe/runs/l1g9daww' target=\"_blank\">https://wandb.ai/eigenway/AlphaZero-TicTacToe/runs/l1g9daww</a>"
      ],
      "text/plain": [
       "<IPython.core.display.HTML object>"
      ]
     },
     "metadata": {},
     "output_type": "display_data"
    },
    {
     "name": "stdout",
     "output_type": "stream",
     "text": [
      "Epoch 1/100, Train Loss: 10.3492, Val Loss: 3.5300\n",
      "Epoch 2/100, Train Loss: 2.9449, Val Loss: 2.2571\n",
      "Epoch 3/100, Train Loss: 2.2393, Val Loss: 2.1916\n",
      "Epoch 4/100, Train Loss: 2.2781, Val Loss: 2.4430\n",
      "Epoch 5/100, Train Loss: 2.1491, Val Loss: 1.8126\n",
      "Epoch 6/100, Train Loss: 1.9042, Val Loss: 1.6946\n",
      "Epoch 7/100, Train Loss: 1.9823, Val Loss: 2.1946\n",
      "Epoch 8/100, Train Loss: 1.9588, Val Loss: 1.7051\n",
      "Epoch 9/100, Train Loss: 1.7767, Val Loss: 2.4428\n",
      "Epoch 10/100, Train Loss: 1.7208, Val Loss: 1.8070\n",
      "Epoch 11/100, Train Loss: 1.8686, Val Loss: 1.6130\n",
      "Epoch 12/100, Train Loss: 1.6354, Val Loss: 1.4431\n",
      "Epoch 13/100, Train Loss: 1.4641, Val Loss: 1.3708\n",
      "Epoch 14/100, Train Loss: 1.4504, Val Loss: 1.7718\n",
      "Epoch 15/100, Train Loss: 1.6445, Val Loss: 1.7920\n",
      "Epoch 16/100, Train Loss: 1.5052, Val Loss: 1.7109\n",
      "Epoch 17/100, Train Loss: 1.5581, Val Loss: 1.3175\n",
      "Epoch 18/100, Train Loss: 1.4158, Val Loss: 1.6078\n",
      "Epoch 19/100, Train Loss: 1.3833, Val Loss: 1.3247\n",
      "Epoch 20/100, Train Loss: 1.3041, Val Loss: 1.2812\n",
      "Epoch 21/100, Train Loss: 1.3056, Val Loss: 1.7129\n",
      "Epoch 22/100, Train Loss: 1.3383, Val Loss: 1.3062\n",
      "Epoch 23/100, Train Loss: 1.2887, Val Loss: 1.2101\n",
      "Epoch 24/100, Train Loss: 1.2466, Val Loss: 1.2162\n",
      "Epoch 25/100, Train Loss: 1.2443, Val Loss: 1.8434\n",
      "Epoch 26/100, Train Loss: 1.5082, Val Loss: 1.3905\n",
      "Epoch 27/100, Train Loss: 1.4571, Val Loss: 1.3502\n",
      "Epoch 28/100, Train Loss: 1.2596, Val Loss: 1.1883\n",
      "Epoch 29/100, Train Loss: 1.2152, Val Loss: 1.2379\n",
      "Epoch 30/100, Train Loss: 1.2081, Val Loss: 1.1590\n",
      "Epoch 31/100, Train Loss: 1.0897, Val Loss: 1.1386\n",
      "Epoch 32/100, Train Loss: 1.1460, Val Loss: 1.2060\n",
      "Epoch 33/100, Train Loss: 1.2198, Val Loss: 1.4634\n",
      "Epoch 34/100, Train Loss: 1.2567, Val Loss: 1.3662\n",
      "Epoch 35/100, Train Loss: 1.2047, Val Loss: 1.2125\n",
      "Epoch 36/100, Train Loss: 1.0856, Val Loss: 1.1023\n",
      "Epoch 37/100, Train Loss: 1.0928, Val Loss: 1.1587\n",
      "Epoch 38/100, Train Loss: 1.0643, Val Loss: 1.0506\n",
      "Epoch 39/100, Train Loss: 1.0464, Val Loss: 1.2350\n",
      "Epoch 40/100, Train Loss: 1.0822, Val Loss: 1.0766\n",
      "Epoch 41/100, Train Loss: 1.1277, Val Loss: 1.1232\n",
      "Epoch 42/100, Train Loss: 1.0942, Val Loss: 1.0100\n",
      "Epoch 43/100, Train Loss: 1.0478, Val Loss: 0.9790\n",
      "Epoch 44/100, Train Loss: 1.1198, Val Loss: 1.0083\n",
      "Epoch 45/100, Train Loss: 1.0606, Val Loss: 1.0010\n",
      "Epoch 46/100, Train Loss: 1.1010, Val Loss: 1.0879\n",
      "Epoch 47/100, Train Loss: 1.0345, Val Loss: 1.0201\n",
      "Epoch 48/100, Train Loss: 0.9628, Val Loss: 1.0234\n",
      "Epoch 49/100, Train Loss: 1.1201, Val Loss: 1.0852\n",
      "Epoch 50/100, Train Loss: 1.1387, Val Loss: 1.0918\n",
      "Epoch 51/100, Train Loss: 1.1154, Val Loss: 1.0682\n",
      "Epoch 52/100, Train Loss: 1.0729, Val Loss: 1.0262\n",
      "Epoch 53/100, Train Loss: 1.0206, Val Loss: 1.0599\n",
      "Epoch 54/100, Train Loss: 1.0372, Val Loss: 1.0473\n",
      "Epoch 55/100, Train Loss: 0.9760, Val Loss: 0.9818\n",
      "Epoch 56/100, Train Loss: 0.9576, Val Loss: 1.0054\n",
      "Epoch 57/100, Train Loss: 0.9783, Val Loss: 0.9773\n",
      "Epoch 58/100, Train Loss: 0.9713, Val Loss: 1.2186\n",
      "Epoch 59/100, Train Loss: 1.1195, Val Loss: 1.0350\n",
      "Epoch 60/100, Train Loss: 1.0062, Val Loss: 1.0638\n",
      "Epoch 61/100, Train Loss: 1.0221, Val Loss: 1.0264\n",
      "Epoch 62/100, Train Loss: 0.9652, Val Loss: 1.0086\n",
      "Epoch 63/100, Train Loss: 0.9521, Val Loss: 0.9628\n",
      "Epoch 64/100, Train Loss: 0.9818, Val Loss: 0.9888\n",
      "Epoch 65/100, Train Loss: 1.0168, Val Loss: 1.0630\n",
      "Epoch 66/100, Train Loss: 0.9890, Val Loss: 1.0502\n",
      "Epoch 67/100, Train Loss: 0.9632, Val Loss: 1.1206\n",
      "Epoch 68/100, Train Loss: 0.9871, Val Loss: 0.9969\n",
      "Epoch 69/100, Train Loss: 0.9615, Val Loss: 1.0096\n",
      "Epoch 70/100, Train Loss: 0.9441, Val Loss: 1.0357\n",
      "Epoch 71/100, Train Loss: 0.9565, Val Loss: 1.0388\n",
      "Epoch 72/100, Train Loss: 0.9448, Val Loss: 0.9343\n",
      "Epoch 73/100, Train Loss: 0.9714, Val Loss: 1.0803\n",
      "Epoch 74/100, Train Loss: 0.9691, Val Loss: 0.9972\n",
      "Epoch 75/100, Train Loss: 0.9349, Val Loss: 1.2812\n",
      "Epoch 76/100, Train Loss: 1.0490, Val Loss: 1.7165\n",
      "Epoch 77/100, Train Loss: 1.1767, Val Loss: 1.0840\n",
      "Epoch 78/100, Train Loss: 0.9965, Val Loss: 1.0025\n",
      "Epoch 79/100, Train Loss: 0.9513, Val Loss: 0.9446\n",
      "Epoch 80/100, Train Loss: 1.0421, Val Loss: 1.2013\n",
      "Epoch 81/100, Train Loss: 1.0229, Val Loss: 1.0908\n",
      "Epoch 82/100, Train Loss: 0.9491, Val Loss: 0.9558\n",
      "Epoch 83/100, Train Loss: 0.9260, Val Loss: 1.0378\n",
      "Epoch 84/100, Train Loss: 0.9367, Val Loss: 1.0102\n",
      "Epoch 85/100, Train Loss: 0.9134, Val Loss: 0.9491\n",
      "Epoch 86/100, Train Loss: 0.8955, Val Loss: 0.9925\n",
      "Epoch 87/100, Train Loss: 0.8996, Val Loss: 1.0564\n",
      "Epoch 88/100, Train Loss: 0.9292, Val Loss: 0.9823\n",
      "Epoch 89/100, Train Loss: 0.9650, Val Loss: 1.0873\n",
      "Epoch 90/100, Train Loss: 0.9650, Val Loss: 1.0254\n",
      "Epoch 91/100, Train Loss: 0.9493, Val Loss: 0.9398\n",
      "Epoch 92/100, Train Loss: 0.9546, Val Loss: 0.9720\n",
      "Epoch 93/100, Train Loss: 0.9180, Val Loss: 1.0576\n",
      "Epoch 94/100, Train Loss: 0.9530, Val Loss: 0.9165\n",
      "Epoch 95/100, Train Loss: 0.9195, Val Loss: 0.9625\n",
      "Epoch 96/100, Train Loss: 0.8892, Val Loss: 1.0144\n",
      "Epoch 97/100, Train Loss: 0.9146, Val Loss: 1.0673\n",
      "Epoch 98/100, Train Loss: 0.9085, Val Loss: 0.9045\n",
      "Epoch 99/100, Train Loss: 0.9382, Val Loss: 0.9194\n",
      "Epoch 100/100, Train Loss: 0.8730, Val Loss: 0.9120\n"
     ]
    },
    {
     "data": {
      "text/html": [],
      "text/plain": [
       "<IPython.core.display.HTML object>"
      ]
     },
     "metadata": {},
     "output_type": "display_data"
    },
    {
     "data": {
      "text/html": [
       "<br>    <style><br>        .wandb-row {<br>            display: flex;<br>            flex-direction: row;<br>            flex-wrap: wrap;<br>            justify-content: flex-start;<br>            width: 100%;<br>        }<br>        .wandb-col {<br>            display: flex;<br>            flex-direction: column;<br>            flex-basis: 100%;<br>            flex: 1;<br>            padding: 10px;<br>        }<br>    </style><br><div class=\"wandb-row\"><div class=\"wandb-col\"><h3>Run history:</h3><br/><table class=\"wandb\"><tr><td>epoch</td><td>▁▁▁▁▂▂▂▂▃▃▃▃▃▃▃▄▄▄▄▄▅▅▅▅▅▅▅▅▅▆▆▇▇▇▇▇▇▇██</td></tr><tr><td>minimax_draw_rate</td><td>▁</td></tr><tr><td>minimax_loss_rate</td><td>▁</td></tr><tr><td>minimax_score</td><td>▁</td></tr><tr><td>minimax_win_rate</td><td>▁</td></tr><tr><td>random_draw_rate</td><td>▁</td></tr><tr><td>random_loss_rate</td><td>▁</td></tr><tr><td>random_score</td><td>▁</td></tr><tr><td>random_win_rate</td><td>▁</td></tr><tr><td>train_loss</td><td>█▂▂▂▂▁▁▁▁▁▁▁▁▁▁▁▁▁▁▁▁▁▁▁▁▁▁▁▁▁▁▁▁▁▁▁▁▁▁▁</td></tr><tr><td>train_policy_loss</td><td>█▅▄▃▃▂▂▂▂▂▂▂▂▁▁▁▁▁▁▁▁▁▁▁▁▁▁▁▁▁▁▁▁▁▁▁▁▁▁▁</td></tr><tr><td>train_value_loss</td><td>█▄▅▄▃▄▄▃▃▂▂▂▂▂▂▁▂▂▁▁▁▂▂▁▂▁▁▁▁▁▂▂▁▁▁▁▁▁▁▁</td></tr><tr><td>val_loss</td><td>███▅▆▅▆▅▃▅▆▃▃▃▂▄▃▃▂▂▃▂▁▂▁▂▂▂▂▂▃▂▁▂▅▁▂▁▁▁</td></tr><tr><td>val_policy_loss</td><td>█▄▄▃▃▃▃▂▂▂▂▂▂▂▂▁▂▁▁▁▁▁▁▁▁▁▁▁▁▁▁▁▁▁▁▁▁▁▁▁</td></tr><tr><td>val_value_loss</td><td>▃█▅▅▅▂▅▃▂▂▂▂▄▃▂▂▁▁▂▁▂▁▂▁▁▂▁▂▂▂▁▂▁▂▁▂▁▂▂▁</td></tr></table><br/></div><div class=\"wandb-col\"><h3>Run summary:</h3><br/><table class=\"wandb\"><tr><td>epoch</td><td>99</td></tr><tr><td>minimax_draw_rate</td><td>0.36</td></tr><tr><td>minimax_loss_rate</td><td>0.64</td></tr><tr><td>minimax_score</td><td>-0.64</td></tr><tr><td>minimax_win_rate</td><td>0</td></tr><tr><td>random_draw_rate</td><td>0.11</td></tr><tr><td>random_loss_rate</td><td>0.11</td></tr><tr><td>random_score</td><td>0.67</td></tr><tr><td>random_win_rate</td><td>0.78</td></tr><tr><td>train_loss</td><td>0.87298</td></tr><tr><td>train_policy_loss</td><td>0.66592</td></tr><tr><td>train_value_loss</td><td>0.20706</td></tr><tr><td>val_loss</td><td>0.91197</td></tr><tr><td>val_policy_loss</td><td>0.66519</td></tr><tr><td>val_value_loss</td><td>0.24677</td></tr></table><br/></div></div>"
      ],
      "text/plain": [
       "<IPython.core.display.HTML object>"
      ]
     },
     "metadata": {},
     "output_type": "display_data"
    },
    {
     "data": {
      "text/html": [
       " View run <strong style=\"color:#cdcd00\">clear-sweep-18</strong> at: <a href='https://wandb.ai/eigenway/AlphaZero-TicTacToe/runs/l1g9daww' target=\"_blank\">https://wandb.ai/eigenway/AlphaZero-TicTacToe/runs/l1g9daww</a><br> View project at: <a href='https://wandb.ai/eigenway/AlphaZero-TicTacToe' target=\"_blank\">https://wandb.ai/eigenway/AlphaZero-TicTacToe</a><br>Synced 5 W&B file(s), 0 media file(s), 0 artifact file(s) and 0 other file(s)"
      ],
      "text/plain": [
       "<IPython.core.display.HTML object>"
      ]
     },
     "metadata": {},
     "output_type": "display_data"
    },
    {
     "data": {
      "text/html": [
       "Find logs at: <code>./wandb/run-20250305_221802-l1g9daww/logs</code>"
      ],
      "text/plain": [
       "<IPython.core.display.HTML object>"
      ]
     },
     "metadata": {},
     "output_type": "display_data"
    },
    {
     "name": "stderr",
     "output_type": "stream",
     "text": [
      "\u001b[34m\u001b[1mwandb\u001b[0m: Agent Starting Run: 1vx4k5r6 with config:\n",
      "\u001b[34m\u001b[1mwandb\u001b[0m: \tactivation: relu\n",
      "\u001b[34m\u001b[1mwandb\u001b[0m: \tattention_layers: 2\n",
      "\u001b[34m\u001b[1mwandb\u001b[0m: \tbatch_size: 256\n",
      "\u001b[34m\u001b[1mwandb\u001b[0m: \tdropout: 0\n",
      "\u001b[34m\u001b[1mwandb\u001b[0m: \tembed_dim: 64\n",
      "\u001b[34m\u001b[1mwandb\u001b[0m: \tepochs: 100\n",
      "\u001b[34m\u001b[1mwandb\u001b[0m: \tfeedforward_dim: 256\n",
      "\u001b[34m\u001b[1mwandb\u001b[0m: \tlearning_rate: 0.004938899878639627\n",
      "\u001b[34m\u001b[1mwandb\u001b[0m: \tmask_illegal_moves: False\n",
      "\u001b[34m\u001b[1mwandb\u001b[0m: \tmask_value: -10\n",
      "\u001b[34m\u001b[1mwandb\u001b[0m: \tnorm_first: True\n",
      "\u001b[34m\u001b[1mwandb\u001b[0m: \tweight_decay: 0.005227006619051681\n"
     ]
    },
    {
     "data": {
      "text/html": [
       "Ignoring project 'AlphaZero-TicTacToe' when running a sweep."
      ],
      "text/plain": [
       "<IPython.core.display.HTML object>"
      ]
     },
     "metadata": {},
     "output_type": "display_data"
    },
    {
     "data": {
      "text/html": [
       "Tracking run with wandb version 0.19.6"
      ],
      "text/plain": [
       "<IPython.core.display.HTML object>"
      ]
     },
     "metadata": {},
     "output_type": "display_data"
    },
    {
     "data": {
      "text/html": [
       "Run data is saved locally in <code>/Users/eohjelle/Documents/2025-dots-and-boxes/dots-and-boxes/wandb/run-20250305_221858-1vx4k5r6</code>"
      ],
      "text/plain": [
       "<IPython.core.display.HTML object>"
      ]
     },
     "metadata": {},
     "output_type": "display_data"
    },
    {
     "data": {
      "text/html": [
       "Syncing run <strong><a href='https://wandb.ai/eigenway/AlphaZero-TicTacToe/runs/1vx4k5r6' target=\"_blank\">different-sweep-19</a></strong> to <a href='https://wandb.ai/eigenway/AlphaZero-TicTacToe' target=\"_blank\">Weights & Biases</a> (<a href='https://wandb.me/developer-guide' target=\"_blank\">docs</a>)<br>Sweep page: <a href='https://wandb.ai/eigenway/AlphaZero-TicTacToe/sweeps/mtjttrrq' target=\"_blank\">https://wandb.ai/eigenway/AlphaZero-TicTacToe/sweeps/mtjttrrq</a>"
      ],
      "text/plain": [
       "<IPython.core.display.HTML object>"
      ]
     },
     "metadata": {},
     "output_type": "display_data"
    },
    {
     "data": {
      "text/html": [
       " View project at <a href='https://wandb.ai/eigenway/AlphaZero-TicTacToe' target=\"_blank\">https://wandb.ai/eigenway/AlphaZero-TicTacToe</a>"
      ],
      "text/plain": [
       "<IPython.core.display.HTML object>"
      ]
     },
     "metadata": {},
     "output_type": "display_data"
    },
    {
     "data": {
      "text/html": [
       " View sweep at <a href='https://wandb.ai/eigenway/AlphaZero-TicTacToe/sweeps/mtjttrrq' target=\"_blank\">https://wandb.ai/eigenway/AlphaZero-TicTacToe/sweeps/mtjttrrq</a>"
      ],
      "text/plain": [
       "<IPython.core.display.HTML object>"
      ]
     },
     "metadata": {},
     "output_type": "display_data"
    },
    {
     "data": {
      "text/html": [
       " View run at <a href='https://wandb.ai/eigenway/AlphaZero-TicTacToe/runs/1vx4k5r6' target=\"_blank\">https://wandb.ai/eigenway/AlphaZero-TicTacToe/runs/1vx4k5r6</a>"
      ],
      "text/plain": [
       "<IPython.core.display.HTML object>"
      ]
     },
     "metadata": {},
     "output_type": "display_data"
    },
    {
     "name": "stdout",
     "output_type": "stream",
     "text": [
      "Epoch 1/100, Train Loss: 9.2560, Val Loss: 3.7246\n",
      "Epoch 2/100, Train Loss: 2.9562, Val Loss: 2.5630\n",
      "Epoch 3/100, Train Loss: 2.5048, Val Loss: 2.5525\n",
      "Epoch 4/100, Train Loss: 2.4067, Val Loss: 2.4658\n",
      "Epoch 5/100, Train Loss: 2.3297, Val Loss: 2.3991\n",
      "Epoch 6/100, Train Loss: 2.2680, Val Loss: 2.4064\n",
      "Epoch 7/100, Train Loss: 2.2802, Val Loss: 2.3091\n",
      "Epoch 8/100, Train Loss: 2.2331, Val Loss: 2.3145\n",
      "Epoch 9/100, Train Loss: 2.2019, Val Loss: 2.2319\n",
      "Epoch 10/100, Train Loss: 2.1736, Val Loss: 2.2747\n",
      "Epoch 11/100, Train Loss: 2.1491, Val Loss: 2.2042\n",
      "Epoch 12/100, Train Loss: 2.1006, Val Loss: 2.1545\n",
      "Epoch 13/100, Train Loss: 2.0693, Val Loss: 2.1373\n",
      "Epoch 14/100, Train Loss: 2.0818, Val Loss: 2.1185\n",
      "Epoch 15/100, Train Loss: 2.0592, Val Loss: 2.1113\n",
      "Epoch 16/100, Train Loss: 2.0501, Val Loss: 2.1163\n",
      "Epoch 17/100, Train Loss: 2.0578, Val Loss: 2.0843\n",
      "Epoch 18/100, Train Loss: 2.0341, Val Loss: 2.1088\n",
      "Epoch 19/100, Train Loss: 2.0632, Val Loss: 2.0964\n",
      "Epoch 20/100, Train Loss: 2.0302, Val Loss: 2.0801\n",
      "Epoch 21/100, Train Loss: 2.0372, Val Loss: 2.1659\n",
      "Epoch 22/100, Train Loss: 2.0309, Val Loss: 2.0710\n",
      "Epoch 23/100, Train Loss: 1.9236, Val Loss: 1.5896\n",
      "Epoch 24/100, Train Loss: 1.4445, Val Loss: 1.4494\n",
      "Epoch 25/100, Train Loss: 1.4262, Val Loss: 1.6097\n",
      "Epoch 26/100, Train Loss: 1.4101, Val Loss: 1.4209\n",
      "Epoch 27/100, Train Loss: 1.3195, Val Loss: 1.3395\n",
      "Epoch 28/100, Train Loss: 1.2312, Val Loss: 1.2862\n",
      "Epoch 29/100, Train Loss: 1.2119, Val Loss: 1.2473\n",
      "Epoch 30/100, Train Loss: 1.1713, Val Loss: 1.3094\n",
      "Epoch 31/100, Train Loss: 1.1603, Val Loss: 1.2326\n",
      "Epoch 32/100, Train Loss: 1.1199, Val Loss: 1.1888\n",
      "Epoch 33/100, Train Loss: 1.0902, Val Loss: 1.2951\n",
      "Epoch 34/100, Train Loss: 1.1554, Val Loss: 1.1791\n",
      "Epoch 35/100, Train Loss: 1.0802, Val Loss: 1.2316\n",
      "Epoch 36/100, Train Loss: 1.0279, Val Loss: 1.1398\n",
      "Epoch 37/100, Train Loss: 1.0200, Val Loss: 1.0753\n",
      "Epoch 38/100, Train Loss: 1.0068, Val Loss: 1.2218\n",
      "Epoch 39/100, Train Loss: 1.0015, Val Loss: 1.1017\n",
      "Epoch 40/100, Train Loss: 0.9714, Val Loss: 1.2215\n",
      "Epoch 41/100, Train Loss: 0.9656, Val Loss: 1.0280\n",
      "Epoch 42/100, Train Loss: 0.9558, Val Loss: 1.0211\n",
      "Epoch 43/100, Train Loss: 0.9352, Val Loss: 0.9966\n",
      "Epoch 44/100, Train Loss: 0.9027, Val Loss: 1.0343\n",
      "Epoch 45/100, Train Loss: 0.9035, Val Loss: 0.9745\n",
      "Epoch 46/100, Train Loss: 0.8727, Val Loss: 0.9831\n",
      "Epoch 47/100, Train Loss: 0.8671, Val Loss: 1.0696\n",
      "Epoch 48/100, Train Loss: 0.9076, Val Loss: 0.9808\n",
      "Epoch 49/100, Train Loss: 0.8684, Val Loss: 1.0168\n",
      "Epoch 50/100, Train Loss: 0.8655, Val Loss: 0.9713\n",
      "Epoch 51/100, Train Loss: 0.8474, Val Loss: 1.0138\n",
      "Epoch 52/100, Train Loss: 0.8702, Val Loss: 0.9804\n",
      "Epoch 53/100, Train Loss: 0.8394, Val Loss: 0.9515\n",
      "Epoch 54/100, Train Loss: 0.8310, Val Loss: 0.9871\n",
      "Epoch 55/100, Train Loss: 0.8445, Val Loss: 1.0472\n",
      "Epoch 56/100, Train Loss: 0.8809, Val Loss: 0.9332\n",
      "Epoch 57/100, Train Loss: 0.8239, Val Loss: 0.9221\n",
      "Epoch 58/100, Train Loss: 0.8051, Val Loss: 0.9229\n",
      "Epoch 59/100, Train Loss: 0.8050, Val Loss: 0.9413\n",
      "Epoch 60/100, Train Loss: 0.8156, Val Loss: 0.9107\n",
      "Epoch 61/100, Train Loss: 0.8063, Val Loss: 0.9059\n",
      "Epoch 62/100, Train Loss: 0.8047, Val Loss: 0.9577\n",
      "Epoch 63/100, Train Loss: 0.8137, Val Loss: 0.9177\n",
      "Epoch 64/100, Train Loss: 0.7966, Val Loss: 0.9181\n",
      "Epoch 65/100, Train Loss: 0.7931, Val Loss: 0.8822\n",
      "Epoch 66/100, Train Loss: 0.7835, Val Loss: 0.9006\n",
      "Epoch 67/100, Train Loss: 0.7711, Val Loss: 0.8864\n",
      "Epoch 68/100, Train Loss: 0.7898, Val Loss: 0.8918\n",
      "Epoch 69/100, Train Loss: 0.7707, Val Loss: 0.8978\n",
      "Epoch 70/100, Train Loss: 0.7584, Val Loss: 0.8752\n",
      "Epoch 71/100, Train Loss: 0.7559, Val Loss: 0.8941\n",
      "Epoch 72/100, Train Loss: 0.7620, Val Loss: 0.9039\n",
      "Epoch 73/100, Train Loss: 0.7888, Val Loss: 0.8745\n",
      "Epoch 74/100, Train Loss: 0.7847, Val Loss: 0.8654\n",
      "Epoch 75/100, Train Loss: 0.7944, Val Loss: 0.9131\n",
      "Epoch 76/100, Train Loss: 0.7790, Val Loss: 0.9935\n",
      "Epoch 77/100, Train Loss: 0.7746, Val Loss: 0.8570\n",
      "Epoch 78/100, Train Loss: 0.7707, Val Loss: 0.8933\n",
      "Epoch 79/100, Train Loss: 0.7671, Val Loss: 0.8815\n",
      "Epoch 80/100, Train Loss: 0.7539, Val Loss: 0.8967\n",
      "Epoch 81/100, Train Loss: 0.7439, Val Loss: 0.8482\n",
      "Epoch 82/100, Train Loss: 0.7281, Val Loss: 0.8767\n",
      "Epoch 83/100, Train Loss: 0.7588, Val Loss: 0.9114\n",
      "Epoch 84/100, Train Loss: 0.7657, Val Loss: 0.9159\n",
      "Epoch 85/100, Train Loss: 0.7945, Val Loss: 0.8953\n",
      "Epoch 86/100, Train Loss: 0.7938, Val Loss: 0.8692\n",
      "Epoch 87/100, Train Loss: 0.7425, Val Loss: 0.8650\n",
      "Epoch 88/100, Train Loss: 0.7356, Val Loss: 0.8203\n",
      "Epoch 89/100, Train Loss: 0.7526, Val Loss: 0.8574\n",
      "Epoch 90/100, Train Loss: 0.7501, Val Loss: 0.8914\n",
      "Epoch 91/100, Train Loss: 0.7434, Val Loss: 0.8677\n",
      "Epoch 92/100, Train Loss: 0.7579, Val Loss: 0.8562\n",
      "Epoch 93/100, Train Loss: 0.7595, Val Loss: 0.8907\n",
      "Epoch 94/100, Train Loss: 0.7502, Val Loss: 0.8564\n",
      "Epoch 95/100, Train Loss: 0.7421, Val Loss: 0.8748\n",
      "Epoch 96/100, Train Loss: 0.7522, Val Loss: 0.8943\n",
      "Epoch 97/100, Train Loss: 0.7544, Val Loss: 0.8512\n",
      "Epoch 98/100, Train Loss: 0.7400, Val Loss: 0.8468\n",
      "Epoch 99/100, Train Loss: 0.7480, Val Loss: 0.8771\n",
      "Epoch 100/100, Train Loss: 0.7794, Val Loss: 0.8730\n"
     ]
    },
    {
     "data": {
      "text/html": [],
      "text/plain": [
       "<IPython.core.display.HTML object>"
      ]
     },
     "metadata": {},
     "output_type": "display_data"
    },
    {
     "data": {
      "text/html": [
       "<br>    <style><br>        .wandb-row {<br>            display: flex;<br>            flex-direction: row;<br>            flex-wrap: wrap;<br>            justify-content: flex-start;<br>            width: 100%;<br>        }<br>        .wandb-col {<br>            display: flex;<br>            flex-direction: column;<br>            flex-basis: 100%;<br>            flex: 1;<br>            padding: 10px;<br>        }<br>    </style><br><div class=\"wandb-row\"><div class=\"wandb-col\"><h3>Run history:</h3><br/><table class=\"wandb\"><tr><td>epoch</td><td>▁▁▁▁▁▁▂▂▂▂▂▂▂▂▃▃▃▃▃▃▄▄▄▅▅▅▅▆▆▆▆▇▇▇▇▇▇███</td></tr><tr><td>minimax_draw_rate</td><td>▁</td></tr><tr><td>minimax_loss_rate</td><td>▁</td></tr><tr><td>minimax_score</td><td>▁</td></tr><tr><td>minimax_win_rate</td><td>▁</td></tr><tr><td>random_draw_rate</td><td>▁</td></tr><tr><td>random_loss_rate</td><td>▁</td></tr><tr><td>random_score</td><td>▁</td></tr><tr><td>random_win_rate</td><td>▁</td></tr><tr><td>train_loss</td><td>█▃▂▂▂▂▂▂▂▁▁▁▁▁▁▁▁▁▁▁▁▁▁▁▁▁▁▁▁▁▁▁▁▁▁▁▁▁▁▁</td></tr><tr><td>train_policy_loss</td><td>█▂▁▁▁▁▁▁▁▁▁▁▁▁▁▁▁▁▁▁▁▁▁▁▁▁▁▁▁▁▁▁▁▁▁▁▁▁▁▁</td></tr><tr><td>train_value_loss</td><td>█████████▄▃▃▃▂▂▂▂▂▂▂▂▁▂▁▁▁▁▁▁▁▁▁▁▁▁▁▁▁▁▁</td></tr><tr><td>val_loss</td><td>██▇▇▆▄▃▃▃▂▃▂▂▂▂▂▂▂▂▁▁▁▁▁▁▁▁▂▁▁▁▁▁▁▁▁▁▁▁▁</td></tr><tr><td>val_policy_loss</td><td>█▇▆▃▃▂▃▂▃▂▂▂▂▂▂▂▂▂▂▂▂▂▂▂▁▁▁▁▂▂▁▁▁▁▁▁▁▁▁▁</td></tr><tr><td>val_value_loss</td><td>█████████▄▄▃▃▃▃▂▂▂▂▂▂▁▁▁▁▁▁▁▁▁▁▁▁▁▁▁▁▁▁▁</td></tr></table><br/></div><div class=\"wandb-col\"><h3>Run summary:</h3><br/><table class=\"wandb\"><tr><td>epoch</td><td>99</td></tr><tr><td>minimax_draw_rate</td><td>0.42</td></tr><tr><td>minimax_loss_rate</td><td>0.58</td></tr><tr><td>minimax_score</td><td>-0.58</td></tr><tr><td>minimax_win_rate</td><td>0</td></tr><tr><td>random_draw_rate</td><td>0.08</td></tr><tr><td>random_loss_rate</td><td>0.15</td></tr><tr><td>random_score</td><td>0.62</td></tr><tr><td>random_win_rate</td><td>0.77</td></tr><tr><td>train_loss</td><td>0.7794</td></tr><tr><td>train_policy_loss</td><td>0.6323</td></tr><tr><td>train_value_loss</td><td>0.1471</td></tr><tr><td>val_loss</td><td>0.87296</td></tr><tr><td>val_policy_loss</td><td>0.69502</td></tr><tr><td>val_value_loss</td><td>0.17795</td></tr></table><br/></div></div>"
      ],
      "text/plain": [
       "<IPython.core.display.HTML object>"
      ]
     },
     "metadata": {},
     "output_type": "display_data"
    },
    {
     "data": {
      "text/html": [
       " View run <strong style=\"color:#cdcd00\">different-sweep-19</strong> at: <a href='https://wandb.ai/eigenway/AlphaZero-TicTacToe/runs/1vx4k5r6' target=\"_blank\">https://wandb.ai/eigenway/AlphaZero-TicTacToe/runs/1vx4k5r6</a><br> View project at: <a href='https://wandb.ai/eigenway/AlphaZero-TicTacToe' target=\"_blank\">https://wandb.ai/eigenway/AlphaZero-TicTacToe</a><br>Synced 5 W&B file(s), 0 media file(s), 0 artifact file(s) and 0 other file(s)"
      ],
      "text/plain": [
       "<IPython.core.display.HTML object>"
      ]
     },
     "metadata": {},
     "output_type": "display_data"
    },
    {
     "data": {
      "text/html": [
       "Find logs at: <code>./wandb/run-20250305_221858-1vx4k5r6/logs</code>"
      ],
      "text/plain": [
       "<IPython.core.display.HTML object>"
      ]
     },
     "metadata": {},
     "output_type": "display_data"
    },
    {
     "name": "stderr",
     "output_type": "stream",
     "text": [
      "\u001b[34m\u001b[1mwandb\u001b[0m: Agent Starting Run: iatpzvs4 with config:\n",
      "\u001b[34m\u001b[1mwandb\u001b[0m: \tactivation: relu\n",
      "\u001b[34m\u001b[1mwandb\u001b[0m: \tattention_layers: 2\n",
      "\u001b[34m\u001b[1mwandb\u001b[0m: \tbatch_size: 256\n",
      "\u001b[34m\u001b[1mwandb\u001b[0m: \tdropout: 0\n",
      "\u001b[34m\u001b[1mwandb\u001b[0m: \tembed_dim: 64\n",
      "\u001b[34m\u001b[1mwandb\u001b[0m: \tepochs: 100\n",
      "\u001b[34m\u001b[1mwandb\u001b[0m: \tfeedforward_dim: 256\n",
      "\u001b[34m\u001b[1mwandb\u001b[0m: \tlearning_rate: 0.009314506414361929\n",
      "\u001b[34m\u001b[1mwandb\u001b[0m: \tmask_illegal_moves: False\n",
      "\u001b[34m\u001b[1mwandb\u001b[0m: \tmask_value: -10\n",
      "\u001b[34m\u001b[1mwandb\u001b[0m: \tnorm_first: True\n",
      "\u001b[34m\u001b[1mwandb\u001b[0m: \tweight_decay: 0.008564587216366352\n"
     ]
    },
    {
     "data": {
      "text/html": [
       "Ignoring project 'AlphaZero-TicTacToe' when running a sweep."
      ],
      "text/plain": [
       "<IPython.core.display.HTML object>"
      ]
     },
     "metadata": {},
     "output_type": "display_data"
    },
    {
     "data": {
      "text/html": [
       "Tracking run with wandb version 0.19.6"
      ],
      "text/plain": [
       "<IPython.core.display.HTML object>"
      ]
     },
     "metadata": {},
     "output_type": "display_data"
    },
    {
     "data": {
      "text/html": [
       "Run data is saved locally in <code>/Users/eohjelle/Documents/2025-dots-and-boxes/dots-and-boxes/wandb/run-20250305_221959-iatpzvs4</code>"
      ],
      "text/plain": [
       "<IPython.core.display.HTML object>"
      ]
     },
     "metadata": {},
     "output_type": "display_data"
    },
    {
     "data": {
      "text/html": [
       "Syncing run <strong><a href='https://wandb.ai/eigenway/AlphaZero-TicTacToe/runs/iatpzvs4' target=\"_blank\">feasible-sweep-20</a></strong> to <a href='https://wandb.ai/eigenway/AlphaZero-TicTacToe' target=\"_blank\">Weights & Biases</a> (<a href='https://wandb.me/developer-guide' target=\"_blank\">docs</a>)<br>Sweep page: <a href='https://wandb.ai/eigenway/AlphaZero-TicTacToe/sweeps/mtjttrrq' target=\"_blank\">https://wandb.ai/eigenway/AlphaZero-TicTacToe/sweeps/mtjttrrq</a>"
      ],
      "text/plain": [
       "<IPython.core.display.HTML object>"
      ]
     },
     "metadata": {},
     "output_type": "display_data"
    },
    {
     "data": {
      "text/html": [
       " View project at <a href='https://wandb.ai/eigenway/AlphaZero-TicTacToe' target=\"_blank\">https://wandb.ai/eigenway/AlphaZero-TicTacToe</a>"
      ],
      "text/plain": [
       "<IPython.core.display.HTML object>"
      ]
     },
     "metadata": {},
     "output_type": "display_data"
    },
    {
     "data": {
      "text/html": [
       " View sweep at <a href='https://wandb.ai/eigenway/AlphaZero-TicTacToe/sweeps/mtjttrrq' target=\"_blank\">https://wandb.ai/eigenway/AlphaZero-TicTacToe/sweeps/mtjttrrq</a>"
      ],
      "text/plain": [
       "<IPython.core.display.HTML object>"
      ]
     },
     "metadata": {},
     "output_type": "display_data"
    },
    {
     "data": {
      "text/html": [
       " View run at <a href='https://wandb.ai/eigenway/AlphaZero-TicTacToe/runs/iatpzvs4' target=\"_blank\">https://wandb.ai/eigenway/AlphaZero-TicTacToe/runs/iatpzvs4</a>"
      ],
      "text/plain": [
       "<IPython.core.display.HTML object>"
      ]
     },
     "metadata": {},
     "output_type": "display_data"
    },
    {
     "name": "stdout",
     "output_type": "stream",
     "text": [
      "Epoch 1/100, Train Loss: 11.0705, Val Loss: 3.8094\n",
      "Epoch 2/100, Train Loss: 3.2318, Val Loss: 2.9071\n",
      "Epoch 3/100, Train Loss: 2.7688, Val Loss: 2.6740\n",
      "Epoch 4/100, Train Loss: 2.6211, Val Loss: 2.5917\n",
      "Epoch 5/100, Train Loss: 2.5301, Val Loss: 2.5288\n",
      "Epoch 6/100, Train Loss: 2.4512, Val Loss: 2.4905\n",
      "Epoch 7/100, Train Loss: 2.4145, Val Loss: 2.4508\n",
      "Epoch 8/100, Train Loss: 2.3718, Val Loss: 2.4364\n",
      "Epoch 9/100, Train Loss: 2.3665, Val Loss: 2.4406\n",
      "Epoch 10/100, Train Loss: 2.3735, Val Loss: 2.4477\n",
      "Epoch 11/100, Train Loss: 2.4767, Val Loss: 2.3892\n",
      "Epoch 12/100, Train Loss: 2.3481, Val Loss: 2.4120\n",
      "Epoch 13/100, Train Loss: 2.2975, Val Loss: 2.3960\n",
      "Epoch 14/100, Train Loss: 2.2553, Val Loss: 2.3768\n",
      "Epoch 15/100, Train Loss: 2.2289, Val Loss: 2.3078\n",
      "Epoch 16/100, Train Loss: 2.1832, Val Loss: 2.2432\n",
      "Epoch 17/100, Train Loss: 2.1455, Val Loss: 2.2407\n",
      "Epoch 18/100, Train Loss: 2.1329, Val Loss: 2.1885\n",
      "Epoch 19/100, Train Loss: 2.1081, Val Loss: 2.2843\n",
      "Epoch 20/100, Train Loss: 2.1207, Val Loss: 2.1623\n",
      "Epoch 21/100, Train Loss: 2.0604, Val Loss: 2.1440\n",
      "Epoch 22/100, Train Loss: 2.0457, Val Loss: 2.2168\n",
      "Epoch 23/100, Train Loss: 2.0369, Val Loss: 2.1630\n",
      "Epoch 24/100, Train Loss: 2.0441, Val Loss: 2.2193\n",
      "Epoch 25/100, Train Loss: 2.0668, Val Loss: 2.1943\n",
      "Epoch 26/100, Train Loss: 2.0578, Val Loss: 2.1378\n",
      "Epoch 27/100, Train Loss: 2.0568, Val Loss: 2.1648\n",
      "Epoch 28/100, Train Loss: 2.0281, Val Loss: 2.1506\n",
      "Epoch 29/100, Train Loss: 2.0454, Val Loss: 2.1941\n",
      "Epoch 30/100, Train Loss: 2.0399, Val Loss: 2.1653\n",
      "Epoch 31/100, Train Loss: 2.0451, Val Loss: 2.1851\n",
      "Epoch 32/100, Train Loss: 2.0754, Val Loss: 3.0018\n",
      "Epoch 33/100, Train Loss: 2.9723, Val Loss: 3.0121\n",
      "Epoch 34/100, Train Loss: 2.9782, Val Loss: 3.0449\n",
      "Epoch 35/100, Train Loss: 2.9621, Val Loss: 2.9985\n",
      "Epoch 36/100, Train Loss: 2.9713, Val Loss: 2.9983\n",
      "Epoch 37/100, Train Loss: 2.9386, Val Loss: 2.9992\n",
      "Epoch 38/100, Train Loss: 2.9511, Val Loss: 3.0045\n",
      "Epoch 39/100, Train Loss: 2.9585, Val Loss: 3.0390\n",
      "Epoch 40/100, Train Loss: 2.9449, Val Loss: 3.0147\n",
      "Epoch 41/100, Train Loss: 2.9519, Val Loss: 2.9990\n",
      "Epoch 42/100, Train Loss: 2.9519, Val Loss: 3.0108\n",
      "Epoch 43/100, Train Loss: 2.9401, Val Loss: 2.9933\n",
      "Epoch 44/100, Train Loss: 2.9251, Val Loss: 3.0045\n",
      "Epoch 45/100, Train Loss: 2.9529, Val Loss: 2.9973\n",
      "Epoch 46/100, Train Loss: 2.9424, Val Loss: 2.9831\n",
      "Epoch 47/100, Train Loss: 2.9475, Val Loss: 3.0532\n",
      "Epoch 48/100, Train Loss: 2.9610, Val Loss: 3.0001\n",
      "Epoch 49/100, Train Loss: 2.9695, Val Loss: 2.9899\n",
      "Epoch 50/100, Train Loss: 2.7640, Val Loss: 2.1894\n",
      "Epoch 51/100, Train Loss: 2.0542, Val Loss: 2.1338\n",
      "Epoch 52/100, Train Loss: 2.0136, Val Loss: 2.0938\n",
      "Epoch 53/100, Train Loss: 2.0128, Val Loss: 2.1110\n",
      "Epoch 54/100, Train Loss: 2.0201, Val Loss: 2.1041\n",
      "Epoch 55/100, Train Loss: 2.0172, Val Loss: 2.1312\n",
      "Epoch 56/100, Train Loss: 2.0038, Val Loss: 2.1155\n",
      "Epoch 57/100, Train Loss: 1.9901, Val Loss: 2.1174\n",
      "Epoch 58/100, Train Loss: 1.9986, Val Loss: 2.1334\n",
      "Epoch 59/100, Train Loss: 2.0103, Val Loss: 2.1138\n",
      "Epoch 60/100, Train Loss: 2.0131, Val Loss: 2.1072\n",
      "Epoch 61/100, Train Loss: 1.9833, Val Loss: 2.1341\n",
      "Epoch 62/100, Train Loss: 1.9905, Val Loss: 2.1103\n",
      "Epoch 63/100, Train Loss: 1.9851, Val Loss: 2.1160\n",
      "Epoch 64/100, Train Loss: 2.0075, Val Loss: 2.1136\n",
      "Epoch 65/100, Train Loss: 2.0024, Val Loss: 2.1109\n",
      "Epoch 66/100, Train Loss: 2.0034, Val Loss: 2.1109\n",
      "Epoch 67/100, Train Loss: 2.0032, Val Loss: 2.1070\n",
      "Epoch 68/100, Train Loss: 1.9964, Val Loss: 2.1162\n",
      "Epoch 69/100, Train Loss: 1.9967, Val Loss: 2.1177\n",
      "Epoch 70/100, Train Loss: 1.9919, Val Loss: 2.1059\n",
      "Epoch 71/100, Train Loss: 1.9910, Val Loss: 2.1064\n",
      "Epoch 72/100, Train Loss: 1.9977, Val Loss: 2.1229\n",
      "Epoch 73/100, Train Loss: 1.9873, Val Loss: 2.0874\n",
      "Epoch 74/100, Train Loss: 1.9927, Val Loss: 1.6615\n",
      "Epoch 75/100, Train Loss: 1.5540, Val Loss: 1.4240\n",
      "Epoch 76/100, Train Loss: 1.3961, Val Loss: 1.3327\n",
      "Epoch 77/100, Train Loss: 1.3112, Val Loss: 1.2762\n",
      "Epoch 78/100, Train Loss: 1.2175, Val Loss: 1.3171\n",
      "Epoch 79/100, Train Loss: 1.2055, Val Loss: 1.2400\n",
      "Epoch 80/100, Train Loss: 1.2037, Val Loss: 1.2811\n",
      "Epoch 81/100, Train Loss: 1.1211, Val Loss: 1.1367\n",
      "Epoch 82/100, Train Loss: 1.0651, Val Loss: 1.2256\n",
      "Epoch 83/100, Train Loss: 1.0885, Val Loss: 1.1243\n",
      "Epoch 84/100, Train Loss: 1.0493, Val Loss: 1.0824\n",
      "Epoch 85/100, Train Loss: 1.0568, Val Loss: 1.0991\n",
      "Epoch 86/100, Train Loss: 0.9974, Val Loss: 1.0138\n",
      "Epoch 87/100, Train Loss: 0.9902, Val Loss: 1.1700\n",
      "Epoch 88/100, Train Loss: 1.0337, Val Loss: 1.0875\n",
      "Epoch 89/100, Train Loss: 1.0146, Val Loss: 1.0877\n",
      "Epoch 90/100, Train Loss: 0.9934, Val Loss: 1.0132\n",
      "Epoch 91/100, Train Loss: 0.9732, Val Loss: 1.0204\n",
      "Epoch 92/100, Train Loss: 0.9805, Val Loss: 1.0285\n",
      "Epoch 93/100, Train Loss: 0.9665, Val Loss: 1.0511\n",
      "Epoch 94/100, Train Loss: 0.9711, Val Loss: 1.0136\n",
      "Epoch 95/100, Train Loss: 0.9376, Val Loss: 0.9778\n",
      "Epoch 96/100, Train Loss: 0.9203, Val Loss: 0.9874\n",
      "Epoch 97/100, Train Loss: 0.9162, Val Loss: 0.9646\n",
      "Epoch 98/100, Train Loss: 0.9151, Val Loss: 1.0349\n",
      "Epoch 99/100, Train Loss: 0.9136, Val Loss: 0.9951\n",
      "Epoch 100/100, Train Loss: 0.9159, Val Loss: 0.9326\n"
     ]
    },
    {
     "data": {
      "text/html": [],
      "text/plain": [
       "<IPython.core.display.HTML object>"
      ]
     },
     "metadata": {},
     "output_type": "display_data"
    },
    {
     "data": {
      "text/html": [
       "<br>    <style><br>        .wandb-row {<br>            display: flex;<br>            flex-direction: row;<br>            flex-wrap: wrap;<br>            justify-content: flex-start;<br>            width: 100%;<br>        }<br>        .wandb-col {<br>            display: flex;<br>            flex-direction: column;<br>            flex-basis: 100%;<br>            flex: 1;<br>            padding: 10px;<br>        }<br>    </style><br><div class=\"wandb-row\"><div class=\"wandb-col\"><h3>Run history:</h3><br/><table class=\"wandb\"><tr><td>epoch</td><td>▁▁▁▁▁▂▂▂▂▂▃▃▃▄▄▄▄▄▄▅▅▅▆▆▆▆▆▆▇▇▇▇▇▇▇█████</td></tr><tr><td>minimax_draw_rate</td><td>▁</td></tr><tr><td>minimax_loss_rate</td><td>▁</td></tr><tr><td>minimax_score</td><td>▁</td></tr><tr><td>minimax_win_rate</td><td>▁</td></tr><tr><td>random_draw_rate</td><td>▁</td></tr><tr><td>random_loss_rate</td><td>▁</td></tr><tr><td>random_score</td><td>▁</td></tr><tr><td>random_win_rate</td><td>▁</td></tr><tr><td>train_loss</td><td>▇▇▆▆▆▆▆▆▅▅▅▅▅▅▅██████▇▅▅▅▅▅▅▅▅▅▃▂▂▂▁▁▁▁▁</td></tr><tr><td>train_policy_loss</td><td>█▅▅▄▃▃▃▂▂▂▁▁▁▁▁▁▁▁▁▁▁▁▁▁▁▁▁▁▁▁▁▁▂▁▁▁▁▁▁▁</td></tr><tr><td>train_value_loss</td><td>▅▅▅▅▅▅▅▅▅▅▅▅▅████▅▅▅▅▅▅▅▅▅▅▅▅▃▂▂▂▂▂▁▁▁▁▁</td></tr><tr><td>val_loss</td><td>▇▆▆▆▆▅▅▅▅▅▅▅▅████████▅▅▅▅▅▅▅▅▃▂▂▂▁▂▁▁▁▁▁</td></tr><tr><td>val_policy_loss</td><td>█▄▃▂▂▂▂▂▁▁▁▁▁▁▁▁▁▁▁▁▁▁▁▁▁▁▁▁▁▁▁▁▁▁▁▁▁▁▁▁</td></tr><tr><td>val_value_loss</td><td>▅▅▅▅▅▅▅▅▅▅▅▅█████▅▅▅▅▅▅▅▅▅▅▄▂▂▂▂▂▂▁▁▁▁▁▁</td></tr></table><br/></div><div class=\"wandb-col\"><h3>Run summary:</h3><br/><table class=\"wandb\"><tr><td>epoch</td><td>99</td></tr><tr><td>minimax_draw_rate</td><td>0.31</td></tr><tr><td>minimax_loss_rate</td><td>0.69</td></tr><tr><td>minimax_score</td><td>-0.69</td></tr><tr><td>minimax_win_rate</td><td>0</td></tr><tr><td>random_draw_rate</td><td>0.1</td></tr><tr><td>random_loss_rate</td><td>0.16</td></tr><tr><td>random_score</td><td>0.58</td></tr><tr><td>random_win_rate</td><td>0.74</td></tr><tr><td>train_loss</td><td>0.91586</td></tr><tr><td>train_policy_loss</td><td>0.6646</td></tr><tr><td>train_value_loss</td><td>0.25126</td></tr><tr><td>val_loss</td><td>0.93257</td></tr><tr><td>val_policy_loss</td><td>0.70778</td></tr><tr><td>val_value_loss</td><td>0.22479</td></tr></table><br/></div></div>"
      ],
      "text/plain": [
       "<IPython.core.display.HTML object>"
      ]
     },
     "metadata": {},
     "output_type": "display_data"
    },
    {
     "data": {
      "text/html": [
       " View run <strong style=\"color:#cdcd00\">feasible-sweep-20</strong> at: <a href='https://wandb.ai/eigenway/AlphaZero-TicTacToe/runs/iatpzvs4' target=\"_blank\">https://wandb.ai/eigenway/AlphaZero-TicTacToe/runs/iatpzvs4</a><br> View project at: <a href='https://wandb.ai/eigenway/AlphaZero-TicTacToe' target=\"_blank\">https://wandb.ai/eigenway/AlphaZero-TicTacToe</a><br>Synced 5 W&B file(s), 0 media file(s), 0 artifact file(s) and 0 other file(s)"
      ],
      "text/plain": [
       "<IPython.core.display.HTML object>"
      ]
     },
     "metadata": {},
     "output_type": "display_data"
    },
    {
     "data": {
      "text/html": [
       "Find logs at: <code>./wandb/run-20250305_221959-iatpzvs4/logs</code>"
      ],
      "text/plain": [
       "<IPython.core.display.HTML object>"
      ]
     },
     "metadata": {},
     "output_type": "display_data"
    }
   ],
   "source": [
    "# Start the sweep\n",
    "sweep_id = wandb.sweep(sweep_config, project=\"AlphaZero-TicTacToe\")\n",
    "print(f\"Sweep ID: {sweep_id}\")\n",
    "wandb.agent(sweep_id, function=sweep_agent, count=20) \n",
    "wandb.finish()"
   ]
  }
 ],
 "metadata": {
  "kernelspec": {
   "display_name": "dots-and-boxes",
   "language": "python",
   "name": "python3"
  },
  "language_info": {
   "codemirror_mode": {
    "name": "ipython",
    "version": 3
   },
   "file_extension": ".py",
   "mimetype": "text/x-python",
   "name": "python",
   "nbconvert_exporter": "python",
   "pygments_lexer": "ipython3",
   "version": "3.13.1"
  }
 },
 "nbformat": 4,
 "nbformat_minor": 2
}
