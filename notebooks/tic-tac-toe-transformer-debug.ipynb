{
 "cells": [
  {
   "cell_type": "markdown",
   "metadata": {},
   "source": [
    "Transformer based model for tic tac toe stagnates before reaching same performance as MLP. In some cases it gets to similar loss but not the same performance.\n",
    "\n",
    "Suggestions:\n",
    "\n",
    "- There is an issue with the transformer model being too large/complicated for a simple tic tac toe game. I can't reject this as an option but I don't understand why it would be a problem.\n",
    "- "
   ]
  }
 ],
 "metadata": {
  "kernelspec": {
   "display_name": "dots-and-boxes",
   "language": "python",
   "name": "python3"
  },
  "language_info": {
   "name": "python",
   "version": "3.13.1"
  }
 },
 "nbformat": 4,
 "nbformat_minor": 2
}
